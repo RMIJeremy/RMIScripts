{
 "cells": [
  {
   "cell_type": "code",
   "execution_count": 1,
   "id": "f947cfda",
   "metadata": {},
   "outputs": [
    {
     "name": "stdout",
     "output_type": "stream",
     "text": [
      "Requirement already satisfied: pywin32 in c:\\users\\jwendt\\appdata\\local\\anaconda3\\envs\\new_env_name\\lib\\site-packages (305.1)\n",
      "Note: you may need to restart the kernel to use updated packages.\n"
     ]
    }
   ],
   "source": [
    "pip install pywin32"
   ]
  },
  {
   "cell_type": "markdown",
   "id": "6a2c05be",
   "metadata": {},
   "source": [
    "# Instructions!!"
   ]
  },
  {
   "cell_type": "code",
   "execution_count": 2,
   "id": "e6e34533",
   "metadata": {},
   "outputs": [],
   "source": [
    "# Update 'allocatedcosts' file with data from Prelim and/or Final run.  Update \"Currentmonthandyear\", \"Month\", and \"Type\" and then update the email template from prelim to final language or vice versa\n",
    "\n",
    "#Then run!"
   ]
  },
  {
   "cell_type": "code",
   "execution_count": 3,
   "id": "866b1eaa",
   "metadata": {},
   "outputs": [],
   "source": [
    "import os\n",
    "import win32com.client"
   ]
  },
  {
   "cell_type": "code",
   "execution_count": 4,
   "id": "d4501e3c",
   "metadata": {},
   "outputs": [],
   "source": [
    "outlook = win32com.client.Dispatch('outlook.application')"
   ]
  },
  {
   "cell_type": "code",
   "execution_count": null,
   "id": "9a210e3d",
   "metadata": {},
   "outputs": [],
   "source": []
  },
  {
   "cell_type": "code",
   "execution_count": 5,
   "id": "35ad6deb",
   "metadata": {},
   "outputs": [],
   "source": [
    "import datetime\n",
    "targetmonth = datetime.datetime(2024, 9, 1)\n",
    "\n",
    "currentmonthandyear = '9/2024'\n",
    "\n",
    "month = 'September'"
   ]
  },
  {
   "cell_type": "code",
   "execution_count": 6,
   "id": "29d4bcf5",
   "metadata": {},
   "outputs": [
    {
     "data": {
      "text/plain": [
       "'Sep-2024'"
      ]
     },
     "execution_count": 6,
     "metadata": {},
     "output_type": "execute_result"
    }
   ],
   "source": [
    "timestampreport = targetmonth.strftime(\"%b-%Y\")\n",
    "\n",
    "timestampreport"
   ]
  },
  {
   "cell_type": "code",
   "execution_count": 7,
   "id": "092ba181",
   "metadata": {},
   "outputs": [],
   "source": [
    "#Type = 'PRELIMINARY'\n"
   ]
  },
  {
   "cell_type": "code",
   "execution_count": 8,
   "id": "bbede34d",
   "metadata": {},
   "outputs": [],
   "source": [
    "Type = 'FINAL'\n"
   ]
  },
  {
   "cell_type": "code",
   "execution_count": 9,
   "id": "c5d8f712",
   "metadata": {},
   "outputs": [],
   "source": [
    "Subject = Type + ' Time Reports ' + month"
   ]
  },
  {
   "cell_type": "code",
   "execution_count": 10,
   "id": "f538e48d",
   "metadata": {},
   "outputs": [],
   "source": [
    "filename = ' - Program Time Report - CONFIDENTIAL - '+Type+'.xlsx'"
   ]
  },
  {
   "cell_type": "code",
   "execution_count": 11,
   "id": "4e9ede92",
   "metadata": {},
   "outputs": [],
   "source": [
    "import pandas as pd\n",
    "import numpy as np\n",
    "import openpyxl\n",
    "from openpyxl import load_workbook\n",
    "from openpyxl.styles import Font\n",
    "from openpyxl.styles import Alignment\n",
    "from openpyxl.styles.borders import Border, Side"
   ]
  },
  {
   "cell_type": "code",
   "execution_count": 12,
   "id": "3e581c90",
   "metadata": {},
   "outputs": [],
   "source": [
    "allocatedcosts = './Outputs/ALLcostsAllocatedwACCRUALS_FINAL'+Type+timestampreport+'.xlsx'\n",
    "\n",
    "\n",
    "\n",
    "allocated = pd.read_excel(allocatedcosts, engine='openpyxl')"
   ]
  },
  {
   "cell_type": "code",
   "execution_count": 13,
   "id": "e3555b6a",
   "metadata": {},
   "outputs": [],
   "source": [
    "def return_total_Admin(x):\n",
    "    data = allocated[allocated['Worker Cost Center']==x]\n",
    "    data2 = data[data['Project or Admin']=='Admin']\n",
    "    data3 = data2['Total Cost'].sum()\n",
    "    data4 = '${:,.0f}'.format(data3)\n",
    "    return data4\n",
    "\n"
   ]
  },
  {
   "cell_type": "code",
   "execution_count": 14,
   "id": "ed22a8d1",
   "metadata": {},
   "outputs": [],
   "source": [
    "def return_FINAL_admin(x):\n",
    "    data = allocated[allocated['File']=='FINAL']\n",
    "    data1 = data[data['Worker Cost Center']==x]\n",
    "    data2 = data1[data1['Project or Admin']=='Admin']\n",
    "    data3 = data2['Total Cost'].sum()\n",
    "    data4 = '${:,.0f}'.format(data3)\n",
    "    return data4"
   ]
  },
  {
   "cell_type": "code",
   "execution_count": 15,
   "id": "cdf715dd",
   "metadata": {},
   "outputs": [],
   "source": [
    "def return_SAVINGS_admin(x):\n",
    "    data = allocated[allocated['File']=='PRELIMINARY']\n",
    "    data1 = data[data['Worker Cost Center']==x]\n",
    "    data2 = data1[data1['Project or Admin']=='Admin']\n",
    "    data3 = data2['Total Cost'].sum()\n",
    "    fdata = allocated[allocated['File']=='FINAL']\n",
    "    fdata1 = fdata[fdata['Worker Cost Center']==x]\n",
    "    fdata2 = fdata1[fdata1['Project or Admin']=='Admin']\n",
    "    fdata3 = fdata2['Total Cost'].sum()\n",
    "    savingsdata = data3 - fdata3\n",
    "    savings = '${:,.0f}'.format(savingsdata)\n",
    "    return savings"
   ]
  },
  {
   "cell_type": "code",
   "execution_count": 16,
   "id": "b1fec798",
   "metadata": {},
   "outputs": [],
   "source": [
    "path = './Outputs/ProgramReports/'\n"
   ]
  },
  {
   "cell_type": "code",
   "execution_count": 17,
   "id": "8f937f12",
   "metadata": {},
   "outputs": [],
   "source": [
    "#USE THIS VERSION FOR PRELIM\n",
    "\n",
    "#def returntext(i):\n",
    "#    textforemail = 'Good Morning, \\r\\n\\nAttached are the preliminary time keeping reports for ' + month +'.  \\r\\nPlease utilize these reports to identify missing timesheets or other timesheet updates that can be made for catchup '+ month + ' Timekeeping. Timekeeping will be open for adjustments on 10/8/24.  \\r\\nIf you would like to expand the distribution list of this report to others on your team, please have your MD send an email to jwendt@rmi.org making that request.  \\r\\nThank you, \\r\\n\\n -Jeremy'\n",
    "#    return textforemail"
   ]
  },
  {
   "cell_type": "code",
   "execution_count": 18,
   "id": "26ddc193",
   "metadata": {},
   "outputs": [],
   "source": [
    "#USE THIS VERSION FOR PRELIM\n",
    "\n",
    "#def returntext(i):\n",
    "#    textforemail = 'Good Afternoon, \\r\\n\\nAttached are the preliminary time keeping reports for ' + month +'.  Currently, ' +  str(i) + ' would use '+ return_total_Admin(i) +' of cost to Admin through the ' + month +' close if the Salary Costing Allocations were run today.  \\r\\nPlease utilize these reports to identify missing timesheets or other timesheet updates that can be made in your program when Workday opens up for catchup '+ month + ' Timekeeping on 5/8/24.  \\r\\nIf you would like to expand the distribution list of this report to others on your team, please have your MD send an email to jwendt@rmi.org making that request.  \\r\\nThank you, \\r\\n\\n -Jeremy'\n",
    "#    return textforemail"
   ]
  },
  {
   "cell_type": "code",
   "execution_count": 19,
   "id": "e66722de",
   "metadata": {},
   "outputs": [],
   "source": [
    "#Use THIS VERSION FOR FINAL if you want to advertise savings\n",
    "\n",
    "#def returntext(i):\n",
    "#    textforemail = 'Good Morning, \\r\\n\\nAttached are the FINAL time keeping reports for ' + month +'.  Please refer to the \"Guide\" tab for instructions on how to read this report.  In '+ month + ', the Salary Costing Methodology booked '+ return_FINAL_admin(i) +' of cost to Admin for '+  str(i)+'.  The additional time input to Workday on 1/9/24 moved '+return_SAVINGS_admin(i)+' of Admin time to Project time for '+str(i)+'.\\r\\nThank you, \\r\\n\\n -Jeremy'\n",
    "#    return textforemail"
   ]
  },
  {
   "cell_type": "code",
   "execution_count": null,
   "id": "ce52e068",
   "metadata": {},
   "outputs": [],
   "source": []
  },
  {
   "cell_type": "code",
   "execution_count": 20,
   "id": "80c8622d",
   "metadata": {},
   "outputs": [],
   "source": [
    "#Use THIS VERSION FOR FINAL if you don't want to advertise savings\n",
    "def returntext(i):\n",
    "    textforemail = 'Good Afternoon, \\r\\n\\nAttached are the FINAL time keeping reports for ' + month +'.\\r\\n\\nThis month, we have done the PTO Banking as we did last month, but we also completed the retroactive reclass of remaining Q1 PTO time to the PTO Bank. You can see the results of this calculation in the \"Q1 PTO Bank Usage by Program\" tab. \\r\\nThank you, \\r\\n\\n -Jeremy'\n",
    "    return textforemail"
   ]
  },
  {
   "cell_type": "code",
   "execution_count": 21,
   "id": "cc3f74be",
   "metadata": {},
   "outputs": [],
   "source": [
    "\n",
    "def email_attachment(addresses, attachment, Program):\n",
    "    mail = outlook.CreateItem(0)\n",
    "    mail.To = addresses\n",
    "    mail.Subject = Subject\n",
    "    mail.HTMLBody = '<h3>'+ returntext(Program) + '</h3>'\n",
    "    mail.Body = returntext(Program)\n",
    "    mail.Attachments.Add(attachment)\n",
    "#    mail.CC = 'tlutz@rmi.org'\n",
    "    mail.Send()\n",
    "\n",
    "    "
   ]
  },
  {
   "cell_type": "code",
   "execution_count": 22,
   "id": "170e3720",
   "metadata": {},
   "outputs": [],
   "source": [
    "test_group = ['jeremy.h.wendt@gmail.com']\n",
    "D3_group = ['crosen@third-derivative.org', 'christi.widmar@rmi.org', 'rnanavatty@rmi.org']\n",
    "CFB_group = ['spaciorek@rmi.org', 'mrichard@rmi.org', 'kraley@rmi.org', 'jessica.ciemniecki@rmi.org', 'mhenchen@rmi.org', 'daniel.scullin@rmi.org']\n",
    "CFM_group = ['ian.peters@rmi.org', 'cstranger@rmi.org']\n",
    "China_group = ['qsun@rmi.org', 'yhao@RMI.org', 'andrea.peng@rmi.org', 'tingli@rmi.org']\n",
    "CAI_group = ['goneill@rmi.org', 'ecarvell@rmi.org', 'megan.dearden@rmi.org', 'bfisher@rmi.org']\n",
    "CI_group = ['agensterblum@RMI.org', 'zlittle@rmi.org', 'jhenretig@rmi.org']\n",
    "Dev_group = ['gyang@rmi.org']\n",
    "GS_group = ['sbackstrom@RMI.org', 'iokeke@rmi.org']\n",
    "Islands_group = ['sbackstrom@RMI.org', 'msteege@rmi.org', 'kbunker@rmi.org', 'ldemarez@rmi.org', 'jlocke@rmi.org', 'iokeke@rmi.org', 'dgumbs@rmi.org', 'shubha.rao@rmi.org']\n",
    "SEAsia_Group = ['esantana@rmi.org', 'wini.rizkiningayu@rmi.org', 'jlocke@rmi.org', 'iokeke@rmi.org', 'sbackstrom@RMI.org']\n",
    "Africa_Group = ['sbackstrom@RMI.org', 'aschwartze@rmi.org', 'ssantana@rmi.org', 'jlocke@rmi.org', 'iokeke@rmi.org']\n",
    "ETA_Group = ['sbackstrom@RMI.org','lriegler@rmi.org', 'jmeyer@rmi.org', 'jlocke@rmi.org', 'iokeke@rmi.org']\n",
    "CFAN_Group = ['sbackstrom@RMI.org','tsmith@RMI.org', 'ldemarez@rmi.org', 'jlocke@rmi.org', 'iokeke@rmi.org','kbunker@rmi.org']\n",
    "Super_teamGroup = ['mdyson@rmi.org', 'kcalhoun@rmi.org', 'sandy.sechang@rmi.org', 'iokeke@rmi.org']\n",
    "\n",
    "Finance_group = ['bohanlon@rmi.org', 'kcrouch-hess@rmi.org', 'gabrielle.couderc@rmi.org', 'emilywhite@rmi.org']\n",
    "India_group = ['mabramczyk@rmi.org', 'aghate@rmi.org', 'cstranger@rmi.org', 'ariana.gould@rmi.org']\n",
    "SAE_group = ['emilywhite@rmi.org', 'lhansen@rmi.org', 'cbloch@rmi.org']\n",
    "UT_group = ['capria.jaussen@rmi.org', 'rnanavatty@rmi.org', 'bholland@rmi.org']\n",
    "US_group = ['lguccione@rmi.org', 'capria.jaussen@rmi.org', 'jcorvidae@rmi.org']\n",
    "CFE_group = ['mdyson@rmi.org', 'clingham@rmi.org', 'sandy.sechang@rmi.org',  'clare.mengebier@rmi.org']\n",
    "#Canary_group = ['relkins@rmi.org']\n",
    "Comms_Group = ['cpede@rmi.org', 'kfrank@rmi.org','tlutz@rmi.org', 'dcappiello@rmi.org']\n",
    "#HR_Group = ['krogers@rmi.org', 'lmeurs@rmi.org']\n",
    "#Tech_Group = ['bleach@rmi.org']\n",
    "Voyager_Group = ['mrichard@rmi.org']"
   ]
  },
  {
   "cell_type": "code",
   "execution_count": 23,
   "id": "c74f0914",
   "metadata": {},
   "outputs": [],
   "source": [
    "#for i in test_group:\n",
    "#        email_attachment(i, os.path.abspath(path+ 'Carbon-Free Transportation'+' - ' + timestampreport + filename), 'Carbon-Free Transportation')"
   ]
  },
  {
   "cell_type": "code",
   "execution_count": 24,
   "id": "2d16f8fd",
   "metadata": {},
   "outputs": [],
   "source": [
    "\n",
    "for i in D3_group:\n",
    "        email_attachment(i, os.path.abspath(path+ '\\\\Third Derivative'+' - ' + timestampreport + filename), 'Third Derivative')\n",
    "\n",
    "for i in CFB_group:\n",
    "        email_attachment(i, os.path.abspath(path+ '\\\\Carbon-Free Buildings'+' - ' + timestampreport + filename), 'Carbon-Free Buildings')\n",
    "\n",
    "for i in CFM_group:\n",
    "        email_attachment(i, os.path.abspath(path+ '\\\\Carbon-Free Transportation'+' - ' + timestampreport + filename), 'Carbon-Free Transportation')\n",
    "\n",
    "for i in China_group:\n",
    "        email_attachment(i, os.path.abspath(path+ '\\\\China'+' - ' + timestampreport + filename), 'China')\n",
    "\n",
    "for i in CAI_group:\n",
    "        email_attachment(i, os.path.abspath(path+ '\\\\Climate Aligned Industries'+' - ' + timestampreport + filename), 'Climate Aligned Industries')\n",
    "\n",
    "for i in CI_group:\n",
    "        email_attachment(i, os.path.abspath(path+ '\\\\Climate Intelligence'+' - ' + timestampreport + filename), 'Climate Intelligence')\n",
    "\n",
    "for i in Finance_group:\n",
    "        email_attachment(i, os.path.abspath(path+ '\\\\Finance'+' - ' + timestampreport + filename), 'Finance')\n",
    "\n",
    "for i in India_group:\n",
    "        email_attachment(i, os.path.abspath(path+ '\\\\India'+' - ' + timestampreport + filename), 'India')\n",
    "\n",
    "for i in SAE_group:\n",
    "        email_attachment(i, os.path.abspath(path+ '\\\\Strategy Team'+' - ' + timestampreport + filename), 'Strategy Team')\n",
    "\n",
    "\n",
    "\n",
    "for i in US_group:\n",
    "        email_attachment(i, os.path.abspath(path+ '\\\\US'+' - ' + timestampreport + filename), 'US')\n",
    "\n",
    "\n",
    "\n",
    "for i in Comms_Group:\n",
    "        email_attachment(i, os.path.abspath(path+ '\\\\Influence Team'+' - ' + timestampreport + filename), 'Influence Team')\n",
    "\n",
    "\n",
    "for i in CFE_group:\n",
    "        email_attachment(i, os.path.abspath(path+ '\\\\Carbon-Free Electricity'+' - ' + timestampreport + filename), 'Carbon-Free Electricity')\n",
    "        \n",
    "for i in Africa_Group:\n",
    "        email_attachment(i, os.path.abspath(path+ '\\\\Africa'+' - ' + timestampreport + filename), 'Africa')\n",
    "\n",
    "for i in CFAN_Group:\n",
    "        email_attachment(i, os.path.abspath(path+ '\\\\Climate Finance Access Network'+' - ' + timestampreport + filename), 'Climate Finance Access Network')\n",
    "\n",
    "for i in ETA_Group:\n",
    "        email_attachment(i, os.path.abspath(path+ '\\\\Energy Transition Academy'+' - ' + timestampreport + filename), 'Energy Transition Academy')\n",
    "\n",
    "for i in SEAsia_Group:\n",
    "        email_attachment(i, os.path.abspath(path+ '\\\\SE Asia'+' - ' + timestampreport + filename), 'SE Asia')\n",
    "\n",
    "\n",
    "\n",
    "\n",
    "for i in GS_group:\n",
    "        email_attachment(i, os.path.abspath(path+ '\\\\Global South'+' - ' + timestampreport + filename), 'Global South')\n",
    "        \n",
    "for i in Islands_group:\n",
    "        email_attachment(i, os.path.abspath(path+ '\\\\Islands'+' - ' + timestampreport + filename), 'Islands')"
   ]
  },
  {
   "cell_type": "code",
   "execution_count": null,
   "id": "2cd0588e-4307-428c-a37a-7a64bb94ed8e",
   "metadata": {},
   "outputs": [],
   "source": []
  }
 ],
 "metadata": {
  "kernelspec": {
   "display_name": "Python 3 (ipykernel)",
   "language": "python",
   "name": "python3"
  },
  "language_info": {
   "codemirror_mode": {
    "name": "ipython",
    "version": 3
   },
   "file_extension": ".py",
   "mimetype": "text/x-python",
   "name": "python",
   "nbconvert_exporter": "python",
   "pygments_lexer": "ipython3",
   "version": "3.9.19"
  }
 },
 "nbformat": 4,
 "nbformat_minor": 5
}
