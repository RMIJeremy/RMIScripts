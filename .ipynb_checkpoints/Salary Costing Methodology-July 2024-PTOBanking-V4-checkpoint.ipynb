{
 "cells": [
  {
   "cell_type": "raw",
   "id": "89789e32",
   "metadata": {},
   "source": [
    "#git add .\n",
    "#git commit -m\"name of save\"\n",
    "#to push it all to remote repository\n",
    "#git push origin master"
   ]
  },
  {
   "cell_type": "code",
   "execution_count": 1,
   "id": "b248e04a",
   "metadata": {},
   "outputs": [],
   "source": [
    "import shutil"
   ]
  },
  {
   "cell_type": "markdown",
   "id": "33932efa",
   "metadata": {},
   "source": [
    "# Update files, Update Type between Preliminary and Final and update Month.   Check to make sure there aren't too many weeks in the month for the \"Time Total by Week\" report and Run.  Update  \"PTO_Accrual_Balances_After_Drawdowns\" File to be the starting place for the PTO calculation"
   ]
  },
  {
   "cell_type": "code",
   "execution_count": null,
   "id": "9d795d39",
   "metadata": {},
   "outputs": [],
   "source": []
  },
  {
   "cell_type": "code",
   "execution_count": 2,
   "id": "8aabf8fa",
   "metadata": {},
   "outputs": [],
   "source": [
    "import datetime\n",
    "targetmonth = datetime.datetime(2024, 10, 1)"
   ]
  },
  {
   "cell_type": "code",
   "execution_count": 3,
   "id": "7a53b3c0",
   "metadata": {},
   "outputs": [],
   "source": [
    "import pandas as pd\n",
    "import numpy as np\n",
    "import openpyxl\n",
    "from openpyxl import load_workbook\n",
    "from openpyxl.styles import Font\n",
    "from openpyxl.styles import Alignment\n",
    "from openpyxl.styles.borders import Border, Side"
   ]
  },
  {
   "cell_type": "code",
   "execution_count": 4,
   "id": "fbff25fc",
   "metadata": {},
   "outputs": [],
   "source": [
    "currentmonthandyear = '10/2024'"
   ]
  },
  {
   "cell_type": "code",
   "execution_count": 5,
   "id": "f03264b7",
   "metadata": {},
   "outputs": [],
   "source": [
    "timestampreport = targetmonth.strftime(\"%b-%Y\")"
   ]
  },
  {
   "cell_type": "code",
   "execution_count": 6,
   "id": "18e82569",
   "metadata": {},
   "outputs": [
    {
     "data": {
      "text/plain": [
       "'Oct-2024'"
      ]
     },
     "execution_count": 6,
     "metadata": {},
     "output_type": "execute_result"
    }
   ],
   "source": [
    "timestampreport"
   ]
  },
  {
   "cell_type": "code",
   "execution_count": 7,
   "id": "f71d9a2f",
   "metadata": {},
   "outputs": [],
   "source": [
    "#Type = 'PRELIMINARY'"
   ]
  },
  {
   "cell_type": "code",
   "execution_count": 8,
   "id": "95028c6c",
   "metadata": {},
   "outputs": [],
   "source": [
    "Type = 'FINAL'"
   ]
  },
  {
   "cell_type": "code",
   "execution_count": 9,
   "id": "7ecc3756",
   "metadata": {},
   "outputs": [],
   "source": [
    "filename = ' - Program Time Report - CONFIDENTIAL - '+Type+'.xlsx'"
   ]
  },
  {
   "cell_type": "code",
   "execution_count": 10,
   "id": "5c0360e5",
   "metadata": {},
   "outputs": [
    {
     "data": {
      "text/plain": [
       "datetime.date(2024, 11, 1)"
      ]
     },
     "execution_count": 10,
     "metadata": {},
     "output_type": "execute_result"
    }
   ],
   "source": [
    "from dateutil import relativedelta\n",
    "\n",
    "from pandas.tseries.offsets import MonthEnd\n",
    "from pandas.tseries.offsets import MonthBegin\n",
    "\n",
    "\n",
    "targetmonthend = pd.to_datetime(targetmonth, format=\"%Y%m\") + relativedelta.relativedelta(months=1, day=1)\n",
    "targetmonthendcalc = targetmonthend.date()\n",
    "targetmonthendcalc"
   ]
  },
  {
   "cell_type": "code",
   "execution_count": 11,
   "id": "bef996e2",
   "metadata": {},
   "outputs": [
    {
     "data": {
      "text/plain": [
       "datetime.date(2024, 10, 1)"
      ]
     },
     "execution_count": 11,
     "metadata": {},
     "output_type": "execute_result"
    }
   ],
   "source": [
    "import dateutil.relativedelta\n",
    "\n",
    "beginningmonth = targetmonth - dateutil.relativedelta.relativedelta(months=1)\n",
    "\n",
    "targetmonthbeginning = pd.to_datetime(beginningmonth, format=\"%Y%m\") + MonthBegin(1)\n",
    "\n",
    "targetmonthbeginningcalc = targetmonthbeginning.date()\n",
    "\n",
    "targetmonthbeginningcalc\n"
   ]
  },
  {
   "cell_type": "code",
   "execution_count": 12,
   "id": "b75ac6da",
   "metadata": {},
   "outputs": [
    {
     "data": {
      "text/plain": [
       "'2024-10-31'"
      ]
     },
     "execution_count": 12,
     "metadata": {},
     "output_type": "execute_result"
    }
   ],
   "source": [
    "import datetime\n",
    "\n",
    "def last_day_of_month(any_day):\n",
    "    # The day 28 exists in every month. 4 days later, it's always next month\n",
    "    next_month = any_day.replace(day=28) + datetime.timedelta(days=4)\n",
    "    # subtracting the number of the current day brings us back one month\n",
    "    return next_month - datetime.timedelta(days=next_month.day)\n",
    "\n",
    "\n",
    "MonthTemplateName = targetmonthbeginningcalc.strftime(\"%B\")\n",
    "\n",
    "TemplateDate1 = last_day_of_month(targetmonthbeginningcalc).strftime('%Y-%m-%d')\n",
    "\n",
    "MonthTemplateName\n",
    "TemplateDate1"
   ]
  },
  {
   "cell_type": "code",
   "execution_count": 13,
   "id": "cdcf0852",
   "metadata": {},
   "outputs": [],
   "source": [
    "yeartemplate = targetmonthbeginningcalc.year"
   ]
  },
  {
   "cell_type": "code",
   "execution_count": 14,
   "id": "958841da",
   "metadata": {},
   "outputs": [
    {
     "data": {
      "text/plain": [
       "2024"
      ]
     },
     "execution_count": 14,
     "metadata": {},
     "output_type": "execute_result"
    }
   ],
   "source": [
    "yeartemplate"
   ]
  },
  {
   "cell_type": "code",
   "execution_count": 15,
   "id": "20b969de",
   "metadata": {},
   "outputs": [
    {
     "data": {
      "text/plain": [
       "datetime.date(2024, 10, 1)"
      ]
     },
     "execution_count": 15,
     "metadata": {},
     "output_type": "execute_result"
    }
   ],
   "source": [
    "targetmonthbeginningcalc"
   ]
  },
  {
   "cell_type": "code",
   "execution_count": 16,
   "id": "94a2b666",
   "metadata": {},
   "outputs": [
    {
     "data": {
      "text/plain": [
       "datetime.date(2024, 11, 1)"
      ]
     },
     "execution_count": 16,
     "metadata": {},
     "output_type": "execute_result"
    }
   ],
   "source": [
    "targetmonthendcalc"
   ]
  },
  {
   "cell_type": "code",
   "execution_count": null,
   "id": "15d42e35",
   "metadata": {},
   "outputs": [],
   "source": []
  },
  {
   "cell_type": "code",
   "execution_count": 17,
   "id": "6b314868",
   "metadata": {},
   "outputs": [],
   "source": [
    "AvailableDays = np.busday_count(targetmonthbeginningcalc, targetmonthendcalc)"
   ]
  },
  {
   "cell_type": "code",
   "execution_count": 18,
   "id": "2645c0ac",
   "metadata": {},
   "outputs": [],
   "source": [
    "AvailableDays = AvailableDays"
   ]
  },
  {
   "cell_type": "code",
   "execution_count": 19,
   "id": "5d6cf245",
   "metadata": {},
   "outputs": [
    {
     "data": {
      "text/plain": [
       "23"
      ]
     },
     "execution_count": 19,
     "metadata": {},
     "output_type": "execute_result"
    }
   ],
   "source": [
    "AvailableDays"
   ]
  },
  {
   "cell_type": "code",
   "execution_count": 20,
   "id": "9a714091",
   "metadata": {},
   "outputs": [],
   "source": [
    "def returndaysfromhire(x):\n",
    "    A = x.date()\n",
    "    if (AvailableDays >= np.busday_count(A, targetmonthendcalc)) and (np.busday_count(A, targetmonthendcalc)) > 0:\n",
    "        return(np.busday_count(A, targetmonthendcalc))\n",
    "    else:\n",
    "        return(0)"
   ]
  },
  {
   "cell_type": "code",
   "execution_count": 21,
   "id": "2fd1837d",
   "metadata": {},
   "outputs": [],
   "source": [
    "def returndaysfromtermination(x):\n",
    "    B = x.date()\n",
    "    if AvailableDays >= np.busday_count(targetmonthbeginningcalc, B) and np.busday_count(targetmonthbeginningcalc, B) > 0:\n",
    "        return(np.busday_count(targetmonthbeginningcalc, B))\n",
    "    else:\n",
    "        return(0)"
   ]
  },
  {
   "cell_type": "code",
   "execution_count": 22,
   "id": "7a7d724c",
   "metadata": {},
   "outputs": [],
   "source": [
    "USChinaExchange = 0.1377230631592459"
   ]
  },
  {
   "cell_type": "code",
   "execution_count": 23,
   "id": "9a9e8c8b",
   "metadata": {},
   "outputs": [],
   "source": [
    "AvailableHours = AvailableDays*8\n"
   ]
  },
  {
   "cell_type": "markdown",
   "id": "49027abf",
   "metadata": {},
   "source": [
    "# Load Time Data"
   ]
  },
  {
   "cell_type": "code",
   "execution_count": 24,
   "id": "a34560d8",
   "metadata": {},
   "outputs": [],
   "source": [
    "#TimeDataALL = './Source_Files/RMI_WorkerTimeBlocksforFinancialAllocationsDetailedforFinanceMASTER.xlsx'\n",
    "\n",
    "TimeDataALL = './Source_Files/RMI_WorkerTimeBlocksforFinancialAllocationsDetailedforFinance_Oct2024FINAL.xlsx'\n",
    "\n",
    "TimeDataDFALL = pd.read_excel(TimeDataALL, header=8, engine='openpyxl')"
   ]
  },
  {
   "cell_type": "code",
   "execution_count": 25,
   "id": "4da3b4c8-c69e-49fd-8794-209cf93588c1",
   "metadata": {},
   "outputs": [],
   "source": [
    "TimeDataDFALL = TimeDataDFALL.rename(columns={'Project Talent Pool': 'Talent Pool'})"
   ]
  },
  {
   "cell_type": "code",
   "execution_count": 26,
   "id": "45574150",
   "metadata": {},
   "outputs": [
    {
     "data": {
      "text/plain": [
       "36254"
      ]
     },
     "execution_count": 26,
     "metadata": {},
     "output_type": "execute_result"
    }
   ],
   "source": [
    "len(TimeDataDFALL)"
   ]
  },
  {
   "cell_type": "code",
   "execution_count": 27,
   "id": "6e19209c-7b12-406b-b035-0673901bb0ef",
   "metadata": {},
   "outputs": [
    {
     "data": {
      "text/html": [
       "<div>\n",
       "<style scoped>\n",
       "    .dataframe tbody tr th:only-of-type {\n",
       "        vertical-align: middle;\n",
       "    }\n",
       "\n",
       "    .dataframe tbody tr th {\n",
       "        vertical-align: top;\n",
       "    }\n",
       "\n",
       "    .dataframe thead th {\n",
       "        text-align: right;\n",
       "    }\n",
       "</style>\n",
       "<table border=\"1\" class=\"dataframe\">\n",
       "  <thead>\n",
       "    <tr style=\"text-align: right;\">\n",
       "      <th></th>\n",
       "      <th>Worker</th>\n",
       "      <th>Employee ID</th>\n",
       "      <th>Worker Cost Center</th>\n",
       "      <th>Talent Pool</th>\n",
       "      <th>Project Group</th>\n",
       "      <th>Utilization Target</th>\n",
       "      <th>Hire Date</th>\n",
       "      <th>Termination Date</th>\n",
       "      <th>Title</th>\n",
       "      <th>Hourly Rate</th>\n",
       "      <th>...</th>\n",
       "      <th>Project</th>\n",
       "      <th>Project Plan Task</th>\n",
       "      <th>Project Plan Task ID</th>\n",
       "      <th>Cost Center</th>\n",
       "      <th>Initiative</th>\n",
       "      <th>Lobbying</th>\n",
       "      <th>Lobbying Location</th>\n",
       "      <th>Reported Quantity</th>\n",
       "      <th>Time Cost Center</th>\n",
       "      <th>Time Initiative</th>\n",
       "    </tr>\n",
       "  </thead>\n",
       "  <tbody>\n",
       "    <tr>\n",
       "      <th>0</th>\n",
       "      <td>Aaron Brickman</td>\n",
       "      <td>1436</td>\n",
       "      <td>US</td>\n",
       "      <td>Talent Pool: Sr. Principal</td>\n",
       "      <td>Grant Funded</td>\n",
       "      <td>0.6</td>\n",
       "      <td>2022-02-28</td>\n",
       "      <td>NaT</td>\n",
       "      <td>Senior Principal</td>\n",
       "      <td>102.53</td>\n",
       "      <td>...</td>\n",
       "      <td>BuildUS&lt;&gt;ACRE</td>\n",
       "      <td>General &gt; Stakeholder engagement</td>\n",
       "      <td>PROJECT_PLAN_TASK-3-5841</td>\n",
       "      <td>US</td>\n",
       "      <td>US - Clean Regional Economic Development</td>\n",
       "      <td>NaN</td>\n",
       "      <td>NaN</td>\n",
       "      <td>2.0</td>\n",
       "      <td>US</td>\n",
       "      <td>US - Clean Regional Economic Development</td>\n",
       "    </tr>\n",
       "    <tr>\n",
       "      <th>1</th>\n",
       "      <td>Aaron Brickman</td>\n",
       "      <td>1436</td>\n",
       "      <td>US</td>\n",
       "      <td>Talent Pool: Sr. Principal</td>\n",
       "      <td>Grant Funded</td>\n",
       "      <td>0.6</td>\n",
       "      <td>2022-02-28</td>\n",
       "      <td>NaT</td>\n",
       "      <td>Senior Principal</td>\n",
       "      <td>102.53</td>\n",
       "      <td>...</td>\n",
       "      <td>BuildUS&lt;&gt;ACRE</td>\n",
       "      <td>General &gt; Stakeholder engagement</td>\n",
       "      <td>PROJECT_PLAN_TASK-3-5841</td>\n",
       "      <td>US</td>\n",
       "      <td>US - Clean Regional Economic Development</td>\n",
       "      <td>NaN</td>\n",
       "      <td>NaN</td>\n",
       "      <td>2.0</td>\n",
       "      <td>US</td>\n",
       "      <td>US - Clean Regional Economic Development</td>\n",
       "    </tr>\n",
       "    <tr>\n",
       "      <th>2</th>\n",
       "      <td>Aaron Brickman</td>\n",
       "      <td>1436</td>\n",
       "      <td>US</td>\n",
       "      <td>Talent Pool: Sr. Principal</td>\n",
       "      <td>Grant Funded</td>\n",
       "      <td>0.6</td>\n",
       "      <td>2022-02-28</td>\n",
       "      <td>NaT</td>\n",
       "      <td>Senior Principal</td>\n",
       "      <td>102.53</td>\n",
       "      <td>...</td>\n",
       "      <td>FY24_HeinzEndowments_USP ACRE</td>\n",
       "      <td>General &gt; General</td>\n",
       "      <td>PROJECT_PLAN_TASK-3-6987</td>\n",
       "      <td>US</td>\n",
       "      <td>US - Clean Regional Economic Development</td>\n",
       "      <td>NaN</td>\n",
       "      <td>NaN</td>\n",
       "      <td>2.0</td>\n",
       "      <td>US</td>\n",
       "      <td>US - Clean Regional Economic Development</td>\n",
       "    </tr>\n",
       "    <tr>\n",
       "      <th>3</th>\n",
       "      <td>Aaron Brickman</td>\n",
       "      <td>1436</td>\n",
       "      <td>US</td>\n",
       "      <td>Talent Pool: Sr. Principal</td>\n",
       "      <td>Grant Funded</td>\n",
       "      <td>0.6</td>\n",
       "      <td>2022-02-28</td>\n",
       "      <td>NaT</td>\n",
       "      <td>Senior Principal</td>\n",
       "      <td>102.53</td>\n",
       "      <td>...</td>\n",
       "      <td>FY24_HeinzEndowments_USP ACRE</td>\n",
       "      <td>General &gt; General</td>\n",
       "      <td>PROJECT_PLAN_TASK-3-6987</td>\n",
       "      <td>US</td>\n",
       "      <td>US - Clean Regional Economic Development</td>\n",
       "      <td>NaN</td>\n",
       "      <td>NaN</td>\n",
       "      <td>2.0</td>\n",
       "      <td>US</td>\n",
       "      <td>US - Clean Regional Economic Development</td>\n",
       "    </tr>\n",
       "    <tr>\n",
       "      <th>4</th>\n",
       "      <td>Aaron Brickman</td>\n",
       "      <td>1436</td>\n",
       "      <td>US</td>\n",
       "      <td>Talent Pool: Sr. Principal</td>\n",
       "      <td>Customer Funded</td>\n",
       "      <td>0.6</td>\n",
       "      <td>2022-02-28</td>\n",
       "      <td>NaT</td>\n",
       "      <td>Senior Principal</td>\n",
       "      <td>102.53</td>\n",
       "      <td>...</td>\n",
       "      <td>FY25_McKnight_USP_FFS_GGRF MN Convening</td>\n",
       "      <td>Convening prep &gt; Convening prep</td>\n",
       "      <td>PROJECT_PLAN_TASK-3-8224</td>\n",
       "      <td>US</td>\n",
       "      <td>US - Admin</td>\n",
       "      <td>NaN</td>\n",
       "      <td>NaN</td>\n",
       "      <td>1.0</td>\n",
       "      <td>US</td>\n",
       "      <td>US - Admin</td>\n",
       "    </tr>\n",
       "  </tbody>\n",
       "</table>\n",
       "<p>5 rows × 27 columns</p>\n",
       "</div>"
      ],
      "text/plain": [
       "           Worker  Employee ID Worker Cost Center                 Talent Pool  \\\n",
       "0  Aaron Brickman         1436                 US  Talent Pool: Sr. Principal   \n",
       "1  Aaron Brickman         1436                 US  Talent Pool: Sr. Principal   \n",
       "2  Aaron Brickman         1436                 US  Talent Pool: Sr. Principal   \n",
       "3  Aaron Brickman         1436                 US  Talent Pool: Sr. Principal   \n",
       "4  Aaron Brickman         1436                 US  Talent Pool: Sr. Principal   \n",
       "\n",
       "     Project Group  Utilization Target  Hire Date Termination Date  \\\n",
       "0     Grant Funded                 0.6 2022-02-28              NaT   \n",
       "1     Grant Funded                 0.6 2022-02-28              NaT   \n",
       "2     Grant Funded                 0.6 2022-02-28              NaT   \n",
       "3     Grant Funded                 0.6 2022-02-28              NaT   \n",
       "4  Customer Funded                 0.6 2022-02-28              NaT   \n",
       "\n",
       "              Title  Hourly Rate  ...  \\\n",
       "0  Senior Principal       102.53  ...   \n",
       "1  Senior Principal       102.53  ...   \n",
       "2  Senior Principal       102.53  ...   \n",
       "3  Senior Principal       102.53  ...   \n",
       "4  Senior Principal       102.53  ...   \n",
       "\n",
       "                                   Project                 Project Plan Task  \\\n",
       "0                            BuildUS<>ACRE  General > Stakeholder engagement   \n",
       "1                            BuildUS<>ACRE  General > Stakeholder engagement   \n",
       "2            FY24_HeinzEndowments_USP ACRE                 General > General   \n",
       "3            FY24_HeinzEndowments_USP ACRE                 General > General   \n",
       "4  FY25_McKnight_USP_FFS_GGRF MN Convening   Convening prep > Convening prep   \n",
       "\n",
       "       Project Plan Task ID Cost Center  \\\n",
       "0  PROJECT_PLAN_TASK-3-5841          US   \n",
       "1  PROJECT_PLAN_TASK-3-5841          US   \n",
       "2  PROJECT_PLAN_TASK-3-6987          US   \n",
       "3  PROJECT_PLAN_TASK-3-6987          US   \n",
       "4  PROJECT_PLAN_TASK-3-8224          US   \n",
       "\n",
       "                                 Initiative Lobbying Lobbying Location  \\\n",
       "0  US - Clean Regional Economic Development      NaN               NaN   \n",
       "1  US - Clean Regional Economic Development      NaN               NaN   \n",
       "2  US - Clean Regional Economic Development      NaN               NaN   \n",
       "3  US - Clean Regional Economic Development      NaN               NaN   \n",
       "4                                US - Admin      NaN               NaN   \n",
       "\n",
       "  Reported Quantity Time Cost Center                           Time Initiative  \n",
       "0               2.0               US  US - Clean Regional Economic Development  \n",
       "1               2.0               US  US - Clean Regional Economic Development  \n",
       "2               2.0               US  US - Clean Regional Economic Development  \n",
       "3               2.0               US  US - Clean Regional Economic Development  \n",
       "4               1.0               US                                US - Admin  \n",
       "\n",
       "[5 rows x 27 columns]"
      ]
     },
     "execution_count": 27,
     "metadata": {},
     "output_type": "execute_result"
    }
   ],
   "source": [
    "TimeDataDFALL.head()"
   ]
  },
  {
   "cell_type": "code",
   "execution_count": 28,
   "id": "6e5ed3aa",
   "metadata": {},
   "outputs": [],
   "source": [
    "TimeDataDFALL['Lobbying'].fillna(\"None\", inplace = True)"
   ]
  },
  {
   "cell_type": "code",
   "execution_count": 29,
   "id": "197828f2",
   "metadata": {},
   "outputs": [],
   "source": [
    "TimeDataDFALL['Lobbying Location'].fillna(\"None\", inplace = True)"
   ]
  },
  {
   "cell_type": "markdown",
   "id": "1ee0982f",
   "metadata": {},
   "source": [
    "# Manipulate Data"
   ]
  },
  {
   "cell_type": "code",
   "execution_count": 30,
   "id": "4af8ae61",
   "metadata": {},
   "outputs": [],
   "source": [
    "#TimeDataDFALL.loc[(TimeDataDFALL['Project'] == 'Influence Team [Admin]'), 'Project Group'] = 'Admin'\n",
    "#TimeDataDFALL.loc[(TimeDataDFALL['Project'] == 'Program Services [Admin]'), 'Project Group'] = 'Admin'\n"
   ]
  },
  {
   "cell_type": "code",
   "execution_count": 31,
   "id": "e20e684c",
   "metadata": {},
   "outputs": [],
   "source": [
    "TimeDataDFALL.loc[(TimeDataDFALL['Talent Pool'] == 'Talent Pool: Intern'), 'Utilization Target'] = .50\n"
   ]
  },
  {
   "cell_type": "code",
   "execution_count": 32,
   "id": "1bd9ff4e",
   "metadata": {},
   "outputs": [
    {
     "data": {
      "text/html": [
       "<div>\n",
       "<style scoped>\n",
       "    .dataframe tbody tr th:only-of-type {\n",
       "        vertical-align: middle;\n",
       "    }\n",
       "\n",
       "    .dataframe tbody tr th {\n",
       "        vertical-align: top;\n",
       "    }\n",
       "\n",
       "    .dataframe thead th {\n",
       "        text-align: right;\n",
       "    }\n",
       "</style>\n",
       "<table border=\"1\" class=\"dataframe\">\n",
       "  <thead>\n",
       "    <tr style=\"text-align: right;\">\n",
       "      <th></th>\n",
       "      <th>Worker</th>\n",
       "      <th>Employee ID</th>\n",
       "      <th>Worker Cost Center</th>\n",
       "      <th>Talent Pool</th>\n",
       "      <th>Project Group</th>\n",
       "      <th>Utilization Target</th>\n",
       "      <th>Hire Date</th>\n",
       "      <th>Termination Date</th>\n",
       "      <th>Title</th>\n",
       "      <th>Hourly Rate</th>\n",
       "      <th>...</th>\n",
       "      <th>Project</th>\n",
       "      <th>Project Plan Task</th>\n",
       "      <th>Project Plan Task ID</th>\n",
       "      <th>Cost Center</th>\n",
       "      <th>Initiative</th>\n",
       "      <th>Lobbying</th>\n",
       "      <th>Lobbying Location</th>\n",
       "      <th>Reported Quantity</th>\n",
       "      <th>Time Cost Center</th>\n",
       "      <th>Time Initiative</th>\n",
       "    </tr>\n",
       "  </thead>\n",
       "  <tbody>\n",
       "    <tr>\n",
       "      <th>0</th>\n",
       "      <td>Aaron Brickman</td>\n",
       "      <td>1436</td>\n",
       "      <td>US</td>\n",
       "      <td>Talent Pool: Sr. Principal</td>\n",
       "      <td>Grant Funded</td>\n",
       "      <td>0.6</td>\n",
       "      <td>2022-02-28</td>\n",
       "      <td>NaT</td>\n",
       "      <td>Senior Principal</td>\n",
       "      <td>102.53</td>\n",
       "      <td>...</td>\n",
       "      <td>BuildUS&lt;&gt;ACRE</td>\n",
       "      <td>General &gt; Stakeholder engagement</td>\n",
       "      <td>PROJECT_PLAN_TASK-3-5841</td>\n",
       "      <td>US</td>\n",
       "      <td>US - Clean Regional Economic Development</td>\n",
       "      <td>None</td>\n",
       "      <td>None</td>\n",
       "      <td>2.0</td>\n",
       "      <td>US</td>\n",
       "      <td>US - Clean Regional Economic Development</td>\n",
       "    </tr>\n",
       "    <tr>\n",
       "      <th>1</th>\n",
       "      <td>Aaron Brickman</td>\n",
       "      <td>1436</td>\n",
       "      <td>US</td>\n",
       "      <td>Talent Pool: Sr. Principal</td>\n",
       "      <td>Grant Funded</td>\n",
       "      <td>0.6</td>\n",
       "      <td>2022-02-28</td>\n",
       "      <td>NaT</td>\n",
       "      <td>Senior Principal</td>\n",
       "      <td>102.53</td>\n",
       "      <td>...</td>\n",
       "      <td>BuildUS&lt;&gt;ACRE</td>\n",
       "      <td>General &gt; Stakeholder engagement</td>\n",
       "      <td>PROJECT_PLAN_TASK-3-5841</td>\n",
       "      <td>US</td>\n",
       "      <td>US - Clean Regional Economic Development</td>\n",
       "      <td>None</td>\n",
       "      <td>None</td>\n",
       "      <td>2.0</td>\n",
       "      <td>US</td>\n",
       "      <td>US - Clean Regional Economic Development</td>\n",
       "    </tr>\n",
       "    <tr>\n",
       "      <th>2</th>\n",
       "      <td>Aaron Brickman</td>\n",
       "      <td>1436</td>\n",
       "      <td>US</td>\n",
       "      <td>Talent Pool: Sr. Principal</td>\n",
       "      <td>Grant Funded</td>\n",
       "      <td>0.6</td>\n",
       "      <td>2022-02-28</td>\n",
       "      <td>NaT</td>\n",
       "      <td>Senior Principal</td>\n",
       "      <td>102.53</td>\n",
       "      <td>...</td>\n",
       "      <td>FY24_HeinzEndowments_USP ACRE</td>\n",
       "      <td>General &gt; General</td>\n",
       "      <td>PROJECT_PLAN_TASK-3-6987</td>\n",
       "      <td>US</td>\n",
       "      <td>US - Clean Regional Economic Development</td>\n",
       "      <td>None</td>\n",
       "      <td>None</td>\n",
       "      <td>2.0</td>\n",
       "      <td>US</td>\n",
       "      <td>US - Clean Regional Economic Development</td>\n",
       "    </tr>\n",
       "    <tr>\n",
       "      <th>3</th>\n",
       "      <td>Aaron Brickman</td>\n",
       "      <td>1436</td>\n",
       "      <td>US</td>\n",
       "      <td>Talent Pool: Sr. Principal</td>\n",
       "      <td>Grant Funded</td>\n",
       "      <td>0.6</td>\n",
       "      <td>2022-02-28</td>\n",
       "      <td>NaT</td>\n",
       "      <td>Senior Principal</td>\n",
       "      <td>102.53</td>\n",
       "      <td>...</td>\n",
       "      <td>FY24_HeinzEndowments_USP ACRE</td>\n",
       "      <td>General &gt; General</td>\n",
       "      <td>PROJECT_PLAN_TASK-3-6987</td>\n",
       "      <td>US</td>\n",
       "      <td>US - Clean Regional Economic Development</td>\n",
       "      <td>None</td>\n",
       "      <td>None</td>\n",
       "      <td>2.0</td>\n",
       "      <td>US</td>\n",
       "      <td>US - Clean Regional Economic Development</td>\n",
       "    </tr>\n",
       "    <tr>\n",
       "      <th>4</th>\n",
       "      <td>Aaron Brickman</td>\n",
       "      <td>1436</td>\n",
       "      <td>US</td>\n",
       "      <td>Talent Pool: Sr. Principal</td>\n",
       "      <td>Customer Funded</td>\n",
       "      <td>0.6</td>\n",
       "      <td>2022-02-28</td>\n",
       "      <td>NaT</td>\n",
       "      <td>Senior Principal</td>\n",
       "      <td>102.53</td>\n",
       "      <td>...</td>\n",
       "      <td>FY25_McKnight_USP_FFS_GGRF MN Convening</td>\n",
       "      <td>Convening prep &gt; Convening prep</td>\n",
       "      <td>PROJECT_PLAN_TASK-3-8224</td>\n",
       "      <td>US</td>\n",
       "      <td>US - Admin</td>\n",
       "      <td>None</td>\n",
       "      <td>None</td>\n",
       "      <td>1.0</td>\n",
       "      <td>US</td>\n",
       "      <td>US - Admin</td>\n",
       "    </tr>\n",
       "  </tbody>\n",
       "</table>\n",
       "<p>5 rows × 27 columns</p>\n",
       "</div>"
      ],
      "text/plain": [
       "           Worker  Employee ID Worker Cost Center                 Talent Pool  \\\n",
       "0  Aaron Brickman         1436                 US  Talent Pool: Sr. Principal   \n",
       "1  Aaron Brickman         1436                 US  Talent Pool: Sr. Principal   \n",
       "2  Aaron Brickman         1436                 US  Talent Pool: Sr. Principal   \n",
       "3  Aaron Brickman         1436                 US  Talent Pool: Sr. Principal   \n",
       "4  Aaron Brickman         1436                 US  Talent Pool: Sr. Principal   \n",
       "\n",
       "     Project Group  Utilization Target  Hire Date Termination Date  \\\n",
       "0     Grant Funded                 0.6 2022-02-28              NaT   \n",
       "1     Grant Funded                 0.6 2022-02-28              NaT   \n",
       "2     Grant Funded                 0.6 2022-02-28              NaT   \n",
       "3     Grant Funded                 0.6 2022-02-28              NaT   \n",
       "4  Customer Funded                 0.6 2022-02-28              NaT   \n",
       "\n",
       "              Title  Hourly Rate  ...  \\\n",
       "0  Senior Principal       102.53  ...   \n",
       "1  Senior Principal       102.53  ...   \n",
       "2  Senior Principal       102.53  ...   \n",
       "3  Senior Principal       102.53  ...   \n",
       "4  Senior Principal       102.53  ...   \n",
       "\n",
       "                                   Project                 Project Plan Task  \\\n",
       "0                            BuildUS<>ACRE  General > Stakeholder engagement   \n",
       "1                            BuildUS<>ACRE  General > Stakeholder engagement   \n",
       "2            FY24_HeinzEndowments_USP ACRE                 General > General   \n",
       "3            FY24_HeinzEndowments_USP ACRE                 General > General   \n",
       "4  FY25_McKnight_USP_FFS_GGRF MN Convening   Convening prep > Convening prep   \n",
       "\n",
       "       Project Plan Task ID Cost Center  \\\n",
       "0  PROJECT_PLAN_TASK-3-5841          US   \n",
       "1  PROJECT_PLAN_TASK-3-5841          US   \n",
       "2  PROJECT_PLAN_TASK-3-6987          US   \n",
       "3  PROJECT_PLAN_TASK-3-6987          US   \n",
       "4  PROJECT_PLAN_TASK-3-8224          US   \n",
       "\n",
       "                                 Initiative Lobbying Lobbying Location  \\\n",
       "0  US - Clean Regional Economic Development     None              None   \n",
       "1  US - Clean Regional Economic Development     None              None   \n",
       "2  US - Clean Regional Economic Development     None              None   \n",
       "3  US - Clean Regional Economic Development     None              None   \n",
       "4                                US - Admin     None              None   \n",
       "\n",
       "  Reported Quantity Time Cost Center                           Time Initiative  \n",
       "0               2.0               US  US - Clean Regional Economic Development  \n",
       "1               2.0               US  US - Clean Regional Economic Development  \n",
       "2               2.0               US  US - Clean Regional Economic Development  \n",
       "3               2.0               US  US - Clean Regional Economic Development  \n",
       "4               1.0               US                                US - Admin  \n",
       "\n",
       "[5 rows x 27 columns]"
      ]
     },
     "execution_count": 32,
     "metadata": {},
     "output_type": "execute_result"
    }
   ],
   "source": [
    "TimeDataDFALL.head()"
   ]
  },
  {
   "cell_type": "code",
   "execution_count": 33,
   "id": "0680c28c",
   "metadata": {},
   "outputs": [
    {
     "data": {
      "text/plain": [
       "36254"
      ]
     },
     "execution_count": 33,
     "metadata": {},
     "output_type": "execute_result"
    }
   ],
   "source": [
    "len(TimeDataDFALL)"
   ]
  },
  {
   "cell_type": "code",
   "execution_count": 34,
   "id": "cbee6d6b",
   "metadata": {},
   "outputs": [
    {
     "data": {
      "text/plain": [
       "Worker                          object\n",
       "Employee ID                      int64\n",
       "Worker Cost Center              object\n",
       "Talent Pool                     object\n",
       "Project Group                   object\n",
       "Utilization Target             float64\n",
       "Hire Date               datetime64[ns]\n",
       "Termination Date        datetime64[ns]\n",
       "Title                           object\n",
       "Hourly Rate                    float64\n",
       "Monthly Salary                 float64\n",
       "Monthly Bonus Amount           float64\n",
       "Bonus %                        float64\n",
       "Week                            object\n",
       "Reported Date           datetime64[ns]\n",
       "Time Type                       object\n",
       "Entry Type                      object\n",
       "Project                         object\n",
       "Project Plan Task               object\n",
       "Project Plan Task ID            object\n",
       "Cost Center                     object\n",
       "Initiative                      object\n",
       "Lobbying                        object\n",
       "Lobbying Location               object\n",
       "Reported Quantity              float64\n",
       "Time Cost Center                object\n",
       "Time Initiative                 object\n",
       "dtype: object"
      ]
     },
     "execution_count": 34,
     "metadata": {},
     "output_type": "execute_result"
    }
   ],
   "source": [
    "TimeDataDFALL.dtypes"
   ]
  },
  {
   "cell_type": "markdown",
   "id": "2b9fa3d9",
   "metadata": {},
   "source": [
    "Categorize PTO and Holiday"
   ]
  },
  {
   "cell_type": "code",
   "execution_count": 35,
   "id": "15909754",
   "metadata": {},
   "outputs": [],
   "source": [
    "TimeDataDFALL.loc[(TimeDataDFALL['Time Type'] == 'Time Off'), 'Project Group'] = 'PTO'\n",
    "TimeDataDFALL.loc[(TimeDataDFALL['Entry Type'] == 'Holiday Hours'), 'Project Group'] = 'Holiday'\n",
    "TimeDataDFALL.loc[(TimeDataDFALL['Time Type'] == 'Time Off'), 'Project'] = 'PTO'\n",
    "TimeDataDFALL.loc[(TimeDataDFALL['Entry Type'] == 'Holiday Hours'), 'Project'] = 'Holiday'\n",
    "TimeDataDFALL.loc[(TimeDataDFALL['Time Type'] == 'Time Off'), 'Project Plan Task'] = 'PTO'\n",
    "TimeDataDFALL.loc[(TimeDataDFALL['Entry Type'] == 'Holiday Hours'), 'Project Plan Task'] = 'Holiday'"
   ]
  },
  {
   "cell_type": "code",
   "execution_count": 36,
   "id": "8b905b76",
   "metadata": {},
   "outputs": [],
   "source": [
    "TimeDataDFALL['MonthYear'] = pd.DatetimeIndex(TimeDataDFALL['Reported Date']).month.astype(str) + \"/\" + pd.DatetimeIndex(TimeDataDFALL['Reported Date']).year.astype(str)\n"
   ]
  },
  {
   "cell_type": "code",
   "execution_count": 37,
   "id": "1fbbe572",
   "metadata": {},
   "outputs": [],
   "source": [
    "TimeDataDFALL['MonthYear'] = TimeDataDFALL['MonthYear'].apply(lambda x: x.replace('.0',''))"
   ]
  },
  {
   "cell_type": "code",
   "execution_count": null,
   "id": "ba2d484d",
   "metadata": {},
   "outputs": [],
   "source": []
  },
  {
   "cell_type": "markdown",
   "id": "6a136715",
   "metadata": {},
   "source": [
    "## SELECT MONTH THAT WE WILL BE DOING TIME CODING FOR"
   ]
  },
  {
   "cell_type": "code",
   "execution_count": 38,
   "id": "571d2f19",
   "metadata": {},
   "outputs": [],
   "source": [
    "TimeDataDF = TimeDataDFALL[TimeDataDFALL['MonthYear']==currentmonthandyear]"
   ]
  },
  {
   "cell_type": "code",
   "execution_count": 39,
   "id": "512cc6d1",
   "metadata": {},
   "outputs": [
    {
     "data": {
      "text/plain": [
       "Index(['Worker', 'Employee ID', 'Worker Cost Center', 'Talent Pool',\n",
       "       'Project Group', 'Utilization Target', 'Hire Date', 'Termination Date',\n",
       "       'Title', 'Hourly Rate', 'Monthly Salary', 'Monthly Bonus Amount',\n",
       "       'Bonus %', 'Week', 'Reported Date', 'Time Type', 'Entry Type',\n",
       "       'Project', 'Project Plan Task', 'Project Plan Task ID', 'Cost Center',\n",
       "       'Initiative', 'Lobbying', 'Lobbying Location', 'Reported Quantity',\n",
       "       'Time Cost Center', 'Time Initiative', 'MonthYear'],\n",
       "      dtype='object')"
      ]
     },
     "execution_count": 39,
     "metadata": {},
     "output_type": "execute_result"
    }
   ],
   "source": [
    "TimeDataDFALL.columns"
   ]
  },
  {
   "cell_type": "code",
   "execution_count": 40,
   "id": "07c14e5d",
   "metadata": {},
   "outputs": [
    {
     "data": {
      "text/html": [
       "<div>\n",
       "<style scoped>\n",
       "    .dataframe tbody tr th:only-of-type {\n",
       "        vertical-align: middle;\n",
       "    }\n",
       "\n",
       "    .dataframe tbody tr th {\n",
       "        vertical-align: top;\n",
       "    }\n",
       "\n",
       "    .dataframe thead th {\n",
       "        text-align: right;\n",
       "    }\n",
       "</style>\n",
       "<table border=\"1\" class=\"dataframe\">\n",
       "  <thead>\n",
       "    <tr style=\"text-align: right;\">\n",
       "      <th></th>\n",
       "      <th>Worker</th>\n",
       "      <th>Employee ID</th>\n",
       "      <th>Worker Cost Center</th>\n",
       "      <th>Talent Pool</th>\n",
       "      <th>Project Group</th>\n",
       "      <th>Utilization Target</th>\n",
       "      <th>Hire Date</th>\n",
       "      <th>Termination Date</th>\n",
       "      <th>Title</th>\n",
       "      <th>Hourly Rate</th>\n",
       "      <th>...</th>\n",
       "      <th>Project Plan Task</th>\n",
       "      <th>Project Plan Task ID</th>\n",
       "      <th>Cost Center</th>\n",
       "      <th>Initiative</th>\n",
       "      <th>Lobbying</th>\n",
       "      <th>Lobbying Location</th>\n",
       "      <th>Reported Quantity</th>\n",
       "      <th>Time Cost Center</th>\n",
       "      <th>Time Initiative</th>\n",
       "      <th>MonthYear</th>\n",
       "    </tr>\n",
       "  </thead>\n",
       "  <tbody>\n",
       "    <tr>\n",
       "      <th>0</th>\n",
       "      <td>Aaron Brickman</td>\n",
       "      <td>1436</td>\n",
       "      <td>US</td>\n",
       "      <td>Talent Pool: Sr. Principal</td>\n",
       "      <td>Grant Funded</td>\n",
       "      <td>0.6</td>\n",
       "      <td>2022-02-28</td>\n",
       "      <td>NaT</td>\n",
       "      <td>Senior Principal</td>\n",
       "      <td>102.53</td>\n",
       "      <td>...</td>\n",
       "      <td>General &gt; Stakeholder engagement</td>\n",
       "      <td>PROJECT_PLAN_TASK-3-5841</td>\n",
       "      <td>US</td>\n",
       "      <td>US - Clean Regional Economic Development</td>\n",
       "      <td>None</td>\n",
       "      <td>None</td>\n",
       "      <td>2.0</td>\n",
       "      <td>US</td>\n",
       "      <td>US - Clean Regional Economic Development</td>\n",
       "      <td>10/2024</td>\n",
       "    </tr>\n",
       "    <tr>\n",
       "      <th>1</th>\n",
       "      <td>Aaron Brickman</td>\n",
       "      <td>1436</td>\n",
       "      <td>US</td>\n",
       "      <td>Talent Pool: Sr. Principal</td>\n",
       "      <td>Grant Funded</td>\n",
       "      <td>0.6</td>\n",
       "      <td>2022-02-28</td>\n",
       "      <td>NaT</td>\n",
       "      <td>Senior Principal</td>\n",
       "      <td>102.53</td>\n",
       "      <td>...</td>\n",
       "      <td>General &gt; Stakeholder engagement</td>\n",
       "      <td>PROJECT_PLAN_TASK-3-5841</td>\n",
       "      <td>US</td>\n",
       "      <td>US - Clean Regional Economic Development</td>\n",
       "      <td>None</td>\n",
       "      <td>None</td>\n",
       "      <td>2.0</td>\n",
       "      <td>US</td>\n",
       "      <td>US - Clean Regional Economic Development</td>\n",
       "      <td>10/2024</td>\n",
       "    </tr>\n",
       "    <tr>\n",
       "      <th>2</th>\n",
       "      <td>Aaron Brickman</td>\n",
       "      <td>1436</td>\n",
       "      <td>US</td>\n",
       "      <td>Talent Pool: Sr. Principal</td>\n",
       "      <td>Grant Funded</td>\n",
       "      <td>0.6</td>\n",
       "      <td>2022-02-28</td>\n",
       "      <td>NaT</td>\n",
       "      <td>Senior Principal</td>\n",
       "      <td>102.53</td>\n",
       "      <td>...</td>\n",
       "      <td>General &gt; General</td>\n",
       "      <td>PROJECT_PLAN_TASK-3-6987</td>\n",
       "      <td>US</td>\n",
       "      <td>US - Clean Regional Economic Development</td>\n",
       "      <td>None</td>\n",
       "      <td>None</td>\n",
       "      <td>2.0</td>\n",
       "      <td>US</td>\n",
       "      <td>US - Clean Regional Economic Development</td>\n",
       "      <td>10/2024</td>\n",
       "    </tr>\n",
       "    <tr>\n",
       "      <th>3</th>\n",
       "      <td>Aaron Brickman</td>\n",
       "      <td>1436</td>\n",
       "      <td>US</td>\n",
       "      <td>Talent Pool: Sr. Principal</td>\n",
       "      <td>Grant Funded</td>\n",
       "      <td>0.6</td>\n",
       "      <td>2022-02-28</td>\n",
       "      <td>NaT</td>\n",
       "      <td>Senior Principal</td>\n",
       "      <td>102.53</td>\n",
       "      <td>...</td>\n",
       "      <td>General &gt; General</td>\n",
       "      <td>PROJECT_PLAN_TASK-3-6987</td>\n",
       "      <td>US</td>\n",
       "      <td>US - Clean Regional Economic Development</td>\n",
       "      <td>None</td>\n",
       "      <td>None</td>\n",
       "      <td>2.0</td>\n",
       "      <td>US</td>\n",
       "      <td>US - Clean Regional Economic Development</td>\n",
       "      <td>10/2024</td>\n",
       "    </tr>\n",
       "    <tr>\n",
       "      <th>4</th>\n",
       "      <td>Aaron Brickman</td>\n",
       "      <td>1436</td>\n",
       "      <td>US</td>\n",
       "      <td>Talent Pool: Sr. Principal</td>\n",
       "      <td>Customer Funded</td>\n",
       "      <td>0.6</td>\n",
       "      <td>2022-02-28</td>\n",
       "      <td>NaT</td>\n",
       "      <td>Senior Principal</td>\n",
       "      <td>102.53</td>\n",
       "      <td>...</td>\n",
       "      <td>Convening prep &gt; Convening prep</td>\n",
       "      <td>PROJECT_PLAN_TASK-3-8224</td>\n",
       "      <td>US</td>\n",
       "      <td>US - Admin</td>\n",
       "      <td>None</td>\n",
       "      <td>None</td>\n",
       "      <td>1.0</td>\n",
       "      <td>US</td>\n",
       "      <td>US - Admin</td>\n",
       "      <td>10/2024</td>\n",
       "    </tr>\n",
       "    <tr>\n",
       "      <th>...</th>\n",
       "      <td>...</td>\n",
       "      <td>...</td>\n",
       "      <td>...</td>\n",
       "      <td>...</td>\n",
       "      <td>...</td>\n",
       "      <td>...</td>\n",
       "      <td>...</td>\n",
       "      <td>...</td>\n",
       "      <td>...</td>\n",
       "      <td>...</td>\n",
       "      <td>...</td>\n",
       "      <td>...</td>\n",
       "      <td>...</td>\n",
       "      <td>...</td>\n",
       "      <td>...</td>\n",
       "      <td>...</td>\n",
       "      <td>...</td>\n",
       "      <td>...</td>\n",
       "      <td>...</td>\n",
       "      <td>...</td>\n",
       "      <td>...</td>\n",
       "    </tr>\n",
       "    <tr>\n",
       "      <th>36249</th>\n",
       "      <td>Zsaria Diaz</td>\n",
       "      <td>1327</td>\n",
       "      <td>Islands</td>\n",
       "      <td>Talent Pool: Sr. Associate</td>\n",
       "      <td>US Government</td>\n",
       "      <td>0.7</td>\n",
       "      <td>2021-09-13</td>\n",
       "      <td>NaT</td>\n",
       "      <td>Senior Associate</td>\n",
       "      <td>44.30</td>\n",
       "      <td>...</td>\n",
       "      <td>General &gt; General</td>\n",
       "      <td>PROJECT_PLAN_TASK-3-5878</td>\n",
       "      <td>Islands</td>\n",
       "      <td>IS - Islands</td>\n",
       "      <td>None</td>\n",
       "      <td>None</td>\n",
       "      <td>3.0</td>\n",
       "      <td>Islands</td>\n",
       "      <td>IS - Islands</td>\n",
       "      <td>10/2024</td>\n",
       "    </tr>\n",
       "    <tr>\n",
       "      <th>36250</th>\n",
       "      <td>Zsaria Diaz</td>\n",
       "      <td>1327</td>\n",
       "      <td>Islands</td>\n",
       "      <td>Talent Pool: Sr. Associate</td>\n",
       "      <td>Grant Funded</td>\n",
       "      <td>0.7</td>\n",
       "      <td>2021-09-13</td>\n",
       "      <td>NaT</td>\n",
       "      <td>Senior Associate</td>\n",
       "      <td>44.30</td>\n",
       "      <td>...</td>\n",
       "      <td>Caribbean regional scenario analysis &gt; Scenari...</td>\n",
       "      <td>PROJECT_PLAN_TASK-3-6690</td>\n",
       "      <td>Islands</td>\n",
       "      <td>IS - Islands</td>\n",
       "      <td>None</td>\n",
       "      <td>None</td>\n",
       "      <td>2.0</td>\n",
       "      <td>Islands</td>\n",
       "      <td>IS - Islands</td>\n",
       "      <td>10/2024</td>\n",
       "    </tr>\n",
       "    <tr>\n",
       "      <th>36251</th>\n",
       "      <td>Zsaria Diaz</td>\n",
       "      <td>1327</td>\n",
       "      <td>Islands</td>\n",
       "      <td>Talent Pool: Sr. Associate</td>\n",
       "      <td>Grant Funded</td>\n",
       "      <td>0.7</td>\n",
       "      <td>2021-09-13</td>\n",
       "      <td>NaT</td>\n",
       "      <td>Senior Associate</td>\n",
       "      <td>44.30</td>\n",
       "      <td>...</td>\n",
       "      <td>Caribbean regional scenario analysis &gt; Scenari...</td>\n",
       "      <td>PROJECT_PLAN_TASK-3-6690</td>\n",
       "      <td>Islands</td>\n",
       "      <td>IS - Islands</td>\n",
       "      <td>None</td>\n",
       "      <td>None</td>\n",
       "      <td>3.0</td>\n",
       "      <td>Islands</td>\n",
       "      <td>IS - Islands</td>\n",
       "      <td>10/2024</td>\n",
       "    </tr>\n",
       "    <tr>\n",
       "      <th>36252</th>\n",
       "      <td>Zsaria Diaz</td>\n",
       "      <td>1327</td>\n",
       "      <td>Islands</td>\n",
       "      <td>Talent Pool: Sr. Associate</td>\n",
       "      <td>Customer Funded</td>\n",
       "      <td>0.7</td>\n",
       "      <td>2021-09-13</td>\n",
       "      <td>NaT</td>\n",
       "      <td>Senior Associate</td>\n",
       "      <td>44.30</td>\n",
       "      <td>...</td>\n",
       "      <td>St John &gt; St John</td>\n",
       "      <td>PROJECT_PLAN_TASK-3-3704</td>\n",
       "      <td>Islands</td>\n",
       "      <td>IS - Islands</td>\n",
       "      <td>None</td>\n",
       "      <td>None</td>\n",
       "      <td>1.0</td>\n",
       "      <td>Islands</td>\n",
       "      <td>IS - Islands</td>\n",
       "      <td>10/2024</td>\n",
       "    </tr>\n",
       "    <tr>\n",
       "      <th>36253</th>\n",
       "      <td>Zsaria Diaz</td>\n",
       "      <td>1327</td>\n",
       "      <td>Islands</td>\n",
       "      <td>Talent Pool: Sr. Associate</td>\n",
       "      <td>Customer Funded</td>\n",
       "      <td>0.7</td>\n",
       "      <td>2021-09-13</td>\n",
       "      <td>NaT</td>\n",
       "      <td>Senior Associate</td>\n",
       "      <td>44.30</td>\n",
       "      <td>...</td>\n",
       "      <td>St John &gt; St John</td>\n",
       "      <td>PROJECT_PLAN_TASK-3-3704</td>\n",
       "      <td>Islands</td>\n",
       "      <td>IS - Islands</td>\n",
       "      <td>None</td>\n",
       "      <td>None</td>\n",
       "      <td>1.0</td>\n",
       "      <td>Islands</td>\n",
       "      <td>IS - Islands</td>\n",
       "      <td>10/2024</td>\n",
       "    </tr>\n",
       "  </tbody>\n",
       "</table>\n",
       "<p>36254 rows × 28 columns</p>\n",
       "</div>"
      ],
      "text/plain": [
       "               Worker  Employee ID Worker Cost Center  \\\n",
       "0      Aaron Brickman         1436                 US   \n",
       "1      Aaron Brickman         1436                 US   \n",
       "2      Aaron Brickman         1436                 US   \n",
       "3      Aaron Brickman         1436                 US   \n",
       "4      Aaron Brickman         1436                 US   \n",
       "...               ...          ...                ...   \n",
       "36249     Zsaria Diaz         1327            Islands   \n",
       "36250     Zsaria Diaz         1327            Islands   \n",
       "36251     Zsaria Diaz         1327            Islands   \n",
       "36252     Zsaria Diaz         1327            Islands   \n",
       "36253     Zsaria Diaz         1327            Islands   \n",
       "\n",
       "                      Talent Pool    Project Group  Utilization Target  \\\n",
       "0      Talent Pool: Sr. Principal     Grant Funded                 0.6   \n",
       "1      Talent Pool: Sr. Principal     Grant Funded                 0.6   \n",
       "2      Talent Pool: Sr. Principal     Grant Funded                 0.6   \n",
       "3      Talent Pool: Sr. Principal     Grant Funded                 0.6   \n",
       "4      Talent Pool: Sr. Principal  Customer Funded                 0.6   \n",
       "...                           ...              ...                 ...   \n",
       "36249  Talent Pool: Sr. Associate    US Government                 0.7   \n",
       "36250  Talent Pool: Sr. Associate     Grant Funded                 0.7   \n",
       "36251  Talent Pool: Sr. Associate     Grant Funded                 0.7   \n",
       "36252  Talent Pool: Sr. Associate  Customer Funded                 0.7   \n",
       "36253  Talent Pool: Sr. Associate  Customer Funded                 0.7   \n",
       "\n",
       "       Hire Date Termination Date             Title  Hourly Rate  ...  \\\n",
       "0     2022-02-28              NaT  Senior Principal       102.53  ...   \n",
       "1     2022-02-28              NaT  Senior Principal       102.53  ...   \n",
       "2     2022-02-28              NaT  Senior Principal       102.53  ...   \n",
       "3     2022-02-28              NaT  Senior Principal       102.53  ...   \n",
       "4     2022-02-28              NaT  Senior Principal       102.53  ...   \n",
       "...          ...              ...               ...          ...  ...   \n",
       "36249 2021-09-13              NaT  Senior Associate        44.30  ...   \n",
       "36250 2021-09-13              NaT  Senior Associate        44.30  ...   \n",
       "36251 2021-09-13              NaT  Senior Associate        44.30  ...   \n",
       "36252 2021-09-13              NaT  Senior Associate        44.30  ...   \n",
       "36253 2021-09-13              NaT  Senior Associate        44.30  ...   \n",
       "\n",
       "                                       Project Plan Task  \\\n",
       "0                       General > Stakeholder engagement   \n",
       "1                       General > Stakeholder engagement   \n",
       "2                                      General > General   \n",
       "3                                      General > General   \n",
       "4                        Convening prep > Convening prep   \n",
       "...                                                  ...   \n",
       "36249                                  General > General   \n",
       "36250  Caribbean regional scenario analysis > Scenari...   \n",
       "36251  Caribbean regional scenario analysis > Scenari...   \n",
       "36252                                  St John > St John   \n",
       "36253                                  St John > St John   \n",
       "\n",
       "           Project Plan Task ID  Cost Center  \\\n",
       "0      PROJECT_PLAN_TASK-3-5841           US   \n",
       "1      PROJECT_PLAN_TASK-3-5841           US   \n",
       "2      PROJECT_PLAN_TASK-3-6987           US   \n",
       "3      PROJECT_PLAN_TASK-3-6987           US   \n",
       "4      PROJECT_PLAN_TASK-3-8224           US   \n",
       "...                         ...          ...   \n",
       "36249  PROJECT_PLAN_TASK-3-5878      Islands   \n",
       "36250  PROJECT_PLAN_TASK-3-6690      Islands   \n",
       "36251  PROJECT_PLAN_TASK-3-6690      Islands   \n",
       "36252  PROJECT_PLAN_TASK-3-3704      Islands   \n",
       "36253  PROJECT_PLAN_TASK-3-3704      Islands   \n",
       "\n",
       "                                     Initiative Lobbying Lobbying Location  \\\n",
       "0      US - Clean Regional Economic Development     None              None   \n",
       "1      US - Clean Regional Economic Development     None              None   \n",
       "2      US - Clean Regional Economic Development     None              None   \n",
       "3      US - Clean Regional Economic Development     None              None   \n",
       "4                                    US - Admin     None              None   \n",
       "...                                         ...      ...               ...   \n",
       "36249                              IS - Islands     None              None   \n",
       "36250                              IS - Islands     None              None   \n",
       "36251                              IS - Islands     None              None   \n",
       "36252                              IS - Islands     None              None   \n",
       "36253                              IS - Islands     None              None   \n",
       "\n",
       "      Reported Quantity Time Cost Center  \\\n",
       "0                   2.0               US   \n",
       "1                   2.0               US   \n",
       "2                   2.0               US   \n",
       "3                   2.0               US   \n",
       "4                   1.0               US   \n",
       "...                 ...              ...   \n",
       "36249               3.0          Islands   \n",
       "36250               2.0          Islands   \n",
       "36251               3.0          Islands   \n",
       "36252               1.0          Islands   \n",
       "36253               1.0          Islands   \n",
       "\n",
       "                                Time Initiative MonthYear  \n",
       "0      US - Clean Regional Economic Development   10/2024  \n",
       "1      US - Clean Regional Economic Development   10/2024  \n",
       "2      US - Clean Regional Economic Development   10/2024  \n",
       "3      US - Clean Regional Economic Development   10/2024  \n",
       "4                                    US - Admin   10/2024  \n",
       "...                                         ...       ...  \n",
       "36249                              IS - Islands   10/2024  \n",
       "36250                              IS - Islands   10/2024  \n",
       "36251                              IS - Islands   10/2024  \n",
       "36252                              IS - Islands   10/2024  \n",
       "36253                              IS - Islands   10/2024  \n",
       "\n",
       "[36254 rows x 28 columns]"
      ]
     },
     "execution_count": 40,
     "metadata": {},
     "output_type": "execute_result"
    }
   ],
   "source": [
    "TimeDataDF"
   ]
  },
  {
   "cell_type": "markdown",
   "id": "eadd8c87",
   "metadata": {},
   "source": [
    "# Create Time Project Data for Current Month"
   ]
  },
  {
   "cell_type": "markdown",
   "id": "5557d11c",
   "metadata": {},
   "source": [
    "Create Master File for Program Financial Profile"
   ]
  },
  {
   "cell_type": "code",
   "execution_count": 41,
   "id": "5461b5f1",
   "metadata": {},
   "outputs": [],
   "source": [
    "MappingPath = './Source_Files/MappingSalaryCosting.xlsx'\n",
    "\n",
    "ProjectsMaps = pd.read_excel(MappingPath, sheet_name = 'AdminvsProject', engine='openpyxl')\n",
    "\n",
    "TimeDataDFALL = pd.merge(TimeDataDFALL, ProjectsMaps, on = 'Project Group', how = 'left')"
   ]
  },
  {
   "cell_type": "code",
   "execution_count": 42,
   "id": "fd685fd3",
   "metadata": {},
   "outputs": [
    {
     "data": {
      "text/plain": [
       "Index(['Worker', 'Employee ID', 'Worker Cost Center', 'Talent Pool',\n",
       "       'Project Group', 'Utilization Target', 'Hire Date', 'Termination Date',\n",
       "       'Title', 'Hourly Rate', 'Monthly Salary', 'Monthly Bonus Amount',\n",
       "       'Bonus %', 'Week', 'Reported Date', 'Time Type', 'Entry Type',\n",
       "       'Project', 'Project Plan Task', 'Project Plan Task ID', 'Cost Center',\n",
       "       'Initiative', 'Lobbying', 'Lobbying Location', 'Reported Quantity',\n",
       "       'Time Cost Center', 'Time Initiative', 'MonthYear', 'Project or Admin'],\n",
       "      dtype='object')"
      ]
     },
     "execution_count": 42,
     "metadata": {},
     "output_type": "execute_result"
    }
   ],
   "source": [
    "TimeDataDFALL.columns"
   ]
  },
  {
   "cell_type": "code",
   "execution_count": 43,
   "id": "5463db1c",
   "metadata": {},
   "outputs": [],
   "source": [
    "TimeDataDFALL['Employee Hours'] = TimeDataDFALL.groupby(['Worker','MonthYear'])['Reported Quantity'].transform('sum')"
   ]
  },
  {
   "cell_type": "code",
   "execution_count": 44,
   "id": "228867b1",
   "metadata": {},
   "outputs": [],
   "source": [
    "TimeDataDFALL['Percent of Total Monthly Hours'] = TimeDataDFALL['Reported Quantity'] / TimeDataDFALL['Employee Hours']"
   ]
  },
  {
   "cell_type": "code",
   "execution_count": null,
   "id": "7e783d6e",
   "metadata": {},
   "outputs": [],
   "source": []
  },
  {
   "cell_type": "code",
   "execution_count": 45,
   "id": "3463b0fa",
   "metadata": {},
   "outputs": [
    {
     "data": {
      "text/plain": [
       "Index(['Worker', 'Employee ID', 'Worker Cost Center', 'Talent Pool',\n",
       "       'Project Group', 'Utilization Target', 'Hire Date', 'Termination Date',\n",
       "       'Title', 'Hourly Rate', 'Monthly Salary', 'Monthly Bonus Amount',\n",
       "       'Bonus %', 'Week', 'Reported Date', 'Time Type', 'Entry Type',\n",
       "       'Project', 'Project Plan Task', 'Project Plan Task ID', 'Cost Center',\n",
       "       'Initiative', 'Lobbying', 'Lobbying Location', 'Reported Quantity',\n",
       "       'Time Cost Center', 'Time Initiative', 'MonthYear', 'Project or Admin',\n",
       "       'Employee Hours', 'Percent of Total Monthly Hours'],\n",
       "      dtype='object')"
      ]
     },
     "execution_count": 45,
     "metadata": {},
     "output_type": "execute_result"
    }
   ],
   "source": [
    "TimeDataDFALL.columns"
   ]
  },
  {
   "cell_type": "code",
   "execution_count": 46,
   "id": "7b55982d",
   "metadata": {},
   "outputs": [],
   "source": [
    "TimeDataDFALL = TimeDataDFALL[['Worker', 'Employee ID', 'Worker Cost Center', 'Talent Pool',\n",
    "       'Project Group', 'Utilization Target', 'Hire Date', 'Termination Date',\n",
    "       'Title', 'Reported Date', 'Time Type', 'Entry Type',\n",
    "       'Project', 'Project Plan Task', 'Project Plan Task ID', 'Cost Center',\n",
    "       'Initiative', 'Reported Quantity', 'Week',\n",
    "       'Time Cost Center', 'Time Initiative', 'MonthYear', 'Project or Admin',\n",
    "       'Employee Hours', 'Percent of Total Monthly Hours']]"
   ]
  },
  {
   "cell_type": "code",
   "execution_count": null,
   "id": "6cae933e",
   "metadata": {},
   "outputs": [],
   "source": []
  },
  {
   "cell_type": "code",
   "execution_count": null,
   "id": "869ab180",
   "metadata": {},
   "outputs": [],
   "source": []
  },
  {
   "cell_type": "code",
   "execution_count": null,
   "id": "075e7627",
   "metadata": {},
   "outputs": [],
   "source": []
  },
  {
   "cell_type": "markdown",
   "id": "71687b36",
   "metadata": {},
   "source": [
    "Print this code to see all historic Workday Data with Mavenlink data"
   ]
  },
  {
   "cell_type": "markdown",
   "id": "bae44270",
   "metadata": {},
   "source": [
    "# Load All Bonus Data"
   ]
  },
  {
   "cell_type": "code",
   "execution_count": 47,
   "id": "d465568b",
   "metadata": {},
   "outputs": [],
   "source": [
    "ALLRMIBonuses = './Source_Files/RMI_-_Bonus_Report_for_Finance (1).xlsx'\n",
    "\n",
    "ALLRMISalariesBonuses = pd.read_excel(ALLRMIBonuses, engine='openpyxl')\n",
    "\n",
    "\n",
    "ALLRMISalariesBonuses = ALLRMISalariesBonuses[ALLRMISalariesBonuses['Currency']!='INR']"
   ]
  },
  {
   "cell_type": "code",
   "execution_count": 48,
   "id": "c725a5c1",
   "metadata": {},
   "outputs": [],
   "source": [
    "ALLRMISalariesBonuses = ALLRMISalariesBonuses[ALLRMISalariesBonuses['Currency']!='INR']"
   ]
  },
  {
   "cell_type": "code",
   "execution_count": 49,
   "id": "e38e127b",
   "metadata": {},
   "outputs": [
    {
     "data": {
      "text/plain": [
       "701"
      ]
     },
     "execution_count": 49,
     "metadata": {},
     "output_type": "execute_result"
    }
   ],
   "source": [
    "len(ALLRMISalariesBonuses)"
   ]
  },
  {
   "cell_type": "code",
   "execution_count": 50,
   "id": "4d3dea85",
   "metadata": {},
   "outputs": [],
   "source": [
    "ALLRMISalariesBonuses['Hire Date Reformat'] = pd.to_datetime(ALLRMISalariesBonuses['Hire Date'], format='%m/%d/%Y')\n",
    "cutoff_date = pd.to_datetime(TemplateDate1)\n",
    "\n",
    "# Filter the DataFrame\n",
    "ALLRMISalariesBonuses = ALLRMISalariesBonuses[ALLRMISalariesBonuses['Hire Date Reformat'] <= TemplateDate1]"
   ]
  },
  {
   "cell_type": "code",
   "execution_count": 51,
   "id": "dcb3b3ab",
   "metadata": {},
   "outputs": [
    {
     "data": {
      "text/plain": [
       "696"
      ]
     },
     "execution_count": 51,
     "metadata": {},
     "output_type": "execute_result"
    }
   ],
   "source": [
    "len(ALLRMISalariesBonuses)"
   ]
  },
  {
   "cell_type": "code",
   "execution_count": 52,
   "id": "5f719058",
   "metadata": {},
   "outputs": [
    {
     "data": {
      "text/html": [
       "<div>\n",
       "<style scoped>\n",
       "    .dataframe tbody tr th:only-of-type {\n",
       "        vertical-align: middle;\n",
       "    }\n",
       "\n",
       "    .dataframe tbody tr th {\n",
       "        vertical-align: top;\n",
       "    }\n",
       "\n",
       "    .dataframe thead th {\n",
       "        text-align: right;\n",
       "    }\n",
       "</style>\n",
       "<table border=\"1\" class=\"dataframe\">\n",
       "  <thead>\n",
       "    <tr style=\"text-align: right;\">\n",
       "      <th></th>\n",
       "      <th>Company</th>\n",
       "      <th>Worker</th>\n",
       "      <th>Employee ID</th>\n",
       "      <th>Hire Date</th>\n",
       "      <th>Total Base Pay Annualized - Amount</th>\n",
       "      <th>Currency</th>\n",
       "      <th>Position</th>\n",
       "      <th>Bonus %</th>\n",
       "      <th>Bonus Annual</th>\n",
       "      <th>Bonus Monthly</th>\n",
       "      <th>Hire Date Reformat</th>\n",
       "    </tr>\n",
       "  </thead>\n",
       "  <tbody>\n",
       "    <tr>\n",
       "      <th>0</th>\n",
       "      <td>Rocky Mountain Institute</td>\n",
       "      <td>Ting Li</td>\n",
       "      <td>1</td>\n",
       "      <td>2015-03-01</td>\n",
       "      <td>2109050.18</td>\n",
       "      <td>CNY</td>\n",
       "      <td>Managing Director, RMI China</td>\n",
       "      <td>0.25</td>\n",
       "      <td>527262.545</td>\n",
       "      <td>43938.545417</td>\n",
       "      <td>2015-03-01</td>\n",
       "    </tr>\n",
       "    <tr>\n",
       "      <th>1</th>\n",
       "      <td>Rocky Mountain Institute</td>\n",
       "      <td>Li Ma | Cynthia Ma</td>\n",
       "      <td>4</td>\n",
       "      <td>2015-10-08</td>\n",
       "      <td>808995.65</td>\n",
       "      <td>CNY</td>\n",
       "      <td>Sr. Operations Manager - China</td>\n",
       "      <td>0.10</td>\n",
       "      <td>80899.565</td>\n",
       "      <td>6741.630417</td>\n",
       "      <td>2015-10-08</td>\n",
       "    </tr>\n",
       "    <tr>\n",
       "      <th>2</th>\n",
       "      <td>Rocky Mountain Institute</td>\n",
       "      <td>Zhe Wang</td>\n",
       "      <td>5</td>\n",
       "      <td>2015-10-20</td>\n",
       "      <td>1088591.61</td>\n",
       "      <td>CNY</td>\n",
       "      <td>Principal</td>\n",
       "      <td>0.20</td>\n",
       "      <td>217718.322</td>\n",
       "      <td>18143.193500</td>\n",
       "      <td>2015-10-20</td>\n",
       "    </tr>\n",
       "    <tr>\n",
       "      <th>3</th>\n",
       "      <td>Rocky Mountain Institute</td>\n",
       "      <td>Shutong Lu | Lucy Lu</td>\n",
       "      <td>6</td>\n",
       "      <td>2016-04-07</td>\n",
       "      <td>870315.68</td>\n",
       "      <td>CNY</td>\n",
       "      <td>Manager</td>\n",
       "      <td>0.10</td>\n",
       "      <td>87031.568</td>\n",
       "      <td>7252.630667</td>\n",
       "      <td>2016-04-07</td>\n",
       "    </tr>\n",
       "    <tr>\n",
       "      <th>4</th>\n",
       "      <td>Rocky Mountain Institute</td>\n",
       "      <td>Dan Li | Danielle Li</td>\n",
       "      <td>7</td>\n",
       "      <td>2016-10-18</td>\n",
       "      <td>791812.50</td>\n",
       "      <td>CNY</td>\n",
       "      <td>Sr Program Marketing Manager</td>\n",
       "      <td>0.10</td>\n",
       "      <td>79181.250</td>\n",
       "      <td>6598.437500</td>\n",
       "      <td>2016-10-18</td>\n",
       "    </tr>\n",
       "  </tbody>\n",
       "</table>\n",
       "</div>"
      ],
      "text/plain": [
       "                    Company                Worker  Employee ID  Hire Date  \\\n",
       "0  Rocky Mountain Institute               Ting Li            1 2015-03-01   \n",
       "1  Rocky Mountain Institute    Li Ma | Cynthia Ma            4 2015-10-08   \n",
       "2  Rocky Mountain Institute              Zhe Wang            5 2015-10-20   \n",
       "3  Rocky Mountain Institute  Shutong Lu | Lucy Lu            6 2016-04-07   \n",
       "4  Rocky Mountain Institute  Dan Li | Danielle Li            7 2016-10-18   \n",
       "\n",
       "   Total Base Pay Annualized - Amount Currency  \\\n",
       "0                          2109050.18      CNY   \n",
       "1                           808995.65      CNY   \n",
       "2                          1088591.61      CNY   \n",
       "3                           870315.68      CNY   \n",
       "4                           791812.50      CNY   \n",
       "\n",
       "                         Position  Bonus %  Bonus Annual  Bonus Monthly  \\\n",
       "0    Managing Director, RMI China     0.25    527262.545   43938.545417   \n",
       "1  Sr. Operations Manager - China     0.10     80899.565    6741.630417   \n",
       "2                       Principal     0.20    217718.322   18143.193500   \n",
       "3                         Manager     0.10     87031.568    7252.630667   \n",
       "4    Sr Program Marketing Manager     0.10     79181.250    6598.437500   \n",
       "\n",
       "  Hire Date Reformat  \n",
       "0         2015-03-01  \n",
       "1         2015-10-08  \n",
       "2         2015-10-20  \n",
       "3         2016-04-07  \n",
       "4         2016-10-18  "
      ]
     },
     "execution_count": 52,
     "metadata": {},
     "output_type": "execute_result"
    }
   ],
   "source": [
    "ALLRMISalariesBonuses.head()"
   ]
  },
  {
   "cell_type": "code",
   "execution_count": 53,
   "id": "2c677bb4",
   "metadata": {},
   "outputs": [],
   "source": [
    "ALLRMISalariesBonuses['Bonus Final'] = np.where(ALLRMISalariesBonuses['Currency']=='CNY',USChinaExchange*ALLRMISalariesBonuses['Bonus Monthly'] , ALLRMISalariesBonuses['Bonus Monthly'])\n",
    "\n",
    "ALLRMISalariesBonuses = ALLRMISalariesBonuses[['Employee ID', 'Bonus Final']]"
   ]
  },
  {
   "cell_type": "code",
   "execution_count": 54,
   "id": "186a8188",
   "metadata": {},
   "outputs": [
    {
     "data": {
      "text/plain": [
       "781159.4615469725"
      ]
     },
     "execution_count": 54,
     "metadata": {},
     "output_type": "execute_result"
    }
   ],
   "source": [
    "ALLRMISalariesBonuses['Bonus Final'].sum()"
   ]
  },
  {
   "cell_type": "markdown",
   "id": "f8cee669",
   "metadata": {},
   "source": [
    "# Load All Employee Counts and Update Available days for Terminations and Hires\n",
    "\n",
    "This file can't be pulled on a specific date.  I'm currently using it for Home Cost Centers, but I am using the number of Salaries paid to count salaries, and just using this file for a lookup table."
   ]
  },
  {
   "cell_type": "code",
   "execution_count": 55,
   "id": "1491b72a",
   "metadata": {},
   "outputs": [],
   "source": [
    "#click \"Terminated\" and leave other fields blank\n",
    "\n",
    "ALLRMISalaries = './Source_Files/RMI_-_EE_Report_for_Accounting (7).xlsx'\n",
    "\n",
    "SalaryCATS = pd.read_excel(ALLRMISalaries, engine='openpyxl')"
   ]
  },
  {
   "cell_type": "code",
   "execution_count": null,
   "id": "215fc4de",
   "metadata": {},
   "outputs": [],
   "source": []
  },
  {
   "cell_type": "code",
   "execution_count": 56,
   "id": "547dddb6",
   "metadata": {},
   "outputs": [
    {
     "data": {
      "text/plain": [
       "1120"
      ]
     },
     "execution_count": 56,
     "metadata": {},
     "output_type": "execute_result"
    }
   ],
   "source": [
    "len(SalaryCATS)"
   ]
  },
  {
   "cell_type": "code",
   "execution_count": 57,
   "id": "08e881ea",
   "metadata": {},
   "outputs": [
    {
     "data": {
      "text/html": [
       "<div>\n",
       "<style scoped>\n",
       "    .dataframe tbody tr th:only-of-type {\n",
       "        vertical-align: middle;\n",
       "    }\n",
       "\n",
       "    .dataframe tbody tr th {\n",
       "        vertical-align: top;\n",
       "    }\n",
       "\n",
       "    .dataframe thead th {\n",
       "        text-align: right;\n",
       "    }\n",
       "</style>\n",
       "<table border=\"1\" class=\"dataframe\">\n",
       "  <thead>\n",
       "    <tr style=\"text-align: right;\">\n",
       "      <th></th>\n",
       "      <th>Employee Name</th>\n",
       "      <th>Employee ID</th>\n",
       "      <th>Company</th>\n",
       "      <th>Cost Center</th>\n",
       "      <th>Work Email</th>\n",
       "      <th>Employment Status</th>\n",
       "      <th>Worker Type</th>\n",
       "      <th>Employee Type</th>\n",
       "      <th>Contingent Worker Type</th>\n",
       "      <th>Time Type</th>\n",
       "      <th>Location</th>\n",
       "      <th>Hire Date</th>\n",
       "      <th>Termination Date</th>\n",
       "      <th>Title</th>\n",
       "      <th>Exempt/Non-Exempt</th>\n",
       "      <th>Annual Base (USD)</th>\n",
       "      <th>Worker Utilization Target</th>\n",
       "      <th>Talent Pools</th>\n",
       "    </tr>\n",
       "  </thead>\n",
       "  <tbody>\n",
       "    <tr>\n",
       "      <th>0</th>\n",
       "      <td>Ting Li</td>\n",
       "      <td>1</td>\n",
       "      <td>Rocky Mountain Institute</td>\n",
       "      <td>China</td>\n",
       "      <td>NaN</td>\n",
       "      <td>Active</td>\n",
       "      <td>Employee</td>\n",
       "      <td>Regular</td>\n",
       "      <td>NaN</td>\n",
       "      <td>Full time</td>\n",
       "      <td>Beijing</td>\n",
       "      <td>2015-03-01</td>\n",
       "      <td>NaT</td>\n",
       "      <td>Managing Director, RMI China</td>\n",
       "      <td>Exempt</td>\n",
       "      <td>294652.26</td>\n",
       "      <td>0.55</td>\n",
       "      <td>Managing Director</td>\n",
       "    </tr>\n",
       "    <tr>\n",
       "      <th>1</th>\n",
       "      <td>Li Ma | Cynthia Ma</td>\n",
       "      <td>4</td>\n",
       "      <td>Rocky Mountain Institute</td>\n",
       "      <td>China</td>\n",
       "      <td>NaN</td>\n",
       "      <td>Active</td>\n",
       "      <td>Employee</td>\n",
       "      <td>Regular</td>\n",
       "      <td>NaN</td>\n",
       "      <td>Full time</td>\n",
       "      <td>Beijing</td>\n",
       "      <td>2015-10-08</td>\n",
       "      <td>NaT</td>\n",
       "      <td>Sr. Operations Manager - China</td>\n",
       "      <td>Exempt</td>\n",
       "      <td>113023.58</td>\n",
       "      <td>0.65</td>\n",
       "      <td>Manager</td>\n",
       "    </tr>\n",
       "    <tr>\n",
       "      <th>2</th>\n",
       "      <td>Zhe Wang</td>\n",
       "      <td>5</td>\n",
       "      <td>Rocky Mountain Institute</td>\n",
       "      <td>China</td>\n",
       "      <td>NaN</td>\n",
       "      <td>Active</td>\n",
       "      <td>Employee</td>\n",
       "      <td>Regular</td>\n",
       "      <td>NaN</td>\n",
       "      <td>Full time</td>\n",
       "      <td>Beijing</td>\n",
       "      <td>2015-10-20</td>\n",
       "      <td>NaT</td>\n",
       "      <td>Principal</td>\n",
       "      <td>Exempt</td>\n",
       "      <td>152085.51</td>\n",
       "      <td>0.60</td>\n",
       "      <td>Principal</td>\n",
       "    </tr>\n",
       "    <tr>\n",
       "      <th>3</th>\n",
       "      <td>Shutong Lu | Lucy Lu</td>\n",
       "      <td>6</td>\n",
       "      <td>Rocky Mountain Institute</td>\n",
       "      <td>China</td>\n",
       "      <td>NaN</td>\n",
       "      <td>Active</td>\n",
       "      <td>Employee</td>\n",
       "      <td>Regular</td>\n",
       "      <td>NaN</td>\n",
       "      <td>Full time</td>\n",
       "      <td>Beijing</td>\n",
       "      <td>2016-04-07</td>\n",
       "      <td>NaT</td>\n",
       "      <td>Manager</td>\n",
       "      <td>Exempt</td>\n",
       "      <td>121590.51</td>\n",
       "      <td>0.65</td>\n",
       "      <td>Manager</td>\n",
       "    </tr>\n",
       "    <tr>\n",
       "      <th>4</th>\n",
       "      <td>Dan Li | Danielle Li</td>\n",
       "      <td>7</td>\n",
       "      <td>Rocky Mountain Institute</td>\n",
       "      <td>China</td>\n",
       "      <td>NaN</td>\n",
       "      <td>Active</td>\n",
       "      <td>Employee</td>\n",
       "      <td>Regular</td>\n",
       "      <td>NaN</td>\n",
       "      <td>Full time</td>\n",
       "      <td>Beijing</td>\n",
       "      <td>2016-10-18</td>\n",
       "      <td>NaT</td>\n",
       "      <td>Sr Program Marketing Manager</td>\n",
       "      <td>Exempt</td>\n",
       "      <td>110622.95</td>\n",
       "      <td>0.65</td>\n",
       "      <td>Manager</td>\n",
       "    </tr>\n",
       "    <tr>\n",
       "      <th>...</th>\n",
       "      <td>...</td>\n",
       "      <td>...</td>\n",
       "      <td>...</td>\n",
       "      <td>...</td>\n",
       "      <td>...</td>\n",
       "      <td>...</td>\n",
       "      <td>...</td>\n",
       "      <td>...</td>\n",
       "      <td>...</td>\n",
       "      <td>...</td>\n",
       "      <td>...</td>\n",
       "      <td>...</td>\n",
       "      <td>...</td>\n",
       "      <td>...</td>\n",
       "      <td>...</td>\n",
       "      <td>...</td>\n",
       "      <td>...</td>\n",
       "      <td>...</td>\n",
       "    </tr>\n",
       "    <tr>\n",
       "      <th>1115</th>\n",
       "      <td>Sadie Tetreault</td>\n",
       "      <td>1991</td>\n",
       "      <td>Rocky Mountain Institute</td>\n",
       "      <td>Climate Intelligence</td>\n",
       "      <td>NaN</td>\n",
       "      <td>NaN</td>\n",
       "      <td>Contingent Worker</td>\n",
       "      <td>NaN</td>\n",
       "      <td>University Paid Intern</td>\n",
       "      <td>Full time</td>\n",
       "      <td>Remote - North Carolina</td>\n",
       "      <td>2024-05-21</td>\n",
       "      <td>2024-08-06</td>\n",
       "      <td>Intern</td>\n",
       "      <td>NaN</td>\n",
       "      <td>0.00</td>\n",
       "      <td>0.00</td>\n",
       "      <td>NaN</td>\n",
       "    </tr>\n",
       "    <tr>\n",
       "      <th>1116</th>\n",
       "      <td>Sydney Williams</td>\n",
       "      <td>1992</td>\n",
       "      <td>Rocky Mountain Institute</td>\n",
       "      <td>Climate Finance Access Network</td>\n",
       "      <td>NaN</td>\n",
       "      <td>NaN</td>\n",
       "      <td>Contingent Worker</td>\n",
       "      <td>NaN</td>\n",
       "      <td>University Paid Intern</td>\n",
       "      <td>Full time</td>\n",
       "      <td>Remote - North Carolina</td>\n",
       "      <td>2024-05-21</td>\n",
       "      <td>2024-08-06</td>\n",
       "      <td>Intern</td>\n",
       "      <td>NaN</td>\n",
       "      <td>0.00</td>\n",
       "      <td>0.00</td>\n",
       "      <td>NaN</td>\n",
       "    </tr>\n",
       "    <tr>\n",
       "      <th>1117</th>\n",
       "      <td>Jessica Yan</td>\n",
       "      <td>1993</td>\n",
       "      <td>Rocky Mountain Institute</td>\n",
       "      <td>Finance</td>\n",
       "      <td>NaN</td>\n",
       "      <td>NaN</td>\n",
       "      <td>Contingent Worker</td>\n",
       "      <td>NaN</td>\n",
       "      <td>University Paid Intern</td>\n",
       "      <td>Full time</td>\n",
       "      <td>Remote - Arizona</td>\n",
       "      <td>2024-06-25</td>\n",
       "      <td>2024-09-17</td>\n",
       "      <td>Intern</td>\n",
       "      <td>NaN</td>\n",
       "      <td>0.00</td>\n",
       "      <td>0.00</td>\n",
       "      <td>NaN</td>\n",
       "    </tr>\n",
       "    <tr>\n",
       "      <th>1118</th>\n",
       "      <td>Oluwanifemi Blessing Ojo</td>\n",
       "      <td>2027</td>\n",
       "      <td>RMI International</td>\n",
       "      <td>Energy Transition Academy</td>\n",
       "      <td>NaN</td>\n",
       "      <td>NaN</td>\n",
       "      <td>Contingent Worker</td>\n",
       "      <td>NaN</td>\n",
       "      <td>Contractor</td>\n",
       "      <td>Full time</td>\n",
       "      <td>Remote-France</td>\n",
       "      <td>2024-07-01</td>\n",
       "      <td>2024-09-23</td>\n",
       "      <td>Intern</td>\n",
       "      <td>NaN</td>\n",
       "      <td>0.00</td>\n",
       "      <td>0.00</td>\n",
       "      <td>NaN</td>\n",
       "    </tr>\n",
       "    <tr>\n",
       "      <th>1119</th>\n",
       "      <td>Tara Secue</td>\n",
       "      <td>2071</td>\n",
       "      <td>Rocky Mountain Institute</td>\n",
       "      <td>People Team</td>\n",
       "      <td>NaN</td>\n",
       "      <td>Active</td>\n",
       "      <td>Contingent Worker</td>\n",
       "      <td>NaN</td>\n",
       "      <td>Consultant</td>\n",
       "      <td>Part time</td>\n",
       "      <td>Remote - Colorado</td>\n",
       "      <td>2024-10-10</td>\n",
       "      <td>NaT</td>\n",
       "      <td>Contractor</td>\n",
       "      <td>NaN</td>\n",
       "      <td>0.00</td>\n",
       "      <td>0.00</td>\n",
       "      <td>NaN</td>\n",
       "    </tr>\n",
       "  </tbody>\n",
       "</table>\n",
       "<p>1120 rows × 18 columns</p>\n",
       "</div>"
      ],
      "text/plain": [
       "                 Employee Name  Employee ID                   Company  \\\n",
       "0                      Ting Li            1  Rocky Mountain Institute   \n",
       "1           Li Ma | Cynthia Ma            4  Rocky Mountain Institute   \n",
       "2                     Zhe Wang            5  Rocky Mountain Institute   \n",
       "3         Shutong Lu | Lucy Lu            6  Rocky Mountain Institute   \n",
       "4         Dan Li | Danielle Li            7  Rocky Mountain Institute   \n",
       "...                        ...          ...                       ...   \n",
       "1115           Sadie Tetreault         1991  Rocky Mountain Institute   \n",
       "1116           Sydney Williams         1992  Rocky Mountain Institute   \n",
       "1117               Jessica Yan         1993  Rocky Mountain Institute   \n",
       "1118  Oluwanifemi Blessing Ojo         2027         RMI International   \n",
       "1119                Tara Secue         2071  Rocky Mountain Institute   \n",
       "\n",
       "                         Cost Center Work Email Employment Status  \\\n",
       "0                              China        NaN            Active   \n",
       "1                              China        NaN            Active   \n",
       "2                              China        NaN            Active   \n",
       "3                              China        NaN            Active   \n",
       "4                              China        NaN            Active   \n",
       "...                              ...        ...               ...   \n",
       "1115            Climate Intelligence        NaN               NaN   \n",
       "1116  Climate Finance Access Network        NaN               NaN   \n",
       "1117                         Finance        NaN               NaN   \n",
       "1118       Energy Transition Academy        NaN               NaN   \n",
       "1119                     People Team        NaN            Active   \n",
       "\n",
       "            Worker Type Employee Type  Contingent Worker Type  Time Type  \\\n",
       "0              Employee       Regular                     NaN  Full time   \n",
       "1              Employee       Regular                     NaN  Full time   \n",
       "2              Employee       Regular                     NaN  Full time   \n",
       "3              Employee       Regular                     NaN  Full time   \n",
       "4              Employee       Regular                     NaN  Full time   \n",
       "...                 ...           ...                     ...        ...   \n",
       "1115  Contingent Worker           NaN  University Paid Intern  Full time   \n",
       "1116  Contingent Worker           NaN  University Paid Intern  Full time   \n",
       "1117  Contingent Worker           NaN  University Paid Intern  Full time   \n",
       "1118  Contingent Worker           NaN              Contractor  Full time   \n",
       "1119  Contingent Worker           NaN              Consultant  Part time   \n",
       "\n",
       "                     Location  Hire Date Termination Date  \\\n",
       "0                     Beijing 2015-03-01              NaT   \n",
       "1                     Beijing 2015-10-08              NaT   \n",
       "2                     Beijing 2015-10-20              NaT   \n",
       "3                     Beijing 2016-04-07              NaT   \n",
       "4                     Beijing 2016-10-18              NaT   \n",
       "...                       ...        ...              ...   \n",
       "1115  Remote - North Carolina 2024-05-21       2024-08-06   \n",
       "1116  Remote - North Carolina 2024-05-21       2024-08-06   \n",
       "1117         Remote - Arizona 2024-06-25       2024-09-17   \n",
       "1118            Remote-France 2024-07-01       2024-09-23   \n",
       "1119        Remote - Colorado 2024-10-10              NaT   \n",
       "\n",
       "                               Title Exempt/Non-Exempt  Annual Base (USD)  \\\n",
       "0       Managing Director, RMI China            Exempt          294652.26   \n",
       "1     Sr. Operations Manager - China            Exempt          113023.58   \n",
       "2                          Principal            Exempt          152085.51   \n",
       "3                            Manager            Exempt          121590.51   \n",
       "4       Sr Program Marketing Manager            Exempt          110622.95   \n",
       "...                              ...               ...                ...   \n",
       "1115                          Intern               NaN               0.00   \n",
       "1116                          Intern               NaN               0.00   \n",
       "1117                          Intern               NaN               0.00   \n",
       "1118                          Intern               NaN               0.00   \n",
       "1119                      Contractor               NaN               0.00   \n",
       "\n",
       "      Worker Utilization Target       Talent Pools  \n",
       "0                          0.55  Managing Director  \n",
       "1                          0.65            Manager  \n",
       "2                          0.60          Principal  \n",
       "3                          0.65            Manager  \n",
       "4                          0.65            Manager  \n",
       "...                         ...                ...  \n",
       "1115                       0.00                NaN  \n",
       "1116                       0.00                NaN  \n",
       "1117                       0.00                NaN  \n",
       "1118                       0.00                NaN  \n",
       "1119                       0.00                NaN  \n",
       "\n",
       "[1120 rows x 18 columns]"
      ]
     },
     "execution_count": 57,
     "metadata": {},
     "output_type": "execute_result"
    }
   ],
   "source": [
    "SalaryCATS"
   ]
  },
  {
   "cell_type": "code",
   "execution_count": 58,
   "id": "326660fc",
   "metadata": {},
   "outputs": [],
   "source": [
    "UtilizationList = SalaryCATS[['Employee ID', 'Worker Utilization Target', 'Talent Pools']]"
   ]
  },
  {
   "cell_type": "code",
   "execution_count": 59,
   "id": "82c8b06f",
   "metadata": {},
   "outputs": [],
   "source": [
    "UtilizationList = UtilizationList.rename(columns={'Worker Utilization Target': 'Utilization Target'})"
   ]
  },
  {
   "cell_type": "code",
   "execution_count": 60,
   "id": "7cf62de7",
   "metadata": {
    "scrolled": true
   },
   "outputs": [],
   "source": [
    "EmployeeCostCenters = SalaryCATS[['Employee ID', 'Cost Center', 'Employee Type', 'Hire Date', 'Termination Date','Location']].drop_duplicates()"
   ]
  },
  {
   "cell_type": "code",
   "execution_count": 61,
   "id": "6ba4352a",
   "metadata": {},
   "outputs": [],
   "source": [
    "HomeCostCenterlist = EmployeeCostCenters[['Cost Center', 'Employee ID']]\n",
    "HomeCostCenterlist = HomeCostCenterlist.rename(columns={'Cost Center': 'Home Cost Center'})\n",
    "#HomeCostCenterlist['Employee ID'] = HomeCostCenterlist['Employee ID'].astype(int)"
   ]
  },
  {
   "cell_type": "code",
   "execution_count": 62,
   "id": "a92e3a88",
   "metadata": {},
   "outputs": [],
   "source": [
    "Name_and_HomeCCList = SalaryCATS[['Employee ID', 'Employee Name']]"
   ]
  },
  {
   "cell_type": "code",
   "execution_count": 63,
   "id": "a72f7775",
   "metadata": {},
   "outputs": [
    {
     "data": {
      "text/plain": [
       "Employee ID                  int64\n",
       "Cost Center                 object\n",
       "Employee Type               object\n",
       "Hire Date           datetime64[ns]\n",
       "Termination Date    datetime64[ns]\n",
       "Location                    object\n",
       "dtype: object"
      ]
     },
     "execution_count": 63,
     "metadata": {},
     "output_type": "execute_result"
    }
   ],
   "source": [
    "EmployeeCostCenters.dtypes"
   ]
  },
  {
   "cell_type": "code",
   "execution_count": 64,
   "id": "9833ee93",
   "metadata": {},
   "outputs": [
    {
     "data": {
      "text/plain": [
       "1120"
      ]
     },
     "execution_count": 64,
     "metadata": {},
     "output_type": "execute_result"
    }
   ],
   "source": [
    "len(EmployeeCostCenters)"
   ]
  },
  {
   "cell_type": "code",
   "execution_count": null,
   "id": "732d3999",
   "metadata": {},
   "outputs": [],
   "source": []
  },
  {
   "cell_type": "code",
   "execution_count": 65,
   "id": "7d2bbb42",
   "metadata": {},
   "outputs": [],
   "source": [
    "EmployeeCostCenters['Termination Date'].fillna('10-31-2040', inplace=True)\n",
    "EmployeeCostCenters['Termination Date'] = EmployeeCostCenters['Termination Date'].astype('datetime64[ns]')"
   ]
  },
  {
   "cell_type": "code",
   "execution_count": 66,
   "id": "4bd3e358",
   "metadata": {},
   "outputs": [],
   "source": [
    "EmployeeCostCenters['Available Days1'] = EmployeeCostCenters['Hire Date'].apply(returndaysfromhire)\n",
    "EmployeeCostCenters['Available Days2'] = EmployeeCostCenters['Termination Date'].apply(returndaysfromtermination)"
   ]
  },
  {
   "cell_type": "code",
   "execution_count": 67,
   "id": "0a7c8d77",
   "metadata": {},
   "outputs": [],
   "source": [
    "EmployeeCostCenters['Termination Month'] = EmployeeCostCenters['Termination Date'].dt.month.astype(str).apply(lambda x: x.replace('.0',''))\n",
    "EmployeeCostCenters['Termination Year'] = EmployeeCostCenters['Termination Date'].dt.year.astype(str).apply(lambda x: x.replace('.0',''))\n",
    "EmployeeCostCenters['Termination Month&Year'] = EmployeeCostCenters['Termination Month'] + \"/\" + EmployeeCostCenters['Termination Year']"
   ]
  },
  {
   "cell_type": "code",
   "execution_count": 68,
   "id": "e5ac4e52",
   "metadata": {},
   "outputs": [],
   "source": [
    "EmployeeCostCenters['Hire Month&Year'] = EmployeeCostCenters['Hire Date'].dt.month.astype(str) + '/' +EmployeeCostCenters['Hire Date'].dt.year.astype(str)"
   ]
  },
  {
   "cell_type": "code",
   "execution_count": 69,
   "id": "caf8b062",
   "metadata": {},
   "outputs": [],
   "source": [
    "EmployeeCostCenters['Available Days3'] = EmployeeCostCenters['Available Days1'] + EmployeeCostCenters['Available Days2']\n",
    "EmployeeCostCenters['Available Days3'] = EmployeeCostCenters['Available Days3'].replace(0,AvailableDays)\n",
    "EmployeeCostCenters['Available DaysFINAL'] = np.where(EmployeeCostCenters['Available Days3'] > AvailableDays, EmployeeCostCenters['Available Days2'], EmployeeCostCenters['Available Days3'])"
   ]
  },
  {
   "cell_type": "code",
   "execution_count": 70,
   "id": "d9e153f5",
   "metadata": {},
   "outputs": [],
   "source": [
    "#EmployeeCostCenters.to_excel('/mnt/c/Users/jerem/anaconda3/envs/Code/RMICODING/Data/TimeCodingData/Outputs/EmployeeCostCenters2.xlsx')"
   ]
  },
  {
   "cell_type": "code",
   "execution_count": 71,
   "id": "9a65e023",
   "metadata": {},
   "outputs": [
    {
     "data": {
      "text/plain": [
       "Index(['Employee ID', 'Cost Center', 'Employee Type', 'Hire Date',\n",
       "       'Termination Date', 'Location', 'Available Days1', 'Available Days2',\n",
       "       'Termination Month', 'Termination Year', 'Termination Month&Year',\n",
       "       'Hire Month&Year', 'Available Days3', 'Available DaysFINAL'],\n",
       "      dtype='object')"
      ]
     },
     "execution_count": 71,
     "metadata": {},
     "output_type": "execute_result"
    }
   ],
   "source": [
    "EmployeeCostCenters.columns"
   ]
  },
  {
   "cell_type": "code",
   "execution_count": 72,
   "id": "c593fa0e",
   "metadata": {},
   "outputs": [],
   "source": [
    "EmployeeCostCenters = EmployeeCostCenters[['Employee ID', 'Cost Center', 'Employee Type', 'Hire Date',\n",
    "       'Termination Date', 'Location',\n",
    "       'Available DaysFINAL']]"
   ]
  },
  {
   "cell_type": "code",
   "execution_count": 73,
   "id": "1cb3e19c",
   "metadata": {},
   "outputs": [],
   "source": [
    "EmployeeCostCenters = EmployeeCostCenters.rename(columns={'Available DaysFINAL': 'Available Days'})"
   ]
  },
  {
   "cell_type": "code",
   "execution_count": 74,
   "id": "74e744c5",
   "metadata": {},
   "outputs": [],
   "source": [
    "EmployeeCostCenters['Employee Type'].fillna('Contingent', inplace=True)"
   ]
  },
  {
   "cell_type": "code",
   "execution_count": 75,
   "id": "c8e5a1da",
   "metadata": {},
   "outputs": [
    {
     "data": {
      "text/plain": [
       "23    1104\n",
       "18       3\n",
       "8        3\n",
       "22       2\n",
       "13       2\n",
       "9        2\n",
       "19       1\n",
       "16       1\n",
       "14       1\n",
       "11       1\n",
       "Name: Available Days, dtype: int64"
      ]
     },
     "execution_count": 75,
     "metadata": {},
     "output_type": "execute_result"
    }
   ],
   "source": [
    "EmployeeCostCenters['Available Days'].value_counts()"
   ]
  },
  {
   "cell_type": "code",
   "execution_count": 76,
   "id": "c825c3fa",
   "metadata": {},
   "outputs": [],
   "source": [
    "EmployeeCostCenters['Employee ID'] = EmployeeCostCenters['Employee ID'].astype(int)"
   ]
  },
  {
   "cell_type": "code",
   "execution_count": 77,
   "id": "b0b80e10",
   "metadata": {},
   "outputs": [],
   "source": [
    "EmployeeCostCenters = EmployeeCostCenters.rename(columns={'Employee Type': 'Category'})"
   ]
  },
  {
   "cell_type": "code",
   "execution_count": 78,
   "id": "d0319118",
   "metadata": {},
   "outputs": [],
   "source": [
    "LocationbyEmployee = EmployeeCostCenters[['Employee ID', 'Location']].drop_duplicates()"
   ]
  },
  {
   "cell_type": "code",
   "execution_count": null,
   "id": "a492480c",
   "metadata": {},
   "outputs": [],
   "source": []
  },
  {
   "cell_type": "code",
   "execution_count": null,
   "id": "423d5494",
   "metadata": {},
   "outputs": [],
   "source": []
  },
  {
   "cell_type": "markdown",
   "id": "3f87f84e",
   "metadata": {},
   "source": [
    "# Load Salary Data for RMI"
   ]
  },
  {
   "cell_type": "code",
   "execution_count": 79,
   "id": "f22d0b93",
   "metadata": {},
   "outputs": [],
   "source": [
    "# Loading this report returns what we have actually paid.  These are exactly the dollars that need to be allocated.\n",
    "\n",
    "\n",
    "RMISalaries = './Source_Files/RMI_-_Payroll_Accounting_Detail_by_Ledger_Account_Spend_Category_and_Employee (3).xlsx'\n",
    "\n",
    "#RMISalariesDF = pd.read_excel(RMISalaries)\n",
    "\n",
    "RMISalariesDF = pd.read_excel(RMISalaries, header=1, engine='openpyxl')"
   ]
  },
  {
   "cell_type": "code",
   "execution_count": 80,
   "id": "7457403a",
   "metadata": {},
   "outputs": [
    {
     "data": {
      "text/html": [
       "<div>\n",
       "<style scoped>\n",
       "    .dataframe tbody tr th:only-of-type {\n",
       "        vertical-align: middle;\n",
       "    }\n",
       "\n",
       "    .dataframe tbody tr th {\n",
       "        vertical-align: top;\n",
       "    }\n",
       "\n",
       "    .dataframe thead th {\n",
       "        text-align: right;\n",
       "    }\n",
       "</style>\n",
       "<table border=\"1\" class=\"dataframe\">\n",
       "  <thead>\n",
       "    <tr style=\"text-align: right;\">\n",
       "      <th></th>\n",
       "      <th>Company</th>\n",
       "      <th>Ledger Account</th>\n",
       "      <th>Ledger/Budget Period</th>\n",
       "      <th>Spend Category</th>\n",
       "      <th>Spend Category ID</th>\n",
       "      <th>Employee</th>\n",
       "      <th>Employee ID</th>\n",
       "      <th>Cost Center</th>\n",
       "      <th>Net Amount</th>\n",
       "      <th>Paid Leave Amount</th>\n",
       "    </tr>\n",
       "  </thead>\n",
       "  <tbody>\n",
       "    <tr>\n",
       "      <th>0</th>\n",
       "      <td>Rocky Mountain Institute</td>\n",
       "      <td>5000:Salaries &amp; Wages</td>\n",
       "      <td>October-FY25 Actuals (Rocky Mountain Institute)</td>\n",
       "      <td>Salary Holding</td>\n",
       "      <td>Salary Holding</td>\n",
       "      <td>Jon Creyts</td>\n",
       "      <td>000342</td>\n",
       "      <td>CEO Team</td>\n",
       "      <td>36908.37</td>\n",
       "      <td>0</td>\n",
       "    </tr>\n",
       "    <tr>\n",
       "      <th>1</th>\n",
       "      <td>Rocky Mountain Institute</td>\n",
       "      <td>5000:Salaries &amp; Wages</td>\n",
       "      <td>October-FY25 Actuals (Rocky Mountain Institute)</td>\n",
       "      <td>Salary Holding</td>\n",
       "      <td>Salary Holding</td>\n",
       "      <td>Martha Pickett | Marty Pickett</td>\n",
       "      <td>000107</td>\n",
       "      <td>Legal</td>\n",
       "      <td>28524.58</td>\n",
       "      <td>0</td>\n",
       "    </tr>\n",
       "    <tr>\n",
       "      <th>2</th>\n",
       "      <td>Rocky Mountain Institute</td>\n",
       "      <td>5000:Salaries &amp; Wages</td>\n",
       "      <td>October-FY25 Actuals (Rocky Mountain Institute)</td>\n",
       "      <td>Salary Holding</td>\n",
       "      <td>Salary Holding</td>\n",
       "      <td>Heather McCreery</td>\n",
       "      <td>000544</td>\n",
       "      <td>Org Finance</td>\n",
       "      <td>26595.82</td>\n",
       "      <td>0</td>\n",
       "    </tr>\n",
       "    <tr>\n",
       "      <th>3</th>\n",
       "      <td>Rocky Mountain Institute</td>\n",
       "      <td>5000:Salaries &amp; Wages</td>\n",
       "      <td>October-FY25 Actuals (Rocky Mountain Institute)</td>\n",
       "      <td>Salary Holding</td>\n",
       "      <td>Salary Holding</td>\n",
       "      <td>Kylie Rogers</td>\n",
       "      <td>001351</td>\n",
       "      <td>People Team</td>\n",
       "      <td>26521.66</td>\n",
       "      <td>0</td>\n",
       "    </tr>\n",
       "    <tr>\n",
       "      <th>4</th>\n",
       "      <td>Rocky Mountain Institute</td>\n",
       "      <td>5000:Salaries &amp; Wages</td>\n",
       "      <td>October-FY25 Actuals (Rocky Mountain Institute)</td>\n",
       "      <td>Salary Holding</td>\n",
       "      <td>Salary Holding</td>\n",
       "      <td>Lena Hansen</td>\n",
       "      <td>000122</td>\n",
       "      <td>Strategy Team</td>\n",
       "      <td>26445.69</td>\n",
       "      <td>0</td>\n",
       "    </tr>\n",
       "    <tr>\n",
       "      <th>...</th>\n",
       "      <td>...</td>\n",
       "      <td>...</td>\n",
       "      <td>...</td>\n",
       "      <td>...</td>\n",
       "      <td>...</td>\n",
       "      <td>...</td>\n",
       "      <td>...</td>\n",
       "      <td>...</td>\n",
       "      <td>...</td>\n",
       "      <td>...</td>\n",
       "    </tr>\n",
       "    <tr>\n",
       "      <th>6760</th>\n",
       "      <td>Rocky Mountain Institute</td>\n",
       "      <td>2100:Accrued Salaries and Bonuses</td>\n",
       "      <td>October-FY25 Actuals (Rocky Mountain Institute)</td>\n",
       "      <td>Payroll Taxes Payable</td>\n",
       "      <td>Payroll Taxes Payable</td>\n",
       "      <td>Charlotte Matthews</td>\n",
       "      <td>001874</td>\n",
       "      <td>Carbon-Free Buildings</td>\n",
       "      <td>-10568.87</td>\n",
       "      <td>0</td>\n",
       "    </tr>\n",
       "    <tr>\n",
       "      <th>6761</th>\n",
       "      <td>Rocky Mountain Institute</td>\n",
       "      <td>2100:Accrued Salaries and Bonuses</td>\n",
       "      <td>October-FY25 Actuals (Rocky Mountain Institute)</td>\n",
       "      <td>Payroll Payables</td>\n",
       "      <td>Payroll Payables</td>\n",
       "      <td>Jon Creyts</td>\n",
       "      <td>000342</td>\n",
       "      <td>CEO Team</td>\n",
       "      <td>-12498.45</td>\n",
       "      <td>0</td>\n",
       "    </tr>\n",
       "    <tr>\n",
       "      <th>6762</th>\n",
       "      <td>Rocky Mountain Institute</td>\n",
       "      <td>2100:Accrued Salaries and Bonuses</td>\n",
       "      <td>November-FY25 Actuals (Rocky Mountain Institute)</td>\n",
       "      <td>Payroll Payables</td>\n",
       "      <td>Payroll Payables</td>\n",
       "      <td>(Blank)</td>\n",
       "      <td>(Blank)</td>\n",
       "      <td>(Blank)</td>\n",
       "      <td>-1906213.31</td>\n",
       "      <td>0</td>\n",
       "    </tr>\n",
       "    <tr>\n",
       "      <th>6763</th>\n",
       "      <td>Rocky Mountain Institute</td>\n",
       "      <td>2100:Accrued Salaries and Bonuses</td>\n",
       "      <td>October-FY25 Actuals (Rocky Mountain Institute)</td>\n",
       "      <td>Payroll Payables</td>\n",
       "      <td>Payroll Payables</td>\n",
       "      <td>(Blank)</td>\n",
       "      <td>(Blank)</td>\n",
       "      <td>(Blank)</td>\n",
       "      <td>-1915213.11</td>\n",
       "      <td>0</td>\n",
       "    </tr>\n",
       "    <tr>\n",
       "      <th>6764</th>\n",
       "      <td>Total</td>\n",
       "      <td>NaN</td>\n",
       "      <td>NaN</td>\n",
       "      <td>NaN</td>\n",
       "      <td>NaN</td>\n",
       "      <td>NaN</td>\n",
       "      <td>NaN</td>\n",
       "      <td>NaN</td>\n",
       "      <td>0.00</td>\n",
       "      <td>0</td>\n",
       "    </tr>\n",
       "  </tbody>\n",
       "</table>\n",
       "<p>6765 rows × 10 columns</p>\n",
       "</div>"
      ],
      "text/plain": [
       "                       Company                     Ledger Account  \\\n",
       "0     Rocky Mountain Institute              5000:Salaries & Wages   \n",
       "1     Rocky Mountain Institute              5000:Salaries & Wages   \n",
       "2     Rocky Mountain Institute              5000:Salaries & Wages   \n",
       "3     Rocky Mountain Institute              5000:Salaries & Wages   \n",
       "4     Rocky Mountain Institute              5000:Salaries & Wages   \n",
       "...                        ...                                ...   \n",
       "6760  Rocky Mountain Institute  2100:Accrued Salaries and Bonuses   \n",
       "6761  Rocky Mountain Institute  2100:Accrued Salaries and Bonuses   \n",
       "6762  Rocky Mountain Institute  2100:Accrued Salaries and Bonuses   \n",
       "6763  Rocky Mountain Institute  2100:Accrued Salaries and Bonuses   \n",
       "6764                     Total                                NaN   \n",
       "\n",
       "                                  Ledger/Budget Period         Spend Category  \\\n",
       "0      October-FY25 Actuals (Rocky Mountain Institute)         Salary Holding   \n",
       "1      October-FY25 Actuals (Rocky Mountain Institute)         Salary Holding   \n",
       "2      October-FY25 Actuals (Rocky Mountain Institute)         Salary Holding   \n",
       "3      October-FY25 Actuals (Rocky Mountain Institute)         Salary Holding   \n",
       "4      October-FY25 Actuals (Rocky Mountain Institute)         Salary Holding   \n",
       "...                                                ...                    ...   \n",
       "6760   October-FY25 Actuals (Rocky Mountain Institute)  Payroll Taxes Payable   \n",
       "6761   October-FY25 Actuals (Rocky Mountain Institute)       Payroll Payables   \n",
       "6762  November-FY25 Actuals (Rocky Mountain Institute)       Payroll Payables   \n",
       "6763   October-FY25 Actuals (Rocky Mountain Institute)       Payroll Payables   \n",
       "6764                                               NaN                    NaN   \n",
       "\n",
       "          Spend Category ID                        Employee Employee ID  \\\n",
       "0            Salary Holding                      Jon Creyts      000342   \n",
       "1            Salary Holding  Martha Pickett | Marty Pickett      000107   \n",
       "2            Salary Holding                Heather McCreery      000544   \n",
       "3            Salary Holding                    Kylie Rogers      001351   \n",
       "4            Salary Holding                     Lena Hansen      000122   \n",
       "...                     ...                             ...         ...   \n",
       "6760  Payroll Taxes Payable              Charlotte Matthews      001874   \n",
       "6761       Payroll Payables                      Jon Creyts      000342   \n",
       "6762       Payroll Payables                         (Blank)     (Blank)   \n",
       "6763       Payroll Payables                         (Blank)     (Blank)   \n",
       "6764                    NaN                             NaN         NaN   \n",
       "\n",
       "                Cost Center  Net Amount  Paid Leave Amount  \n",
       "0                  CEO Team    36908.37                  0  \n",
       "1                     Legal    28524.58                  0  \n",
       "2               Org Finance    26595.82                  0  \n",
       "3               People Team    26521.66                  0  \n",
       "4             Strategy Team    26445.69                  0  \n",
       "...                     ...         ...                ...  \n",
       "6760  Carbon-Free Buildings   -10568.87                  0  \n",
       "6761               CEO Team   -12498.45                  0  \n",
       "6762                (Blank) -1906213.31                  0  \n",
       "6763                (Blank) -1915213.11                  0  \n",
       "6764                    NaN        0.00                  0  \n",
       "\n",
       "[6765 rows x 10 columns]"
      ]
     },
     "execution_count": 80,
     "metadata": {},
     "output_type": "execute_result"
    }
   ],
   "source": [
    "RMISalariesDF"
   ]
  },
  {
   "cell_type": "code",
   "execution_count": 81,
   "id": "d6f772a5",
   "metadata": {},
   "outputs": [],
   "source": [
    "RMISalariesDFfiltered = RMISalariesDF[RMISalariesDF['Spend Category']==\"Salary Holding\"]"
   ]
  },
  {
   "cell_type": "code",
   "execution_count": 82,
   "id": "b8e3b0db",
   "metadata": {},
   "outputs": [],
   "source": [
    "RMISalariesDFfiltered = RMISalariesDFfiltered[RMISalariesDFfiltered['Company']!=\"Canary Media Inc.\"]\n",
    "RMISalariesDFfiltered = RMISalariesDFfiltered[RMISalariesDFfiltered['Company']!=\"Total\"]\n",
    "RMISalariesDFfiltered = RMISalariesDFfiltered[RMISalariesDFfiltered['Net Amount']!=0]"
   ]
  },
  {
   "cell_type": "markdown",
   "id": "be22b513",
   "metadata": {},
   "source": [
    "## Create list of Employees Filtering out Employees who Changed Cost Centers"
   ]
  },
  {
   "cell_type": "code",
   "execution_count": 83,
   "id": "a998c02a",
   "metadata": {},
   "outputs": [],
   "source": [
    "RMISalariesDF = RMISalariesDFfiltered[['Employee', 'Employee ID', 'Net Amount']]\n"
   ]
  },
  {
   "cell_type": "code",
   "execution_count": 84,
   "id": "f3b45090",
   "metadata": {},
   "outputs": [
    {
     "name": "stderr",
     "output_type": "stream",
     "text": [
      "C:\\Users\\Jwendt\\AppData\\Local\\Temp\\ipykernel_1740\\2007134925.py:1: SettingWithCopyWarning: \n",
      "A value is trying to be set on a copy of a slice from a DataFrame.\n",
      "Try using .loc[row_indexer,col_indexer] = value instead\n",
      "\n",
      "See the caveats in the documentation: https://pandas.pydata.org/pandas-docs/stable/user_guide/indexing.html#returning-a-view-versus-a-copy\n",
      "  RMISalariesDF['Employee ID'] = RMISalariesDF['Employee ID'].astype(np.int64)\n"
     ]
    }
   ],
   "source": [
    "RMISalariesDF['Employee ID'] = RMISalariesDF['Employee ID'].astype(np.int64)"
   ]
  },
  {
   "cell_type": "code",
   "execution_count": 85,
   "id": "b77ba62f",
   "metadata": {},
   "outputs": [
    {
     "data": {
      "text/plain": [
       "611"
      ]
     },
     "execution_count": 85,
     "metadata": {},
     "output_type": "execute_result"
    }
   ],
   "source": [
    "#If this count decreases later in the script, it means that there were employees that changed Cost Centers in RMI.\n",
    "\n",
    "len(RMISalariesDF)"
   ]
  },
  {
   "cell_type": "code",
   "execution_count": 86,
   "id": "08befdf9",
   "metadata": {},
   "outputs": [],
   "source": [
    "RMISalariesDF = RMISalariesDF.groupby(['Employee ID', 'Employee'], as_index=False).sum()"
   ]
  },
  {
   "cell_type": "markdown",
   "id": "70ffa7ae",
   "metadata": {},
   "source": [
    "Merge list of Employees with Cost Centers at end of Month"
   ]
  },
  {
   "cell_type": "code",
   "execution_count": 87,
   "id": "29a9ead4",
   "metadata": {},
   "outputs": [
    {
     "data": {
      "text/plain": [
       "Index(['Employee ID', 'Employee', 'Net Amount'], dtype='object')"
      ]
     },
     "execution_count": 87,
     "metadata": {},
     "output_type": "execute_result"
    }
   ],
   "source": [
    "RMISalariesDF.columns"
   ]
  },
  {
   "cell_type": "code",
   "execution_count": 88,
   "id": "e214ca32",
   "metadata": {},
   "outputs": [],
   "source": [
    "#RMISalariesDF = pd.merge(RMISalariesDF, EmployeeCostCenters, on = 'Employee ID', how = 'left')"
   ]
  },
  {
   "cell_type": "code",
   "execution_count": 89,
   "id": "17227194",
   "metadata": {},
   "outputs": [
    {
     "data": {
      "text/plain": [
       "Index(['Employee ID', 'Employee', 'Net Amount'], dtype='object')"
      ]
     },
     "execution_count": 89,
     "metadata": {},
     "output_type": "execute_result"
    }
   ],
   "source": [
    "RMISalariesDF.columns"
   ]
  },
  {
   "cell_type": "code",
   "execution_count": 90,
   "id": "a811e7df",
   "metadata": {},
   "outputs": [],
   "source": [
    "EmployeeIDsandNames = SalaryCATS[['Employee ID', 'Employee Name']]\n",
    "EmployeeIDsandNames = EmployeeIDsandNames.rename(columns={'Employee Name': 'Worker'})"
   ]
  },
  {
   "cell_type": "code",
   "execution_count": 91,
   "id": "02bb795d",
   "metadata": {},
   "outputs": [
    {
     "data": {
      "text/plain": [
       "606"
      ]
     },
     "execution_count": 91,
     "metadata": {},
     "output_type": "execute_result"
    }
   ],
   "source": [
    "len(RMISalariesDF)"
   ]
  },
  {
   "cell_type": "code",
   "execution_count": 92,
   "id": "b2628f62",
   "metadata": {},
   "outputs": [
    {
     "data": {
      "text/plain": [
       "36254"
      ]
     },
     "execution_count": 92,
     "metadata": {},
     "output_type": "execute_result"
    }
   ],
   "source": [
    "len(TimeDataDF)"
   ]
  },
  {
   "cell_type": "code",
   "execution_count": null,
   "id": "e1711b84",
   "metadata": {},
   "outputs": [],
   "source": []
  },
  {
   "cell_type": "code",
   "execution_count": 93,
   "id": "fbbb154e",
   "metadata": {},
   "outputs": [
    {
     "data": {
      "text/html": [
       "<div>\n",
       "<style scoped>\n",
       "    .dataframe tbody tr th:only-of-type {\n",
       "        vertical-align: middle;\n",
       "    }\n",
       "\n",
       "    .dataframe tbody tr th {\n",
       "        vertical-align: top;\n",
       "    }\n",
       "\n",
       "    .dataframe thead th {\n",
       "        text-align: right;\n",
       "    }\n",
       "</style>\n",
       "<table border=\"1\" class=\"dataframe\">\n",
       "  <thead>\n",
       "    <tr style=\"text-align: right;\">\n",
       "      <th></th>\n",
       "      <th>Employee ID</th>\n",
       "      <th>Employee</th>\n",
       "      <th>Net Amount</th>\n",
       "    </tr>\n",
       "  </thead>\n",
       "  <tbody>\n",
       "    <tr>\n",
       "      <th>0</th>\n",
       "      <td>107</td>\n",
       "      <td>Martha Pickett | Marty Pickett</td>\n",
       "      <td>28524.58</td>\n",
       "    </tr>\n",
       "    <tr>\n",
       "      <th>1</th>\n",
       "      <td>116</td>\n",
       "      <td>Virginia Yang | Ginny Yang</td>\n",
       "      <td>9090.14</td>\n",
       "    </tr>\n",
       "    <tr>\n",
       "      <th>2</th>\n",
       "      <td>122</td>\n",
       "      <td>Lena Hansen</td>\n",
       "      <td>26445.69</td>\n",
       "    </tr>\n",
       "    <tr>\n",
       "      <th>3</th>\n",
       "      <td>127</td>\n",
       "      <td>Jeannene Cruise Woolley | Frances Woolley</td>\n",
       "      <td>9283.74</td>\n",
       "    </tr>\n",
       "    <tr>\n",
       "      <th>4</th>\n",
       "      <td>130</td>\n",
       "      <td>Victor Olgyay</td>\n",
       "      <td>16042.22</td>\n",
       "    </tr>\n",
       "    <tr>\n",
       "      <th>...</th>\n",
       "      <td>...</td>\n",
       "      <td>...</td>\n",
       "      <td>...</td>\n",
       "    </tr>\n",
       "    <tr>\n",
       "      <th>601</th>\n",
       "      <td>2064</td>\n",
       "      <td>Michael Willems</td>\n",
       "      <td>5907.26</td>\n",
       "    </tr>\n",
       "    <tr>\n",
       "      <th>602</th>\n",
       "      <td>2068</td>\n",
       "      <td>Isabella Kiser | Bella Kiser</td>\n",
       "      <td>2166.67</td>\n",
       "    </tr>\n",
       "    <tr>\n",
       "      <th>603</th>\n",
       "      <td>2069</td>\n",
       "      <td>Kathryn Edwards | Kat Edwards</td>\n",
       "      <td>4958.35</td>\n",
       "    </tr>\n",
       "    <tr>\n",
       "      <th>604</th>\n",
       "      <td>2070</td>\n",
       "      <td>Evvan Morton</td>\n",
       "      <td>2555.57</td>\n",
       "    </tr>\n",
       "    <tr>\n",
       "      <th>605</th>\n",
       "      <td>2074</td>\n",
       "      <td>Si Wei Adeline Leung | Adeline Leung</td>\n",
       "      <td>206.00</td>\n",
       "    </tr>\n",
       "  </tbody>\n",
       "</table>\n",
       "<p>606 rows × 3 columns</p>\n",
       "</div>"
      ],
      "text/plain": [
       "     Employee ID                                   Employee  Net Amount\n",
       "0            107             Martha Pickett | Marty Pickett    28524.58\n",
       "1            116                 Virginia Yang | Ginny Yang     9090.14\n",
       "2            122                                Lena Hansen    26445.69\n",
       "3            127  Jeannene Cruise Woolley | Frances Woolley     9283.74\n",
       "4            130                              Victor Olgyay    16042.22\n",
       "..           ...                                        ...         ...\n",
       "601         2064                            Michael Willems     5907.26\n",
       "602         2068               Isabella Kiser | Bella Kiser     2166.67\n",
       "603         2069              Kathryn Edwards | Kat Edwards     4958.35\n",
       "604         2070                               Evvan Morton     2555.57\n",
       "605         2074       Si Wei Adeline Leung | Adeline Leung      206.00\n",
       "\n",
       "[606 rows x 3 columns]"
      ]
     },
     "execution_count": 93,
     "metadata": {},
     "output_type": "execute_result"
    }
   ],
   "source": [
    "#Fill any blanks with \"Regular as a placeholder for now\"\n",
    "\n",
    "#RMISalariesDF['Category'].fillna(\"Regular\", inplace = True)\n",
    "RMISalariesDF"
   ]
  },
  {
   "cell_type": "code",
   "execution_count": 94,
   "id": "0d093bc5",
   "metadata": {},
   "outputs": [],
   "source": [
    "#RMISalariesDF = pd.merge(RMISalariesDF, ALLRMISalariesBonuses, on = 'Employee ID', how = 'left')"
   ]
  },
  {
   "cell_type": "code",
   "execution_count": 95,
   "id": "f65858c9",
   "metadata": {},
   "outputs": [
    {
     "data": {
      "text/plain": [
       "Index(['Employee ID', 'Employee', 'Net Amount'], dtype='object')"
      ]
     },
     "execution_count": 95,
     "metadata": {},
     "output_type": "execute_result"
    }
   ],
   "source": [
    "RMISalariesDF.columns"
   ]
  },
  {
   "cell_type": "code",
   "execution_count": 96,
   "id": "14a852b3",
   "metadata": {},
   "outputs": [],
   "source": [
    "RMIBenefitsCount = len(RMISalariesDF)"
   ]
  },
  {
   "cell_type": "code",
   "execution_count": 97,
   "id": "d1fdc3a1",
   "metadata": {},
   "outputs": [],
   "source": [
    "RMISharedCostsCount = len(RMISalariesDF)"
   ]
  },
  {
   "cell_type": "code",
   "execution_count": 98,
   "id": "2101954f",
   "metadata": {},
   "outputs": [
    {
     "data": {
      "text/plain": [
       "606"
      ]
     },
     "execution_count": 98,
     "metadata": {},
     "output_type": "execute_result"
    }
   ],
   "source": [
    "RMIBenefitsCount"
   ]
  },
  {
   "cell_type": "code",
   "execution_count": 99,
   "id": "85de1cdf",
   "metadata": {},
   "outputs": [
    {
     "data": {
      "text/plain": [
       "606"
      ]
     },
     "execution_count": 99,
     "metadata": {},
     "output_type": "execute_result"
    }
   ],
   "source": [
    "RMISharedCostsCount"
   ]
  },
  {
   "cell_type": "markdown",
   "id": "e4eae33f",
   "metadata": {},
   "source": [
    "# Load Salary, Benefits, and Shared Cost for Beijing"
   ]
  },
  {
   "cell_type": "code",
   "execution_count": 100,
   "id": "d8ab703c",
   "metadata": {},
   "outputs": [],
   "source": [
    "TransDetailBeijing = './Source_Files//Transaction_Detail_ALL.xlsx'\n",
    "\n",
    "TransDetailBeijingDF = pd.read_excel(TransDetailBeijing,engine='openpyxl')"
   ]
  },
  {
   "cell_type": "code",
   "execution_count": 101,
   "id": "7b823bf4",
   "metadata": {},
   "outputs": [],
   "source": [
    "# DO I USE \"Source['Manual Journal']\" to isolate what I need?\n",
    "\n",
    "\n",
    "BeijingSalaries = TransDetailBeijingDF[(TransDetailBeijingDF['Source'] == 'Manual Journal') | (TransDetailBeijingDF['Source'] == 'Other Reclasses')]\n",
    "\n",
    "BeijingSalaries = BeijingSalaries[(BeijingSalaries['Location'] == 'Beijing') & (BeijingSalaries['Spend Category'] == 'Salaries & Wages')]\n",
    "\n",
    "# need to filter on Salaries and Wages Spend Category"
   ]
  },
  {
   "cell_type": "code",
   "execution_count": 102,
   "id": "9f6f91c1",
   "metadata": {},
   "outputs": [
    {
     "data": {
      "text/plain": [
       "Index(['Journal', 'Journal Number', 'CF LRV Ad Hoc Bank Number',\n",
       "       'Operational Transaction', 'Company', 'Status', 'Accounting Date',\n",
       "       'Source', 'Ledger', 'Currency', 'Ledger Account', 'Ledger Debit Amount',\n",
       "       'Ledger Credit Amount', 'Net Amount', 'Line Memo',\n",
       "       'Intercompany Affiliate', 'Bank Account', 'Revenue Category',\n",
       "       'Spend Category', 'Cost Center', 'Initiative', 'Project', 'Project ID',\n",
       "       'Project Plan Task', 'Project Plan Task ID', 'Gift', 'Fund',\n",
       "       'Funding Source', 'Customer', 'Supplier', 'Employee', 'Employee ID',\n",
       "       'Location', 'Worktags'],\n",
       "      dtype='object')"
      ]
     },
     "execution_count": 102,
     "metadata": {},
     "output_type": "execute_result"
    }
   ],
   "source": [
    "BeijingSalaries.columns"
   ]
  },
  {
   "cell_type": "code",
   "execution_count": 103,
   "id": "cfd7f3a4",
   "metadata": {},
   "outputs": [],
   "source": [
    "BeijingSalaries = BeijingSalaries[['Employee', 'Employee ID', 'Net Amount']]"
   ]
  },
  {
   "cell_type": "code",
   "execution_count": 104,
   "id": "6726c514",
   "metadata": {},
   "outputs": [],
   "source": [
    "BeijingSalaries = BeijingSalaries.groupby(['Employee', 'Employee ID'], as_index=False).sum()"
   ]
  },
  {
   "cell_type": "code",
   "execution_count": 105,
   "id": "249e43d3",
   "metadata": {},
   "outputs": [],
   "source": [
    "BeijingSalaries = pd.merge(BeijingSalaries, EmployeeCostCenters, on = 'Employee ID', how = 'left')"
   ]
  },
  {
   "cell_type": "code",
   "execution_count": 106,
   "id": "eef12a5b",
   "metadata": {},
   "outputs": [],
   "source": [
    "BeijingSalaries = pd.merge(BeijingSalaries, ALLRMISalariesBonuses, on = 'Employee ID', how = 'left')"
   ]
  },
  {
   "cell_type": "code",
   "execution_count": 107,
   "id": "17260465",
   "metadata": {},
   "outputs": [],
   "source": [
    "BeijingBenefitsDF = TransDetailBeijingDF[TransDetailBeijingDF['Ledger Account'] == '5100:Employee Benefits']\n",
    "\n",
    "BeijingBenefitsDF = BeijingBenefitsDF[(BeijingBenefitsDF['Location'] == 'Beijing')] \n",
    "\n",
    "BeijingBenefits = BeijingBenefitsDF[(BeijingBenefitsDF['Project'] == 'China [Admin]') | (BeijingBenefitsDF['Project'] == 'External Professional Development (HR/L&D)') | (BeijingBenefitsDF['Project'] == 'Learning and Development (HR/L&D)')]\n",
    "\n",
    "BeijingBenefitsTotal = BeijingBenefits['Net Amount'].sum()"
   ]
  },
  {
   "cell_type": "code",
   "execution_count": 108,
   "id": "486f8f64",
   "metadata": {},
   "outputs": [
    {
     "data": {
      "text/plain": [
       "88038.72"
      ]
     },
     "execution_count": 108,
     "metadata": {},
     "output_type": "execute_result"
    }
   ],
   "source": [
    "BeijingBenefitsTotal"
   ]
  },
  {
   "cell_type": "code",
   "execution_count": 109,
   "id": "23a82d37",
   "metadata": {},
   "outputs": [],
   "source": [
    "BeijingSalariesTotal = BeijingSalaries['Net Amount'].sum()"
   ]
  },
  {
   "cell_type": "code",
   "execution_count": 110,
   "id": "aa47d013",
   "metadata": {},
   "outputs": [
    {
     "data": {
      "text/plain": [
       "290929.37000000005"
      ]
     },
     "execution_count": 110,
     "metadata": {},
     "output_type": "execute_result"
    }
   ],
   "source": [
    "BeijingSalariesTotal"
   ]
  },
  {
   "cell_type": "code",
   "execution_count": null,
   "id": "e406dad4",
   "metadata": {},
   "outputs": [],
   "source": []
  },
  {
   "cell_type": "code",
   "execution_count": 111,
   "id": "ce6b9179",
   "metadata": {},
   "outputs": [
    {
     "data": {
      "text/plain": [
       "33"
      ]
     },
     "execution_count": 111,
     "metadata": {},
     "output_type": "execute_result"
    }
   ],
   "source": [
    "BeijingEmployeeCount = BeijingSalaries['Employee ID'].nunique()\n",
    "BeijingEmployeeCount"
   ]
  },
  {
   "cell_type": "code",
   "execution_count": 112,
   "id": "2ecd61cf",
   "metadata": {},
   "outputs": [
    {
     "data": {
      "text/plain": [
       "2667.84"
      ]
     },
     "execution_count": 112,
     "metadata": {},
     "output_type": "execute_result"
    }
   ],
   "source": [
    "BeijingBenefitsperEmployee = BeijingBenefitsTotal/BeijingEmployeeCount\n",
    "BeijingBenefitsperEmployee"
   ]
  },
  {
   "cell_type": "code",
   "execution_count": 113,
   "id": "f548719e",
   "metadata": {},
   "outputs": [],
   "source": [
    "BeijingShared = TransDetailBeijingDF[(TransDetailBeijingDF['Ledger Account'] == '8100:Shared Costs') | (TransDetailBeijingDF['Ledger Account'] == '7100:Depreciation Expenses')]\n",
    "\n",
    "BeijingShared = BeijingShared[BeijingShared['Location'] == 'Beijing']\n",
    "\n",
    "BeijingSharedTotal = BeijingShared['Net Amount'].sum()"
   ]
  },
  {
   "cell_type": "code",
   "execution_count": 114,
   "id": "8ce2c3c4",
   "metadata": {},
   "outputs": [
    {
     "data": {
      "text/plain": [
       "57437.59000000001"
      ]
     },
     "execution_count": 114,
     "metadata": {},
     "output_type": "execute_result"
    }
   ],
   "source": [
    "BeijingSharedTotal\n",
    "#Includes Depreciation...this is why I don't tie to Whitney's number"
   ]
  },
  {
   "cell_type": "code",
   "execution_count": 115,
   "id": "f9e8fab1",
   "metadata": {},
   "outputs": [
    {
     "data": {
      "text/plain": [
       "1740.5330303030307"
      ]
     },
     "execution_count": 115,
     "metadata": {},
     "output_type": "execute_result"
    }
   ],
   "source": [
    "BeijingSharedperEmployee = BeijingSharedTotal/BeijingEmployeeCount\n",
    "BeijingSharedperEmployee"
   ]
  },
  {
   "cell_type": "code",
   "execution_count": 116,
   "id": "67511be3",
   "metadata": {},
   "outputs": [],
   "source": [
    "BeijingSalaries[\"Benefits per Employee\"] = BeijingBenefitsperEmployee"
   ]
  },
  {
   "cell_type": "code",
   "execution_count": 117,
   "id": "da1b3c90",
   "metadata": {},
   "outputs": [],
   "source": [
    "BeijingSalaries[\"Shared per Employee\"] = BeijingSharedperEmployee"
   ]
  },
  {
   "cell_type": "code",
   "execution_count": null,
   "id": "b9b09205",
   "metadata": {},
   "outputs": [],
   "source": []
  },
  {
   "cell_type": "code",
   "execution_count": 118,
   "id": "e82f59c6",
   "metadata": {},
   "outputs": [],
   "source": [
    "#Need to add here total shared costs for China and benefits for China"
   ]
  },
  {
   "cell_type": "markdown",
   "id": "b267d7b2",
   "metadata": {},
   "source": [
    "# Load Benefits, and Shared Cost for RMI and GP"
   ]
  },
  {
   "cell_type": "code",
   "execution_count": 119,
   "id": "dcb14c5e",
   "metadata": {},
   "outputs": [],
   "source": [
    "TransDetailBenefitsShared_GP_RMI = './Source_Files/Transaction_Detail_ALL.xlsx'\n",
    "\n",
    "TransDetailBenefitsShared_GP_RMI_DF = pd.read_excel(TransDetailBenefitsShared_GP_RMI, engine='openpyxl')"
   ]
  },
  {
   "cell_type": "code",
   "execution_count": 120,
   "id": "63623a32",
   "metadata": {},
   "outputs": [],
   "source": [
    "TransDetailBenefitsShared_GP_RMI_filteredDF = TransDetailBenefitsShared_GP_RMI_DF[TransDetailBenefitsShared_GP_RMI_DF['Location']!='Beijing']"
   ]
  },
  {
   "cell_type": "code",
   "execution_count": 121,
   "id": "5ec4e2c2",
   "metadata": {},
   "outputs": [
    {
     "data": {
      "text/plain": [
       "1582198.5400000003"
      ]
     },
     "execution_count": 121,
     "metadata": {},
     "output_type": "execute_result"
    }
   ],
   "source": [
    "GP_RMI_Benefits = TransDetailBenefitsShared_GP_RMI_filteredDF[TransDetailBenefitsShared_GP_RMI_filteredDF['Ledger Account'] == '5100:Employee Benefits'] \n",
    "\n",
    "GP_RMI_BenefitsTotal = GP_RMI_Benefits['Net Amount'].sum()\n",
    "\n",
    "GP_RMI_BenefitsTotal"
   ]
  },
  {
   "cell_type": "code",
   "execution_count": 122,
   "id": "15d10cca",
   "metadata": {},
   "outputs": [
    {
     "data": {
      "text/plain": [
       "801669.45"
      ]
     },
     "execution_count": 122,
     "metadata": {},
     "output_type": "execute_result"
    }
   ],
   "source": [
    "GP_RMI_Shared = TransDetailBenefitsShared_GP_RMI_filteredDF[TransDetailBenefitsShared_GP_RMI_filteredDF['Ledger Account'] == '8100:Shared Costs']\n",
    "\n",
    "GP_RMI_Shared = GP_RMI_Shared[GP_RMI_Shared['Spend Category']!=\"Shared Costs Clearing Account\"]\n",
    "\n",
    "GP_RMI_Shared = GP_RMI_Shared[GP_RMI_Shared['Location']!=\"New Delhi\"]\n",
    "\n",
    "GP_RMI_Shared = GP_RMI_Shared[GP_RMI_Shared['Initiative']!=\"CAI - MPP\"]\n",
    "\n",
    "GP_RMI_Depreciation = TransDetailBenefitsShared_GP_RMI_DF[(TransDetailBenefitsShared_GP_RMI_DF['Project'] == 'Operations [Admin]') | (TransDetailBenefitsShared_GP_RMI_DF['Project'] == 'Institution Expenses')] \n",
    "\n",
    "\n",
    "GP_RMI_Depreciation = GP_RMI_Depreciation[GP_RMI_Depreciation['Spend Category']==\"Depreciation\"] \n",
    "\n",
    "GP_RMI_SharedTotal = GP_RMI_Shared['Net Amount'].sum() + GP_RMI_Depreciation['Net Amount'].sum()\n",
    "\n",
    "GP_RMI_SharedTotal"
   ]
  },
  {
   "cell_type": "code",
   "execution_count": 123,
   "id": "f7f2c8b8",
   "metadata": {},
   "outputs": [
    {
     "data": {
      "text/plain": [
       "729572.74"
      ]
     },
     "execution_count": 123,
     "metadata": {},
     "output_type": "execute_result"
    }
   ],
   "source": [
    "GP_RMI_Shared['Net Amount'].sum()"
   ]
  },
  {
   "cell_type": "code",
   "execution_count": 124,
   "id": "ce897a8b",
   "metadata": {},
   "outputs": [
    {
     "data": {
      "text/plain": [
       "72096.71"
      ]
     },
     "execution_count": 124,
     "metadata": {},
     "output_type": "execute_result"
    }
   ],
   "source": [
    "GP_RMI_Depreciation['Net Amount'].sum()"
   ]
  },
  {
   "cell_type": "markdown",
   "id": "5b72be92",
   "metadata": {},
   "source": [
    "# Load Salaries for GP"
   ]
  },
  {
   "cell_type": "code",
   "execution_count": 125,
   "id": "ca920f94",
   "metadata": {},
   "outputs": [],
   "source": [
    "TransDetailGPSalaries = './Source_Files/Transaction_Detail_ALL.xlsx'\n",
    "\n",
    "TransDetailGPSalariesDF = pd.read_excel(TransDetailGPSalaries, engine='openpyxl')\n",
    "\n",
    "TransDetailGPSalariesDF = TransDetailGPSalariesDF[(TransDetailGPSalariesDF['Source'] == 'Supplier Invoice') | (TransDetailGPSalariesDF['Source'] == 'Other Reclasses')]\n",
    "\n",
    "TransDetailGPSalariesDF = TransDetailGPSalariesDF[TransDetailGPSalariesDF['Spend Category'] == 'Salary Holding']\n",
    "\n",
    "\n"
   ]
  },
  {
   "cell_type": "code",
   "execution_count": null,
   "id": "48fe586a",
   "metadata": {},
   "outputs": [],
   "source": []
  },
  {
   "cell_type": "code",
   "execution_count": 126,
   "id": "bd107277",
   "metadata": {},
   "outputs": [
    {
     "data": {
      "text/plain": [
       "Index(['Journal', 'Journal Number', 'CF LRV Ad Hoc Bank Number',\n",
       "       'Operational Transaction', 'Company', 'Status', 'Accounting Date',\n",
       "       'Source', 'Ledger', 'Currency', 'Ledger Account', 'Ledger Debit Amount',\n",
       "       'Ledger Credit Amount', 'Net Amount', 'Line Memo',\n",
       "       'Intercompany Affiliate', 'Bank Account', 'Revenue Category',\n",
       "       'Spend Category', 'Cost Center', 'Initiative', 'Project', 'Project ID',\n",
       "       'Project Plan Task', 'Project Plan Task ID', 'Gift', 'Fund',\n",
       "       'Funding Source', 'Customer', 'Supplier', 'Employee', 'Employee ID',\n",
       "       'Location', 'Worktags'],\n",
       "      dtype='object')"
      ]
     },
     "execution_count": 126,
     "metadata": {},
     "output_type": "execute_result"
    }
   ],
   "source": [
    "TransDetailGPSalariesDF.columns"
   ]
  },
  {
   "cell_type": "code",
   "execution_count": 127,
   "id": "adf9e40e",
   "metadata": {},
   "outputs": [],
   "source": [
    "GPSalariesDF = TransDetailGPSalariesDF[['Employee', 'Employee ID', 'Net Amount']]"
   ]
  },
  {
   "cell_type": "code",
   "execution_count": null,
   "id": "5c4e16a3",
   "metadata": {},
   "outputs": [],
   "source": []
  },
  {
   "cell_type": "code",
   "execution_count": null,
   "id": "fb093447",
   "metadata": {},
   "outputs": [],
   "source": []
  },
  {
   "cell_type": "code",
   "execution_count": null,
   "id": "ce295c1e",
   "metadata": {},
   "outputs": [],
   "source": []
  },
  {
   "cell_type": "code",
   "execution_count": 128,
   "id": "e1478c32",
   "metadata": {},
   "outputs": [],
   "source": [
    "GPSalariesDF = GPSalariesDF.groupby(['Employee', 'Employee ID'], as_index=False).sum()"
   ]
  },
  {
   "cell_type": "code",
   "execution_count": 129,
   "id": "94aaf196",
   "metadata": {},
   "outputs": [],
   "source": [
    "#GPSalariesDF = pd.merge(GPSalariesDF, EmployeeCostCenters, on = 'Employee ID', how = 'left')"
   ]
  },
  {
   "cell_type": "code",
   "execution_count": 130,
   "id": "f2b48af7",
   "metadata": {},
   "outputs": [],
   "source": [
    "#GPSalariesDF = pd.merge(GPSalariesDF, ALLRMISalariesBonuses, on = 'Employee ID', how = 'left')"
   ]
  },
  {
   "cell_type": "code",
   "execution_count": null,
   "id": "974dbba5",
   "metadata": {},
   "outputs": [],
   "source": []
  },
  {
   "cell_type": "code",
   "execution_count": 131,
   "id": "bb7721f9",
   "metadata": {},
   "outputs": [
    {
     "data": {
      "text/plain": [
       "705027.84"
      ]
     },
     "execution_count": 131,
     "metadata": {},
     "output_type": "execute_result"
    }
   ],
   "source": [
    "GPSalariesDF['Net Amount'].sum()"
   ]
  },
  {
   "cell_type": "code",
   "execution_count": 132,
   "id": "384d342f",
   "metadata": {},
   "outputs": [
    {
     "data": {
      "text/plain": [
       "5789336.26"
      ]
     },
     "execution_count": 132,
     "metadata": {},
     "output_type": "execute_result"
    }
   ],
   "source": [
    "RMISalariesDF['Net Amount'].sum()"
   ]
  },
  {
   "cell_type": "code",
   "execution_count": 133,
   "id": "12a7e6d8",
   "metadata": {},
   "outputs": [],
   "source": [
    "TotalSalariesRMI = RMISalariesDF['Net Amount'].sum() + GPSalariesDF['Net Amount'].sum()"
   ]
  },
  {
   "cell_type": "code",
   "execution_count": 134,
   "id": "fc74dea1",
   "metadata": {},
   "outputs": [
    {
     "data": {
      "text/plain": [
       "6494364.1"
      ]
     },
     "execution_count": 134,
     "metadata": {},
     "output_type": "execute_result"
    }
   ],
   "source": [
    "TotalSalariesRMI"
   ]
  },
  {
   "cell_type": "markdown",
   "id": "634f3efa",
   "metadata": {},
   "source": [
    "# Create Combined GP + RMI Salaries File & Add Bonus"
   ]
  },
  {
   "cell_type": "code",
   "execution_count": 135,
   "id": "01b41cc3",
   "metadata": {},
   "outputs": [
    {
     "data": {
      "text/html": [
       "<div>\n",
       "<style scoped>\n",
       "    .dataframe tbody tr th:only-of-type {\n",
       "        vertical-align: middle;\n",
       "    }\n",
       "\n",
       "    .dataframe tbody tr th {\n",
       "        vertical-align: top;\n",
       "    }\n",
       "\n",
       "    .dataframe thead th {\n",
       "        text-align: right;\n",
       "    }\n",
       "</style>\n",
       "<table border=\"1\" class=\"dataframe\">\n",
       "  <thead>\n",
       "    <tr style=\"text-align: right;\">\n",
       "      <th></th>\n",
       "      <th>Employee ID</th>\n",
       "      <th>Employee</th>\n",
       "      <th>Net Amount</th>\n",
       "    </tr>\n",
       "  </thead>\n",
       "  <tbody>\n",
       "    <tr>\n",
       "      <th>0</th>\n",
       "      <td>107</td>\n",
       "      <td>Martha Pickett | Marty Pickett</td>\n",
       "      <td>28524.58</td>\n",
       "    </tr>\n",
       "    <tr>\n",
       "      <th>1</th>\n",
       "      <td>116</td>\n",
       "      <td>Virginia Yang | Ginny Yang</td>\n",
       "      <td>9090.14</td>\n",
       "    </tr>\n",
       "    <tr>\n",
       "      <th>2</th>\n",
       "      <td>122</td>\n",
       "      <td>Lena Hansen</td>\n",
       "      <td>26445.69</td>\n",
       "    </tr>\n",
       "    <tr>\n",
       "      <th>3</th>\n",
       "      <td>127</td>\n",
       "      <td>Jeannene Cruise Woolley | Frances Woolley</td>\n",
       "      <td>9283.74</td>\n",
       "    </tr>\n",
       "    <tr>\n",
       "      <th>4</th>\n",
       "      <td>130</td>\n",
       "      <td>Victor Olgyay</td>\n",
       "      <td>16042.22</td>\n",
       "    </tr>\n",
       "    <tr>\n",
       "      <th>...</th>\n",
       "      <td>...</td>\n",
       "      <td>...</td>\n",
       "      <td>...</td>\n",
       "    </tr>\n",
       "    <tr>\n",
       "      <th>601</th>\n",
       "      <td>2064</td>\n",
       "      <td>Michael Willems</td>\n",
       "      <td>5907.26</td>\n",
       "    </tr>\n",
       "    <tr>\n",
       "      <th>602</th>\n",
       "      <td>2068</td>\n",
       "      <td>Isabella Kiser | Bella Kiser</td>\n",
       "      <td>2166.67</td>\n",
       "    </tr>\n",
       "    <tr>\n",
       "      <th>603</th>\n",
       "      <td>2069</td>\n",
       "      <td>Kathryn Edwards | Kat Edwards</td>\n",
       "      <td>4958.35</td>\n",
       "    </tr>\n",
       "    <tr>\n",
       "      <th>604</th>\n",
       "      <td>2070</td>\n",
       "      <td>Evvan Morton</td>\n",
       "      <td>2555.57</td>\n",
       "    </tr>\n",
       "    <tr>\n",
       "      <th>605</th>\n",
       "      <td>2074</td>\n",
       "      <td>Si Wei Adeline Leung | Adeline Leung</td>\n",
       "      <td>206.00</td>\n",
       "    </tr>\n",
       "  </tbody>\n",
       "</table>\n",
       "<p>606 rows × 3 columns</p>\n",
       "</div>"
      ],
      "text/plain": [
       "     Employee ID                                   Employee  Net Amount\n",
       "0            107             Martha Pickett | Marty Pickett    28524.58\n",
       "1            116                 Virginia Yang | Ginny Yang     9090.14\n",
       "2            122                                Lena Hansen    26445.69\n",
       "3            127  Jeannene Cruise Woolley | Frances Woolley     9283.74\n",
       "4            130                              Victor Olgyay    16042.22\n",
       "..           ...                                        ...         ...\n",
       "601         2064                            Michael Willems     5907.26\n",
       "602         2068               Isabella Kiser | Bella Kiser     2166.67\n",
       "603         2069              Kathryn Edwards | Kat Edwards     4958.35\n",
       "604         2070                               Evvan Morton     2555.57\n",
       "605         2074       Si Wei Adeline Leung | Adeline Leung      206.00\n",
       "\n",
       "[606 rows x 3 columns]"
      ]
     },
     "execution_count": 135,
     "metadata": {},
     "output_type": "execute_result"
    }
   ],
   "source": [
    "RMISalariesDF"
   ]
  },
  {
   "cell_type": "code",
   "execution_count": 136,
   "id": "1a83b75b",
   "metadata": {},
   "outputs": [],
   "source": [
    "RMIandGPSalariesDF = pd.concat([RMISalariesDF, GPSalariesDF])\n"
   ]
  },
  {
   "cell_type": "code",
   "execution_count": 137,
   "id": "f01dba85",
   "metadata": {},
   "outputs": [],
   "source": [
    "RMIandGPSalariesDF = RMIandGPSalariesDF.groupby(['Employee', 'Employee ID'], as_index=False).sum()"
   ]
  },
  {
   "cell_type": "code",
   "execution_count": 138,
   "id": "f93fa5ca",
   "metadata": {},
   "outputs": [],
   "source": [
    "RMIandGPSalariesDF = pd.merge(RMIandGPSalariesDF, EmployeeCostCenters, on = 'Employee ID', how = 'left')"
   ]
  },
  {
   "cell_type": "code",
   "execution_count": 139,
   "id": "8d00f0b3",
   "metadata": {},
   "outputs": [],
   "source": [
    "RMIandGPSalariesDF = pd.merge(RMIandGPSalariesDF, ALLRMISalariesBonuses, on = 'Employee ID', how = 'left')"
   ]
  },
  {
   "cell_type": "code",
   "execution_count": 140,
   "id": "4a9694d0",
   "metadata": {},
   "outputs": [],
   "source": [
    "RMIandGPSalariesDF['Bonus Final'].fillna(0, inplace = True)"
   ]
  },
  {
   "cell_type": "markdown",
   "id": "e9fa7354",
   "metadata": {},
   "source": [
    "# Add Benefits and Shared Costs per Employee to Master Employee Files"
   ]
  },
  {
   "cell_type": "code",
   "execution_count": 141,
   "id": "704e5f08",
   "metadata": {
    "scrolled": true
   },
   "outputs": [
    {
     "data": {
      "text/plain": [
       "73"
      ]
     },
     "execution_count": 141,
     "metadata": {},
     "output_type": "execute_result"
    }
   ],
   "source": [
    "GPHeadcount = len(GPSalariesDF)\n",
    "GPHeadcount"
   ]
  },
  {
   "cell_type": "code",
   "execution_count": 142,
   "id": "14804d41",
   "metadata": {},
   "outputs": [
    {
     "data": {
      "text/plain": [
       "73"
      ]
     },
     "execution_count": 142,
     "metadata": {},
     "output_type": "execute_result"
    }
   ],
   "source": [
    "GP_HC_TOTAL = GPSalariesDF[['Employee ID']]\n",
    "len(GP_HC_TOTAL)"
   ]
  },
  {
   "cell_type": "code",
   "execution_count": 143,
   "id": "78875ea8",
   "metadata": {},
   "outputs": [
    {
     "data": {
      "text/plain": [
       "606"
      ]
     },
     "execution_count": 143,
     "metadata": {},
     "output_type": "execute_result"
    }
   ],
   "source": [
    "RMI_HC_TOTAL = RMISalariesDF[['Employee ID']]\n",
    "len(RMI_HC_TOTAL)"
   ]
  },
  {
   "cell_type": "code",
   "execution_count": 144,
   "id": "d2bd5fd0",
   "metadata": {},
   "outputs": [],
   "source": [
    "TOTAL_RMI_HC = pd.concat([GP_HC_TOTAL, RMI_HC_TOTAL])"
   ]
  },
  {
   "cell_type": "code",
   "execution_count": 145,
   "id": "3ea4088e",
   "metadata": {},
   "outputs": [],
   "source": [
    "RMIHeadCountBenefits = TOTAL_RMI_HC.groupby(['Employee ID'], as_index=False).sum()\n",
    "RMIHeadCountShahred  = TOTAL_RMI_HC.groupby(['Employee ID'], as_index=False).sum()"
   ]
  },
  {
   "cell_type": "code",
   "execution_count": 146,
   "id": "1e0c8a2f",
   "metadata": {},
   "outputs": [
    {
     "data": {
      "text/plain": [
       "679"
      ]
     },
     "execution_count": 146,
     "metadata": {},
     "output_type": "execute_result"
    }
   ],
   "source": [
    "RMIHeadCountBenefits = len(RMIHeadCountBenefits)\n",
    "RMIHeadCountBenefits"
   ]
  },
  {
   "cell_type": "code",
   "execution_count": 147,
   "id": "3afebf8e",
   "metadata": {},
   "outputs": [
    {
     "data": {
      "text/plain": [
       "2330.189307805597"
      ]
     },
     "execution_count": 147,
     "metadata": {},
     "output_type": "execute_result"
    }
   ],
   "source": [
    "BenefitsperRMIHC = GP_RMI_BenefitsTotal/RMIHeadCountBenefits\n",
    "BenefitsperRMIHC"
   ]
  },
  {
   "cell_type": "code",
   "execution_count": 148,
   "id": "05714887",
   "metadata": {},
   "outputs": [],
   "source": [
    "RMIHeadCountShahred = len(RMIHeadCountShahred)"
   ]
  },
  {
   "cell_type": "code",
   "execution_count": 149,
   "id": "d342a014",
   "metadata": {},
   "outputs": [
    {
     "data": {
      "text/plain": [
       "679"
      ]
     },
     "execution_count": 149,
     "metadata": {},
     "output_type": "execute_result"
    }
   ],
   "source": [
    "RMIHeadCountShahred"
   ]
  },
  {
   "cell_type": "code",
   "execution_count": 150,
   "id": "52bd9a62",
   "metadata": {},
   "outputs": [
    {
     "data": {
      "text/plain": [
       "1180.6619293078056"
      ]
     },
     "execution_count": 150,
     "metadata": {},
     "output_type": "execute_result"
    }
   ],
   "source": [
    "SharedperRMIHC = GP_RMI_SharedTotal/RMIHeadCountShahred\n",
    "SharedperRMIHC"
   ]
  },
  {
   "cell_type": "code",
   "execution_count": 151,
   "id": "fd08ec8a",
   "metadata": {},
   "outputs": [],
   "source": [
    "RMIandGPSalariesDF[\"Benefits per Employee\"] = BenefitsperRMIHC"
   ]
  },
  {
   "cell_type": "code",
   "execution_count": 152,
   "id": "2bbef1bb",
   "metadata": {},
   "outputs": [],
   "source": [
    "RMIandGPSalariesDF[\"Shared per Employee\"] = SharedperRMIHC"
   ]
  },
  {
   "cell_type": "code",
   "execution_count": null,
   "id": "533835bf",
   "metadata": {},
   "outputs": [],
   "source": []
  },
  {
   "cell_type": "markdown",
   "id": "ff3eb426",
   "metadata": {},
   "source": [
    "# Manipulate Time Data Report"
   ]
  },
  {
   "cell_type": "markdown",
   "id": "59c434c8",
   "metadata": {},
   "source": [
    "First create lists to seperate.  This code brings all salaries to split out into the report."
   ]
  },
  {
   "cell_type": "code",
   "execution_count": 153,
   "id": "8616a668",
   "metadata": {},
   "outputs": [
    {
     "data": {
      "text/plain": [
       "36254"
      ]
     },
     "execution_count": 153,
     "metadata": {},
     "output_type": "execute_result"
    }
   ],
   "source": [
    "len(TimeDataDF)"
   ]
  },
  {
   "cell_type": "code",
   "execution_count": 154,
   "id": "9b26df36",
   "metadata": {},
   "outputs": [],
   "source": [
    "GPSalariesDF['Employee ID'] = GPSalariesDF['Employee ID'].astype(np.int64)"
   ]
  },
  {
   "cell_type": "code",
   "execution_count": 155,
   "id": "222f2f23",
   "metadata": {},
   "outputs": [],
   "source": [
    "BeijingSalaries['Employee ID'] = BeijingSalaries['Employee ID'].astype(np.int64)"
   ]
  },
  {
   "cell_type": "code",
   "execution_count": 156,
   "id": "687983c6",
   "metadata": {},
   "outputs": [
    {
     "data": {
      "text/plain": [
       "Index(['Employee', 'Employee ID', 'Net Amount'], dtype='object')"
      ]
     },
     "execution_count": 156,
     "metadata": {},
     "output_type": "execute_result"
    }
   ],
   "source": [
    "GPSalariesDF.columns"
   ]
  },
  {
   "cell_type": "code",
   "execution_count": 157,
   "id": "ab9d9610",
   "metadata": {},
   "outputs": [
    {
     "data": {
      "text/html": [
       "<div>\n",
       "<style scoped>\n",
       "    .dataframe tbody tr th:only-of-type {\n",
       "        vertical-align: middle;\n",
       "    }\n",
       "\n",
       "    .dataframe tbody tr th {\n",
       "        vertical-align: top;\n",
       "    }\n",
       "\n",
       "    .dataframe thead th {\n",
       "        text-align: right;\n",
       "    }\n",
       "</style>\n",
       "<table border=\"1\" class=\"dataframe\">\n",
       "  <thead>\n",
       "    <tr style=\"text-align: right;\">\n",
       "      <th></th>\n",
       "      <th>Employee</th>\n",
       "      <th>Employee ID</th>\n",
       "      <th>Net Amount</th>\n",
       "    </tr>\n",
       "  </thead>\n",
       "  <tbody>\n",
       "    <tr>\n",
       "      <th>0</th>\n",
       "      <td>Alberto Rodriguez</td>\n",
       "      <td>1360</td>\n",
       "      <td>11122.75</td>\n",
       "    </tr>\n",
       "    <tr>\n",
       "      <th>1</th>\n",
       "      <td>Alex Axthelm</td>\n",
       "      <td>1530</td>\n",
       "      <td>9212.22</td>\n",
       "    </tr>\n",
       "    <tr>\n",
       "      <th>2</th>\n",
       "      <td>Alexander Hogeveen Rutter (Alexander Hogeveen ...</td>\n",
       "      <td>1893</td>\n",
       "      <td>10034.28</td>\n",
       "    </tr>\n",
       "    <tr>\n",
       "      <th>3</th>\n",
       "      <td>Alexander Walmsley | Alex Walmsley</td>\n",
       "      <td>1812</td>\n",
       "      <td>11122.26</td>\n",
       "    </tr>\n",
       "    <tr>\n",
       "      <th>4</th>\n",
       "      <td>Alexandra Khripko</td>\n",
       "      <td>1428</td>\n",
       "      <td>11596.61</td>\n",
       "    </tr>\n",
       "    <tr>\n",
       "      <th>...</th>\n",
       "      <td>...</td>\n",
       "      <td>...</td>\n",
       "      <td>...</td>\n",
       "    </tr>\n",
       "    <tr>\n",
       "      <th>68</th>\n",
       "      <td>Truc Huynh | Tracy Huynh (On Leave)</td>\n",
       "      <td>1649</td>\n",
       "      <td>8071.68</td>\n",
       "    </tr>\n",
       "    <tr>\n",
       "      <th>69</th>\n",
       "      <td>Wayne Omonuwa</td>\n",
       "      <td>1293</td>\n",
       "      <td>11283.11</td>\n",
       "    </tr>\n",
       "    <tr>\n",
       "      <th>70</th>\n",
       "      <td>Wini Rizkiningayu</td>\n",
       "      <td>1835</td>\n",
       "      <td>13998.26</td>\n",
       "    </tr>\n",
       "    <tr>\n",
       "      <th>71</th>\n",
       "      <td>Xiyuan Liu</td>\n",
       "      <td>1372</td>\n",
       "      <td>9050.30</td>\n",
       "    </tr>\n",
       "    <tr>\n",
       "      <th>72</th>\n",
       "      <td>Zsaria Diaz</td>\n",
       "      <td>1327</td>\n",
       "      <td>7894.10</td>\n",
       "    </tr>\n",
       "  </tbody>\n",
       "</table>\n",
       "<p>73 rows × 3 columns</p>\n",
       "</div>"
      ],
      "text/plain": [
       "                                             Employee  Employee ID  Net Amount\n",
       "0                                   Alberto Rodriguez         1360    11122.75\n",
       "1                                        Alex Axthelm         1530     9212.22\n",
       "2   Alexander Hogeveen Rutter (Alexander Hogeveen ...         1893    10034.28\n",
       "3                  Alexander Walmsley | Alex Walmsley         1812    11122.26\n",
       "4                                   Alexandra Khripko         1428    11596.61\n",
       "..                                                ...          ...         ...\n",
       "68                Truc Huynh | Tracy Huynh (On Leave)         1649     8071.68\n",
       "69                                      Wayne Omonuwa         1293    11283.11\n",
       "70                                  Wini Rizkiningayu         1835    13998.26\n",
       "71                                         Xiyuan Liu         1372     9050.30\n",
       "72                                        Zsaria Diaz         1327     7894.10\n",
       "\n",
       "[73 rows x 3 columns]"
      ]
     },
     "execution_count": 157,
     "metadata": {},
     "output_type": "execute_result"
    }
   ],
   "source": [
    "GPSalariesDF"
   ]
  },
  {
   "cell_type": "code",
   "execution_count": 158,
   "id": "8131d771",
   "metadata": {},
   "outputs": [
    {
     "data": {
      "text/plain": [
       "Index(['Worker', 'Employee ID', 'Worker Cost Center', 'Talent Pool',\n",
       "       'Project Group', 'Utilization Target', 'Hire Date', 'Termination Date',\n",
       "       'Title', 'Hourly Rate', 'Monthly Salary', 'Monthly Bonus Amount',\n",
       "       'Bonus %', 'Week', 'Reported Date', 'Time Type', 'Entry Type',\n",
       "       'Project', 'Project Plan Task', 'Project Plan Task ID', 'Cost Center',\n",
       "       'Initiative', 'Lobbying', 'Lobbying Location', 'Reported Quantity',\n",
       "       'Time Cost Center', 'Time Initiative', 'MonthYear'],\n",
       "      dtype='object')"
      ]
     },
     "execution_count": 158,
     "metadata": {},
     "output_type": "execute_result"
    }
   ],
   "source": [
    "TimeDataDF.columns"
   ]
  },
  {
   "cell_type": "markdown",
   "id": "d3b53ec3",
   "metadata": {},
   "source": [
    "# Create India File"
   ]
  },
  {
   "cell_type": "code",
   "execution_count": 159,
   "id": "f13caff3",
   "metadata": {},
   "outputs": [],
   "source": [
    "TransDetailIndiaSalaries = './Source_Files/Transaction_Detail_ALL.xlsx'\n",
    "\n",
    "TransDetailIndiaSalariesDF = pd.read_excel(TransDetailIndiaSalaries, engine='openpyxl')\n",
    "\n",
    "TransDetailIndiaSalariesDF = TransDetailIndiaSalariesDF[TransDetailIndiaSalariesDF['Location'] == 'New Delhi']\n",
    "\n",
    "TransDetailIndiaSalariesDF = TransDetailIndiaSalariesDF[TransDetailIndiaSalariesDF['Spend Category'] == 'Consultant Fees']\n",
    "\n",
    "TransDetailIndiaSalariesDF = TransDetailIndiaSalariesDF[TransDetailIndiaSalariesDF['Ledger Account'] == '5200:Consultants and Contractors']\n",
    "TransDetailIndiaSalariesDF = TransDetailIndiaSalariesDF[TransDetailIndiaSalariesDF['Project'] == 'People Team Operations Expenses']"
   ]
  },
  {
   "cell_type": "code",
   "execution_count": 160,
   "id": "d894276f",
   "metadata": {},
   "outputs": [
    {
     "data": {
      "text/plain": [
       "200754.75"
      ]
     },
     "execution_count": 160,
     "metadata": {},
     "output_type": "execute_result"
    }
   ],
   "source": [
    "TransDetailIndiaSalariesDF['Net Amount'].sum()"
   ]
  },
  {
   "cell_type": "code",
   "execution_count": null,
   "id": "d7599f08",
   "metadata": {},
   "outputs": [],
   "source": []
  },
  {
   "cell_type": "code",
   "execution_count": 161,
   "id": "da24494e",
   "metadata": {},
   "outputs": [
    {
     "name": "stderr",
     "output_type": "stream",
     "text": [
      "C:\\Users\\Jwendt\\AppData\\Local\\Temp\\ipykernel_1740\\3304116708.py:2: SettingWithCopyWarning: \n",
      "A value is trying to be set on a copy of a slice from a DataFrame.\n",
      "Try using .loc[row_indexer,col_indexer] = value instead\n",
      "\n",
      "See the caveats in the documentation: https://pandas.pydata.org/pandas-docs/stable/user_guide/indexing.html#returning-a-view-versus-a-copy\n",
      "  IndiaALLIDs['India'] = 'Yes'\n"
     ]
    }
   ],
   "source": [
    "IndiaALLIDs = TransDetailIndiaSalariesDF[[\"Employee\", \"Employee ID\", \"Net Amount\"]]\n",
    "IndiaALLIDs['India'] = 'Yes'\n",
    "#IndiaALLIDs['Employee ID'] = IndiaALLIDs['Employee ID'].apply(add_zeros)\n",
    "\n",
    "IndiaALLIDs = IndiaALLIDs.groupby(['Employee', 'Employee ID','India'], as_index=False).sum()\n",
    "\n",
    "IndiaSalariesDF = IndiaALLIDs[['Employee', 'Employee ID', 'Net Amount']]\n",
    "IndiaSalariesDF = IndiaSalariesDF.groupby(['Employee', 'Employee ID'], as_index=False).sum()\n",
    "\n",
    "IndiaSalariesDF = pd.merge(IndiaSalariesDF, EmployeeCostCenters, on = 'Employee ID', how = 'left')\n",
    "IndiaSalariesDF = pd.merge(IndiaSalariesDF, ALLRMISalariesBonuses, on = 'Employee ID', how = 'left')\n",
    "\n",
    "IndiaSalariesDF[\"Benefits per Employee\"] = 0\n",
    "IndiaSalariesDF[\"Shared per Employee\"] = 0\n",
    "IndiaSalariesDF[\"Bonus Final\"] = 0\n",
    "IndiaSalariesDF['Employee ID'] = IndiaSalariesDF['Employee ID'].astype(np.int64)\n"
   ]
  },
  {
   "cell_type": "code",
   "execution_count": 162,
   "id": "f734869d",
   "metadata": {},
   "outputs": [],
   "source": [
    "#IndiaALLIDs.to_excel('/mnt/c/Users/jerem/anaconda3/envs/Code/RMICODING/Data/TimeCodingData/Outputs/Indiadata.xlsx')"
   ]
  },
  {
   "cell_type": "code",
   "execution_count": 163,
   "id": "52cf4cff",
   "metadata": {},
   "outputs": [
    {
     "data": {
      "text/plain": [
       "200754.75"
      ]
     },
     "execution_count": 163,
     "metadata": {},
     "output_type": "execute_result"
    }
   ],
   "source": [
    "IndiaSalariesDF['Net Amount'].sum()"
   ]
  },
  {
   "cell_type": "code",
   "execution_count": 164,
   "id": "2ce2c2c4",
   "metadata": {},
   "outputs": [],
   "source": [
    "IndiaTime =  TimeDataDFALL[TimeDataDFALL['MonthYear']==currentmonthandyear]\n",
    "\n",
    "IndiaTimeMaster = pd.merge(IndiaTime, IndiaALLIDs, on = 'Employee ID', how = 'left')\n",
    "IndiaTimeMaster = IndiaTimeMaster[IndiaTimeMaster['India']=='Yes']\n",
    "\n"
   ]
  },
  {
   "cell_type": "code",
   "execution_count": 165,
   "id": "603855f9",
   "metadata": {},
   "outputs": [
    {
     "data": {
      "text/plain": [
       "8622006.629999999"
      ]
     },
     "execution_count": 165,
     "metadata": {},
     "output_type": "execute_result"
    }
   ],
   "source": [
    "IndiaTimeMaster['Net Amount'].sum()"
   ]
  },
  {
   "cell_type": "code",
   "execution_count": 166,
   "id": "9e55d7b9",
   "metadata": {},
   "outputs": [],
   "source": [
    "IndiaTimeMaster['SalaryCosted'] = 0\n",
    "IndiaTimeMaster['ConsultingFeesCosted'] = IndiaTimeMaster['Percent of Total Monthly Hours'] * IndiaTimeMaster['Net Amount']\n",
    "IndiaTimeMaster['BenefitsCosted'] = 0\n",
    "IndiaTimeMaster['SharedCosted'] = 0\n",
    "IndiaTimeMaster['BonusCosted'] = 0\n",
    "IndiaTimeMaster['Type'] = \"India\"\n",
    "IndiaTimeMaster['Admin Hours Percentage'] = 0\n",
    "IndiaTimeMaster['Project Hours Percentage'] = 1"
   ]
  },
  {
   "cell_type": "code",
   "execution_count": 167,
   "id": "af2fcf22",
   "metadata": {},
   "outputs": [
    {
     "data": {
      "text/plain": [
       "177734.09"
      ]
     },
     "execution_count": 167,
     "metadata": {},
     "output_type": "execute_result"
    }
   ],
   "source": [
    "IndiaTimeMaster['ConsultingFeesCosted'].sum()"
   ]
  },
  {
   "cell_type": "code",
   "execution_count": 168,
   "id": "93ff6566",
   "metadata": {},
   "outputs": [
    {
     "data": {
      "text/plain": [
       "Index(['Worker', 'Employee ID', 'Worker Cost Center', 'Talent Pool',\n",
       "       'Project Group', 'Utilization Target', 'Hire Date', 'Termination Date',\n",
       "       'Title', 'Reported Date', 'Time Type', 'Entry Type', 'Project',\n",
       "       'Project Plan Task', 'Project Plan Task ID', 'Cost Center',\n",
       "       'Initiative', 'Reported Quantity', 'Week', 'Time Cost Center',\n",
       "       'Time Initiative', 'MonthYear', 'Project or Admin', 'Employee Hours',\n",
       "       'Percent of Total Monthly Hours', 'Employee', 'India', 'Net Amount',\n",
       "       'SalaryCosted', 'ConsultingFeesCosted', 'BenefitsCosted',\n",
       "       'SharedCosted', 'BonusCosted', 'Type', 'Admin Hours Percentage',\n",
       "       'Project Hours Percentage'],\n",
       "      dtype='object')"
      ]
     },
     "execution_count": 168,
     "metadata": {},
     "output_type": "execute_result"
    }
   ],
   "source": [
    "IndiaTimeMaster.columns"
   ]
  },
  {
   "cell_type": "code",
   "execution_count": 169,
   "id": "3df7598b",
   "metadata": {},
   "outputs": [],
   "source": [
    "IndiaTimeMaster['Project Plan Task ID'] = np.where((IndiaTimeMaster['Project Plan Task'] == 'PTO') & (IndiaTimeMaster['Type'] == 'India') , 'PROJECT_PLAN_TASK-3-5727', IndiaTimeMaster['Project Plan Task ID'])\n",
    "\n",
    "IndiaTimeMaster['Initiative'] = np.where((IndiaTimeMaster['Project Plan Task'] == 'PTO') & (IndiaTimeMaster['Type'] == 'India') , 'IN - Admin', IndiaTimeMaster['Initiative'])\n",
    "\n",
    "IndiaTimeMaster['Cost Center'] = np.where((IndiaTimeMaster['Project Plan Task'] == 'PTO') & (IndiaTimeMaster['Type'] == 'India') , 'India', IndiaTimeMaster['Cost Center'])\n",
    "\n",
    "IndiaTimeMaster['Project Plan Task'] = np.where((IndiaTimeMaster['Project Plan Task'] == 'PTO') & (IndiaTimeMaster['Type'] == 'India') , 'India > PTO', IndiaTimeMaster['Project Plan Task'])\n",
    "\n",
    "IndiaTimeMaster['Project Plan Task ID'] = np.where((IndiaTimeMaster['Project Plan Task'] == 'Holiday') & (IndiaTimeMaster['Type'] == 'India') , 'PROJECT_PLAN_TASK-3-5727', IndiaTimeMaster['Project Plan Task ID'])\n",
    "\n",
    "IndiaTimeMaster['Initiative'].fillna(\"IN - India\", inplace = True)\n",
    "\n",
    "IndiaTimeMaster['Cost Center'].fillna(\"India\", inplace = True)\n",
    "\n",
    "IndiaTimeMaster['Project Plan Task'] = np.where((IndiaTimeMaster['Project Plan Task'] == 'Holiday') & (IndiaTimeMaster['Type'] == 'India') , 'India > PTO', IndiaTimeMaster['Project Plan Task'])"
   ]
  },
  {
   "cell_type": "code",
   "execution_count": 170,
   "id": "a1882932",
   "metadata": {},
   "outputs": [],
   "source": [
    "IndiaTimeMasterAllocated = IndiaTimeMaster[['Worker', 'Employee ID', 'Project Plan Task', 'Project Plan Task ID',\n",
    "       'Admin Hours Percentage', 'Project Hours Percentage', 'Cost Center',\n",
    "       'Initiative', 'SalaryCosted', 'BenefitsCosted', 'SharedCosted', \n",
    "       'BonusCosted', 'ConsultingFeesCosted', 'Type',\n",
    "       'Project or Admin', 'Project', 'Worker Cost Center']]\n"
   ]
  },
  {
   "cell_type": "code",
   "execution_count": 171,
   "id": "a1ee8e61",
   "metadata": {},
   "outputs": [
    {
     "data": {
      "text/html": [
       "<div>\n",
       "<style scoped>\n",
       "    .dataframe tbody tr th:only-of-type {\n",
       "        vertical-align: middle;\n",
       "    }\n",
       "\n",
       "    .dataframe tbody tr th {\n",
       "        vertical-align: top;\n",
       "    }\n",
       "\n",
       "    .dataframe thead th {\n",
       "        text-align: right;\n",
       "    }\n",
       "</style>\n",
       "<table border=\"1\" class=\"dataframe\">\n",
       "  <thead>\n",
       "    <tr style=\"text-align: right;\">\n",
       "      <th></th>\n",
       "      <th>Worker</th>\n",
       "      <th>Employee ID</th>\n",
       "      <th>Project Plan Task</th>\n",
       "      <th>Project Plan Task ID</th>\n",
       "      <th>Admin Hours Percentage</th>\n",
       "      <th>Project Hours Percentage</th>\n",
       "      <th>Cost Center</th>\n",
       "      <th>Initiative</th>\n",
       "      <th>SalaryCosted</th>\n",
       "      <th>BenefitsCosted</th>\n",
       "      <th>SharedCosted</th>\n",
       "      <th>BonusCosted</th>\n",
       "      <th>ConsultingFeesCosted</th>\n",
       "      <th>Type</th>\n",
       "      <th>Project or Admin</th>\n",
       "      <th>Project</th>\n",
       "      <th>Worker Cost Center</th>\n",
       "    </tr>\n",
       "  </thead>\n",
       "  <tbody>\n",
       "    <tr>\n",
       "      <th>184</th>\n",
       "      <td>Abhishek Murali</td>\n",
       "      <td>2010</td>\n",
       "      <td>India &gt; PTO</td>\n",
       "      <td>PROJECT_PLAN_TASK-3-5727</td>\n",
       "      <td>0</td>\n",
       "      <td>1</td>\n",
       "      <td>India</td>\n",
       "      <td>IN - India</td>\n",
       "      <td>0</td>\n",
       "      <td>0</td>\n",
       "      <td>0</td>\n",
       "      <td>0</td>\n",
       "      <td>250.847826</td>\n",
       "      <td>India</td>\n",
       "      <td>Admin</td>\n",
       "      <td>Holiday</td>\n",
       "      <td>India</td>\n",
       "    </tr>\n",
       "    <tr>\n",
       "      <th>185</th>\n",
       "      <td>Abhishek Murali</td>\n",
       "      <td>2010</td>\n",
       "      <td>Phase 1: e3W Report &gt; Report Review &amp; Publication</td>\n",
       "      <td>PROJECT_PLAN_TASK-3-6543</td>\n",
       "      <td>0</td>\n",
       "      <td>1</td>\n",
       "      <td>India</td>\n",
       "      <td>IN - India</td>\n",
       "      <td>0</td>\n",
       "      <td>0</td>\n",
       "      <td>0</td>\n",
       "      <td>0</td>\n",
       "      <td>250.847826</td>\n",
       "      <td>India</td>\n",
       "      <td>Project</td>\n",
       "      <td>[NLM] - Accelerating e2/3W Adoption</td>\n",
       "      <td>India</td>\n",
       "    </tr>\n",
       "    <tr>\n",
       "      <th>186</th>\n",
       "      <td>Abhishek Murali</td>\n",
       "      <td>2010</td>\n",
       "      <td>Phase 1 &gt; Policy document development</td>\n",
       "      <td>PROJECT_PLAN_TASK-3-6609</td>\n",
       "      <td>0</td>\n",
       "      <td>1</td>\n",
       "      <td>India</td>\n",
       "      <td>IN - India</td>\n",
       "      <td>0</td>\n",
       "      <td>0</td>\n",
       "      <td>0</td>\n",
       "      <td>0</td>\n",
       "      <td>250.847826</td>\n",
       "      <td>India</td>\n",
       "      <td>Project</td>\n",
       "      <td>[ZET] - ZET Policy</td>\n",
       "      <td>India</td>\n",
       "    </tr>\n",
       "    <tr>\n",
       "      <th>187</th>\n",
       "      <td>Abhishek Murali</td>\n",
       "      <td>2010</td>\n",
       "      <td>Phase 1 &gt; Policy document development</td>\n",
       "      <td>PROJECT_PLAN_TASK-3-6609</td>\n",
       "      <td>0</td>\n",
       "      <td>1</td>\n",
       "      <td>India</td>\n",
       "      <td>IN - India</td>\n",
       "      <td>0</td>\n",
       "      <td>0</td>\n",
       "      <td>0</td>\n",
       "      <td>0</td>\n",
       "      <td>250.847826</td>\n",
       "      <td>India</td>\n",
       "      <td>Project</td>\n",
       "      <td>[ZET] - ZET Policy</td>\n",
       "      <td>India</td>\n",
       "    </tr>\n",
       "    <tr>\n",
       "      <th>188</th>\n",
       "      <td>Abhishek Murali</td>\n",
       "      <td>2010</td>\n",
       "      <td>Phase 1: e3W Report &gt; Report Review &amp; Publication</td>\n",
       "      <td>PROJECT_PLAN_TASK-3-6543</td>\n",
       "      <td>0</td>\n",
       "      <td>1</td>\n",
       "      <td>India</td>\n",
       "      <td>IN - India</td>\n",
       "      <td>0</td>\n",
       "      <td>0</td>\n",
       "      <td>0</td>\n",
       "      <td>0</td>\n",
       "      <td>250.847826</td>\n",
       "      <td>India</td>\n",
       "      <td>Project</td>\n",
       "      <td>[NLM] - Accelerating e2/3W Adoption</td>\n",
       "      <td>India</td>\n",
       "    </tr>\n",
       "    <tr>\n",
       "      <th>189</th>\n",
       "      <td>Abhishek Murali</td>\n",
       "      <td>2010</td>\n",
       "      <td>Phase 1 &gt; Policy document development</td>\n",
       "      <td>PROJECT_PLAN_TASK-3-6609</td>\n",
       "      <td>0</td>\n",
       "      <td>1</td>\n",
       "      <td>India</td>\n",
       "      <td>IN - India</td>\n",
       "      <td>0</td>\n",
       "      <td>0</td>\n",
       "      <td>0</td>\n",
       "      <td>0</td>\n",
       "      <td>250.847826</td>\n",
       "      <td>India</td>\n",
       "      <td>Project</td>\n",
       "      <td>[ZET] - ZET Policy</td>\n",
       "      <td>India</td>\n",
       "    </tr>\n",
       "    <tr>\n",
       "      <th>190</th>\n",
       "      <td>Abhishek Murali</td>\n",
       "      <td>2010</td>\n",
       "      <td>Phase 1 &gt; Policy document development</td>\n",
       "      <td>PROJECT_PLAN_TASK-3-6609</td>\n",
       "      <td>0</td>\n",
       "      <td>1</td>\n",
       "      <td>India</td>\n",
       "      <td>IN - India</td>\n",
       "      <td>0</td>\n",
       "      <td>0</td>\n",
       "      <td>0</td>\n",
       "      <td>0</td>\n",
       "      <td>250.847826</td>\n",
       "      <td>India</td>\n",
       "      <td>Project</td>\n",
       "      <td>[ZET] - ZET Policy</td>\n",
       "      <td>India</td>\n",
       "    </tr>\n",
       "    <tr>\n",
       "      <th>191</th>\n",
       "      <td>Abhishek Murali</td>\n",
       "      <td>2010</td>\n",
       "      <td>Phase 1 &gt; Policy document development</td>\n",
       "      <td>PROJECT_PLAN_TASK-3-6609</td>\n",
       "      <td>0</td>\n",
       "      <td>1</td>\n",
       "      <td>India</td>\n",
       "      <td>IN - India</td>\n",
       "      <td>0</td>\n",
       "      <td>0</td>\n",
       "      <td>0</td>\n",
       "      <td>0</td>\n",
       "      <td>250.847826</td>\n",
       "      <td>India</td>\n",
       "      <td>Project</td>\n",
       "      <td>[ZET] - ZET Policy</td>\n",
       "      <td>India</td>\n",
       "    </tr>\n",
       "    <tr>\n",
       "      <th>192</th>\n",
       "      <td>Abhishek Murali</td>\n",
       "      <td>2010</td>\n",
       "      <td>Phase 1 &gt; Policy document development</td>\n",
       "      <td>PROJECT_PLAN_TASK-3-6609</td>\n",
       "      <td>0</td>\n",
       "      <td>1</td>\n",
       "      <td>India</td>\n",
       "      <td>IN - India</td>\n",
       "      <td>0</td>\n",
       "      <td>0</td>\n",
       "      <td>0</td>\n",
       "      <td>0</td>\n",
       "      <td>250.847826</td>\n",
       "      <td>India</td>\n",
       "      <td>Project</td>\n",
       "      <td>[ZET] - ZET Policy</td>\n",
       "      <td>India</td>\n",
       "    </tr>\n",
       "    <tr>\n",
       "      <th>193</th>\n",
       "      <td>Abhishek Murali</td>\n",
       "      <td>2010</td>\n",
       "      <td>Phase 1: e3W Report &gt; Report Review &amp; Publication</td>\n",
       "      <td>PROJECT_PLAN_TASK-3-6543</td>\n",
       "      <td>0</td>\n",
       "      <td>1</td>\n",
       "      <td>India</td>\n",
       "      <td>IN - India</td>\n",
       "      <td>0</td>\n",
       "      <td>0</td>\n",
       "      <td>0</td>\n",
       "      <td>0</td>\n",
       "      <td>250.847826</td>\n",
       "      <td>India</td>\n",
       "      <td>Project</td>\n",
       "      <td>[NLM] - Accelerating e2/3W Adoption</td>\n",
       "      <td>India</td>\n",
       "    </tr>\n",
       "    <tr>\n",
       "      <th>194</th>\n",
       "      <td>Abhishek Murali</td>\n",
       "      <td>2010</td>\n",
       "      <td>Phase 1 &gt; Policy document development</td>\n",
       "      <td>PROJECT_PLAN_TASK-3-6609</td>\n",
       "      <td>0</td>\n",
       "      <td>1</td>\n",
       "      <td>India</td>\n",
       "      <td>IN - India</td>\n",
       "      <td>0</td>\n",
       "      <td>0</td>\n",
       "      <td>0</td>\n",
       "      <td>0</td>\n",
       "      <td>250.847826</td>\n",
       "      <td>India</td>\n",
       "      <td>Project</td>\n",
       "      <td>[ZET] - ZET Policy</td>\n",
       "      <td>India</td>\n",
       "    </tr>\n",
       "    <tr>\n",
       "      <th>195</th>\n",
       "      <td>Abhishek Murali</td>\n",
       "      <td>2010</td>\n",
       "      <td>Phase 1 &gt; Policy document development</td>\n",
       "      <td>PROJECT_PLAN_TASK-3-6609</td>\n",
       "      <td>0</td>\n",
       "      <td>1</td>\n",
       "      <td>India</td>\n",
       "      <td>IN - India</td>\n",
       "      <td>0</td>\n",
       "      <td>0</td>\n",
       "      <td>0</td>\n",
       "      <td>0</td>\n",
       "      <td>250.847826</td>\n",
       "      <td>India</td>\n",
       "      <td>Project</td>\n",
       "      <td>[ZET] - ZET Policy</td>\n",
       "      <td>India</td>\n",
       "    </tr>\n",
       "    <tr>\n",
       "      <th>196</th>\n",
       "      <td>Abhishek Murali</td>\n",
       "      <td>2010</td>\n",
       "      <td>Phase 1 &gt; Policy document development</td>\n",
       "      <td>PROJECT_PLAN_TASK-3-6609</td>\n",
       "      <td>0</td>\n",
       "      <td>1</td>\n",
       "      <td>India</td>\n",
       "      <td>IN - India</td>\n",
       "      <td>0</td>\n",
       "      <td>0</td>\n",
       "      <td>0</td>\n",
       "      <td>0</td>\n",
       "      <td>250.847826</td>\n",
       "      <td>India</td>\n",
       "      <td>Project</td>\n",
       "      <td>[ZET] - ZET Policy</td>\n",
       "      <td>India</td>\n",
       "    </tr>\n",
       "    <tr>\n",
       "      <th>197</th>\n",
       "      <td>Abhishek Murali</td>\n",
       "      <td>2010</td>\n",
       "      <td>Phase 1 &gt; Policy document development</td>\n",
       "      <td>PROJECT_PLAN_TASK-3-6609</td>\n",
       "      <td>0</td>\n",
       "      <td>1</td>\n",
       "      <td>India</td>\n",
       "      <td>IN - India</td>\n",
       "      <td>0</td>\n",
       "      <td>0</td>\n",
       "      <td>0</td>\n",
       "      <td>0</td>\n",
       "      <td>250.847826</td>\n",
       "      <td>India</td>\n",
       "      <td>Project</td>\n",
       "      <td>[ZET] - ZET Policy</td>\n",
       "      <td>India</td>\n",
       "    </tr>\n",
       "    <tr>\n",
       "      <th>198</th>\n",
       "      <td>Abhishek Murali</td>\n",
       "      <td>2010</td>\n",
       "      <td>India &gt; PTO</td>\n",
       "      <td>PROJECT_PLAN_TASK-3-5727</td>\n",
       "      <td>0</td>\n",
       "      <td>1</td>\n",
       "      <td>India</td>\n",
       "      <td>IN - Admin</td>\n",
       "      <td>0</td>\n",
       "      <td>0</td>\n",
       "      <td>0</td>\n",
       "      <td>0</td>\n",
       "      <td>0.000000</td>\n",
       "      <td>India</td>\n",
       "      <td>Admin</td>\n",
       "      <td>PTO</td>\n",
       "      <td>India</td>\n",
       "    </tr>\n",
       "    <tr>\n",
       "      <th>199</th>\n",
       "      <td>Abhishek Murali</td>\n",
       "      <td>2010</td>\n",
       "      <td>India &gt; PTO</td>\n",
       "      <td>PROJECT_PLAN_TASK-3-5727</td>\n",
       "      <td>0</td>\n",
       "      <td>1</td>\n",
       "      <td>India</td>\n",
       "      <td>IN - Admin</td>\n",
       "      <td>0</td>\n",
       "      <td>0</td>\n",
       "      <td>0</td>\n",
       "      <td>0</td>\n",
       "      <td>0.000000</td>\n",
       "      <td>India</td>\n",
       "      <td>Admin</td>\n",
       "      <td>PTO</td>\n",
       "      <td>India</td>\n",
       "    </tr>\n",
       "    <tr>\n",
       "      <th>200</th>\n",
       "      <td>Abhishek Murali</td>\n",
       "      <td>2010</td>\n",
       "      <td>Phase 1: e3W Report &gt; Report Review &amp; Publication</td>\n",
       "      <td>PROJECT_PLAN_TASK-3-6543</td>\n",
       "      <td>0</td>\n",
       "      <td>1</td>\n",
       "      <td>India</td>\n",
       "      <td>IN - India</td>\n",
       "      <td>0</td>\n",
       "      <td>0</td>\n",
       "      <td>0</td>\n",
       "      <td>0</td>\n",
       "      <td>250.847826</td>\n",
       "      <td>India</td>\n",
       "      <td>Project</td>\n",
       "      <td>[NLM] - Accelerating e2/3W Adoption</td>\n",
       "      <td>India</td>\n",
       "    </tr>\n",
       "    <tr>\n",
       "      <th>201</th>\n",
       "      <td>Abhishek Murali</td>\n",
       "      <td>2010</td>\n",
       "      <td>Phase 1 &gt; Policy document development</td>\n",
       "      <td>PROJECT_PLAN_TASK-3-6609</td>\n",
       "      <td>0</td>\n",
       "      <td>1</td>\n",
       "      <td>India</td>\n",
       "      <td>IN - India</td>\n",
       "      <td>0</td>\n",
       "      <td>0</td>\n",
       "      <td>0</td>\n",
       "      <td>0</td>\n",
       "      <td>250.847826</td>\n",
       "      <td>India</td>\n",
       "      <td>Project</td>\n",
       "      <td>[ZET] - ZET Policy</td>\n",
       "      <td>India</td>\n",
       "    </tr>\n",
       "    <tr>\n",
       "      <th>202</th>\n",
       "      <td>Abhishek Murali</td>\n",
       "      <td>2010</td>\n",
       "      <td>Phase 1 &gt; Policy document development</td>\n",
       "      <td>PROJECT_PLAN_TASK-3-6609</td>\n",
       "      <td>0</td>\n",
       "      <td>1</td>\n",
       "      <td>India</td>\n",
       "      <td>IN - India</td>\n",
       "      <td>0</td>\n",
       "      <td>0</td>\n",
       "      <td>0</td>\n",
       "      <td>0</td>\n",
       "      <td>250.847826</td>\n",
       "      <td>India</td>\n",
       "      <td>Project</td>\n",
       "      <td>[ZET] - ZET Policy</td>\n",
       "      <td>India</td>\n",
       "    </tr>\n",
       "    <tr>\n",
       "      <th>203</th>\n",
       "      <td>Abhishek Murali</td>\n",
       "      <td>2010</td>\n",
       "      <td>Phase 1 &gt; Policy document development</td>\n",
       "      <td>PROJECT_PLAN_TASK-3-6609</td>\n",
       "      <td>0</td>\n",
       "      <td>1</td>\n",
       "      <td>India</td>\n",
       "      <td>IN - India</td>\n",
       "      <td>0</td>\n",
       "      <td>0</td>\n",
       "      <td>0</td>\n",
       "      <td>0</td>\n",
       "      <td>250.847826</td>\n",
       "      <td>India</td>\n",
       "      <td>Project</td>\n",
       "      <td>[ZET] - ZET Policy</td>\n",
       "      <td>India</td>\n",
       "    </tr>\n",
       "    <tr>\n",
       "      <th>204</th>\n",
       "      <td>Abhishek Murali</td>\n",
       "      <td>2010</td>\n",
       "      <td>Phase 1 &gt; Policy document development</td>\n",
       "      <td>PROJECT_PLAN_TASK-3-6609</td>\n",
       "      <td>0</td>\n",
       "      <td>1</td>\n",
       "      <td>India</td>\n",
       "      <td>IN - India</td>\n",
       "      <td>0</td>\n",
       "      <td>0</td>\n",
       "      <td>0</td>\n",
       "      <td>0</td>\n",
       "      <td>250.847826</td>\n",
       "      <td>India</td>\n",
       "      <td>Project</td>\n",
       "      <td>[ZET] - ZET Policy</td>\n",
       "      <td>India</td>\n",
       "    </tr>\n",
       "    <tr>\n",
       "      <th>205</th>\n",
       "      <td>Abhishek Murali</td>\n",
       "      <td>2010</td>\n",
       "      <td>India &gt; PTO</td>\n",
       "      <td>PROJECT_PLAN_TASK-3-5727</td>\n",
       "      <td>0</td>\n",
       "      <td>1</td>\n",
       "      <td>India</td>\n",
       "      <td>IN - India</td>\n",
       "      <td>0</td>\n",
       "      <td>0</td>\n",
       "      <td>0</td>\n",
       "      <td>0</td>\n",
       "      <td>250.847826</td>\n",
       "      <td>India</td>\n",
       "      <td>Admin</td>\n",
       "      <td>Holiday</td>\n",
       "      <td>India</td>\n",
       "    </tr>\n",
       "    <tr>\n",
       "      <th>206</th>\n",
       "      <td>Abhishek Murali</td>\n",
       "      <td>2010</td>\n",
       "      <td>Phase 1 &gt; Policy document development</td>\n",
       "      <td>PROJECT_PLAN_TASK-3-6609</td>\n",
       "      <td>0</td>\n",
       "      <td>1</td>\n",
       "      <td>India</td>\n",
       "      <td>IN - India</td>\n",
       "      <td>0</td>\n",
       "      <td>0</td>\n",
       "      <td>0</td>\n",
       "      <td>0</td>\n",
       "      <td>250.847826</td>\n",
       "      <td>India</td>\n",
       "      <td>Project</td>\n",
       "      <td>[ZET] - ZET Policy</td>\n",
       "      <td>India</td>\n",
       "    </tr>\n",
       "    <tr>\n",
       "      <th>207</th>\n",
       "      <td>Abhishek Murali</td>\n",
       "      <td>2010</td>\n",
       "      <td>Phase 1 &gt; Policy document development</td>\n",
       "      <td>PROJECT_PLAN_TASK-3-6609</td>\n",
       "      <td>0</td>\n",
       "      <td>1</td>\n",
       "      <td>India</td>\n",
       "      <td>IN - India</td>\n",
       "      <td>0</td>\n",
       "      <td>0</td>\n",
       "      <td>0</td>\n",
       "      <td>0</td>\n",
       "      <td>250.847826</td>\n",
       "      <td>India</td>\n",
       "      <td>Project</td>\n",
       "      <td>[ZET] - ZET Policy</td>\n",
       "      <td>India</td>\n",
       "    </tr>\n",
       "    <tr>\n",
       "      <th>208</th>\n",
       "      <td>Abhishek Murali</td>\n",
       "      <td>2010</td>\n",
       "      <td>Phase 1 &gt; Policy document development</td>\n",
       "      <td>PROJECT_PLAN_TASK-3-6609</td>\n",
       "      <td>0</td>\n",
       "      <td>1</td>\n",
       "      <td>India</td>\n",
       "      <td>IN - India</td>\n",
       "      <td>0</td>\n",
       "      <td>0</td>\n",
       "      <td>0</td>\n",
       "      <td>0</td>\n",
       "      <td>250.847826</td>\n",
       "      <td>India</td>\n",
       "      <td>Project</td>\n",
       "      <td>[ZET] - ZET Policy</td>\n",
       "      <td>India</td>\n",
       "    </tr>\n",
       "    <tr>\n",
       "      <th>688</th>\n",
       "      <td>Akshat Aggarwal</td>\n",
       "      <td>2007</td>\n",
       "      <td>India &gt; PTO</td>\n",
       "      <td>PROJECT_PLAN_TASK-3-5727</td>\n",
       "      <td>0</td>\n",
       "      <td>1</td>\n",
       "      <td>India</td>\n",
       "      <td>IN - India</td>\n",
       "      <td>0</td>\n",
       "      <td>0</td>\n",
       "      <td>0</td>\n",
       "      <td>0</td>\n",
       "      <td>235.328571</td>\n",
       "      <td>India</td>\n",
       "      <td>Admin</td>\n",
       "      <td>Holiday</td>\n",
       "      <td>India</td>\n",
       "    </tr>\n",
       "    <tr>\n",
       "      <th>689</th>\n",
       "      <td>Akshat Aggarwal</td>\n",
       "      <td>2007</td>\n",
       "      <td>Phase 1: Thought Leadership Report &gt; Battery r...</td>\n",
       "      <td>PROJECT_PLAN_TASK-3-6546</td>\n",
       "      <td>0</td>\n",
       "      <td>1</td>\n",
       "      <td>India</td>\n",
       "      <td>IN - India</td>\n",
       "      <td>0</td>\n",
       "      <td>0</td>\n",
       "      <td>0</td>\n",
       "      <td>0</td>\n",
       "      <td>235.328571</td>\n",
       "      <td>India</td>\n",
       "      <td>Project</td>\n",
       "      <td>[NLM] - Battery Circularity</td>\n",
       "      <td>India</td>\n",
       "    </tr>\n",
       "    <tr>\n",
       "      <th>690</th>\n",
       "      <td>Akshat Aggarwal</td>\n",
       "      <td>2007</td>\n",
       "      <td>Phase 1: Thought Leadership Report &gt; Battery r...</td>\n",
       "      <td>PROJECT_PLAN_TASK-3-6546</td>\n",
       "      <td>0</td>\n",
       "      <td>1</td>\n",
       "      <td>India</td>\n",
       "      <td>IN - India</td>\n",
       "      <td>0</td>\n",
       "      <td>0</td>\n",
       "      <td>0</td>\n",
       "      <td>0</td>\n",
       "      <td>117.664286</td>\n",
       "      <td>India</td>\n",
       "      <td>Project</td>\n",
       "      <td>[NLM] - Battery Circularity</td>\n",
       "      <td>India</td>\n",
       "    </tr>\n",
       "    <tr>\n",
       "      <th>691</th>\n",
       "      <td>Akshat Aggarwal</td>\n",
       "      <td>2007</td>\n",
       "      <td>Phase 1: Thought Leadership Report &gt; Battery r...</td>\n",
       "      <td>PROJECT_PLAN_TASK-3-6546</td>\n",
       "      <td>0</td>\n",
       "      <td>1</td>\n",
       "      <td>India</td>\n",
       "      <td>IN - India</td>\n",
       "      <td>0</td>\n",
       "      <td>0</td>\n",
       "      <td>0</td>\n",
       "      <td>0</td>\n",
       "      <td>117.664286</td>\n",
       "      <td>India</td>\n",
       "      <td>Project</td>\n",
       "      <td>[NLM] - Battery Circularity</td>\n",
       "      <td>India</td>\n",
       "    </tr>\n",
       "    <tr>\n",
       "      <th>692</th>\n",
       "      <td>Akshat Aggarwal</td>\n",
       "      <td>2007</td>\n",
       "      <td>Phase 1 &gt; Report Writing</td>\n",
       "      <td>PROJECT_PLAN_TASK-3-6554</td>\n",
       "      <td>0</td>\n",
       "      <td>1</td>\n",
       "      <td>India</td>\n",
       "      <td>IN - India</td>\n",
       "      <td>0</td>\n",
       "      <td>0</td>\n",
       "      <td>0</td>\n",
       "      <td>0</td>\n",
       "      <td>235.328571</td>\n",
       "      <td>India</td>\n",
       "      <td>Project</td>\n",
       "      <td>[NLM] - Battery Value Chain (Micelio)</td>\n",
       "      <td>India</td>\n",
       "    </tr>\n",
       "  </tbody>\n",
       "</table>\n",
       "</div>"
      ],
      "text/plain": [
       "              Worker  Employee ID  \\\n",
       "184  Abhishek Murali         2010   \n",
       "185  Abhishek Murali         2010   \n",
       "186  Abhishek Murali         2010   \n",
       "187  Abhishek Murali         2010   \n",
       "188  Abhishek Murali         2010   \n",
       "189  Abhishek Murali         2010   \n",
       "190  Abhishek Murali         2010   \n",
       "191  Abhishek Murali         2010   \n",
       "192  Abhishek Murali         2010   \n",
       "193  Abhishek Murali         2010   \n",
       "194  Abhishek Murali         2010   \n",
       "195  Abhishek Murali         2010   \n",
       "196  Abhishek Murali         2010   \n",
       "197  Abhishek Murali         2010   \n",
       "198  Abhishek Murali         2010   \n",
       "199  Abhishek Murali         2010   \n",
       "200  Abhishek Murali         2010   \n",
       "201  Abhishek Murali         2010   \n",
       "202  Abhishek Murali         2010   \n",
       "203  Abhishek Murali         2010   \n",
       "204  Abhishek Murali         2010   \n",
       "205  Abhishek Murali         2010   \n",
       "206  Abhishek Murali         2010   \n",
       "207  Abhishek Murali         2010   \n",
       "208  Abhishek Murali         2010   \n",
       "688  Akshat Aggarwal         2007   \n",
       "689  Akshat Aggarwal         2007   \n",
       "690  Akshat Aggarwal         2007   \n",
       "691  Akshat Aggarwal         2007   \n",
       "692  Akshat Aggarwal         2007   \n",
       "\n",
       "                                     Project Plan Task  \\\n",
       "184                                        India > PTO   \n",
       "185  Phase 1: e3W Report > Report Review & Publication   \n",
       "186              Phase 1 > Policy document development   \n",
       "187              Phase 1 > Policy document development   \n",
       "188  Phase 1: e3W Report > Report Review & Publication   \n",
       "189              Phase 1 > Policy document development   \n",
       "190              Phase 1 > Policy document development   \n",
       "191              Phase 1 > Policy document development   \n",
       "192              Phase 1 > Policy document development   \n",
       "193  Phase 1: e3W Report > Report Review & Publication   \n",
       "194              Phase 1 > Policy document development   \n",
       "195              Phase 1 > Policy document development   \n",
       "196              Phase 1 > Policy document development   \n",
       "197              Phase 1 > Policy document development   \n",
       "198                                        India > PTO   \n",
       "199                                        India > PTO   \n",
       "200  Phase 1: e3W Report > Report Review & Publication   \n",
       "201              Phase 1 > Policy document development   \n",
       "202              Phase 1 > Policy document development   \n",
       "203              Phase 1 > Policy document development   \n",
       "204              Phase 1 > Policy document development   \n",
       "205                                        India > PTO   \n",
       "206              Phase 1 > Policy document development   \n",
       "207              Phase 1 > Policy document development   \n",
       "208              Phase 1 > Policy document development   \n",
       "688                                        India > PTO   \n",
       "689  Phase 1: Thought Leadership Report > Battery r...   \n",
       "690  Phase 1: Thought Leadership Report > Battery r...   \n",
       "691  Phase 1: Thought Leadership Report > Battery r...   \n",
       "692                           Phase 1 > Report Writing   \n",
       "\n",
       "         Project Plan Task ID  Admin Hours Percentage  \\\n",
       "184  PROJECT_PLAN_TASK-3-5727                       0   \n",
       "185  PROJECT_PLAN_TASK-3-6543                       0   \n",
       "186  PROJECT_PLAN_TASK-3-6609                       0   \n",
       "187  PROJECT_PLAN_TASK-3-6609                       0   \n",
       "188  PROJECT_PLAN_TASK-3-6543                       0   \n",
       "189  PROJECT_PLAN_TASK-3-6609                       0   \n",
       "190  PROJECT_PLAN_TASK-3-6609                       0   \n",
       "191  PROJECT_PLAN_TASK-3-6609                       0   \n",
       "192  PROJECT_PLAN_TASK-3-6609                       0   \n",
       "193  PROJECT_PLAN_TASK-3-6543                       0   \n",
       "194  PROJECT_PLAN_TASK-3-6609                       0   \n",
       "195  PROJECT_PLAN_TASK-3-6609                       0   \n",
       "196  PROJECT_PLAN_TASK-3-6609                       0   \n",
       "197  PROJECT_PLAN_TASK-3-6609                       0   \n",
       "198  PROJECT_PLAN_TASK-3-5727                       0   \n",
       "199  PROJECT_PLAN_TASK-3-5727                       0   \n",
       "200  PROJECT_PLAN_TASK-3-6543                       0   \n",
       "201  PROJECT_PLAN_TASK-3-6609                       0   \n",
       "202  PROJECT_PLAN_TASK-3-6609                       0   \n",
       "203  PROJECT_PLAN_TASK-3-6609                       0   \n",
       "204  PROJECT_PLAN_TASK-3-6609                       0   \n",
       "205  PROJECT_PLAN_TASK-3-5727                       0   \n",
       "206  PROJECT_PLAN_TASK-3-6609                       0   \n",
       "207  PROJECT_PLAN_TASK-3-6609                       0   \n",
       "208  PROJECT_PLAN_TASK-3-6609                       0   \n",
       "688  PROJECT_PLAN_TASK-3-5727                       0   \n",
       "689  PROJECT_PLAN_TASK-3-6546                       0   \n",
       "690  PROJECT_PLAN_TASK-3-6546                       0   \n",
       "691  PROJECT_PLAN_TASK-3-6546                       0   \n",
       "692  PROJECT_PLAN_TASK-3-6554                       0   \n",
       "\n",
       "     Project Hours Percentage Cost Center  Initiative  SalaryCosted  \\\n",
       "184                         1       India  IN - India             0   \n",
       "185                         1       India  IN - India             0   \n",
       "186                         1       India  IN - India             0   \n",
       "187                         1       India  IN - India             0   \n",
       "188                         1       India  IN - India             0   \n",
       "189                         1       India  IN - India             0   \n",
       "190                         1       India  IN - India             0   \n",
       "191                         1       India  IN - India             0   \n",
       "192                         1       India  IN - India             0   \n",
       "193                         1       India  IN - India             0   \n",
       "194                         1       India  IN - India             0   \n",
       "195                         1       India  IN - India             0   \n",
       "196                         1       India  IN - India             0   \n",
       "197                         1       India  IN - India             0   \n",
       "198                         1       India  IN - Admin             0   \n",
       "199                         1       India  IN - Admin             0   \n",
       "200                         1       India  IN - India             0   \n",
       "201                         1       India  IN - India             0   \n",
       "202                         1       India  IN - India             0   \n",
       "203                         1       India  IN - India             0   \n",
       "204                         1       India  IN - India             0   \n",
       "205                         1       India  IN - India             0   \n",
       "206                         1       India  IN - India             0   \n",
       "207                         1       India  IN - India             0   \n",
       "208                         1       India  IN - India             0   \n",
       "688                         1       India  IN - India             0   \n",
       "689                         1       India  IN - India             0   \n",
       "690                         1       India  IN - India             0   \n",
       "691                         1       India  IN - India             0   \n",
       "692                         1       India  IN - India             0   \n",
       "\n",
       "     BenefitsCosted  SharedCosted  BonusCosted  ConsultingFeesCosted   Type  \\\n",
       "184               0             0            0            250.847826  India   \n",
       "185               0             0            0            250.847826  India   \n",
       "186               0             0            0            250.847826  India   \n",
       "187               0             0            0            250.847826  India   \n",
       "188               0             0            0            250.847826  India   \n",
       "189               0             0            0            250.847826  India   \n",
       "190               0             0            0            250.847826  India   \n",
       "191               0             0            0            250.847826  India   \n",
       "192               0             0            0            250.847826  India   \n",
       "193               0             0            0            250.847826  India   \n",
       "194               0             0            0            250.847826  India   \n",
       "195               0             0            0            250.847826  India   \n",
       "196               0             0            0            250.847826  India   \n",
       "197               0             0            0            250.847826  India   \n",
       "198               0             0            0              0.000000  India   \n",
       "199               0             0            0              0.000000  India   \n",
       "200               0             0            0            250.847826  India   \n",
       "201               0             0            0            250.847826  India   \n",
       "202               0             0            0            250.847826  India   \n",
       "203               0             0            0            250.847826  India   \n",
       "204               0             0            0            250.847826  India   \n",
       "205               0             0            0            250.847826  India   \n",
       "206               0             0            0            250.847826  India   \n",
       "207               0             0            0            250.847826  India   \n",
       "208               0             0            0            250.847826  India   \n",
       "688               0             0            0            235.328571  India   \n",
       "689               0             0            0            235.328571  India   \n",
       "690               0             0            0            117.664286  India   \n",
       "691               0             0            0            117.664286  India   \n",
       "692               0             0            0            235.328571  India   \n",
       "\n",
       "    Project or Admin                                Project Worker Cost Center  \n",
       "184            Admin                                Holiday              India  \n",
       "185          Project    [NLM] - Accelerating e2/3W Adoption              India  \n",
       "186          Project                     [ZET] - ZET Policy              India  \n",
       "187          Project                     [ZET] - ZET Policy              India  \n",
       "188          Project    [NLM] - Accelerating e2/3W Adoption              India  \n",
       "189          Project                     [ZET] - ZET Policy              India  \n",
       "190          Project                     [ZET] - ZET Policy              India  \n",
       "191          Project                     [ZET] - ZET Policy              India  \n",
       "192          Project                     [ZET] - ZET Policy              India  \n",
       "193          Project    [NLM] - Accelerating e2/3W Adoption              India  \n",
       "194          Project                     [ZET] - ZET Policy              India  \n",
       "195          Project                     [ZET] - ZET Policy              India  \n",
       "196          Project                     [ZET] - ZET Policy              India  \n",
       "197          Project                     [ZET] - ZET Policy              India  \n",
       "198            Admin                                    PTO              India  \n",
       "199            Admin                                    PTO              India  \n",
       "200          Project    [NLM] - Accelerating e2/3W Adoption              India  \n",
       "201          Project                     [ZET] - ZET Policy              India  \n",
       "202          Project                     [ZET] - ZET Policy              India  \n",
       "203          Project                     [ZET] - ZET Policy              India  \n",
       "204          Project                     [ZET] - ZET Policy              India  \n",
       "205            Admin                                Holiday              India  \n",
       "206          Project                     [ZET] - ZET Policy              India  \n",
       "207          Project                     [ZET] - ZET Policy              India  \n",
       "208          Project                     [ZET] - ZET Policy              India  \n",
       "688            Admin                                Holiday              India  \n",
       "689          Project            [NLM] - Battery Circularity              India  \n",
       "690          Project            [NLM] - Battery Circularity              India  \n",
       "691          Project            [NLM] - Battery Circularity              India  \n",
       "692          Project  [NLM] - Battery Value Chain (Micelio)              India  "
      ]
     },
     "execution_count": 171,
     "metadata": {},
     "output_type": "execute_result"
    }
   ],
   "source": [
    "IndiaTimeMasterAllocated.head(30)"
   ]
  },
  {
   "cell_type": "markdown",
   "id": "a4b2faf0",
   "metadata": {},
   "source": [
    "## Create Master File With All Costs per EmployeeID"
   ]
  },
  {
   "cell_type": "code",
   "execution_count": 172,
   "id": "4fece328",
   "metadata": {},
   "outputs": [],
   "source": [
    "BeijingSalaries['FileType'] = \"Beijing\"\n",
    "\n",
    "RMIandGPSalariesDF['FileType'] = \"GP & RMI\"\n",
    "\n",
    "\n",
    "IndiaSalariesDF['FileType'] = \"India\""
   ]
  },
  {
   "cell_type": "code",
   "execution_count": 173,
   "id": "9272d047",
   "metadata": {},
   "outputs": [],
   "source": [
    "BeijingSalaries['Consulting Per Employee'] = 0\n",
    "\n",
    "RMIandGPSalariesDF['Consulting Per Employee'] = 0\n",
    "\n",
    "\n",
    "IndiaSalariesDF.rename(columns={'Net Amount': 'Consulting Per Employee'}, inplace=True)\n",
    "\n",
    "IndiaSalariesDF['Net Amount'] = 0"
   ]
  },
  {
   "cell_type": "code",
   "execution_count": 174,
   "id": "cdee9808",
   "metadata": {},
   "outputs": [],
   "source": [
    "def add_zeros(x):\n",
    "    y = str(x)\n",
    "    while len(y) < 6:\n",
    "        y = '0' + y\n",
    "    return y"
   ]
  },
  {
   "cell_type": "code",
   "execution_count": 175,
   "id": "70563d29",
   "metadata": {},
   "outputs": [
    {
     "data": {
      "text/plain": [
       "73"
      ]
     },
     "execution_count": 175,
     "metadata": {},
     "output_type": "execute_result"
    }
   ],
   "source": [
    "len(GPSalariesDF)"
   ]
  },
  {
   "cell_type": "code",
   "execution_count": 176,
   "id": "470d8f7a",
   "metadata": {},
   "outputs": [],
   "source": [
    "AllSalaries = pd.concat([BeijingSalaries, RMIandGPSalariesDF, IndiaSalariesDF], ignore_index=True)"
   ]
  },
  {
   "cell_type": "code",
   "execution_count": 177,
   "id": "6bbc4bae",
   "metadata": {},
   "outputs": [
    {
     "data": {
      "text/plain": [
       "739"
      ]
     },
     "execution_count": 177,
     "metadata": {},
     "output_type": "execute_result"
    }
   ],
   "source": [
    "len(AllSalaries)"
   ]
  },
  {
   "cell_type": "code",
   "execution_count": 178,
   "id": "7a7e415d",
   "metadata": {},
   "outputs": [
    {
     "data": {
      "text/plain": [
       "Index(['Employee', 'Employee ID', 'Net Amount', 'Cost Center', 'Category',\n",
       "       'Hire Date', 'Termination Date', 'Location', 'Available Days',\n",
       "       'Bonus Final', 'Benefits per Employee', 'Shared per Employee',\n",
       "       'FileType', 'Consulting Per Employee'],\n",
       "      dtype='object')"
      ]
     },
     "execution_count": 178,
     "metadata": {},
     "output_type": "execute_result"
    }
   ],
   "source": [
    "AllSalaries.columns"
   ]
  },
  {
   "cell_type": "code",
   "execution_count": 179,
   "id": "95173eed",
   "metadata": {},
   "outputs": [],
   "source": [
    "#AllSalaries.to_excel('/mnt/c/Users/jerem/anaconda3/envs/Code/RMICODING/Data/TimeCodingData/Outputs/AllSalaries.xlsx')"
   ]
  },
  {
   "cell_type": "markdown",
   "id": "b95dcc0d",
   "metadata": {},
   "source": [
    "# Add Bonus only to Salaries"
   ]
  },
  {
   "cell_type": "code",
   "execution_count": 180,
   "id": "8a1ce8ab",
   "metadata": {},
   "outputs": [],
   "source": [
    "AllBonusTable = ALLRMISalariesBonuses"
   ]
  },
  {
   "cell_type": "code",
   "execution_count": 181,
   "id": "4b4bffab",
   "metadata": {},
   "outputs": [],
   "source": [
    "AllBonusTable.rename(columns={'Bonus Final': 'Bonus ONLY'}, inplace=True)"
   ]
  },
  {
   "cell_type": "code",
   "execution_count": 182,
   "id": "769034f7",
   "metadata": {},
   "outputs": [],
   "source": [
    "BonusesOnlyDF = pd.merge(AllBonusTable, AllSalaries, on = 'Employee ID', how = 'left')"
   ]
  },
  {
   "cell_type": "code",
   "execution_count": 183,
   "id": "6b08f283",
   "metadata": {},
   "outputs": [],
   "source": [
    "BonusesOnlyDF = BonusesOnlyDF[BonusesOnlyDF['Net Amount'].isnull()]"
   ]
  },
  {
   "cell_type": "code",
   "execution_count": 184,
   "id": "460abe4e",
   "metadata": {},
   "outputs": [],
   "source": [
    "BonusesOnlyDF = BonusesOnlyDF[['Employee ID', 'Bonus ONLY']]"
   ]
  },
  {
   "cell_type": "code",
   "execution_count": 185,
   "id": "0f6d3ec7",
   "metadata": {},
   "outputs": [
    {
     "data": {
      "text/plain": [
       "4"
      ]
     },
     "execution_count": 185,
     "metadata": {},
     "output_type": "execute_result"
    }
   ],
   "source": [
    "len(BonusesOnlyDF)"
   ]
  },
  {
   "cell_type": "code",
   "execution_count": 186,
   "id": "615c9d4c",
   "metadata": {},
   "outputs": [
    {
     "data": {
      "text/plain": [
       "Index(['Employee Name', 'Employee ID', 'Company', 'Cost Center', 'Work Email',\n",
       "       'Employment Status', 'Worker Type', 'Employee Type',\n",
       "       'Contingent Worker Type', 'Time Type', 'Location', 'Hire Date',\n",
       "       'Termination Date', 'Title', 'Exempt/Non-Exempt', 'Annual Base (USD)',\n",
       "       'Worker Utilization Target', 'Talent Pools'],\n",
       "      dtype='object')"
      ]
     },
     "execution_count": 186,
     "metadata": {},
     "output_type": "execute_result"
    }
   ],
   "source": [
    "SalaryCATS.columns"
   ]
  },
  {
   "cell_type": "code",
   "execution_count": 187,
   "id": "a3c4dfdc",
   "metadata": {},
   "outputs": [
    {
     "data": {
      "text/plain": [
       "Index(['Employee', 'Employee ID', 'Net Amount', 'Cost Center', 'Category',\n",
       "       'Hire Date', 'Termination Date', 'Location', 'Available Days',\n",
       "       'Bonus Final', 'Benefits per Employee', 'Shared per Employee',\n",
       "       'FileType', 'Consulting Per Employee'],\n",
       "      dtype='object')"
      ]
     },
     "execution_count": 187,
     "metadata": {},
     "output_type": "execute_result"
    }
   ],
   "source": [
    "AllSalaries.columns"
   ]
  },
  {
   "cell_type": "code",
   "execution_count": 188,
   "id": "cfcd5677",
   "metadata": {},
   "outputs": [],
   "source": [
    "BonusesOnlyDF = pd.merge(BonusesOnlyDF, SalaryCATS, on = 'Employee ID', how = 'left')"
   ]
  },
  {
   "cell_type": "code",
   "execution_count": 189,
   "id": "2c308720",
   "metadata": {},
   "outputs": [
    {
     "data": {
      "text/plain": [
       "Index(['Employee ID', 'Bonus ONLY', 'Employee Name', 'Company', 'Cost Center',\n",
       "       'Work Email', 'Employment Status', 'Worker Type', 'Employee Type',\n",
       "       'Contingent Worker Type', 'Time Type', 'Location', 'Hire Date',\n",
       "       'Termination Date', 'Title', 'Exempt/Non-Exempt', 'Annual Base (USD)',\n",
       "       'Worker Utilization Target', 'Talent Pools'],\n",
       "      dtype='object')"
      ]
     },
     "execution_count": 189,
     "metadata": {},
     "output_type": "execute_result"
    }
   ],
   "source": [
    "BonusesOnlyDF.columns"
   ]
  },
  {
   "cell_type": "code",
   "execution_count": 190,
   "id": "9e16d1bd",
   "metadata": {},
   "outputs": [],
   "source": [
    "BonusesOnlyDF = BonusesOnlyDF[['Employee ID', 'Bonus ONLY', 'Employee Name', 'Cost Center','Employee Type', 'Hire Date', 'Termination Date', 'Location']]"
   ]
  },
  {
   "cell_type": "code",
   "execution_count": 191,
   "id": "3107d505",
   "metadata": {},
   "outputs": [],
   "source": [
    "BonusesOnlyDF.rename(columns={'Employee Name': 'Employee', 'Employee Type': 'Category', 'Bonus ONLY': 'Bonus Final'}, inplace=True)"
   ]
  },
  {
   "cell_type": "code",
   "execution_count": null,
   "id": "a18d1980",
   "metadata": {},
   "outputs": [],
   "source": []
  },
  {
   "cell_type": "code",
   "execution_count": 192,
   "id": "afd846fb",
   "metadata": {},
   "outputs": [],
   "source": [
    "BonusesOnlyDF['Net Amount'] = 0\n",
    "BonusesOnlyDF['Available Days'] = 0\n",
    "BonusesOnlyDF['Benefits per Employee'] = 0\n",
    "BonusesOnlyDF['Shared per Employee'] = 0\n",
    "BonusesOnlyDF['Consulting Per Employee'] = 0\n",
    "BonusesOnlyDF['FileType'] = 'Bonus Only'"
   ]
  },
  {
   "cell_type": "code",
   "execution_count": null,
   "id": "3490a3a9",
   "metadata": {},
   "outputs": [],
   "source": []
  },
  {
   "cell_type": "code",
   "execution_count": 193,
   "id": "b35825d1",
   "metadata": {},
   "outputs": [],
   "source": [
    "AllSalaries = pd.concat([AllSalaries, BonusesOnlyDF], ignore_index=True)"
   ]
  },
  {
   "cell_type": "code",
   "execution_count": 194,
   "id": "1dddd239",
   "metadata": {},
   "outputs": [
    {
     "data": {
      "text/plain": [
       "743"
      ]
     },
     "execution_count": 194,
     "metadata": {},
     "output_type": "execute_result"
    }
   ],
   "source": [
    "len(AllSalaries)"
   ]
  },
  {
   "cell_type": "code",
   "execution_count": 195,
   "id": "52180b1b",
   "metadata": {},
   "outputs": [
    {
     "data": {
      "text/plain": [
       "743"
      ]
     },
     "execution_count": 195,
     "metadata": {},
     "output_type": "execute_result"
    }
   ],
   "source": [
    "len(AllSalaries)"
   ]
  },
  {
   "cell_type": "code",
   "execution_count": 196,
   "id": "311db7f0",
   "metadata": {},
   "outputs": [],
   "source": [
    "HomeProjects_RMI = './Source_Files/RMI-Adminprojects,Generaltasks.xlsx'\n",
    "\n",
    "HomeProjects_DF = pd.read_excel(HomeProjects_RMI, engine='openpyxl')"
   ]
  },
  {
   "cell_type": "code",
   "execution_count": 197,
   "id": "12ab9c5b",
   "metadata": {},
   "outputs": [],
   "source": [
    "HomeProjects_RMI_PTO = './Source_Files/Extract_Project_Structure_-_Ref_IDs_PTO.xlsx'\n",
    "\n",
    "HomeProjects_DF_PTO = pd.read_excel(HomeProjects_RMI_PTO, engine='openpyxl')"
   ]
  },
  {
   "cell_type": "code",
   "execution_count": 198,
   "id": "9962d1f6",
   "metadata": {},
   "outputs": [],
   "source": [
    "#click \"Terminated\" and leave other fields blank\n",
    "\n",
    "PartTimeUtilization_RMI = './Source_Files/RMI_-_Accounting_Part_Time_Workers.xlsx'\n",
    "\n",
    "PartTime_DF = pd.read_excel(PartTimeUtilization_RMI, header=0, engine='openpyxl')\n",
    "\n",
    "\n",
    "\n"
   ]
  },
  {
   "cell_type": "code",
   "execution_count": 199,
   "id": "18baf27f",
   "metadata": {},
   "outputs": [],
   "source": [
    "PercentTable = PartTime_DF[['Worker', 'FTE']]"
   ]
  },
  {
   "cell_type": "code",
   "execution_count": 200,
   "id": "6390d57f",
   "metadata": {},
   "outputs": [
    {
     "name": "stderr",
     "output_type": "stream",
     "text": [
      "C:\\Users\\Jwendt\\AppData\\Local\\anaconda3\\envs\\new_env_name\\lib\\site-packages\\pandas\\core\\frame.py:4300: SettingWithCopyWarning: \n",
      "A value is trying to be set on a copy of a slice from a DataFrame\n",
      "\n",
      "See the caveats in the documentation: https://pandas.pydata.org/pandas-docs/stable/user_guide/indexing.html#returning-a-view-versus-a-copy\n",
      "  return super().rename(\n"
     ]
    }
   ],
   "source": [
    "PercentTable.rename(columns={'Worker': 'Employee'}, inplace=True)"
   ]
  },
  {
   "cell_type": "code",
   "execution_count": 201,
   "id": "7e34a57b",
   "metadata": {},
   "outputs": [],
   "source": [
    "AllSalaries = pd.merge(AllSalaries, PercentTable, on = 'Employee', how = 'left')"
   ]
  },
  {
   "cell_type": "code",
   "execution_count": 202,
   "id": "e49b741f",
   "metadata": {},
   "outputs": [],
   "source": [
    "AllSalaries['FTE'].fillna(1, inplace=True)"
   ]
  },
  {
   "cell_type": "code",
   "execution_count": 203,
   "id": "6a4e7358",
   "metadata": {},
   "outputs": [
    {
     "data": {
      "text/plain": [
       "23    726\n",
       "0       4\n",
       "18      3\n",
       "22      2\n",
       "13      2\n",
       "8       2\n",
       "19      1\n",
       "14      1\n",
       "11      1\n",
       "9       1\n",
       "Name: Available Days, dtype: int64"
      ]
     },
     "execution_count": 203,
     "metadata": {},
     "output_type": "execute_result"
    }
   ],
   "source": [
    "AllSalaries['Available Days'].value_counts()"
   ]
  },
  {
   "cell_type": "code",
   "execution_count": 204,
   "id": "cce6a57b-3f66-4d7c-89f9-7f7cb2cdc394",
   "metadata": {},
   "outputs": [
    {
     "data": {
      "text/plain": [
       "743"
      ]
     },
     "execution_count": 204,
     "metadata": {},
     "output_type": "execute_result"
    }
   ],
   "source": [
    "len(AllSalaries)"
   ]
  },
  {
   "cell_type": "code",
   "execution_count": 205,
   "id": "aef31bd3",
   "metadata": {},
   "outputs": [],
   "source": [
    "AllSalaries['Adjusted Hours'] = AllSalaries['Available Days'] * 8 * AllSalaries['FTE'] "
   ]
  },
  {
   "cell_type": "code",
   "execution_count": 206,
   "id": "a63a793f",
   "metadata": {},
   "outputs": [
    {
     "data": {
      "text/html": [
       "<div>\n",
       "<style scoped>\n",
       "    .dataframe tbody tr th:only-of-type {\n",
       "        vertical-align: middle;\n",
       "    }\n",
       "\n",
       "    .dataframe tbody tr th {\n",
       "        vertical-align: top;\n",
       "    }\n",
       "\n",
       "    .dataframe thead th {\n",
       "        text-align: right;\n",
       "    }\n",
       "</style>\n",
       "<table border=\"1\" class=\"dataframe\">\n",
       "  <thead>\n",
       "    <tr style=\"text-align: right;\">\n",
       "      <th></th>\n",
       "      <th>Employee</th>\n",
       "      <th>Employee ID</th>\n",
       "      <th>Net Amount</th>\n",
       "      <th>Cost Center</th>\n",
       "      <th>Category</th>\n",
       "      <th>Hire Date</th>\n",
       "      <th>Termination Date</th>\n",
       "      <th>Location</th>\n",
       "      <th>Available Days</th>\n",
       "      <th>Bonus Final</th>\n",
       "      <th>Benefits per Employee</th>\n",
       "      <th>Shared per Employee</th>\n",
       "      <th>FileType</th>\n",
       "      <th>Consulting Per Employee</th>\n",
       "      <th>FTE</th>\n",
       "      <th>Adjusted Hours</th>\n",
       "    </tr>\n",
       "  </thead>\n",
       "  <tbody>\n",
       "    <tr>\n",
       "      <th>0</th>\n",
       "      <td>Boya Zhang （张博雅）</td>\n",
       "      <td>1841.0</td>\n",
       "      <td>6134.01</td>\n",
       "      <td>China</td>\n",
       "      <td>Regular</td>\n",
       "      <td>2023-06-26</td>\n",
       "      <td>2040-10-31</td>\n",
       "      <td>Beijing</td>\n",
       "      <td>23</td>\n",
       "      <td>299.468391</td>\n",
       "      <td>2667.84</td>\n",
       "      <td>1740.53303</td>\n",
       "      <td>Beijing</td>\n",
       "      <td>0.0</td>\n",
       "      <td>1.0</td>\n",
       "      <td>184.0</td>\n",
       "    </tr>\n",
       "    <tr>\n",
       "      <th>1</th>\n",
       "      <td>Canyang Xie （谢璨阳）</td>\n",
       "      <td>2028.0</td>\n",
       "      <td>5964.92</td>\n",
       "      <td>China</td>\n",
       "      <td>Regular</td>\n",
       "      <td>2024-07-08</td>\n",
       "      <td>2040-10-31</td>\n",
       "      <td>Beijing</td>\n",
       "      <td>23</td>\n",
       "      <td>290.746011</td>\n",
       "      <td>2667.84</td>\n",
       "      <td>1740.53303</td>\n",
       "      <td>Beijing</td>\n",
       "      <td>0.0</td>\n",
       "      <td>1.0</td>\n",
       "      <td>184.0</td>\n",
       "    </tr>\n",
       "    <tr>\n",
       "      <th>2</th>\n",
       "      <td>Dan Li | Danielle Li</td>\n",
       "      <td>7.0</td>\n",
       "      <td>9229.44</td>\n",
       "      <td>China</td>\n",
       "      <td>Regular</td>\n",
       "      <td>2016-10-18</td>\n",
       "      <td>2040-10-31</td>\n",
       "      <td>Beijing</td>\n",
       "      <td>23</td>\n",
       "      <td>908.757025</td>\n",
       "      <td>2667.84</td>\n",
       "      <td>1740.53303</td>\n",
       "      <td>Beijing</td>\n",
       "      <td>0.0</td>\n",
       "      <td>1.0</td>\n",
       "      <td>184.0</td>\n",
       "    </tr>\n",
       "    <tr>\n",
       "      <th>3</th>\n",
       "      <td>Guangxu Wang</td>\n",
       "      <td>1275.0</td>\n",
       "      <td>7407.45</td>\n",
       "      <td>China</td>\n",
       "      <td>Regular</td>\n",
       "      <td>2021-08-02</td>\n",
       "      <td>2040-10-31</td>\n",
       "      <td>Beijing</td>\n",
       "      <td>23</td>\n",
       "      <td>363.197323</td>\n",
       "      <td>2667.84</td>\n",
       "      <td>1740.53303</td>\n",
       "      <td>Beijing</td>\n",
       "      <td>0.0</td>\n",
       "      <td>1.0</td>\n",
       "      <td>184.0</td>\n",
       "    </tr>\n",
       "    <tr>\n",
       "      <th>4</th>\n",
       "      <td>Guangyu Tan</td>\n",
       "      <td>1395.0</td>\n",
       "      <td>7250.10</td>\n",
       "      <td>China</td>\n",
       "      <td>Regular</td>\n",
       "      <td>2022-01-17</td>\n",
       "      <td>2040-10-31</td>\n",
       "      <td>Beijing</td>\n",
       "      <td>23</td>\n",
       "      <td>355.323110</td>\n",
       "      <td>2667.84</td>\n",
       "      <td>1740.53303</td>\n",
       "      <td>Beijing</td>\n",
       "      <td>0.0</td>\n",
       "      <td>1.0</td>\n",
       "      <td>184.0</td>\n",
       "    </tr>\n",
       "  </tbody>\n",
       "</table>\n",
       "</div>"
      ],
      "text/plain": [
       "               Employee  Employee ID  Net Amount Cost Center Category  \\\n",
       "0      Boya Zhang （张博雅）       1841.0     6134.01       China  Regular   \n",
       "1     Canyang Xie （谢璨阳）       2028.0     5964.92       China  Regular   \n",
       "2  Dan Li | Danielle Li          7.0     9229.44       China  Regular   \n",
       "3          Guangxu Wang       1275.0     7407.45       China  Regular   \n",
       "4           Guangyu Tan       1395.0     7250.10       China  Regular   \n",
       "\n",
       "   Hire Date Termination Date Location  Available Days  Bonus Final  \\\n",
       "0 2023-06-26       2040-10-31  Beijing              23   299.468391   \n",
       "1 2024-07-08       2040-10-31  Beijing              23   290.746011   \n",
       "2 2016-10-18       2040-10-31  Beijing              23   908.757025   \n",
       "3 2021-08-02       2040-10-31  Beijing              23   363.197323   \n",
       "4 2022-01-17       2040-10-31  Beijing              23   355.323110   \n",
       "\n",
       "   Benefits per Employee  Shared per Employee FileType  \\\n",
       "0                2667.84           1740.53303  Beijing   \n",
       "1                2667.84           1740.53303  Beijing   \n",
       "2                2667.84           1740.53303  Beijing   \n",
       "3                2667.84           1740.53303  Beijing   \n",
       "4                2667.84           1740.53303  Beijing   \n",
       "\n",
       "   Consulting Per Employee  FTE  Adjusted Hours  \n",
       "0                      0.0  1.0           184.0  \n",
       "1                      0.0  1.0           184.0  \n",
       "2                      0.0  1.0           184.0  \n",
       "3                      0.0  1.0           184.0  \n",
       "4                      0.0  1.0           184.0  "
      ]
     },
     "execution_count": 206,
     "metadata": {},
     "output_type": "execute_result"
    }
   ],
   "source": [
    "AllSalaries.head()"
   ]
  },
  {
   "cell_type": "code",
   "execution_count": 207,
   "id": "74b96a80",
   "metadata": {},
   "outputs": [],
   "source": [
    "AdjustedHoursToMasterTime = AllSalaries[['Adjusted Hours', 'Employee ID']]"
   ]
  },
  {
   "cell_type": "code",
   "execution_count": 208,
   "id": "8c0091aa-b598-4ef2-a63e-da9060151e14",
   "metadata": {},
   "outputs": [
    {
     "data": {
      "text/plain": [
       "743"
      ]
     },
     "execution_count": 208,
     "metadata": {},
     "output_type": "execute_result"
    }
   ],
   "source": [
    "len(AdjustedHoursToMasterTime)"
   ]
  },
  {
   "cell_type": "code",
   "execution_count": 209,
   "id": "c8cec310",
   "metadata": {},
   "outputs": [],
   "source": [
    "TimeDataDF = pd.merge(TimeDataDF, AdjustedHoursToMasterTime, on = 'Employee ID', how = 'left')"
   ]
  },
  {
   "cell_type": "code",
   "execution_count": 210,
   "id": "d910053f",
   "metadata": {},
   "outputs": [],
   "source": [
    "TimeDataDF['Needed Project Hours'] = TimeDataDF['Utilization Target'] * TimeDataDF['Adjusted Hours']\n",
    "TimeDataDF['Needed Project Hours'].fillna(AvailableHours, inplace = True)"
   ]
  },
  {
   "cell_type": "code",
   "execution_count": 211,
   "id": "48c58654",
   "metadata": {},
   "outputs": [
    {
     "data": {
      "text/plain": [
       "36254"
      ]
     },
     "execution_count": 211,
     "metadata": {},
     "output_type": "execute_result"
    }
   ],
   "source": [
    "len(TimeDataDF)"
   ]
  },
  {
   "cell_type": "code",
   "execution_count": 212,
   "id": "c2feab82",
   "metadata": {},
   "outputs": [
    {
     "data": {
      "text/html": [
       "<div>\n",
       "<style scoped>\n",
       "    .dataframe tbody tr th:only-of-type {\n",
       "        vertical-align: middle;\n",
       "    }\n",
       "\n",
       "    .dataframe tbody tr th {\n",
       "        vertical-align: top;\n",
       "    }\n",
       "\n",
       "    .dataframe thead th {\n",
       "        text-align: right;\n",
       "    }\n",
       "</style>\n",
       "<table border=\"1\" class=\"dataframe\">\n",
       "  <thead>\n",
       "    <tr style=\"text-align: right;\">\n",
       "      <th></th>\n",
       "      <th>Worker</th>\n",
       "      <th>Employee ID</th>\n",
       "      <th>Worker Cost Center</th>\n",
       "      <th>Talent Pool</th>\n",
       "      <th>Project Group</th>\n",
       "      <th>Utilization Target</th>\n",
       "      <th>Hire Date</th>\n",
       "      <th>Termination Date</th>\n",
       "      <th>Title</th>\n",
       "      <th>Hourly Rate</th>\n",
       "      <th>...</th>\n",
       "      <th>Cost Center</th>\n",
       "      <th>Initiative</th>\n",
       "      <th>Lobbying</th>\n",
       "      <th>Lobbying Location</th>\n",
       "      <th>Reported Quantity</th>\n",
       "      <th>Time Cost Center</th>\n",
       "      <th>Time Initiative</th>\n",
       "      <th>MonthYear</th>\n",
       "      <th>Adjusted Hours</th>\n",
       "      <th>Needed Project Hours</th>\n",
       "    </tr>\n",
       "  </thead>\n",
       "  <tbody>\n",
       "    <tr>\n",
       "      <th>0</th>\n",
       "      <td>Aaron Brickman</td>\n",
       "      <td>1436</td>\n",
       "      <td>US</td>\n",
       "      <td>Talent Pool: Sr. Principal</td>\n",
       "      <td>Grant Funded</td>\n",
       "      <td>0.6</td>\n",
       "      <td>2022-02-28</td>\n",
       "      <td>NaT</td>\n",
       "      <td>Senior Principal</td>\n",
       "      <td>102.53</td>\n",
       "      <td>...</td>\n",
       "      <td>US</td>\n",
       "      <td>US - Clean Regional Economic Development</td>\n",
       "      <td>None</td>\n",
       "      <td>None</td>\n",
       "      <td>2.0</td>\n",
       "      <td>US</td>\n",
       "      <td>US - Clean Regional Economic Development</td>\n",
       "      <td>10/2024</td>\n",
       "      <td>184.0</td>\n",
       "      <td>110.4</td>\n",
       "    </tr>\n",
       "    <tr>\n",
       "      <th>1</th>\n",
       "      <td>Aaron Brickman</td>\n",
       "      <td>1436</td>\n",
       "      <td>US</td>\n",
       "      <td>Talent Pool: Sr. Principal</td>\n",
       "      <td>Grant Funded</td>\n",
       "      <td>0.6</td>\n",
       "      <td>2022-02-28</td>\n",
       "      <td>NaT</td>\n",
       "      <td>Senior Principal</td>\n",
       "      <td>102.53</td>\n",
       "      <td>...</td>\n",
       "      <td>US</td>\n",
       "      <td>US - Clean Regional Economic Development</td>\n",
       "      <td>None</td>\n",
       "      <td>None</td>\n",
       "      <td>2.0</td>\n",
       "      <td>US</td>\n",
       "      <td>US - Clean Regional Economic Development</td>\n",
       "      <td>10/2024</td>\n",
       "      <td>184.0</td>\n",
       "      <td>110.4</td>\n",
       "    </tr>\n",
       "    <tr>\n",
       "      <th>2</th>\n",
       "      <td>Aaron Brickman</td>\n",
       "      <td>1436</td>\n",
       "      <td>US</td>\n",
       "      <td>Talent Pool: Sr. Principal</td>\n",
       "      <td>Grant Funded</td>\n",
       "      <td>0.6</td>\n",
       "      <td>2022-02-28</td>\n",
       "      <td>NaT</td>\n",
       "      <td>Senior Principal</td>\n",
       "      <td>102.53</td>\n",
       "      <td>...</td>\n",
       "      <td>US</td>\n",
       "      <td>US - Clean Regional Economic Development</td>\n",
       "      <td>None</td>\n",
       "      <td>None</td>\n",
       "      <td>2.0</td>\n",
       "      <td>US</td>\n",
       "      <td>US - Clean Regional Economic Development</td>\n",
       "      <td>10/2024</td>\n",
       "      <td>184.0</td>\n",
       "      <td>110.4</td>\n",
       "    </tr>\n",
       "    <tr>\n",
       "      <th>3</th>\n",
       "      <td>Aaron Brickman</td>\n",
       "      <td>1436</td>\n",
       "      <td>US</td>\n",
       "      <td>Talent Pool: Sr. Principal</td>\n",
       "      <td>Grant Funded</td>\n",
       "      <td>0.6</td>\n",
       "      <td>2022-02-28</td>\n",
       "      <td>NaT</td>\n",
       "      <td>Senior Principal</td>\n",
       "      <td>102.53</td>\n",
       "      <td>...</td>\n",
       "      <td>US</td>\n",
       "      <td>US - Clean Regional Economic Development</td>\n",
       "      <td>None</td>\n",
       "      <td>None</td>\n",
       "      <td>2.0</td>\n",
       "      <td>US</td>\n",
       "      <td>US - Clean Regional Economic Development</td>\n",
       "      <td>10/2024</td>\n",
       "      <td>184.0</td>\n",
       "      <td>110.4</td>\n",
       "    </tr>\n",
       "    <tr>\n",
       "      <th>4</th>\n",
       "      <td>Aaron Brickman</td>\n",
       "      <td>1436</td>\n",
       "      <td>US</td>\n",
       "      <td>Talent Pool: Sr. Principal</td>\n",
       "      <td>Customer Funded</td>\n",
       "      <td>0.6</td>\n",
       "      <td>2022-02-28</td>\n",
       "      <td>NaT</td>\n",
       "      <td>Senior Principal</td>\n",
       "      <td>102.53</td>\n",
       "      <td>...</td>\n",
       "      <td>US</td>\n",
       "      <td>US - Admin</td>\n",
       "      <td>None</td>\n",
       "      <td>None</td>\n",
       "      <td>1.0</td>\n",
       "      <td>US</td>\n",
       "      <td>US - Admin</td>\n",
       "      <td>10/2024</td>\n",
       "      <td>184.0</td>\n",
       "      <td>110.4</td>\n",
       "    </tr>\n",
       "  </tbody>\n",
       "</table>\n",
       "<p>5 rows × 30 columns</p>\n",
       "</div>"
      ],
      "text/plain": [
       "           Worker  Employee ID Worker Cost Center                 Talent Pool  \\\n",
       "0  Aaron Brickman         1436                 US  Talent Pool: Sr. Principal   \n",
       "1  Aaron Brickman         1436                 US  Talent Pool: Sr. Principal   \n",
       "2  Aaron Brickman         1436                 US  Talent Pool: Sr. Principal   \n",
       "3  Aaron Brickman         1436                 US  Talent Pool: Sr. Principal   \n",
       "4  Aaron Brickman         1436                 US  Talent Pool: Sr. Principal   \n",
       "\n",
       "     Project Group  Utilization Target  Hire Date Termination Date  \\\n",
       "0     Grant Funded                 0.6 2022-02-28              NaT   \n",
       "1     Grant Funded                 0.6 2022-02-28              NaT   \n",
       "2     Grant Funded                 0.6 2022-02-28              NaT   \n",
       "3     Grant Funded                 0.6 2022-02-28              NaT   \n",
       "4  Customer Funded                 0.6 2022-02-28              NaT   \n",
       "\n",
       "              Title  Hourly Rate  ...  Cost Center  \\\n",
       "0  Senior Principal       102.53  ...           US   \n",
       "1  Senior Principal       102.53  ...           US   \n",
       "2  Senior Principal       102.53  ...           US   \n",
       "3  Senior Principal       102.53  ...           US   \n",
       "4  Senior Principal       102.53  ...           US   \n",
       "\n",
       "                                 Initiative  Lobbying Lobbying Location  \\\n",
       "0  US - Clean Regional Economic Development      None              None   \n",
       "1  US - Clean Regional Economic Development      None              None   \n",
       "2  US - Clean Regional Economic Development      None              None   \n",
       "3  US - Clean Regional Economic Development      None              None   \n",
       "4                                US - Admin      None              None   \n",
       "\n",
       "  Reported Quantity Time Cost Center  \\\n",
       "0               2.0               US   \n",
       "1               2.0               US   \n",
       "2               2.0               US   \n",
       "3               2.0               US   \n",
       "4               1.0               US   \n",
       "\n",
       "                            Time Initiative MonthYear Adjusted Hours  \\\n",
       "0  US - Clean Regional Economic Development   10/2024          184.0   \n",
       "1  US - Clean Regional Economic Development   10/2024          184.0   \n",
       "2  US - Clean Regional Economic Development   10/2024          184.0   \n",
       "3  US - Clean Regional Economic Development   10/2024          184.0   \n",
       "4                                US - Admin   10/2024          184.0   \n",
       "\n",
       "  Needed Project Hours  \n",
       "0                110.4  \n",
       "1                110.4  \n",
       "2                110.4  \n",
       "3                110.4  \n",
       "4                110.4  \n",
       "\n",
       "[5 rows x 30 columns]"
      ]
     },
     "execution_count": 212,
     "metadata": {},
     "output_type": "execute_result"
    }
   ],
   "source": [
    "TimeDataDF.head()"
   ]
  },
  {
   "cell_type": "code",
   "execution_count": 213,
   "id": "da5c8a58",
   "metadata": {},
   "outputs": [
    {
     "data": {
      "text/plain": [
       "Index(['Project', 'Project Hierarchy - Level 02', 'Project Ref ID',\n",
       "       'External Project Reference', 'Cost Center', 'Cost Center Ref ID',\n",
       "       'Initiative', 'Initiative Ref ID', 'Project Phase', 'Project Task',\n",
       "       'Project Plan Task Home', 'Project Plan Task ID Home',\n",
       "       'Project Plan Task WID'],\n",
       "      dtype='object')"
      ]
     },
     "execution_count": 213,
     "metadata": {},
     "output_type": "execute_result"
    }
   ],
   "source": [
    "HomeProjects_DF.columns"
   ]
  },
  {
   "cell_type": "code",
   "execution_count": 214,
   "id": "34527881",
   "metadata": {},
   "outputs": [],
   "source": [
    "HomeProjects_DF_Final = HomeProjects_DF[['Project Plan Task Home', 'Project Plan Task ID Home', 'Cost Center', 'Initiative']]"
   ]
  },
  {
   "cell_type": "code",
   "execution_count": 215,
   "id": "ce3d99ae",
   "metadata": {},
   "outputs": [],
   "source": [
    "HomeProjects_DF_PTO = HomeProjects_DF_PTO.rename(columns={'Project Plan Task': 'Project Plan Task PTO', 'Project Plan Task ID': 'Project Plan Task ID PTO'})"
   ]
  },
  {
   "cell_type": "code",
   "execution_count": 216,
   "id": "c78bf58c",
   "metadata": {},
   "outputs": [],
   "source": [
    "HomeProjects_DF_Final_PTO = HomeProjects_DF_PTO[['Project Plan Task PTO', 'Project Plan Task ID PTO', 'Cost Center']]"
   ]
  },
  {
   "cell_type": "code",
   "execution_count": 217,
   "id": "54a15ab6",
   "metadata": {},
   "outputs": [],
   "source": [
    "AllSalariesFinal = pd.merge(AllSalaries, HomeProjects_DF_Final, on = 'Cost Center', how = 'left')"
   ]
  },
  {
   "cell_type": "code",
   "execution_count": 218,
   "id": "55d8ebab-5242-4642-89d7-9420c03cb711",
   "metadata": {},
   "outputs": [],
   "source": [
    "AllSalariesFinal = pd.merge(AllSalariesFinal, HomeProjects_DF_Final_PTO, on = 'Cost Center', how = 'left')"
   ]
  },
  {
   "cell_type": "code",
   "execution_count": 219,
   "id": "febeb1ee-98b5-41c1-8f2e-737a88f69483",
   "metadata": {},
   "outputs": [
    {
     "data": {
      "text/plain": [
       "743"
      ]
     },
     "execution_count": 219,
     "metadata": {},
     "output_type": "execute_result"
    }
   ],
   "source": [
    "len(AllSalariesFinal)"
   ]
  },
  {
   "cell_type": "code",
   "execution_count": 220,
   "id": "cbc364d0",
   "metadata": {},
   "outputs": [],
   "source": [
    "AllSalariesFinal['Hire Date'] = AllSalariesFinal['Hire Date'].dt.strftime('%m/%d/%Y')\n",
    "AllSalariesFinal['Termination Date'] = AllSalariesFinal['Termination Date'].dt.strftime('%m/%d/%Y')"
   ]
  },
  {
   "cell_type": "code",
   "execution_count": 221,
   "id": "b5d53999",
   "metadata": {},
   "outputs": [
    {
     "data": {
      "text/plain": [
       "743"
      ]
     },
     "execution_count": 221,
     "metadata": {},
     "output_type": "execute_result"
    }
   ],
   "source": [
    "len(AllSalariesFinal)"
   ]
  },
  {
   "cell_type": "code",
   "execution_count": null,
   "id": "e6cf8402",
   "metadata": {},
   "outputs": [],
   "source": []
  },
  {
   "cell_type": "code",
   "execution_count": null,
   "id": "0cf294ce",
   "metadata": {},
   "outputs": [],
   "source": []
  },
  {
   "cell_type": "markdown",
   "id": "1da0d49f",
   "metadata": {},
   "source": [
    "# Count days between Termination Date and end date of Month"
   ]
  },
  {
   "cell_type": "code",
   "execution_count": 222,
   "id": "e045ed26",
   "metadata": {},
   "outputs": [],
   "source": [
    "AllSalaries.rename(columns={'Net Amount': 'SalarytoAllocate'}, inplace=True)"
   ]
  },
  {
   "cell_type": "markdown",
   "id": "c292a8fc",
   "metadata": {},
   "source": [
    "# Run calculations for TimeSHeets and Project Time and Admin Time, etc"
   ]
  },
  {
   "cell_type": "markdown",
   "id": "1ca03f9f",
   "metadata": {},
   "source": [
    "Now we need to bring the Home Cost Center Groupings (Department vs Program) and Project Groups in (Project or Admin)."
   ]
  },
  {
   "cell_type": "code",
   "execution_count": 223,
   "id": "116d425a",
   "metadata": {},
   "outputs": [
    {
     "data": {
      "text/plain": [
       "Index(['Worker', 'Employee ID', 'Worker Cost Center', 'Talent Pool',\n",
       "       'Project Group', 'Utilization Target', 'Hire Date', 'Termination Date',\n",
       "       'Title', 'Hourly Rate', 'Monthly Salary', 'Monthly Bonus Amount',\n",
       "       'Bonus %', 'Week', 'Reported Date', 'Time Type', 'Entry Type',\n",
       "       'Project', 'Project Plan Task', 'Project Plan Task ID', 'Cost Center',\n",
       "       'Initiative', 'Lobbying', 'Lobbying Location', 'Reported Quantity',\n",
       "       'Time Cost Center', 'Time Initiative', 'MonthYear', 'Adjusted Hours',\n",
       "       'Needed Project Hours'],\n",
       "      dtype='object')"
      ]
     },
     "execution_count": 223,
     "metadata": {},
     "output_type": "execute_result"
    }
   ],
   "source": [
    "TimeDataDF.columns"
   ]
  },
  {
   "cell_type": "code",
   "execution_count": 224,
   "id": "e0b9dc3b",
   "metadata": {},
   "outputs": [],
   "source": [
    "#MappingPath = '/mnt/c/Users/jerem/anaconda3/envs/Code/RMICODING/Data/TimeCodingData/MappingSalaryCosting.xlsx'\n",
    "\n",
    "#ProjectsMaps = pd.read_excel(MappingPath, sheet_name = 'CostCenter')\n",
    "\n",
    "#TimeDataDF = pd.merge(TimeDataDF, ProjectsMaps, on = 'Worker Cost Center', how = 'left')"
   ]
  },
  {
   "cell_type": "code",
   "execution_count": 225,
   "id": "9fdc998f",
   "metadata": {},
   "outputs": [],
   "source": [
    "MappingPath = './Source_Files/MappingSalaryCosting.xlsx'\n",
    "\n",
    "ProjectsMaps = pd.read_excel(MappingPath, sheet_name = 'AdminvsProject', engine='openpyxl')\n",
    "\n",
    "TimeDataDF = pd.merge(TimeDataDF, ProjectsMaps, on = 'Project Group', how = 'left')"
   ]
  },
  {
   "cell_type": "code",
   "execution_count": 226,
   "id": "4316a526",
   "metadata": {},
   "outputs": [
    {
     "data": {
      "text/plain": [
       "Project    26818\n",
       "Admin       9436\n",
       "Name: Project or Admin, dtype: int64"
      ]
     },
     "execution_count": 226,
     "metadata": {},
     "output_type": "execute_result"
    }
   ],
   "source": [
    "TimeDataDF['Project or Admin'].value_counts()"
   ]
  },
  {
   "cell_type": "code",
   "execution_count": 227,
   "id": "7660fb2a",
   "metadata": {},
   "outputs": [
    {
     "data": {
      "text/plain": [
       "36254"
      ]
     },
     "execution_count": 227,
     "metadata": {},
     "output_type": "execute_result"
    }
   ],
   "source": [
    "len(TimeDataDF)"
   ]
  },
  {
   "cell_type": "markdown",
   "id": "a343705c",
   "metadata": {},
   "source": [
    "Now we need to calculate Utilization Rates.  We also need to find the list of employees that didn't submit timesheets.\n",
    "\n",
    "Also need to collect \"Total Hours\" and \"Total Project Hours\" to save for later calculations."
   ]
  },
  {
   "cell_type": "markdown",
   "id": "a0906f61",
   "metadata": {},
   "source": [
    "Calculate Total Monthly Hours"
   ]
  },
  {
   "cell_type": "code",
   "execution_count": 228,
   "id": "b931a758",
   "metadata": {},
   "outputs": [],
   "source": [
    "TotalHoursbyEmployee = TimeDataDF[['Employee ID', 'Project or Admin', 'Reported Quantity']]"
   ]
  },
  {
   "cell_type": "code",
   "execution_count": 229,
   "id": "54938ecf",
   "metadata": {},
   "outputs": [],
   "source": [
    "TotalHoursbyEmployee = TotalHoursbyEmployee[['Employee ID', 'Reported Quantity']]"
   ]
  },
  {
   "cell_type": "code",
   "execution_count": 230,
   "id": "f44c60e8",
   "metadata": {},
   "outputs": [],
   "source": [
    "TotalHoursbyEmployee = TotalHoursbyEmployee.groupby(['Employee ID'], as_index=False).sum()"
   ]
  },
  {
   "cell_type": "code",
   "execution_count": 231,
   "id": "05c6923c",
   "metadata": {},
   "outputs": [],
   "source": [
    "TotalHoursbyEmployee.rename(columns={\"Reported Quantity\": \"Total Monthly Hours\"}, inplace=True)"
   ]
  },
  {
   "cell_type": "code",
   "execution_count": 232,
   "id": "95f88de8",
   "metadata": {},
   "outputs": [],
   "source": [
    "TimeDataDF = pd.merge(TimeDataDF, TotalHoursbyEmployee, on = 'Employee ID', how = 'left')"
   ]
  },
  {
   "cell_type": "code",
   "execution_count": 233,
   "id": "4a709bef",
   "metadata": {},
   "outputs": [
    {
     "data": {
      "text/plain": [
       "36254"
      ]
     },
     "execution_count": 233,
     "metadata": {},
     "output_type": "execute_result"
    }
   ],
   "source": [
    "len(TimeDataDF)"
   ]
  },
  {
   "cell_type": "markdown",
   "id": "70d85438",
   "metadata": {},
   "source": [
    "Calculate Total Project Hours"
   ]
  },
  {
   "cell_type": "code",
   "execution_count": 234,
   "id": "a9989d28",
   "metadata": {},
   "outputs": [
    {
     "data": {
      "text/plain": [
       "Index(['Worker', 'Employee ID', 'Worker Cost Center', 'Talent Pool',\n",
       "       'Project Group', 'Utilization Target', 'Hire Date', 'Termination Date',\n",
       "       'Title', 'Hourly Rate', 'Monthly Salary', 'Monthly Bonus Amount',\n",
       "       'Bonus %', 'Week', 'Reported Date', 'Time Type', 'Entry Type',\n",
       "       'Project', 'Project Plan Task', 'Project Plan Task ID', 'Cost Center',\n",
       "       'Initiative', 'Lobbying', 'Lobbying Location', 'Reported Quantity',\n",
       "       'Time Cost Center', 'Time Initiative', 'MonthYear', 'Adjusted Hours',\n",
       "       'Needed Project Hours', 'Project or Admin', 'Total Monthly Hours'],\n",
       "      dtype='object')"
      ]
     },
     "execution_count": 234,
     "metadata": {},
     "output_type": "execute_result"
    }
   ],
   "source": [
    "TimeDataDF.columns"
   ]
  },
  {
   "cell_type": "code",
   "execution_count": 235,
   "id": "257cd862",
   "metadata": {},
   "outputs": [],
   "source": [
    "ProjectHoursbyEmployee = TimeDataDF[['Employee ID', 'Project or Admin', 'Reported Quantity', 'Adjusted Hours']]"
   ]
  },
  {
   "cell_type": "code",
   "execution_count": 236,
   "id": "3ae9f144",
   "metadata": {},
   "outputs": [],
   "source": [
    "NeededHoursbyEmployee = TimeDataDF[['Employee ID','Needed Project Hours', 'Adjusted Hours']].drop_duplicates()"
   ]
  },
  {
   "cell_type": "code",
   "execution_count": null,
   "id": "f4ac5791",
   "metadata": {},
   "outputs": [],
   "source": []
  },
  {
   "cell_type": "code",
   "execution_count": 237,
   "id": "1bb2a334",
   "metadata": {},
   "outputs": [
    {
     "data": {
      "text/plain": [
       "36254"
      ]
     },
     "execution_count": 237,
     "metadata": {},
     "output_type": "execute_result"
    }
   ],
   "source": [
    "len(ProjectHoursbyEmployee)"
   ]
  },
  {
   "cell_type": "code",
   "execution_count": null,
   "id": "ef957fbe",
   "metadata": {},
   "outputs": [],
   "source": []
  },
  {
   "cell_type": "code",
   "execution_count": 238,
   "id": "1fc3937f",
   "metadata": {},
   "outputs": [],
   "source": [
    "ProjectHoursbyEmployee = ProjectHoursbyEmployee[ProjectHoursbyEmployee['Project or Admin']=='Project']"
   ]
  },
  {
   "cell_type": "code",
   "execution_count": 239,
   "id": "be77008a",
   "metadata": {},
   "outputs": [],
   "source": [
    "ProjectHoursbyEmployee = ProjectHoursbyEmployee[['Employee ID', 'Reported Quantity']]"
   ]
  },
  {
   "cell_type": "code",
   "execution_count": null,
   "id": "f4a35b76",
   "metadata": {},
   "outputs": [],
   "source": []
  },
  {
   "cell_type": "code",
   "execution_count": 240,
   "id": "33663177",
   "metadata": {},
   "outputs": [],
   "source": [
    "ProjectHoursbyEmployee = ProjectHoursbyEmployee.groupby(['Employee ID'], as_index=False).sum()"
   ]
  },
  {
   "cell_type": "code",
   "execution_count": 241,
   "id": "96ecfe48",
   "metadata": {},
   "outputs": [
    {
     "data": {
      "text/html": [
       "<div>\n",
       "<style scoped>\n",
       "    .dataframe tbody tr th:only-of-type {\n",
       "        vertical-align: middle;\n",
       "    }\n",
       "\n",
       "    .dataframe tbody tr th {\n",
       "        vertical-align: top;\n",
       "    }\n",
       "\n",
       "    .dataframe thead th {\n",
       "        text-align: right;\n",
       "    }\n",
       "</style>\n",
       "<table border=\"1\" class=\"dataframe\">\n",
       "  <thead>\n",
       "    <tr style=\"text-align: right;\">\n",
       "      <th></th>\n",
       "      <th>Employee ID</th>\n",
       "      <th>Reported Quantity</th>\n",
       "    </tr>\n",
       "  </thead>\n",
       "  <tbody>\n",
       "    <tr>\n",
       "      <th>0</th>\n",
       "      <td>1</td>\n",
       "      <td>106.0</td>\n",
       "    </tr>\n",
       "    <tr>\n",
       "      <th>1</th>\n",
       "      <td>4</td>\n",
       "      <td>108.0</td>\n",
       "    </tr>\n",
       "    <tr>\n",
       "      <th>2</th>\n",
       "      <td>5</td>\n",
       "      <td>136.0</td>\n",
       "    </tr>\n",
       "    <tr>\n",
       "      <th>3</th>\n",
       "      <td>6</td>\n",
       "      <td>136.0</td>\n",
       "    </tr>\n",
       "    <tr>\n",
       "      <th>4</th>\n",
       "      <td>7</td>\n",
       "      <td>116.0</td>\n",
       "    </tr>\n",
       "    <tr>\n",
       "      <th>...</th>\n",
       "      <td>...</td>\n",
       "      <td>...</td>\n",
       "    </tr>\n",
       "    <tr>\n",
       "      <th>694</th>\n",
       "      <td>2063</td>\n",
       "      <td>13.0</td>\n",
       "    </tr>\n",
       "    <tr>\n",
       "      <th>695</th>\n",
       "      <td>2064</td>\n",
       "      <td>187.0</td>\n",
       "    </tr>\n",
       "    <tr>\n",
       "      <th>696</th>\n",
       "      <td>2069</td>\n",
       "      <td>37.2</td>\n",
       "    </tr>\n",
       "    <tr>\n",
       "      <th>697</th>\n",
       "      <td>2070</td>\n",
       "      <td>28.0</td>\n",
       "    </tr>\n",
       "    <tr>\n",
       "      <th>698</th>\n",
       "      <td>2074</td>\n",
       "      <td>9.5</td>\n",
       "    </tr>\n",
       "  </tbody>\n",
       "</table>\n",
       "<p>699 rows × 2 columns</p>\n",
       "</div>"
      ],
      "text/plain": [
       "     Employee ID  Reported Quantity\n",
       "0              1              106.0\n",
       "1              4              108.0\n",
       "2              5              136.0\n",
       "3              6              136.0\n",
       "4              7              116.0\n",
       "..           ...                ...\n",
       "694         2063               13.0\n",
       "695         2064              187.0\n",
       "696         2069               37.2\n",
       "697         2070               28.0\n",
       "698         2074                9.5\n",
       "\n",
       "[699 rows x 2 columns]"
      ]
     },
     "execution_count": 241,
     "metadata": {},
     "output_type": "execute_result"
    }
   ],
   "source": [
    "ProjectHoursbyEmployee"
   ]
  },
  {
   "cell_type": "code",
   "execution_count": 242,
   "id": "4c5392fc",
   "metadata": {},
   "outputs": [],
   "source": [
    "ProjectHoursbyEmployee.rename(columns={\"Reported Quantity\": \"Total Project Hours\"}, inplace=True)"
   ]
  },
  {
   "cell_type": "code",
   "execution_count": 243,
   "id": "2e629a76",
   "metadata": {},
   "outputs": [],
   "source": [
    "ProjectHoursbyEmployee = pd.merge(ProjectHoursbyEmployee, NeededHoursbyEmployee, on = 'Employee ID', how = 'left')"
   ]
  },
  {
   "cell_type": "code",
   "execution_count": 244,
   "id": "d566585d",
   "metadata": {},
   "outputs": [
    {
     "data": {
      "text/html": [
       "<div>\n",
       "<style scoped>\n",
       "    .dataframe tbody tr th:only-of-type {\n",
       "        vertical-align: middle;\n",
       "    }\n",
       "\n",
       "    .dataframe tbody tr th {\n",
       "        vertical-align: top;\n",
       "    }\n",
       "\n",
       "    .dataframe thead th {\n",
       "        text-align: right;\n",
       "    }\n",
       "</style>\n",
       "<table border=\"1\" class=\"dataframe\">\n",
       "  <thead>\n",
       "    <tr style=\"text-align: right;\">\n",
       "      <th></th>\n",
       "      <th>Employee ID</th>\n",
       "      <th>Total Project Hours</th>\n",
       "      <th>Needed Project Hours</th>\n",
       "      <th>Adjusted Hours</th>\n",
       "    </tr>\n",
       "  </thead>\n",
       "  <tbody>\n",
       "    <tr>\n",
       "      <th>0</th>\n",
       "      <td>1</td>\n",
       "      <td>106.0</td>\n",
       "      <td>101.2</td>\n",
       "      <td>184.0</td>\n",
       "    </tr>\n",
       "    <tr>\n",
       "      <th>1</th>\n",
       "      <td>4</td>\n",
       "      <td>108.0</td>\n",
       "      <td>119.6</td>\n",
       "      <td>184.0</td>\n",
       "    </tr>\n",
       "    <tr>\n",
       "      <th>2</th>\n",
       "      <td>5</td>\n",
       "      <td>136.0</td>\n",
       "      <td>110.4</td>\n",
       "      <td>184.0</td>\n",
       "    </tr>\n",
       "    <tr>\n",
       "      <th>3</th>\n",
       "      <td>6</td>\n",
       "      <td>136.0</td>\n",
       "      <td>119.6</td>\n",
       "      <td>184.0</td>\n",
       "    </tr>\n",
       "    <tr>\n",
       "      <th>4</th>\n",
       "      <td>7</td>\n",
       "      <td>116.0</td>\n",
       "      <td>119.6</td>\n",
       "      <td>184.0</td>\n",
       "    </tr>\n",
       "    <tr>\n",
       "      <th>...</th>\n",
       "      <td>...</td>\n",
       "      <td>...</td>\n",
       "      <td>...</td>\n",
       "      <td>...</td>\n",
       "    </tr>\n",
       "    <tr>\n",
       "      <th>694</th>\n",
       "      <td>2063</td>\n",
       "      <td>13.0</td>\n",
       "      <td>57.6</td>\n",
       "      <td>144.0</td>\n",
       "    </tr>\n",
       "    <tr>\n",
       "      <th>695</th>\n",
       "      <td>2064</td>\n",
       "      <td>187.0</td>\n",
       "      <td>128.8</td>\n",
       "      <td>184.0</td>\n",
       "    </tr>\n",
       "    <tr>\n",
       "      <th>696</th>\n",
       "      <td>2069</td>\n",
       "      <td>37.2</td>\n",
       "      <td>57.6</td>\n",
       "      <td>144.0</td>\n",
       "    </tr>\n",
       "    <tr>\n",
       "      <th>697</th>\n",
       "      <td>2070</td>\n",
       "      <td>28.0</td>\n",
       "      <td>44.8</td>\n",
       "      <td>64.0</td>\n",
       "    </tr>\n",
       "    <tr>\n",
       "      <th>698</th>\n",
       "      <td>2074</td>\n",
       "      <td>9.5</td>\n",
       "      <td>5.6</td>\n",
       "      <td>11.2</td>\n",
       "    </tr>\n",
       "  </tbody>\n",
       "</table>\n",
       "<p>699 rows × 4 columns</p>\n",
       "</div>"
      ],
      "text/plain": [
       "     Employee ID  Total Project Hours  Needed Project Hours  Adjusted Hours\n",
       "0              1                106.0                 101.2           184.0\n",
       "1              4                108.0                 119.6           184.0\n",
       "2              5                136.0                 110.4           184.0\n",
       "3              6                136.0                 119.6           184.0\n",
       "4              7                116.0                 119.6           184.0\n",
       "..           ...                  ...                   ...             ...\n",
       "694         2063                 13.0                  57.6           144.0\n",
       "695         2064                187.0                 128.8           184.0\n",
       "696         2069                 37.2                  57.6           144.0\n",
       "697         2070                 28.0                  44.8            64.0\n",
       "698         2074                  9.5                   5.6            11.2\n",
       "\n",
       "[699 rows x 4 columns]"
      ]
     },
     "execution_count": 244,
     "metadata": {},
     "output_type": "execute_result"
    }
   ],
   "source": [
    "ProjectHoursbyEmployee"
   ]
  },
  {
   "cell_type": "code",
   "execution_count": 245,
   "id": "108b6279",
   "metadata": {},
   "outputs": [],
   "source": [
    "HoursTable = ProjectHoursbyEmployee"
   ]
  },
  {
   "cell_type": "code",
   "execution_count": 246,
   "id": "5fd6aeed",
   "metadata": {},
   "outputs": [],
   "source": [
    "ProjectHoursbyEmployee['Actual Utilization Rate'] = ProjectHoursbyEmployee['Total Project Hours']/ProjectHoursbyEmployee['Adjusted Hours']"
   ]
  },
  {
   "cell_type": "code",
   "execution_count": 247,
   "id": "79d7190a",
   "metadata": {},
   "outputs": [],
   "source": [
    "UtilizationRateTable = ProjectHoursbyEmployee[['Employee ID',  'Actual Utilization Rate', 'Total Project Hours']]"
   ]
  },
  {
   "cell_type": "code",
   "execution_count": 248,
   "id": "d389408e",
   "metadata": {},
   "outputs": [],
   "source": [
    "ActualRateTable = ProjectHoursbyEmployee[['Employee ID',  'Actual Utilization Rate']]"
   ]
  },
  {
   "cell_type": "code",
   "execution_count": 249,
   "id": "adb35e61",
   "metadata": {},
   "outputs": [],
   "source": [
    "TimeDataDF = pd.merge(TimeDataDF, UtilizationRateTable, on = 'Employee ID', how = 'left')"
   ]
  },
  {
   "cell_type": "code",
   "execution_count": 250,
   "id": "0709b8e0",
   "metadata": {},
   "outputs": [],
   "source": [
    "TimeDataDF['Total Project Hours'].fillna(0, inplace=True)\n",
    "TimeDataDF['Actual Utilization Rate'].fillna(0, inplace=True)"
   ]
  },
  {
   "cell_type": "markdown",
   "id": "60b48baf",
   "metadata": {},
   "source": [
    "Here we need to update a dataset to isolate the timesheets not submitted or \"Fully Utilized\" employees with no Project Time"
   ]
  },
  {
   "cell_type": "code",
   "execution_count": 251,
   "id": "dea0a01c",
   "metadata": {},
   "outputs": [],
   "source": [
    "TimeDataDF['Fully Utilized'] = np.where(TimeDataDF['Utilization Target'] > TimeDataDF['Actual Utilization Rate'], \"Underutilized\", np.where(TimeDataDF['Utilization Target'] <=  TimeDataDF['Actual Utilization Rate'], \"Fully Utilized\",'NA')) "
   ]
  },
  {
   "cell_type": "code",
   "execution_count": 252,
   "id": "bd0c58fd",
   "metadata": {},
   "outputs": [
    {
     "data": {
      "text/plain": [
       "Index(['Worker', 'Employee ID', 'Worker Cost Center', 'Talent Pool',\n",
       "       'Project Group', 'Utilization Target', 'Hire Date', 'Termination Date',\n",
       "       'Title', 'Hourly Rate', 'Monthly Salary', 'Monthly Bonus Amount',\n",
       "       'Bonus %', 'Week', 'Reported Date', 'Time Type', 'Entry Type',\n",
       "       'Project', 'Project Plan Task', 'Project Plan Task ID', 'Cost Center',\n",
       "       'Initiative', 'Lobbying', 'Lobbying Location', 'Reported Quantity',\n",
       "       'Time Cost Center', 'Time Initiative', 'MonthYear', 'Adjusted Hours',\n",
       "       'Needed Project Hours', 'Project or Admin', 'Total Monthly Hours',\n",
       "       'Actual Utilization Rate', 'Total Project Hours', 'Fully Utilized'],\n",
       "      dtype='object')"
      ]
     },
     "execution_count": 252,
     "metadata": {},
     "output_type": "execute_result"
    }
   ],
   "source": [
    "TimeDataDF.columns"
   ]
  },
  {
   "cell_type": "code",
   "execution_count": 253,
   "id": "1230d3d6",
   "metadata": {},
   "outputs": [],
   "source": [
    "TimeDataDFforLookup = TimeDataDF\n",
    "TimeDataDFforLookup['Total Employee Project Hours'] = TimeDataDFforLookup.groupby(['Employee ID','Project'])['Reported Quantity'].transform('sum')\n",
    "\n"
   ]
  },
  {
   "cell_type": "code",
   "execution_count": 254,
   "id": "7da67bf8",
   "metadata": {},
   "outputs": [],
   "source": [
    "TimeDataDFforLookup.columns\n",
    "EmployeeTimeProjectLookupTable = TimeDataDFforLookup[['Employee ID', 'Talent Pool', 'Worker', 'Worker Cost Center', 'Project', 'Hire Date', 'Termination Date', 'Needed Project Hours','Total Employee Project Hours','Project Group', 'Actual Utilization Rate', 'Utilization Target', 'Total Project Hours', 'Fully Utilized']].drop_duplicates()"
   ]
  },
  {
   "cell_type": "code",
   "execution_count": null,
   "id": "4e94cc69",
   "metadata": {},
   "outputs": [],
   "source": []
  },
  {
   "cell_type": "code",
   "execution_count": null,
   "id": "ff0581af",
   "metadata": {},
   "outputs": [],
   "source": []
  },
  {
   "cell_type": "code",
   "execution_count": null,
   "id": "355860ec",
   "metadata": {},
   "outputs": [],
   "source": []
  },
  {
   "cell_type": "code",
   "execution_count": null,
   "id": "67a5f541",
   "metadata": {},
   "outputs": [],
   "source": []
  },
  {
   "cell_type": "code",
   "execution_count": 255,
   "id": "dfe0bb6f",
   "metadata": {},
   "outputs": [],
   "source": [
    "TimesheetsSubmittedDF = TimeDataDF[['Employee ID', 'Fully Utilized','Needed Project Hours', 'Total Project Hours']].drop_duplicates()"
   ]
  },
  {
   "cell_type": "code",
   "execution_count": 256,
   "id": "9aa45be2",
   "metadata": {},
   "outputs": [],
   "source": [
    "TimesheetsSubmittedDF['Timesheet Submitted'] = \"Yes\""
   ]
  },
  {
   "cell_type": "code",
   "execution_count": 257,
   "id": "b5a02256",
   "metadata": {},
   "outputs": [],
   "source": [
    "SalaryCompare = pd.merge(AllSalariesFinal, TimesheetsSubmittedDF, on = 'Employee ID', how = 'left')"
   ]
  },
  {
   "cell_type": "markdown",
   "id": "89d06dc9",
   "metadata": {},
   "source": [
    "Now Combine this list with TimeSheets Not Submitted Since the Result is the same"
   ]
  },
  {
   "cell_type": "code",
   "execution_count": 258,
   "id": "8d40244f",
   "metadata": {},
   "outputs": [],
   "source": [
    "TimesheetsNotSubmitted1 = SalaryCompare[SalaryCompare['Timesheet Submitted'] != \"Yes\"]\n",
    "\n",
    "TimesheetsNotSubmitted2 = SalaryCompare[(SalaryCompare['Total Project Hours'] == 0) & (SalaryCompare['Fully Utilized']==\"Fully Utilized\")]\n",
    "\n",
    "TimesheetsNotSubmitted = pd.concat([TimesheetsNotSubmitted2, TimesheetsNotSubmitted1], ignore_index=True)\n"
   ]
  },
  {
   "cell_type": "code",
   "execution_count": 259,
   "id": "bf4f5996",
   "metadata": {},
   "outputs": [],
   "source": [
    "TimesheetsNotSubmitted1.to_excel('./Outputs/timesheets.xlsx')"
   ]
  },
  {
   "cell_type": "code",
   "execution_count": 260,
   "id": "98a7c80e",
   "metadata": {},
   "outputs": [
    {
     "data": {
      "text/html": [
       "<div>\n",
       "<style scoped>\n",
       "    .dataframe tbody tr th:only-of-type {\n",
       "        vertical-align: middle;\n",
       "    }\n",
       "\n",
       "    .dataframe tbody tr th {\n",
       "        vertical-align: top;\n",
       "    }\n",
       "\n",
       "    .dataframe thead th {\n",
       "        text-align: right;\n",
       "    }\n",
       "</style>\n",
       "<table border=\"1\" class=\"dataframe\">\n",
       "  <thead>\n",
       "    <tr style=\"text-align: right;\">\n",
       "      <th></th>\n",
       "      <th>Employee</th>\n",
       "      <th>Employee ID</th>\n",
       "      <th>Net Amount</th>\n",
       "      <th>Cost Center</th>\n",
       "      <th>Category</th>\n",
       "      <th>Hire Date</th>\n",
       "      <th>Termination Date</th>\n",
       "      <th>Location</th>\n",
       "      <th>Available Days</th>\n",
       "      <th>Bonus Final</th>\n",
       "      <th>...</th>\n",
       "      <th>Adjusted Hours</th>\n",
       "      <th>Project Plan Task Home</th>\n",
       "      <th>Project Plan Task ID Home</th>\n",
       "      <th>Initiative</th>\n",
       "      <th>Project Plan Task PTO</th>\n",
       "      <th>Project Plan Task ID PTO</th>\n",
       "      <th>Fully Utilized</th>\n",
       "      <th>Needed Project Hours</th>\n",
       "      <th>Total Project Hours</th>\n",
       "      <th>Timesheet Submitted</th>\n",
       "    </tr>\n",
       "  </thead>\n",
       "  <tbody>\n",
       "    <tr>\n",
       "      <th>115</th>\n",
       "      <td>Ben Webster</td>\n",
       "      <td>1553.0</td>\n",
       "      <td>15416.68</td>\n",
       "      <td>MiQ Foundation</td>\n",
       "      <td>Regular</td>\n",
       "      <td>06/06/2022</td>\n",
       "      <td>10/31/2040</td>\n",
       "      <td>Remote - Colorado</td>\n",
       "      <td>23</td>\n",
       "      <td>0.000000</td>\n",
       "      <td>...</td>\n",
       "      <td>184.0</td>\n",
       "      <td>General &gt; General</td>\n",
       "      <td>PROJECT_PLAN_TASK-3-4631</td>\n",
       "      <td>MiQ - Admin</td>\n",
       "      <td>MiQ &gt; PTO</td>\n",
       "      <td>PROJECT_PLAN_TASK-3-5730</td>\n",
       "      <td>NaN</td>\n",
       "      <td>NaN</td>\n",
       "      <td>NaN</td>\n",
       "      <td>NaN</td>\n",
       "    </tr>\n",
       "    <tr>\n",
       "      <th>257</th>\n",
       "      <td>Gabrielle Couderc (On Leave)</td>\n",
       "      <td>1673.0</td>\n",
       "      <td>4846.72</td>\n",
       "      <td>Finance</td>\n",
       "      <td>Regular</td>\n",
       "      <td>01/17/2023</td>\n",
       "      <td>10/31/2040</td>\n",
       "      <td>Remote-France</td>\n",
       "      <td>23</td>\n",
       "      <td>340.372083</td>\n",
       "      <td>...</td>\n",
       "      <td>184.0</td>\n",
       "      <td>Admin &gt; General</td>\n",
       "      <td>PROJECT_PLAN_TASK-3-2415</td>\n",
       "      <td>GCF - Admin</td>\n",
       "      <td>Finance &gt; PTO</td>\n",
       "      <td>PROJECT_PLAN_TASK-3-5726</td>\n",
       "      <td>NaN</td>\n",
       "      <td>NaN</td>\n",
       "      <td>NaN</td>\n",
       "      <td>NaN</td>\n",
       "    </tr>\n",
       "    <tr>\n",
       "      <th>267</th>\n",
       "      <td>Gregory Hopkins | Greg Hopkins</td>\n",
       "      <td>584.0</td>\n",
       "      <td>12497.01</td>\n",
       "      <td>CEO Team</td>\n",
       "      <td>Regular</td>\n",
       "      <td>07/17/2017</td>\n",
       "      <td>10/31/2040</td>\n",
       "      <td>Remote - Colorado</td>\n",
       "      <td>23</td>\n",
       "      <td>2499.398500</td>\n",
       "      <td>...</td>\n",
       "      <td>184.0</td>\n",
       "      <td>Admin &gt; General</td>\n",
       "      <td>PROJECT_PLAN_TASK-3-2163</td>\n",
       "      <td>CEO - CEO Admin</td>\n",
       "      <td>CEO Team &gt; PTO</td>\n",
       "      <td>PROJECT_PLAN_TASK-3-5773</td>\n",
       "      <td>NaN</td>\n",
       "      <td>NaN</td>\n",
       "      <td>NaN</td>\n",
       "      <td>NaN</td>\n",
       "    </tr>\n",
       "    <tr>\n",
       "      <th>318</th>\n",
       "      <td>James Sun (Terminated)</td>\n",
       "      <td>1716.0</td>\n",
       "      <td>2926.25</td>\n",
       "      <td>Climate Aligned Industries</td>\n",
       "      <td>Regular</td>\n",
       "      <td>01/17/2023</td>\n",
       "      <td>10/14/2024</td>\n",
       "      <td>Remote - Michigan</td>\n",
       "      <td>9</td>\n",
       "      <td>0.000000</td>\n",
       "      <td>...</td>\n",
       "      <td>72.0</td>\n",
       "      <td>Admin &gt; General</td>\n",
       "      <td>PROJECT_PLAN_TASK-3-2343</td>\n",
       "      <td>CAI - Admin</td>\n",
       "      <td>Climate Aligned Industries &gt; PTO</td>\n",
       "      <td>PROJECT_PLAN_TASK-3-5723</td>\n",
       "      <td>NaN</td>\n",
       "      <td>NaN</td>\n",
       "      <td>NaN</td>\n",
       "      <td>NaN</td>\n",
       "    </tr>\n",
       "    <tr>\n",
       "      <th>332</th>\n",
       "      <td>Jennifer Grizzard Ekzarkhov</td>\n",
       "      <td>1394.0</td>\n",
       "      <td>11058.13</td>\n",
       "      <td>Development</td>\n",
       "      <td>Regular</td>\n",
       "      <td>01/10/2022</td>\n",
       "      <td>10/31/2040</td>\n",
       "      <td>Remote - Maryland</td>\n",
       "      <td>23</td>\n",
       "      <td>1105.811417</td>\n",
       "      <td>...</td>\n",
       "      <td>184.0</td>\n",
       "      <td>Admin &gt; General</td>\n",
       "      <td>PROJECT_PLAN_TASK-3-2181</td>\n",
       "      <td>DEV - Admin</td>\n",
       "      <td>Development &gt; PTO</td>\n",
       "      <td>PROJECT_PLAN_TASK-3-5770</td>\n",
       "      <td>NaN</td>\n",
       "      <td>NaN</td>\n",
       "      <td>NaN</td>\n",
       "      <td>NaN</td>\n",
       "    </tr>\n",
       "    <tr>\n",
       "      <th>335</th>\n",
       "      <td>Jeremy Wendt</td>\n",
       "      <td>1015.0</td>\n",
       "      <td>12114.17</td>\n",
       "      <td>Org Finance</td>\n",
       "      <td>Regular</td>\n",
       "      <td>01/19/2021</td>\n",
       "      <td>10/31/2040</td>\n",
       "      <td>Remote - Colorado</td>\n",
       "      <td>23</td>\n",
       "      <td>1211.415167</td>\n",
       "      <td>...</td>\n",
       "      <td>184.0</td>\n",
       "      <td>Admin &gt; General</td>\n",
       "      <td>PROJECT_PLAN_TASK-3-1652</td>\n",
       "      <td>ACT - Accounting</td>\n",
       "      <td>Accounting &gt; PTO</td>\n",
       "      <td>PROJECT_PLAN_TASK-3-5772</td>\n",
       "      <td>NaN</td>\n",
       "      <td>NaN</td>\n",
       "      <td>NaN</td>\n",
       "      <td>NaN</td>\n",
       "    </tr>\n",
       "    <tr>\n",
       "      <th>410</th>\n",
       "      <td>Lara Owens</td>\n",
       "      <td>1008.0</td>\n",
       "      <td>13333.35</td>\n",
       "      <td>MiQ Foundation</td>\n",
       "      <td>Regular</td>\n",
       "      <td>12/15/2020</td>\n",
       "      <td>10/31/2040</td>\n",
       "      <td>Remote - Pennsylvania</td>\n",
       "      <td>23</td>\n",
       "      <td>0.000000</td>\n",
       "      <td>...</td>\n",
       "      <td>184.0</td>\n",
       "      <td>General &gt; General</td>\n",
       "      <td>PROJECT_PLAN_TASK-3-4631</td>\n",
       "      <td>MiQ - Admin</td>\n",
       "      <td>MiQ &gt; PTO</td>\n",
       "      <td>PROJECT_PLAN_TASK-3-5730</td>\n",
       "      <td>NaN</td>\n",
       "      <td>NaN</td>\n",
       "      <td>NaN</td>\n",
       "      <td>NaN</td>\n",
       "    </tr>\n",
       "    <tr>\n",
       "      <th>563</th>\n",
       "      <td>Raghav Muralidharan (On Leave)</td>\n",
       "      <td>820.0</td>\n",
       "      <td>8706.57</td>\n",
       "      <td>Carbon-Free Buildings</td>\n",
       "      <td>Regular</td>\n",
       "      <td>04/08/2019</td>\n",
       "      <td>10/31/2040</td>\n",
       "      <td>Remote - New York</td>\n",
       "      <td>23</td>\n",
       "      <td>435.327042</td>\n",
       "      <td>...</td>\n",
       "      <td>184.0</td>\n",
       "      <td>Admin &gt; General</td>\n",
       "      <td>PROJECT_PLAN_TASK-3-2271</td>\n",
       "      <td>BLD - Admin</td>\n",
       "      <td>Carbon-Free Buildings &gt; PTO</td>\n",
       "      <td>PROJECT_PLAN_TASK-3-5718</td>\n",
       "      <td>NaN</td>\n",
       "      <td>NaN</td>\n",
       "      <td>NaN</td>\n",
       "      <td>NaN</td>\n",
       "    </tr>\n",
       "    <tr>\n",
       "      <th>569</th>\n",
       "      <td>Rebecca Pimentel</td>\n",
       "      <td>642.0</td>\n",
       "      <td>17057.00</td>\n",
       "      <td>Development</td>\n",
       "      <td>Regular</td>\n",
       "      <td>06/18/2018</td>\n",
       "      <td>10/31/2040</td>\n",
       "      <td>Remote - California</td>\n",
       "      <td>23</td>\n",
       "      <td>3411.397000</td>\n",
       "      <td>...</td>\n",
       "      <td>184.0</td>\n",
       "      <td>Admin &gt; General</td>\n",
       "      <td>PROJECT_PLAN_TASK-3-2181</td>\n",
       "      <td>DEV - Admin</td>\n",
       "      <td>Development &gt; PTO</td>\n",
       "      <td>PROJECT_PLAN_TASK-3-5770</td>\n",
       "      <td>NaN</td>\n",
       "      <td>NaN</td>\n",
       "      <td>NaN</td>\n",
       "      <td>NaN</td>\n",
       "    </tr>\n",
       "    <tr>\n",
       "      <th>601</th>\n",
       "      <td>Sarah La Monaca | Sarah LaMonaca</td>\n",
       "      <td>887.0</td>\n",
       "      <td>11108.03</td>\n",
       "      <td>Finance</td>\n",
       "      <td>Regular</td>\n",
       "      <td>11/04/2019</td>\n",
       "      <td>10/31/2040</td>\n",
       "      <td>Remote-Netherlands</td>\n",
       "      <td>23</td>\n",
       "      <td>2458.176333</td>\n",
       "      <td>...</td>\n",
       "      <td>184.0</td>\n",
       "      <td>Admin &gt; General</td>\n",
       "      <td>PROJECT_PLAN_TASK-3-2415</td>\n",
       "      <td>GCF - Admin</td>\n",
       "      <td>Finance &gt; PTO</td>\n",
       "      <td>PROJECT_PLAN_TASK-3-5726</td>\n",
       "      <td>NaN</td>\n",
       "      <td>NaN</td>\n",
       "      <td>NaN</td>\n",
       "      <td>NaN</td>\n",
       "    </tr>\n",
       "    <tr>\n",
       "      <th>603</th>\n",
       "      <td>Sarah Mendelsohn</td>\n",
       "      <td>1463.0</td>\n",
       "      <td>10931.63</td>\n",
       "      <td>Climate Aligned Industries</td>\n",
       "      <td>Regular</td>\n",
       "      <td>03/28/2022</td>\n",
       "      <td>10/31/2040</td>\n",
       "      <td>Remote - New York</td>\n",
       "      <td>23</td>\n",
       "      <td>1093.161583</td>\n",
       "      <td>...</td>\n",
       "      <td>184.0</td>\n",
       "      <td>Admin &gt; General</td>\n",
       "      <td>PROJECT_PLAN_TASK-3-2343</td>\n",
       "      <td>CAI - Admin</td>\n",
       "      <td>Climate Aligned Industries &gt; PTO</td>\n",
       "      <td>PROJECT_PLAN_TASK-3-5723</td>\n",
       "      <td>NaN</td>\n",
       "      <td>NaN</td>\n",
       "      <td>NaN</td>\n",
       "      <td>NaN</td>\n",
       "    </tr>\n",
       "    <tr>\n",
       "      <th>605</th>\n",
       "      <td>Sascha Flesch (On Leave)</td>\n",
       "      <td>1367.0</td>\n",
       "      <td>9956.90</td>\n",
       "      <td>Africa</td>\n",
       "      <td>Regular</td>\n",
       "      <td>11/29/2021</td>\n",
       "      <td>10/31/2040</td>\n",
       "      <td>Remote-Austria</td>\n",
       "      <td>23</td>\n",
       "      <td>1064.259500</td>\n",
       "      <td>...</td>\n",
       "      <td>184.0</td>\n",
       "      <td>Admin &gt; General</td>\n",
       "      <td>PROJECT_PLAN_TASK-3-2253</td>\n",
       "      <td>AF - Admin</td>\n",
       "      <td>Africa &gt; PTO</td>\n",
       "      <td>PROJECT_PLAN_TASK-3-5719</td>\n",
       "      <td>NaN</td>\n",
       "      <td>NaN</td>\n",
       "      <td>NaN</td>\n",
       "      <td>NaN</td>\n",
       "    </tr>\n",
       "    <tr>\n",
       "      <th>615</th>\n",
       "      <td>Shannon Hughes (On Leave)</td>\n",
       "      <td>1334.0</td>\n",
       "      <td>10465.42</td>\n",
       "      <td>Influence Team</td>\n",
       "      <td>Regular</td>\n",
       "      <td>09/27/2021</td>\n",
       "      <td>10/31/2040</td>\n",
       "      <td>Remote - Montana</td>\n",
       "      <td>23</td>\n",
       "      <td>1046.500000</td>\n",
       "      <td>...</td>\n",
       "      <td>184.0</td>\n",
       "      <td>Admin &gt; General</td>\n",
       "      <td>PROJECT_PLAN_TASK-3-2145</td>\n",
       "      <td>COM - Admin</td>\n",
       "      <td>Influence Team &gt; PTO</td>\n",
       "      <td>PROJECT_PLAN_TASK-3-5737</td>\n",
       "      <td>NaN</td>\n",
       "      <td>NaN</td>\n",
       "      <td>NaN</td>\n",
       "      <td>NaN</td>\n",
       "    </tr>\n",
       "    <tr>\n",
       "      <th>616</th>\n",
       "      <td>Sharon Paterson</td>\n",
       "      <td>1516.0</td>\n",
       "      <td>16666.69</td>\n",
       "      <td>MiQ Foundation</td>\n",
       "      <td>Regular</td>\n",
       "      <td>05/18/2022</td>\n",
       "      <td>10/31/2040</td>\n",
       "      <td>Remote - North Carolina</td>\n",
       "      <td>23</td>\n",
       "      <td>0.000000</td>\n",
       "      <td>...</td>\n",
       "      <td>184.0</td>\n",
       "      <td>General &gt; General</td>\n",
       "      <td>PROJECT_PLAN_TASK-3-4631</td>\n",
       "      <td>MiQ - Admin</td>\n",
       "      <td>MiQ &gt; PTO</td>\n",
       "      <td>PROJECT_PLAN_TASK-3-5730</td>\n",
       "      <td>NaN</td>\n",
       "      <td>NaN</td>\n",
       "      <td>NaN</td>\n",
       "      <td>NaN</td>\n",
       "    </tr>\n",
       "    <tr>\n",
       "      <th>641</th>\n",
       "      <td>Sunny Uberoi</td>\n",
       "      <td>1660.0</td>\n",
       "      <td>15416.68</td>\n",
       "      <td>MiQ Foundation</td>\n",
       "      <td>Regular</td>\n",
       "      <td>10/24/2022</td>\n",
       "      <td>10/31/2040</td>\n",
       "      <td>Remote - New York</td>\n",
       "      <td>23</td>\n",
       "      <td>0.000000</td>\n",
       "      <td>...</td>\n",
       "      <td>184.0</td>\n",
       "      <td>General &gt; General</td>\n",
       "      <td>PROJECT_PLAN_TASK-3-4631</td>\n",
       "      <td>MiQ - Admin</td>\n",
       "      <td>MiQ &gt; PTO</td>\n",
       "      <td>PROJECT_PLAN_TASK-3-5730</td>\n",
       "      <td>NaN</td>\n",
       "      <td>NaN</td>\n",
       "      <td>NaN</td>\n",
       "      <td>NaN</td>\n",
       "    </tr>\n",
       "    <tr>\n",
       "      <th>660</th>\n",
       "      <td>Truc Huynh | Tracy Huynh (On Leave)</td>\n",
       "      <td>1649.0</td>\n",
       "      <td>8071.68</td>\n",
       "      <td>Carbon-Free Buildings</td>\n",
       "      <td>Regular</td>\n",
       "      <td>10/11/2022</td>\n",
       "      <td>10/31/2040</td>\n",
       "      <td>Remote-Switzerland</td>\n",
       "      <td>23</td>\n",
       "      <td>419.081250</td>\n",
       "      <td>...</td>\n",
       "      <td>184.0</td>\n",
       "      <td>Admin &gt; General</td>\n",
       "      <td>PROJECT_PLAN_TASK-3-2271</td>\n",
       "      <td>BLD - Admin</td>\n",
       "      <td>Carbon-Free Buildings &gt; PTO</td>\n",
       "      <td>PROJECT_PLAN_TASK-3-5718</td>\n",
       "      <td>NaN</td>\n",
       "      <td>NaN</td>\n",
       "      <td>NaN</td>\n",
       "      <td>NaN</td>\n",
       "    </tr>\n",
       "    <tr>\n",
       "      <th>715</th>\n",
       "      <td>Akshima Ghate</td>\n",
       "      <td>1913.0</td>\n",
       "      <td>0.00</td>\n",
       "      <td>India</td>\n",
       "      <td>Regular</td>\n",
       "      <td>03/01/2024</td>\n",
       "      <td>10/31/2040</td>\n",
       "      <td>New Delhi</td>\n",
       "      <td>23</td>\n",
       "      <td>0.000000</td>\n",
       "      <td>...</td>\n",
       "      <td>184.0</td>\n",
       "      <td>Admin &gt; General</td>\n",
       "      <td>PROJECT_PLAN_TASK-3-2433</td>\n",
       "      <td>IN - Admin</td>\n",
       "      <td>India &gt; PTO</td>\n",
       "      <td>PROJECT_PLAN_TASK-3-5727</td>\n",
       "      <td>NaN</td>\n",
       "      <td>NaN</td>\n",
       "      <td>NaN</td>\n",
       "      <td>NaN</td>\n",
       "    </tr>\n",
       "    <tr>\n",
       "      <th>739</th>\n",
       "      <td>Ruosida Lin | Star Lin</td>\n",
       "      <td>517.0</td>\n",
       "      <td>0.00</td>\n",
       "      <td>Climate Aligned Industries</td>\n",
       "      <td>Regular</td>\n",
       "      <td>09/01/2015</td>\n",
       "      <td>NaN</td>\n",
       "      <td>Remote - Colorado</td>\n",
       "      <td>0</td>\n",
       "      <td>448.835833</td>\n",
       "      <td>...</td>\n",
       "      <td>0.0</td>\n",
       "      <td>Admin &gt; General</td>\n",
       "      <td>PROJECT_PLAN_TASK-3-2343</td>\n",
       "      <td>CAI - Admin</td>\n",
       "      <td>Climate Aligned Industries &gt; PTO</td>\n",
       "      <td>PROJECT_PLAN_TASK-3-5723</td>\n",
       "      <td>NaN</td>\n",
       "      <td>NaN</td>\n",
       "      <td>NaN</td>\n",
       "      <td>NaN</td>\n",
       "    </tr>\n",
       "    <tr>\n",
       "      <th>740</th>\n",
       "      <td>Samuel Mardell | Sam Mardell</td>\n",
       "      <td>628.0</td>\n",
       "      <td>0.00</td>\n",
       "      <td>Carbon-Free Electricity</td>\n",
       "      <td>Regular</td>\n",
       "      <td>06/10/2019</td>\n",
       "      <td>NaN</td>\n",
       "      <td>Remote - New York</td>\n",
       "      <td>0</td>\n",
       "      <td>1022.623917</td>\n",
       "      <td>...</td>\n",
       "      <td>0.0</td>\n",
       "      <td>Admin &gt; General</td>\n",
       "      <td>PROJECT_PLAN_TASK-3-2289</td>\n",
       "      <td>POW - Admin</td>\n",
       "      <td>Carbon-Free Electricity &gt; PTO</td>\n",
       "      <td>PROJECT_PLAN_TASK-3-5698</td>\n",
       "      <td>NaN</td>\n",
       "      <td>NaN</td>\n",
       "      <td>NaN</td>\n",
       "      <td>NaN</td>\n",
       "    </tr>\n",
       "    <tr>\n",
       "      <th>741</th>\n",
       "      <td>Matthew Popkin</td>\n",
       "      <td>813.0</td>\n",
       "      <td>0.00</td>\n",
       "      <td>US</td>\n",
       "      <td>Regular</td>\n",
       "      <td>02/04/2019</td>\n",
       "      <td>NaN</td>\n",
       "      <td>Remote - Colorado</td>\n",
       "      <td>0</td>\n",
       "      <td>1106.028000</td>\n",
       "      <td>...</td>\n",
       "      <td>0.0</td>\n",
       "      <td>Admin &gt; General</td>\n",
       "      <td>PROJECT_PLAN_TASK-3-2559</td>\n",
       "      <td>US - Admin</td>\n",
       "      <td>US Program &gt; PTO</td>\n",
       "      <td>PROJECT_PLAN_TASK-3-5735</td>\n",
       "      <td>NaN</td>\n",
       "      <td>NaN</td>\n",
       "      <td>NaN</td>\n",
       "      <td>NaN</td>\n",
       "    </tr>\n",
       "    <tr>\n",
       "      <th>742</th>\n",
       "      <td>Charles Cannon</td>\n",
       "      <td>818.0</td>\n",
       "      <td>0.00</td>\n",
       "      <td>Carbon-Free Electricity</td>\n",
       "      <td>Regular</td>\n",
       "      <td>03/18/2019</td>\n",
       "      <td>NaN</td>\n",
       "      <td>Remote - Colorado</td>\n",
       "      <td>0</td>\n",
       "      <td>1057.466667</td>\n",
       "      <td>...</td>\n",
       "      <td>0.0</td>\n",
       "      <td>Admin &gt; General</td>\n",
       "      <td>PROJECT_PLAN_TASK-3-2289</td>\n",
       "      <td>POW - Admin</td>\n",
       "      <td>Carbon-Free Electricity &gt; PTO</td>\n",
       "      <td>PROJECT_PLAN_TASK-3-5698</td>\n",
       "      <td>NaN</td>\n",
       "      <td>NaN</td>\n",
       "      <td>NaN</td>\n",
       "      <td>NaN</td>\n",
       "    </tr>\n",
       "  </tbody>\n",
       "</table>\n",
       "<p>21 rows × 25 columns</p>\n",
       "</div>"
      ],
      "text/plain": [
       "                                Employee  Employee ID  Net Amount  \\\n",
       "115                          Ben Webster       1553.0    15416.68   \n",
       "257         Gabrielle Couderc (On Leave)       1673.0     4846.72   \n",
       "267       Gregory Hopkins | Greg Hopkins        584.0    12497.01   \n",
       "318               James Sun (Terminated)       1716.0     2926.25   \n",
       "332          Jennifer Grizzard Ekzarkhov       1394.0    11058.13   \n",
       "335                         Jeremy Wendt       1015.0    12114.17   \n",
       "410                           Lara Owens       1008.0    13333.35   \n",
       "563       Raghav Muralidharan (On Leave)        820.0     8706.57   \n",
       "569                     Rebecca Pimentel        642.0    17057.00   \n",
       "601     Sarah La Monaca | Sarah LaMonaca        887.0    11108.03   \n",
       "603                     Sarah Mendelsohn       1463.0    10931.63   \n",
       "605             Sascha Flesch (On Leave)       1367.0     9956.90   \n",
       "615            Shannon Hughes (On Leave)       1334.0    10465.42   \n",
       "616                      Sharon Paterson       1516.0    16666.69   \n",
       "641                         Sunny Uberoi       1660.0    15416.68   \n",
       "660  Truc Huynh | Tracy Huynh (On Leave)       1649.0     8071.68   \n",
       "715                        Akshima Ghate       1913.0        0.00   \n",
       "739               Ruosida Lin | Star Lin        517.0        0.00   \n",
       "740         Samuel Mardell | Sam Mardell        628.0        0.00   \n",
       "741                       Matthew Popkin        813.0        0.00   \n",
       "742                       Charles Cannon        818.0        0.00   \n",
       "\n",
       "                    Cost Center Category   Hire Date Termination Date  \\\n",
       "115              MiQ Foundation  Regular  06/06/2022       10/31/2040   \n",
       "257                     Finance  Regular  01/17/2023       10/31/2040   \n",
       "267                    CEO Team  Regular  07/17/2017       10/31/2040   \n",
       "318  Climate Aligned Industries  Regular  01/17/2023       10/14/2024   \n",
       "332                 Development  Regular  01/10/2022       10/31/2040   \n",
       "335                 Org Finance  Regular  01/19/2021       10/31/2040   \n",
       "410              MiQ Foundation  Regular  12/15/2020       10/31/2040   \n",
       "563       Carbon-Free Buildings  Regular  04/08/2019       10/31/2040   \n",
       "569                 Development  Regular  06/18/2018       10/31/2040   \n",
       "601                     Finance  Regular  11/04/2019       10/31/2040   \n",
       "603  Climate Aligned Industries  Regular  03/28/2022       10/31/2040   \n",
       "605                      Africa  Regular  11/29/2021       10/31/2040   \n",
       "615              Influence Team  Regular  09/27/2021       10/31/2040   \n",
       "616              MiQ Foundation  Regular  05/18/2022       10/31/2040   \n",
       "641              MiQ Foundation  Regular  10/24/2022       10/31/2040   \n",
       "660       Carbon-Free Buildings  Regular  10/11/2022       10/31/2040   \n",
       "715                       India  Regular  03/01/2024       10/31/2040   \n",
       "739  Climate Aligned Industries  Regular  09/01/2015              NaN   \n",
       "740     Carbon-Free Electricity  Regular  06/10/2019              NaN   \n",
       "741                          US  Regular  02/04/2019              NaN   \n",
       "742     Carbon-Free Electricity  Regular  03/18/2019              NaN   \n",
       "\n",
       "                    Location  Available Days  Bonus Final  ...  \\\n",
       "115        Remote - Colorado              23     0.000000  ...   \n",
       "257            Remote-France              23   340.372083  ...   \n",
       "267        Remote - Colorado              23  2499.398500  ...   \n",
       "318        Remote - Michigan               9     0.000000  ...   \n",
       "332        Remote - Maryland              23  1105.811417  ...   \n",
       "335        Remote - Colorado              23  1211.415167  ...   \n",
       "410    Remote - Pennsylvania              23     0.000000  ...   \n",
       "563        Remote - New York              23   435.327042  ...   \n",
       "569      Remote - California              23  3411.397000  ...   \n",
       "601       Remote-Netherlands              23  2458.176333  ...   \n",
       "603        Remote - New York              23  1093.161583  ...   \n",
       "605           Remote-Austria              23  1064.259500  ...   \n",
       "615         Remote - Montana              23  1046.500000  ...   \n",
       "616  Remote - North Carolina              23     0.000000  ...   \n",
       "641        Remote - New York              23     0.000000  ...   \n",
       "660       Remote-Switzerland              23   419.081250  ...   \n",
       "715                New Delhi              23     0.000000  ...   \n",
       "739        Remote - Colorado               0   448.835833  ...   \n",
       "740        Remote - New York               0  1022.623917  ...   \n",
       "741        Remote - Colorado               0  1106.028000  ...   \n",
       "742        Remote - Colorado               0  1057.466667  ...   \n",
       "\n",
       "     Adjusted Hours  Project Plan Task Home Project Plan Task ID Home  \\\n",
       "115           184.0       General > General  PROJECT_PLAN_TASK-3-4631   \n",
       "257           184.0         Admin > General  PROJECT_PLAN_TASK-3-2415   \n",
       "267           184.0         Admin > General  PROJECT_PLAN_TASK-3-2163   \n",
       "318            72.0         Admin > General  PROJECT_PLAN_TASK-3-2343   \n",
       "332           184.0         Admin > General  PROJECT_PLAN_TASK-3-2181   \n",
       "335           184.0         Admin > General  PROJECT_PLAN_TASK-3-1652   \n",
       "410           184.0       General > General  PROJECT_PLAN_TASK-3-4631   \n",
       "563           184.0         Admin > General  PROJECT_PLAN_TASK-3-2271   \n",
       "569           184.0         Admin > General  PROJECT_PLAN_TASK-3-2181   \n",
       "601           184.0         Admin > General  PROJECT_PLAN_TASK-3-2415   \n",
       "603           184.0         Admin > General  PROJECT_PLAN_TASK-3-2343   \n",
       "605           184.0         Admin > General  PROJECT_PLAN_TASK-3-2253   \n",
       "615           184.0         Admin > General  PROJECT_PLAN_TASK-3-2145   \n",
       "616           184.0       General > General  PROJECT_PLAN_TASK-3-4631   \n",
       "641           184.0       General > General  PROJECT_PLAN_TASK-3-4631   \n",
       "660           184.0         Admin > General  PROJECT_PLAN_TASK-3-2271   \n",
       "715           184.0         Admin > General  PROJECT_PLAN_TASK-3-2433   \n",
       "739             0.0         Admin > General  PROJECT_PLAN_TASK-3-2343   \n",
       "740             0.0         Admin > General  PROJECT_PLAN_TASK-3-2289   \n",
       "741             0.0         Admin > General  PROJECT_PLAN_TASK-3-2559   \n",
       "742             0.0         Admin > General  PROJECT_PLAN_TASK-3-2289   \n",
       "\n",
       "           Initiative             Project Plan Task PTO  \\\n",
       "115       MiQ - Admin                         MiQ > PTO   \n",
       "257       GCF - Admin                     Finance > PTO   \n",
       "267   CEO - CEO Admin                    CEO Team > PTO   \n",
       "318       CAI - Admin  Climate Aligned Industries > PTO   \n",
       "332       DEV - Admin                 Development > PTO   \n",
       "335  ACT - Accounting                  Accounting > PTO   \n",
       "410       MiQ - Admin                         MiQ > PTO   \n",
       "563       BLD - Admin       Carbon-Free Buildings > PTO   \n",
       "569       DEV - Admin                 Development > PTO   \n",
       "601       GCF - Admin                     Finance > PTO   \n",
       "603       CAI - Admin  Climate Aligned Industries > PTO   \n",
       "605        AF - Admin                      Africa > PTO   \n",
       "615       COM - Admin              Influence Team > PTO   \n",
       "616       MiQ - Admin                         MiQ > PTO   \n",
       "641       MiQ - Admin                         MiQ > PTO   \n",
       "660       BLD - Admin       Carbon-Free Buildings > PTO   \n",
       "715        IN - Admin                       India > PTO   \n",
       "739       CAI - Admin  Climate Aligned Industries > PTO   \n",
       "740       POW - Admin     Carbon-Free Electricity > PTO   \n",
       "741        US - Admin                  US Program > PTO   \n",
       "742       POW - Admin     Carbon-Free Electricity > PTO   \n",
       "\n",
       "     Project Plan Task ID PTO Fully Utilized Needed Project Hours  \\\n",
       "115  PROJECT_PLAN_TASK-3-5730            NaN                  NaN   \n",
       "257  PROJECT_PLAN_TASK-3-5726            NaN                  NaN   \n",
       "267  PROJECT_PLAN_TASK-3-5773            NaN                  NaN   \n",
       "318  PROJECT_PLAN_TASK-3-5723            NaN                  NaN   \n",
       "332  PROJECT_PLAN_TASK-3-5770            NaN                  NaN   \n",
       "335  PROJECT_PLAN_TASK-3-5772            NaN                  NaN   \n",
       "410  PROJECT_PLAN_TASK-3-5730            NaN                  NaN   \n",
       "563  PROJECT_PLAN_TASK-3-5718            NaN                  NaN   \n",
       "569  PROJECT_PLAN_TASK-3-5770            NaN                  NaN   \n",
       "601  PROJECT_PLAN_TASK-3-5726            NaN                  NaN   \n",
       "603  PROJECT_PLAN_TASK-3-5723            NaN                  NaN   \n",
       "605  PROJECT_PLAN_TASK-3-5719            NaN                  NaN   \n",
       "615  PROJECT_PLAN_TASK-3-5737            NaN                  NaN   \n",
       "616  PROJECT_PLAN_TASK-3-5730            NaN                  NaN   \n",
       "641  PROJECT_PLAN_TASK-3-5730            NaN                  NaN   \n",
       "660  PROJECT_PLAN_TASK-3-5718            NaN                  NaN   \n",
       "715  PROJECT_PLAN_TASK-3-5727            NaN                  NaN   \n",
       "739  PROJECT_PLAN_TASK-3-5723            NaN                  NaN   \n",
       "740  PROJECT_PLAN_TASK-3-5698            NaN                  NaN   \n",
       "741  PROJECT_PLAN_TASK-3-5735            NaN                  NaN   \n",
       "742  PROJECT_PLAN_TASK-3-5698            NaN                  NaN   \n",
       "\n",
       "    Total Project Hours Timesheet Submitted  \n",
       "115                 NaN                 NaN  \n",
       "257                 NaN                 NaN  \n",
       "267                 NaN                 NaN  \n",
       "318                 NaN                 NaN  \n",
       "332                 NaN                 NaN  \n",
       "335                 NaN                 NaN  \n",
       "410                 NaN                 NaN  \n",
       "563                 NaN                 NaN  \n",
       "569                 NaN                 NaN  \n",
       "601                 NaN                 NaN  \n",
       "603                 NaN                 NaN  \n",
       "605                 NaN                 NaN  \n",
       "615                 NaN                 NaN  \n",
       "616                 NaN                 NaN  \n",
       "641                 NaN                 NaN  \n",
       "660                 NaN                 NaN  \n",
       "715                 NaN                 NaN  \n",
       "739                 NaN                 NaN  \n",
       "740                 NaN                 NaN  \n",
       "741                 NaN                 NaN  \n",
       "742                 NaN                 NaN  \n",
       "\n",
       "[21 rows x 25 columns]"
      ]
     },
     "execution_count": 260,
     "metadata": {},
     "output_type": "execute_result"
    }
   ],
   "source": [
    "TimesheetsNotSubmitted1"
   ]
  },
  {
   "cell_type": "code",
   "execution_count": 261,
   "id": "11b581eb",
   "metadata": {},
   "outputs": [],
   "source": [
    "TimesheetsNotSubmitted['Termination Date'].fillna('10-31-2040', inplace=True)"
   ]
  },
  {
   "cell_type": "markdown",
   "id": "02509253",
   "metadata": {},
   "source": [
    "# Add Bonuses for Unpaid Employees to Timesheets not Submitted"
   ]
  },
  {
   "cell_type": "code",
   "execution_count": null,
   "id": "c7cf2321",
   "metadata": {},
   "outputs": [],
   "source": []
  },
  {
   "cell_type": "code",
   "execution_count": null,
   "id": "ea22a4a9",
   "metadata": {},
   "outputs": [],
   "source": []
  },
  {
   "cell_type": "code",
   "execution_count": null,
   "id": "4b98486d",
   "metadata": {},
   "outputs": [],
   "source": []
  },
  {
   "cell_type": "code",
   "execution_count": null,
   "id": "73c0d5bb",
   "metadata": {},
   "outputs": [],
   "source": []
  },
  {
   "cell_type": "markdown",
   "id": "f6e4fca4",
   "metadata": {},
   "source": [
    "And finally print out the final Employees Dataset"
   ]
  },
  {
   "cell_type": "code",
   "execution_count": 262,
   "id": "f7b6c9b6",
   "metadata": {},
   "outputs": [],
   "source": [
    "AllSalariesFinal = pd.merge(AllSalariesFinal, TimesheetsSubmittedDF, on = 'Employee ID', how = 'left')"
   ]
  },
  {
   "cell_type": "code",
   "execution_count": 263,
   "id": "3702c4db-30f6-4abd-b4b2-4e78474d770e",
   "metadata": {},
   "outputs": [
    {
     "data": {
      "text/plain": [
       "743"
      ]
     },
     "execution_count": 263,
     "metadata": {},
     "output_type": "execute_result"
    }
   ],
   "source": [
    "len(AllSalariesFinal)"
   ]
  },
  {
   "cell_type": "code",
   "execution_count": 264,
   "id": "f8d893b1",
   "metadata": {},
   "outputs": [
    {
     "data": {
      "text/plain": [
       "Index(['Employee', 'Employee ID', 'Net Amount', 'Cost Center', 'Category',\n",
       "       'Hire Date', 'Termination Date', 'Location', 'Available Days',\n",
       "       'Bonus Final', 'Benefits per Employee', 'Shared per Employee',\n",
       "       'FileType', 'Consulting Per Employee', 'FTE', 'Adjusted Hours',\n",
       "       'Project Plan Task Home', 'Project Plan Task ID Home', 'Initiative',\n",
       "       'Project Plan Task PTO', 'Project Plan Task ID PTO', 'Fully Utilized',\n",
       "       'Needed Project Hours', 'Total Project Hours', 'Timesheet Submitted'],\n",
       "      dtype='object')"
      ]
     },
     "execution_count": 264,
     "metadata": {},
     "output_type": "execute_result"
    }
   ],
   "source": [
    "AllSalariesFinal.columns"
   ]
  },
  {
   "cell_type": "code",
   "execution_count": 265,
   "id": "138a0514-b383-4218-b890-ae156bb91833",
   "metadata": {},
   "outputs": [
    {
     "data": {
      "text/plain": [
       "743"
      ]
     },
     "execution_count": 265,
     "metadata": {},
     "output_type": "execute_result"
    }
   ],
   "source": [
    "len(AllSalariesFinal)"
   ]
  },
  {
   "cell_type": "code",
   "execution_count": 266,
   "id": "b3f37aa3",
   "metadata": {},
   "outputs": [],
   "source": [
    "AllSalariesFinal['Bonus Final'].fillna(0, inplace = True)\n",
    "AllSalariesFinal['Net Amount'].fillna(0, inplace = True)\n",
    "AllSalariesFinal['Benefits per Employee'].fillna(0, inplace = True)\n",
    "AllSalariesFinal['Shared per Employee'].fillna(0, inplace = True)"
   ]
  },
  {
   "cell_type": "code",
   "execution_count": 267,
   "id": "c3aac077",
   "metadata": {},
   "outputs": [],
   "source": [
    "AllSalariesFinal['Total Cost'] = AllSalariesFinal['Net Amount'] + AllSalariesFinal['Bonus Final'] + AllSalariesFinal['Benefits per Employee'] + AllSalariesFinal['Shared per Employee'] + AllSalariesFinal['Consulting Per Employee']"
   ]
  },
  {
   "cell_type": "code",
   "execution_count": 268,
   "id": "fb173e73",
   "metadata": {},
   "outputs": [],
   "source": [
    "AllSalariesFinal['Hours for Project Hour Calc'] = np.where(AllSalariesFinal['Total Project Hours'] > AllSalariesFinal['Needed Project Hours'], AllSalariesFinal['Total Project Hours'], AllSalariesFinal['Needed Project Hours'])"
   ]
  },
  {
   "cell_type": "code",
   "execution_count": 269,
   "id": "bb79449f",
   "metadata": {},
   "outputs": [],
   "source": [
    "AllSalariesFinal['Cost per Project Hour'] = AllSalariesFinal['Total Cost']/AllSalariesFinal['Hours for Project Hour Calc']"
   ]
  },
  {
   "cell_type": "code",
   "execution_count": null,
   "id": "46381a2a-4f58-49c2-8522-ae9fa1c15e64",
   "metadata": {},
   "outputs": [],
   "source": []
  },
  {
   "cell_type": "code",
   "execution_count": 270,
   "id": "6a630b39",
   "metadata": {},
   "outputs": [],
   "source": [
    "AllSalariesFinal['Cost per Project Hour'].fillna(AllSalariesFinal['Total Cost']/AllSalariesFinal['Needed Project Hours'], inplace = True)"
   ]
  },
  {
   "cell_type": "code",
   "execution_count": 271,
   "id": "2d9b2bb5",
   "metadata": {},
   "outputs": [],
   "source": [
    "AllSalariesFinal['Termination Date'].fillna('10-31-2040', inplace=True)"
   ]
  },
  {
   "cell_type": "code",
   "execution_count": 272,
   "id": "8c58cbfe",
   "metadata": {},
   "outputs": [],
   "source": [
    "EmployeeCostperHourTable = AllSalariesFinal[['Employee ID', 'Cost per Project Hour']]"
   ]
  },
  {
   "cell_type": "code",
   "execution_count": 273,
   "id": "ac529aa2",
   "metadata": {},
   "outputs": [],
   "source": [
    "AllSalariesFinal['Standard Monthly Cost'] = AllSalariesFinal['Total Cost'] / AllSalariesFinal['Needed Project Hours']\n",
    "StandardCostTable = AllSalariesFinal[['Employee ID', 'Standard Monthly Cost']]"
   ]
  },
  {
   "cell_type": "code",
   "execution_count": null,
   "id": "61eab478",
   "metadata": {},
   "outputs": [],
   "source": []
  },
  {
   "cell_type": "markdown",
   "id": "86331e24",
   "metadata": {},
   "source": [
    "Final List of Salaries for Employees that did not submit timesheets is here:"
   ]
  },
  {
   "cell_type": "code",
   "execution_count": 274,
   "id": "2dca5926",
   "metadata": {},
   "outputs": [],
   "source": [
    "#AllSalariesFinal = pd.merge(AllSalariesFinal, NeededHoursbyEmployee, on = 'Employee ID', how = 'left')"
   ]
  },
  {
   "cell_type": "code",
   "execution_count": 275,
   "id": "c3946b48",
   "metadata": {},
   "outputs": [
    {
     "data": {
      "text/plain": [
       "Fully Utilized    22759\n",
       "Underutilized     13495\n",
       "Name: Fully Utilized, dtype: int64"
      ]
     },
     "execution_count": 275,
     "metadata": {},
     "output_type": "execute_result"
    }
   ],
   "source": [
    "TimeDataDF['Fully Utilized'].value_counts()"
   ]
  },
  {
   "cell_type": "markdown",
   "id": "303d075d",
   "metadata": {},
   "source": [
    "# Calculate Project Split for Fully Utilized Employees"
   ]
  },
  {
   "cell_type": "code",
   "execution_count": 276,
   "id": "1d6a9de0",
   "metadata": {},
   "outputs": [],
   "source": [
    "FullyUtilizedProgramTime = TimeDataDF[(TimeDataDF['Project or Admin']=='Project') & (TimeDataDF['Fully Utilized']==\"Fully Utilized\") & (TimeDataDF['Total Project Hours'] != 0)]"
   ]
  },
  {
   "cell_type": "code",
   "execution_count": 277,
   "id": "fe7f2c5e",
   "metadata": {},
   "outputs": [
    {
     "name": "stderr",
     "output_type": "stream",
     "text": [
      "C:\\Users\\Jwendt\\AppData\\Local\\Temp\\ipykernel_1740\\1968767996.py:1: SettingWithCopyWarning: \n",
      "A value is trying to be set on a copy of a slice from a DataFrame.\n",
      "Try using .loc[row_indexer,col_indexer] = value instead\n",
      "\n",
      "See the caveats in the documentation: https://pandas.pydata.org/pandas-docs/stable/user_guide/indexing.html#returning-a-view-versus-a-copy\n",
      "  FullyUtilizedProgramTime['Percent of Total Project Hours'] = FullyUtilizedProgramTime['Reported Quantity'] / FullyUtilizedProgramTime['Total Project Hours']\n"
     ]
    }
   ],
   "source": [
    "FullyUtilizedProgramTime['Percent of Total Project Hours'] = FullyUtilizedProgramTime['Reported Quantity'] / FullyUtilizedProgramTime['Total Project Hours']"
   ]
  },
  {
   "cell_type": "markdown",
   "id": "b09090d6",
   "metadata": {},
   "source": [
    "# Allocate Fully Utilized Employees to Tasks and Print Outcome"
   ]
  },
  {
   "cell_type": "code",
   "execution_count": 278,
   "id": "f0272224",
   "metadata": {},
   "outputs": [
    {
     "data": {
      "text/plain": [
       "Index(['Employee', 'Employee ID', 'Net Amount', 'Cost Center', 'Category',\n",
       "       'Hire Date', 'Termination Date', 'Location', 'Available Days',\n",
       "       'Bonus Final', 'Benefits per Employee', 'Shared per Employee',\n",
       "       'FileType', 'Consulting Per Employee', 'FTE', 'Adjusted Hours',\n",
       "       'Project Plan Task Home', 'Project Plan Task ID Home', 'Initiative',\n",
       "       'Project Plan Task PTO', 'Project Plan Task ID PTO', 'Fully Utilized',\n",
       "       'Needed Project Hours', 'Total Project Hours', 'Timesheet Submitted',\n",
       "       'Total Cost', 'Hours for Project Hour Calc', 'Cost per Project Hour',\n",
       "       'Standard Monthly Cost'],\n",
       "      dtype='object')"
      ]
     },
     "execution_count": 278,
     "metadata": {},
     "output_type": "execute_result"
    }
   ],
   "source": [
    "AllSalariesFinal.columns"
   ]
  },
  {
   "cell_type": "code",
   "execution_count": 279,
   "id": "af76ea9f",
   "metadata": {},
   "outputs": [],
   "source": [
    "AllSalariesFinal = pd.merge(AllSalariesFinal, UtilizationList, on = 'Employee ID', how = 'left')"
   ]
  },
  {
   "cell_type": "code",
   "execution_count": 280,
   "id": "e5728bb4",
   "metadata": {},
   "outputs": [
    {
     "data": {
      "text/plain": [
       "743"
      ]
     },
     "execution_count": 280,
     "metadata": {},
     "output_type": "execute_result"
    }
   ],
   "source": [
    "len(AllSalariesFinal)"
   ]
  },
  {
   "cell_type": "code",
   "execution_count": 281,
   "id": "a6a8c375",
   "metadata": {},
   "outputs": [
    {
     "data": {
      "text/plain": [
       "Index(['Employee', 'Employee ID', 'Net Amount', 'Cost Center', 'Category',\n",
       "       'Hire Date', 'Termination Date', 'Location', 'Available Days',\n",
       "       'Bonus Final', 'Benefits per Employee', 'Shared per Employee',\n",
       "       'FileType', 'Consulting Per Employee', 'FTE', 'Adjusted Hours',\n",
       "       'Project Plan Task Home', 'Project Plan Task ID Home', 'Initiative',\n",
       "       'Project Plan Task PTO', 'Project Plan Task ID PTO', 'Fully Utilized',\n",
       "       'Needed Project Hours', 'Total Project Hours', 'Timesheet Submitted',\n",
       "       'Total Cost', 'Hours for Project Hour Calc', 'Cost per Project Hour',\n",
       "       'Standard Monthly Cost', 'Utilization Target', 'Talent Pools'],\n",
       "      dtype='object')"
      ]
     },
     "execution_count": 281,
     "metadata": {},
     "output_type": "execute_result"
    }
   ],
   "source": [
    "AllSalariesFinal.columns"
   ]
  },
  {
   "cell_type": "code",
   "execution_count": 282,
   "id": "6ae55021",
   "metadata": {},
   "outputs": [
    {
     "data": {
      "text/html": [
       "<div>\n",
       "<style scoped>\n",
       "    .dataframe tbody tr th:only-of-type {\n",
       "        vertical-align: middle;\n",
       "    }\n",
       "\n",
       "    .dataframe tbody tr th {\n",
       "        vertical-align: top;\n",
       "    }\n",
       "\n",
       "    .dataframe thead th {\n",
       "        text-align: right;\n",
       "    }\n",
       "</style>\n",
       "<table border=\"1\" class=\"dataframe\">\n",
       "  <thead>\n",
       "    <tr style=\"text-align: right;\">\n",
       "      <th></th>\n",
       "      <th>Employee ID</th>\n",
       "      <th>Cost per Project Hour</th>\n",
       "    </tr>\n",
       "  </thead>\n",
       "  <tbody>\n",
       "    <tr>\n",
       "      <th>0</th>\n",
       "      <td>1841.0</td>\n",
       "      <td>79.719496</td>\n",
       "    </tr>\n",
       "    <tr>\n",
       "      <th>1</th>\n",
       "      <td>2028.0</td>\n",
       "      <td>82.795334</td>\n",
       "    </tr>\n",
       "    <tr>\n",
       "      <th>2</th>\n",
       "      <td>7.0</td>\n",
       "      <td>121.626840</td>\n",
       "    </tr>\n",
       "    <tr>\n",
       "      <th>3</th>\n",
       "      <td>1275.0</td>\n",
       "      <td>89.551620</td>\n",
       "    </tr>\n",
       "    <tr>\n",
       "      <th>4</th>\n",
       "      <td>1395.0</td>\n",
       "      <td>88.336736</td>\n",
       "    </tr>\n",
       "    <tr>\n",
       "      <th>...</th>\n",
       "      <td>...</td>\n",
       "      <td>...</td>\n",
       "    </tr>\n",
       "    <tr>\n",
       "      <th>738</th>\n",
       "      <td>1917.0</td>\n",
       "      <td>129.120471</td>\n",
       "    </tr>\n",
       "    <tr>\n",
       "      <th>739</th>\n",
       "      <td>517.0</td>\n",
       "      <td>NaN</td>\n",
       "    </tr>\n",
       "    <tr>\n",
       "      <th>740</th>\n",
       "      <td>628.0</td>\n",
       "      <td>NaN</td>\n",
       "    </tr>\n",
       "    <tr>\n",
       "      <th>741</th>\n",
       "      <td>813.0</td>\n",
       "      <td>NaN</td>\n",
       "    </tr>\n",
       "    <tr>\n",
       "      <th>742</th>\n",
       "      <td>818.0</td>\n",
       "      <td>NaN</td>\n",
       "    </tr>\n",
       "  </tbody>\n",
       "</table>\n",
       "<p>743 rows × 2 columns</p>\n",
       "</div>"
      ],
      "text/plain": [
       "     Employee ID  Cost per Project Hour\n",
       "0         1841.0              79.719496\n",
       "1         2028.0              82.795334\n",
       "2            7.0             121.626840\n",
       "3         1275.0              89.551620\n",
       "4         1395.0              88.336736\n",
       "..           ...                    ...\n",
       "738       1917.0             129.120471\n",
       "739        517.0                    NaN\n",
       "740        628.0                    NaN\n",
       "741        813.0                    NaN\n",
       "742        818.0                    NaN\n",
       "\n",
       "[743 rows x 2 columns]"
      ]
     },
     "execution_count": 282,
     "metadata": {},
     "output_type": "execute_result"
    }
   ],
   "source": [
    "CostperProjectHourTable = AllSalariesFinal[['Employee ID', 'Cost per Project Hour']]\n",
    "CostperProjectHourTable"
   ]
  },
  {
   "cell_type": "markdown",
   "id": "17c52031",
   "metadata": {},
   "source": [
    "## Add Final Cats Needed to All Salaries Final"
   ]
  },
  {
   "cell_type": "code",
   "execution_count": 283,
   "id": "6bdf045c",
   "metadata": {},
   "outputs": [],
   "source": [
    "CostingDataFullyUtilized = AllSalariesFinal[['Employee ID', 'Net Amount', 'Category', 'Bonus Final', 'Benefits per Employee',\n",
    "       'Shared per Employee', 'Adjusted Hours', 'Project Plan Task ID Home', 'Project Plan Task Home', 'Cost Center', 'Initiative']]"
   ]
  },
  {
   "cell_type": "code",
   "execution_count": 284,
   "id": "177fa863",
   "metadata": {},
   "outputs": [],
   "source": [
    "CostingDataFullyUtilized = CostingDataFullyUtilized.rename(columns={'Cost Center': 'Home Cost Center', 'Initiative': 'Home Initiative', })"
   ]
  },
  {
   "cell_type": "code",
   "execution_count": 285,
   "id": "eea1f320",
   "metadata": {},
   "outputs": [
    {
     "data": {
      "text/plain": [
       "743"
      ]
     },
     "execution_count": 285,
     "metadata": {},
     "output_type": "execute_result"
    }
   ],
   "source": [
    "len(CostingDataFullyUtilized)"
   ]
  },
  {
   "cell_type": "code",
   "execution_count": 286,
   "id": "117ce0fd",
   "metadata": {},
   "outputs": [],
   "source": [
    "CostingDataFullyUtilized['Employee ID'] = CostingDataFullyUtilized['Employee ID'].astype(int)"
   ]
  },
  {
   "cell_type": "code",
   "execution_count": 287,
   "id": "86979f43",
   "metadata": {},
   "outputs": [],
   "source": [
    "FullyUtilizedProgramTime = FullyUtilizedProgramTime[['Worker', 'Employee ID', 'Worker Cost Center', 'Talent Pool',\n",
    "       'Project Group', 'Utilization Target', 'Hire Date', 'Termination Date',\n",
    "       'Title', 'Hourly Rate', 'Monthly Salary', 'Monthly Bonus Amount',\n",
    "       'Bonus %', 'Week', 'Reported Date', 'Time Type', 'Entry Type',\n",
    "       'Project', 'Project Plan Task', 'Project Plan Task ID', 'Cost Center',\n",
    "       'Initiative', 'Lobbying', 'Lobbying Location', 'Reported Quantity',\n",
    "       'Needed Project Hours', 'Project or Admin', 'Total Monthly Hours',\n",
    "       'Actual Utilization Rate', 'Total Project Hours', 'Fully Utilized',\n",
    "       'Percent of Total Project Hours']]"
   ]
  },
  {
   "cell_type": "code",
   "execution_count": 288,
   "id": "6c1d8c4c",
   "metadata": {},
   "outputs": [],
   "source": [
    "FullyUtilizedProgramTime = pd.merge(FullyUtilizedProgramTime, CostingDataFullyUtilized, on = 'Employee ID', how = 'left')"
   ]
  },
  {
   "cell_type": "code",
   "execution_count": 289,
   "id": "292a4463",
   "metadata": {},
   "outputs": [],
   "source": [
    "FullyUtilizedProgramTime['SalaryCosted'] = FullyUtilizedProgramTime['Percent of Total Project Hours'] * FullyUtilizedProgramTime['Net Amount']\n",
    "FullyUtilizedProgramTime['BenefitsCosted'] = FullyUtilizedProgramTime['Percent of Total Project Hours'] * FullyUtilizedProgramTime['Benefits per Employee']\n",
    "FullyUtilizedProgramTime['SharedCosted'] = FullyUtilizedProgramTime['Percent of Total Project Hours'] * FullyUtilizedProgramTime['Shared per Employee']\n",
    "FullyUtilizedProgramTime['BonusCosted'] = FullyUtilizedProgramTime['Percent of Total Project Hours'] * FullyUtilizedProgramTime['Bonus Final']"
   ]
  },
  {
   "cell_type": "code",
   "execution_count": 290,
   "id": "a38c9b29",
   "metadata": {},
   "outputs": [
    {
     "data": {
      "text/plain": [
       "Index(['Worker', 'Employee ID', 'Worker Cost Center', 'Talent Pool',\n",
       "       'Project Group', 'Utilization Target', 'Hire Date', 'Termination Date',\n",
       "       'Title', 'Hourly Rate', 'Monthly Salary', 'Monthly Bonus Amount',\n",
       "       'Bonus %', 'Week', 'Reported Date', 'Time Type', 'Entry Type',\n",
       "       'Project', 'Project Plan Task', 'Project Plan Task ID', 'Cost Center',\n",
       "       'Initiative', 'Lobbying', 'Lobbying Location', 'Reported Quantity',\n",
       "       'Needed Project Hours', 'Project or Admin', 'Total Monthly Hours',\n",
       "       'Actual Utilization Rate', 'Total Project Hours', 'Fully Utilized',\n",
       "       'Percent of Total Project Hours', 'Net Amount', 'Category',\n",
       "       'Bonus Final', 'Benefits per Employee', 'Shared per Employee',\n",
       "       'Adjusted Hours', 'Project Plan Task ID Home', 'Project Plan Task Home',\n",
       "       'Home Cost Center', 'Home Initiative', 'SalaryCosted', 'BenefitsCosted',\n",
       "       'SharedCosted', 'BonusCosted'],\n",
       "      dtype='object')"
      ]
     },
     "execution_count": 290,
     "metadata": {},
     "output_type": "execute_result"
    }
   ],
   "source": [
    "FullyUtilizedProgramTime.columns"
   ]
  },
  {
   "cell_type": "code",
   "execution_count": 291,
   "id": "cff3144d",
   "metadata": {},
   "outputs": [],
   "source": [
    "FullyUtilizedProgramTime = FullyUtilizedProgramTime[['Project', 'Worker Cost Center','Worker', 'Employee ID', 'Project Plan Task', 'Project Plan Task ID', 'SalaryCosted', 'BenefitsCosted',\n",
    "       'SharedCosted', 'BonusCosted', 'Cost Center', 'Initiative', 'Lobbying', 'Lobbying Location', 'Project or Admin']]\n",
    "\n",
    "FullyUtilizedProgramTime['Project Hours Percentage'] = '1'\n",
    "FullyUtilizedProgramTime['Admin Hours Percentage'] = '0'"
   ]
  },
  {
   "cell_type": "code",
   "execution_count": null,
   "id": "0128a22f",
   "metadata": {},
   "outputs": [],
   "source": []
  },
  {
   "cell_type": "code",
   "execution_count": 292,
   "id": "b03b76e7",
   "metadata": {},
   "outputs": [],
   "source": [
    "FullyUtilizedProgramTime = FullyUtilizedProgramTime.groupby(['Worker', 'Worker Cost Center','Employee ID', 'Project', 'Project Plan Task', 'Project Plan Task ID', 'Project Hours Percentage', 'Admin Hours Percentage', 'Cost Center', 'Initiative', 'Lobbying', 'Lobbying Location', 'Project or Admin'], as_index=False).sum()"
   ]
  },
  {
   "cell_type": "code",
   "execution_count": 293,
   "id": "aea339ac",
   "metadata": {},
   "outputs": [],
   "source": [
    "FullyUtilizedProgramTime['Type'] = \"Fully Utilized\""
   ]
  },
  {
   "cell_type": "markdown",
   "id": "2488e841",
   "metadata": {},
   "source": [
    "# Calculate Project Split for Under Utilized Employees"
   ]
  },
  {
   "cell_type": "markdown",
   "id": "daaa6f02",
   "metadata": {},
   "source": [
    "## Do Project Allocations first"
   ]
  },
  {
   "cell_type": "code",
   "execution_count": 294,
   "id": "d20e9021",
   "metadata": {},
   "outputs": [],
   "source": [
    "UnderUtilizedProgramTime = TimeDataDF[(TimeDataDF['Fully Utilized']==\"Underutilized\") & (TimeDataDF['Project or Admin'] == 'Project')]"
   ]
  },
  {
   "cell_type": "code",
   "execution_count": 295,
   "id": "b9ce2db2",
   "metadata": {},
   "outputs": [
    {
     "name": "stderr",
     "output_type": "stream",
     "text": [
      "C:\\Users\\Jwendt\\AppData\\Local\\Temp\\ipykernel_1740\\1922050398.py:1: SettingWithCopyWarning: \n",
      "A value is trying to be set on a copy of a slice from a DataFrame.\n",
      "Try using .loc[row_indexer,col_indexer] = value instead\n",
      "\n",
      "See the caveats in the documentation: https://pandas.pydata.org/pandas-docs/stable/user_guide/indexing.html#returning-a-view-versus-a-copy\n",
      "  UnderUtilizedProgramTime['Percent of Total Project Hours'] = UnderUtilizedProgramTime['Reported Quantity'] / UnderUtilizedProgramTime['Total Project Hours']\n",
      "C:\\Users\\Jwendt\\AppData\\Local\\Temp\\ipykernel_1740\\1922050398.py:2: SettingWithCopyWarning: \n",
      "A value is trying to be set on a copy of a slice from a DataFrame.\n",
      "Try using .loc[row_indexer,col_indexer] = value instead\n",
      "\n",
      "See the caveats in the documentation: https://pandas.pydata.org/pandas-docs/stable/user_guide/indexing.html#returning-a-view-versus-a-copy\n",
      "  UnderUtilizedProgramTime['Project Hours Percentage'] = UnderUtilizedProgramTime['Total Project Hours'] / UnderUtilizedProgramTime['Needed Project Hours']\n",
      "C:\\Users\\Jwendt\\AppData\\Local\\Temp\\ipykernel_1740\\1922050398.py:3: SettingWithCopyWarning: \n",
      "A value is trying to be set on a copy of a slice from a DataFrame.\n",
      "Try using .loc[row_indexer,col_indexer] = value instead\n",
      "\n",
      "See the caveats in the documentation: https://pandas.pydata.org/pandas-docs/stable/user_guide/indexing.html#returning-a-view-versus-a-copy\n",
      "  UnderUtilizedProgramTime['Admin Hours Percentage'] = 1 - UnderUtilizedProgramTime['Project Hours Percentage']\n"
     ]
    }
   ],
   "source": [
    "UnderUtilizedProgramTime['Percent of Total Project Hours'] = UnderUtilizedProgramTime['Reported Quantity'] / UnderUtilizedProgramTime['Total Project Hours']\n",
    "UnderUtilizedProgramTime['Project Hours Percentage'] = UnderUtilizedProgramTime['Total Project Hours'] / UnderUtilizedProgramTime['Needed Project Hours']\n",
    "UnderUtilizedProgramTime['Admin Hours Percentage'] = 1 - UnderUtilizedProgramTime['Project Hours Percentage']"
   ]
  },
  {
   "cell_type": "markdown",
   "id": "233294d6",
   "metadata": {},
   "source": [
    "# Create Master Utilization Rates Table for UnderUtilized so I can Calculate the percentage of Salary to Push to Admin"
   ]
  },
  {
   "cell_type": "code",
   "execution_count": 296,
   "id": "1abbc125",
   "metadata": {},
   "outputs": [],
   "source": [
    "AllPercentages = UnderUtilizedProgramTime[['Admin Hours Percentage', 'Project Hours Percentage', 'Employee ID']].drop_duplicates()"
   ]
  },
  {
   "cell_type": "code",
   "execution_count": 297,
   "id": "0e6f524a",
   "metadata": {},
   "outputs": [],
   "source": [
    "UnderUtilizedALL = TimeDataDF[(TimeDataDF['Fully Utilized']==\"Underutilized\")]\n",
    "UnderUtilizedALLIDs = UnderUtilizedALL[[\"Worker\", \"Employee ID\"]].drop_duplicates()"
   ]
  },
  {
   "cell_type": "code",
   "execution_count": null,
   "id": "bff8a964",
   "metadata": {},
   "outputs": [],
   "source": []
  },
  {
   "cell_type": "code",
   "execution_count": 298,
   "id": "5b97776b",
   "metadata": {},
   "outputs": [
    {
     "data": {
      "text/html": [
       "<div>\n",
       "<style scoped>\n",
       "    .dataframe tbody tr th:only-of-type {\n",
       "        vertical-align: middle;\n",
       "    }\n",
       "\n",
       "    .dataframe tbody tr th {\n",
       "        vertical-align: top;\n",
       "    }\n",
       "\n",
       "    .dataframe thead th {\n",
       "        text-align: right;\n",
       "    }\n",
       "</style>\n",
       "<table border=\"1\" class=\"dataframe\">\n",
       "  <thead>\n",
       "    <tr style=\"text-align: right;\">\n",
       "      <th></th>\n",
       "      <th>Worker</th>\n",
       "      <th>Employee ID</th>\n",
       "      <th>Admin Hours Percentage</th>\n",
       "      <th>Project Hours Percentage</th>\n",
       "    </tr>\n",
       "  </thead>\n",
       "  <tbody>\n",
       "    <tr>\n",
       "      <th>0</th>\n",
       "      <td>Aaron Schwartz</td>\n",
       "      <td>937</td>\n",
       "      <td>0.122074</td>\n",
       "      <td>0.877926</td>\n",
       "    </tr>\n",
       "    <tr>\n",
       "      <th>1</th>\n",
       "      <td>Adam Aston</td>\n",
       "      <td>1429</td>\n",
       "      <td>0.277627</td>\n",
       "      <td>0.722373</td>\n",
       "    </tr>\n",
       "    <tr>\n",
       "      <th>2</th>\n",
       "      <td>Adam Beitman</td>\n",
       "      <td>1474</td>\n",
       "      <td>0.038462</td>\n",
       "      <td>0.961538</td>\n",
       "    </tr>\n",
       "    <tr>\n",
       "      <th>3</th>\n",
       "      <td>Adrienne Wickham-Gobert | Adrienne W. Gobert</td>\n",
       "      <td>1939</td>\n",
       "      <td>0.592391</td>\n",
       "      <td>0.407609</td>\n",
       "    </tr>\n",
       "    <tr>\n",
       "      <th>4</th>\n",
       "      <td>Alberto Cuadra</td>\n",
       "      <td>1336</td>\n",
       "      <td>0.298007</td>\n",
       "      <td>0.701993</td>\n",
       "    </tr>\n",
       "    <tr>\n",
       "      <th>...</th>\n",
       "      <td>...</td>\n",
       "      <td>...</td>\n",
       "      <td>...</td>\n",
       "      <td>...</td>\n",
       "    </tr>\n",
       "    <tr>\n",
       "      <th>248</th>\n",
       "      <td>Yuning Liu</td>\n",
       "      <td>872</td>\n",
       "      <td>0.230769</td>\n",
       "      <td>0.769231</td>\n",
       "    </tr>\n",
       "    <tr>\n",
       "      <th>249</th>\n",
       "      <td>Zachary Azrael</td>\n",
       "      <td>2056</td>\n",
       "      <td>0.949534</td>\n",
       "      <td>0.050466</td>\n",
       "    </tr>\n",
       "    <tr>\n",
       "      <th>250</th>\n",
       "      <td>Zachary Clayton | Zach Clayton</td>\n",
       "      <td>1219</td>\n",
       "      <td>0.378882</td>\n",
       "      <td>0.621118</td>\n",
       "    </tr>\n",
       "    <tr>\n",
       "      <th>251</th>\n",
       "      <td>Zihe Meng</td>\n",
       "      <td>424</td>\n",
       "      <td>0.297659</td>\n",
       "      <td>0.702341</td>\n",
       "    </tr>\n",
       "    <tr>\n",
       "      <th>252</th>\n",
       "      <td>Zsaria Diaz</td>\n",
       "      <td>1327</td>\n",
       "      <td>0.083851</td>\n",
       "      <td>0.916149</td>\n",
       "    </tr>\n",
       "  </tbody>\n",
       "</table>\n",
       "<p>253 rows × 4 columns</p>\n",
       "</div>"
      ],
      "text/plain": [
       "                                           Worker  Employee ID  \\\n",
       "0                                  Aaron Schwartz          937   \n",
       "1                                      Adam Aston         1429   \n",
       "2                                    Adam Beitman         1474   \n",
       "3    Adrienne Wickham-Gobert | Adrienne W. Gobert         1939   \n",
       "4                                  Alberto Cuadra         1336   \n",
       "..                                            ...          ...   \n",
       "248                                    Yuning Liu          872   \n",
       "249                                Zachary Azrael         2056   \n",
       "250                Zachary Clayton | Zach Clayton         1219   \n",
       "251                                     Zihe Meng          424   \n",
       "252                                   Zsaria Diaz         1327   \n",
       "\n",
       "     Admin Hours Percentage  Project Hours Percentage  \n",
       "0                  0.122074                  0.877926  \n",
       "1                  0.277627                  0.722373  \n",
       "2                  0.038462                  0.961538  \n",
       "3                  0.592391                  0.407609  \n",
       "4                  0.298007                  0.701993  \n",
       "..                      ...                       ...  \n",
       "248                0.230769                  0.769231  \n",
       "249                0.949534                  0.050466  \n",
       "250                0.378882                  0.621118  \n",
       "251                0.297659                  0.702341  \n",
       "252                0.083851                  0.916149  \n",
       "\n",
       "[253 rows x 4 columns]"
      ]
     },
     "execution_count": 298,
     "metadata": {},
     "output_type": "execute_result"
    }
   ],
   "source": [
    "AdminNumbers = pd.merge(UnderUtilizedALLIDs, AllPercentages, on = 'Employee ID', how = 'left')\n",
    "\n",
    "AdminNumbers['Admin Hours Percentage'].fillna(1, inplace = True)\n",
    "AdminNumbers['Project Hours Percentage'].fillna(0, inplace = True)\n",
    "\n",
    "AdminNumbers"
   ]
  },
  {
   "cell_type": "markdown",
   "id": "c6fca42b",
   "metadata": {},
   "source": [
    "# Continue Calculation for Project Allocations"
   ]
  },
  {
   "cell_type": "code",
   "execution_count": 299,
   "id": "9b19a4f5",
   "metadata": {},
   "outputs": [],
   "source": [
    "UnderUtilizedProgramTime = pd.merge(UnderUtilizedProgramTime, CostingDataFullyUtilized, on = 'Employee ID', how = 'left')"
   ]
  },
  {
   "cell_type": "code",
   "execution_count": 300,
   "id": "ed403ba7",
   "metadata": {},
   "outputs": [],
   "source": [
    "UnderUtilizedProgramTime['SalaryCosted'] = np.where(UnderUtilizedProgramTime['Project or Admin']==\"Project\", UnderUtilizedProgramTime['Percent of Total Project Hours'] * UnderUtilizedProgramTime['Net Amount'] * UnderUtilizedProgramTime['Project Hours Percentage'],0)\n",
    "UnderUtilizedProgramTime['BenefitsCosted'] = np.where(UnderUtilizedProgramTime['Project or Admin']==\"Project\", UnderUtilizedProgramTime['Percent of Total Project Hours'] * UnderUtilizedProgramTime['Benefits per Employee'] * UnderUtilizedProgramTime['Project Hours Percentage'],0)\n",
    "UnderUtilizedProgramTime['SharedCosted'] = np.where(UnderUtilizedProgramTime['Project or Admin']==\"Project\", UnderUtilizedProgramTime['Percent of Total Project Hours'] * UnderUtilizedProgramTime['Shared per Employee'] * UnderUtilizedProgramTime['Project Hours Percentage'],0)\n",
    "UnderUtilizedProgramTime['BonusCosted'] = np.where(UnderUtilizedProgramTime['Project or Admin']==\"Project\", UnderUtilizedProgramTime['Percent of Total Project Hours'] * UnderUtilizedProgramTime['Bonus Final'] * UnderUtilizedProgramTime['Project Hours Percentage'],0)"
   ]
  },
  {
   "cell_type": "code",
   "execution_count": 301,
   "id": "d81ec0d3",
   "metadata": {},
   "outputs": [],
   "source": [
    "UnderUtilizedProgramProjectTime = UnderUtilizedProgramTime[UnderUtilizedProgramTime['Project or Admin'] == 'Project']\n",
    "\n",
    "UnderUtilizedProgramProjectTime['PTO more than Admin'] = 'NA'"
   ]
  },
  {
   "cell_type": "code",
   "execution_count": 302,
   "id": "efb5b432",
   "metadata": {},
   "outputs": [],
   "source": [
    "UnderUtilizedProgramTimeFormatted = UnderUtilizedProgramProjectTime[['Project','Worker Cost Center', 'Worker', 'Employee ID', 'Project Plan Task', 'Project Plan Task ID', 'SalaryCosted', 'BenefitsCosted',\n",
    "       'SharedCosted', 'BonusCosted', 'Project Hours Percentage', 'Admin Hours Percentage', 'Cost Center', 'Initiative', 'Lobbying', 'Lobbying Location', 'Project or Admin', 'PTO more than Admin']]"
   ]
  },
  {
   "cell_type": "code",
   "execution_count": 303,
   "id": "513f0a48",
   "metadata": {},
   "outputs": [],
   "source": [
    "UnderUtilizedProgramTimeFormatted = UnderUtilizedProgramTimeFormatted.groupby(['Worker', 'Worker Cost Center', 'Employee ID', 'Project', 'Project Plan Task', 'Project Plan Task ID', 'Project Hours Percentage', 'Admin Hours Percentage','Cost Center', 'Initiative', 'Lobbying', 'Lobbying Location', 'Project or Admin', 'PTO more than Admin'], as_index=False).sum()"
   ]
  },
  {
   "cell_type": "code",
   "execution_count": 304,
   "id": "53f6eff9",
   "metadata": {},
   "outputs": [],
   "source": [
    "UnderUtilizedProgramTimeFormatted[\"Type\"] = \"UnderUtilizedProject\""
   ]
  },
  {
   "cell_type": "markdown",
   "id": "ec3ccd37",
   "metadata": {},
   "source": [
    "# Do Admin Allocations"
   ]
  },
  {
   "cell_type": "markdown",
   "id": "e1c7aa9a",
   "metadata": {},
   "source": [
    "## Build list of Admin Time per Employee UnderUtilized"
   ]
  },
  {
   "cell_type": "markdown",
   "id": "4f37c589",
   "metadata": {},
   "source": [
    "First build split between PTO and Admin"
   ]
  },
  {
   "cell_type": "code",
   "execution_count": 305,
   "id": "00499ad8",
   "metadata": {},
   "outputs": [],
   "source": [
    "Admintable = TimeDataDFALL[TimeDataDFALL['Project or Admin'] == 'Admin']\n",
    "MonthAdminTable = Admintable[Admintable['MonthYear']==currentmonthandyear]\n",
    "PTOtable = MonthAdminTable[(MonthAdminTable['Project Group']=='PTO') | (MonthAdminTable['Project Group']=='Holiday')]"
   ]
  },
  {
   "cell_type": "code",
   "execution_count": 306,
   "id": "dcd4e609",
   "metadata": {},
   "outputs": [
    {
     "data": {
      "text/plain": [
       "Admin      7001\n",
       "PTO        1511\n",
       "Holiday     924\n",
       "Name: Project Group, dtype: int64"
      ]
     },
     "execution_count": 306,
     "metadata": {},
     "output_type": "execute_result"
    }
   ],
   "source": [
    "MonthAdminTable['Project Group'].value_counts()"
   ]
  },
  {
   "cell_type": "code",
   "execution_count": 307,
   "id": "1e81d4af",
   "metadata": {},
   "outputs": [],
   "source": [
    "\n",
    "\n",
    "PTOtable = PTOtable[['Employee ID', 'Reported Quantity']]\n",
    "PTOtable = PTOtable.groupby(['Employee ID'], as_index=False).sum()\n",
    "PTOtable = PTOtable.rename(columns={'Reported Quantity': 'Total Monthly PTO Hours'})\n",
    "\n",
    "\n",
    "AdminHoursbyEmployee = MonthAdminTable[['Employee ID', 'Reported Quantity']]\n",
    "AdminHoursbyEmployee = AdminHoursbyEmployee.groupby(['Employee ID'], as_index=False).sum()\n",
    "AdminHoursbyEmployee = AdminHoursbyEmployee.rename(columns={'Reported Quantity': 'Total Monthly Admin Hours'})\n",
    "\n",
    "\n",
    "AdminHoursbyEmployee = pd.merge(AdminHoursbyEmployee, PTOtable, on = 'Employee ID', how = 'left')\n",
    "\n",
    "AdminHoursbyEmployee['Total Monthly PTO Hours'].fillna(0, inplace=True)\n",
    "AdminHoursbyEmployee['Percent of Admin PTO'] = AdminHoursbyEmployee['Total Monthly PTO Hours'] / AdminHoursbyEmployee['Total Monthly Admin Hours']\n",
    "\n",
    "\n"
   ]
  },
  {
   "cell_type": "code",
   "execution_count": 308,
   "id": "79013f72",
   "metadata": {},
   "outputs": [
    {
     "data": {
      "text/html": [
       "<div>\n",
       "<style scoped>\n",
       "    .dataframe tbody tr th:only-of-type {\n",
       "        vertical-align: middle;\n",
       "    }\n",
       "\n",
       "    .dataframe tbody tr th {\n",
       "        vertical-align: top;\n",
       "    }\n",
       "\n",
       "    .dataframe thead th {\n",
       "        text-align: right;\n",
       "    }\n",
       "</style>\n",
       "<table border=\"1\" class=\"dataframe\">\n",
       "  <thead>\n",
       "    <tr style=\"text-align: right;\">\n",
       "      <th></th>\n",
       "      <th>Employee ID</th>\n",
       "      <th>Total Monthly Admin Hours</th>\n",
       "      <th>Total Monthly PTO Hours</th>\n",
       "      <th>Percent of Admin PTO</th>\n",
       "    </tr>\n",
       "  </thead>\n",
       "  <tbody>\n",
       "    <tr>\n",
       "      <th>0</th>\n",
       "      <td>1</td>\n",
       "      <td>78.0</td>\n",
       "      <td>48.0</td>\n",
       "      <td>0.615385</td>\n",
       "    </tr>\n",
       "    <tr>\n",
       "      <th>1</th>\n",
       "      <td>4</td>\n",
       "      <td>76.0</td>\n",
       "      <td>48.0</td>\n",
       "      <td>0.631579</td>\n",
       "    </tr>\n",
       "    <tr>\n",
       "      <th>2</th>\n",
       "      <td>5</td>\n",
       "      <td>48.0</td>\n",
       "      <td>48.0</td>\n",
       "      <td>1.000000</td>\n",
       "    </tr>\n",
       "    <tr>\n",
       "      <th>3</th>\n",
       "      <td>6</td>\n",
       "      <td>48.0</td>\n",
       "      <td>48.0</td>\n",
       "      <td>1.000000</td>\n",
       "    </tr>\n",
       "    <tr>\n",
       "      <th>4</th>\n",
       "      <td>7</td>\n",
       "      <td>68.0</td>\n",
       "      <td>48.0</td>\n",
       "      <td>0.705882</td>\n",
       "    </tr>\n",
       "    <tr>\n",
       "      <th>...</th>\n",
       "      <td>...</td>\n",
       "      <td>...</td>\n",
       "      <td>...</td>\n",
       "      <td>...</td>\n",
       "    </tr>\n",
       "    <tr>\n",
       "      <th>714</th>\n",
       "      <td>2067</td>\n",
       "      <td>42.0</td>\n",
       "      <td>8.0</td>\n",
       "      <td>0.190476</td>\n",
       "    </tr>\n",
       "    <tr>\n",
       "      <th>715</th>\n",
       "      <td>2068</td>\n",
       "      <td>64.0</td>\n",
       "      <td>8.0</td>\n",
       "      <td>0.125000</td>\n",
       "    </tr>\n",
       "    <tr>\n",
       "      <th>716</th>\n",
       "      <td>2069</td>\n",
       "      <td>106.8</td>\n",
       "      <td>8.0</td>\n",
       "      <td>0.074906</td>\n",
       "    </tr>\n",
       "    <tr>\n",
       "      <th>717</th>\n",
       "      <td>2070</td>\n",
       "      <td>36.0</td>\n",
       "      <td>8.0</td>\n",
       "      <td>0.222222</td>\n",
       "    </tr>\n",
       "    <tr>\n",
       "      <th>718</th>\n",
       "      <td>2074</td>\n",
       "      <td>0.8</td>\n",
       "      <td>0.8</td>\n",
       "      <td>1.000000</td>\n",
       "    </tr>\n",
       "  </tbody>\n",
       "</table>\n",
       "<p>719 rows × 4 columns</p>\n",
       "</div>"
      ],
      "text/plain": [
       "     Employee ID  Total Monthly Admin Hours  Total Monthly PTO Hours  \\\n",
       "0              1                       78.0                     48.0   \n",
       "1              4                       76.0                     48.0   \n",
       "2              5                       48.0                     48.0   \n",
       "3              6                       48.0                     48.0   \n",
       "4              7                       68.0                     48.0   \n",
       "..           ...                        ...                      ...   \n",
       "714         2067                       42.0                      8.0   \n",
       "715         2068                       64.0                      8.0   \n",
       "716         2069                      106.8                      8.0   \n",
       "717         2070                       36.0                      8.0   \n",
       "718         2074                        0.8                      0.8   \n",
       "\n",
       "     Percent of Admin PTO  \n",
       "0                0.615385  \n",
       "1                0.631579  \n",
       "2                1.000000  \n",
       "3                1.000000  \n",
       "4                0.705882  \n",
       "..                    ...  \n",
       "714              0.190476  \n",
       "715              0.125000  \n",
       "716              0.074906  \n",
       "717              0.222222  \n",
       "718              1.000000  \n",
       "\n",
       "[719 rows x 4 columns]"
      ]
     },
     "execution_count": 308,
     "metadata": {},
     "output_type": "execute_result"
    }
   ],
   "source": [
    "AdminHoursbyEmployee"
   ]
  },
  {
   "cell_type": "code",
   "execution_count": 309,
   "id": "c61c2497",
   "metadata": {},
   "outputs": [],
   "source": [
    "UnderUtilizedAdminCalcs = pd.merge(AdminNumbers, AdminHoursbyEmployee, on = 'Employee ID', how = 'left')\n",
    "UnderUtilizedAdminCalcs['Percent of Admin PTO'].fillna(0, inplace=True)"
   ]
  },
  {
   "cell_type": "code",
   "execution_count": 310,
   "id": "af49ea9b-6b5b-43fc-b886-41833d145d42",
   "metadata": {},
   "outputs": [
    {
     "data": {
      "text/plain": [
       "253"
      ]
     },
     "execution_count": 310,
     "metadata": {},
     "output_type": "execute_result"
    }
   ],
   "source": [
    "len(UnderUtilizedAdminCalcs)"
   ]
  },
  {
   "cell_type": "code",
   "execution_count": 311,
   "id": "7d9dc42f-986d-48f8-acce-e9a1d6627085",
   "metadata": {},
   "outputs": [
    {
     "data": {
      "text/plain": [
       "743"
      ]
     },
     "execution_count": 311,
     "metadata": {},
     "output_type": "execute_result"
    }
   ],
   "source": [
    "\n",
    "#CostperProjectHourTable and CostingDataFullyUtilized should be 767\n",
    "len(CostingDataFullyUtilized)"
   ]
  },
  {
   "cell_type": "code",
   "execution_count": 312,
   "id": "7d593ed4",
   "metadata": {},
   "outputs": [],
   "source": [
    "UnderUtilizedAdminCalcs = pd.merge(UnderUtilizedAdminCalcs, CostingDataFullyUtilized, on = 'Employee ID', how = 'left')"
   ]
  },
  {
   "cell_type": "code",
   "execution_count": 313,
   "id": "82027596-d69f-4d5d-bef2-cac35dec7e05",
   "metadata": {},
   "outputs": [
    {
     "data": {
      "text/plain": [
       "253"
      ]
     },
     "execution_count": 313,
     "metadata": {},
     "output_type": "execute_result"
    }
   ],
   "source": [
    "len(UnderUtilizedAdminCalcs)"
   ]
  },
  {
   "cell_type": "code",
   "execution_count": 314,
   "id": "bdfe7374",
   "metadata": {},
   "outputs": [],
   "source": [
    "UnderUtilizedAdminCalcs = pd.merge(UnderUtilizedAdminCalcs, CostperProjectHourTable, on = 'Employee ID', how = 'left')"
   ]
  },
  {
   "cell_type": "code",
   "execution_count": 315,
   "id": "3d48538e-5789-4377-bac0-58b32bdbfc85",
   "metadata": {},
   "outputs": [
    {
     "data": {
      "text/plain": [
       "743"
      ]
     },
     "execution_count": 315,
     "metadata": {},
     "output_type": "execute_result"
    }
   ],
   "source": [
    "len(CostperProjectHourTable)"
   ]
  },
  {
   "cell_type": "code",
   "execution_count": 316,
   "id": "1548e3ff",
   "metadata": {},
   "outputs": [
    {
     "data": {
      "text/plain": [
       "253"
      ]
     },
     "execution_count": 316,
     "metadata": {},
     "output_type": "execute_result"
    }
   ],
   "source": [
    "len(UnderUtilizedAdminCalcs)"
   ]
  },
  {
   "cell_type": "code",
   "execution_count": 317,
   "id": "637888fb",
   "metadata": {},
   "outputs": [],
   "source": [
    "UnderUtilizedAdminCalcs['PTO MAX'] = UnderUtilizedAdminCalcs['Total Monthly PTO Hours'] * UnderUtilizedAdminCalcs['Cost per Project Hour'] \n",
    "UnderUtilizedAdminCalcs['PTO MAX'].fillna(0, inplace = True)\n",
    "\n",
    "UnderUtilizedAdminCalcs['ALLCOMP'] = UnderUtilizedAdminCalcs['Net Amount'] + UnderUtilizedAdminCalcs['Bonus Final'] + UnderUtilizedAdminCalcs['Benefits per Employee'] + UnderUtilizedAdminCalcs['Shared per Employee']\n",
    "UnderUtilizedAdminCalcs['Total Admin'] = UnderUtilizedAdminCalcs['ALLCOMP'] *  UnderUtilizedAdminCalcs['Admin Hours Percentage']\n",
    "UnderUtilizedAdminCalcs['PTO more than Admin'] = np.where(UnderUtilizedAdminCalcs['PTO MAX'] > UnderUtilizedAdminCalcs['Total Admin'], \"PTO Discount\",\"PTO Project Hour\")\n",
    "\n",
    "UnderUtilizedAdminCalcs['Salarypercent'] = UnderUtilizedAdminCalcs['Net Amount']/UnderUtilizedAdminCalcs['ALLCOMP']\n",
    "UnderUtilizedAdminCalcs['Bonuspercent'] = UnderUtilizedAdminCalcs['Bonus Final']/UnderUtilizedAdminCalcs['ALLCOMP']\n",
    "UnderUtilizedAdminCalcs['Benefitspercent'] = UnderUtilizedAdminCalcs['Benefits per Employee']/UnderUtilizedAdminCalcs['ALLCOMP']\n",
    "UnderUtilizedAdminCalcs['Sharedpercent'] = UnderUtilizedAdminCalcs['Shared per Employee']/UnderUtilizedAdminCalcs['ALLCOMP']\n",
    "\n",
    "UnderUtilizedAdminCalcs['PTO more than Admin'] = np.where(UnderUtilizedAdminCalcs['PTO MAX'] > UnderUtilizedAdminCalcs['Total Admin'], \"PTO Discount\",\"PTO Project Hour\")\n",
    "\n",
    "\n",
    "UnderUtilizedAdminCalcs['SalaryCostedPTO'] = np.where(UnderUtilizedAdminCalcs['PTO more than Admin'] == \"PTO Project Hour\", UnderUtilizedAdminCalcs['Salarypercent'] *  UnderUtilizedAdminCalcs['PTO MAX'], UnderUtilizedAdminCalcs['Salarypercent'] *  UnderUtilizedAdminCalcs['Total Admin'])\n",
    "UnderUtilizedAdminCalcs['BenefitsCostedPTO'] = np.where(UnderUtilizedAdminCalcs['PTO more than Admin'] == \"PTO Project Hour\", UnderUtilizedAdminCalcs['Benefitspercent'] *  UnderUtilizedAdminCalcs['PTO MAX'], UnderUtilizedAdminCalcs['Benefitspercent'] *  UnderUtilizedAdminCalcs['Total Admin'])\n",
    "UnderUtilizedAdminCalcs['SharedCostedPTO'] = np.where(UnderUtilizedAdminCalcs['PTO more than Admin'] == \"PTO Project Hour\", UnderUtilizedAdminCalcs['Sharedpercent'] *  UnderUtilizedAdminCalcs['PTO MAX'], UnderUtilizedAdminCalcs['Sharedpercent'] *  UnderUtilizedAdminCalcs['Total Admin']) \n",
    "UnderUtilizedAdminCalcs['BonusCostedPTO'] = np.where(UnderUtilizedAdminCalcs['PTO more than Admin'] == \"PTO Project Hour\", UnderUtilizedAdminCalcs['Bonuspercent'] *  UnderUtilizedAdminCalcs['PTO MAX'], UnderUtilizedAdminCalcs['Bonuspercent'] *  UnderUtilizedAdminCalcs['Total Admin']) "
   ]
  },
  {
   "cell_type": "code",
   "execution_count": 318,
   "id": "38c16a0f-1361-4f5b-ba1d-084304047a70",
   "metadata": {},
   "outputs": [
    {
     "data": {
      "text/plain": [
       "253"
      ]
     },
     "execution_count": 318,
     "metadata": {},
     "output_type": "execute_result"
    }
   ],
   "source": [
    "len(UnderUtilizedAdminCalcs)"
   ]
  },
  {
   "cell_type": "code",
   "execution_count": 319,
   "id": "438153a1",
   "metadata": {},
   "outputs": [],
   "source": [
    "UnderUtilizedAdminCalcs['SalaryCostedAdmin'] = np.where(UnderUtilizedAdminCalcs['PTO more than Admin'] == \"PTO Project Hour\", (UnderUtilizedAdminCalcs['Total Admin'] - UnderUtilizedAdminCalcs['PTO MAX']) *  UnderUtilizedAdminCalcs['Salarypercent'],0) \n",
    "UnderUtilizedAdminCalcs['BenefitsCostedAdmin'] = np.where(UnderUtilizedAdminCalcs['PTO more than Admin'] == \"PTO Project Hour\", (UnderUtilizedAdminCalcs['Total Admin'] - UnderUtilizedAdminCalcs['PTO MAX']) *  UnderUtilizedAdminCalcs['Benefitspercent'],0) \n",
    "UnderUtilizedAdminCalcs['SharedCostedAdmin'] = np.where(UnderUtilizedAdminCalcs['PTO more than Admin'] == \"PTO Project Hour\", (UnderUtilizedAdminCalcs['Total Admin'] - UnderUtilizedAdminCalcs['PTO MAX']) *  UnderUtilizedAdminCalcs['Sharedpercent'],0) \n",
    "UnderUtilizedAdminCalcs['BonusCostedAdmin'] = np.where(UnderUtilizedAdminCalcs['PTO more than Admin'] == \"PTO Project Hour\", (UnderUtilizedAdminCalcs['Total Admin'] - UnderUtilizedAdminCalcs['PTO MAX']) *  UnderUtilizedAdminCalcs['Bonuspercent'],0) "
   ]
  },
  {
   "cell_type": "code",
   "execution_count": 320,
   "id": "72b767db",
   "metadata": {},
   "outputs": [
    {
     "data": {
      "text/plain": [
       "Index(['Employee', 'Employee ID', 'Net Amount', 'Cost Center', 'Category',\n",
       "       'Hire Date', 'Termination Date', 'Location', 'Available Days',\n",
       "       'Bonus Final', 'Benefits per Employee', 'Shared per Employee',\n",
       "       'FileType', 'Consulting Per Employee', 'FTE', 'Adjusted Hours',\n",
       "       'Project Plan Task Home', 'Project Plan Task ID Home', 'Initiative',\n",
       "       'Project Plan Task PTO', 'Project Plan Task ID PTO', 'Fully Utilized',\n",
       "       'Needed Project Hours', 'Total Project Hours', 'Timesheet Submitted',\n",
       "       'Total Cost', 'Hours for Project Hour Calc', 'Cost per Project Hour',\n",
       "       'Standard Monthly Cost', 'Utilization Target', 'Talent Pools'],\n",
       "      dtype='object')"
      ]
     },
     "execution_count": 320,
     "metadata": {},
     "output_type": "execute_result"
    }
   ],
   "source": [
    "AllSalariesFinal.columns"
   ]
  },
  {
   "cell_type": "code",
   "execution_count": 321,
   "id": "e8cbb6b5",
   "metadata": {},
   "outputs": [
    {
     "name": "stderr",
     "output_type": "stream",
     "text": [
      "C:\\Users\\Jwendt\\AppData\\Local\\anaconda3\\envs\\new_env_name\\lib\\site-packages\\pandas\\core\\series.py:4530: SettingWithCopyWarning: \n",
      "A value is trying to be set on a copy of a slice from a DataFrame\n",
      "\n",
      "See the caveats in the documentation: https://pandas.pydata.org/pandas-docs/stable/user_guide/indexing.html#returning-a-view-versus-a-copy\n",
      "  return super().fillna(\n"
     ]
    }
   ],
   "source": [
    "PTOTaskLookup = AllSalariesFinal[['Employee ID', 'Project Plan Task PTO', 'Project Plan Task ID PTO']]\n",
    "\n",
    "PTOTaskLookup['Employee ID'].fillna('NA', inplace=True)\n",
    "PTOTaskLookup['Project Plan Task PTO'].fillna('NA', inplace=True)\n",
    "PTOTaskLookup['Project Plan Task ID PTO'].fillna('NA', inplace=True)\n",
    "\n"
   ]
  },
  {
   "cell_type": "code",
   "execution_count": 322,
   "id": "c6a9f830-5af4-46c7-9335-566834e8299d",
   "metadata": {},
   "outputs": [
    {
     "data": {
      "text/plain": [
       "253"
      ]
     },
     "execution_count": 322,
     "metadata": {},
     "output_type": "execute_result"
    }
   ],
   "source": [
    "len(UnderUtilizedAdminCalcs)"
   ]
  },
  {
   "cell_type": "code",
   "execution_count": 323,
   "id": "a23f1a9b",
   "metadata": {},
   "outputs": [],
   "source": [
    "UnderUtilizedAdminCalcs = pd.merge(UnderUtilizedAdminCalcs, PTOTaskLookup, on = 'Employee ID', how = 'left')\n",
    "\n"
   ]
  },
  {
   "cell_type": "code",
   "execution_count": 324,
   "id": "936febb5-7223-47a9-9892-755551bbf29a",
   "metadata": {},
   "outputs": [
    {
     "data": {
      "text/plain": [
       "743"
      ]
     },
     "execution_count": 324,
     "metadata": {},
     "output_type": "execute_result"
    }
   ],
   "source": [
    "len(UnderUtilizedAdminCalcs)\n",
    "len(PTOTaskLookup)"
   ]
  },
  {
   "cell_type": "code",
   "execution_count": 325,
   "id": "79190f7f",
   "metadata": {},
   "outputs": [
    {
     "data": {
      "text/plain": [
       "Index(['Worker', 'Employee ID', 'Admin Hours Percentage',\n",
       "       'Project Hours Percentage', 'Total Monthly Admin Hours',\n",
       "       'Total Monthly PTO Hours', 'Percent of Admin PTO', 'Net Amount',\n",
       "       'Category', 'Bonus Final', 'Benefits per Employee',\n",
       "       'Shared per Employee', 'Adjusted Hours', 'Project Plan Task ID Home',\n",
       "       'Project Plan Task Home', 'Home Cost Center', 'Home Initiative',\n",
       "       'Cost per Project Hour', 'PTO MAX', 'ALLCOMP', 'Total Admin',\n",
       "       'PTO more than Admin', 'Salarypercent', 'Bonuspercent',\n",
       "       'Benefitspercent', 'Sharedpercent', 'SalaryCostedPTO',\n",
       "       'BenefitsCostedPTO', 'SharedCostedPTO', 'BonusCostedPTO',\n",
       "       'SalaryCostedAdmin', 'BenefitsCostedAdmin', 'SharedCostedAdmin',\n",
       "       'BonusCostedAdmin', 'Project Plan Task PTO',\n",
       "       'Project Plan Task ID PTO'],\n",
       "      dtype='object')"
      ]
     },
     "execution_count": 325,
     "metadata": {},
     "output_type": "execute_result"
    }
   ],
   "source": [
    "UnderUtilizedAdminCalcs.columns"
   ]
  },
  {
   "cell_type": "code",
   "execution_count": 326,
   "id": "21f45ec9",
   "metadata": {},
   "outputs": [],
   "source": [
    "UnderUtilizedPTOCalcs = UnderUtilizedAdminCalcs[['Worker', 'Employee ID', 'Project Plan Task PTO',\n",
    "       'Project Plan Task ID PTO', 'SalaryCostedPTO', 'BenefitsCostedPTO',\n",
    "       'SharedCostedPTO', 'BonusCostedPTO', 'Admin Hours Percentage',\n",
    "       'Project Hours Percentage', 'Home Cost Center',\n",
    "       'Home Initiative', 'PTO more than Admin']]"
   ]
  },
  {
   "cell_type": "code",
   "execution_count": 327,
   "id": "7c665226",
   "metadata": {},
   "outputs": [],
   "source": [
    "UnderUtilizedPTOCalcs = UnderUtilizedPTOCalcs.groupby(['Worker', 'Employee ID', 'Project Plan Task PTO', 'Project Plan Task ID PTO', 'Admin Hours Percentage',\n",
    "       'Project Hours Percentage', 'Home Cost Center',\n",
    "       'Home Initiative', 'PTO more than Admin'], as_index=False).sum()"
   ]
  },
  {
   "cell_type": "code",
   "execution_count": 328,
   "id": "811414c2",
   "metadata": {},
   "outputs": [
    {
     "data": {
      "text/plain": [
       "Index(['Worker', 'Employee ID', 'Project Plan Task PTO',\n",
       "       'Project Plan Task ID PTO', 'Admin Hours Percentage',\n",
       "       'Project Hours Percentage', 'Home Cost Center', 'Home Initiative',\n",
       "       'PTO more than Admin', 'SalaryCostedPTO', 'BenefitsCostedPTO',\n",
       "       'SharedCostedPTO', 'BonusCostedPTO'],\n",
       "      dtype='object')"
      ]
     },
     "execution_count": 328,
     "metadata": {},
     "output_type": "execute_result"
    }
   ],
   "source": [
    "UnderUtilizedPTOCalcs.columns"
   ]
  },
  {
   "cell_type": "code",
   "execution_count": null,
   "id": "4c4a5c01",
   "metadata": {},
   "outputs": [],
   "source": []
  },
  {
   "cell_type": "code",
   "execution_count": 329,
   "id": "7c169f09",
   "metadata": {},
   "outputs": [],
   "source": [
    "UnderUtilizedAdminCalcs = UnderUtilizedAdminCalcs[['Worker', 'Employee ID', 'Project Plan Task Home', 'Project Plan Task ID Home', 'SalaryCostedAdmin', 'BenefitsCostedAdmin',\n",
    "       'SharedCostedAdmin', 'BonusCostedAdmin', 'Admin Hours Percentage',\n",
    "       'Project Hours Percentage', 'Home Cost Center',\n",
    "       'Home Initiative', 'PTO more than Admin']]"
   ]
  },
  {
   "cell_type": "code",
   "execution_count": 330,
   "id": "25c47c82",
   "metadata": {},
   "outputs": [],
   "source": [
    "UnderUtilizedAdminCalcs = UnderUtilizedAdminCalcs.groupby(['Worker', 'Employee ID', 'Project Plan Task Home', 'Project Plan Task ID Home', 'Admin Hours Percentage',\n",
    "       'Project Hours Percentage', 'Home Cost Center',\n",
    "       'Home Initiative', 'PTO more than Admin'], as_index=False).sum()"
   ]
  },
  {
   "cell_type": "code",
   "execution_count": null,
   "id": "6f12337b",
   "metadata": {},
   "outputs": [],
   "source": []
  },
  {
   "cell_type": "code",
   "execution_count": 331,
   "id": "f8bcc5ac",
   "metadata": {},
   "outputs": [],
   "source": [
    "UnderUtilizedPTOCalcs = UnderUtilizedPTOCalcs.rename(columns={'Project Plan Task PTO': 'Project Plan Task', 'Project Plan Task ID PTO': 'Project Plan Task ID', 'SalaryCostedPTO' : 'SalaryCosted', 'BenefitsCostedPTO' : 'BenefitsCosted', 'SharedCostedPTO' : 'SharedCosted',\n",
    "       'BonusCostedPTO': 'BonusCosted'})\n",
    "\n",
    "UnderUtilizedAdminCalcs = UnderUtilizedAdminCalcs.rename(columns={'Project Plan Task Home': 'Project Plan Task', 'Project Plan Task ID Home': 'Project Plan Task ID', 'SalaryCostedAdmin': 'SalaryCosted', 'BenefitsCostedAdmin' : 'BenefitsCosted',\n",
    "       'SharedCostedAdmin' : 'SharedCosted', 'BonusCostedAdmin' : 'BonusCosted'})"
   ]
  },
  {
   "cell_type": "code",
   "execution_count": null,
   "id": "c82603a1",
   "metadata": {},
   "outputs": [],
   "source": []
  },
  {
   "cell_type": "code",
   "execution_count": 332,
   "id": "67cdc5c6",
   "metadata": {},
   "outputs": [],
   "source": [
    "UnderUtilizedAdminCalcs['Type'] = \"Admin Time for UnderUtilized\"\n",
    "UnderUtilizedPTOCalcs['Type'] = \"PTO Time for UnderUtilized\""
   ]
  },
  {
   "cell_type": "code",
   "execution_count": 333,
   "id": "0b4176b7",
   "metadata": {},
   "outputs": [],
   "source": [
    "UnderUtilizedAdminCalcs.rename(columns={'Home Cost Center': 'Cost Center', 'Home Initiative': 'Initiative'}, inplace=True)\n",
    "UnderUtilizedPTOCalcs.rename(columns={'Home Cost Center': 'Cost Center', 'Home Initiative': 'Initiative'}, inplace=True)"
   ]
  },
  {
   "cell_type": "code",
   "execution_count": 334,
   "id": "a6d81d17",
   "metadata": {},
   "outputs": [],
   "source": [
    "UnderUtilizedAdminCalcs['Lobbying'] = \"None\"\n",
    "UnderUtilizedAdminCalcs['Lobbying Location'] = \"None\"\n",
    "UnderUtilizedAdminCalcs['Project or Admin'] = \"Admin\"\n",
    "UnderUtilizedAdminCalcs['Project'] = \"Admin\"\n",
    "UnderUtilizedAdminCalcs['Worker Cost Center'] = UnderUtilizedAdminCalcs['Cost Center'] "
   ]
  },
  {
   "cell_type": "code",
   "execution_count": 335,
   "id": "cd464b83",
   "metadata": {},
   "outputs": [
    {
     "data": {
      "text/html": [
       "<div>\n",
       "<style scoped>\n",
       "    .dataframe tbody tr th:only-of-type {\n",
       "        vertical-align: middle;\n",
       "    }\n",
       "\n",
       "    .dataframe tbody tr th {\n",
       "        vertical-align: top;\n",
       "    }\n",
       "\n",
       "    .dataframe thead th {\n",
       "        text-align: right;\n",
       "    }\n",
       "</style>\n",
       "<table border=\"1\" class=\"dataframe\">\n",
       "  <thead>\n",
       "    <tr style=\"text-align: right;\">\n",
       "      <th></th>\n",
       "      <th>Worker</th>\n",
       "      <th>Employee ID</th>\n",
       "      <th>Project Plan Task</th>\n",
       "      <th>Project Plan Task ID</th>\n",
       "      <th>Admin Hours Percentage</th>\n",
       "      <th>Project Hours Percentage</th>\n",
       "      <th>Cost Center</th>\n",
       "      <th>Initiative</th>\n",
       "      <th>PTO more than Admin</th>\n",
       "      <th>SalaryCosted</th>\n",
       "      <th>BenefitsCosted</th>\n",
       "      <th>SharedCosted</th>\n",
       "      <th>BonusCosted</th>\n",
       "      <th>Type</th>\n",
       "      <th>Lobbying</th>\n",
       "      <th>Lobbying Location</th>\n",
       "      <th>Project or Admin</th>\n",
       "      <th>Project</th>\n",
       "      <th>Worker Cost Center</th>\n",
       "    </tr>\n",
       "  </thead>\n",
       "  <tbody>\n",
       "    <tr>\n",
       "      <th>0</th>\n",
       "      <td>Aaron Schwartz</td>\n",
       "      <td>937</td>\n",
       "      <td>Admin &gt; General</td>\n",
       "      <td>PROJECT_PLAN_TASK-3-2289</td>\n",
       "      <td>0.122074</td>\n",
       "      <td>0.877926</td>\n",
       "      <td>Carbon-Free Electricity</td>\n",
       "      <td>POW - Admin</td>\n",
       "      <td>PTO Discount</td>\n",
       "      <td>0.000000</td>\n",
       "      <td>0.000000</td>\n",
       "      <td>0.000000</td>\n",
       "      <td>0.000000</td>\n",
       "      <td>Admin Time for UnderUtilized</td>\n",
       "      <td>None</td>\n",
       "      <td>None</td>\n",
       "      <td>Admin</td>\n",
       "      <td>Admin</td>\n",
       "      <td>Carbon-Free Electricity</td>\n",
       "    </tr>\n",
       "    <tr>\n",
       "      <th>1</th>\n",
       "      <td>Adam Aston</td>\n",
       "      <td>1429</td>\n",
       "      <td>Admin &gt; General</td>\n",
       "      <td>PROJECT_PLAN_TASK-3-2145</td>\n",
       "      <td>0.277627</td>\n",
       "      <td>0.722373</td>\n",
       "      <td>Influence Team</td>\n",
       "      <td>COM - Admin</td>\n",
       "      <td>PTO Project Hour</td>\n",
       "      <td>3422.665299</td>\n",
       "      <td>478.068730</td>\n",
       "      <td>242.228195</td>\n",
       "      <td>684.532752</td>\n",
       "      <td>Admin Time for UnderUtilized</td>\n",
       "      <td>None</td>\n",
       "      <td>None</td>\n",
       "      <td>Admin</td>\n",
       "      <td>Admin</td>\n",
       "      <td>Influence Team</td>\n",
       "    </tr>\n",
       "    <tr>\n",
       "      <th>2</th>\n",
       "      <td>Adam Beitman</td>\n",
       "      <td>1474</td>\n",
       "      <td>Admin &gt; General</td>\n",
       "      <td>PROJECT_PLAN_TASK-3-2145</td>\n",
       "      <td>0.038462</td>\n",
       "      <td>0.961538</td>\n",
       "      <td>Influence Team</td>\n",
       "      <td>COM - Admin</td>\n",
       "      <td>PTO Discount</td>\n",
       "      <td>0.000000</td>\n",
       "      <td>0.000000</td>\n",
       "      <td>0.000000</td>\n",
       "      <td>0.000000</td>\n",
       "      <td>Admin Time for UnderUtilized</td>\n",
       "      <td>None</td>\n",
       "      <td>None</td>\n",
       "      <td>Admin</td>\n",
       "      <td>Admin</td>\n",
       "      <td>Influence Team</td>\n",
       "    </tr>\n",
       "    <tr>\n",
       "      <th>3</th>\n",
       "      <td>Adrienne Wickham-Gobert | Adrienne W. Gobert</td>\n",
       "      <td>1939</td>\n",
       "      <td>Admin &gt; General</td>\n",
       "      <td>PROJECT_PLAN_TASK-3-2145</td>\n",
       "      <td>0.592391</td>\n",
       "      <td>0.407609</td>\n",
       "      <td>Influence Team</td>\n",
       "      <td>COM - Admin</td>\n",
       "      <td>PTO Project Hour</td>\n",
       "      <td>6078.401522</td>\n",
       "      <td>1042.675288</td>\n",
       "      <td>528.303436</td>\n",
       "      <td>1215.680155</td>\n",
       "      <td>Admin Time for UnderUtilized</td>\n",
       "      <td>None</td>\n",
       "      <td>None</td>\n",
       "      <td>Admin</td>\n",
       "      <td>Admin</td>\n",
       "      <td>Influence Team</td>\n",
       "    </tr>\n",
       "    <tr>\n",
       "      <th>4</th>\n",
       "      <td>Alberto Cuadra</td>\n",
       "      <td>1336</td>\n",
       "      <td>Admin &gt; General</td>\n",
       "      <td>PROJECT_PLAN_TASK-3-2145</td>\n",
       "      <td>0.298007</td>\n",
       "      <td>0.701993</td>\n",
       "      <td>Influence Team</td>\n",
       "      <td>COM - Admin</td>\n",
       "      <td>PTO Project Hour</td>\n",
       "      <td>2342.950788</td>\n",
       "      <td>356.704704</td>\n",
       "      <td>180.735386</td>\n",
       "      <td>468.589341</td>\n",
       "      <td>Admin Time for UnderUtilized</td>\n",
       "      <td>None</td>\n",
       "      <td>None</td>\n",
       "      <td>Admin</td>\n",
       "      <td>Admin</td>\n",
       "      <td>Influence Team</td>\n",
       "    </tr>\n",
       "    <tr>\n",
       "      <th>...</th>\n",
       "      <td>...</td>\n",
       "      <td>...</td>\n",
       "      <td>...</td>\n",
       "      <td>...</td>\n",
       "      <td>...</td>\n",
       "      <td>...</td>\n",
       "      <td>...</td>\n",
       "      <td>...</td>\n",
       "      <td>...</td>\n",
       "      <td>...</td>\n",
       "      <td>...</td>\n",
       "      <td>...</td>\n",
       "      <td>...</td>\n",
       "      <td>...</td>\n",
       "      <td>...</td>\n",
       "      <td>...</td>\n",
       "      <td>...</td>\n",
       "      <td>...</td>\n",
       "      <td>...</td>\n",
       "    </tr>\n",
       "    <tr>\n",
       "      <th>246</th>\n",
       "      <td>Yuning Liu</td>\n",
       "      <td>872</td>\n",
       "      <td>Admin &gt; General</td>\n",
       "      <td>PROJECT_PLAN_TASK-3-2559</td>\n",
       "      <td>0.230769</td>\n",
       "      <td>0.769231</td>\n",
       "      <td>US</td>\n",
       "      <td>US - Admin</td>\n",
       "      <td>PTO Discount</td>\n",
       "      <td>0.000000</td>\n",
       "      <td>0.000000</td>\n",
       "      <td>0.000000</td>\n",
       "      <td>0.000000</td>\n",
       "      <td>Admin Time for UnderUtilized</td>\n",
       "      <td>None</td>\n",
       "      <td>None</td>\n",
       "      <td>Admin</td>\n",
       "      <td>Admin</td>\n",
       "      <td>US</td>\n",
       "    </tr>\n",
       "    <tr>\n",
       "      <th>247</th>\n",
       "      <td>Zachary Azrael</td>\n",
       "      <td>2056</td>\n",
       "      <td>General &gt; General</td>\n",
       "      <td>PROJECT_PLAN_TASK-3-4065</td>\n",
       "      <td>0.949534</td>\n",
       "      <td>0.050466</td>\n",
       "      <td>Strategy Team</td>\n",
       "      <td>STR - Admin</td>\n",
       "      <td>PTO Project Hour</td>\n",
       "      <td>6533.727849</td>\n",
       "      <td>1923.129840</td>\n",
       "      <td>974.412757</td>\n",
       "      <td>326.685429</td>\n",
       "      <td>Admin Time for UnderUtilized</td>\n",
       "      <td>None</td>\n",
       "      <td>None</td>\n",
       "      <td>Admin</td>\n",
       "      <td>Admin</td>\n",
       "      <td>Strategy Team</td>\n",
       "    </tr>\n",
       "    <tr>\n",
       "      <th>248</th>\n",
       "      <td>Zachary Clayton | Zach Clayton</td>\n",
       "      <td>1219</td>\n",
       "      <td>Admin &gt; General</td>\n",
       "      <td>PROJECT_PLAN_TASK-3-2289</td>\n",
       "      <td>0.378882</td>\n",
       "      <td>0.621118</td>\n",
       "      <td>Carbon-Free Electricity</td>\n",
       "      <td>POW - Admin</td>\n",
       "      <td>PTO Discount</td>\n",
       "      <td>0.000000</td>\n",
       "      <td>0.000000</td>\n",
       "      <td>0.000000</td>\n",
       "      <td>0.000000</td>\n",
       "      <td>Admin Time for UnderUtilized</td>\n",
       "      <td>None</td>\n",
       "      <td>None</td>\n",
       "      <td>Admin</td>\n",
       "      <td>Admin</td>\n",
       "      <td>Carbon-Free Electricity</td>\n",
       "    </tr>\n",
       "    <tr>\n",
       "      <th>249</th>\n",
       "      <td>Zihe Meng</td>\n",
       "      <td>424</td>\n",
       "      <td>Admin &gt; General</td>\n",
       "      <td>PROJECT_PLAN_TASK-3-2253</td>\n",
       "      <td>0.297659</td>\n",
       "      <td>0.702341</td>\n",
       "      <td>Africa</td>\n",
       "      <td>AF - Admin</td>\n",
       "      <td>PTO Project Hour</td>\n",
       "      <td>1913.916589</td>\n",
       "      <td>459.803241</td>\n",
       "      <td>232.973424</td>\n",
       "      <td>191.390968</td>\n",
       "      <td>Admin Time for UnderUtilized</td>\n",
       "      <td>None</td>\n",
       "      <td>None</td>\n",
       "      <td>Admin</td>\n",
       "      <td>Admin</td>\n",
       "      <td>Africa</td>\n",
       "    </tr>\n",
       "    <tr>\n",
       "      <th>250</th>\n",
       "      <td>Zsaria Diaz</td>\n",
       "      <td>1327</td>\n",
       "      <td>Admin &gt; General</td>\n",
       "      <td>PROJECT_PLAN_TASK-3-2451</td>\n",
       "      <td>0.083851</td>\n",
       "      <td>0.916149</td>\n",
       "      <td>Islands</td>\n",
       "      <td>IS - Admin</td>\n",
       "      <td>PTO Discount</td>\n",
       "      <td>0.000000</td>\n",
       "      <td>0.000000</td>\n",
       "      <td>0.000000</td>\n",
       "      <td>0.000000</td>\n",
       "      <td>Admin Time for UnderUtilized</td>\n",
       "      <td>None</td>\n",
       "      <td>None</td>\n",
       "      <td>Admin</td>\n",
       "      <td>Admin</td>\n",
       "      <td>Islands</td>\n",
       "    </tr>\n",
       "  </tbody>\n",
       "</table>\n",
       "<p>251 rows × 19 columns</p>\n",
       "</div>"
      ],
      "text/plain": [
       "                                           Worker  Employee ID  \\\n",
       "0                                  Aaron Schwartz          937   \n",
       "1                                      Adam Aston         1429   \n",
       "2                                    Adam Beitman         1474   \n",
       "3    Adrienne Wickham-Gobert | Adrienne W. Gobert         1939   \n",
       "4                                  Alberto Cuadra         1336   \n",
       "..                                            ...          ...   \n",
       "246                                    Yuning Liu          872   \n",
       "247                                Zachary Azrael         2056   \n",
       "248                Zachary Clayton | Zach Clayton         1219   \n",
       "249                                     Zihe Meng          424   \n",
       "250                                   Zsaria Diaz         1327   \n",
       "\n",
       "     Project Plan Task      Project Plan Task ID  Admin Hours Percentage  \\\n",
       "0      Admin > General  PROJECT_PLAN_TASK-3-2289                0.122074   \n",
       "1      Admin > General  PROJECT_PLAN_TASK-3-2145                0.277627   \n",
       "2      Admin > General  PROJECT_PLAN_TASK-3-2145                0.038462   \n",
       "3      Admin > General  PROJECT_PLAN_TASK-3-2145                0.592391   \n",
       "4      Admin > General  PROJECT_PLAN_TASK-3-2145                0.298007   \n",
       "..                 ...                       ...                     ...   \n",
       "246    Admin > General  PROJECT_PLAN_TASK-3-2559                0.230769   \n",
       "247  General > General  PROJECT_PLAN_TASK-3-4065                0.949534   \n",
       "248    Admin > General  PROJECT_PLAN_TASK-3-2289                0.378882   \n",
       "249    Admin > General  PROJECT_PLAN_TASK-3-2253                0.297659   \n",
       "250    Admin > General  PROJECT_PLAN_TASK-3-2451                0.083851   \n",
       "\n",
       "     Project Hours Percentage              Cost Center   Initiative  \\\n",
       "0                    0.877926  Carbon-Free Electricity  POW - Admin   \n",
       "1                    0.722373           Influence Team  COM - Admin   \n",
       "2                    0.961538           Influence Team  COM - Admin   \n",
       "3                    0.407609           Influence Team  COM - Admin   \n",
       "4                    0.701993           Influence Team  COM - Admin   \n",
       "..                        ...                      ...          ...   \n",
       "246                  0.769231                       US   US - Admin   \n",
       "247                  0.050466            Strategy Team  STR - Admin   \n",
       "248                  0.621118  Carbon-Free Electricity  POW - Admin   \n",
       "249                  0.702341                   Africa   AF - Admin   \n",
       "250                  0.916149                  Islands   IS - Admin   \n",
       "\n",
       "    PTO more than Admin  SalaryCosted  BenefitsCosted  SharedCosted  \\\n",
       "0          PTO Discount      0.000000        0.000000      0.000000   \n",
       "1      PTO Project Hour   3422.665299      478.068730    242.228195   \n",
       "2          PTO Discount      0.000000        0.000000      0.000000   \n",
       "3      PTO Project Hour   6078.401522     1042.675288    528.303436   \n",
       "4      PTO Project Hour   2342.950788      356.704704    180.735386   \n",
       "..                  ...           ...             ...           ...   \n",
       "246        PTO Discount      0.000000        0.000000      0.000000   \n",
       "247    PTO Project Hour   6533.727849     1923.129840    974.412757   \n",
       "248        PTO Discount      0.000000        0.000000      0.000000   \n",
       "249    PTO Project Hour   1913.916589      459.803241    232.973424   \n",
       "250        PTO Discount      0.000000        0.000000      0.000000   \n",
       "\n",
       "     BonusCosted                          Type Lobbying Lobbying Location  \\\n",
       "0       0.000000  Admin Time for UnderUtilized     None              None   \n",
       "1     684.532752  Admin Time for UnderUtilized     None              None   \n",
       "2       0.000000  Admin Time for UnderUtilized     None              None   \n",
       "3    1215.680155  Admin Time for UnderUtilized     None              None   \n",
       "4     468.589341  Admin Time for UnderUtilized     None              None   \n",
       "..           ...                           ...      ...               ...   \n",
       "246     0.000000  Admin Time for UnderUtilized     None              None   \n",
       "247   326.685429  Admin Time for UnderUtilized     None              None   \n",
       "248     0.000000  Admin Time for UnderUtilized     None              None   \n",
       "249   191.390968  Admin Time for UnderUtilized     None              None   \n",
       "250     0.000000  Admin Time for UnderUtilized     None              None   \n",
       "\n",
       "    Project or Admin Project       Worker Cost Center  \n",
       "0              Admin   Admin  Carbon-Free Electricity  \n",
       "1              Admin   Admin           Influence Team  \n",
       "2              Admin   Admin           Influence Team  \n",
       "3              Admin   Admin           Influence Team  \n",
       "4              Admin   Admin           Influence Team  \n",
       "..               ...     ...                      ...  \n",
       "246            Admin   Admin                       US  \n",
       "247            Admin   Admin            Strategy Team  \n",
       "248            Admin   Admin  Carbon-Free Electricity  \n",
       "249            Admin   Admin                   Africa  \n",
       "250            Admin   Admin                  Islands  \n",
       "\n",
       "[251 rows x 19 columns]"
      ]
     },
     "execution_count": 335,
     "metadata": {},
     "output_type": "execute_result"
    }
   ],
   "source": [
    "UnderUtilizedAdminCalcs"
   ]
  },
  {
   "cell_type": "code",
   "execution_count": 336,
   "id": "d348ce8d",
   "metadata": {},
   "outputs": [],
   "source": [
    "UnderUtilizedPTOCalcs['Lobbying'] = \"None\"\n",
    "UnderUtilizedPTOCalcs['Lobbying Location'] = \"None\"\n",
    "UnderUtilizedPTOCalcs['Project or Admin'] = \"Admin\"\n",
    "UnderUtilizedPTOCalcs['Project'] = \"Admin\"\n",
    "UnderUtilizedPTOCalcs['Worker Cost Center'] = UnderUtilizedAdminCalcs['Cost Center'] "
   ]
  },
  {
   "cell_type": "code",
   "execution_count": 337,
   "id": "e7c8e31c",
   "metadata": {},
   "outputs": [],
   "source": [
    "UnderUtilizedPTOCalcs = UnderUtilizedPTOCalcs[UnderUtilizedPTOCalcs['SalaryCosted']!=0]"
   ]
  },
  {
   "cell_type": "code",
   "execution_count": 338,
   "id": "0e470873",
   "metadata": {},
   "outputs": [],
   "source": [
    "UnderUtilizedCombined = pd.concat([UnderUtilizedAdminCalcs, UnderUtilizedPTOCalcs, UnderUtilizedProgramTimeFormatted], ignore_index=True)"
   ]
  },
  {
   "cell_type": "code",
   "execution_count": 339,
   "id": "c28a3a55",
   "metadata": {},
   "outputs": [
    {
     "data": {
      "text/html": [
       "<div>\n",
       "<style scoped>\n",
       "    .dataframe tbody tr th:only-of-type {\n",
       "        vertical-align: middle;\n",
       "    }\n",
       "\n",
       "    .dataframe tbody tr th {\n",
       "        vertical-align: top;\n",
       "    }\n",
       "\n",
       "    .dataframe thead th {\n",
       "        text-align: right;\n",
       "    }\n",
       "</style>\n",
       "<table border=\"1\" class=\"dataframe\">\n",
       "  <thead>\n",
       "    <tr style=\"text-align: right;\">\n",
       "      <th></th>\n",
       "      <th>Worker</th>\n",
       "      <th>Employee ID</th>\n",
       "      <th>Project Plan Task</th>\n",
       "      <th>Project Plan Task ID</th>\n",
       "      <th>Admin Hours Percentage</th>\n",
       "      <th>Project Hours Percentage</th>\n",
       "      <th>Cost Center</th>\n",
       "      <th>Initiative</th>\n",
       "      <th>PTO more than Admin</th>\n",
       "      <th>SalaryCosted</th>\n",
       "      <th>BenefitsCosted</th>\n",
       "      <th>SharedCosted</th>\n",
       "      <th>BonusCosted</th>\n",
       "      <th>Type</th>\n",
       "      <th>Lobbying</th>\n",
       "      <th>Lobbying Location</th>\n",
       "      <th>Project or Admin</th>\n",
       "      <th>Project</th>\n",
       "      <th>Worker Cost Center</th>\n",
       "    </tr>\n",
       "  </thead>\n",
       "  <tbody>\n",
       "    <tr>\n",
       "      <th>0</th>\n",
       "      <td>Aaron Schwartz</td>\n",
       "      <td>937</td>\n",
       "      <td>Carbon-Free Electricity &gt; PTO</td>\n",
       "      <td>PROJECT_PLAN_TASK-3-5698</td>\n",
       "      <td>0.122074</td>\n",
       "      <td>0.877926</td>\n",
       "      <td>Carbon-Free Electricity</td>\n",
       "      <td>POW - Admin</td>\n",
       "      <td>PTO Discount</td>\n",
       "      <td>1110.288495</td>\n",
       "      <td>284.454548</td>\n",
       "      <td>144.127627</td>\n",
       "      <td>111.028707</td>\n",
       "      <td>PTO Time for UnderUtilized</td>\n",
       "      <td>None</td>\n",
       "      <td>None</td>\n",
       "      <td>Admin</td>\n",
       "      <td>Admin</td>\n",
       "      <td>Carbon-Free Electricity</td>\n",
       "    </tr>\n",
       "    <tr>\n",
       "      <th>1</th>\n",
       "      <td>Adam Aston</td>\n",
       "      <td>1429</td>\n",
       "      <td>Influence Team &gt; PTO</td>\n",
       "      <td>PROJECT_PLAN_TASK-3-5737</td>\n",
       "      <td>0.277627</td>\n",
       "      <td>0.722373</td>\n",
       "      <td>Influence Team</td>\n",
       "      <td>COM - Admin</td>\n",
       "      <td>PTO Project Hour</td>\n",
       "      <td>1208.888406</td>\n",
       "      <td>168.854298</td>\n",
       "      <td>85.555212</td>\n",
       "      <td>241.777572</td>\n",
       "      <td>PTO Time for UnderUtilized</td>\n",
       "      <td>None</td>\n",
       "      <td>None</td>\n",
       "      <td>Admin</td>\n",
       "      <td>Admin</td>\n",
       "      <td>Influence Team</td>\n",
       "    </tr>\n",
       "    <tr>\n",
       "      <th>2</th>\n",
       "      <td>Adam Beitman</td>\n",
       "      <td>1474</td>\n",
       "      <td>Influence Team &gt; PTO</td>\n",
       "      <td>PROJECT_PLAN_TASK-3-5737</td>\n",
       "      <td>0.038462</td>\n",
       "      <td>0.961538</td>\n",
       "      <td>Influence Team</td>\n",
       "      <td>COM - Admin</td>\n",
       "      <td>PTO Discount</td>\n",
       "      <td>417.587692</td>\n",
       "      <td>89.622666</td>\n",
       "      <td>45.410074</td>\n",
       "      <td>41.758702</td>\n",
       "      <td>PTO Time for UnderUtilized</td>\n",
       "      <td>None</td>\n",
       "      <td>None</td>\n",
       "      <td>Admin</td>\n",
       "      <td>Admin</td>\n",
       "      <td>Influence Team</td>\n",
       "    </tr>\n",
       "    <tr>\n",
       "      <th>3</th>\n",
       "      <td>Adrienne Wickham-Gobert | Adrienne W. Gobert</td>\n",
       "      <td>1939</td>\n",
       "      <td>Influence Team &gt; PTO</td>\n",
       "      <td>PROJECT_PLAN_TASK-3-5737</td>\n",
       "      <td>0.592391</td>\n",
       "      <td>0.407609</td>\n",
       "      <td>Influence Team</td>\n",
       "      <td>COM - Admin</td>\n",
       "      <td>PTO Project Hour</td>\n",
       "      <td>1968.713043</td>\n",
       "      <td>337.708595</td>\n",
       "      <td>171.110425</td>\n",
       "      <td>393.742560</td>\n",
       "      <td>PTO Time for UnderUtilized</td>\n",
       "      <td>None</td>\n",
       "      <td>None</td>\n",
       "      <td>Admin</td>\n",
       "      <td>Admin</td>\n",
       "      <td>Influence Team</td>\n",
       "    </tr>\n",
       "    <tr>\n",
       "      <th>4</th>\n",
       "      <td>Alberto Cuadra</td>\n",
       "      <td>1336</td>\n",
       "      <td>Influence Team &gt; PTO</td>\n",
       "      <td>PROJECT_PLAN_TASK-3-5737</td>\n",
       "      <td>0.298007</td>\n",
       "      <td>0.701993</td>\n",
       "      <td>Influence Team</td>\n",
       "      <td>COM - Admin</td>\n",
       "      <td>PTO Project Hour</td>\n",
       "      <td>2218.178261</td>\n",
       "      <td>337.708595</td>\n",
       "      <td>171.110425</td>\n",
       "      <td>443.634879</td>\n",
       "      <td>PTO Time for UnderUtilized</td>\n",
       "      <td>None</td>\n",
       "      <td>None</td>\n",
       "      <td>Admin</td>\n",
       "      <td>Admin</td>\n",
       "      <td>Influence Team</td>\n",
       "    </tr>\n",
       "    <tr>\n",
       "      <th>...</th>\n",
       "      <td>...</td>\n",
       "      <td>...</td>\n",
       "      <td>...</td>\n",
       "      <td>...</td>\n",
       "      <td>...</td>\n",
       "      <td>...</td>\n",
       "      <td>...</td>\n",
       "      <td>...</td>\n",
       "      <td>...</td>\n",
       "      <td>...</td>\n",
       "      <td>...</td>\n",
       "      <td>...</td>\n",
       "      <td>...</td>\n",
       "      <td>...</td>\n",
       "      <td>...</td>\n",
       "      <td>...</td>\n",
       "      <td>...</td>\n",
       "      <td>...</td>\n",
       "      <td>...</td>\n",
       "    </tr>\n",
       "    <tr>\n",
       "      <th>246</th>\n",
       "      <td>Yuning Liu</td>\n",
       "      <td>872</td>\n",
       "      <td>US Program &gt; PTO</td>\n",
       "      <td>PROJECT_PLAN_TASK-3-5735</td>\n",
       "      <td>0.230769</td>\n",
       "      <td>0.769231</td>\n",
       "      <td>US</td>\n",
       "      <td>US - Admin</td>\n",
       "      <td>PTO Discount</td>\n",
       "      <td>2159.291538</td>\n",
       "      <td>537.735994</td>\n",
       "      <td>272.460445</td>\n",
       "      <td>215.928711</td>\n",
       "      <td>PTO Time for UnderUtilized</td>\n",
       "      <td>None</td>\n",
       "      <td>None</td>\n",
       "      <td>Admin</td>\n",
       "      <td>Admin</td>\n",
       "      <td>US</td>\n",
       "    </tr>\n",
       "    <tr>\n",
       "      <th>247</th>\n",
       "      <td>Zachary Azrael</td>\n",
       "      <td>2056</td>\n",
       "      <td>Strategy Team &gt; PTO</td>\n",
       "      <td>PROJECT_PLAN_TASK-3-5738</td>\n",
       "      <td>0.949534</td>\n",
       "      <td>0.050466</td>\n",
       "      <td>Strategy Team</td>\n",
       "      <td>STR - Admin</td>\n",
       "      <td>PTO Project Hour</td>\n",
       "      <td>983.439752</td>\n",
       "      <td>289.464510</td>\n",
       "      <td>146.666078</td>\n",
       "      <td>49.171843</td>\n",
       "      <td>PTO Time for UnderUtilized</td>\n",
       "      <td>None</td>\n",
       "      <td>None</td>\n",
       "      <td>Admin</td>\n",
       "      <td>Admin</td>\n",
       "      <td>Strategy Team</td>\n",
       "    </tr>\n",
       "    <tr>\n",
       "      <th>248</th>\n",
       "      <td>Zachary Clayton | Zach Clayton</td>\n",
       "      <td>1219</td>\n",
       "      <td>Carbon-Free Electricity &gt; PTO</td>\n",
       "      <td>PROJECT_PLAN_TASK-3-5698</td>\n",
       "      <td>0.378882</td>\n",
       "      <td>0.621118</td>\n",
       "      <td>Carbon-Free Electricity</td>\n",
       "      <td>POW - Admin</td>\n",
       "      <td>PTO Discount</td>\n",
       "      <td>2800.301615</td>\n",
       "      <td>882.866756</td>\n",
       "      <td>447.331538</td>\n",
       "      <td>140.014639</td>\n",
       "      <td>PTO Time for UnderUtilized</td>\n",
       "      <td>None</td>\n",
       "      <td>None</td>\n",
       "      <td>Admin</td>\n",
       "      <td>Admin</td>\n",
       "      <td>Carbon-Free Electricity</td>\n",
       "    </tr>\n",
       "    <tr>\n",
       "      <th>249</th>\n",
       "      <td>Zihe Meng</td>\n",
       "      <td>424</td>\n",
       "      <td>Africa &gt; PTO</td>\n",
       "      <td>PROJECT_PLAN_TASK-3-5719</td>\n",
       "      <td>0.297659</td>\n",
       "      <td>0.702341</td>\n",
       "      <td>Africa</td>\n",
       "      <td>AF - Admin</td>\n",
       "      <td>PTO Project Hour</td>\n",
       "      <td>973.177926</td>\n",
       "      <td>233.798258</td>\n",
       "      <td>118.461063</td>\n",
       "      <td>97.317441</td>\n",
       "      <td>PTO Time for UnderUtilized</td>\n",
       "      <td>None</td>\n",
       "      <td>None</td>\n",
       "      <td>Admin</td>\n",
       "      <td>Admin</td>\n",
       "      <td>Africa</td>\n",
       "    </tr>\n",
       "    <tr>\n",
       "      <th>250</th>\n",
       "      <td>Zsaria Diaz</td>\n",
       "      <td>1327</td>\n",
       "      <td>Islands &gt; PTO</td>\n",
       "      <td>PROJECT_PLAN_TASK-3-5728</td>\n",
       "      <td>0.083851</td>\n",
       "      <td>0.916149</td>\n",
       "      <td>Islands</td>\n",
       "      <td>IS - Admin</td>\n",
       "      <td>PTO Discount</td>\n",
       "      <td>661.927640</td>\n",
       "      <td>195.388544</td>\n",
       "      <td>98.999603</td>\n",
       "      <td>32.190219</td>\n",
       "      <td>PTO Time for UnderUtilized</td>\n",
       "      <td>None</td>\n",
       "      <td>None</td>\n",
       "      <td>Admin</td>\n",
       "      <td>Admin</td>\n",
       "      <td>Islands</td>\n",
       "    </tr>\n",
       "  </tbody>\n",
       "</table>\n",
       "<p>240 rows × 19 columns</p>\n",
       "</div>"
      ],
      "text/plain": [
       "                                           Worker  Employee ID  \\\n",
       "0                                  Aaron Schwartz          937   \n",
       "1                                      Adam Aston         1429   \n",
       "2                                    Adam Beitman         1474   \n",
       "3    Adrienne Wickham-Gobert | Adrienne W. Gobert         1939   \n",
       "4                                  Alberto Cuadra         1336   \n",
       "..                                            ...          ...   \n",
       "246                                    Yuning Liu          872   \n",
       "247                                Zachary Azrael         2056   \n",
       "248                Zachary Clayton | Zach Clayton         1219   \n",
       "249                                     Zihe Meng          424   \n",
       "250                                   Zsaria Diaz         1327   \n",
       "\n",
       "                 Project Plan Task      Project Plan Task ID  \\\n",
       "0    Carbon-Free Electricity > PTO  PROJECT_PLAN_TASK-3-5698   \n",
       "1             Influence Team > PTO  PROJECT_PLAN_TASK-3-5737   \n",
       "2             Influence Team > PTO  PROJECT_PLAN_TASK-3-5737   \n",
       "3             Influence Team > PTO  PROJECT_PLAN_TASK-3-5737   \n",
       "4             Influence Team > PTO  PROJECT_PLAN_TASK-3-5737   \n",
       "..                             ...                       ...   \n",
       "246               US Program > PTO  PROJECT_PLAN_TASK-3-5735   \n",
       "247            Strategy Team > PTO  PROJECT_PLAN_TASK-3-5738   \n",
       "248  Carbon-Free Electricity > PTO  PROJECT_PLAN_TASK-3-5698   \n",
       "249                   Africa > PTO  PROJECT_PLAN_TASK-3-5719   \n",
       "250                  Islands > PTO  PROJECT_PLAN_TASK-3-5728   \n",
       "\n",
       "     Admin Hours Percentage  Project Hours Percentage  \\\n",
       "0                  0.122074                  0.877926   \n",
       "1                  0.277627                  0.722373   \n",
       "2                  0.038462                  0.961538   \n",
       "3                  0.592391                  0.407609   \n",
       "4                  0.298007                  0.701993   \n",
       "..                      ...                       ...   \n",
       "246                0.230769                  0.769231   \n",
       "247                0.949534                  0.050466   \n",
       "248                0.378882                  0.621118   \n",
       "249                0.297659                  0.702341   \n",
       "250                0.083851                  0.916149   \n",
       "\n",
       "                 Cost Center   Initiative PTO more than Admin  SalaryCosted  \\\n",
       "0    Carbon-Free Electricity  POW - Admin        PTO Discount   1110.288495   \n",
       "1             Influence Team  COM - Admin    PTO Project Hour   1208.888406   \n",
       "2             Influence Team  COM - Admin        PTO Discount    417.587692   \n",
       "3             Influence Team  COM - Admin    PTO Project Hour   1968.713043   \n",
       "4             Influence Team  COM - Admin    PTO Project Hour   2218.178261   \n",
       "..                       ...          ...                 ...           ...   \n",
       "246                       US   US - Admin        PTO Discount   2159.291538   \n",
       "247            Strategy Team  STR - Admin    PTO Project Hour    983.439752   \n",
       "248  Carbon-Free Electricity  POW - Admin        PTO Discount   2800.301615   \n",
       "249                   Africa   AF - Admin    PTO Project Hour    973.177926   \n",
       "250                  Islands   IS - Admin        PTO Discount    661.927640   \n",
       "\n",
       "     BenefitsCosted  SharedCosted  BonusCosted                        Type  \\\n",
       "0        284.454548    144.127627   111.028707  PTO Time for UnderUtilized   \n",
       "1        168.854298     85.555212   241.777572  PTO Time for UnderUtilized   \n",
       "2         89.622666     45.410074    41.758702  PTO Time for UnderUtilized   \n",
       "3        337.708595    171.110425   393.742560  PTO Time for UnderUtilized   \n",
       "4        337.708595    171.110425   443.634879  PTO Time for UnderUtilized   \n",
       "..              ...           ...          ...                         ...   \n",
       "246      537.735994    272.460445   215.928711  PTO Time for UnderUtilized   \n",
       "247      289.464510    146.666078    49.171843  PTO Time for UnderUtilized   \n",
       "248      882.866756    447.331538   140.014639  PTO Time for UnderUtilized   \n",
       "249      233.798258    118.461063    97.317441  PTO Time for UnderUtilized   \n",
       "250      195.388544     98.999603    32.190219  PTO Time for UnderUtilized   \n",
       "\n",
       "    Lobbying Lobbying Location Project or Admin Project  \\\n",
       "0       None              None            Admin   Admin   \n",
       "1       None              None            Admin   Admin   \n",
       "2       None              None            Admin   Admin   \n",
       "3       None              None            Admin   Admin   \n",
       "4       None              None            Admin   Admin   \n",
       "..       ...               ...              ...     ...   \n",
       "246     None              None            Admin   Admin   \n",
       "247     None              None            Admin   Admin   \n",
       "248     None              None            Admin   Admin   \n",
       "249     None              None            Admin   Admin   \n",
       "250     None              None            Admin   Admin   \n",
       "\n",
       "          Worker Cost Center  \n",
       "0    Carbon-Free Electricity  \n",
       "1             Influence Team  \n",
       "2             Influence Team  \n",
       "3             Influence Team  \n",
       "4             Influence Team  \n",
       "..                       ...  \n",
       "246                       US  \n",
       "247            Strategy Team  \n",
       "248  Carbon-Free Electricity  \n",
       "249                   Africa  \n",
       "250                  Islands  \n",
       "\n",
       "[240 rows x 19 columns]"
      ]
     },
     "execution_count": 339,
     "metadata": {},
     "output_type": "execute_result"
    }
   ],
   "source": [
    "UnderUtilizedPTOCalcs"
   ]
  },
  {
   "cell_type": "code",
   "execution_count": 340,
   "id": "fc7c0c19",
   "metadata": {},
   "outputs": [
    {
     "data": {
      "text/plain": [
       "UnderUtilizedProject            1371\n",
       "Admin Time for UnderUtilized     251\n",
       "PTO Time for UnderUtilized       240\n",
       "Name: Type, dtype: int64"
      ]
     },
     "execution_count": 340,
     "metadata": {},
     "output_type": "execute_result"
    }
   ],
   "source": [
    "UnderUtilizedCombined['Type'].value_counts()"
   ]
  },
  {
   "cell_type": "code",
   "execution_count": 341,
   "id": "de92a3b7",
   "metadata": {},
   "outputs": [],
   "source": [
    "#UnderUtilizedCombined.to_excel('/mnt/c/Users/jerem/anaconda3/envs/Code/RMICODING/Data/TimeCodingData/Outputs/UnderUtilizedCombined.xlsx')"
   ]
  },
  {
   "cell_type": "markdown",
   "id": "f908f6b9",
   "metadata": {},
   "source": [
    "# Put All time for Employees that Didn't submit Timesheets to Admin\n",
    "\n",
    "Add logic to put in Cost per hour and Utilization Rates that Didn't submit Timesheets as well."
   ]
  },
  {
   "cell_type": "code",
   "execution_count": 342,
   "id": "38daab72",
   "metadata": {},
   "outputs": [
    {
     "data": {
      "text/plain": [
       "Index(['Employee', 'Employee ID', 'Net Amount', 'Cost Center', 'Category',\n",
       "       'Hire Date', 'Termination Date', 'Location', 'Available Days',\n",
       "       'Bonus Final', 'Benefits per Employee', 'Shared per Employee',\n",
       "       'FileType', 'Consulting Per Employee', 'FTE', 'Adjusted Hours',\n",
       "       'Project Plan Task Home', 'Project Plan Task ID Home', 'Initiative',\n",
       "       'Project Plan Task PTO', 'Project Plan Task ID PTO', 'Fully Utilized',\n",
       "       'Needed Project Hours', 'Total Project Hours', 'Timesheet Submitted'],\n",
       "      dtype='object')"
      ]
     },
     "execution_count": 342,
     "metadata": {},
     "output_type": "execute_result"
    }
   ],
   "source": [
    "TimesheetsNotSubmitted.columns"
   ]
  },
  {
   "cell_type": "code",
   "execution_count": 343,
   "id": "1424501c",
   "metadata": {},
   "outputs": [],
   "source": [
    "TimesheetsNotSubmitted['Fully Utilized'] = \"No Timesheet\""
   ]
  },
  {
   "cell_type": "code",
   "execution_count": 344,
   "id": "fd445c21",
   "metadata": {},
   "outputs": [],
   "source": [
    "TimesheetsNotSubmitted.rename(columns={'Employee': 'Worker', 'Project Ref ID': 'Project Plan Task ID', 'Admin Project': 'Project Plan Task', 'Net Amount': 'SalaryCosted', 'Benefits per Employee': 'BenefitsCosted', 'Shared per Employee': 'SharedCosted', 'Bonus Final': 'BonusCosted', 'Consulting Per Employee': 'ConsultingFeesCosted'}, inplace=True)"
   ]
  },
  {
   "cell_type": "code",
   "execution_count": 345,
   "id": "006b4742",
   "metadata": {},
   "outputs": [],
   "source": [
    "TimesheetsNotSubmitted = TimesheetsNotSubmitted[['Worker', 'Employee ID', 'Project Plan Task Home', 'Project Plan Task ID Home', 'SalaryCosted', 'BenefitsCosted',\n",
    "       'SharedCosted', 'BonusCosted', 'Initiative', 'Cost Center', 'ConsultingFeesCosted']]"
   ]
  },
  {
   "cell_type": "code",
   "execution_count": 346,
   "id": "1fb1686e",
   "metadata": {},
   "outputs": [],
   "source": [
    "TimesheetsNotSubmitted[\"Type\"] = \"TimeSheetsNotSubmitted\""
   ]
  },
  {
   "cell_type": "markdown",
   "id": "5801bf67",
   "metadata": {},
   "source": [
    "Combine all Costed Timesheets and Print"
   ]
  },
  {
   "cell_type": "code",
   "execution_count": 347,
   "id": "061e0135",
   "metadata": {},
   "outputs": [],
   "source": [
    "TimesheetsNotSubmitted['Project Hours Percentage'] = '0'\n",
    "TimesheetsNotSubmitted['Admin Hours Percentage'] = '1'"
   ]
  },
  {
   "cell_type": "code",
   "execution_count": 348,
   "id": "64e525b3",
   "metadata": {},
   "outputs": [],
   "source": [
    "TimesheetsNotSubmitted = TimesheetsNotSubmitted.rename(columns={'Project Plan Task Home': 'Project Plan Task', 'Project Plan Task ID Home': 'Project Plan Task ID', })"
   ]
  },
  {
   "cell_type": "code",
   "execution_count": 349,
   "id": "11ebad5b",
   "metadata": {},
   "outputs": [],
   "source": [
    "TimesheetsNotSubmitted['Lobbying'] = \"None\"\n",
    "TimesheetsNotSubmitted['Lobbying Location'] = \"None\"\n",
    "TimesheetsNotSubmitted['Project or Admin'] = \"Admin\"\n",
    "TimesheetsNotSubmitted['Project'] = \"Admin\"\n",
    "TimesheetsNotSubmitted['Worker Cost Center'] = TimesheetsNotSubmitted['Cost Center']"
   ]
  },
  {
   "cell_type": "code",
   "execution_count": 350,
   "id": "90906f14",
   "metadata": {},
   "outputs": [
    {
     "data": {
      "text/plain": [
       "Index(['Worker', 'Employee ID', 'Project Plan Task', 'Project Plan Task ID',\n",
       "       'SalaryCosted', 'BenefitsCosted', 'SharedCosted', 'BonusCosted',\n",
       "       'Initiative', 'Cost Center', 'ConsultingFeesCosted', 'Type',\n",
       "       'Project Hours Percentage', 'Admin Hours Percentage', 'Lobbying',\n",
       "       'Lobbying Location', 'Project or Admin', 'Project',\n",
       "       'Worker Cost Center'],\n",
       "      dtype='object')"
      ]
     },
     "execution_count": 350,
     "metadata": {},
     "output_type": "execute_result"
    }
   ],
   "source": [
    "TimesheetsNotSubmitted.columns"
   ]
  },
  {
   "cell_type": "code",
   "execution_count": 351,
   "id": "c2587f87",
   "metadata": {},
   "outputs": [],
   "source": [
    "TimesheetsNotSubmitted['PTO more than Admin'] = 'NA'"
   ]
  },
  {
   "cell_type": "markdown",
   "id": "d5d4311f",
   "metadata": {},
   "source": [
    "Move tasks to \"No Timesheet Submitted Task\""
   ]
  },
  {
   "cell_type": "code",
   "execution_count": 352,
   "id": "0bd554a9",
   "metadata": {},
   "outputs": [],
   "source": [
    "TimesheetsNotSubmitted = TimesheetsNotSubmitted[['Worker', 'Employee ID',\n",
    "       'SalaryCosted', 'BenefitsCosted', 'SharedCosted', 'BonusCosted',\n",
    "       'Initiative', 'Cost Center', 'ConsultingFeesCosted', 'Type',\n",
    "       'Project Hours Percentage', 'Admin Hours Percentage', 'Lobbying',\n",
    "       'Lobbying Location', 'Project or Admin', 'Project',\n",
    "       'Worker Cost Center']]"
   ]
  },
  {
   "cell_type": "code",
   "execution_count": 353,
   "id": "6dfdc35d",
   "metadata": {},
   "outputs": [],
   "source": [
    "Notimesheetaccounts = './Source_Files/NotimeSheetMapping.xlsx'\n",
    "\n",
    "Notimesheetaccounts = pd.read_excel(Notimesheetaccounts, engine='openpyxl')"
   ]
  },
  {
   "cell_type": "code",
   "execution_count": 354,
   "id": "ccf9ec8a",
   "metadata": {},
   "outputs": [
    {
     "data": {
      "text/plain": [
       "Index(['Project', 'Project Hierarchy - Level 02', 'Project Ref ID',\n",
       "       'External Project Reference', 'Cost Center', 'Cost Center Ref ID',\n",
       "       'Initiative', 'Initiative Ref ID', 'Project Phase', 'Project Task',\n",
       "       'Project Plan Task', 'Project Plan Task ID', 'Project Plan Task WID'],\n",
       "      dtype='object')"
      ]
     },
     "execution_count": 354,
     "metadata": {},
     "output_type": "execute_result"
    }
   ],
   "source": [
    "Notimesheetaccounts.columns"
   ]
  },
  {
   "cell_type": "code",
   "execution_count": 355,
   "id": "e32bcf3e",
   "metadata": {},
   "outputs": [
    {
     "data": {
      "text/plain": [
       "Index(['Worker Cost Center', 'Project Plan Task', 'Project Plan Task ID'], dtype='object')"
      ]
     },
     "execution_count": 355,
     "metadata": {},
     "output_type": "execute_result"
    }
   ],
   "source": [
    "Notimesheetaccounts = Notimesheetaccounts[['Cost Center',\n",
    "       'Project Plan Task', 'Project Plan Task ID']]\n",
    "Notimesheetaccounts = Notimesheetaccounts.rename(columns={'Cost Center': 'Worker Cost Center'})\n",
    "Notimesheetaccounts.columns"
   ]
  },
  {
   "cell_type": "code",
   "execution_count": 356,
   "id": "98845442",
   "metadata": {},
   "outputs": [],
   "source": [
    "TimesheetsNotSubmitted = pd.merge(TimesheetsNotSubmitted, Notimesheetaccounts, on = 'Worker Cost Center', how = 'left')"
   ]
  },
  {
   "cell_type": "code",
   "execution_count": 357,
   "id": "144f5662",
   "metadata": {},
   "outputs": [
    {
     "data": {
      "text/plain": [
       "Index(['Worker', 'Employee ID', 'SalaryCosted', 'BenefitsCosted',\n",
       "       'SharedCosted', 'BonusCosted', 'Initiative', 'Cost Center',\n",
       "       'ConsultingFeesCosted', 'Type', 'Project Hours Percentage',\n",
       "       'Admin Hours Percentage', 'Lobbying', 'Lobbying Location',\n",
       "       'Project or Admin', 'Project', 'Worker Cost Center',\n",
       "       'Project Plan Task', 'Project Plan Task ID'],\n",
       "      dtype='object')"
      ]
     },
     "execution_count": 357,
     "metadata": {},
     "output_type": "execute_result"
    }
   ],
   "source": [
    "TimesheetsNotSubmitted.columns"
   ]
  },
  {
   "cell_type": "code",
   "execution_count": 358,
   "id": "1676be6e",
   "metadata": {},
   "outputs": [
    {
     "name": "stderr",
     "output_type": "stream",
     "text": [
      "C:\\Users\\Jwendt\\AppData\\Local\\Temp\\ipykernel_1740\\3658725513.py:4: SettingWithCopyWarning: \n",
      "A value is trying to be set on a copy of a slice from a DataFrame.\n",
      "Try using .loc[row_indexer,col_indexer] = value instead\n",
      "\n",
      "See the caveats in the documentation: https://pandas.pydata.org/pandas-docs/stable/user_guide/indexing.html#returning-a-view-versus-a-copy\n",
      "  IndiaTimeMasterAllocated['PTO more than Admin'] = 'NA'\n"
     ]
    }
   ],
   "source": [
    "\n",
    "UnderUtilizedCombined['ConsultingFeesCosted'] = 0\n",
    "FullyUtilizedProgramTime['ConsultingFeesCosted'] = 0\n",
    "FullyUtilizedProgramTime['PTO more than Admin'] = 'NA'\n",
    "IndiaTimeMasterAllocated['PTO more than Admin'] = 'NA'"
   ]
  },
  {
   "cell_type": "code",
   "execution_count": 359,
   "id": "e58d3553",
   "metadata": {},
   "outputs": [],
   "source": [
    "AllCostsAllocated = pd.concat([TimesheetsNotSubmitted, UnderUtilizedCombined, FullyUtilizedProgramTime, IndiaTimeMasterAllocated], ignore_index=True)"
   ]
  },
  {
   "cell_type": "code",
   "execution_count": null,
   "id": "bc640868",
   "metadata": {},
   "outputs": [],
   "source": []
  },
  {
   "cell_type": "code",
   "execution_count": 360,
   "id": "56c0beb0",
   "metadata": {},
   "outputs": [],
   "source": [
    "AllCostsAllocated = pd.merge(AllCostsAllocated, LocationbyEmployee, on = 'Employee ID', how = 'left')"
   ]
  },
  {
   "cell_type": "code",
   "execution_count": 361,
   "id": "9123b7b6",
   "metadata": {},
   "outputs": [
    {
     "data": {
      "text/html": [
       "<div>\n",
       "<style scoped>\n",
       "    .dataframe tbody tr th:only-of-type {\n",
       "        vertical-align: middle;\n",
       "    }\n",
       "\n",
       "    .dataframe tbody tr th {\n",
       "        vertical-align: top;\n",
       "    }\n",
       "\n",
       "    .dataframe thead th {\n",
       "        text-align: right;\n",
       "    }\n",
       "</style>\n",
       "<table border=\"1\" class=\"dataframe\">\n",
       "  <thead>\n",
       "    <tr style=\"text-align: right;\">\n",
       "      <th></th>\n",
       "      <th>Employee ID</th>\n",
       "      <th>Location</th>\n",
       "    </tr>\n",
       "  </thead>\n",
       "  <tbody>\n",
       "    <tr>\n",
       "      <th>0</th>\n",
       "      <td>1</td>\n",
       "      <td>Beijing</td>\n",
       "    </tr>\n",
       "    <tr>\n",
       "      <th>1</th>\n",
       "      <td>4</td>\n",
       "      <td>Beijing</td>\n",
       "    </tr>\n",
       "    <tr>\n",
       "      <th>2</th>\n",
       "      <td>5</td>\n",
       "      <td>Beijing</td>\n",
       "    </tr>\n",
       "    <tr>\n",
       "      <th>3</th>\n",
       "      <td>6</td>\n",
       "      <td>Beijing</td>\n",
       "    </tr>\n",
       "    <tr>\n",
       "      <th>4</th>\n",
       "      <td>7</td>\n",
       "      <td>Beijing</td>\n",
       "    </tr>\n",
       "    <tr>\n",
       "      <th>...</th>\n",
       "      <td>...</td>\n",
       "      <td>...</td>\n",
       "    </tr>\n",
       "    <tr>\n",
       "      <th>1115</th>\n",
       "      <td>1991</td>\n",
       "      <td>Remote - North Carolina</td>\n",
       "    </tr>\n",
       "    <tr>\n",
       "      <th>1116</th>\n",
       "      <td>1992</td>\n",
       "      <td>Remote - North Carolina</td>\n",
       "    </tr>\n",
       "    <tr>\n",
       "      <th>1117</th>\n",
       "      <td>1993</td>\n",
       "      <td>Remote - Arizona</td>\n",
       "    </tr>\n",
       "    <tr>\n",
       "      <th>1118</th>\n",
       "      <td>2027</td>\n",
       "      <td>Remote-France</td>\n",
       "    </tr>\n",
       "    <tr>\n",
       "      <th>1119</th>\n",
       "      <td>2071</td>\n",
       "      <td>Remote - Colorado</td>\n",
       "    </tr>\n",
       "  </tbody>\n",
       "</table>\n",
       "<p>1120 rows × 2 columns</p>\n",
       "</div>"
      ],
      "text/plain": [
       "      Employee ID                 Location\n",
       "0               1                  Beijing\n",
       "1               4                  Beijing\n",
       "2               5                  Beijing\n",
       "3               6                  Beijing\n",
       "4               7                  Beijing\n",
       "...           ...                      ...\n",
       "1115         1991  Remote - North Carolina\n",
       "1116         1992  Remote - North Carolina\n",
       "1117         1993         Remote - Arizona\n",
       "1118         2027            Remote-France\n",
       "1119         2071        Remote - Colorado\n",
       "\n",
       "[1120 rows x 2 columns]"
      ]
     },
     "execution_count": 361,
     "metadata": {},
     "output_type": "execute_result"
    }
   ],
   "source": [
    "LocationbyEmployee"
   ]
  },
  {
   "cell_type": "code",
   "execution_count": null,
   "id": "d007698d",
   "metadata": {},
   "outputs": [],
   "source": []
  },
  {
   "cell_type": "code",
   "execution_count": 362,
   "id": "81fe0134",
   "metadata": {},
   "outputs": [
    {
     "name": "stderr",
     "output_type": "stream",
     "text": [
      "C:\\Users\\Jwendt\\AppData\\Local\\Temp\\ipykernel_1740\\3315622932.py:2: SettingWithCopyWarning: \n",
      "A value is trying to be set on a copy of a slice from a DataFrame.\n",
      "Try using .loc[row_indexer,col_indexer] = value instead\n",
      "\n",
      "See the caveats in the documentation: https://pandas.pydata.org/pandas-docs/stable/user_guide/indexing.html#returning-a-view-versus-a-copy\n",
      "  UtilizationRatesTalentPoolTable['Employee ID'] = UtilizationRatesTalentPoolTable['Employee ID'].astype(int)\n"
     ]
    }
   ],
   "source": [
    "UtilizationRatesTalentPoolTable = AllSalariesFinal[['Employee ID','Talent Pools', 'Utilization Target']]\n",
    "UtilizationRatesTalentPoolTable['Employee ID'] = UtilizationRatesTalentPoolTable['Employee ID'].astype(int)"
   ]
  },
  {
   "cell_type": "code",
   "execution_count": 363,
   "id": "79b46bc4",
   "metadata": {},
   "outputs": [],
   "source": [
    "UtilizationRatesTalentPoolTable = UtilizationRatesTalentPoolTable.drop_duplicates()"
   ]
  },
  {
   "cell_type": "code",
   "execution_count": 364,
   "id": "bd7369f7",
   "metadata": {},
   "outputs": [
    {
     "data": {
      "text/plain": [
       "743"
      ]
     },
     "execution_count": 364,
     "metadata": {},
     "output_type": "execute_result"
    }
   ],
   "source": [
    "len(UtilizationRatesTalentPoolTable)"
   ]
  },
  {
   "cell_type": "code",
   "execution_count": 365,
   "id": "266eb858",
   "metadata": {},
   "outputs": [
    {
     "data": {
      "text/plain": [
       "Employee ID             int32\n",
       "Talent Pools           object\n",
       "Utilization Target    float64\n",
       "dtype: object"
      ]
     },
     "execution_count": 365,
     "metadata": {},
     "output_type": "execute_result"
    }
   ],
   "source": [
    "UtilizationRatesTalentPoolTable.dtypes"
   ]
  },
  {
   "cell_type": "code",
   "execution_count": 366,
   "id": "3d516a59",
   "metadata": {},
   "outputs": [],
   "source": [
    "UtilizationRatesTalentPoolTable.dropna(subset=['Talent Pools'], inplace=True)"
   ]
  },
  {
   "cell_type": "code",
   "execution_count": 367,
   "id": "3f6e56c5",
   "metadata": {},
   "outputs": [
    {
     "data": {
      "text/plain": [
       "743"
      ]
     },
     "execution_count": 367,
     "metadata": {},
     "output_type": "execute_result"
    }
   ],
   "source": [
    "len(UtilizationRatesTalentPoolTable)"
   ]
  },
  {
   "cell_type": "code",
   "execution_count": 368,
   "id": "e9e564b1",
   "metadata": {},
   "outputs": [],
   "source": [
    "MissingTimeSheetIDs = TimesheetsNotSubmitted[['Employee ID']]"
   ]
  },
  {
   "cell_type": "code",
   "execution_count": 369,
   "id": "eac2efca",
   "metadata": {},
   "outputs": [],
   "source": [
    "MissingTimeSheetIDs = pd.merge(MissingTimeSheetIDs, UtilizationList, on = 'Employee ID', how = 'left')"
   ]
  },
  {
   "cell_type": "code",
   "execution_count": 370,
   "id": "4da00bb2",
   "metadata": {},
   "outputs": [],
   "source": [
    "MissingTimeSheetIDs['Talent Pools'] = 'Missing'"
   ]
  },
  {
   "cell_type": "code",
   "execution_count": 371,
   "id": "a111335d",
   "metadata": {},
   "outputs": [
    {
     "data": {
      "text/html": [
       "<div>\n",
       "<style scoped>\n",
       "    .dataframe tbody tr th:only-of-type {\n",
       "        vertical-align: middle;\n",
       "    }\n",
       "\n",
       "    .dataframe tbody tr th {\n",
       "        vertical-align: top;\n",
       "    }\n",
       "\n",
       "    .dataframe thead th {\n",
       "        text-align: right;\n",
       "    }\n",
       "</style>\n",
       "<table border=\"1\" class=\"dataframe\">\n",
       "  <thead>\n",
       "    <tr style=\"text-align: right;\">\n",
       "      <th></th>\n",
       "      <th>Employee ID</th>\n",
       "      <th>Utilization Target</th>\n",
       "      <th>Talent Pools</th>\n",
       "    </tr>\n",
       "  </thead>\n",
       "  <tbody>\n",
       "    <tr>\n",
       "      <th>0</th>\n",
       "      <td>1553.0</td>\n",
       "      <td>0.60</td>\n",
       "      <td>Missing</td>\n",
       "    </tr>\n",
       "    <tr>\n",
       "      <th>1</th>\n",
       "      <td>1673.0</td>\n",
       "      <td>0.65</td>\n",
       "      <td>Missing</td>\n",
       "    </tr>\n",
       "    <tr>\n",
       "      <th>2</th>\n",
       "      <td>584.0</td>\n",
       "      <td>0.60</td>\n",
       "      <td>Missing</td>\n",
       "    </tr>\n",
       "    <tr>\n",
       "      <th>3</th>\n",
       "      <td>1716.0</td>\n",
       "      <td>0.70</td>\n",
       "      <td>Missing</td>\n",
       "    </tr>\n",
       "    <tr>\n",
       "      <th>4</th>\n",
       "      <td>1394.0</td>\n",
       "      <td>0.65</td>\n",
       "      <td>Missing</td>\n",
       "    </tr>\n",
       "    <tr>\n",
       "      <th>5</th>\n",
       "      <td>1015.0</td>\n",
       "      <td>0.65</td>\n",
       "      <td>Missing</td>\n",
       "    </tr>\n",
       "    <tr>\n",
       "      <th>6</th>\n",
       "      <td>1008.0</td>\n",
       "      <td>0.60</td>\n",
       "      <td>Missing</td>\n",
       "    </tr>\n",
       "    <tr>\n",
       "      <th>7</th>\n",
       "      <td>820.0</td>\n",
       "      <td>0.70</td>\n",
       "      <td>Missing</td>\n",
       "    </tr>\n",
       "    <tr>\n",
       "      <th>8</th>\n",
       "      <td>642.0</td>\n",
       "      <td>0.60</td>\n",
       "      <td>Missing</td>\n",
       "    </tr>\n",
       "    <tr>\n",
       "      <th>9</th>\n",
       "      <td>887.0</td>\n",
       "      <td>0.60</td>\n",
       "      <td>Missing</td>\n",
       "    </tr>\n",
       "    <tr>\n",
       "      <th>10</th>\n",
       "      <td>1463.0</td>\n",
       "      <td>0.65</td>\n",
       "      <td>Missing</td>\n",
       "    </tr>\n",
       "    <tr>\n",
       "      <th>11</th>\n",
       "      <td>1367.0</td>\n",
       "      <td>0.65</td>\n",
       "      <td>Missing</td>\n",
       "    </tr>\n",
       "    <tr>\n",
       "      <th>12</th>\n",
       "      <td>1334.0</td>\n",
       "      <td>0.65</td>\n",
       "      <td>Missing</td>\n",
       "    </tr>\n",
       "    <tr>\n",
       "      <th>13</th>\n",
       "      <td>1516.0</td>\n",
       "      <td>0.60</td>\n",
       "      <td>Missing</td>\n",
       "    </tr>\n",
       "    <tr>\n",
       "      <th>14</th>\n",
       "      <td>1660.0</td>\n",
       "      <td>0.60</td>\n",
       "      <td>Missing</td>\n",
       "    </tr>\n",
       "    <tr>\n",
       "      <th>15</th>\n",
       "      <td>1649.0</td>\n",
       "      <td>0.70</td>\n",
       "      <td>Missing</td>\n",
       "    </tr>\n",
       "    <tr>\n",
       "      <th>16</th>\n",
       "      <td>1913.0</td>\n",
       "      <td>0.55</td>\n",
       "      <td>Missing</td>\n",
       "    </tr>\n",
       "    <tr>\n",
       "      <th>17</th>\n",
       "      <td>517.0</td>\n",
       "      <td>0.70</td>\n",
       "      <td>Missing</td>\n",
       "    </tr>\n",
       "    <tr>\n",
       "      <th>18</th>\n",
       "      <td>628.0</td>\n",
       "      <td>0.65</td>\n",
       "      <td>Missing</td>\n",
       "    </tr>\n",
       "    <tr>\n",
       "      <th>19</th>\n",
       "      <td>813.0</td>\n",
       "      <td>0.65</td>\n",
       "      <td>Missing</td>\n",
       "    </tr>\n",
       "    <tr>\n",
       "      <th>20</th>\n",
       "      <td>818.0</td>\n",
       "      <td>0.65</td>\n",
       "      <td>Missing</td>\n",
       "    </tr>\n",
       "  </tbody>\n",
       "</table>\n",
       "</div>"
      ],
      "text/plain": [
       "    Employee ID  Utilization Target Talent Pools\n",
       "0        1553.0                0.60      Missing\n",
       "1        1673.0                0.65      Missing\n",
       "2         584.0                0.60      Missing\n",
       "3        1716.0                0.70      Missing\n",
       "4        1394.0                0.65      Missing\n",
       "5        1015.0                0.65      Missing\n",
       "6        1008.0                0.60      Missing\n",
       "7         820.0                0.70      Missing\n",
       "8         642.0                0.60      Missing\n",
       "9         887.0                0.60      Missing\n",
       "10       1463.0                0.65      Missing\n",
       "11       1367.0                0.65      Missing\n",
       "12       1334.0                0.65      Missing\n",
       "13       1516.0                0.60      Missing\n",
       "14       1660.0                0.60      Missing\n",
       "15       1649.0                0.70      Missing\n",
       "16       1913.0                0.55      Missing\n",
       "17        517.0                0.70      Missing\n",
       "18        628.0                0.65      Missing\n",
       "19        813.0                0.65      Missing\n",
       "20        818.0                0.65      Missing"
      ]
     },
     "execution_count": 371,
     "metadata": {},
     "output_type": "execute_result"
    }
   ],
   "source": [
    "MissingTimeSheetIDs"
   ]
  },
  {
   "cell_type": "code",
   "execution_count": 372,
   "id": "36618359",
   "metadata": {},
   "outputs": [
    {
     "data": {
      "text/plain": [
       "5341"
      ]
     },
     "execution_count": 372,
     "metadata": {},
     "output_type": "execute_result"
    }
   ],
   "source": [
    "len(AllCostsAllocated)"
   ]
  },
  {
   "cell_type": "code",
   "execution_count": 373,
   "id": "316ca7c0",
   "metadata": {},
   "outputs": [
    {
     "data": {
      "text/html": [
       "<div>\n",
       "<style scoped>\n",
       "    .dataframe tbody tr th:only-of-type {\n",
       "        vertical-align: middle;\n",
       "    }\n",
       "\n",
       "    .dataframe tbody tr th {\n",
       "        vertical-align: top;\n",
       "    }\n",
       "\n",
       "    .dataframe thead th {\n",
       "        text-align: right;\n",
       "    }\n",
       "</style>\n",
       "<table border=\"1\" class=\"dataframe\">\n",
       "  <thead>\n",
       "    <tr style=\"text-align: right;\">\n",
       "      <th></th>\n",
       "      <th>Employee ID</th>\n",
       "      <th>Total Project Hours</th>\n",
       "      <th>Needed Project Hours</th>\n",
       "      <th>Adjusted Hours</th>\n",
       "      <th>Actual Utilization Rate</th>\n",
       "    </tr>\n",
       "  </thead>\n",
       "  <tbody>\n",
       "    <tr>\n",
       "      <th>0</th>\n",
       "      <td>1</td>\n",
       "      <td>106.0</td>\n",
       "      <td>101.2</td>\n",
       "      <td>184.0</td>\n",
       "      <td>0.576087</td>\n",
       "    </tr>\n",
       "    <tr>\n",
       "      <th>1</th>\n",
       "      <td>4</td>\n",
       "      <td>108.0</td>\n",
       "      <td>119.6</td>\n",
       "      <td>184.0</td>\n",
       "      <td>0.586957</td>\n",
       "    </tr>\n",
       "    <tr>\n",
       "      <th>2</th>\n",
       "      <td>5</td>\n",
       "      <td>136.0</td>\n",
       "      <td>110.4</td>\n",
       "      <td>184.0</td>\n",
       "      <td>0.739130</td>\n",
       "    </tr>\n",
       "    <tr>\n",
       "      <th>3</th>\n",
       "      <td>6</td>\n",
       "      <td>136.0</td>\n",
       "      <td>119.6</td>\n",
       "      <td>184.0</td>\n",
       "      <td>0.739130</td>\n",
       "    </tr>\n",
       "    <tr>\n",
       "      <th>4</th>\n",
       "      <td>7</td>\n",
       "      <td>116.0</td>\n",
       "      <td>119.6</td>\n",
       "      <td>184.0</td>\n",
       "      <td>0.630435</td>\n",
       "    </tr>\n",
       "    <tr>\n",
       "      <th>...</th>\n",
       "      <td>...</td>\n",
       "      <td>...</td>\n",
       "      <td>...</td>\n",
       "      <td>...</td>\n",
       "      <td>...</td>\n",
       "    </tr>\n",
       "    <tr>\n",
       "      <th>694</th>\n",
       "      <td>2063</td>\n",
       "      <td>13.0</td>\n",
       "      <td>57.6</td>\n",
       "      <td>144.0</td>\n",
       "      <td>0.090278</td>\n",
       "    </tr>\n",
       "    <tr>\n",
       "      <th>695</th>\n",
       "      <td>2064</td>\n",
       "      <td>187.0</td>\n",
       "      <td>128.8</td>\n",
       "      <td>184.0</td>\n",
       "      <td>1.016304</td>\n",
       "    </tr>\n",
       "    <tr>\n",
       "      <th>696</th>\n",
       "      <td>2069</td>\n",
       "      <td>37.2</td>\n",
       "      <td>57.6</td>\n",
       "      <td>144.0</td>\n",
       "      <td>0.258333</td>\n",
       "    </tr>\n",
       "    <tr>\n",
       "      <th>697</th>\n",
       "      <td>2070</td>\n",
       "      <td>28.0</td>\n",
       "      <td>44.8</td>\n",
       "      <td>64.0</td>\n",
       "      <td>0.437500</td>\n",
       "    </tr>\n",
       "    <tr>\n",
       "      <th>698</th>\n",
       "      <td>2074</td>\n",
       "      <td>9.5</td>\n",
       "      <td>5.6</td>\n",
       "      <td>11.2</td>\n",
       "      <td>0.848214</td>\n",
       "    </tr>\n",
       "  </tbody>\n",
       "</table>\n",
       "<p>699 rows × 5 columns</p>\n",
       "</div>"
      ],
      "text/plain": [
       "     Employee ID  Total Project Hours  Needed Project Hours  Adjusted Hours  \\\n",
       "0              1                106.0                 101.2           184.0   \n",
       "1              4                108.0                 119.6           184.0   \n",
       "2              5                136.0                 110.4           184.0   \n",
       "3              6                136.0                 119.6           184.0   \n",
       "4              7                116.0                 119.6           184.0   \n",
       "..           ...                  ...                   ...             ...   \n",
       "694         2063                 13.0                  57.6           144.0   \n",
       "695         2064                187.0                 128.8           184.0   \n",
       "696         2069                 37.2                  57.6           144.0   \n",
       "697         2070                 28.0                  44.8            64.0   \n",
       "698         2074                  9.5                   5.6            11.2   \n",
       "\n",
       "     Actual Utilization Rate  \n",
       "0                   0.576087  \n",
       "1                   0.586957  \n",
       "2                   0.739130  \n",
       "3                   0.739130  \n",
       "4                   0.630435  \n",
       "..                       ...  \n",
       "694                 0.090278  \n",
       "695                 1.016304  \n",
       "696                 0.258333  \n",
       "697                 0.437500  \n",
       "698                 0.848214  \n",
       "\n",
       "[699 rows x 5 columns]"
      ]
     },
     "execution_count": 373,
     "metadata": {},
     "output_type": "execute_result"
    }
   ],
   "source": [
    "HoursTable"
   ]
  },
  {
   "cell_type": "code",
   "execution_count": 374,
   "id": "83c77634",
   "metadata": {},
   "outputs": [],
   "source": [
    "MissingTimeSheetIDs['Needed Project Hours'] = MissingTimeSheetIDs['Utilization Target'] * AvailableHours\n",
    "MissingTimeSheetIDs['Total Project Hours'] = 0\n",
    "MissingTimeSheetIDs['Adjusted Hours'] = 0\n",
    "MissingTimeSheetIDs['Actual Utilization Rate'] = 0\n",
    "\n",
    "\n",
    "\n"
   ]
  },
  {
   "cell_type": "code",
   "execution_count": 375,
   "id": "04342d04",
   "metadata": {},
   "outputs": [],
   "source": [
    "MissingTimeSheetIDs = MissingTimeSheetIDs[['Employee ID', 'Needed Project Hours', 'Total Project Hours', 'Adjusted Hours', 'Actual Utilization Rate']]"
   ]
  },
  {
   "cell_type": "code",
   "execution_count": 376,
   "id": "49f959f9",
   "metadata": {},
   "outputs": [],
   "source": [
    "HoursTable2 = pd.concat([HoursTable, MissingTimeSheetIDs], ignore_index=True)"
   ]
  },
  {
   "cell_type": "code",
   "execution_count": 377,
   "id": "2ded0ce6",
   "metadata": {},
   "outputs": [
    {
     "data": {
      "text/plain": [
       "5341"
      ]
     },
     "execution_count": 377,
     "metadata": {},
     "output_type": "execute_result"
    }
   ],
   "source": [
    "len(AllCostsAllocated)"
   ]
  },
  {
   "cell_type": "code",
   "execution_count": 378,
   "id": "d5e83432",
   "metadata": {},
   "outputs": [],
   "source": [
    "AllCostsAllocated = pd.merge(AllCostsAllocated, HoursTable2, on = 'Employee ID', how = 'left')"
   ]
  },
  {
   "cell_type": "code",
   "execution_count": 379,
   "id": "3089904c",
   "metadata": {},
   "outputs": [
    {
     "data": {
      "text/plain": [
       "5341"
      ]
     },
     "execution_count": 379,
     "metadata": {},
     "output_type": "execute_result"
    }
   ],
   "source": [
    "len(AllCostsAllocated)"
   ]
  },
  {
   "cell_type": "code",
   "execution_count": 380,
   "id": "ac9b0a68",
   "metadata": {},
   "outputs": [],
   "source": [
    "AllCostsAllocated = pd.merge(AllCostsAllocated, EmployeeCostperHourTable, on = 'Employee ID', how = 'left')"
   ]
  },
  {
   "cell_type": "code",
   "execution_count": 381,
   "id": "afb045ed",
   "metadata": {},
   "outputs": [
    {
     "data": {
      "text/plain": [
       "5341"
      ]
     },
     "execution_count": 381,
     "metadata": {},
     "output_type": "execute_result"
    }
   ],
   "source": [
    "len(AllCostsAllocated)"
   ]
  },
  {
   "cell_type": "code",
   "execution_count": 382,
   "id": "42a77a52",
   "metadata": {},
   "outputs": [],
   "source": [
    "AllCostsAllocated = pd.merge(AllCostsAllocated, UtilizationList, on = 'Employee ID', how = 'left')"
   ]
  },
  {
   "cell_type": "code",
   "execution_count": null,
   "id": "4385b186",
   "metadata": {},
   "outputs": [],
   "source": []
  },
  {
   "cell_type": "code",
   "execution_count": null,
   "id": "2c9ad1ff",
   "metadata": {},
   "outputs": [],
   "source": []
  },
  {
   "cell_type": "code",
   "execution_count": 383,
   "id": "bd26eedf",
   "metadata": {},
   "outputs": [],
   "source": [
    "AllCostsAllocated['SalaryCosted'] = AllCostsAllocated['SalaryCosted'].round(2)\n",
    "AllCostsAllocated['BenefitsCosted'] = AllCostsAllocated['BenefitsCosted'].round(2)\n",
    "AllCostsAllocated['SharedCosted'] = AllCostsAllocated['SharedCosted'].round(2)\n",
    "AllCostsAllocated['BonusCosted'] = AllCostsAllocated['BonusCosted'].round(2)\n",
    "AllCostsAllocated['ConsultingFeesCosted'] = AllCostsAllocated['ConsultingFeesCosted'].round(2)"
   ]
  },
  {
   "cell_type": "code",
   "execution_count": 384,
   "id": "e454ff98",
   "metadata": {},
   "outputs": [],
   "source": [
    "AllCostsAllocated['BonusCosted'].fillna(0, inplace = True)\n",
    "AllCostsAllocated['ConsultingFeesCosted'].fillna(0, inplace = True)"
   ]
  },
  {
   "cell_type": "code",
   "execution_count": 385,
   "id": "68c3708b",
   "metadata": {},
   "outputs": [],
   "source": [
    "AllCostsAllocated['Total Cost'] = AllCostsAllocated['SalaryCosted'] + AllCostsAllocated['BenefitsCosted'] + AllCostsAllocated['SharedCosted'] + AllCostsAllocated['BonusCosted'] + AllCostsAllocated['ConsultingFeesCosted']"
   ]
  },
  {
   "cell_type": "code",
   "execution_count": 386,
   "id": "a73ff3e1",
   "metadata": {},
   "outputs": [],
   "source": [
    "AllCostsAllocated['Admin Hours Percentage'] = pd.to_numeric(AllCostsAllocated['Admin Hours Percentage'])"
   ]
  },
  {
   "cell_type": "code",
   "execution_count": 387,
   "id": "74aa7a3c",
   "metadata": {},
   "outputs": [
    {
     "data": {
      "text/html": [
       "<div>\n",
       "<style scoped>\n",
       "    .dataframe tbody tr th:only-of-type {\n",
       "        vertical-align: middle;\n",
       "    }\n",
       "\n",
       "    .dataframe tbody tr th {\n",
       "        vertical-align: top;\n",
       "    }\n",
       "\n",
       "    .dataframe thead th {\n",
       "        text-align: right;\n",
       "    }\n",
       "</style>\n",
       "<table border=\"1\" class=\"dataframe\">\n",
       "  <thead>\n",
       "    <tr style=\"text-align: right;\">\n",
       "      <th></th>\n",
       "      <th>Employee ID</th>\n",
       "      <th>Utilization Target</th>\n",
       "      <th>Talent Pools</th>\n",
       "    </tr>\n",
       "  </thead>\n",
       "  <tbody>\n",
       "    <tr>\n",
       "      <th>0</th>\n",
       "      <td>1</td>\n",
       "      <td>0.55</td>\n",
       "      <td>Managing Director</td>\n",
       "    </tr>\n",
       "    <tr>\n",
       "      <th>1</th>\n",
       "      <td>4</td>\n",
       "      <td>0.65</td>\n",
       "      <td>Manager</td>\n",
       "    </tr>\n",
       "    <tr>\n",
       "      <th>2</th>\n",
       "      <td>5</td>\n",
       "      <td>0.60</td>\n",
       "      <td>Principal</td>\n",
       "    </tr>\n",
       "    <tr>\n",
       "      <th>3</th>\n",
       "      <td>6</td>\n",
       "      <td>0.65</td>\n",
       "      <td>Manager</td>\n",
       "    </tr>\n",
       "    <tr>\n",
       "      <th>4</th>\n",
       "      <td>7</td>\n",
       "      <td>0.65</td>\n",
       "      <td>Manager</td>\n",
       "    </tr>\n",
       "    <tr>\n",
       "      <th>...</th>\n",
       "      <td>...</td>\n",
       "      <td>...</td>\n",
       "      <td>...</td>\n",
       "    </tr>\n",
       "    <tr>\n",
       "      <th>1115</th>\n",
       "      <td>1991</td>\n",
       "      <td>0.00</td>\n",
       "      <td>NaN</td>\n",
       "    </tr>\n",
       "    <tr>\n",
       "      <th>1116</th>\n",
       "      <td>1992</td>\n",
       "      <td>0.00</td>\n",
       "      <td>NaN</td>\n",
       "    </tr>\n",
       "    <tr>\n",
       "      <th>1117</th>\n",
       "      <td>1993</td>\n",
       "      <td>0.00</td>\n",
       "      <td>NaN</td>\n",
       "    </tr>\n",
       "    <tr>\n",
       "      <th>1118</th>\n",
       "      <td>2027</td>\n",
       "      <td>0.00</td>\n",
       "      <td>NaN</td>\n",
       "    </tr>\n",
       "    <tr>\n",
       "      <th>1119</th>\n",
       "      <td>2071</td>\n",
       "      <td>0.00</td>\n",
       "      <td>NaN</td>\n",
       "    </tr>\n",
       "  </tbody>\n",
       "</table>\n",
       "<p>1120 rows × 3 columns</p>\n",
       "</div>"
      ],
      "text/plain": [
       "      Employee ID  Utilization Target       Talent Pools\n",
       "0               1                0.55  Managing Director\n",
       "1               4                0.65            Manager\n",
       "2               5                0.60          Principal\n",
       "3               6                0.65            Manager\n",
       "4               7                0.65            Manager\n",
       "...           ...                 ...                ...\n",
       "1115         1991                0.00                NaN\n",
       "1116         1992                0.00                NaN\n",
       "1117         1993                0.00                NaN\n",
       "1118         2027                0.00                NaN\n",
       "1119         2071                0.00                NaN\n",
       "\n",
       "[1120 rows x 3 columns]"
      ]
     },
     "execution_count": 387,
     "metadata": {},
     "output_type": "execute_result"
    }
   ],
   "source": [
    "UtilizationList"
   ]
  },
  {
   "cell_type": "code",
   "execution_count": 388,
   "id": "634272eb",
   "metadata": {},
   "outputs": [],
   "source": [
    "AllCostsAllocated['Cost per Project Hour'] = np.where(AllCostsAllocated['Talent Pools']=='Missing', AllCostsAllocated['Total Cost'] / AllCostsAllocated['Needed Project Hours'], AllCostsAllocated['Cost per Project Hour'])"
   ]
  },
  {
   "cell_type": "code",
   "execution_count": 389,
   "id": "300009a7",
   "metadata": {},
   "outputs": [
    {
     "data": {
      "text/plain": [
       "44.793465     170\n",
       "129.120471    124\n",
       "45.132137     117\n",
       "34.492588     100\n",
       "55.483230      66\n",
       "             ... \n",
       "65.424696       1\n",
       "111.086019      1\n",
       "78.830398       1\n",
       "108.952159      1\n",
       "85.608054       1\n",
       "Name: Cost per Project Hour, Length: 717, dtype: int64"
      ]
     },
     "execution_count": 389,
     "metadata": {},
     "output_type": "execute_result"
    }
   ],
   "source": [
    "AllCostsAllocated['Cost per Project Hour'].value_counts()"
   ]
  },
  {
   "cell_type": "code",
   "execution_count": 390,
   "id": "936cfa71",
   "metadata": {},
   "outputs": [],
   "source": [
    "AllCostsAllocated['Cost per Project Hour'].fillna(0, inplace=True)"
   ]
  },
  {
   "cell_type": "code",
   "execution_count": 391,
   "id": "2bb60191",
   "metadata": {},
   "outputs": [],
   "source": [
    "AllCostsAllocated['File'] = Type"
   ]
  },
  {
   "cell_type": "code",
   "execution_count": 392,
   "id": "c688810d",
   "metadata": {},
   "outputs": [
    {
     "data": {
      "text/plain": [
       "5341"
      ]
     },
     "execution_count": 392,
     "metadata": {},
     "output_type": "execute_result"
    }
   ],
   "source": [
    "len(AllCostsAllocated)"
   ]
  },
  {
   "cell_type": "code",
   "execution_count": 393,
   "id": "cc3b1c7c",
   "metadata": {},
   "outputs": [
    {
     "data": {
      "text/plain": [
       "Fully Utilized                  2285\n",
       "UnderUtilizedProject            1371\n",
       "India                           1173\n",
       "Admin Time for UnderUtilized     251\n",
       "PTO Time for UnderUtilized       240\n",
       "TimeSheetsNotSubmitted            21\n",
       "Name: Type, dtype: int64"
      ]
     },
     "execution_count": 393,
     "metadata": {},
     "output_type": "execute_result"
    }
   ],
   "source": [
    "AllCostsAllocated['Type'].value_counts()"
   ]
  },
  {
   "cell_type": "code",
   "execution_count": 394,
   "id": "4263652c",
   "metadata": {},
   "outputs": [],
   "source": [
    "AllCostsAllocated['Project PTO or Admin'] = np.where(AllCostsAllocated['Type'] == 'PTO Time for UnderUtilized', 'PTO', np.where(AllCostsAllocated['Type'] == 'Admin Time for UnderUtilized', 'Admin', np.where(AllCostsAllocated['Type'] == 'TimeSheetsNotSubmitted', 'Admin','Project')))"
   ]
  },
  {
   "cell_type": "code",
   "execution_count": 395,
   "id": "b586d507",
   "metadata": {},
   "outputs": [
    {
     "data": {
      "text/plain": [
       "Project    4829\n",
       "Admin       272\n",
       "PTO         240\n",
       "Name: Project PTO or Admin, dtype: int64"
      ]
     },
     "execution_count": 395,
     "metadata": {},
     "output_type": "execute_result"
    }
   ],
   "source": [
    "AllCostsAllocated['Project PTO or Admin'].value_counts()"
   ]
  },
  {
   "cell_type": "code",
   "execution_count": null,
   "id": "60e9010b",
   "metadata": {},
   "outputs": [],
   "source": []
  },
  {
   "cell_type": "code",
   "execution_count": 396,
   "id": "151fa2bf",
   "metadata": {},
   "outputs": [],
   "source": [
    "\n",
    "AllCostsAllocated = pd.merge(AllCostsAllocated, StandardCostTable, on = 'Employee ID', how = 'left')"
   ]
  },
  {
   "cell_type": "code",
   "execution_count": null,
   "id": "0c1133f8",
   "metadata": {},
   "outputs": [],
   "source": []
  },
  {
   "cell_type": "code",
   "execution_count": 397,
   "id": "9620c9b5",
   "metadata": {},
   "outputs": [],
   "source": [
    "AllCostsAllocated['Amount Banked per Hour'] = AllCostsAllocated['Standard Monthly Cost'] - AllCostsAllocated['Cost per Project Hour'] "
   ]
  },
  {
   "cell_type": "code",
   "execution_count": 398,
   "id": "b3434cc4",
   "metadata": {},
   "outputs": [
    {
     "data": {
      "text/plain": [
       "Worker                       object\n",
       "Employee ID                 float64\n",
       "SalaryCosted                float64\n",
       "BenefitsCosted              float64\n",
       "SharedCosted                float64\n",
       "BonusCosted                 float64\n",
       "Initiative                   object\n",
       "Cost Center                  object\n",
       "ConsultingFeesCosted        float64\n",
       "Type                         object\n",
       "Project Hours Percentage     object\n",
       "Admin Hours Percentage      float64\n",
       "Lobbying                     object\n",
       "Lobbying Location            object\n",
       "Project or Admin             object\n",
       "Project                      object\n",
       "Worker Cost Center           object\n",
       "Project Plan Task            object\n",
       "Project Plan Task ID         object\n",
       "PTO more than Admin          object\n",
       "Location                     object\n",
       "Total Project Hours         float64\n",
       "Needed Project Hours        float64\n",
       "Adjusted Hours              float64\n",
       "Actual Utilization Rate     float64\n",
       "Cost per Project Hour       float64\n",
       "Utilization Target          float64\n",
       "Talent Pools                 object\n",
       "Total Cost                  float64\n",
       "File                         object\n",
       "Project PTO or Admin         object\n",
       "Standard Monthly Cost       float64\n",
       "Amount Banked per Hour      float64\n",
       "dtype: object"
      ]
     },
     "execution_count": 398,
     "metadata": {},
     "output_type": "execute_result"
    }
   ],
   "source": [
    "AllCostsAllocated.dtypes"
   ]
  },
  {
   "cell_type": "code",
   "execution_count": 399,
   "id": "5a71ebc7",
   "metadata": {},
   "outputs": [],
   "source": [
    "AllCostsAllocated['Hours'] = AllCostsAllocated['Total Cost'] / AllCostsAllocated['Cost per Project Hour']\n",
    "AllCostsAllocated['Hours'] = AllCostsAllocated['Hours'].round(2)"
   ]
  },
  {
   "cell_type": "code",
   "execution_count": 400,
   "id": "be7a1f7b",
   "metadata": {},
   "outputs": [],
   "source": [
    "AllCostsAllocated['Amount Banked'] = AllCostsAllocated['Hours'] * AllCostsAllocated['Amount Banked per Hour']"
   ]
  },
  {
   "cell_type": "code",
   "execution_count": 401,
   "id": "5026794f",
   "metadata": {},
   "outputs": [],
   "source": [
    "AllCostsAllocated = pd.merge(AllCostsAllocated, PTOtable, on = 'Employee ID', how = 'left')"
   ]
  },
  {
   "cell_type": "code",
   "execution_count": 402,
   "id": "42b73af1",
   "metadata": {},
   "outputs": [
    {
     "data": {
      "text/plain": [
       "Index(['Employee', 'Employee ID', 'Net Amount', 'Cost Center', 'Category',\n",
       "       'Hire Date', 'Termination Date', 'Location', 'Available Days',\n",
       "       'Bonus Final', 'Benefits per Employee', 'Shared per Employee',\n",
       "       'FileType', 'Consulting Per Employee', 'FTE', 'Adjusted Hours',\n",
       "       'Project Plan Task Home', 'Project Plan Task ID Home', 'Initiative',\n",
       "       'Project Plan Task PTO', 'Project Plan Task ID PTO', 'Fully Utilized',\n",
       "       'Needed Project Hours', 'Total Project Hours', 'Timesheet Submitted',\n",
       "       'Total Cost', 'Hours for Project Hour Calc', 'Cost per Project Hour',\n",
       "       'Standard Monthly Cost', 'Utilization Target', 'Talent Pools'],\n",
       "      dtype='object')"
      ]
     },
     "execution_count": 402,
     "metadata": {},
     "output_type": "execute_result"
    }
   ],
   "source": [
    "AllSalariesFinal.columns"
   ]
  },
  {
   "cell_type": "code",
   "execution_count": 403,
   "id": "bb7a44c9",
   "metadata": {},
   "outputs": [
    {
     "data": {
      "text/plain": [
       "Index(['Worker', 'Employee ID', 'SalaryCosted', 'BenefitsCosted',\n",
       "       'SharedCosted', 'BonusCosted', 'Initiative', 'Cost Center',\n",
       "       'ConsultingFeesCosted', 'Type', 'Project Hours Percentage',\n",
       "       'Admin Hours Percentage', 'Lobbying', 'Lobbying Location',\n",
       "       'Project or Admin', 'Project', 'Worker Cost Center',\n",
       "       'Project Plan Task', 'Project Plan Task ID', 'PTO more than Admin',\n",
       "       'Location', 'Total Project Hours', 'Needed Project Hours',\n",
       "       'Adjusted Hours', 'Actual Utilization Rate', 'Cost per Project Hour',\n",
       "       'Utilization Target', 'Talent Pools', 'Total Cost', 'File',\n",
       "       'Project PTO or Admin', 'Standard Monthly Cost',\n",
       "       'Amount Banked per Hour', 'Hours', 'Amount Banked',\n",
       "       'Total Monthly PTO Hours'],\n",
       "      dtype='object')"
      ]
     },
     "execution_count": 403,
     "metadata": {},
     "output_type": "execute_result"
    }
   ],
   "source": [
    "AllCostsAllocated.columns"
   ]
  },
  {
   "cell_type": "code",
   "execution_count": 404,
   "id": "31e902b0",
   "metadata": {},
   "outputs": [],
   "source": [
    "AllCostsAllocated['Cost per PTO Hour'] = np.where(AllCostsAllocated['Project PTO or Admin'] == 'PTO', AllCostsAllocated['Total Cost']/AllCostsAllocated['Total Monthly PTO Hours'],0)"
   ]
  },
  {
   "cell_type": "code",
   "execution_count": 405,
   "id": "817a50ee",
   "metadata": {},
   "outputs": [],
   "source": [
    "AllCostsAllocated['Project & PTO Hours'] = np.where(AllCostsAllocated['Project PTO or Admin'] == 'Project', AllCostsAllocated['Hours'],np.where(AllCostsAllocated['Project PTO or Admin'] == 'PTO', AllCostsAllocated['Total Monthly PTO Hours'],0))"
   ]
  },
  {
   "cell_type": "code",
   "execution_count": 406,
   "id": "293711eb",
   "metadata": {},
   "outputs": [
    {
     "data": {
      "text/plain": [
       "Index(['Worker', 'Employee ID', 'SalaryCosted', 'BenefitsCosted',\n",
       "       'SharedCosted', 'BonusCosted', 'Initiative', 'Cost Center',\n",
       "       'ConsultingFeesCosted', 'Type', 'Project Hours Percentage',\n",
       "       'Admin Hours Percentage', 'Lobbying', 'Lobbying Location',\n",
       "       'Project or Admin', 'Project', 'Worker Cost Center',\n",
       "       'Project Plan Task', 'Project Plan Task ID', 'PTO more than Admin',\n",
       "       'Location', 'Total Project Hours', 'Needed Project Hours',\n",
       "       'Adjusted Hours', 'Actual Utilization Rate', 'Cost per Project Hour',\n",
       "       'Utilization Target', 'Talent Pools', 'Total Cost', 'File',\n",
       "       'Project PTO or Admin', 'Standard Monthly Cost',\n",
       "       'Amount Banked per Hour', 'Hours', 'Amount Banked',\n",
       "       'Total Monthly PTO Hours', 'Cost per PTO Hour', 'Project & PTO Hours'],\n",
       "      dtype='object')"
      ]
     },
     "execution_count": 406,
     "metadata": {},
     "output_type": "execute_result"
    }
   ],
   "source": [
    "AllCostsAllocated.columns"
   ]
  },
  {
   "cell_type": "code",
   "execution_count": 407,
   "id": "dc0619d0",
   "metadata": {},
   "outputs": [],
   "source": [
    "AllCostsAllocated = AllCostsAllocated[['Worker', 'Employee ID', 'Project Plan Task', 'Project Plan Task ID',\n",
    "       'SalaryCosted', 'BenefitsCosted', 'SharedCosted', 'BonusCosted',\n",
    "       'Initiative', 'Cost Center', 'ConsultingFeesCosted', 'Type',\n",
    "       'Project Hours Percentage', 'Admin Hours Percentage', 'Lobbying',\n",
    "       'Lobbying Location', 'Project or Admin', 'Project',\n",
    "       'Worker Cost Center', 'PTO more than Admin', 'Location',\n",
    "       'Total Project Hours', 'Needed Project Hours', 'Adjusted Hours',\n",
    "       'Actual Utilization Rate', 'Cost per Project Hour',\n",
    "       'Utilization Target', 'Talent Pools', 'Total Cost', 'File',\n",
    "       'Project PTO or Admin', 'Standard Monthly Cost',\n",
    "       'Amount Banked per Hour', 'Amount Banked', 'Cost per PTO Hour', 'Project & PTO Hours']]"
   ]
  },
  {
   "cell_type": "code",
   "execution_count": 408,
   "id": "427895d9",
   "metadata": {},
   "outputs": [],
   "source": [
    "#AllCostsAllocated['Employee ID'] = AllCostsAllocated['Employee ID'].apply(add_zeros)"
   ]
  },
  {
   "cell_type": "code",
   "execution_count": 409,
   "id": "445e3fe6",
   "metadata": {},
   "outputs": [],
   "source": [
    "AllCostsAllocated.to_excel('./Outputs/AllCostsAllocated'+Type+timestampreport+'.xlsx')"
   ]
  },
  {
   "cell_type": "markdown",
   "id": "4c783d73",
   "metadata": {},
   "source": [
    "# Create Hours Report Data Table"
   ]
  },
  {
   "cell_type": "code",
   "execution_count": 410,
   "id": "21e0b4d5",
   "metadata": {},
   "outputs": [],
   "source": [
    "allsalariestotime = AllSalariesFinal[['Employee', 'Employee ID', 'Cost Center', 'Category',\n",
    "       'Hire Date', 'Termination Date', 'Location', 'Available Days','FileType', 'FTE', 'Adjusted Hours', 'Project Plan Task Home',\n",
    "       'Project Plan Task ID Home', 'Initiative', 'Fully Utilized',\n",
    "       'Total Project Hours', 'Timesheet Submitted', 'Talent Pools',\n",
    "       'Utilization Target']]"
   ]
  },
  {
   "cell_type": "code",
   "execution_count": 411,
   "id": "aec6c503",
   "metadata": {},
   "outputs": [
    {
     "data": {
      "text/plain": [
       "Index(['Employee ID', 'Talent Pool', 'Worker', 'Worker Cost Center', 'Project',\n",
       "       'Hire Date', 'Termination Date', 'Needed Project Hours',\n",
       "       'Total Employee Project Hours', 'Project Group',\n",
       "       'Actual Utilization Rate', 'Utilization Target', 'Total Project Hours',\n",
       "       'Fully Utilized'],\n",
       "      dtype='object')"
      ]
     },
     "execution_count": 411,
     "metadata": {},
     "output_type": "execute_result"
    }
   ],
   "source": [
    "EmployeeTimeProjectLookupTable.columns"
   ]
  },
  {
   "cell_type": "code",
   "execution_count": null,
   "id": "31f22cca",
   "metadata": {},
   "outputs": [],
   "source": []
  },
  {
   "cell_type": "code",
   "execution_count": 412,
   "id": "01c574f5",
   "metadata": {},
   "outputs": [],
   "source": [
    "AllSalariesFinal['Needed Project Hours'].fillna(.1, inplace=True)\n",
    "AllSalariesFinal['Total Project Hours'].fillna(0, inplace=True)\n",
    "AllSalariesFinal['Timesheet Submitted'].fillna('No', inplace=True)\n"
   ]
  },
  {
   "cell_type": "code",
   "execution_count": 413,
   "id": "31aed5b9",
   "metadata": {},
   "outputs": [],
   "source": [
    "AllSalariesFinal['Percent Utilized'] = AllSalariesFinal['Total Project Hours']/AllSalariesFinal['Needed Project Hours']"
   ]
  },
  {
   "cell_type": "code",
   "execution_count": 414,
   "id": "c0796958",
   "metadata": {},
   "outputs": [],
   "source": [
    "AllSalariesFinal['On Leave'] = AllSalariesFinal['Employee'].str.contains(\"On Leave\")"
   ]
  },
  {
   "cell_type": "code",
   "execution_count": null,
   "id": "e18e9fb2",
   "metadata": {},
   "outputs": [],
   "source": []
  },
  {
   "cell_type": "code",
   "execution_count": 415,
   "id": "94dc9d17",
   "metadata": {},
   "outputs": [],
   "source": [
    "AllSalariesFinal['Bank per Hour'] = AllSalariesFinal['Standard Monthly Cost'] - AllSalariesFinal['Cost per Project Hour']"
   ]
  },
  {
   "cell_type": "code",
   "execution_count": 416,
   "id": "ec95de90",
   "metadata": {},
   "outputs": [],
   "source": [
    "AllSalariesFinal['Total Banked'] = np.where(AllSalariesFinal['Fully Utilized'] == \"Fully Utilized\", AllSalariesFinal['Total Project Hours'] * AllSalariesFinal['Bank per Hour'], 0)"
   ]
  },
  {
   "cell_type": "code",
   "execution_count": null,
   "id": "2fd7b046",
   "metadata": {},
   "outputs": [],
   "source": []
  },
  {
   "cell_type": "code",
   "execution_count": 417,
   "id": "5666d917",
   "metadata": {},
   "outputs": [
    {
     "data": {
      "text/plain": [
       "Index(['Employee', 'Employee ID', 'Net Amount', 'Cost Center', 'Category',\n",
       "       'Hire Date', 'Termination Date', 'Location', 'Available Days',\n",
       "       'Bonus Final', 'Benefits per Employee', 'Shared per Employee',\n",
       "       'FileType', 'Consulting Per Employee', 'FTE', 'Adjusted Hours',\n",
       "       'Project Plan Task Home', 'Project Plan Task ID Home', 'Initiative',\n",
       "       'Project Plan Task PTO', 'Project Plan Task ID PTO', 'Fully Utilized',\n",
       "       'Needed Project Hours', 'Total Project Hours', 'Timesheet Submitted',\n",
       "       'Total Cost', 'Hours for Project Hour Calc', 'Cost per Project Hour',\n",
       "       'Standard Monthly Cost', 'Utilization Target', 'Talent Pools',\n",
       "       'Percent Utilized', 'On Leave', 'Bank per Hour', 'Total Banked'],\n",
       "      dtype='object')"
      ]
     },
     "execution_count": 417,
     "metadata": {},
     "output_type": "execute_result"
    }
   ],
   "source": [
    "AllSalariesFinal.columns"
   ]
  },
  {
   "cell_type": "code",
   "execution_count": 418,
   "id": "59d10521",
   "metadata": {},
   "outputs": [],
   "source": [
    "AllSalariesFinal['SalaryPercentage'] = AllSalariesFinal['Net Amount']/AllSalariesFinal['Total Cost']\n",
    "AllSalariesFinal['BenefitsPercentage'] = AllSalariesFinal['Benefits per Employee']/AllSalariesFinal['Total Cost']\n",
    "AllSalariesFinal['SharedPercentage'] = AllSalariesFinal['Shared per Employee']/AllSalariesFinal['Total Cost']\n",
    "AllSalariesFinal['BonusPercentage'] = AllSalariesFinal['Bonus Final']/AllSalariesFinal['Total Cost']\n"
   ]
  },
  {
   "cell_type": "code",
   "execution_count": 419,
   "id": "e3cb6e63",
   "metadata": {},
   "outputs": [],
   "source": [
    "salarypercentages_table = AllSalariesFinal[['Employee ID', 'SalaryPercentage', 'BenefitsPercentage', 'SharedPercentage', 'BonusPercentage']]"
   ]
  },
  {
   "cell_type": "code",
   "execution_count": null,
   "id": "45b7e5a7",
   "metadata": {},
   "outputs": [],
   "source": []
  },
  {
   "cell_type": "code",
   "execution_count": 420,
   "id": "382d359f",
   "metadata": {},
   "outputs": [],
   "source": [
    "AllSalariesFinal['Employee ID'] = AllSalariesFinal['Employee ID'].apply(add_zeros)"
   ]
  },
  {
   "cell_type": "code",
   "execution_count": 421,
   "id": "de9a5aad",
   "metadata": {},
   "outputs": [],
   "source": [
    "AllSalariesFinal.to_excel('./Outputs/AllSalaries'+Type+timestampreport+'.xlsx')"
   ]
  },
  {
   "cell_type": "code",
   "execution_count": 422,
   "id": "72256cf8",
   "metadata": {},
   "outputs": [],
   "source": [
    "EmployeeTimeProjectLookupTable.to_excel('./Outputs/ProjectTimeTable'+Type+timestampreport+'.xlsx')"
   ]
  },
  {
   "cell_type": "code",
   "execution_count": null,
   "id": "202da33c",
   "metadata": {},
   "outputs": [],
   "source": []
  },
  {
   "cell_type": "markdown",
   "id": "60dea6ee",
   "metadata": {},
   "source": [
    "# Create PTO Bank File"
   ]
  },
  {
   "cell_type": "code",
   "execution_count": null,
   "id": "eea65dc2",
   "metadata": {},
   "outputs": [],
   "source": []
  },
  {
   "cell_type": "code",
   "execution_count": null,
   "id": "84eb7d81",
   "metadata": {},
   "outputs": [],
   "source": []
  },
  {
   "cell_type": "code",
   "execution_count": null,
   "id": "39611be5",
   "metadata": {},
   "outputs": [],
   "source": []
  },
  {
   "cell_type": "code",
   "execution_count": 423,
   "id": "d433a5ac",
   "metadata": {},
   "outputs": [],
   "source": [
    "PTOBank = AllCostsAllocated"
   ]
  },
  {
   "cell_type": "code",
   "execution_count": 424,
   "id": "04241e3b",
   "metadata": {},
   "outputs": [],
   "source": [
    "PTOBank[\"Bank Month\"] = timestampreport"
   ]
  },
  {
   "cell_type": "code",
   "execution_count": 425,
   "id": "d1ea2547",
   "metadata": {},
   "outputs": [],
   "source": [
    "FundingSourceRules = './Source_Files/Find_Funding_Source_Rule_w_Project_Task_10.11.24.xlsx'\n",
    "\n",
    "FundingSourceRulesData = pd.read_excel(FundingSourceRules, header=1, engine='openpyxl')"
   ]
  },
  {
   "cell_type": "code",
   "execution_count": 426,
   "id": "e3c6b39b",
   "metadata": {},
   "outputs": [
    {
     "data": {
      "text/plain": [
       "Index(['Project Plan Task ID', 'Project Task', 'Project ID',\n",
       "       'Funding Source Rule', 'Project/Project Hierarchy',\n",
       "       'Company/Company Hierarchy', 'Evaluation Date Option',\n",
       "       'Default Funding Source', 'Inactive', 'Funding Source Condition Rule',\n",
       "       'Funding Source Priority', 'Funding Source', 'Funding Source Count',\n",
       "       'Funding Source Greater than 1', 'Detail 1', 'Detail 2', 'Detail 3',\n",
       "       'Detail 4', '% - Detail 1', '% - Detail 2', '% - Detail 3',\n",
       "       '% - Detail 4', 'Funding Source Priority Details'],\n",
       "      dtype='object')"
      ]
     },
     "execution_count": 426,
     "metadata": {},
     "output_type": "execute_result"
    }
   ],
   "source": [
    "FundingSourceRulesData.columns"
   ]
  },
  {
   "cell_type": "code",
   "execution_count": 427,
   "id": "b250c583",
   "metadata": {},
   "outputs": [],
   "source": [
    "FundingSourceRulesData['Detail 1B'] = FundingSourceRulesData.groupby('Project ID')['Detail 1'].transform('first')\n",
    "FundingSourceRulesData['Detail 2B'] = FundingSourceRulesData.groupby('Project ID')['Detail 2'].transform('first')\n",
    "FundingSourceRulesData['Detail 3B'] = FundingSourceRulesData.groupby('Project ID')['Detail 3'].transform('first')\n",
    "FundingSourceRulesData['Detail 4B'] = FundingSourceRulesData.groupby('Project ID')['Detail 4'].transform('first')\n",
    "FundingSourceRulesData['% - Detail 1B'] = FundingSourceRulesData.groupby('Project ID')['% - Detail 1'].transform('first')\n",
    "FundingSourceRulesData['% - Detail 2B'] = FundingSourceRulesData.groupby('Project ID')['% - Detail 2'].transform('first')\n",
    "FundingSourceRulesData['% - Detail 3B'] = FundingSourceRulesData.groupby('Project ID')['% - Detail 3'].transform('first')\n",
    "FundingSourceRulesData['% - Detail 4B'] = FundingSourceRulesData.groupby('Project ID')['% - Detail 4'].transform('first')\n",
    "\n"
   ]
  },
  {
   "cell_type": "code",
   "execution_count": 428,
   "id": "3ae5a5d2",
   "metadata": {},
   "outputs": [],
   "source": [
    "FundingSourceRulesData['Detail 1C'] = FundingSourceRulesData['Detail 1'].fillna(FundingSourceRulesData['Detail 1B'])\n",
    "FundingSourceRulesData['Detail 2C'] = FundingSourceRulesData['Detail 2'].fillna(FundingSourceRulesData['Detail 2B'])\n",
    "FundingSourceRulesData['Detail 3C'] = FundingSourceRulesData['Detail 3'].fillna(FundingSourceRulesData['Detail 3B'])\n",
    "FundingSourceRulesData['Detail 4C'] = FundingSourceRulesData['Detail 4'].fillna(FundingSourceRulesData['Detail 4B'])\n",
    "FundingSourceRulesData['% - Detail 1C'] = FundingSourceRulesData['% - Detail 1'].fillna(FundingSourceRulesData['% - Detail 1B'])\n",
    "FundingSourceRulesData['% - Detail 2C'] = FundingSourceRulesData['% - Detail 2'].fillna(FundingSourceRulesData['% - Detail 2B'])\n",
    "FundingSourceRulesData['% - Detail 3C'] = FundingSourceRulesData['% - Detail 3'].fillna(FundingSourceRulesData['% - Detail 3B'])\n",
    "FundingSourceRulesData['% - Detail 4C'] = FundingSourceRulesData['% - Detail 4'].fillna(FundingSourceRulesData['% - Detail 4B'])"
   ]
  },
  {
   "cell_type": "code",
   "execution_count": 429,
   "id": "19a3e131",
   "metadata": {},
   "outputs": [],
   "source": [
    "FundingSourceRulesData = FundingSourceRulesData[['Project Plan Task ID', 'Project Task', 'Project ID',\n",
    "       'Funding Source Rule', 'Project/Project Hierarchy',\n",
    "       'Company/Company Hierarchy', 'Evaluation Date Option',\n",
    "       'Default Funding Source', 'Inactive', 'Funding Source Condition Rule',\n",
    "       'Funding Source Priority', 'Funding Source', 'Funding Source Count',\n",
    "       'Funding Source Greater than 1', 'Detail 1C', 'Detail 2C', 'Detail 3C',\n",
    "       'Detail 4C', '% - Detail 1C', '% - Detail 2C', '% - Detail 3C',\n",
    "       '% - Detail 4C']]"
   ]
  },
  {
   "cell_type": "code",
   "execution_count": 430,
   "id": "3ea70ca0",
   "metadata": {},
   "outputs": [],
   "source": [
    "FundingSourceRulesData = FundingSourceRulesData.rename(columns={'Detail 1C': 'Detail 1', 'Detail 2C': 'Detail 2', 'Detail 3C': 'Detail 3', 'Detail 4C': 'Detail 4', '% - Detail 1C': '% - Detail 1', '% - Detail 2C': '% - Detail 2', '% - Detail 3C': '% - Detail 3', '% - Detail 4C': '% - Detail 4'})"
   ]
  },
  {
   "cell_type": "code",
   "execution_count": null,
   "id": "7d81f21b",
   "metadata": {},
   "outputs": [],
   "source": []
  },
  {
   "cell_type": "code",
   "execution_count": null,
   "id": "0d8ac21b",
   "metadata": {},
   "outputs": [],
   "source": []
  },
  {
   "cell_type": "code",
   "execution_count": null,
   "id": "1ba10732",
   "metadata": {},
   "outputs": [],
   "source": []
  },
  {
   "cell_type": "code",
   "execution_count": 431,
   "id": "4e731a5f",
   "metadata": {},
   "outputs": [],
   "source": [
    "FundingSourceRulesData.to_excel('./Outputs/FundingSourceRulesCLEANED'+Type+timestampreport+'.xlsx')"
   ]
  },
  {
   "cell_type": "code",
   "execution_count": 432,
   "id": "a58484ab",
   "metadata": {},
   "outputs": [
    {
     "data": {
      "text/plain": [
       "'FundingSourceRulesLookup = FundingSourceRulesData[[\\'Project Plan Task ID\\', \\n       \\'Funding Source Count\\', \\'Funding Source Greater than 1\\', \\'Detail 1\\',\\n       \\'Detail 2\\', \\'Detail 3\\', \\'Detail 4\\', \\'% - Detail 1\\', \\'% - Detail 2\\',\\n       \\'% - Detail 3\\', \\'% - Detail 4\\']]\\ndef return_second(x):\\n    try:\\n        y = x[1]\\n    except:\\n        y = \"\"\\n    return y\\n\\nFundingSourceRulesLookup.dropna(subset=[\\'Funding Source Count\\'], inplace=True)\\n\\nFundingSourceRulesLookup[\\'Funding Source 1\\'] = FundingSourceRulesLookup[\\'Detail 1\\'].str.split(r\"Funding Source - \").apply(return_second)\\n\\nFundingSourceRulesLookup[\\'Funding Source 2\\'] = FundingSourceRulesLookup[\\'Detail 2\\'].str.split(r\"Funding Source - \").apply(return_second)\\n\\ntry:\\n    FundingSourceRulesLookup[\\'Funding Source 3\\'] = FundingSourceRulesLookup[\\'Detail 3\\'].str.split(r\"Funding Source - \").apply(return_second)\\nexcept:\\n    FundingSourceRulesLookup[\\'Funding Source 3\\'] = \\'\\'\\n\\n    \\n    FundingSourceRulesLookup = FundingSourceRulesLookup[[\\'Project Plan Task ID\\', \\'Funding Source Count\\',\\n       \\'Funding Source Greater than 1\\', \\'Detail 1\\', \\'Detail 2\\', \\'Detail 3\\',\\n       \\'Detail 4\\', \\'% - Detail 1\\', \\'% - Detail 2\\', \\'% - Detail 3\\',\\n       \\'% - Detail 4\\', \\'Funding Source 1\\',\\n       \\'Funding Source 2\\', \\n       \\'Funding Source 3\\']]\\n       \\nFundingSourceReport = PTOBank       \\nPTOBank = PTOBank[PTOBank[\\'Type\\']==\\'Fully Utilized\\']       \\nPTOBank = pd.merge(PTOBank, FundingSourceRulesLookup, on = \\'Project Plan Task ID\\', how = \\'left\\')\\nPTOBank[\\'Amount Banked 1\\'] = PTOBank[\\'Amount Banked\\'] * (PTOBank[\\'% - Detail 1\\']/100)\\nPTOBank[\\'Amount Banked 2\\'] = PTOBank[\\'Amount Banked\\'] * (PTOBank[\\'% - Detail 2\\']/100)\\nPTOBank[\\'Amount Banked 3\\'] = PTOBank[\\'Amount Banked\\'] * (PTOBank[\\'% - Detail 3\\']/100)\\n\\n\\n       '"
      ]
     },
     "execution_count": 432,
     "metadata": {},
     "output_type": "execute_result"
    }
   ],
   "source": [
    "'''FundingSourceRulesLookup = FundingSourceRulesData[['Project Plan Task ID', \n",
    "       'Funding Source Count', 'Funding Source Greater than 1', 'Detail 1',\n",
    "       'Detail 2', 'Detail 3', 'Detail 4', '% - Detail 1', '% - Detail 2',\n",
    "       '% - Detail 3', '% - Detail 4']]\n",
    "def return_second(x):\n",
    "    try:\n",
    "        y = x[1]\n",
    "    except:\n",
    "        y = \"\"\n",
    "    return y\n",
    "\n",
    "FundingSourceRulesLookup.dropna(subset=['Funding Source Count'], inplace=True)\n",
    "\n",
    "FundingSourceRulesLookup['Funding Source 1'] = FundingSourceRulesLookup['Detail 1'].str.split(r\"Funding Source - \").apply(return_second)\n",
    "\n",
    "FundingSourceRulesLookup['Funding Source 2'] = FundingSourceRulesLookup['Detail 2'].str.split(r\"Funding Source - \").apply(return_second)\n",
    "\n",
    "try:\n",
    "    FundingSourceRulesLookup['Funding Source 3'] = FundingSourceRulesLookup['Detail 3'].str.split(r\"Funding Source - \").apply(return_second)\n",
    "except:\n",
    "    FundingSourceRulesLookup['Funding Source 3'] = ''\n",
    "\n",
    "    \n",
    "    FundingSourceRulesLookup = FundingSourceRulesLookup[['Project Plan Task ID', 'Funding Source Count',\n",
    "       'Funding Source Greater than 1', 'Detail 1', 'Detail 2', 'Detail 3',\n",
    "       'Detail 4', '% - Detail 1', '% - Detail 2', '% - Detail 3',\n",
    "       '% - Detail 4', 'Funding Source 1',\n",
    "       'Funding Source 2', \n",
    "       'Funding Source 3']]\n",
    "       \n",
    "FundingSourceReport = PTOBank       \n",
    "PTOBank = PTOBank[PTOBank['Type']=='Fully Utilized']       \n",
    "PTOBank = pd.merge(PTOBank, FundingSourceRulesLookup, on = 'Project Plan Task ID', how = 'left')\n",
    "PTOBank['Amount Banked 1'] = PTOBank['Amount Banked'] * (PTOBank['% - Detail 1']/100)\n",
    "PTOBank['Amount Banked 2'] = PTOBank['Amount Banked'] * (PTOBank['% - Detail 2']/100)\n",
    "PTOBank['Amount Banked 3'] = PTOBank['Amount Banked'] * (PTOBank['% - Detail 3']/100)\n",
    "\n",
    "\n",
    "       '''"
   ]
  },
  {
   "cell_type": "code",
   "execution_count": 433,
   "id": "f3d1a8d3",
   "metadata": {},
   "outputs": [
    {
     "data": {
      "text/plain": [
       "\"PTOBank1 = PTOBank[['Worker', 'Employee ID', 'Project Plan Task', 'Project Plan Task ID',\\n       'SalaryCosted', 'BenefitsCosted', 'SharedCosted', 'BonusCosted',\\n       'Initiative', 'Cost Center', 'Type', 'Project Hours Percentage',\\n       'Admin Hours Percentage', 'Lobbying', 'Lobbying Location',\\n       'Project or Admin', 'Project', 'Worker Cost Center', 'Location',\\n       'Total Project Hours', 'Needed Project Hours', 'Adjusted Hours',\\n       'Actual Utilization Rate', 'Cost per Project Hour',\\n       'Utilization Target', 'Talent Pools', 'Total Cost', 'File',\\n       'Project PTO or Admin', 'Standard Monthly Cost',\\n       'Amount Banked per Hour', 'Hours', 'Bank Month',\\n       'Funding Source Count', 'Funding Source Greater than 1', 'Detail 1', '% - Detail 1','Funding Source 1', 'Amount Banked 1']]\\n\\nPTOBank1 = PTOBank1.rename(columns={'Detail 1': 'Detail', '% - Detail 1': '% - Detail', 'Funding Source 1': 'Funding Source', 'Amount Banked 1': 'Amount Banked'})\""
      ]
     },
     "execution_count": 433,
     "metadata": {},
     "output_type": "execute_result"
    }
   ],
   "source": [
    "'''PTOBank1 = PTOBank[['Worker', 'Employee ID', 'Project Plan Task', 'Project Plan Task ID',\n",
    "       'SalaryCosted', 'BenefitsCosted', 'SharedCosted', 'BonusCosted',\n",
    "       'Initiative', 'Cost Center', 'Type', 'Project Hours Percentage',\n",
    "       'Admin Hours Percentage', 'Lobbying', 'Lobbying Location',\n",
    "       'Project or Admin', 'Project', 'Worker Cost Center', 'Location',\n",
    "       'Total Project Hours', 'Needed Project Hours', 'Adjusted Hours',\n",
    "       'Actual Utilization Rate', 'Cost per Project Hour',\n",
    "       'Utilization Target', 'Talent Pools', 'Total Cost', 'File',\n",
    "       'Project PTO or Admin', 'Standard Monthly Cost',\n",
    "       'Amount Banked per Hour', 'Hours', 'Bank Month',\n",
    "       'Funding Source Count', 'Funding Source Greater than 1', 'Detail 1', '% - Detail 1','Funding Source 1', 'Amount Banked 1']]\n",
    "\n",
    "PTOBank1 = PTOBank1.rename(columns={'Detail 1': 'Detail', '% - Detail 1': '% - Detail', 'Funding Source 1': 'Funding Source', 'Amount Banked 1': 'Amount Banked'})'''"
   ]
  },
  {
   "cell_type": "code",
   "execution_count": 434,
   "id": "ff03c08d",
   "metadata": {},
   "outputs": [
    {
     "data": {
      "text/plain": [
       "\"PTOBank2 = PTOBank[['Worker', 'Employee ID', 'Project Plan Task', 'Project Plan Task ID',\\n       'SalaryCosted', 'BenefitsCosted', 'SharedCosted', 'BonusCosted',\\n       'Initiative', 'Cost Center', 'Type', 'Project Hours Percentage',\\n       'Admin Hours Percentage', 'Lobbying', 'Lobbying Location',\\n       'Project or Admin', 'Project', 'Worker Cost Center', 'Location',\\n       'Total Project Hours', 'Needed Project Hours', 'Adjusted Hours',\\n       'Actual Utilization Rate', 'Cost per Project Hour',\\n       'Utilization Target', 'Talent Pools', 'Total Cost', 'File',\\n       'Project PTO or Admin', 'Standard Monthly Cost',\\n       'Amount Banked per Hour', 'Hours', 'Bank Month',\\n       'Funding Source Count', 'Funding Source Greater than 1', 'Detail 2', '% - Detail 2','Funding Source 2', 'Amount Banked 2']]\\n\\nPTOBank2 = PTOBank2.rename(columns={'Detail 2': 'Detail', '% - Detail 2': '% - Detail', 'Funding Source 2': 'Funding Source', 'Amount Banked 2': 'Amount Banked'})\\nPTOBank2.dropna(subset=['Amount Banked'], inplace=True)\""
      ]
     },
     "execution_count": 434,
     "metadata": {},
     "output_type": "execute_result"
    }
   ],
   "source": [
    "'''PTOBank2 = PTOBank[['Worker', 'Employee ID', 'Project Plan Task', 'Project Plan Task ID',\n",
    "       'SalaryCosted', 'BenefitsCosted', 'SharedCosted', 'BonusCosted',\n",
    "       'Initiative', 'Cost Center', 'Type', 'Project Hours Percentage',\n",
    "       'Admin Hours Percentage', 'Lobbying', 'Lobbying Location',\n",
    "       'Project or Admin', 'Project', 'Worker Cost Center', 'Location',\n",
    "       'Total Project Hours', 'Needed Project Hours', 'Adjusted Hours',\n",
    "       'Actual Utilization Rate', 'Cost per Project Hour',\n",
    "       'Utilization Target', 'Talent Pools', 'Total Cost', 'File',\n",
    "       'Project PTO or Admin', 'Standard Monthly Cost',\n",
    "       'Amount Banked per Hour', 'Hours', 'Bank Month',\n",
    "       'Funding Source Count', 'Funding Source Greater than 1', 'Detail 2', '% - Detail 2','Funding Source 2', 'Amount Banked 2']]\n",
    "\n",
    "PTOBank2 = PTOBank2.rename(columns={'Detail 2': 'Detail', '% - Detail 2': '% - Detail', 'Funding Source 2': 'Funding Source', 'Amount Banked 2': 'Amount Banked'})\n",
    "PTOBank2.dropna(subset=['Amount Banked'], inplace=True)'''"
   ]
  },
  {
   "cell_type": "code",
   "execution_count": 435,
   "id": "f548d8e2",
   "metadata": {},
   "outputs": [
    {
     "data": {
      "text/plain": [
       "\"PTOBank3 = PTOBank[['Worker', 'Employee ID', 'Project Plan Task', 'Project Plan Task ID',\\n       'SalaryCosted', 'BenefitsCosted', 'SharedCosted', 'BonusCosted',\\n       'Initiative', 'Cost Center', 'Type', 'Project Hours Percentage',\\n       'Admin Hours Percentage', 'Lobbying', 'Lobbying Location',\\n       'Project or Admin', 'Project', 'Worker Cost Center', 'Location',\\n       'Total Project Hours', 'Needed Project Hours', 'Adjusted Hours',\\n       'Actual Utilization Rate', 'Cost per Project Hour',\\n       'Utilization Target', 'Talent Pools', 'Total Cost', 'File',\\n       'Project PTO or Admin', 'Standard Monthly Cost',\\n       'Amount Banked per Hour', 'Hours', 'Bank Month',\\n       'Funding Source Count', 'Funding Source Greater than 1', 'Detail 3', '% - Detail 3','Funding Source 3', 'Amount Banked 3']]\\n\\nPTOBank3 = PTOBank3.rename(columns={'Detail 3': 'Detail', '% - Detail 3': '% - Detail', 'Funding Source 3': 'Funding Source', 'Amount Banked 3': 'Amount Banked'})\\nPTOBank3.dropna(subset=['Amount Banked'], inplace=True)\""
      ]
     },
     "execution_count": 435,
     "metadata": {},
     "output_type": "execute_result"
    }
   ],
   "source": [
    "'''PTOBank3 = PTOBank[['Worker', 'Employee ID', 'Project Plan Task', 'Project Plan Task ID',\n",
    "       'SalaryCosted', 'BenefitsCosted', 'SharedCosted', 'BonusCosted',\n",
    "       'Initiative', 'Cost Center', 'Type', 'Project Hours Percentage',\n",
    "       'Admin Hours Percentage', 'Lobbying', 'Lobbying Location',\n",
    "       'Project or Admin', 'Project', 'Worker Cost Center', 'Location',\n",
    "       'Total Project Hours', 'Needed Project Hours', 'Adjusted Hours',\n",
    "       'Actual Utilization Rate', 'Cost per Project Hour',\n",
    "       'Utilization Target', 'Talent Pools', 'Total Cost', 'File',\n",
    "       'Project PTO or Admin', 'Standard Monthly Cost',\n",
    "       'Amount Banked per Hour', 'Hours', 'Bank Month',\n",
    "       'Funding Source Count', 'Funding Source Greater than 1', 'Detail 3', '% - Detail 3','Funding Source 3', 'Amount Banked 3']]\n",
    "\n",
    "PTOBank3 = PTOBank3.rename(columns={'Detail 3': 'Detail', '% - Detail 3': '% - Detail', 'Funding Source 3': 'Funding Source', 'Amount Banked 3': 'Amount Banked'})\n",
    "PTOBank3.dropna(subset=['Amount Banked'], inplace=True)'''"
   ]
  },
  {
   "cell_type": "code",
   "execution_count": 436,
   "id": "db0d8288",
   "metadata": {},
   "outputs": [],
   "source": [
    "#PTOBankFINAL = pd.concat([PTOBank1, PTOBank2, PTOBank3], ignore_index=True)"
   ]
  },
  {
   "cell_type": "code",
   "execution_count": null,
   "id": "d555b293",
   "metadata": {},
   "outputs": [],
   "source": []
  },
  {
   "cell_type": "code",
   "execution_count": 437,
   "id": "482e6a34",
   "metadata": {},
   "outputs": [],
   "source": [
    "PTOBankFINAL = pd.merge(AllCostsAllocated, FundingSourceRulesData, on = 'Project Plan Task ID', how = 'left')"
   ]
  },
  {
   "cell_type": "code",
   "execution_count": 438,
   "id": "c9f22a87",
   "metadata": {},
   "outputs": [],
   "source": [
    "PTOBankFINAL['Standard Monthly Cost'] = PTOBankFINAL['Standard Monthly Cost'].round(2)\n",
    "PTOBankFINAL['Cost per Project Hour'] = PTOBankFINAL['Cost per Project Hour'].round(2)\n",
    "PTOBankFINAL['Amount Banked per Hour'] = PTOBankFINAL['Amount Banked per Hour'].round(2)\n",
    "PTOBankFINAL['Amount Banked'] = PTOBankFINAL['Amount Banked'].round(2)\n",
    "PTOBankFINAL['Standard Monthly Cost'] = PTOBankFINAL['Standard Monthly Cost'].round(2)"
   ]
  },
  {
   "cell_type": "code",
   "execution_count": 439,
   "id": "db11d3ee",
   "metadata": {},
   "outputs": [],
   "source": [
    "PTOBankFINAL = PTOBankFINAL[PTOBankFINAL['Type']==\"Fully Utilized\"]\n",
    "PTOBankFINAL.dropna(subset=['Amount Banked'], inplace=True)\n",
    "PTOBankFINAL = PTOBankFINAL[PTOBankFINAL['Total Cost']!=0]\n",
    "PTOBankFINAL = PTOBankFINAL[PTOBankFINAL['Needed Project Hours']!=0]"
   ]
  },
  {
   "cell_type": "code",
   "execution_count": 440,
   "id": "f5aac0ed",
   "metadata": {},
   "outputs": [],
   "source": [
    "PTOBankFINAL.to_excel('./Outputs/PTO1_PTOBank'+Type+timestampreport+'.xlsx')"
   ]
  },
  {
   "cell_type": "code",
   "execution_count": 441,
   "id": "641bb293",
   "metadata": {},
   "outputs": [
    {
     "data": {
      "text/plain": [
       "5341"
      ]
     },
     "execution_count": 441,
     "metadata": {},
     "output_type": "execute_result"
    }
   ],
   "source": [
    "len(PTOBank)"
   ]
  },
  {
   "cell_type": "markdown",
   "id": "60c973ab",
   "metadata": {},
   "source": [
    "# Sum PTO Bank Files together"
   ]
  },
  {
   "cell_type": "code",
   "execution_count": 442,
   "id": "9f13049a",
   "metadata": {},
   "outputs": [],
   "source": [
    "#Load last month's file\n",
    "\n",
    "LastMonthBankBalance= './Source_Files/PTO8_PTO_Accrual_Balances_After_DrawdownsFINALSep-2024 - AFTERRECLASS.xlsx'\n",
    "\n",
    "LastMonthBankBalance = pd.read_excel(LastMonthBankBalance, engine='openpyxl')"
   ]
  },
  {
   "cell_type": "code",
   "execution_count": 443,
   "id": "604c0215",
   "metadata": {},
   "outputs": [
    {
     "data": {
      "text/plain": [
       "Index(['UniqueID', 'Employee ID', 'Project Plan Task ID', 'Project',\n",
       "       'Location', 'Lobbying', 'Lobbying Location',\n",
       "       'Sum of RemainingPTOBankBalance', 'Q1 Reclass',\n",
       "       'RemainingPTOBankBalance'],\n",
       "      dtype='object')"
      ]
     },
     "execution_count": 443,
     "metadata": {},
     "output_type": "execute_result"
    }
   ],
   "source": [
    "LastMonthBankBalance.columns"
   ]
  },
  {
   "cell_type": "code",
   "execution_count": 444,
   "id": "82c4f503-a381-4d53-ba5b-5929124cd5b4",
   "metadata": {},
   "outputs": [],
   "source": [
    "\n",
    "LastMonthBankBalance.rename(columns={\"RemainingPTOBankBalance\": \"Amount Banked\"}, inplace=True)"
   ]
  },
  {
   "cell_type": "code",
   "execution_count": 445,
   "id": "5c9ddd5c-8996-45d0-9809-c665dcaf3d4b",
   "metadata": {},
   "outputs": [],
   "source": [
    "PTOBankFINALSIMPLE = PTOBankFINAL[['Employee ID',  'Project Plan Task ID', 'Project', 'Location', 'Lobbying',\n",
    "       'Lobbying Location', 'Amount Banked']]"
   ]
  },
  {
   "cell_type": "code",
   "execution_count": 446,
   "id": "eaeaab67-2d2e-4a26-97e9-b251a8ad7049",
   "metadata": {},
   "outputs": [
    {
     "data": {
      "text/plain": [
       "Index(['Employee ID', 'Project Plan Task ID', 'Project', 'Location',\n",
       "       'Lobbying', 'Lobbying Location', 'Amount Banked'],\n",
       "      dtype='object')"
      ]
     },
     "execution_count": 446,
     "metadata": {},
     "output_type": "execute_result"
    }
   ],
   "source": [
    "PTOBankFINALSIMPLE.columns"
   ]
  },
  {
   "cell_type": "code",
   "execution_count": 447,
   "id": "cf80ff07-a0b9-485f-a087-31f8416e5522",
   "metadata": {},
   "outputs": [],
   "source": [
    "BankBalanceFINALSIMPLE = LastMonthBankBalance[['Employee ID',  'Project Plan Task ID', 'Project', 'Location', 'Lobbying',\n",
    "       'Lobbying Location', 'Amount Banked']]"
   ]
  },
  {
   "cell_type": "code",
   "execution_count": 448,
   "id": "c0ac7985-bea3-4a31-bd81-aecd43a8afd1",
   "metadata": {},
   "outputs": [
    {
     "data": {
      "text/plain": [
       "Index(['Employee ID', 'Project Plan Task ID', 'Project', 'Location',\n",
       "       'Lobbying', 'Lobbying Location', 'Amount Banked'],\n",
       "      dtype='object')"
      ]
     },
     "execution_count": 448,
     "metadata": {},
     "output_type": "execute_result"
    }
   ],
   "source": [
    "BankBalanceFINALSIMPLE.columns"
   ]
  },
  {
   "cell_type": "code",
   "execution_count": 449,
   "id": "80e9af92-8ab7-4bf0-86fc-aa0411e617a5",
   "metadata": {},
   "outputs": [
    {
     "name": "stdout",
     "output_type": "stream",
     "text": [
      "(2204, 7)\n",
      "(3329, 7)\n"
     ]
    }
   ],
   "source": [
    "print(PTOBankFINALSIMPLE.shape)\n",
    "print(BankBalanceFINALSIMPLE.shape)"
   ]
  },
  {
   "cell_type": "code",
   "execution_count": 450,
   "id": "1c6e9922-ff9d-4b41-a296-6a758b4b0254",
   "metadata": {},
   "outputs": [
    {
     "data": {
      "text/plain": [
       "1821741.3"
      ]
     },
     "execution_count": 450,
     "metadata": {},
     "output_type": "execute_result"
    }
   ],
   "source": [
    "PTOBankFINALSIMPLE['Amount Banked'].sum()\n"
   ]
  },
  {
   "cell_type": "code",
   "execution_count": 451,
   "id": "0fbc8cb7-65e8-4651-b6c6-f9f3843d3b9d",
   "metadata": {},
   "outputs": [
    {
     "data": {
      "text/plain": [
       "5134228.384268938"
      ]
     },
     "execution_count": 451,
     "metadata": {},
     "output_type": "execute_result"
    }
   ],
   "source": [
    "BankBalanceFINALSIMPLE['Amount Banked'].sum()"
   ]
  },
  {
   "cell_type": "code",
   "execution_count": 452,
   "id": "e56dc940",
   "metadata": {},
   "outputs": [],
   "source": [
    "#PTOBankComulative = pd.concat([PTOBankFINALSIMPLE, BankBalanceFINALSIMPLE], ignore_index=True)\n",
    "PTOBankComulative = pd.concat([PTOBankFINALSIMPLE, BankBalanceFINALSIMPLE], ignore_index=True)"
   ]
  },
  {
   "cell_type": "code",
   "execution_count": 453,
   "id": "ea2bd9f4-3120-4541-9003-cbf725cfe76f",
   "metadata": {},
   "outputs": [
    {
     "data": {
      "text/plain": [
       "6955969.6842689365"
      ]
     },
     "execution_count": 453,
     "metadata": {},
     "output_type": "execute_result"
    }
   ],
   "source": [
    "PTOBankComulative['Amount Banked'].sum()"
   ]
  },
  {
   "cell_type": "code",
   "execution_count": 454,
   "id": "f4c96ec3",
   "metadata": {},
   "outputs": [],
   "source": [
    "PTOBankSimple = PTOBankComulative[['Employee ID',  'Project Plan Task ID', 'Project',  'Location', 'Lobbying',\n",
    "       'Lobbying Location', 'Amount Banked']]"
   ]
  },
  {
   "cell_type": "code",
   "execution_count": 455,
   "id": "3d8d6e53-9ce2-4bd3-8855-65793440f489",
   "metadata": {},
   "outputs": [],
   "source": [
    "#PTOBankSimple.to_excel('./Outputs/test.xlsx')"
   ]
  },
  {
   "cell_type": "code",
   "execution_count": 456,
   "id": "a19a3354-ed52-4b94-a318-e821c598c980",
   "metadata": {},
   "outputs": [
    {
     "data": {
      "text/plain": [
       "5533"
      ]
     },
     "execution_count": 456,
     "metadata": {},
     "output_type": "execute_result"
    }
   ],
   "source": [
    "len(PTOBankSimple)"
   ]
  },
  {
   "cell_type": "code",
   "execution_count": 457,
   "id": "c0066dcc",
   "metadata": {},
   "outputs": [],
   "source": [
    "PTOBankSimple = PTOBankSimple.groupby(['Employee ID',  'Project Plan Task ID', 'Project', 'Location', 'Lobbying',\n",
    "       'Lobbying Location']).agg({'Amount Banked': 'sum'}).reset_index()"
   ]
  },
  {
   "cell_type": "code",
   "execution_count": 458,
   "id": "c44eb2a6-8c5c-4246-8ec9-076d7d572563",
   "metadata": {},
   "outputs": [
    {
     "data": {
      "text/plain": [
       "4185"
      ]
     },
     "execution_count": 458,
     "metadata": {},
     "output_type": "execute_result"
    }
   ],
   "source": [
    "len(PTOBankSimple)"
   ]
  },
  {
   "cell_type": "code",
   "execution_count": 459,
   "id": "2c05d89b-183b-46a0-84ee-0876c4d3e11b",
   "metadata": {},
   "outputs": [
    {
     "data": {
      "text/plain": [
       "6955969.6842689365"
      ]
     },
     "execution_count": 459,
     "metadata": {},
     "output_type": "execute_result"
    }
   ],
   "source": [
    "PTOBankSimple['Amount Banked'].sum()"
   ]
  },
  {
   "cell_type": "code",
   "execution_count": 460,
   "id": "f3526b2f",
   "metadata": {},
   "outputs": [],
   "source": [
    "CumulativeBank = PTOBankSimple"
   ]
  },
  {
   "cell_type": "markdown",
   "id": "149542b0",
   "metadata": {},
   "source": [
    "Eliminate PTO Bank if Project is Closed"
   ]
  },
  {
   "cell_type": "code",
   "execution_count": 461,
   "id": "3f74af45",
   "metadata": {},
   "outputs": [],
   "source": [
    "TasksPath = './Source_Files/Extract_Project_Structure_-_Ref_IDs (6).xlsx'\n",
    "TaskMaps = pd.read_excel(TasksPath, engine='openpyxl')"
   ]
  },
  {
   "cell_type": "code",
   "execution_count": 462,
   "id": "7baa18da",
   "metadata": {},
   "outputs": [
    {
     "data": {
      "text/plain": [
       "4185"
      ]
     },
     "execution_count": 462,
     "metadata": {},
     "output_type": "execute_result"
    }
   ],
   "source": [
    "len(PTOBankSimple)"
   ]
  },
  {
   "cell_type": "code",
   "execution_count": 463,
   "id": "a85bf602",
   "metadata": {},
   "outputs": [],
   "source": [
    "\n",
    "\n",
    "TaskMaps['Keep'] = 'Yes'\n",
    "TaskIDs = TaskMaps[['Project Plan Task ID', 'Keep']]\n",
    "PTOBankSimple = pd.merge(PTOBankSimple, TaskIDs, on = 'Project Plan Task ID', how = 'left')\n",
    "PTOBankSimple = PTOBankSimple[PTOBankSimple['Keep']=='Yes']"
   ]
  },
  {
   "cell_type": "code",
   "execution_count": 464,
   "id": "e54c0707",
   "metadata": {},
   "outputs": [
    {
     "data": {
      "text/plain": [
       "Index(['Employee ID', 'Project Plan Task ID', 'Project', 'Location',\n",
       "       'Lobbying', 'Lobbying Location', 'Amount Banked', 'Keep'],\n",
       "      dtype='object')"
      ]
     },
     "execution_count": 464,
     "metadata": {},
     "output_type": "execute_result"
    }
   ],
   "source": [
    "PTOBankSimple.columns"
   ]
  },
  {
   "cell_type": "code",
   "execution_count": 465,
   "id": "2a3da1aa",
   "metadata": {},
   "outputs": [],
   "source": [
    "PTOBankSimple = PTOBankSimple[['Employee ID', 'Project Plan Task ID', 'Project', \n",
    "       'Location', 'Lobbying',\n",
    "       'Lobbying Location', 'Amount Banked']]"
   ]
  },
  {
   "cell_type": "code",
   "execution_count": 466,
   "id": "f5b3d6a1",
   "metadata": {},
   "outputs": [
    {
     "data": {
      "text/plain": [
       "4185"
      ]
     },
     "execution_count": 466,
     "metadata": {},
     "output_type": "execute_result"
    }
   ],
   "source": [
    "len(PTOBankSimple)"
   ]
  },
  {
   "cell_type": "code",
   "execution_count": 467,
   "id": "9f75daa3",
   "metadata": {},
   "outputs": [],
   "source": [
    "GovMLBLPath = './Source_Files/Copy of ML-BL restricted gifts_omit PTO Bank.xlsx'\n",
    "GovProjMaps = pd.read_excel(GovMLBLPath, engine='openpyxl')"
   ]
  },
  {
   "cell_type": "code",
   "execution_count": 468,
   "id": "d5310496",
   "metadata": {},
   "outputs": [
    {
     "data": {
      "text/plain": [
       "Index(['Employee ID', 'Project Plan Task ID', 'Project', 'Location',\n",
       "       'Lobbying', 'Lobbying Location', 'Amount Banked'],\n",
       "      dtype='object')"
      ]
     },
     "execution_count": 468,
     "metadata": {},
     "output_type": "execute_result"
    }
   ],
   "source": [
    "PTOBankSimple.columns"
   ]
  },
  {
   "cell_type": "code",
   "execution_count": 469,
   "id": "320fe041",
   "metadata": {},
   "outputs": [
    {
     "data": {
      "text/plain": [
       "4185"
      ]
     },
     "execution_count": 469,
     "metadata": {},
     "output_type": "execute_result"
    }
   ],
   "source": [
    "len(PTOBankSimple)"
   ]
  },
  {
   "cell_type": "code",
   "execution_count": 470,
   "id": "49260a4a",
   "metadata": {},
   "outputs": [
    {
     "name": "stderr",
     "output_type": "stream",
     "text": [
      "C:\\Users\\Jwendt\\AppData\\Local\\anaconda3\\envs\\new_env_name\\lib\\site-packages\\pandas\\core\\frame.py:4300: SettingWithCopyWarning: \n",
      "A value is trying to be set on a copy of a slice from a DataFrame\n",
      "\n",
      "See the caveats in the documentation: https://pandas.pydata.org/pandas-docs/stable/user_guide/indexing.html#returning-a-view-versus-a-copy\n",
      "  return super().rename(\n"
     ]
    }
   ],
   "source": [
    "\n",
    "GovProjMaps['Keep'] = 'Yes'\n",
    "GovProjNames = GovProjMaps[['Project/Project Hierarchy', 'Keep']]\n",
    "GovProjNames.rename(columns={\"Project/Project Hierarchy\": \"Project\"}, inplace=True)\n"
   ]
  },
  {
   "cell_type": "code",
   "execution_count": 471,
   "id": "5f544102-9645-4647-9534-e6f9430aaed6",
   "metadata": {},
   "outputs": [],
   "source": [
    "GovMLBLPath2 = './Source_Files/RMI_-_Find_Customer_Contracts (4).xlsx'\n",
    "GovProjMaps2 = pd.read_excel(GovMLBLPath2, engine='openpyxl')\n",
    "GovProjMaps2['Keep'] = 'Yes'\n",
    "GovProjNames2 = GovProjMaps2[['Billable Projects', 'Keep']]\n",
    "GovProjNames2.rename(columns={\"Billable Projects\": \"Project\"}, inplace=True)"
   ]
  },
  {
   "cell_type": "code",
   "execution_count": 472,
   "id": "ab3c73f9-6bde-465a-9dc5-4a88fc22223b",
   "metadata": {},
   "outputs": [],
   "source": [
    "GovProjNamesALL = pd.concat([GovProjNames, GovProjNames2])"
   ]
  },
  {
   "cell_type": "code",
   "execution_count": null,
   "id": "cd6128a5-8f6d-4d99-84d2-a77bf3390ee0",
   "metadata": {},
   "outputs": [],
   "source": []
  },
  {
   "cell_type": "code",
   "execution_count": 473,
   "id": "4c58b777-aa87-4b96-94e7-6702e21cd987",
   "metadata": {},
   "outputs": [],
   "source": [
    "PTOBankSimple = pd.merge(PTOBankSimple, GovProjNamesALL, on = 'Project', how = 'left')\n"
   ]
  },
  {
   "cell_type": "code",
   "execution_count": 474,
   "id": "604ba8fd-80fd-4a5c-add3-e0fb2151448f",
   "metadata": {},
   "outputs": [
    {
     "data": {
      "text/plain": [
       "6958638.724268937"
      ]
     },
     "execution_count": 474,
     "metadata": {},
     "output_type": "execute_result"
    }
   ],
   "source": [
    "PTOBankSimple['Amount Banked'].sum()"
   ]
  },
  {
   "cell_type": "code",
   "execution_count": 475,
   "id": "b6b38090",
   "metadata": {},
   "outputs": [
    {
     "data": {
      "text/html": [
       "<div>\n",
       "<style scoped>\n",
       "    .dataframe tbody tr th:only-of-type {\n",
       "        vertical-align: middle;\n",
       "    }\n",
       "\n",
       "    .dataframe tbody tr th {\n",
       "        vertical-align: top;\n",
       "    }\n",
       "\n",
       "    .dataframe thead th {\n",
       "        text-align: right;\n",
       "    }\n",
       "</style>\n",
       "<table border=\"1\" class=\"dataframe\">\n",
       "  <thead>\n",
       "    <tr style=\"text-align: right;\">\n",
       "      <th></th>\n",
       "      <th>Employee ID</th>\n",
       "      <th>Project Plan Task ID</th>\n",
       "      <th>Project</th>\n",
       "      <th>Location</th>\n",
       "      <th>Lobbying</th>\n",
       "      <th>Lobbying Location</th>\n",
       "      <th>Amount Banked</th>\n",
       "      <th>Keep</th>\n",
       "    </tr>\n",
       "  </thead>\n",
       "  <tbody>\n",
       "    <tr>\n",
       "      <th>0</th>\n",
       "      <td>1.0</td>\n",
       "      <td>PROJECT_PLAN_TASK-3-1042</td>\n",
       "      <td>Rural Decarbonization</td>\n",
       "      <td>Beijing</td>\n",
       "      <td>None</td>\n",
       "      <td>None</td>\n",
       "      <td>358.88</td>\n",
       "      <td>NaN</td>\n",
       "    </tr>\n",
       "    <tr>\n",
       "      <th>1</th>\n",
       "      <td>1.0</td>\n",
       "      <td>PROJECT_PLAN_TASK-3-3612</td>\n",
       "      <td>Provincial Carbon Neutrality</td>\n",
       "      <td>Beijing</td>\n",
       "      <td>None</td>\n",
       "      <td>None</td>\n",
       "      <td>476.66</td>\n",
       "      <td>NaN</td>\n",
       "    </tr>\n",
       "    <tr>\n",
       "      <th>2</th>\n",
       "      <td>1.0</td>\n",
       "      <td>PROJECT_PLAN_TASK-3-5200</td>\n",
       "      <td>Transitioning Heavy Industry</td>\n",
       "      <td>Beijing</td>\n",
       "      <td>None</td>\n",
       "      <td>None</td>\n",
       "      <td>2276.11</td>\n",
       "      <td>NaN</td>\n",
       "    </tr>\n",
       "    <tr>\n",
       "      <th>3</th>\n",
       "      <td>1.0</td>\n",
       "      <td>PROJECT_PLAN_TASK-3-6195</td>\n",
       "      <td>China Methane Mitigation 2024</td>\n",
       "      <td>Beijing</td>\n",
       "      <td>None</td>\n",
       "      <td>None</td>\n",
       "      <td>2112.98</td>\n",
       "      <td>NaN</td>\n",
       "    </tr>\n",
       "    <tr>\n",
       "      <th>4</th>\n",
       "      <td>4.0</td>\n",
       "      <td>PROJECT_PLAN_TASK-3-1041</td>\n",
       "      <td>Rural Decarbonization</td>\n",
       "      <td>Beijing</td>\n",
       "      <td>None</td>\n",
       "      <td>None</td>\n",
       "      <td>168.99</td>\n",
       "      <td>NaN</td>\n",
       "    </tr>\n",
       "  </tbody>\n",
       "</table>\n",
       "</div>"
      ],
      "text/plain": [
       "   Employee ID      Project Plan Task ID                        Project  \\\n",
       "0          1.0  PROJECT_PLAN_TASK-3-1042          Rural Decarbonization   \n",
       "1          1.0  PROJECT_PLAN_TASK-3-3612   Provincial Carbon Neutrality   \n",
       "2          1.0  PROJECT_PLAN_TASK-3-5200   Transitioning Heavy Industry   \n",
       "3          1.0  PROJECT_PLAN_TASK-3-6195  China Methane Mitigation 2024   \n",
       "4          4.0  PROJECT_PLAN_TASK-3-1041          Rural Decarbonization   \n",
       "\n",
       "  Location Lobbying Lobbying Location  Amount Banked Keep  \n",
       "0  Beijing     None              None         358.88  NaN  \n",
       "1  Beijing     None              None         476.66  NaN  \n",
       "2  Beijing     None              None        2276.11  NaN  \n",
       "3  Beijing     None              None        2112.98  NaN  \n",
       "4  Beijing     None              None         168.99  NaN  "
      ]
     },
     "execution_count": 475,
     "metadata": {},
     "output_type": "execute_result"
    }
   ],
   "source": [
    "PTOBankSimple.head()"
   ]
  },
  {
   "cell_type": "code",
   "execution_count": 476,
   "id": "e8b5e542-fab7-4781-9fcf-61e4030235bb",
   "metadata": {},
   "outputs": [],
   "source": [
    "PTOBankSimple.to_excel('./Outputs/PTO2a_CumulativeBankBeforePTODraw'+Type+timestampreport+'.xlsx')"
   ]
  },
  {
   "cell_type": "code",
   "execution_count": 477,
   "id": "679cdc0d",
   "metadata": {},
   "outputs": [],
   "source": [
    "PTOBankSimple = PTOBankSimple[PTOBankSimple['Keep']!='Yes']"
   ]
  },
  {
   "cell_type": "code",
   "execution_count": 478,
   "id": "7a3ff65f",
   "metadata": {},
   "outputs": [
    {
     "data": {
      "text/plain": [
       "3824"
      ]
     },
     "execution_count": 478,
     "metadata": {},
     "output_type": "execute_result"
    }
   ],
   "source": [
    "len(PTOBankSimple)"
   ]
  },
  {
   "cell_type": "code",
   "execution_count": 479,
   "id": "510c72fd-44f0-4aec-bc44-29fe878241a7",
   "metadata": {},
   "outputs": [
    {
     "data": {
      "text/plain": [
       "6695446.05592339"
      ]
     },
     "execution_count": 479,
     "metadata": {},
     "output_type": "execute_result"
    }
   ],
   "source": [
    "PTOBankSimple['Amount Banked'].sum()"
   ]
  },
  {
   "cell_type": "code",
   "execution_count": 480,
   "id": "ae24e02d",
   "metadata": {},
   "outputs": [],
   "source": [
    "PTOBankSimple.to_excel('./Outputs/PTO2b_CumulativeBankBeforePTODraw'+Type+timestampreport+'.xlsx')"
   ]
  },
  {
   "cell_type": "code",
   "execution_count": null,
   "id": "f6cb10d7",
   "metadata": {},
   "outputs": [],
   "source": []
  },
  {
   "cell_type": "markdown",
   "id": "92894b65",
   "metadata": {},
   "source": [
    "Calculate total bank per employee and then calculate percentage table"
   ]
  },
  {
   "cell_type": "code",
   "execution_count": 481,
   "id": "bf5d5f20",
   "metadata": {},
   "outputs": [],
   "source": [
    "TotalbankbyEmployee = PTOBankSimple[['Employee ID','Amount Banked']]"
   ]
  },
  {
   "cell_type": "code",
   "execution_count": 482,
   "id": "8c93eacc",
   "metadata": {},
   "outputs": [
    {
     "name": "stderr",
     "output_type": "stream",
     "text": [
      "C:\\Users\\Jwendt\\AppData\\Local\\anaconda3\\envs\\new_env_name\\lib\\site-packages\\pandas\\core\\frame.py:4300: SettingWithCopyWarning: \n",
      "A value is trying to be set on a copy of a slice from a DataFrame\n",
      "\n",
      "See the caveats in the documentation: https://pandas.pydata.org/pandas-docs/stable/user_guide/indexing.html#returning-a-view-versus-a-copy\n",
      "  return super().rename(\n"
     ]
    }
   ],
   "source": [
    "TotalbankbyEmployee.rename(columns={\"Amount Banked\": \"Total Banked\"}, inplace=True)"
   ]
  },
  {
   "cell_type": "code",
   "execution_count": 483,
   "id": "1f4a452c",
   "metadata": {},
   "outputs": [],
   "source": [
    "TotalbankbyEmployee = TotalbankbyEmployee.groupby(['Employee ID'], as_index=False).sum()"
   ]
  },
  {
   "cell_type": "code",
   "execution_count": 484,
   "id": "391a0702",
   "metadata": {},
   "outputs": [
    {
     "data": {
      "text/plain": [
       "Index(['Employee ID', 'Total Banked'], dtype='object')"
      ]
     },
     "execution_count": 484,
     "metadata": {},
     "output_type": "execute_result"
    }
   ],
   "source": [
    "TotalbankbyEmployee.columns"
   ]
  },
  {
   "cell_type": "code",
   "execution_count": 485,
   "id": "ebab96bd",
   "metadata": {},
   "outputs": [],
   "source": [
    "PTOBankSimple = PTOBankSimple[['Employee ID', 'Project Plan Task ID', 'Project', 'Location', 'Lobbying',\n",
    "       'Lobbying Location', 'Amount Banked']]"
   ]
  },
  {
   "cell_type": "code",
   "execution_count": 486,
   "id": "639987e5",
   "metadata": {},
   "outputs": [],
   "source": [
    "PTOBankSimple = pd.merge(PTOBankSimple, TotalbankbyEmployee, on = 'Employee ID', how = 'left')"
   ]
  },
  {
   "cell_type": "code",
   "execution_count": 487,
   "id": "f8df80d4",
   "metadata": {},
   "outputs": [],
   "source": [
    "PTOBankSimple['Percent of Total Bank'] = PTOBankSimple['Amount Banked']/PTOBankSimple['Total Banked']"
   ]
  },
  {
   "cell_type": "code",
   "execution_count": 488,
   "id": "0ce9108a",
   "metadata": {},
   "outputs": [],
   "source": [
    "#PTOBankSimple.to_excel('/mnt/c/Users/jerem/anaconda3/envs/Code/RMICODING/Data/TimeCodingData/Outputs/PTOPercentages.xlsx')"
   ]
  },
  {
   "cell_type": "markdown",
   "id": "6bc39820",
   "metadata": {},
   "source": [
    "Now Calculate how much PTO will be utilized from Bank and where"
   ]
  },
  {
   "cell_type": "code",
   "execution_count": 489,
   "id": "bb28a158",
   "metadata": {},
   "outputs": [],
   "source": [
    "PTOtoFund = AllCostsAllocated[AllCostsAllocated['Type']=='PTO Time for UnderUtilized']"
   ]
  },
  {
   "cell_type": "code",
   "execution_count": 490,
   "id": "7674803e",
   "metadata": {},
   "outputs": [
    {
     "data": {
      "text/plain": [
       "Index(['Worker', 'Employee ID', 'Project Plan Task', 'Project Plan Task ID',\n",
       "       'SalaryCosted', 'BenefitsCosted', 'SharedCosted', 'BonusCosted',\n",
       "       'Initiative', 'Cost Center', 'ConsultingFeesCosted', 'Type',\n",
       "       'Project Hours Percentage', 'Admin Hours Percentage', 'Lobbying',\n",
       "       'Lobbying Location', 'Project or Admin', 'Project',\n",
       "       'Worker Cost Center', 'PTO more than Admin', 'Location',\n",
       "       'Total Project Hours', 'Needed Project Hours', 'Adjusted Hours',\n",
       "       'Actual Utilization Rate', 'Cost per Project Hour',\n",
       "       'Utilization Target', 'Talent Pools', 'Total Cost', 'File',\n",
       "       'Project PTO or Admin', 'Standard Monthly Cost',\n",
       "       'Amount Banked per Hour', 'Amount Banked', 'Cost per PTO Hour',\n",
       "       'Project & PTO Hours', 'Bank Month'],\n",
       "      dtype='object')"
      ]
     },
     "execution_count": 490,
     "metadata": {},
     "output_type": "execute_result"
    }
   ],
   "source": [
    "PTOtoFund.columns"
   ]
  },
  {
   "cell_type": "code",
   "execution_count": 491,
   "id": "528bce81",
   "metadata": {},
   "outputs": [],
   "source": [
    "MonthlyPTObyEmployee = PTOtoFund[['Employee ID', 'Project Plan Task ID', 'Total Cost']]"
   ]
  },
  {
   "cell_type": "code",
   "execution_count": 492,
   "id": "2a632210",
   "metadata": {},
   "outputs": [],
   "source": [
    "MonthlyPTObyEmployee.rename(columns={\"Total Cost\": \"PTO to Pay For\"}, inplace=True)"
   ]
  },
  {
   "cell_type": "code",
   "execution_count": 493,
   "id": "267af7fd",
   "metadata": {},
   "outputs": [
    {
     "data": {
      "text/plain": [
       "580039.29"
      ]
     },
     "execution_count": 493,
     "metadata": {},
     "output_type": "execute_result"
    }
   ],
   "source": [
    "MonthlyPTObyEmployee['PTO to Pay For'].sum()"
   ]
  },
  {
   "cell_type": "code",
   "execution_count": 494,
   "id": "7cf7fb80",
   "metadata": {},
   "outputs": [],
   "source": [
    "MonthlyPTObyEmployee = pd.merge(MonthlyPTObyEmployee, TotalbankbyEmployee, on = 'Employee ID', how = 'left')"
   ]
  },
  {
   "cell_type": "code",
   "execution_count": 495,
   "id": "c49081de",
   "metadata": {},
   "outputs": [],
   "source": [
    "TotalbankbyEmployee.to_excel('./Outputs/PTO3_bankbyemployee'+Type+timestampreport+'.xlsx')"
   ]
  },
  {
   "cell_type": "code",
   "execution_count": 496,
   "id": "9a974b19",
   "metadata": {},
   "outputs": [
    {
     "data": {
      "text/plain": [
       "Index(['Employee ID', 'Project Plan Task ID', 'PTO to Pay For',\n",
       "       'Total Banked'],\n",
       "      dtype='object')"
      ]
     },
     "execution_count": 496,
     "metadata": {},
     "output_type": "execute_result"
    }
   ],
   "source": [
    "MonthlyPTObyEmployee.columns"
   ]
  },
  {
   "cell_type": "code",
   "execution_count": null,
   "id": "abf36a28",
   "metadata": {},
   "outputs": [],
   "source": []
  },
  {
   "cell_type": "code",
   "execution_count": 497,
   "id": "3390c3f1",
   "metadata": {},
   "outputs": [],
   "source": [
    "MonthlyPTObyEmployee['PTO Funded'] = np.where(MonthlyPTObyEmployee['PTO to Pay For']<=MonthlyPTObyEmployee['Total Banked'], MonthlyPTObyEmployee['PTO to Pay For'], np.where(MonthlyPTObyEmployee['PTO to Pay For']>MonthlyPTObyEmployee['Total Banked'], MonthlyPTObyEmployee['Total Banked'],0))"
   ]
  },
  {
   "cell_type": "code",
   "execution_count": 498,
   "id": "4411d96b",
   "metadata": {},
   "outputs": [],
   "source": [
    "MonthlyPTObyEmployee.to_excel('./Outputs/PTO4_PTOPaidFor'+Type+timestampreport+'.xlsx')"
   ]
  },
  {
   "cell_type": "code",
   "execution_count": 499,
   "id": "61c8517e",
   "metadata": {},
   "outputs": [],
   "source": [
    "PTOAllowableTable = MonthlyPTObyEmployee[['Employee ID', 'PTO Funded']]"
   ]
  },
  {
   "cell_type": "code",
   "execution_count": null,
   "id": "ccc3f34f",
   "metadata": {},
   "outputs": [],
   "source": []
  },
  {
   "cell_type": "code",
   "execution_count": 500,
   "id": "4bb408fe",
   "metadata": {},
   "outputs": [],
   "source": [
    "PTOBankDrawdowns = pd.merge(PTOBankSimple, PTOAllowableTable, on = 'Employee ID', how = 'left')"
   ]
  },
  {
   "cell_type": "code",
   "execution_count": 501,
   "id": "b9392085",
   "metadata": {},
   "outputs": [
    {
     "data": {
      "text/plain": [
       "Index(['Employee ID', 'Project Plan Task ID', 'Project', 'Location',\n",
       "       'Lobbying', 'Lobbying Location', 'Amount Banked', 'Total Banked',\n",
       "       'Percent of Total Bank', 'PTO Funded'],\n",
       "      dtype='object')"
      ]
     },
     "execution_count": 501,
     "metadata": {},
     "output_type": "execute_result"
    }
   ],
   "source": [
    "PTOBankDrawdowns.columns"
   ]
  },
  {
   "cell_type": "code",
   "execution_count": 502,
   "id": "70d81bfb",
   "metadata": {},
   "outputs": [],
   "source": [
    "PTOBankDrawdowns['TaskDrawdowns'] = PTOBankDrawdowns['Percent of Total Bank'] * PTOBankDrawdowns['PTO Funded']"
   ]
  },
  {
   "cell_type": "code",
   "execution_count": 503,
   "id": "800f1169",
   "metadata": {},
   "outputs": [],
   "source": [
    "PTOBankDrawdowns['TaskDrawdowns'].fillna(0, inplace = True)\n",
    "PTOBankDrawdowns['PTO Funded'].fillna(0, inplace = True)"
   ]
  },
  {
   "cell_type": "code",
   "execution_count": 504,
   "id": "bffa8569",
   "metadata": {},
   "outputs": [],
   "source": [
    "PTOBankDrawdowns['RemainingPTOBankBalance'] = PTOBankDrawdowns['Amount Banked'] - PTOBankDrawdowns['TaskDrawdowns']"
   ]
  },
  {
   "cell_type": "markdown",
   "id": "7496847f",
   "metadata": {},
   "source": [
    "Create PTO Balances After PTO Drawdown"
   ]
  },
  {
   "cell_type": "code",
   "execution_count": 505,
   "id": "f660dabe",
   "metadata": {},
   "outputs": [],
   "source": [
    "PTOBankDrawdowns = pd.merge(PTOBankDrawdowns, Name_and_HomeCCList, on = 'Employee ID', how = 'left')"
   ]
  },
  {
   "cell_type": "code",
   "execution_count": 506,
   "id": "2bce14a3",
   "metadata": {},
   "outputs": [],
   "source": [
    "PTOBankDrawdowns.to_excel('./Outputs/PTO8_PTO_Accrual_Balances_After_Drawdowns'+Type+timestampreport+'.xlsx')"
   ]
  },
  {
   "cell_type": "markdown",
   "id": "a50bc8f5",
   "metadata": {},
   "source": [
    "Create New AllCosts Allocated File and reduce PTO accruals by amounts calculated"
   ]
  },
  {
   "cell_type": "code",
   "execution_count": 507,
   "id": "8a0d312d",
   "metadata": {},
   "outputs": [
    {
     "data": {
      "text/html": [
       "<div>\n",
       "<style scoped>\n",
       "    .dataframe tbody tr th:only-of-type {\n",
       "        vertical-align: middle;\n",
       "    }\n",
       "\n",
       "    .dataframe tbody tr th {\n",
       "        vertical-align: top;\n",
       "    }\n",
       "\n",
       "    .dataframe thead th {\n",
       "        text-align: right;\n",
       "    }\n",
       "</style>\n",
       "<table border=\"1\" class=\"dataframe\">\n",
       "  <thead>\n",
       "    <tr style=\"text-align: right;\">\n",
       "      <th></th>\n",
       "      <th>Worker</th>\n",
       "      <th>Employee ID</th>\n",
       "      <th>Project Plan Task</th>\n",
       "      <th>Project Plan Task ID</th>\n",
       "      <th>SalaryCosted</th>\n",
       "      <th>BenefitsCosted</th>\n",
       "      <th>SharedCosted</th>\n",
       "      <th>BonusCosted</th>\n",
       "      <th>Initiative</th>\n",
       "      <th>Cost Center</th>\n",
       "      <th>...</th>\n",
       "      <th>Talent Pools</th>\n",
       "      <th>Total Cost</th>\n",
       "      <th>File</th>\n",
       "      <th>Project PTO or Admin</th>\n",
       "      <th>Standard Monthly Cost</th>\n",
       "      <th>Amount Banked per Hour</th>\n",
       "      <th>Amount Banked</th>\n",
       "      <th>Cost per PTO Hour</th>\n",
       "      <th>Project &amp; PTO Hours</th>\n",
       "      <th>Bank Month</th>\n",
       "    </tr>\n",
       "  </thead>\n",
       "  <tbody>\n",
       "    <tr>\n",
       "      <th>272</th>\n",
       "      <td>Aaron Schwartz</td>\n",
       "      <td>937.0</td>\n",
       "      <td>Carbon-Free Electricity &gt; PTO</td>\n",
       "      <td>PROJECT_PLAN_TASK-3-5698</td>\n",
       "      <td>1110.29</td>\n",
       "      <td>284.45</td>\n",
       "      <td>144.13</td>\n",
       "      <td>111.03</td>\n",
       "      <td>POW - Admin</td>\n",
       "      <td>Carbon-Free Electricity</td>\n",
       "      <td>...</td>\n",
       "      <td>Manager</td>\n",
       "      <td>1649.90</td>\n",
       "      <td>FINAL</td>\n",
       "      <td>PTO</td>\n",
       "      <td>113.006807</td>\n",
       "      <td>0.0</td>\n",
       "      <td>0.0</td>\n",
       "      <td>103.118750</td>\n",
       "      <td>16.0</td>\n",
       "      <td>Oct-2024</td>\n",
       "    </tr>\n",
       "    <tr>\n",
       "      <th>273</th>\n",
       "      <td>Adam Aston</td>\n",
       "      <td>1429.0</td>\n",
       "      <td>Influence Team &gt; PTO</td>\n",
       "      <td>PROJECT_PLAN_TASK-3-5737</td>\n",
       "      <td>1208.89</td>\n",
       "      <td>168.85</td>\n",
       "      <td>85.56</td>\n",
       "      <td>241.78</td>\n",
       "      <td>COM - Admin</td>\n",
       "      <td>Influence Team</td>\n",
       "      <td>...</td>\n",
       "      <td>Sr. Principal</td>\n",
       "      <td>1705.08</td>\n",
       "      <td>FINAL</td>\n",
       "      <td>PTO</td>\n",
       "      <td>213.134436</td>\n",
       "      <td>0.0</td>\n",
       "      <td>0.0</td>\n",
       "      <td>213.135000</td>\n",
       "      <td>8.0</td>\n",
       "      <td>Oct-2024</td>\n",
       "    </tr>\n",
       "    <tr>\n",
       "      <th>274</th>\n",
       "      <td>Adam Beitman</td>\n",
       "      <td>1474.0</td>\n",
       "      <td>Influence Team &gt; PTO</td>\n",
       "      <td>PROJECT_PLAN_TASK-3-5737</td>\n",
       "      <td>417.59</td>\n",
       "      <td>89.62</td>\n",
       "      <td>45.41</td>\n",
       "      <td>41.76</td>\n",
       "      <td>COM - Admin</td>\n",
       "      <td>Influence Team</td>\n",
       "      <td>...</td>\n",
       "      <td>Manager</td>\n",
       "      <td>594.38</td>\n",
       "      <td>FINAL</td>\n",
       "      <td>PTO</td>\n",
       "      <td>129.212855</td>\n",
       "      <td>0.0</td>\n",
       "      <td>0.0</td>\n",
       "      <td>74.297500</td>\n",
       "      <td>8.0</td>\n",
       "      <td>Oct-2024</td>\n",
       "    </tr>\n",
       "    <tr>\n",
       "      <th>275</th>\n",
       "      <td>Adrienne Wickham-Gobert | Adrienne W. Gobert</td>\n",
       "      <td>1939.0</td>\n",
       "      <td>Influence Team &gt; PTO</td>\n",
       "      <td>PROJECT_PLAN_TASK-3-5737</td>\n",
       "      <td>1968.71</td>\n",
       "      <td>337.71</td>\n",
       "      <td>171.11</td>\n",
       "      <td>393.74</td>\n",
       "      <td>COM - Admin</td>\n",
       "      <td>Influence Team</td>\n",
       "      <td>...</td>\n",
       "      <td>Principal</td>\n",
       "      <td>2871.27</td>\n",
       "      <td>FINAL</td>\n",
       "      <td>PTO</td>\n",
       "      <td>179.454664</td>\n",
       "      <td>0.0</td>\n",
       "      <td>0.0</td>\n",
       "      <td>179.454375</td>\n",
       "      <td>16.0</td>\n",
       "      <td>Oct-2024</td>\n",
       "    </tr>\n",
       "    <tr>\n",
       "      <th>276</th>\n",
       "      <td>Alberto Cuadra</td>\n",
       "      <td>1336.0</td>\n",
       "      <td>Influence Team &gt; PTO</td>\n",
       "      <td>PROJECT_PLAN_TASK-3-5737</td>\n",
       "      <td>2218.18</td>\n",
       "      <td>337.71</td>\n",
       "      <td>171.11</td>\n",
       "      <td>443.63</td>\n",
       "      <td>COM - Admin</td>\n",
       "      <td>Influence Team</td>\n",
       "      <td>...</td>\n",
       "      <td>Sr. Principal</td>\n",
       "      <td>3170.63</td>\n",
       "      <td>FINAL</td>\n",
       "      <td>PTO</td>\n",
       "      <td>198.164510</td>\n",
       "      <td>0.0</td>\n",
       "      <td>0.0</td>\n",
       "      <td>198.164375</td>\n",
       "      <td>16.0</td>\n",
       "      <td>Oct-2024</td>\n",
       "    </tr>\n",
       "  </tbody>\n",
       "</table>\n",
       "<p>5 rows × 37 columns</p>\n",
       "</div>"
      ],
      "text/plain": [
       "                                           Worker  Employee ID  \\\n",
       "272                                Aaron Schwartz        937.0   \n",
       "273                                    Adam Aston       1429.0   \n",
       "274                                  Adam Beitman       1474.0   \n",
       "275  Adrienne Wickham-Gobert | Adrienne W. Gobert       1939.0   \n",
       "276                                Alberto Cuadra       1336.0   \n",
       "\n",
       "                 Project Plan Task      Project Plan Task ID  SalaryCosted  \\\n",
       "272  Carbon-Free Electricity > PTO  PROJECT_PLAN_TASK-3-5698       1110.29   \n",
       "273           Influence Team > PTO  PROJECT_PLAN_TASK-3-5737       1208.89   \n",
       "274           Influence Team > PTO  PROJECT_PLAN_TASK-3-5737        417.59   \n",
       "275           Influence Team > PTO  PROJECT_PLAN_TASK-3-5737       1968.71   \n",
       "276           Influence Team > PTO  PROJECT_PLAN_TASK-3-5737       2218.18   \n",
       "\n",
       "     BenefitsCosted  SharedCosted  BonusCosted   Initiative  \\\n",
       "272          284.45        144.13       111.03  POW - Admin   \n",
       "273          168.85         85.56       241.78  COM - Admin   \n",
       "274           89.62         45.41        41.76  COM - Admin   \n",
       "275          337.71        171.11       393.74  COM - Admin   \n",
       "276          337.71        171.11       443.63  COM - Admin   \n",
       "\n",
       "                 Cost Center  ...   Talent Pools Total Cost   File  \\\n",
       "272  Carbon-Free Electricity  ...        Manager    1649.90  FINAL   \n",
       "273           Influence Team  ...  Sr. Principal    1705.08  FINAL   \n",
       "274           Influence Team  ...        Manager     594.38  FINAL   \n",
       "275           Influence Team  ...      Principal    2871.27  FINAL   \n",
       "276           Influence Team  ...  Sr. Principal    3170.63  FINAL   \n",
       "\n",
       "     Project PTO or Admin Standard Monthly Cost Amount Banked per Hour  \\\n",
       "272                   PTO            113.006807                    0.0   \n",
       "273                   PTO            213.134436                    0.0   \n",
       "274                   PTO            129.212855                    0.0   \n",
       "275                   PTO            179.454664                    0.0   \n",
       "276                   PTO            198.164510                    0.0   \n",
       "\n",
       "    Amount Banked Cost per PTO Hour Project & PTO Hours Bank Month  \n",
       "272           0.0        103.118750                16.0   Oct-2024  \n",
       "273           0.0        213.135000                 8.0   Oct-2024  \n",
       "274           0.0         74.297500                 8.0   Oct-2024  \n",
       "275           0.0        179.454375                16.0   Oct-2024  \n",
       "276           0.0        198.164375                16.0   Oct-2024  \n",
       "\n",
       "[5 rows x 37 columns]"
      ]
     },
     "execution_count": 507,
     "metadata": {},
     "output_type": "execute_result"
    }
   ],
   "source": [
    "PTOtoFund.head()"
   ]
  },
  {
   "cell_type": "code",
   "execution_count": 508,
   "id": "3d24a796",
   "metadata": {},
   "outputs": [],
   "source": [
    "PTO_Original = PTOtoFund[['Employee ID','Total Cost']]"
   ]
  },
  {
   "cell_type": "code",
   "execution_count": 509,
   "id": "87773123",
   "metadata": {},
   "outputs": [
    {
     "data": {
      "text/plain": [
       "580039.29"
      ]
     },
     "execution_count": 509,
     "metadata": {},
     "output_type": "execute_result"
    }
   ],
   "source": [
    "PTO_Original['Total Cost'].sum()"
   ]
  },
  {
   "cell_type": "code",
   "execution_count": 510,
   "id": "38370abf",
   "metadata": {},
   "outputs": [],
   "source": [
    "PTOreduction = PTOBankDrawdowns[PTOBankDrawdowns['TaskDrawdowns']!=0]"
   ]
  },
  {
   "cell_type": "code",
   "execution_count": 511,
   "id": "64fccbf6",
   "metadata": {},
   "outputs": [
    {
     "name": "stderr",
     "output_type": "stream",
     "text": [
      "C:\\Users\\Jwendt\\AppData\\Local\\Temp\\ipykernel_1740\\824079842.py:1: SettingWithCopyWarning: \n",
      "A value is trying to be set on a copy of a slice from a DataFrame.\n",
      "Try using .loc[row_indexer,col_indexer] = value instead\n",
      "\n",
      "See the caveats in the documentation: https://pandas.pydata.org/pandas-docs/stable/user_guide/indexing.html#returning-a-view-versus-a-copy\n",
      "  PTOreduction['PTO Adjustment'] = -PTOBankDrawdowns['TaskDrawdowns']\n"
     ]
    }
   ],
   "source": [
    "PTOreduction['PTO Adjustment'] = -PTOBankDrawdowns['TaskDrawdowns']"
   ]
  },
  {
   "cell_type": "code",
   "execution_count": 512,
   "id": "ad1c9de3",
   "metadata": {},
   "outputs": [
    {
     "data": {
      "text/plain": [
       "Index(['Employee ID', 'Project Plan Task ID', 'Project', 'Location',\n",
       "       'Lobbying', 'Lobbying Location', 'Amount Banked', 'Total Banked',\n",
       "       'Percent of Total Bank', 'PTO Funded', 'TaskDrawdowns',\n",
       "       'RemainingPTOBankBalance', 'Employee Name', 'PTO Adjustment'],\n",
       "      dtype='object')"
      ]
     },
     "execution_count": 512,
     "metadata": {},
     "output_type": "execute_result"
    }
   ],
   "source": [
    "PTOreduction.columns"
   ]
  },
  {
   "cell_type": "code",
   "execution_count": 513,
   "id": "cdb9807e",
   "metadata": {},
   "outputs": [],
   "source": [
    "PTOreductionsumming = PTOreduction[['Employee ID','PTO Adjustment']]\n"
   ]
  },
  {
   "cell_type": "code",
   "execution_count": 514,
   "id": "024c4d5f",
   "metadata": {},
   "outputs": [],
   "source": [
    "PTOreductionsumming = PTOreductionsumming.rename(columns={'PTO Adjustment': 'Total Cost'})"
   ]
  },
  {
   "cell_type": "code",
   "execution_count": 515,
   "id": "7dec1191",
   "metadata": {},
   "outputs": [
    {
     "data": {
      "text/plain": [
       "-163846.02231391915"
      ]
     },
     "execution_count": 515,
     "metadata": {},
     "output_type": "execute_result"
    }
   ],
   "source": [
    "PTOreductionsumming['Total Cost'].sum()"
   ]
  },
  {
   "cell_type": "code",
   "execution_count": 516,
   "id": "31f5379c",
   "metadata": {},
   "outputs": [],
   "source": [
    "PTOFunded = pd.concat([PTOreductionsumming, PTO_Original], ignore_index=True)"
   ]
  },
  {
   "cell_type": "code",
   "execution_count": 517,
   "id": "2c185540",
   "metadata": {},
   "outputs": [],
   "source": [
    "RemainingPTO = PTOFunded.groupby(['Employee ID'], as_index=False).sum()"
   ]
  },
  {
   "cell_type": "markdown",
   "id": "7bc4cf1a",
   "metadata": {},
   "source": [
    "This amount should tie to the amount of PTO after PTO Bank was applied"
   ]
  },
  {
   "cell_type": "code",
   "execution_count": 518,
   "id": "6b9b2389",
   "metadata": {},
   "outputs": [
    {
     "data": {
      "text/plain": [
       "416193.2676860808"
      ]
     },
     "execution_count": 518,
     "metadata": {},
     "output_type": "execute_result"
    }
   ],
   "source": [
    "RemainingPTO['Total Cost'].sum()"
   ]
  },
  {
   "cell_type": "code",
   "execution_count": 519,
   "id": "c5b8dce4",
   "metadata": {},
   "outputs": [
    {
     "data": {
      "text/plain": [
       "Index(['Worker', 'Employee ID', 'Project Plan Task', 'Project Plan Task ID',\n",
       "       'SalaryCosted', 'BenefitsCosted', 'SharedCosted', 'BonusCosted',\n",
       "       'Initiative', 'Cost Center', 'ConsultingFeesCosted', 'Type',\n",
       "       'Project Hours Percentage', 'Admin Hours Percentage', 'Lobbying',\n",
       "       'Lobbying Location', 'Project or Admin', 'Project',\n",
       "       'Worker Cost Center', 'PTO more than Admin', 'Location',\n",
       "       'Total Project Hours', 'Needed Project Hours', 'Adjusted Hours',\n",
       "       'Actual Utilization Rate', 'Cost per Project Hour',\n",
       "       'Utilization Target', 'Talent Pools', 'Total Cost', 'File',\n",
       "       'Project PTO or Admin', 'Standard Monthly Cost',\n",
       "       'Amount Banked per Hour', 'Amount Banked', 'Cost per PTO Hour',\n",
       "       'Project & PTO Hours', 'Bank Month'],\n",
       "      dtype='object')"
      ]
     },
     "execution_count": 519,
     "metadata": {},
     "output_type": "execute_result"
    }
   ],
   "source": [
    "PTOtoFund.columns"
   ]
  },
  {
   "cell_type": "code",
   "execution_count": 520,
   "id": "6bb60fb3",
   "metadata": {},
   "outputs": [],
   "source": [
    "RemainingPTO.to_excel('./Outputs/PTO6_RemainingPTO'+Type+timestampreport+'.xlsx')"
   ]
  },
  {
   "cell_type": "code",
   "execution_count": 521,
   "id": "3c1aef46",
   "metadata": {},
   "outputs": [
    {
     "data": {
      "text/plain": [
       "580039.29"
      ]
     },
     "execution_count": 521,
     "metadata": {},
     "output_type": "execute_result"
    }
   ],
   "source": [
    "PTOtoFund['Total Cost'].sum()"
   ]
  },
  {
   "cell_type": "code",
   "execution_count": 522,
   "id": "777eee7b",
   "metadata": {},
   "outputs": [
    {
     "data": {
      "text/plain": [
       "240"
      ]
     },
     "execution_count": 522,
     "metadata": {},
     "output_type": "execute_result"
    }
   ],
   "source": [
    "PTOtoFundrevised = PTOtoFund[['Worker', 'Employee ID', 'Project Plan Task', 'Project Plan Task ID',\n",
    "       'Initiative', 'Cost Center', 'ConsultingFeesCosted', 'Type',\n",
    "       'Project Hours Percentage', 'Admin Hours Percentage', 'Lobbying',\n",
    "       'Lobbying Location', 'Project or Admin', 'Project',\n",
    "       'Worker Cost Center', 'PTO more than Admin', 'Location',\n",
    "       'Total Project Hours', 'Needed Project Hours', 'Adjusted Hours',\n",
    "       'Actual Utilization Rate', 'Standard Monthly Cost', 'Amount Banked per Hour', 'Amount Banked','Cost per Project Hour',\n",
    "       'Utilization Target', 'Talent Pools', 'File',\n",
    "       'Project PTO or Admin',  'Cost per PTO Hour',\n",
    "       'Project & PTO Hours', 'Bank Month']]\n",
    "\n",
    "\n",
    "\n",
    "\n",
    "len(PTOtoFundrevised)"
   ]
  },
  {
   "cell_type": "code",
   "execution_count": 523,
   "id": "591b2805",
   "metadata": {},
   "outputs": [],
   "source": [
    "#PTOtoFundrevised = PTOtoFundrevised.drop_duplicates(subset = 'Worker', keep='first')\n",
    "#len(PTOtoFundrevised)"
   ]
  },
  {
   "cell_type": "code",
   "execution_count": 524,
   "id": "8c672594",
   "metadata": {},
   "outputs": [
    {
     "data": {
      "text/plain": [
       "240"
      ]
     },
     "execution_count": 524,
     "metadata": {},
     "output_type": "execute_result"
    }
   ],
   "source": [
    "len(RemainingPTO)"
   ]
  },
  {
   "cell_type": "code",
   "execution_count": 525,
   "id": "2fb60f18",
   "metadata": {},
   "outputs": [],
   "source": [
    "AllCostsAllocatedPTOUpdate = pd.merge(RemainingPTO, PTOtoFundrevised, on = 'Employee ID', how = 'left')"
   ]
  },
  {
   "cell_type": "code",
   "execution_count": 526,
   "id": "e5492e55",
   "metadata": {},
   "outputs": [
    {
     "data": {
      "text/plain": [
       "240"
      ]
     },
     "execution_count": 526,
     "metadata": {},
     "output_type": "execute_result"
    }
   ],
   "source": [
    "len(AllCostsAllocatedPTOUpdate)"
   ]
  },
  {
   "cell_type": "code",
   "execution_count": 527,
   "id": "5e86708c",
   "metadata": {},
   "outputs": [
    {
     "data": {
      "text/plain": [
       "Index(['Employee ID', 'Total Cost', 'Worker', 'Project Plan Task',\n",
       "       'Project Plan Task ID', 'Initiative', 'Cost Center',\n",
       "       'ConsultingFeesCosted', 'Type', 'Project Hours Percentage',\n",
       "       'Admin Hours Percentage', 'Lobbying', 'Lobbying Location',\n",
       "       'Project or Admin', 'Project', 'Worker Cost Center',\n",
       "       'PTO more than Admin', 'Location', 'Total Project Hours',\n",
       "       'Needed Project Hours', 'Adjusted Hours', 'Actual Utilization Rate',\n",
       "       'Standard Monthly Cost', 'Amount Banked per Hour', 'Amount Banked',\n",
       "       'Cost per Project Hour', 'Utilization Target', 'Talent Pools', 'File',\n",
       "       'Project PTO or Admin', 'Cost per PTO Hour', 'Project & PTO Hours',\n",
       "       'Bank Month'],\n",
       "      dtype='object')"
      ]
     },
     "execution_count": 527,
     "metadata": {},
     "output_type": "execute_result"
    }
   ],
   "source": [
    "AllCostsAllocatedPTOUpdate.columns"
   ]
  },
  {
   "cell_type": "code",
   "execution_count": 528,
   "id": "0a304aa2",
   "metadata": {},
   "outputs": [],
   "source": [
    "PTOreductionsumming = PTOreductionsumming.rename(columns={'Total Cost': 'PTO Adjustment'})"
   ]
  },
  {
   "cell_type": "code",
   "execution_count": 529,
   "id": "eb93862d",
   "metadata": {},
   "outputs": [],
   "source": [
    "AllCostsAllocatedPTOUpdate.to_excel('./Outputs/AllCostsAllocatedPTOUpdate'+Type+timestampreport+'.xlsx')"
   ]
  },
  {
   "cell_type": "code",
   "execution_count": 530,
   "id": "0c77c48e",
   "metadata": {},
   "outputs": [
    {
     "data": {
      "text/plain": [
       "416193.2676860808"
      ]
     },
     "execution_count": 530,
     "metadata": {},
     "output_type": "execute_result"
    }
   ],
   "source": [
    "AllCostsAllocatedPTOUpdate['Total Cost'].sum()"
   ]
  },
  {
   "cell_type": "code",
   "execution_count": 531,
   "id": "3e614440",
   "metadata": {},
   "outputs": [
    {
     "data": {
      "text/html": [
       "<div>\n",
       "<style scoped>\n",
       "    .dataframe tbody tr th:only-of-type {\n",
       "        vertical-align: middle;\n",
       "    }\n",
       "\n",
       "    .dataframe tbody tr th {\n",
       "        vertical-align: top;\n",
       "    }\n",
       "\n",
       "    .dataframe thead th {\n",
       "        text-align: right;\n",
       "    }\n",
       "</style>\n",
       "<table border=\"1\" class=\"dataframe\">\n",
       "  <thead>\n",
       "    <tr style=\"text-align: right;\">\n",
       "      <th></th>\n",
       "      <th>Employee ID</th>\n",
       "      <th>SalaryPercentage</th>\n",
       "      <th>BenefitsPercentage</th>\n",
       "      <th>SharedPercentage</th>\n",
       "      <th>BonusPercentage</th>\n",
       "    </tr>\n",
       "  </thead>\n",
       "  <tbody>\n",
       "    <tr>\n",
       "      <th>0</th>\n",
       "      <td>1841.0</td>\n",
       "      <td>0.565771</td>\n",
       "      <td>0.246069</td>\n",
       "      <td>0.160538</td>\n",
       "      <td>0.027622</td>\n",
       "    </tr>\n",
       "    <tr>\n",
       "      <th>1</th>\n",
       "      <td>2028.0</td>\n",
       "      <td>0.559349</td>\n",
       "      <td>0.250172</td>\n",
       "      <td>0.163215</td>\n",
       "      <td>0.027264</td>\n",
       "    </tr>\n",
       "    <tr>\n",
       "      <th>2</th>\n",
       "      <td>7.0</td>\n",
       "      <td>0.634475</td>\n",
       "      <td>0.183400</td>\n",
       "      <td>0.119652</td>\n",
       "      <td>0.062472</td>\n",
       "    </tr>\n",
       "    <tr>\n",
       "      <th>3</th>\n",
       "      <td>1275.0</td>\n",
       "      <td>0.608214</td>\n",
       "      <td>0.219052</td>\n",
       "      <td>0.142912</td>\n",
       "      <td>0.029822</td>\n",
       "    </tr>\n",
       "    <tr>\n",
       "      <th>4</th>\n",
       "      <td>1395.0</td>\n",
       "      <td>0.603481</td>\n",
       "      <td>0.222065</td>\n",
       "      <td>0.144878</td>\n",
       "      <td>0.029576</td>\n",
       "    </tr>\n",
       "    <tr>\n",
       "      <th>...</th>\n",
       "      <td>...</td>\n",
       "      <td>...</td>\n",
       "      <td>...</td>\n",
       "      <td>...</td>\n",
       "      <td>...</td>\n",
       "    </tr>\n",
       "    <tr>\n",
       "      <th>738</th>\n",
       "      <td>1917.0</td>\n",
       "      <td>0.000000</td>\n",
       "      <td>0.000000</td>\n",
       "      <td>0.000000</td>\n",
       "      <td>0.000000</td>\n",
       "    </tr>\n",
       "    <tr>\n",
       "      <th>739</th>\n",
       "      <td>517.0</td>\n",
       "      <td>0.000000</td>\n",
       "      <td>0.000000</td>\n",
       "      <td>0.000000</td>\n",
       "      <td>1.000000</td>\n",
       "    </tr>\n",
       "    <tr>\n",
       "      <th>740</th>\n",
       "      <td>628.0</td>\n",
       "      <td>0.000000</td>\n",
       "      <td>0.000000</td>\n",
       "      <td>0.000000</td>\n",
       "      <td>1.000000</td>\n",
       "    </tr>\n",
       "    <tr>\n",
       "      <th>741</th>\n",
       "      <td>813.0</td>\n",
       "      <td>0.000000</td>\n",
       "      <td>0.000000</td>\n",
       "      <td>0.000000</td>\n",
       "      <td>1.000000</td>\n",
       "    </tr>\n",
       "    <tr>\n",
       "      <th>742</th>\n",
       "      <td>818.0</td>\n",
       "      <td>0.000000</td>\n",
       "      <td>0.000000</td>\n",
       "      <td>0.000000</td>\n",
       "      <td>1.000000</td>\n",
       "    </tr>\n",
       "  </tbody>\n",
       "</table>\n",
       "<p>743 rows × 5 columns</p>\n",
       "</div>"
      ],
      "text/plain": [
       "     Employee ID  SalaryPercentage  BenefitsPercentage  SharedPercentage  \\\n",
       "0         1841.0          0.565771            0.246069          0.160538   \n",
       "1         2028.0          0.559349            0.250172          0.163215   \n",
       "2            7.0          0.634475            0.183400          0.119652   \n",
       "3         1275.0          0.608214            0.219052          0.142912   \n",
       "4         1395.0          0.603481            0.222065          0.144878   \n",
       "..           ...               ...                 ...               ...   \n",
       "738       1917.0          0.000000            0.000000          0.000000   \n",
       "739        517.0          0.000000            0.000000          0.000000   \n",
       "740        628.0          0.000000            0.000000          0.000000   \n",
       "741        813.0          0.000000            0.000000          0.000000   \n",
       "742        818.0          0.000000            0.000000          0.000000   \n",
       "\n",
       "     BonusPercentage  \n",
       "0           0.027622  \n",
       "1           0.027264  \n",
       "2           0.062472  \n",
       "3           0.029822  \n",
       "4           0.029576  \n",
       "..               ...  \n",
       "738         0.000000  \n",
       "739         1.000000  \n",
       "740         1.000000  \n",
       "741         1.000000  \n",
       "742         1.000000  \n",
       "\n",
       "[743 rows x 5 columns]"
      ]
     },
     "execution_count": 531,
     "metadata": {},
     "output_type": "execute_result"
    }
   ],
   "source": [
    "salarypercentages_table"
   ]
  },
  {
   "cell_type": "code",
   "execution_count": 532,
   "id": "c8ac12c7",
   "metadata": {},
   "outputs": [
    {
     "data": {
      "text/plain": [
       "743"
      ]
     },
     "execution_count": 532,
     "metadata": {},
     "output_type": "execute_result"
    }
   ],
   "source": [
    "len(salarypercentages_table)"
   ]
  },
  {
   "cell_type": "code",
   "execution_count": 533,
   "id": "cf533b94",
   "metadata": {},
   "outputs": [],
   "source": [
    "AllCostsAllocatedFINALPTO = pd.merge(AllCostsAllocatedPTOUpdate, salarypercentages_table, on = 'Employee ID', how = 'left')"
   ]
  },
  {
   "cell_type": "code",
   "execution_count": 534,
   "id": "fe32e3df",
   "metadata": {},
   "outputs": [
    {
     "data": {
      "text/plain": [
       "416193.2676860808"
      ]
     },
     "execution_count": 534,
     "metadata": {},
     "output_type": "execute_result"
    }
   ],
   "source": [
    "AllCostsAllocatedFINALPTO['Total Cost'].sum()"
   ]
  },
  {
   "cell_type": "code",
   "execution_count": 535,
   "id": "8a5b4c61",
   "metadata": {},
   "outputs": [],
   "source": [
    "AllCostsAllocatedFINALPTO['SalaryCosted'] = AllCostsAllocatedFINALPTO['Total Cost']*AllCostsAllocatedFINALPTO['SalaryPercentage']\n",
    "AllCostsAllocatedFINALPTO['BenefitsCosted'] = AllCostsAllocatedFINALPTO['Total Cost']*AllCostsAllocatedFINALPTO['BenefitsPercentage']\n",
    "AllCostsAllocatedFINALPTO['SharedCosted'] = AllCostsAllocatedFINALPTO['Total Cost']*AllCostsAllocatedFINALPTO['SharedPercentage']\n",
    "AllCostsAllocatedFINALPTO['BonusCosted'] = AllCostsAllocatedFINALPTO['Total Cost']*AllCostsAllocatedFINALPTO['BonusPercentage']"
   ]
  },
  {
   "cell_type": "code",
   "execution_count": 536,
   "id": "e398c156",
   "metadata": {},
   "outputs": [
    {
     "data": {
      "text/plain": [
       "416193.2676860808"
      ]
     },
     "execution_count": 536,
     "metadata": {},
     "output_type": "execute_result"
    }
   ],
   "source": [
    "AllCostsAllocatedFINALPTO['Total Cost'].sum()"
   ]
  },
  {
   "cell_type": "code",
   "execution_count": 537,
   "id": "e81c2bbd",
   "metadata": {},
   "outputs": [
    {
     "data": {
      "text/html": [
       "<div>\n",
       "<style scoped>\n",
       "    .dataframe tbody tr th:only-of-type {\n",
       "        vertical-align: middle;\n",
       "    }\n",
       "\n",
       "    .dataframe tbody tr th {\n",
       "        vertical-align: top;\n",
       "    }\n",
       "\n",
       "    .dataframe thead th {\n",
       "        text-align: right;\n",
       "    }\n",
       "</style>\n",
       "<table border=\"1\" class=\"dataframe\">\n",
       "  <thead>\n",
       "    <tr style=\"text-align: right;\">\n",
       "      <th></th>\n",
       "      <th>Employee ID</th>\n",
       "      <th>Total Cost</th>\n",
       "      <th>Worker</th>\n",
       "      <th>Project Plan Task</th>\n",
       "      <th>Project Plan Task ID</th>\n",
       "      <th>Initiative</th>\n",
       "      <th>Cost Center</th>\n",
       "      <th>ConsultingFeesCosted</th>\n",
       "      <th>Type</th>\n",
       "      <th>Project Hours Percentage</th>\n",
       "      <th>...</th>\n",
       "      <th>Amount Banked per Hour</th>\n",
       "      <th>Amount Banked</th>\n",
       "      <th>Cost per Project Hour</th>\n",
       "      <th>Utilization Target</th>\n",
       "      <th>Talent Pools</th>\n",
       "      <th>File</th>\n",
       "      <th>Project PTO or Admin</th>\n",
       "      <th>Cost per PTO Hour</th>\n",
       "      <th>Project &amp; PTO Hours</th>\n",
       "      <th>Bank Month</th>\n",
       "    </tr>\n",
       "  </thead>\n",
       "  <tbody>\n",
       "    <tr>\n",
       "      <th>0</th>\n",
       "      <td>4.0</td>\n",
       "      <td>2.273737e-13</td>\n",
       "      <td>Li Ma | Cynthia Ma</td>\n",
       "      <td>China &gt; PTO</td>\n",
       "      <td>PROJECT_PLAN_TASK-3-5724</td>\n",
       "      <td>CH - Admin</td>\n",
       "      <td>China</td>\n",
       "      <td>0.0</td>\n",
       "      <td>PTO Time for UnderUtilized</td>\n",
       "      <td>0.90301</td>\n",
       "      <td>...</td>\n",
       "      <td>0.0</td>\n",
       "      <td>0.0</td>\n",
       "      <td>123.439139</td>\n",
       "      <td>0.65</td>\n",
       "      <td>Manager</td>\n",
       "      <td>FINAL</td>\n",
       "      <td>PTO</td>\n",
       "      <td>29.830833</td>\n",
       "      <td>48.0</td>\n",
       "      <td>Oct-2024</td>\n",
       "    </tr>\n",
       "    <tr>\n",
       "      <th>1</th>\n",
       "      <td>7.0</td>\n",
       "      <td>-5.684342e-14</td>\n",
       "      <td>Dan Li | Danielle Li</td>\n",
       "      <td>China &gt; PTO</td>\n",
       "      <td>PROJECT_PLAN_TASK-3-5724</td>\n",
       "      <td>CH - Admin</td>\n",
       "      <td>China</td>\n",
       "      <td>0.0</td>\n",
       "      <td>PTO Time for UnderUtilized</td>\n",
       "      <td>0.9699</td>\n",
       "      <td>...</td>\n",
       "      <td>0.0</td>\n",
       "      <td>0.0</td>\n",
       "      <td>121.626840</td>\n",
       "      <td>0.65</td>\n",
       "      <td>Manager</td>\n",
       "      <td>FINAL</td>\n",
       "      <td>PTO</td>\n",
       "      <td>9.121875</td>\n",
       "      <td>48.0</td>\n",
       "      <td>Oct-2024</td>\n",
       "    </tr>\n",
       "    <tr>\n",
       "      <th>2</th>\n",
       "      <td>8.0</td>\n",
       "      <td>0.000000e+00</td>\n",
       "      <td>Yihan Hao</td>\n",
       "      <td>China &gt; PTO</td>\n",
       "      <td>PROJECT_PLAN_TASK-3-5724</td>\n",
       "      <td>CH - Admin</td>\n",
       "      <td>China</td>\n",
       "      <td>0.0</td>\n",
       "      <td>PTO Time for UnderUtilized</td>\n",
       "      <td>0.860507</td>\n",
       "      <td>...</td>\n",
       "      <td>0.0</td>\n",
       "      <td>0.0</td>\n",
       "      <td>190.255423</td>\n",
       "      <td>0.60</td>\n",
       "      <td>Principal</td>\n",
       "      <td>FINAL</td>\n",
       "      <td>PTO</td>\n",
       "      <td>61.040208</td>\n",
       "      <td>48.0</td>\n",
       "      <td>Oct-2024</td>\n",
       "    </tr>\n",
       "    <tr>\n",
       "      <th>3</th>\n",
       "      <td>16.0</td>\n",
       "      <td>1.085440e+03</td>\n",
       "      <td>Qian Sun</td>\n",
       "      <td>China &gt; PTO</td>\n",
       "      <td>PROJECT_PLAN_TASK-3-5724</td>\n",
       "      <td>CH - Admin</td>\n",
       "      <td>China</td>\n",
       "      <td>0.0</td>\n",
       "      <td>PTO Time for UnderUtilized</td>\n",
       "      <td>0.900621</td>\n",
       "      <td>...</td>\n",
       "      <td>0.0</td>\n",
       "      <td>0.0</td>\n",
       "      <td>84.800268</td>\n",
       "      <td>0.70</td>\n",
       "      <td>Associate\\n\\nSr. Associate</td>\n",
       "      <td>FINAL</td>\n",
       "      <td>PTO</td>\n",
       "      <td>22.613333</td>\n",
       "      <td>48.0</td>\n",
       "      <td>Oct-2024</td>\n",
       "    </tr>\n",
       "    <tr>\n",
       "      <th>4</th>\n",
       "      <td>127.0</td>\n",
       "      <td>6.425470e+03</td>\n",
       "      <td>Jeannene Cruise Woolley | Frances Woolley</td>\n",
       "      <td>Accounting &gt; PTO</td>\n",
       "      <td>PROJECT_PLAN_TASK-3-5772</td>\n",
       "      <td>ACT - Accounting</td>\n",
       "      <td>Org Finance</td>\n",
       "      <td>0.0</td>\n",
       "      <td>PTO Time for UnderUtilized</td>\n",
       "      <td>0</td>\n",
       "      <td>...</td>\n",
       "      <td>0.0</td>\n",
       "      <td>0.0</td>\n",
       "      <td>114.740506</td>\n",
       "      <td>0.65</td>\n",
       "      <td>Manager</td>\n",
       "      <td>FINAL</td>\n",
       "      <td>PTO</td>\n",
       "      <td>114.740536</td>\n",
       "      <td>56.0</td>\n",
       "      <td>Oct-2024</td>\n",
       "    </tr>\n",
       "    <tr>\n",
       "      <th>...</th>\n",
       "      <td>...</td>\n",
       "      <td>...</td>\n",
       "      <td>...</td>\n",
       "      <td>...</td>\n",
       "      <td>...</td>\n",
       "      <td>...</td>\n",
       "      <td>...</td>\n",
       "      <td>...</td>\n",
       "      <td>...</td>\n",
       "      <td>...</td>\n",
       "      <td>...</td>\n",
       "      <td>...</td>\n",
       "      <td>...</td>\n",
       "      <td>...</td>\n",
       "      <td>...</td>\n",
       "      <td>...</td>\n",
       "      <td>...</td>\n",
       "      <td>...</td>\n",
       "      <td>...</td>\n",
       "      <td>...</td>\n",
       "      <td>...</td>\n",
       "    </tr>\n",
       "    <tr>\n",
       "      <th>235</th>\n",
       "      <td>2060.0</td>\n",
       "      <td>1.886930e+03</td>\n",
       "      <td>Tara Rana</td>\n",
       "      <td>Climate Intelligence &gt; PTO</td>\n",
       "      <td>PROJECT_PLAN_TASK-3-5722</td>\n",
       "      <td>CIP - Admin</td>\n",
       "      <td>Climate Intelligence</td>\n",
       "      <td>0.0</td>\n",
       "      <td>PTO Time for UnderUtilized</td>\n",
       "      <td>0.44837</td>\n",
       "      <td>...</td>\n",
       "      <td>0.0</td>\n",
       "      <td>0.0</td>\n",
       "      <td>117.932671</td>\n",
       "      <td>0.40</td>\n",
       "      <td>Program Assistant/Executive Assistant</td>\n",
       "      <td>FINAL</td>\n",
       "      <td>PTO</td>\n",
       "      <td>117.933125</td>\n",
       "      <td>16.0</td>\n",
       "      <td>Oct-2024</td>\n",
       "    </tr>\n",
       "    <tr>\n",
       "      <th>236</th>\n",
       "      <td>2063.0</td>\n",
       "      <td>1.079320e+03</td>\n",
       "      <td>Diamond Terrell</td>\n",
       "      <td>Climate Aligned Industries &gt; PTO</td>\n",
       "      <td>PROJECT_PLAN_TASK-3-5723</td>\n",
       "      <td>CAI - Admin</td>\n",
       "      <td>Climate Aligned Industries</td>\n",
       "      <td>0.0</td>\n",
       "      <td>PTO Time for UnderUtilized</td>\n",
       "      <td>0.225694</td>\n",
       "      <td>...</td>\n",
       "      <td>0.0</td>\n",
       "      <td>0.0</td>\n",
       "      <td>134.914142</td>\n",
       "      <td>0.40</td>\n",
       "      <td>Program Assistant/Executive Assistant</td>\n",
       "      <td>FINAL</td>\n",
       "      <td>PTO</td>\n",
       "      <td>134.915000</td>\n",
       "      <td>8.0</td>\n",
       "      <td>Oct-2024</td>\n",
       "    </tr>\n",
       "    <tr>\n",
       "      <th>237</th>\n",
       "      <td>2068.0</td>\n",
       "      <td>1.875780e+03</td>\n",
       "      <td>Isabella Kiser | Bella Kiser</td>\n",
       "      <td>Influence Team &gt; PTO</td>\n",
       "      <td>PROJECT_PLAN_TASK-3-5737</td>\n",
       "      <td>COM - Admin</td>\n",
       "      <td>Influence Team</td>\n",
       "      <td>0.0</td>\n",
       "      <td>PTO Time for UnderUtilized</td>\n",
       "      <td>0</td>\n",
       "      <td>...</td>\n",
       "      <td>0.0</td>\n",
       "      <td>0.0</td>\n",
       "      <td>234.473486</td>\n",
       "      <td>0.40</td>\n",
       "      <td>Program Assistant/Executive Assistant</td>\n",
       "      <td>FINAL</td>\n",
       "      <td>PTO</td>\n",
       "      <td>234.472500</td>\n",
       "      <td>8.0</td>\n",
       "      <td>Oct-2024</td>\n",
       "    </tr>\n",
       "    <tr>\n",
       "      <th>238</th>\n",
       "      <td>2069.0</td>\n",
       "      <td>1.220840e+03</td>\n",
       "      <td>Kathryn Edwards | Kat Edwards</td>\n",
       "      <td>Global South &gt; PTO</td>\n",
       "      <td>PROJECT_PLAN_TASK-3-5729</td>\n",
       "      <td>GS - Admin</td>\n",
       "      <td>Global South</td>\n",
       "      <td>0.0</td>\n",
       "      <td>PTO Time for UnderUtilized</td>\n",
       "      <td>0.645833</td>\n",
       "      <td>...</td>\n",
       "      <td>0.0</td>\n",
       "      <td>0.0</td>\n",
       "      <td>152.604767</td>\n",
       "      <td>0.40</td>\n",
       "      <td>Program Assistant/Executive Assistant</td>\n",
       "      <td>FINAL</td>\n",
       "      <td>PTO</td>\n",
       "      <td>152.605000</td>\n",
       "      <td>8.0</td>\n",
       "      <td>Oct-2024</td>\n",
       "    </tr>\n",
       "    <tr>\n",
       "      <th>239</th>\n",
       "      <td>2070.0</td>\n",
       "      <td>1.151740e+03</td>\n",
       "      <td>Evvan Morton</td>\n",
       "      <td>Climate Aligned Industries &gt; PTO</td>\n",
       "      <td>PROJECT_PLAN_TASK-3-5723</td>\n",
       "      <td>CAI - Admin</td>\n",
       "      <td>Climate Aligned Industries</td>\n",
       "      <td>0.0</td>\n",
       "      <td>PTO Time for UnderUtilized</td>\n",
       "      <td>0.625</td>\n",
       "      <td>...</td>\n",
       "      <td>0.0</td>\n",
       "      <td>0.0</td>\n",
       "      <td>143.967736</td>\n",
       "      <td>0.70</td>\n",
       "      <td>Sr. Associate</td>\n",
       "      <td>FINAL</td>\n",
       "      <td>PTO</td>\n",
       "      <td>143.967500</td>\n",
       "      <td>8.0</td>\n",
       "      <td>Oct-2024</td>\n",
       "    </tr>\n",
       "  </tbody>\n",
       "</table>\n",
       "<p>240 rows × 33 columns</p>\n",
       "</div>"
      ],
      "text/plain": [
       "     Employee ID    Total Cost                                     Worker  \\\n",
       "0            4.0  2.273737e-13                         Li Ma | Cynthia Ma   \n",
       "1            7.0 -5.684342e-14                       Dan Li | Danielle Li   \n",
       "2            8.0  0.000000e+00                                  Yihan Hao   \n",
       "3           16.0  1.085440e+03                                   Qian Sun   \n",
       "4          127.0  6.425470e+03  Jeannene Cruise Woolley | Frances Woolley   \n",
       "..           ...           ...                                        ...   \n",
       "235       2060.0  1.886930e+03                                  Tara Rana   \n",
       "236       2063.0  1.079320e+03                            Diamond Terrell   \n",
       "237       2068.0  1.875780e+03               Isabella Kiser | Bella Kiser   \n",
       "238       2069.0  1.220840e+03              Kathryn Edwards | Kat Edwards   \n",
       "239       2070.0  1.151740e+03                               Evvan Morton   \n",
       "\n",
       "                    Project Plan Task      Project Plan Task ID  \\\n",
       "0                         China > PTO  PROJECT_PLAN_TASK-3-5724   \n",
       "1                         China > PTO  PROJECT_PLAN_TASK-3-5724   \n",
       "2                         China > PTO  PROJECT_PLAN_TASK-3-5724   \n",
       "3                         China > PTO  PROJECT_PLAN_TASK-3-5724   \n",
       "4                    Accounting > PTO  PROJECT_PLAN_TASK-3-5772   \n",
       "..                                ...                       ...   \n",
       "235        Climate Intelligence > PTO  PROJECT_PLAN_TASK-3-5722   \n",
       "236  Climate Aligned Industries > PTO  PROJECT_PLAN_TASK-3-5723   \n",
       "237              Influence Team > PTO  PROJECT_PLAN_TASK-3-5737   \n",
       "238                Global South > PTO  PROJECT_PLAN_TASK-3-5729   \n",
       "239  Climate Aligned Industries > PTO  PROJECT_PLAN_TASK-3-5723   \n",
       "\n",
       "           Initiative                 Cost Center  ConsultingFeesCosted  \\\n",
       "0          CH - Admin                       China                   0.0   \n",
       "1          CH - Admin                       China                   0.0   \n",
       "2          CH - Admin                       China                   0.0   \n",
       "3          CH - Admin                       China                   0.0   \n",
       "4    ACT - Accounting                 Org Finance                   0.0   \n",
       "..                ...                         ...                   ...   \n",
       "235       CIP - Admin        Climate Intelligence                   0.0   \n",
       "236       CAI - Admin  Climate Aligned Industries                   0.0   \n",
       "237       COM - Admin              Influence Team                   0.0   \n",
       "238        GS - Admin                Global South                   0.0   \n",
       "239       CAI - Admin  Climate Aligned Industries                   0.0   \n",
       "\n",
       "                           Type Project Hours Percentage  ...  \\\n",
       "0    PTO Time for UnderUtilized                  0.90301  ...   \n",
       "1    PTO Time for UnderUtilized                   0.9699  ...   \n",
       "2    PTO Time for UnderUtilized                 0.860507  ...   \n",
       "3    PTO Time for UnderUtilized                 0.900621  ...   \n",
       "4    PTO Time for UnderUtilized                        0  ...   \n",
       "..                          ...                      ...  ...   \n",
       "235  PTO Time for UnderUtilized                  0.44837  ...   \n",
       "236  PTO Time for UnderUtilized                 0.225694  ...   \n",
       "237  PTO Time for UnderUtilized                        0  ...   \n",
       "238  PTO Time for UnderUtilized                 0.645833  ...   \n",
       "239  PTO Time for UnderUtilized                    0.625  ...   \n",
       "\n",
       "     Amount Banked per Hour Amount Banked Cost per Project Hour  \\\n",
       "0                       0.0           0.0            123.439139   \n",
       "1                       0.0           0.0            121.626840   \n",
       "2                       0.0           0.0            190.255423   \n",
       "3                       0.0           0.0             84.800268   \n",
       "4                       0.0           0.0            114.740506   \n",
       "..                      ...           ...                   ...   \n",
       "235                     0.0           0.0            117.932671   \n",
       "236                     0.0           0.0            134.914142   \n",
       "237                     0.0           0.0            234.473486   \n",
       "238                     0.0           0.0            152.604767   \n",
       "239                     0.0           0.0            143.967736   \n",
       "\n",
       "    Utilization Target                           Talent Pools   File  \\\n",
       "0                 0.65                                Manager  FINAL   \n",
       "1                 0.65                                Manager  FINAL   \n",
       "2                 0.60                              Principal  FINAL   \n",
       "3                 0.70             Associate\\n\\nSr. Associate  FINAL   \n",
       "4                 0.65                                Manager  FINAL   \n",
       "..                 ...                                    ...    ...   \n",
       "235               0.40  Program Assistant/Executive Assistant  FINAL   \n",
       "236               0.40  Program Assistant/Executive Assistant  FINAL   \n",
       "237               0.40  Program Assistant/Executive Assistant  FINAL   \n",
       "238               0.40  Program Assistant/Executive Assistant  FINAL   \n",
       "239               0.70                          Sr. Associate  FINAL   \n",
       "\n",
       "    Project PTO or Admin Cost per PTO Hour  Project & PTO Hours  Bank Month  \n",
       "0                    PTO         29.830833                 48.0    Oct-2024  \n",
       "1                    PTO          9.121875                 48.0    Oct-2024  \n",
       "2                    PTO         61.040208                 48.0    Oct-2024  \n",
       "3                    PTO         22.613333                 48.0    Oct-2024  \n",
       "4                    PTO        114.740536                 56.0    Oct-2024  \n",
       "..                   ...               ...                  ...         ...  \n",
       "235                  PTO        117.933125                 16.0    Oct-2024  \n",
       "236                  PTO        134.915000                  8.0    Oct-2024  \n",
       "237                  PTO        234.472500                  8.0    Oct-2024  \n",
       "238                  PTO        152.605000                  8.0    Oct-2024  \n",
       "239                  PTO        143.967500                  8.0    Oct-2024  \n",
       "\n",
       "[240 rows x 33 columns]"
      ]
     },
     "execution_count": 537,
     "metadata": {},
     "output_type": "execute_result"
    }
   ],
   "source": [
    "AllCostsAllocatedPTOUpdate"
   ]
  },
  {
   "cell_type": "code",
   "execution_count": 538,
   "id": "56c6b0fd",
   "metadata": {},
   "outputs": [],
   "source": [
    "#AllCostsAllocatedPTOUpdate = pd.merge(AllCostsAllocatedPTOUpdate, PTOreductionsumming, on = 'Employee ID', how = 'left')"
   ]
  },
  {
   "cell_type": "code",
   "execution_count": 539,
   "id": "81ce18c7",
   "metadata": {},
   "outputs": [
    {
     "data": {
      "text/html": [
       "<div>\n",
       "<style scoped>\n",
       "    .dataframe tbody tr th:only-of-type {\n",
       "        vertical-align: middle;\n",
       "    }\n",
       "\n",
       "    .dataframe tbody tr th {\n",
       "        vertical-align: top;\n",
       "    }\n",
       "\n",
       "    .dataframe thead th {\n",
       "        text-align: right;\n",
       "    }\n",
       "</style>\n",
       "<table border=\"1\" class=\"dataframe\">\n",
       "  <thead>\n",
       "    <tr style=\"text-align: right;\">\n",
       "      <th></th>\n",
       "      <th>Employee ID</th>\n",
       "      <th>PTO Adjustment</th>\n",
       "    </tr>\n",
       "  </thead>\n",
       "  <tbody>\n",
       "    <tr>\n",
       "      <th>4</th>\n",
       "      <td>4.0</td>\n",
       "      <td>-60.602586</td>\n",
       "    </tr>\n",
       "    <tr>\n",
       "      <th>5</th>\n",
       "      <td>4.0</td>\n",
       "      <td>-195.632422</td>\n",
       "    </tr>\n",
       "    <tr>\n",
       "      <th>6</th>\n",
       "      <td>4.0</td>\n",
       "      <td>-539.000458</td>\n",
       "    </tr>\n",
       "    <tr>\n",
       "      <th>7</th>\n",
       "      <td>4.0</td>\n",
       "      <td>-539.678243</td>\n",
       "    </tr>\n",
       "    <tr>\n",
       "      <th>8</th>\n",
       "      <td>4.0</td>\n",
       "      <td>-96.966290</td>\n",
       "    </tr>\n",
       "  </tbody>\n",
       "</table>\n",
       "</div>"
      ],
      "text/plain": [
       "   Employee ID  PTO Adjustment\n",
       "4          4.0      -60.602586\n",
       "5          4.0     -195.632422\n",
       "6          4.0     -539.000458\n",
       "7          4.0     -539.678243\n",
       "8          4.0      -96.966290"
      ]
     },
     "execution_count": 539,
     "metadata": {},
     "output_type": "execute_result"
    }
   ],
   "source": [
    "PTOreductionsumming.head()"
   ]
  },
  {
   "cell_type": "code",
   "execution_count": 540,
   "id": "959e0d43",
   "metadata": {},
   "outputs": [],
   "source": [
    "#AllCostsAllocatedFINALPTO.to_excel('/mnt/c/Users/jerem/anaconda3/envs/Code/RMICODING/Data/TimeCodingData/Outputs/ALLcostsAllocatedPTOFINAL.xlsx')"
   ]
  },
  {
   "cell_type": "code",
   "execution_count": 541,
   "id": "4070ec11",
   "metadata": {},
   "outputs": [
    {
     "data": {
      "text/plain": [
       "240"
      ]
     },
     "execution_count": 541,
     "metadata": {},
     "output_type": "execute_result"
    }
   ],
   "source": [
    "len(AllCostsAllocatedPTOUpdate)"
   ]
  },
  {
   "cell_type": "code",
   "execution_count": 542,
   "id": "65ba80b9",
   "metadata": {},
   "outputs": [
    {
     "data": {
      "text/plain": [
       "416193.2676860808"
      ]
     },
     "execution_count": 542,
     "metadata": {},
     "output_type": "execute_result"
    }
   ],
   "source": [
    "AllCostsAllocatedPTOUpdate['Total Cost'].sum()"
   ]
  },
  {
   "cell_type": "markdown",
   "id": "9ded0bce",
   "metadata": {},
   "source": [
    "Now Push PTO Accruals to Tasks"
   ]
  },
  {
   "cell_type": "code",
   "execution_count": 543,
   "id": "31f27699",
   "metadata": {},
   "outputs": [],
   "source": [
    "TaskstoFund = AllCostsAllocated[AllCostsAllocated['Type']!='PTO Time for UnderUtilized']"
   ]
  },
  {
   "cell_type": "code",
   "execution_count": 544,
   "id": "7b1137dc",
   "metadata": {},
   "outputs": [
    {
     "data": {
      "text/plain": [
       "163846.02231391915"
      ]
     },
     "execution_count": 544,
     "metadata": {},
     "output_type": "execute_result"
    }
   ],
   "source": [
    "PTOreduction['TaskDrawdowns'].sum()"
   ]
  },
  {
   "cell_type": "code",
   "execution_count": 545,
   "id": "3239ce8f",
   "metadata": {},
   "outputs": [],
   "source": [
    "PTOreduction = pd.merge(PTOreduction, salarypercentages_table, on = 'Employee ID', how = 'left')"
   ]
  },
  {
   "cell_type": "code",
   "execution_count": 546,
   "id": "2cbcdcd7",
   "metadata": {},
   "outputs": [],
   "source": [
    "PTOreduction.to_excel('./Outputs/SalaryPercentagesTable.xlsx')"
   ]
  },
  {
   "cell_type": "code",
   "execution_count": 547,
   "id": "b31f7f6f",
   "metadata": {},
   "outputs": [],
   "source": [
    "PTOreduction['SalaryCosted'] = PTOreduction['TaskDrawdowns']*PTOreduction['SalaryPercentage']\n",
    "PTOreduction['BenefitsCosted'] = PTOreduction['TaskDrawdowns']*PTOreduction['BenefitsPercentage']\n",
    "PTOreduction['SharedCosted'] = PTOreduction['TaskDrawdowns']*PTOreduction['SharedPercentage']\n",
    "PTOreduction['BonusCosted'] = PTOreduction['TaskDrawdowns']*PTOreduction['BonusPercentage']"
   ]
  },
  {
   "cell_type": "code",
   "execution_count": 548,
   "id": "c9779245",
   "metadata": {},
   "outputs": [
    {
     "data": {
      "text/plain": [
       "Index(['Employee ID', 'Project Plan Task ID', 'Project', 'Location',\n",
       "       'Lobbying', 'Lobbying Location', 'Amount Banked', 'Total Banked',\n",
       "       'Percent of Total Bank', 'PTO Funded', 'TaskDrawdowns',\n",
       "       'RemainingPTOBankBalance', 'Employee Name', 'PTO Adjustment',\n",
       "       'SalaryPercentage', 'BenefitsPercentage', 'SharedPercentage',\n",
       "       'BonusPercentage', 'SalaryCosted', 'BenefitsCosted', 'SharedCosted',\n",
       "       'BonusCosted'],\n",
       "      dtype='object')"
      ]
     },
     "execution_count": 548,
     "metadata": {},
     "output_type": "execute_result"
    }
   ],
   "source": [
    "PTOreduction.columns"
   ]
  },
  {
   "cell_type": "code",
   "execution_count": 549,
   "id": "c8b07918",
   "metadata": {},
   "outputs": [],
   "source": [
    "\n",
    "PTOreduction = pd.merge(PTOreduction, HomeCostCenterlist, on = 'Employee ID', how = 'left')\n",
    "PTOreduction = pd.merge(PTOreduction, EmployeeIDsandNames, on = 'Employee ID', how = 'left')\n"
   ]
  },
  {
   "cell_type": "code",
   "execution_count": 550,
   "id": "f475a20c",
   "metadata": {},
   "outputs": [
    {
     "data": {
      "text/plain": [
       "Index(['Project', 'Project Hierarchy - Level 02', 'Project Ref ID',\n",
       "       'External Project Reference', 'Cost Center', 'Cost Center Ref ID',\n",
       "       'Initiative', 'Initiative Ref ID', 'Project Phase', 'Project Task',\n",
       "       'Project Plan Task', 'Project Plan Task ID', 'Project Plan Task WID',\n",
       "       'Keep'],\n",
       "      dtype='object')"
      ]
     },
     "execution_count": 550,
     "metadata": {},
     "output_type": "execute_result"
    }
   ],
   "source": [
    "TaskMaps.columns"
   ]
  },
  {
   "cell_type": "code",
   "execution_count": 551,
   "id": "b052524f-c24c-47de-840f-9a77067f1cdb",
   "metadata": {},
   "outputs": [],
   "source": [
    "TaskMaps2 = TaskMaps[['Cost Center',\n",
    "       'Initiative',\n",
    "       'Project Plan Task', 'Project Plan Task ID', ]]"
   ]
  },
  {
   "cell_type": "code",
   "execution_count": 552,
   "id": "48c11230-8292-4d94-8baa-50b64096237b",
   "metadata": {},
   "outputs": [],
   "source": [
    "PTOreduction = pd.merge(PTOreduction, TaskMaps2, on = 'Project Plan Task ID', how = 'left')"
   ]
  },
  {
   "cell_type": "code",
   "execution_count": 553,
   "id": "8b30d0bc-179a-4d31-b73c-0e86339c163b",
   "metadata": {},
   "outputs": [
    {
     "data": {
      "text/plain": [
       "Index(['Employee ID', 'Project Plan Task ID', 'Project', 'Location',\n",
       "       'Lobbying', 'Lobbying Location', 'Amount Banked', 'Total Banked',\n",
       "       'Percent of Total Bank', 'PTO Funded', 'TaskDrawdowns',\n",
       "       'RemainingPTOBankBalance', 'Employee Name', 'PTO Adjustment',\n",
       "       'SalaryPercentage', 'BenefitsPercentage', 'SharedPercentage',\n",
       "       'BonusPercentage', 'SalaryCosted', 'BenefitsCosted', 'SharedCosted',\n",
       "       'BonusCosted', 'Home Cost Center', 'Worker', 'Cost Center',\n",
       "       'Initiative', 'Project Plan Task'],\n",
       "      dtype='object')"
      ]
     },
     "execution_count": 553,
     "metadata": {},
     "output_type": "execute_result"
    }
   ],
   "source": [
    "PTOreduction.columns"
   ]
  },
  {
   "cell_type": "code",
   "execution_count": null,
   "id": "1c1017ff-2955-44db-b2fd-d073cad7747b",
   "metadata": {},
   "outputs": [],
   "source": []
  },
  {
   "cell_type": "code",
   "execution_count": 554,
   "id": "f0dc160e",
   "metadata": {},
   "outputs": [
    {
     "data": {
      "text/plain": [
       "Index(['Worker', 'Employee ID', 'Project Plan Task', 'Project Plan Task ID',\n",
       "       'SalaryCosted', 'BenefitsCosted', 'SharedCosted', 'BonusCosted',\n",
       "       'Initiative', 'Cost Center', 'ConsultingFeesCosted', 'Type',\n",
       "       'Project Hours Percentage', 'Admin Hours Percentage', 'Lobbying',\n",
       "       'Lobbying Location', 'Project or Admin', 'Project',\n",
       "       'Worker Cost Center', 'PTO more than Admin', 'Location',\n",
       "       'Total Project Hours', 'Needed Project Hours', 'Adjusted Hours',\n",
       "       'Actual Utilization Rate', 'Cost per Project Hour',\n",
       "       'Utilization Target', 'Talent Pools', 'Total Cost', 'File',\n",
       "       'Project PTO or Admin', 'Standard Monthly Cost',\n",
       "       'Amount Banked per Hour', 'Amount Banked', 'Cost per PTO Hour',\n",
       "       'Project & PTO Hours', 'Bank Month'],\n",
       "      dtype='object')"
      ]
     },
     "execution_count": 554,
     "metadata": {},
     "output_type": "execute_result"
    }
   ],
   "source": [
    "TaskstoFund.columns"
   ]
  },
  {
   "cell_type": "code",
   "execution_count": 555,
   "id": "4b916638",
   "metadata": {},
   "outputs": [
    {
     "data": {
      "text/plain": [
       "Index(['Employee ID', 'Project Plan Task ID', 'Project', 'Location',\n",
       "       'Lobbying', 'Lobbying Location', 'Amount Banked', 'Total Banked',\n",
       "       'Percent of Total Bank', 'PTO Funded', 'TaskDrawdowns',\n",
       "       'RemainingPTOBankBalance', 'Employee Name', 'PTO Adjustment',\n",
       "       'SalaryPercentage', 'BenefitsPercentage', 'SharedPercentage',\n",
       "       'BonusPercentage', 'SalaryCosted', 'BenefitsCosted', 'SharedCosted',\n",
       "       'BonusCosted', 'Home Cost Center', 'Worker', 'Cost Center',\n",
       "       'Initiative', 'Project Plan Task'],\n",
       "      dtype='object')"
      ]
     },
     "execution_count": 555,
     "metadata": {},
     "output_type": "execute_result"
    }
   ],
   "source": [
    "PTOreduction.columns"
   ]
  },
  {
   "cell_type": "code",
   "execution_count": 556,
   "id": "c9157b46",
   "metadata": {},
   "outputs": [],
   "source": [
    "PTOreduction = PTOreduction[['Employee ID', 'Project Plan Task', 'Project Plan Task ID',\n",
    "       'Initiative', 'Cost Center', 'Project', 'Location', 'Lobbying',\n",
    "       'Lobbying Location', 'TaskDrawdowns',\n",
    "       'SalaryPercentage',\n",
    "       'BenefitsPercentage', 'SharedPercentage', 'BonusPercentage',\n",
    "       'SalaryCosted', 'BenefitsCosted', 'SharedCosted', 'BonusCosted',\n",
    "       'Home Cost Center', 'Worker']]\n",
    "\n"
   ]
  },
  {
   "cell_type": "code",
   "execution_count": 557,
   "id": "cc3b3ce9",
   "metadata": {},
   "outputs": [],
   "source": [
    "PTOreduction['Total Cost'] = PTOreduction['SalaryCosted'] + PTOreduction['BenefitsCosted'] + PTOreduction['SharedCosted'] + PTOreduction['BonusCosted']\n",
    "PTOreduction['Type'] = \"PTO Task Accrual\"\n",
    "PTOreduction['Project Hours Percentage'] = 1\n",
    "PTOreduction['Admin Hours Percentage'] = 0\n",
    "PTOreduction['Project or Admin'] = 'Project'\n",
    "PTOreduction['PTO more than Admint'] = 'NA'\n",
    "\n",
    "\n",
    "PTOreduction.rename(columns={'Home Cost Center': 'Worker Cost Center'}, inplace=True)"
   ]
  },
  {
   "cell_type": "code",
   "execution_count": 558,
   "id": "d13677da",
   "metadata": {},
   "outputs": [],
   "source": [
    "#PTOreduction.to_excel('/mnt/c/Users/jerem/anaconda3/envs/Code/RMICODING/Data/TimeCodingData/Outputs/PTOReduction.xlsx')"
   ]
  },
  {
   "cell_type": "code",
   "execution_count": 559,
   "id": "420d27ec",
   "metadata": {},
   "outputs": [],
   "source": [
    "PTOreduction.to_excel('./Outputs/PTO7_PTOReduction'+Type+timestampreport+'.xlsx')"
   ]
  },
  {
   "cell_type": "code",
   "execution_count": 560,
   "id": "66570152",
   "metadata": {},
   "outputs": [
    {
     "data": {
      "text/plain": [
       "163846.02231391915"
      ]
     },
     "execution_count": 560,
     "metadata": {},
     "output_type": "execute_result"
    }
   ],
   "source": [
    "PTOreduction['Total Cost'].sum()"
   ]
  },
  {
   "cell_type": "code",
   "execution_count": 561,
   "id": "7d3f9c38",
   "metadata": {},
   "outputs": [],
   "source": [
    "AllCostsAllocatedFINALPTO.to_excel('./Outputs/AllCostsAllocatedFINALPTO'+Type+timestampreport+'.xlsx')"
   ]
  },
  {
   "cell_type": "code",
   "execution_count": 562,
   "id": "979f0735",
   "metadata": {},
   "outputs": [
    {
     "data": {
      "text/plain": [
       "416193.2676860808"
      ]
     },
     "execution_count": 562,
     "metadata": {},
     "output_type": "execute_result"
    }
   ],
   "source": [
    "AllCostsAllocatedFINALPTO['Total Cost'].sum()"
   ]
  },
  {
   "cell_type": "code",
   "execution_count": 563,
   "id": "c36d18be",
   "metadata": {},
   "outputs": [],
   "source": [
    "TaskstoFund.to_excel('./Outputs/PTO5_ TaskstoFund'+Type+timestampreport+'.xlsx')"
   ]
  },
  {
   "cell_type": "code",
   "execution_count": 564,
   "id": "cb34a2c4",
   "metadata": {},
   "outputs": [
    {
     "data": {
      "text/plain": [
       "9716511.98"
      ]
     },
     "execution_count": 564,
     "metadata": {},
     "output_type": "execute_result"
    }
   ],
   "source": [
    "TaskstoFund['Total Cost'].sum()"
   ]
  },
  {
   "cell_type": "code",
   "execution_count": 565,
   "id": "ae1bccdc",
   "metadata": {},
   "outputs": [],
   "source": [
    "AllCostsAllocatedPTOAccruals = pd.concat([AllCostsAllocatedFINALPTO, PTOreduction, TaskstoFund], ignore_index=True)"
   ]
  },
  {
   "cell_type": "code",
   "execution_count": 566,
   "id": "0a9df07b-d90b-4f1b-b243-2d02bb65eec1",
   "metadata": {},
   "outputs": [],
   "source": [
    "AllCostsAllocatedPTOAccruals['Employee ID'] = AllCostsAllocatedPTOAccruals['Employee ID'].astype(int)\n",
    "AllCostsAllocatedPTOAccruals['Employee ID'] = AllCostsAllocatedPTOAccruals['Employee ID'].apply(str)"
   ]
  },
  {
   "cell_type": "code",
   "execution_count": 567,
   "id": "a0e4467e-eb37-44b0-bcde-21a2f5b2a68a",
   "metadata": {},
   "outputs": [],
   "source": [
    "AllCostsAllocatedPTOAccruals['Employee ID'] = AllCostsAllocatedPTOAccruals['Employee ID'].apply(add_zeros)"
   ]
  },
  {
   "cell_type": "code",
   "execution_count": 568,
   "id": "1318aa13-dd01-42fe-b409-915fd842b39b",
   "metadata": {},
   "outputs": [],
   "source": [
    "AllCostsAllocatedPTOAccruals.loc[AllCostsAllocatedPTOAccruals['Initiative'] == 'MTX - Admin', 'Initiative'] = 'CFT - Admin' "
   ]
  },
  {
   "cell_type": "code",
   "execution_count": 569,
   "id": "b998294e",
   "metadata": {},
   "outputs": [],
   "source": [
    "AllCostsAllocatedPTOAccruals.to_excel('./Outputs/ALLcostsAllocatedwACCRUALS_FINAL'+Type+timestampreport+'.xlsx')"
   ]
  },
  {
   "cell_type": "markdown",
   "id": "f153b751",
   "metadata": {},
   "source": [
    "Create Final Balances File After Withdrawals"
   ]
  },
  {
   "cell_type": "code",
   "execution_count": null,
   "id": "a4efacd4",
   "metadata": {},
   "outputs": [],
   "source": []
  },
  {
   "cell_type": "code",
   "execution_count": null,
   "id": "c4c5ffc2",
   "metadata": {},
   "outputs": [],
   "source": []
  },
  {
   "cell_type": "code",
   "execution_count": null,
   "id": "51615f86",
   "metadata": {},
   "outputs": [],
   "source": []
  },
  {
   "cell_type": "code",
   "execution_count": null,
   "id": "042c25ed",
   "metadata": {},
   "outputs": [],
   "source": []
  },
  {
   "cell_type": "code",
   "execution_count": null,
   "id": "9ca0bd09",
   "metadata": {},
   "outputs": [],
   "source": []
  },
  {
   "cell_type": "markdown",
   "id": "8a488852",
   "metadata": {},
   "source": [
    "# Funding Source Reporting"
   ]
  },
  {
   "cell_type": "code",
   "execution_count": 570,
   "id": "6cba8f24",
   "metadata": {},
   "outputs": [],
   "source": [
    "#FundingSourceReport = pd.merge(FundingSourceReport, FundingSourceRulesLookup, on = 'Project Plan Task ID', how = 'left')"
   ]
  },
  {
   "cell_type": "code",
   "execution_count": 571,
   "id": "58336969",
   "metadata": {},
   "outputs": [
    {
     "data": {
      "text/plain": [
       "\"FundingSourceReport['Amount Banked 1'] = FundingSourceReport['Amount Banked'] * (FundingSourceReport['% - Detail 1']/100)\\nFundingSourceReport['Amount Banked 2'] = FundingSourceReport['Amount Banked'] * (FundingSourceReport['% - Detail 2']/100)\\nFundingSourceReport['Amount Banked 3'] = FundingSourceReport['Amount Banked'] * (FundingSourceReport['% - Detail 3']/100)\""
      ]
     },
     "execution_count": 571,
     "metadata": {},
     "output_type": "execute_result"
    }
   ],
   "source": [
    "'''FundingSourceReport['Amount Banked 1'] = FundingSourceReport['Amount Banked'] * (FundingSourceReport['% - Detail 1']/100)\n",
    "FundingSourceReport['Amount Banked 2'] = FundingSourceReport['Amount Banked'] * (FundingSourceReport['% - Detail 2']/100)\n",
    "FundingSourceReport['Amount Banked 3'] = FundingSourceReport['Amount Banked'] * (FundingSourceReport['% - Detail 3']/100)'''"
   ]
  },
  {
   "cell_type": "code",
   "execution_count": 572,
   "id": "bd18cf88",
   "metadata": {},
   "outputs": [
    {
     "data": {
      "text/plain": [
       "\"FundingSourceReport1 = FundingSourceReport[['Worker', 'Employee ID', 'Project Plan Task', 'Project Plan Task ID',\\n       'SalaryCosted', 'BenefitsCosted', 'SharedCosted', 'BonusCosted',\\n       'Initiative', 'Cost Center', 'Type', 'Project Hours Percentage',\\n       'Admin Hours Percentage', 'Lobbying', 'Lobbying Location',\\n       'Project or Admin', 'Project', 'Worker Cost Center', 'Location',\\n       'Total Project Hours', 'Needed Project Hours', 'Adjusted Hours',\\n       'Actual Utilization Rate', 'Cost per Project Hour',\\n       'Utilization Target', 'Talent Pools', 'Total Cost', 'File',\\n       'Project PTO or Admin', 'Standard Monthly Cost',\\n       'Amount Banked per Hour', 'Hours', 'Bank Month',\\n       'Funding Source Count', 'Funding Source Greater than 1', 'Detail 1', '% - Detail 1','Funding Source 1', 'Amount Banked 1']]\\n\\nFundingSourceReport1 = FundingSourceReport1.rename(columns={'Detail 1': 'Detail', '% - Detail 1': '% - Detail', 'Funding Source 1': 'Funding Source', 'Amount Banked 1': 'Amount Banked'})\""
      ]
     },
     "execution_count": 572,
     "metadata": {},
     "output_type": "execute_result"
    }
   ],
   "source": [
    "'''FundingSourceReport1 = FundingSourceReport[['Worker', 'Employee ID', 'Project Plan Task', 'Project Plan Task ID',\n",
    "       'SalaryCosted', 'BenefitsCosted', 'SharedCosted', 'BonusCosted',\n",
    "       'Initiative', 'Cost Center', 'Type', 'Project Hours Percentage',\n",
    "       'Admin Hours Percentage', 'Lobbying', 'Lobbying Location',\n",
    "       'Project or Admin', 'Project', 'Worker Cost Center', 'Location',\n",
    "       'Total Project Hours', 'Needed Project Hours', 'Adjusted Hours',\n",
    "       'Actual Utilization Rate', 'Cost per Project Hour',\n",
    "       'Utilization Target', 'Talent Pools', 'Total Cost', 'File',\n",
    "       'Project PTO or Admin', 'Standard Monthly Cost',\n",
    "       'Amount Banked per Hour', 'Hours', 'Bank Month',\n",
    "       'Funding Source Count', 'Funding Source Greater than 1', 'Detail 1', '% - Detail 1','Funding Source 1', 'Amount Banked 1']]\n",
    "\n",
    "FundingSourceReport1 = FundingSourceReport1.rename(columns={'Detail 1': 'Detail', '% - Detail 1': '% - Detail', 'Funding Source 1': 'Funding Source', 'Amount Banked 1': 'Amount Banked'})'''"
   ]
  },
  {
   "cell_type": "code",
   "execution_count": 573,
   "id": "1c1fca94",
   "metadata": {},
   "outputs": [
    {
     "data": {
      "text/plain": [
       "\"FundingSourceReport2 = FundingSourceReport[['Worker', 'Employee ID', 'Project Plan Task', 'Project Plan Task ID',\\n       'SalaryCosted', 'BenefitsCosted', 'SharedCosted', 'BonusCosted',\\n       'Initiative', 'Cost Center', 'Type', 'Project Hours Percentage',\\n       'Admin Hours Percentage', 'Lobbying', 'Lobbying Location',\\n       'Project or Admin', 'Project', 'Worker Cost Center', 'Location',\\n       'Total Project Hours', 'Needed Project Hours', 'Adjusted Hours',\\n       'Actual Utilization Rate', 'Cost per Project Hour',\\n       'Utilization Target', 'Talent Pools', 'Total Cost', 'File',\\n       'Project PTO or Admin', 'Standard Monthly Cost',\\n       'Amount Banked per Hour', 'Hours', 'Bank Month',\\n       'Funding Source Count', 'Funding Source Greater than 1', 'Detail 2', '% - Detail 2','Funding Source 2', 'Amount Banked 2']]\\n\\nFundingSourceReport2 = FundingSourceReport2.rename(columns={'Detail 2': 'Detail', '% - Detail 2': '% - Detail', 'Funding Source 2': 'Funding Source', 'Amount Banked 2': 'Amount Banked'})\\n\""
      ]
     },
     "execution_count": 573,
     "metadata": {},
     "output_type": "execute_result"
    }
   ],
   "source": [
    "'''FundingSourceReport2 = FundingSourceReport[['Worker', 'Employee ID', 'Project Plan Task', 'Project Plan Task ID',\n",
    "       'SalaryCosted', 'BenefitsCosted', 'SharedCosted', 'BonusCosted',\n",
    "       'Initiative', 'Cost Center', 'Type', 'Project Hours Percentage',\n",
    "       'Admin Hours Percentage', 'Lobbying', 'Lobbying Location',\n",
    "       'Project or Admin', 'Project', 'Worker Cost Center', 'Location',\n",
    "       'Total Project Hours', 'Needed Project Hours', 'Adjusted Hours',\n",
    "       'Actual Utilization Rate', 'Cost per Project Hour',\n",
    "       'Utilization Target', 'Talent Pools', 'Total Cost', 'File',\n",
    "       'Project PTO or Admin', 'Standard Monthly Cost',\n",
    "       'Amount Banked per Hour', 'Hours', 'Bank Month',\n",
    "       'Funding Source Count', 'Funding Source Greater than 1', 'Detail 2', '% - Detail 2','Funding Source 2', 'Amount Banked 2']]\n",
    "\n",
    "FundingSourceReport2 = FundingSourceReport2.rename(columns={'Detail 2': 'Detail', '% - Detail 2': '% - Detail', 'Funding Source 2': 'Funding Source', 'Amount Banked 2': 'Amount Banked'})\n",
    "'''"
   ]
  },
  {
   "cell_type": "code",
   "execution_count": 574,
   "id": "c1cf4d16",
   "metadata": {},
   "outputs": [
    {
     "data": {
      "text/plain": [
       "\"FundingSourceReport3 = FundingSourceReport[['Worker', 'Employee ID', 'Project Plan Task', 'Project Plan Task ID',\\n       'SalaryCosted', 'BenefitsCosted', 'SharedCosted', 'BonusCosted',\\n       'Initiative', 'Cost Center', 'Type', 'Project Hours Percentage',\\n       'Admin Hours Percentage', 'Lobbying', 'Lobbying Location',\\n       'Project or Admin', 'Project', 'Worker Cost Center', 'Location',\\n       'Total Project Hours', 'Needed Project Hours', 'Adjusted Hours',\\n       'Actual Utilization Rate', 'Cost per Project Hour',\\n       'Utilization Target', 'Talent Pools', 'Total Cost', 'File',\\n       'Project PTO or Admin', 'Standard Monthly Cost',\\n       'Amount Banked per Hour', 'Hours', 'Bank Month',\\n       'Funding Source Count', 'Funding Source Greater than 1', 'Detail 3', '% - Detail 3','Funding Source 3', 'Amount Banked 3']]\\n\\nFundingSourceReport3 = FundingSourceReport3.rename(columns={'Detail 3': 'Detail', '% - Detail 3': '% - Detail', 'Funding Source 3': 'Funding Source', 'Amount Banked 3': 'Amount Banked'})\\n\""
      ]
     },
     "execution_count": 574,
     "metadata": {},
     "output_type": "execute_result"
    }
   ],
   "source": [
    "'''FundingSourceReport3 = FundingSourceReport[['Worker', 'Employee ID', 'Project Plan Task', 'Project Plan Task ID',\n",
    "       'SalaryCosted', 'BenefitsCosted', 'SharedCosted', 'BonusCosted',\n",
    "       'Initiative', 'Cost Center', 'Type', 'Project Hours Percentage',\n",
    "       'Admin Hours Percentage', 'Lobbying', 'Lobbying Location',\n",
    "       'Project or Admin', 'Project', 'Worker Cost Center', 'Location',\n",
    "       'Total Project Hours', 'Needed Project Hours', 'Adjusted Hours',\n",
    "       'Actual Utilization Rate', 'Cost per Project Hour',\n",
    "       'Utilization Target', 'Talent Pools', 'Total Cost', 'File',\n",
    "       'Project PTO or Admin', 'Standard Monthly Cost',\n",
    "       'Amount Banked per Hour', 'Hours', 'Bank Month',\n",
    "       'Funding Source Count', 'Funding Source Greater than 1', 'Detail 3', '% - Detail 3','Funding Source 3', 'Amount Banked 3']]\n",
    "\n",
    "FundingSourceReport3 = FundingSourceReport3.rename(columns={'Detail 3': 'Detail', '% - Detail 3': '% - Detail', 'Funding Source 3': 'Funding Source', 'Amount Banked 3': 'Amount Banked'})\n",
    "'''"
   ]
  },
  {
   "cell_type": "code",
   "execution_count": 575,
   "id": "ea331a96",
   "metadata": {},
   "outputs": [],
   "source": [
    "#FundingSourceReport1['File'] = '1'\n",
    "#FundingSourceReport2['File'] = '2'\n",
    "#FundingSourceReport3['File'] = '3'"
   ]
  },
  {
   "cell_type": "code",
   "execution_count": null,
   "id": "314039e2",
   "metadata": {},
   "outputs": [],
   "source": []
  },
  {
   "cell_type": "code",
   "execution_count": 576,
   "id": "6b3c9c69",
   "metadata": {},
   "outputs": [],
   "source": [
    "#FundingSourceReport1['Total Cost'].sum()"
   ]
  },
  {
   "cell_type": "code",
   "execution_count": null,
   "id": "65bcd647",
   "metadata": {},
   "outputs": [],
   "source": []
  },
  {
   "cell_type": "code",
   "execution_count": 577,
   "id": "08c0f7b6",
   "metadata": {},
   "outputs": [],
   "source": [
    "#FundingSourceReport1a = FundingSourceReport1[FundingSourceReport1['Funding Source Count']!=2]\n",
    "#FundingSourceReport1b = FundingSourceReport1a[FundingSourceReport1a['Funding Source Count']!=3]"
   ]
  },
  {
   "cell_type": "code",
   "execution_count": 578,
   "id": "6ad849b5",
   "metadata": {},
   "outputs": [],
   "source": [
    "#FundingSourceReport2a = FundingSourceReport2[FundingSourceReport2['Funding Source Count']==2]\n",
    "#FundingSourceReport3a = FundingSourceReport3[FundingSourceReport3['Funding Source Count']==3]"
   ]
  },
  {
   "cell_type": "code",
   "execution_count": 579,
   "id": "8a9540c6",
   "metadata": {},
   "outputs": [],
   "source": [
    "#FundingSourceReportFINAL = pd.concat([FundingSourceReport1b, FundingSourceReport2a, FundingSourceReport3a], ignore_index=True)"
   ]
  },
  {
   "cell_type": "code",
   "execution_count": 580,
   "id": "dd38be03",
   "metadata": {},
   "outputs": [],
   "source": [
    "#FundingSourceReportFINAL.to_excel('/mnt/c/Users/jerem/anaconda3/envs/Code/RMICODING/Data/TimeCodingData/Outputs/FundingSourceData'+Type+timestampreport+'.xlsx')"
   ]
  },
  {
   "cell_type": "code",
   "execution_count": 581,
   "id": "deee01f7",
   "metadata": {},
   "outputs": [],
   "source": [
    "#FundingSourceReportFINAL['Total Cost'].sum()"
   ]
  },
  {
   "cell_type": "code",
   "execution_count": 582,
   "id": "c4d2e31b",
   "metadata": {},
   "outputs": [],
   "source": [
    "#FundingSourceReportFINAL.columns"
   ]
  },
  {
   "cell_type": "code",
   "execution_count": 583,
   "id": "545da1b3",
   "metadata": {},
   "outputs": [],
   "source": [
    "#FundingSourceReportFINAL['Funding Source'].fillna('Not Gift Funded', inplace = True)"
   ]
  },
  {
   "cell_type": "code",
   "execution_count": 584,
   "id": "6af3b8c5",
   "metadata": {},
   "outputs": [],
   "source": [
    "#FundingSourceReportFINAL['Total Project Hours'].fillna('Not Gift Funded', inplace = True)"
   ]
  },
  {
   "cell_type": "code",
   "execution_count": null,
   "id": "ba5c4a0a",
   "metadata": {},
   "outputs": [],
   "source": []
  },
  {
   "cell_type": "markdown",
   "id": "cea2545f",
   "metadata": {},
   "source": [
    "# Make Hours Table by Month"
   ]
  },
  {
   "cell_type": "code",
   "execution_count": 585,
   "id": "0299b87f",
   "metadata": {},
   "outputs": [],
   "source": [
    "import os\n",
    "\n",
    "Timepath = os.path.join('.','Outputs','ProgramReports')\n",
    "\n",
    "\n",
    "TimeTemplatepath = './Source_Files/Time_Cover_Page.xlsx'"
   ]
  },
  {
   "cell_type": "code",
   "execution_count": 586,
   "id": "f578fba8",
   "metadata": {},
   "outputs": [],
   "source": [
    "wb = openpyxl.load_workbook(filename=TimeTemplatepath)\n",
    "ws = wb['Cover']"
   ]
  },
  {
   "cell_type": "code",
   "execution_count": 587,
   "id": "a9cab22d",
   "metadata": {},
   "outputs": [],
   "source": [
    "TimeDataDFALL['Reported Quantity'].fillna(0, inplace = True)"
   ]
  },
  {
   "cell_type": "code",
   "execution_count": null,
   "id": "ea359e06",
   "metadata": {},
   "outputs": [],
   "source": []
  },
  {
   "cell_type": "code",
   "execution_count": 588,
   "id": "061f690d",
   "metadata": {},
   "outputs": [],
   "source": [
    "adminonlytable = AllCostsAllocated[AllCostsAllocated['Type']=='Admin Time for UnderUtilized']\n",
    "PTOonlytable = AllCostsAllocated[AllCostsAllocated['Type']=='PTO Time for UnderUtilized']\n",
    "AdminCostMaps = adminonlytable[['Employee ID', 'Total Cost']].drop_duplicates()\n",
    "PTOCostMaps = PTOonlytable[['Employee ID', 'Total Cost']].drop_duplicates()\n",
    "\n",
    "\n",
    "AdminCostMaps = AdminCostMaps.rename(columns={'Total Cost': 'Total Admin Cost'})\n",
    "PTOCostMaps = PTOCostMaps.rename(columns={'Total Cost': 'Total PTO Cost'})"
   ]
  },
  {
   "cell_type": "code",
   "execution_count": null,
   "id": "349991c6",
   "metadata": {},
   "outputs": [],
   "source": []
  },
  {
   "cell_type": "code",
   "execution_count": 589,
   "id": "43d26026",
   "metadata": {},
   "outputs": [],
   "source": [
    "\n",
    "AdminCostMaps['Employee ID'] = AdminCostMaps['Employee ID'].astype(int)\n",
    "PTOCostMaps['Employee ID'] = PTOCostMaps['Employee ID'].astype(int)\n",
    "#TimeDataDFALL = pd.merge(TimeDataDFALL, AdminCostMaps, on = 'Employee ID', how = 'left')"
   ]
  },
  {
   "cell_type": "code",
   "execution_count": 590,
   "id": "d7d30c91",
   "metadata": {},
   "outputs": [],
   "source": [
    "MonthAdminTable = pd.merge(MonthAdminTable, AdminCostMaps, on = 'Employee ID', how = 'left')\n",
    "MonthAdminTable = pd.merge(MonthAdminTable, PTOCostMaps, on = 'Employee ID', how = 'left')\n"
   ]
  },
  {
   "cell_type": "code",
   "execution_count": null,
   "id": "b6638fae",
   "metadata": {},
   "outputs": [],
   "source": [
    "\n",
    "\n"
   ]
  },
  {
   "cell_type": "code",
   "execution_count": 591,
   "id": "f68c64f8",
   "metadata": {},
   "outputs": [],
   "source": [
    "MonthAdminTable = pd.merge(MonthAdminTable, HomeCostCenterlist, on = 'Employee ID', how = 'left')"
   ]
  },
  {
   "cell_type": "code",
   "execution_count": 592,
   "id": "a7ba8f19",
   "metadata": {},
   "outputs": [],
   "source": [
    "MonthAdminTable.to_excel('./Outputs/monthadmintable.xlsx')"
   ]
  },
  {
   "cell_type": "code",
   "execution_count": 593,
   "id": "a68c9949",
   "metadata": {},
   "outputs": [],
   "source": [
    "from openpyxl.styles import Border, Side, PatternFill, Font, GradientFill, Alignment\n",
    "from openpyxl.utils import get_column_letter\n",
    "import os\n",
    "\n",
    "redFill = PatternFill(start_color='FFFF0000',\n",
    "                   end_color='FFFF0000',\n",
    "                   fill_type='solid')\n",
    "\n",
    "\n",
    "lightblueFill = PatternFill(start_color='00CCFFFF',\n",
    "                   end_color='00CCFFFF',\n",
    "                   fill_type='solid')\n",
    "\n",
    "darkblueFill = PatternFill(start_color='0099CCFF',\n",
    "                   end_color='0099CCFF',\n",
    "                   fill_type='solid')\n",
    "\n",
    "blueFill = PatternFill(start_color='0033CCCC',\n",
    "                   end_color='0033CCCC',\n",
    "                   fill_type='solid')\n",
    "\n",
    "greyFill = PatternFill(start_color='00C0C0C0',\n",
    "                   end_color='00C0C0C0',\n",
    "                   fill_type='solid')\n"
   ]
  },
  {
   "cell_type": "code",
   "execution_count": 594,
   "id": "f6b0f618",
   "metadata": {},
   "outputs": [],
   "source": [
    "Logopath = './Source_Files/RMILogo.png'"
   ]
  },
  {
   "cell_type": "code",
   "execution_count": 595,
   "id": "49249061",
   "metadata": {},
   "outputs": [],
   "source": [
    "Programs = list(TimeDataDFALL['Worker Cost Center'].unique())\n",
    "\n",
    "CoverNames = []\n",
    "\n",
    "for i in Programs:\n",
    "    CoverNames.append(i + \" - \" + timestampreport)\n",
    "    \n"
   ]
  },
  {
   "cell_type": "code",
   "execution_count": 596,
   "id": "b7b62959",
   "metadata": {},
   "outputs": [],
   "source": [
    "def CreateMissingTimesheets(program):\n",
    "    firstdf = AllCostsAllocated[AllCostsAllocated['Cost Center']==program]\n",
    "    seconddf = firstdf[firstdf['Admin Hours Percentage']==1]  \n",
    "    thirdf = seconddf[['Worker', 'Type']]\n",
    "    return thirdf"
   ]
  },
  {
   "cell_type": "code",
   "execution_count": 597,
   "id": "c4ba3eba",
   "metadata": {
    "scrolled": true
   },
   "outputs": [],
   "source": [
    "for i in CoverNames:    \n",
    "    wb = load_workbook(TimeTemplatepath)\n",
    "    ws = wb['Cover']   \n",
    "    img = openpyxl.drawing.image.Image(Logopath)\n",
    "    img.anchor = 'A1'\n",
    "    ws.add_image(img)\n",
    "    ws.cell(row = 14, column = 1).value = i\n",
    "    ws.row_dimensions[14].height = 50  # Adjust the height as needed\n",
    "    wb.create_sheet('Guide')\n",
    "    sheet = wb[\"Guide\"]\n",
    "    sheet.cell(row=1, column=1).value = \"Guidance For Use of Program Time Report\" \n",
    "    sheet.cell(row=2, column=1).value = \"Note: The Program Time Report is a report designed for POLs and MDs to show which workers are missing time for the month and to provide transparency into your Program's timekeeping.  Please note that if workers do not submit their full month's time before the Salary Costing Methodolgy is run, then we will not be able to use that data to allocate the costs from those hours to Projects.  This will mean that any time not reported on Projects will be costed to Admin if we don't receive it before Accounting runs the Salary Costing Methodology.  If there is time data that you would like to include in the Program Time Report in the future, please reach out to Jeremy Wendt or Tobias Lutz.\"\n",
    "    sheet.cell(row=4, column=1).value = \"NO TIME or ALL ADMIN: This tab shows all workers who haven't submitted any time for the current month.  This is indicated by the text 'TimeSheetsNotSubmitted'.  Also this tab shows workers that have only costed time to Admin projects, which means that all of their costs will hit Admin.  They are labeled as 'Admin Time for Underutilized'.\"\n",
    "    sheet.cell(row=6, column=1).value = \"Time Total by Week:  This tab shows time submitted by week in the month for all workers who have submitted some time.  The rows that are in red indicate employees that have at least one week with no time.\"\n",
    "    sheet.cell(row=8, column=1).value = \"Utilization by Worker:  This tab shows the utilization calculations completed for every worker in the Program that have submitted some time.  Utilization Status of 'Underutilized' indicates employees that had an Actual Utilization less than their Utilization Target for the month, and 'Fully Utilized' indicates that the worker had an Actual Utilization Rate equal to or greater than their Utilization Target for the month.  'Total Project Hours' indicates how many Project Hours were coded in the month.  'Actual Utilization Rate' indicates Total Project Hours divided by Total Hours available in the month.  'Utilization Target indicates the threshold of utilization needed for an employee to hit to become Fully Utilized.  ''Needed Project Hours' indicates how many Project Hours were needed in order for the employee to be fully utilized and not have any admin charge.\"\n",
    "    sheet.cell(row=10, column=1).value = \"Expenses by Program:  This tab shows the sum of actual monthly salary, benefits, shared costs, and bonuses that will be expensed to the Admin and Project projects in your Program.  It also shows the actual cost per project hour for all employees based on their utilization rate and whether or not they were overutilized (overutilization causes their cost per project hour to decrease).\"\n",
    "    sheet.cell(row=12, column=1).value = \"Admin by Program:  This tab shows the sum total of all of the Admin coded in the month for employees that have a projected Admin charge.  Only employees that are underutilized will show up here, and their current Admin cost to hit will show in column B.\"\n",
    "    sheet.cell(row=14, column=1).value = \"PTO Bank Usage by Program:  This tab shows the usage from the PTO Bank by employee for the month.\"\n",
    "    sheet.cell(row=16, column=1).value = \"Employee Cost Breakdown:  This tab shows the total cost of all employees hitting your Program by Project and task.\"\n",
    "    sheet.merge_cells('A2:O2')\n",
    "    sheet.merge_cells('A4:O4')\n",
    "    sheet.merge_cells('A6:O6')\n",
    "    sheet.merge_cells('A8:O8')\n",
    "    sheet.merge_cells('A10:O10')\n",
    "    sheet.merge_cells('A12:O12')\n",
    "    sheet.merge_cells('A14:O14')\n",
    "    sheet.merge_cells('A16:O16')\n",
    "    sheet['A2'].alignment = Alignment(wrap_text=True)\n",
    "    sheet['A4'].alignment = Alignment(wrap_text=True)\n",
    "    sheet['A6'].alignment = Alignment(wrap_text=True)\n",
    "    sheet['A8'].alignment = Alignment(wrap_text=True)\n",
    "    sheet['A10'].alignment = Alignment(wrap_text=True)\n",
    "    sheet['A12'].alignment = Alignment(wrap_text=True)\n",
    "    sheet['A14'].alignment = Alignment(wrap_text=True)\n",
    "    sheet['A16'].alignment = Alignment(wrap_text=True)\n",
    "    sheet.cell(row=1, column=1).font  = Font(size = \"26\")\n",
    "    sheet.row_dimensions[2].height = 58\n",
    "    sheet.row_dimensions[4].height = 54\n",
    "    sheet.row_dimensions[6].height = 54\n",
    "    sheet.row_dimensions[8].height = 100\n",
    "    sheet.row_dimensions[10].height = 48\n",
    "    sheet.row_dimensions[12].height = 40\n",
    "    sheet.row_dimensions[14].height = 40\n",
    "    sheet.row_dimensions[16].height = 40\n",
    "\n",
    "    wb.save(Timepath+'/' + i  + filename)\n",
    "    wb.close()\n",
    "  \n"
   ]
  },
  {
   "cell_type": "markdown",
   "id": "4040acbd",
   "metadata": {},
   "source": [
    "## Missing Timesheets Report"
   ]
  },
  {
   "cell_type": "code",
   "execution_count": 598,
   "id": "20c17ecf-37ad-4863-b6f7-40a92628e108",
   "metadata": {},
   "outputs": [],
   "source": [
    "def CreateMissingTimesheets(program):\n",
    "    firstdf = AllCostsAllocated[AllCostsAllocated['Cost Center']==program]\n",
    "    seconddf = firstdf[firstdf['Admin Hours Percentage']==1]  \n",
    "    thirdf = seconddf[['Worker', 'Type']]\n",
    "    return thirdf"
   ]
  },
  {
   "cell_type": "code",
   "execution_count": 599,
   "id": "1c5be50e",
   "metadata": {},
   "outputs": [],
   "source": [
    "def to_excel_MissingTimeSheets(df, file):\n",
    "    with pd.ExcelWriter(file, engine='openpyxl', mode='a') as writer:\n",
    "        # Load the existing workbook\n",
    "        writer.book = openpyxl.load_workbook(file)\n",
    "        \n",
    "        # Write the DataFrame to the specified sheet\n",
    "        df.to_excel(writer, sheet_name=\"NO TIME or ALL ADMIN\", startrow=1, index=False)\n",
    "        \n",
    "        # Save the workbook\n",
    "        writer.save()"
   ]
  },
  {
   "cell_type": "code",
   "execution_count": 600,
   "id": "3d8d0cd4-cf75-4755-bc11-3ebc634d3979",
   "metadata": {},
   "outputs": [
    {
     "data": {
      "text/plain": [
       "'def to_excel_MissingTimeSheets(df, file):\\n    # Convert DataFrame to list of dictionaries\\n    data = df.to_dict(orient=\\'records\\')\\n    \\n    # Create a new workbook or load an existing one\\n    if os.path.exists(file):\\n        book = openpyxl.load_workbook(file)\\n    else:\\n        book = openpyxl.Workbook()\\n        book.remove(book.active)  # Remove the default sheet created with a new workbook\\n    \\n    # Add a new sheet or get the existing one\\n    if \"NO TIME or ALL ADMIN\" in book.sheetnames:\\n        sheet = book[\"NO TIME or ALL ADMIN\"]\\n    else:\\n        sheet = book.create_sheet(title=\"NO TIME or ALL ADMIN\")\\n    \\n    # Write data to the sheet\\n    for i, row in enumerate(data, start=2):  # Start from row 2 to leave the first row for headers\\n        for j, (key, value) in enumerate(row.items(), start=1):\\n            if i == 2:  # Write headers in the first row\\n                sheet.cell(row=1, column=j, value=key)\\n            sheet.cell(row=i, column=j, value=value)\\n    \\n    # Save the workbook\\n    book.save(file)\\n'"
      ]
     },
     "execution_count": 600,
     "metadata": {},
     "output_type": "execute_result"
    }
   ],
   "source": [
    "'''def to_excel_MissingTimeSheets(df, file):\n",
    "    # Convert DataFrame to list of dictionaries\n",
    "    data = df.to_dict(orient='records')\n",
    "    \n",
    "    # Create a new workbook or load an existing one\n",
    "    if os.path.exists(file):\n",
    "        book = openpyxl.load_workbook(file)\n",
    "    else:\n",
    "        book = openpyxl.Workbook()\n",
    "        book.remove(book.active)  # Remove the default sheet created with a new workbook\n",
    "    \n",
    "    # Add a new sheet or get the existing one\n",
    "    if \"NO TIME or ALL ADMIN\" in book.sheetnames:\n",
    "        sheet = book[\"NO TIME or ALL ADMIN\"]\n",
    "    else:\n",
    "        sheet = book.create_sheet(title=\"NO TIME or ALL ADMIN\")\n",
    "    \n",
    "    # Write data to the sheet\n",
    "    for i, row in enumerate(data, start=2):  # Start from row 2 to leave the first row for headers\n",
    "        for j, (key, value) in enumerate(row.items(), start=1):\n",
    "            if i == 2:  # Write headers in the first row\n",
    "                sheet.cell(row=1, column=j, value=key)\n",
    "            sheet.cell(row=i, column=j, value=value)\n",
    "    \n",
    "    # Save the workbook\n",
    "    book.save(file)\n",
    "'''"
   ]
  },
  {
   "cell_type": "code",
   "execution_count": null,
   "id": "81288f65-c89c-4b60-b412-d558f16c7ca0",
   "metadata": {},
   "outputs": [],
   "source": []
  },
  {
   "cell_type": "code",
   "execution_count": 601,
   "id": "da0e2693-6f0d-46cc-bb80-c8c481b2c857",
   "metadata": {},
   "outputs": [],
   "source": [
    "#dftest = CreateMissingTimesheets('Carbon-Free Buildings')"
   ]
  },
  {
   "cell_type": "code",
   "execution_count": null,
   "id": "d75e3566",
   "metadata": {},
   "outputs": [],
   "source": []
  },
  {
   "cell_type": "code",
   "execution_count": null,
   "id": "e9b8e753-ab16-4f31-b7fc-1b7feac42d1c",
   "metadata": {},
   "outputs": [],
   "source": []
  },
  {
   "cell_type": "code",
   "execution_count": null,
   "id": "55073f00-89a8-4ed8-bf90-0414aa59bf51",
   "metadata": {},
   "outputs": [],
   "source": []
  },
  {
   "cell_type": "code",
   "execution_count": 602,
   "id": "2b9c38eb",
   "metadata": {},
   "outputs": [],
   "source": [
    "def Format_NoTimePivot(file):\n",
    "    book = load_workbook(file)\n",
    "    sheet = book[\"NO TIME or ALL ADMIN\"] #active means last opened sheet\n",
    "    rd = sheet.row_dimensions[1]\n",
    "    rd.height = 25\n",
    "    sheet['A2'].font = Font(bold=True)\n",
    "    sheet['B2'].font = Font(bold=True)\n",
    "    sheet.column_dimensions['A'].width = 44\n",
    "    sheet.column_dimensions['B'].width = 44\n",
    "#    sheet.column_dimensions['C'].width = 44\n",
    "#    fontStyle = Font(size = \"20\")\n",
    "    sheet.merge_cells('A1:B1')\n",
    "    top_left_cell = sheet['A1']\n",
    "    top_right_cell = sheet['B1']\n",
    "    top_left_cell.value = timestampreport + \" MISSING TIMESHEETS OR ALL ADMIN\"\n",
    "    thin = Side(border_style=\"thin\", color=\"000000\")\n",
    "    double = Side(border_style=\"double\", color=\"000000\")\n",
    "    top_left_cell.border = Border(top=thin, left=thin, right=thin, bottom=thin)\n",
    "    top_left_cell.fill = PatternFill(\"solid\", fgColor=\"003366\")\n",
    "#    top_left_cell.fill = fill = GradientFill(stop=(\"000080\", \"FFFFFF\"))\n",
    "    top_left_cell.font  = Font(color=\"FFFFFF\", size = \"26\")\n",
    "#    top_left_cell.font = fontStyle\n",
    "    top_left_cell.alignment = Alignment(horizontal=\"center\", vertical=\"center\")\n",
    "    top_right_cell.border = Border(top=thin, left=thin, right=thin, bottom=thin)\n",
    "    sheet.sheet_properties.tabColor = 'FF0000'\n",
    "    sheet.sheet_view.zoomScale = 120\n",
    "#    sheet.column_dimensions['A'].hidden= True\n",
    "    book.save(file)"
   ]
  },
  {
   "cell_type": "code",
   "execution_count": 603,
   "id": "16c63610",
   "metadata": {},
   "outputs": [],
   "source": [
    "def MakeMISSINGTIME(Group, link):\n",
    "#    step1 = CreateMissingTimesheets(Group).reset_index(drop=True)\n",
    "    step1 = CreateMissingTimesheets(Group)\n",
    "    to_excel_MissingTimeSheets(step1, link)\n",
    "    Format_NoTimePivot(link)"
   ]
  },
  {
   "cell_type": "code",
   "execution_count": null,
   "id": "042fd3e3-0af5-4d53-b864-6d2d353dbc24",
   "metadata": {},
   "outputs": [],
   "source": []
  },
  {
   "cell_type": "code",
   "execution_count": 604,
   "id": "8b59a598-fd40-484b-86ae-997d72f8a153",
   "metadata": {
    "scrolled": true
   },
   "outputs": [],
   "source": [
    "#MakeMISSINGTIME('Carbon-Free Buildings', './Outputs/ProgramReports/Carbon-Free Buildings' + ' - ' +timestampreport + filename)"
   ]
  },
  {
   "cell_type": "markdown",
   "id": "f4a4e336",
   "metadata": {},
   "source": [
    "# Create Hours Reports for Employees with Some Time"
   ]
  },
  {
   "cell_type": "code",
   "execution_count": 605,
   "id": "4e47aa09",
   "metadata": {},
   "outputs": [
    {
     "data": {
      "text/plain": [
       "10/21/2024 - 10/27/2024    8069\n",
       "10/07/2024 - 10/13/2024    7897\n",
       "10/14/2024 - 10/20/2024    7783\n",
       "09/30/2024 - 10/06/2024    6527\n",
       "10/28/2024 - 11/03/2024    5978\n",
       "Name: Week, dtype: int64"
      ]
     },
     "execution_count": 605,
     "metadata": {},
     "output_type": "execute_result"
    }
   ],
   "source": [
    "TimeDataDFALL[TimeDataDFALL['MonthYear']==currentmonthandyear]['Week'].value_counts()"
   ]
  },
  {
   "cell_type": "code",
   "execution_count": 606,
   "id": "a97442ff",
   "metadata": {},
   "outputs": [],
   "source": [
    "TimeDataThisMonth1 = TimeDataDFALL[TimeDataDFALL['MonthYear']==currentmonthandyear]\n",
    "\n",
    "TimeDataThisMonth = TimeDataThisMonth1[TimeDataThisMonth1['Week']!= '08/26/2024 - 09/01/2024']"
   ]
  },
  {
   "cell_type": "code",
   "execution_count": 607,
   "id": "5a28d37e",
   "metadata": {},
   "outputs": [],
   "source": [
    "def CreateTimeDataSet(program):\n",
    "    firstdf = TimeDataThisMonth[TimeDataThisMonth['Worker Cost Center']==program]\n",
    "    return firstdf"
   ]
  },
  {
   "cell_type": "code",
   "execution_count": 608,
   "id": "81e438df",
   "metadata": {},
   "outputs": [],
   "source": [
    "def CreateTimeSetPivot(Group):\n",
    "#    Month_order = ['Jul 2022', 'Aug 2022', 'Sep 2022', 'Oct 2022', 'Nov 2022', 'Dec 2022', 'Jan 2023', 'Feb 2023', 'Mar 2023', 'Apr 2023', 'May 2023', 'Jun 2023', 'Jul 2023', 'Aug 2023', 'Sep 2023', 'Oct 2023', 'Nov 2023', 'Dec 2023', 'Jan 2024', 'Feb 2024', 'Mar 2024', 'Apr 2024', 'May 2024', 'Jun 2024']\n",
    "    table = pd.pivot_table(Group, index = ['Worker', 'Utilization Target'], values = 'Reported Quantity', columns = 'Week', aggfunc=\"sum\")\n",
    "#    table2 = table.reindex(Month_order, axis=1)\n",
    "    table['Total'] = table.iloc[:,-5:].sum(axis=1)\n",
    "    return table"
   ]
  },
  {
   "cell_type": "code",
   "execution_count": 609,
   "id": "b3545ce1",
   "metadata": {},
   "outputs": [],
   "source": [
    "def to_excel_TimePivot(df, file):\n",
    "    writer = pd.ExcelWriter(file, engine='openpyxl')\n",
    "    if os.path.exists(file):\n",
    "        book = openpyxl.load_workbook(file)\n",
    "        writer.book = book\n",
    "\n",
    "    df.to_excel(writer, sheet_name=\"Time Total by Week\", startrow = 1)\n",
    "    writer.save()\n",
    "    writer.close()"
   ]
  },
  {
   "cell_type": "code",
   "execution_count": 610,
   "id": "0707a2e0",
   "metadata": {},
   "outputs": [],
   "source": [
    "def Format_TimePivot(file):\n",
    "    book = load_workbook(file)\n",
    "    sheet = book[\"Time Total by Week\"] #active means last opened sheet\n",
    "    rd = sheet.row_dimensions[1]\n",
    "    rd.height = 25\n",
    "    sheet['A2']= \"Worker\"\n",
    "    sheet['B2']= 'Utilization Rate'\n",
    "    sheet['A2'].font = Font(bold=True)\n",
    "    sheet['B2'].font = Font(bold=True)\n",
    "#    fontStyle = Font(size = \"20\")\n",
    "    sheet.merge_cells('A1:H1')\n",
    "    top_left_cell = sheet['A1']\n",
    "    top_right_cell = sheet['H1']\n",
    "    top_left_cell.value = timestampreport + \" Hour Summary*\"\n",
    "    thin = Side(border_style=\"thin\", color=\"000000\")\n",
    "    double = Side(border_style=\"double\", color=\"000000\")\n",
    "    top_left_cell.border = Border(top=thin, left=thin, right=thin, bottom=thin)\n",
    "    top_left_cell.fill = PatternFill(\"solid\", fgColor=\"003366\")\n",
    "#    top_left_cell.fill = fill = GradientFill(stop=(\"000080\", \"FFFFFF\"))\n",
    "    top_left_cell.font  = Font(color=\"FFFFFF\", size = \"26\")\n",
    "#    top_left_cell.font = fontStyle\n",
    "    top_left_cell.alignment = Alignment(horizontal=\"center\", vertical=\"center\")\n",
    "    top_right_cell.border = Border(top=thin, left=thin, right=thin, bottom=thin)\n",
    "    sheet.column_dimensions['A'].width = 24\n",
    "    sheet.column_dimensions['B'].width = 24\n",
    "#    sheet.column_dimensions['E'].width = 15\n",
    "#    sheet.column_dimensions['F'].width = 15\n",
    "#    sheet.column_dimensions['G'].width = 15\n",
    "#    sheet.column_dimensions['H'].width = 15\n",
    "#    sheet.column_dimensions['I'].width = 15\n",
    "#    sheet.column_dimensions['J'].width = 15\n",
    "#    sheet.column_dimensions['K'].width = 15\n",
    "#    sheet.column_dimensions['L'].width = 15\n",
    "#    sheet.column_dimensions['M'].width = 15\n",
    "#    sheet.column_dimensions['N'].width = 15\n",
    "#    sheet.column_dimensions['O'].width = 15\n",
    "#    sheet.column_dimensions['P'].width = 15\n",
    "#    sheet.column_dimensions['Q'].width = 15\n",
    "#    sheet.column_dimensions['D'].hidden = True\n",
    "    num_rows = sheet.max_row\n",
    "    curr_row = 2\n",
    "    last_col = 9\n",
    "    bluesectionrightborder = 3\n",
    "    for col in range(curr_row, curr_row+1):\n",
    "        for row in range(2, num_rows+1):\n",
    "            sheet.cell(column=col, row=row).number_format = '0.00%'\n",
    "    for col in range(last_col, last_col+1):\n",
    "        for row in range(2, num_rows+1):\n",
    "            sheet.cell(column=col, row=row).border = Border(left=thin)   \n",
    "    for col in range(1, bluesectionrightborder):\n",
    "        for row in range(2, num_rows+1):\n",
    "            sheet.cell(column=col, row=row).alignment = Alignment(horizontal = 'left', vertical='top')\n",
    "            sheet.cell(column=col, row=row).fill = blueFill\n",
    "    redrows = set()           \n",
    "    for row in range(3, num_rows+1):\n",
    "        for i in range(3,8):\n",
    "            if sheet.cell(row=row, column=i).value is None:\n",
    "                redrows.add(row)\n",
    "    for row in range(3, num_rows):\n",
    "        if row in redrows:\n",
    "            for col in range(1, last_col):\n",
    "                sheet.cell(column=col, row=row).fill = redFill \n",
    "\n",
    "                    \n",
    "    print(redrows)               \n",
    "#    for col in range(17, 19):\n",
    "#        for row in range(2, num_rows+1):\n",
    "#            sheet.cell(column=col, row=row).border = Border(left=thin)          \n",
    "    for i in range(1, sheet.max_row + 1):\n",
    "        if sheet.cell(row=i, column=1).value == 'Worker':\n",
    "            for j in range(1,last_col):\n",
    "                sheet.cell(column=j, row=i).font = Font(bold=True)\n",
    "                sheet.cell(column=j, row=i).border = Border(top = thin, bottom = thin)   \n",
    "                sheet.cell(column=j, row=i).fill = greyFill\n",
    "    for col in range(last_col-1, last_col):\n",
    "        for row in range(2, num_rows+1):\n",
    "            sheet.cell(column=col, row=row).border = Border(left=thin)\n",
    "\n",
    "    for col in range(1, 3):\n",
    "        for row in range(3, num_rows+1):\n",
    "            sheet.cell(column=col, row=row).alignment = Alignment(horizontal='left', vertical='center')\n",
    "            sheet.cell(column=col, row=row).font = Font(bold=True, size = \"12\")\n",
    "#    sheet.auto_filter.ref = sheet.dimensions\n",
    "    sheet.sheet_view.zoomScale = 100\n",
    "    sheet.freeze_panes = \"C3\"\n",
    "#    sheet.sheet_state = 'hidden'\n",
    "    book.save(file)"
   ]
  },
  {
   "cell_type": "code",
   "execution_count": 611,
   "id": "4e1c3053",
   "metadata": {},
   "outputs": [],
   "source": [
    "def MakeTIMEREPORT(Group, link):\n",
    "    step1 = CreateTimeDataSet(Group)\n",
    "    step2 = CreateTimeSetPivot(step1)\n",
    "    to_excel_TimePivot(step2, link)\n",
    "    Format_TimePivot(link)"
   ]
  },
  {
   "cell_type": "code",
   "execution_count": null,
   "id": "60b33c7f",
   "metadata": {},
   "outputs": [],
   "source": []
  },
  {
   "cell_type": "markdown",
   "id": "8b11c5b9",
   "metadata": {},
   "source": [
    "# Make CFO Table"
   ]
  },
  {
   "cell_type": "code",
   "execution_count": 612,
   "id": "c19a77eb",
   "metadata": {},
   "outputs": [],
   "source": [
    "ALLTABLE = ['Rocky Mountain Institute']\n",
    "\n",
    "for i in ALLTABLE:   \n",
    "    wb = load_workbook(TimeTemplatepath)\n",
    "    ws = wb['Cover']   \n",
    "    img = openpyxl.drawing.image.Image(Logopath)\n",
    "    img.anchor = 'A1'\n",
    "    ws.add_image(img)\n",
    "    ws.cell(row = 14, column = 1).value = i\n",
    "\n",
    "    '''    wb.create_sheet('Guide')\n",
    "    sheet = wb[\"Guide\"]\n",
    "    sheet.cell(row=1, column=1).value = \"Guidance For Use of Program Financial Package\" \n",
    "    sheet.cell(row=2, column=1).value = \"Note: The Program Financial Package is a continually evolving report designed by Program Operations Leads in order to give better insight into data from Workday and Salesforce.  If there are data manipulations from those databases that you would like to include in the Program Financial Package in the future, please reach out to Jeremy Wendt or Tobias Lutz.\"\n",
    "    sheet.merge_cells('A2:O2')\n",
    "    sheet.merge_cells('A4:O4')\n",
    "    sheet['A2'].alignment = Alignment(wrap_text=True)\n",
    "    sheet['A4'].alignment = Alignment(wrap_text=True)\n",
    "    sheet.cell(row=1, column=1).font  = Font(size = \"26\")\n",
    "    sheet.row_dimensions[2].height = 44\n",
    "    sheet.row_dimensions[4].height = 58'''\n",
    "\n",
    "    wb.save(str(Timepath+'/' + i +  ' - ' + timestampreport + filename))\n",
    "    wb.close()"
   ]
  },
  {
   "cell_type": "code",
   "execution_count": 613,
   "id": "04bfb9d0",
   "metadata": {},
   "outputs": [],
   "source": [
    "\n",
    "RockyMtnDF = TimeDataDFALL[TimeDataDFALL['MonthYear']==currentmonthandyear]    \n"
   ]
  },
  {
   "cell_type": "code",
   "execution_count": 614,
   "id": "fd0771d9",
   "metadata": {},
   "outputs": [],
   "source": [
    "def CreateTimeSetPivotMASTER(Group):\n",
    "#    Month_order = ['Jul 2022', 'Aug 2022', 'Sep 2022', 'Oct 2022', 'Nov 2022', 'Dec 2022', 'Jan 2023', 'Feb 2023', 'Mar 2023', 'Apr 2023', 'May 2023', 'Jun 2023', 'Jul 2023', 'Aug 2023', 'Sep 2023', 'Oct 2023', 'Nov 2023', 'Dec 2023', 'Jan 2024', 'Feb 2024', 'Mar 2024', 'Apr 2024', 'May 2024', 'Jun 2024']\n",
    "    table = pd.pivot_table(Group, index = ['Worker Cost Center', 'Worker', 'Utilization Target'], values = 'Reported Quantity', columns = 'Week', aggfunc=\"sum\")\n",
    "#    table2 = table.reindex(Month_order, axis=1)\n",
    "    table['Total'] = table.iloc[:,-4:].sum(axis=1)\n",
    "    return table"
   ]
  },
  {
   "cell_type": "code",
   "execution_count": 615,
   "id": "4024fc56",
   "metadata": {},
   "outputs": [],
   "source": [
    "def to_excel_TimePivotMASTER(df, file):\n",
    "    writer = pd.ExcelWriter(file, engine='openpyxl')\n",
    "    if os.path.exists(file):\n",
    "        book = openpyxl.load_workbook(file)\n",
    "        writer.book = book\n",
    "\n",
    "    df.to_excel(writer, sheet_name=\"Time Total by Week\", startrow = 1)\n",
    "    writer.save()\n",
    "    writer.close()"
   ]
  },
  {
   "cell_type": "code",
   "execution_count": 616,
   "id": "0976ee95",
   "metadata": {},
   "outputs": [],
   "source": [
    "def Format_TimePivotMASTER(file):\n",
    "    book = load_workbook(file)\n",
    "    sheet = book[\"Time Total by Week\"] #active means last opened sheet\n",
    "    rd = sheet.row_dimensions[1]\n",
    "    rd.height = 25\n",
    "    sheet['A2']= \"Worker Cost Center\"\n",
    "    sheet['B2']= \"Worker\"\n",
    "    sheet['C2']= 'Utilization Rate'\n",
    "    sheet['A2'].font = Font(bold=True)\n",
    "    sheet['B2'].font = Font(bold=True)\n",
    "#    fontStyle = Font(size = \"20\")\n",
    "    sheet.merge_cells('A1:I1')\n",
    "    top_left_cell = sheet['A1']\n",
    "    top_right_cell = sheet['I1']\n",
    "    top_left_cell.value = timestampreport + \" Hour Summary*\"\n",
    "    thin = Side(border_style=\"thin\", color=\"000000\")\n",
    "    double = Side(border_style=\"double\", color=\"000000\")\n",
    "    top_left_cell.border = Border(top=thin, left=thin, right=thin, bottom=thin)\n",
    "    top_left_cell.fill = PatternFill(\"solid\", fgColor=\"003366\")\n",
    "#    top_left_cell.fill = fill = GradientFill(stop=(\"000080\", \"FFFFFF\"))\n",
    "    top_left_cell.font  = Font(color=\"FFFFFF\", size = \"26\")\n",
    "#    top_left_cell.font = fontStyle\n",
    "    top_left_cell.alignment = Alignment(horizontal=\"center\", vertical=\"center\")\n",
    "    top_right_cell.border = Border(top=thin, left=thin, right=thin, bottom=thin)\n",
    "    sheet.column_dimensions['A'].width = 24\n",
    "    sheet.column_dimensions['B'].width = 24\n",
    "#    sheet.column_dimensions['E'].width = 15\n",
    "#    sheet.column_dimensions['F'].width = 15\n",
    "#    sheet.column_dimensions['G'].width = 15\n",
    "#    sheet.column_dimensions['H'].width = 15\n",
    "#    sheet.column_dimensions['I'].width = 15\n",
    "#    sheet.column_dimensions['J'].width = 15\n",
    "#    sheet.column_dimensions['K'].width = 15\n",
    "#    sheet.column_dimensions['L'].width = 15\n",
    "#    sheet.column_dimensions['M'].width = 15\n",
    "#    sheet.column_dimensions['N'].width = 15\n",
    "#    sheet.column_dimensions['O'].width = 15\n",
    "#    sheet.column_dimensions['P'].width = 15\n",
    "#    sheet.column_dimensions['Q'].width = 15\n",
    "#    sheet.column_dimensions['D'].hidden = True\n",
    "    num_rows = sheet.max_row\n",
    "    curr_row = 2\n",
    "    last_col = 10\n",
    "    bluesectionrightborder = 4\n",
    "    for col in range(curr_row+1, curr_row+2):\n",
    "        for row in range(2, num_rows+1):\n",
    "            sheet.cell(column=col, row=row).number_format = '0.00%'\n",
    "    for col in range(last_col, last_col+1):\n",
    "        for row in range(2, num_rows+1):\n",
    "            sheet.cell(column=col, row=row).border = Border(left=thin)   \n",
    "    for col in range(1, bluesectionrightborder):\n",
    "        for row in range(2, num_rows+1):\n",
    "            sheet.cell(column=col, row=row).alignment = Alignment(horizontal = 'left', vertical='top')\n",
    "            sheet.cell(column=col, row=row).fill = blueFill\n",
    "    redrows = set()           \n",
    "    for row in range(3, num_rows+1):\n",
    "        for i in range(4,9):\n",
    "            if sheet.cell(row=row, column=i).value is None:\n",
    "                redrows.add(row)\n",
    "    for row in range(3, num_rows):\n",
    "        if row in redrows:\n",
    "            for col in range(2, last_col):\n",
    "                sheet.cell(column=col, row=row).fill = redFill \n",
    "\n",
    "                    \n",
    "    print(redrows)               \n",
    "#    for col in range(17, 19):\n",
    "#        for row in range(2, num_rows+1):\n",
    "#            sheet.cell(column=col, row=row).border = Border(left=thin)          \n",
    "    for i in range(1, sheet.max_row + 1):\n",
    "        if sheet.cell(row=i, column=1).value == 'Worker Cost Center':\n",
    "            for j in range(1,last_col):\n",
    "                sheet.cell(column=j, row=i).font = Font(bold=True)\n",
    "                sheet.cell(column=j, row=i).border = Border(top = thin, bottom = thin)   \n",
    "                sheet.cell(column=j, row=i).fill = greyFill\n",
    "    for col in range(last_col-1, last_col):\n",
    "        for row in range(2, num_rows+1):\n",
    "            sheet.cell(column=col, row=row).border = Border(left=thin)\n",
    "\n",
    "    for col in range(1, bluesectionrightborder):\n",
    "        for row in range(3, num_rows+1):\n",
    "            sheet.cell(column=col, row=row).alignment = Alignment(horizontal='left', vertical='center')\n",
    "            sheet.cell(column=col, row=row).font = Font(bold=True, size = \"12\")\n",
    "#    sheet.auto_filter.ref = sheet.dimensions\n",
    "    sheet.sheet_view.zoomScale = 100\n",
    "    sheet.freeze_panes = \"D3\"\n",
    "#    sheet.sheet_state = 'hidden'\n",
    "    book.save(file)"
   ]
  },
  {
   "cell_type": "code",
   "execution_count": 617,
   "id": "9608b567",
   "metadata": {},
   "outputs": [],
   "source": [
    "def MakeTIMEREPORTMASTER(Group, link):\n",
    "    step2 = CreateTimeSetPivotMASTER(Group)\n",
    "    to_excel_TimePivotMASTER(step2, link)\n",
    "    Format_TimePivotMASTER(link)"
   ]
  },
  {
   "cell_type": "code",
   "execution_count": null,
   "id": "b60d6dbe",
   "metadata": {},
   "outputs": [],
   "source": []
  },
  {
   "cell_type": "markdown",
   "id": "5d9442ea",
   "metadata": {},
   "source": [
    "# Funding Source Table"
   ]
  },
  {
   "cell_type": "code",
   "execution_count": 618,
   "id": "dcdb1532",
   "metadata": {},
   "outputs": [],
   "source": [
    "def CreateFundingSourceRules(program):\n",
    "    firstdf = FundingSourceReportFINAL[FundingSourceReportFINAL['Cost Center']==program]  \n",
    "    return firstdf"
   ]
  },
  {
   "cell_type": "code",
   "execution_count": 619,
   "id": "5e3b5cab",
   "metadata": {},
   "outputs": [],
   "source": [
    "def CreateFundingSourceRulesPivot(Group):\n",
    "#    Month_order = ['Jul 2022', 'Aug 2022', 'Sep 2022', 'Oct 2022', 'Nov 2022', 'Dec 2022', 'Jan 2023', 'Feb 2023', 'Mar 2023', 'Apr 2023', 'May 2023', 'Jun 2023', 'Jul 2023', 'Aug 2023', 'Sep 2023', 'Oct 2023', 'Nov 2023', 'Dec 2023', 'Jan 2024', 'Feb 2024', 'Mar 2024', 'Apr 2024', 'May 2024', 'Jun 2024']\n",
    "    table = pd.pivot_table(Group, index = ['Funding Source', 'Project', 'Project Plan Task', 'Worker', 'Hours'], values = 'Total Cost', aggfunc=\"sum\")\n",
    "#    table2 = table.reindex(Month_order, axis=1)\n",
    "    return table"
   ]
  },
  {
   "cell_type": "code",
   "execution_count": 620,
   "id": "b0d70b9f",
   "metadata": {},
   "outputs": [],
   "source": [
    "def add_subtotal_FundingSourceRules(PivotedGroup):\n",
    "    out = pd.concat([d.append(d.sum().rename(('','','','','Total Drawdown'))) for k, d in PivotedGroup.groupby('Funding Source')])\n",
    "    out.index = pd.MultiIndex.from_tuples(out.index)\n",
    "    return out\n"
   ]
  },
  {
   "cell_type": "code",
   "execution_count": 621,
   "id": "4da63025",
   "metadata": {},
   "outputs": [],
   "source": [
    "def to_excel_FundingSourceRules(df, file):\n",
    "    writer = pd.ExcelWriter(file, engine='openpyxl')\n",
    "    if os.path.exists(file):\n",
    "        book = openpyxl.load_workbook(file)\n",
    "        writer.book = book\n",
    "\n",
    "    df.to_excel(writer, sheet_name=\"Funding Source Rules Summary\", startrow = 1)\n",
    "    writer.save()\n",
    "    writer.close()"
   ]
  },
  {
   "cell_type": "code",
   "execution_count": 622,
   "id": "09052cba",
   "metadata": {},
   "outputs": [],
   "source": [
    "def Format_FundingSourceRules(file):\n",
    "    book = load_workbook(file)\n",
    "    sheet = book[\"Funding Source Rules Summary\"] #active means last opened sheet\n",
    "    rd = sheet.row_dimensions[1]\n",
    "    rd.height = 25\n",
    "    sheet['A2']= \"Gift\"\n",
    "    sheet['B2']= 'Project'\n",
    "    sheet['C2']= 'Task'\n",
    "    sheet['D2']= 'Employee'\n",
    "    sheet['E2']= 'Hours'\n",
    "    sheet['A2'].font = Font(bold=True)\n",
    "    sheet['B2'].font = Font(bold=True)\n",
    "#    fontStyle = Font(size = \"20\")\n",
    "    sheet.merge_cells('A1:F1')\n",
    "    top_left_cell = sheet['A1']\n",
    "    top_right_cell = sheet['F1']\n",
    "    top_left_cell.value = timestampreport + \" Gift Drawdown Summary\"\n",
    "    thin = Side(border_style=\"thin\", color=\"000000\")\n",
    "    double = Side(border_style=\"double\", color=\"000000\")\n",
    "    top_left_cell.border = Border(top=thin, left=thin, right=thin, bottom=thin)\n",
    "    top_left_cell.fill = PatternFill(\"solid\", fgColor=\"003366\")\n",
    "#    top_left_cell.fill = fill = GradientFill(stop=(\"000080\", \"FFFFFF\"))\n",
    "    top_left_cell.font  = Font(color=\"FFFFFF\", size = \"26\")\n",
    "#    top_left_cell.font = fontStyle\n",
    "    top_left_cell.alignment = Alignment(horizontal=\"center\", vertical=\"center\")\n",
    "    top_right_cell.border = Border(top=thin, left=thin, right=thin, bottom=thin)\n",
    "    sheet.column_dimensions['A'].width = 24\n",
    "    sheet.column_dimensions['B'].width = 34\n",
    "    sheet.column_dimensions['C'].width = 34\n",
    "    sheet.column_dimensions['D'].width = 24\n",
    "    sheet.column_dimensions['E'].width = 16\n",
    "    num_rows = sheet.max_row\n",
    "    curr_row = 2\n",
    "    last_col = 8\n",
    "    bluesectionrightborder = 5\n",
    "    for col in range(1, bluesectionrightborder):\n",
    "        for row in range(3, num_rows+1):\n",
    "            sheet.cell(column=col, row=row).alignment = Alignment(horizontal = 'left', vertical='top')\n",
    "            sheet.cell(column=col, row=row).fill = blueFill\n",
    "    for i in range(1, sheet.max_row + 1):\n",
    "        if sheet.cell(row=i, column=1).value == \"Gift\":\n",
    "            for j in range(1,last_col-1):\n",
    "                sheet.cell(column=j, row=i).font = Font(bold=True)\n",
    "                sheet.cell(column=j, row=i).border = Border(top = thin, bottom = thin)  \n",
    "                sheet.cell(column=j, row=i).fill = greyFill\n",
    " \n",
    "    for col in range(1, bluesectionrightborder):\n",
    "        for row in range(3, num_rows+1):\n",
    "            sheet.cell(column=col, row=row).alignment = Alignment(horizontal='left', vertical='center')\n",
    "            sheet.cell(column=col, row=row).font = Font(bold=True, size = \"12\")   \n",
    "    for col in range(1, 2):\n",
    "        greystartrows = []\n",
    "        greyendrows = []\n",
    "        for i in range(3,num_rows+1):\n",
    "            if sheet.cell(row=i, column=col).value:\n",
    "                greystartrows.append(i)\n",
    "        del  greystartrows[1::2]\n",
    "        for i in range(3,num_rows+1):\n",
    "            if sheet.cell(row=i, column=col).value:\n",
    "                greyendrows.append(i-1)\n",
    "        del  greyendrows[0::2]\n",
    "\n",
    "        \n",
    "    if len(greystartrows) != len(greyendrows):\n",
    "        print('mismatch')\n",
    "        print(len(greystartrows))\n",
    "        print(len(greyendrows))\n",
    "        greystartrows.pop()\n",
    "    for col in range(1, bluesectionrightborder):\n",
    "        for row in range(3, num_rows):\n",
    "            for i in range(len(greystartrows)):\n",
    "                if row == greystartrows[i]:\n",
    "                    for row in range(greystartrows[i],greyendrows[i]):\n",
    "                        sheet.cell(column=col, row=row).fill = lightblueFill \n",
    "                try:\n",
    "                    if sheet.cell(row=greyendrows[i], column=bluesectionrightborder).value == \"Total Drawdown\":\n",
    "                        sheet.cell(column=bluesectionrightborder-1, row=greyendrows[i]).fill = lightblueFill\n",
    "                except:\n",
    "                    pass\n",
    "\n",
    "    for col in range(6,  last_col):\n",
    "        for row in range(2, num_rows+1):\n",
    "            sheet.cell(column=col, row=row).number_format = '\"$\"#,##0;[Red](\"$\"#,##0)'\n",
    "\n",
    "        \n",
    "    for i in range(1, sheet.max_row + 1):\n",
    "        if sheet.cell(row=i, column=bluesectionrightborder).value == \"Total Drawdown\":\n",
    "            for j in range(bluesectionrightborder,last_col-1):\n",
    "                sheet.cell(column=j, row=i).font = Font(bold=True)\n",
    "                sheet.cell(column=j, row=i).border = Border(bottom=Side(style=\"double\")) \n",
    "    sheet.sheet_view.zoomScale = 100\n",
    "    sheet.freeze_panes = \"A3\"\n",
    "    sheet.sheet_state = 'hidden'\n",
    "\n",
    "    book.save(file)\n"
   ]
  },
  {
   "cell_type": "code",
   "execution_count": 623,
   "id": "410836fb",
   "metadata": {},
   "outputs": [],
   "source": [
    "def MakeFundingSourceRules(Group, link):\n",
    "    step1 = CreateFundingSourceRules(Group)\n",
    "    step2 = CreateFundingSourceRulesPivot(step1)\n",
    "    step3 = add_subtotal_FundingSourceRules(step2)\n",
    "    to_excel_FundingSourceRules(step3, link)\n",
    "    Format_FundingSourceRules(link)\n"
   ]
  },
  {
   "cell_type": "code",
   "execution_count": null,
   "id": "151ca8ab",
   "metadata": {},
   "outputs": [],
   "source": []
  },
  {
   "cell_type": "code",
   "execution_count": 624,
   "id": "4335d7c0",
   "metadata": {},
   "outputs": [],
   "source": [
    "\n",
    "#MakeFundingSourceRules(\"Carbon-Free Buildings\", str(Timepath+'/' + \"Carbon-Free Buildings\"  + ' - ' +timestampreport + filename))\n"
   ]
  },
  {
   "cell_type": "code",
   "execution_count": null,
   "id": "0345b3f7",
   "metadata": {},
   "outputs": [],
   "source": []
  },
  {
   "cell_type": "markdown",
   "id": "05ba97a1",
   "metadata": {},
   "source": [
    "# Create Project Time Table"
   ]
  },
  {
   "cell_type": "code",
   "execution_count": 625,
   "id": "df2795b4",
   "metadata": {},
   "outputs": [
    {
     "data": {
      "text/plain": [
       "Index(['Employee ID', 'Talent Pool', 'Worker', 'Worker Cost Center', 'Project',\n",
       "       'Hire Date', 'Termination Date', 'Needed Project Hours',\n",
       "       'Total Employee Project Hours', 'Project Group',\n",
       "       'Actual Utilization Rate', 'Utilization Target', 'Total Project Hours',\n",
       "       'Fully Utilized'],\n",
       "      dtype='object')"
      ]
     },
     "execution_count": 625,
     "metadata": {},
     "output_type": "execute_result"
    }
   ],
   "source": [
    "EmployeeTimeProjectLookupTable.columns"
   ]
  },
  {
   "cell_type": "code",
   "execution_count": 626,
   "id": "a257ac96",
   "metadata": {},
   "outputs": [
    {
     "data": {
      "text/plain": [
       "Grant Funded              1952\n",
       "Holiday                    701\n",
       "Admin                      514\n",
       "Customer Funded            488\n",
       "PTO                        440\n",
       "Unrestricted               219\n",
       "ACF                         94\n",
       "Multilateral/Bilateral      91\n",
       "US Government               53\n",
       "Name: Project Group, dtype: int64"
      ]
     },
     "execution_count": 626,
     "metadata": {},
     "output_type": "execute_result"
    }
   ],
   "source": [
    "EmployeeTimeProjectLookupTable['Project Group'].value_counts()"
   ]
  },
  {
   "cell_type": "code",
   "execution_count": 627,
   "id": "897e8b27",
   "metadata": {},
   "outputs": [
    {
     "data": {
      "text/plain": [
       "4552"
      ]
     },
     "execution_count": 627,
     "metadata": {},
     "output_type": "execute_result"
    }
   ],
   "source": [
    "len(EmployeeTimeProjectLookupTable)"
   ]
  },
  {
   "cell_type": "code",
   "execution_count": 628,
   "id": "a3196566",
   "metadata": {},
   "outputs": [],
   "source": [
    "EmployeeTimeProjectLookupTablePROJECTS1 = EmployeeTimeProjectLookupTable[EmployeeTimeProjectLookupTable['Project Group']!='Admin']\n",
    "EmployeeTimeProjectLookupTablePROJECTS2 = EmployeeTimeProjectLookupTablePROJECTS1[EmployeeTimeProjectLookupTablePROJECTS1['Project Group']!='Holiday']\n",
    "EmployeeTimeProjectLookupTablePROJECTS = EmployeeTimeProjectLookupTablePROJECTS2[EmployeeTimeProjectLookupTablePROJECTS2['Project Group']!='PTO']"
   ]
  },
  {
   "cell_type": "code",
   "execution_count": 629,
   "id": "aae4ae9a",
   "metadata": {},
   "outputs": [
    {
     "data": {
      "text/plain": [
       "Grant Funded              1952\n",
       "Customer Funded            488\n",
       "Unrestricted               219\n",
       "ACF                         94\n",
       "Multilateral/Bilateral      91\n",
       "US Government               53\n",
       "Name: Project Group, dtype: int64"
      ]
     },
     "execution_count": 629,
     "metadata": {},
     "output_type": "execute_result"
    }
   ],
   "source": [
    "EmployeeTimeProjectLookupTablePROJECTS['Project Group'].value_counts()"
   ]
  },
  {
   "cell_type": "code",
   "execution_count": 630,
   "id": "72990867",
   "metadata": {},
   "outputs": [],
   "source": [
    "def CreateProjectTimeSet(program):\n",
    "    firstdf = EmployeeTimeProjectLookupTablePROJECTS[EmployeeTimeProjectLookupTablePROJECTS['Worker Cost Center']==program]  \n",
    "    return firstdf"
   ]
  },
  {
   "cell_type": "code",
   "execution_count": 631,
   "id": "57297aa9",
   "metadata": {},
   "outputs": [],
   "source": [
    "def CreateProjectTimePivot(Group):\n",
    "#    Month_order = ['Jul 2022', 'Aug 2022', 'Sep 2022', 'Oct 2022', 'Nov 2022', 'Dec 2022', 'Jan 2023', 'Feb 2023', 'Mar 2023', 'Apr 2023', 'May 2023', 'Jun 2023', 'Jul 2023', 'Aug 2023', 'Sep 2023', 'Oct 2023', 'Nov 2023', 'Dec 2023', 'Jan 2024', 'Feb 2024', 'Mar 2024', 'Apr 2024', 'May 2024', 'Jun 2024']\n",
    "    table = pd.pivot_table(Group, index = ['Worker', 'Fully Utilized', 'Actual Utilization Rate', 'Utilization Target', 'Total Project Hours', 'Needed Project Hours', 'Talent Pool', 'Project'], values = 'Total Employee Project Hours', aggfunc=\"sum\")\n",
    "#    table2 = table.reindex(Month_order, axis=1)\n",
    "    return table"
   ]
  },
  {
   "cell_type": "code",
   "execution_count": null,
   "id": "44b793c6",
   "metadata": {},
   "outputs": [],
   "source": []
  },
  {
   "cell_type": "code",
   "execution_count": 632,
   "id": "e0694808",
   "metadata": {},
   "outputs": [],
   "source": [
    "def add_subtotal_ProjectPivot(PivotedGroup):\n",
    "    out = pd.concat([d.append(d.sum().rename(('','','','','','','','Total Hours'))) for k, d in PivotedGroup.groupby('Worker')])\n",
    "    out.index = pd.MultiIndex.from_tuples(out.index)\n",
    "    return out"
   ]
  },
  {
   "cell_type": "code",
   "execution_count": 633,
   "id": "c2ebf7fc",
   "metadata": {},
   "outputs": [],
   "source": [
    "def to_excel_ProjectTime(df, file):\n",
    "    writer = pd.ExcelWriter(file, engine='openpyxl')\n",
    "    if os.path.exists(file):\n",
    "        book = openpyxl.load_workbook(file)\n",
    "        writer.book = book\n",
    "\n",
    "    df.to_excel(writer, sheet_name=\"Utilization by Worker\", startrow = 1)\n",
    "    writer.save()\n",
    "    writer.close()"
   ]
  },
  {
   "cell_type": "code",
   "execution_count": 634,
   "id": "4ec2b87a",
   "metadata": {},
   "outputs": [],
   "source": [
    "def Format_ProjectTime(file):\n",
    "    book = load_workbook(file)\n",
    "    sheet = book[\"Utilization by Worker\"] #active means last opened sheet\n",
    "    rd = sheet.row_dimensions[1]\n",
    "    rd.height = 25\n",
    "    sheet['A2']= \"Employee\"\n",
    "    sheet['B2']= 'Utilization Status'\n",
    "    sheet['C2']= 'Actual Utilization'\n",
    "    sheet['D2']= 'Utilization Target'\n",
    "    sheet['E2']= 'Total Project Hours'\n",
    "    sheet['F2']= 'Total Needed Hours'\n",
    "    sheet['G2']= 'Talent Pool'\n",
    "    sheet['H2']= 'Project'\n",
    "    sheet['A2'].font = Font(bold=True)\n",
    "    sheet['B2'].font = Font(bold=True)\n",
    "#    fontStyle = Font(size = \"20\")\n",
    "    sheet.merge_cells('A1:I1')\n",
    "    top_left_cell = sheet['A1']\n",
    "    top_right_cell = sheet['I1']\n",
    "    top_left_cell.value = timestampreport + \" Utilization by Worker\"\n",
    "    thin = Side(border_style=\"thin\", color=\"000000\")\n",
    "    double = Side(border_style=\"double\", color=\"000000\")\n",
    "    top_left_cell.border = Border(top=thin, left=thin, right=thin, bottom=thin)\n",
    "    top_left_cell.fill = PatternFill(\"solid\", fgColor=\"003366\")\n",
    "#    top_left_cell.fill = fill = GradientFill(stop=(\"000080\", \"FFFFFF\"))\n",
    "    top_left_cell.font  = Font(color=\"FFFFFF\", size = \"26\")\n",
    "#    top_left_cell.font = fontStyle\n",
    "    top_left_cell.alignment = Alignment(horizontal=\"center\", vertical=\"center\")\n",
    "    top_right_cell.border = Border(top=thin, left=thin, right=thin, bottom=thin)\n",
    "    sheet.column_dimensions['A'].width = 20\n",
    "    sheet.column_dimensions['B'].width = 20\n",
    "    sheet.column_dimensions['C'].width = 16\n",
    "    sheet.column_dimensions['D'].width = 16\n",
    "    sheet.column_dimensions['G'].width = 26\n",
    "    sheet.column_dimensions['H'].width = 50\n",
    "    sheet.column_dimensions['I'].width = 16\n",
    "    num_rows = sheet.max_row\n",
    "    curr_row = 2\n",
    "    last_col = 11\n",
    "    bluesectionrightborder = 8\n",
    "    for col in range(3, 5):\n",
    "        for row in range(2, num_rows+1):\n",
    "            sheet.cell(column=col, row=row).number_format = '0.00%'\n",
    "\n",
    "    for col in range(1, bluesectionrightborder):\n",
    "        for row in range(3, num_rows+1):\n",
    "            sheet.cell(column=col, row=row).alignment = Alignment(horizontal = 'left', vertical='top')\n",
    "            sheet.cell(column=col, row=row).fill = blueFill\n",
    "    for i in range(1, sheet.max_row + 1):\n",
    "        if sheet.cell(row=i, column=1).value == \"Employee\":\n",
    "            for j in range(1,last_col-1):\n",
    "                sheet.cell(column=j, row=i).font = Font(bold=True)\n",
    "                sheet.cell(column=j, row=i).border = Border(top = thin, bottom = thin)  \n",
    "                sheet.cell(column=j, row=i).fill = greyFill\n",
    " \n",
    "    for col in range(1, bluesectionrightborder):\n",
    "        for row in range(3, num_rows+1):\n",
    "            sheet.cell(column=col, row=row).alignment = Alignment(horizontal='left', vertical='center')\n",
    "            sheet.cell(column=col, row=row).font = Font(bold=True, size = \"12\")   \n",
    "    for col in range(1, 2):\n",
    "        greystartrows = []\n",
    "        greyendrows = []\n",
    "        for i in range(3,num_rows+1):\n",
    "            if sheet.cell(row=i, column=col).value:\n",
    "                greystartrows.append(i)\n",
    "        del  greystartrows[1::2]\n",
    "        for i in range(3,num_rows+1):\n",
    "            if sheet.cell(row=i, column=col).value:\n",
    "                greyendrows.append(i-1)\n",
    "        del  greyendrows[0::2]\n",
    "\n",
    "        \n",
    "    if len(greystartrows) != len(greyendrows):\n",
    "        print('mismatch')\n",
    "        print(len(greystartrows))\n",
    "        print(len(greyendrows))\n",
    "        greystartrows.pop()\n",
    "    for col in range(1, bluesectionrightborder):\n",
    "        for row in range(3, num_rows):\n",
    "            for i in range(len(greystartrows)):\n",
    "                if row == greystartrows[i]:\n",
    "                    for row in range(greystartrows[i],greyendrows[i]):\n",
    "                        sheet.cell(column=col, row=row).fill = lightblueFill \n",
    "                try:\n",
    "                    if sheet.cell(row=greyendrows[i], column=bluesectionrightborder).value == \"Total Hours\":\n",
    "                        sheet.cell(column=bluesectionrightborder-1, row=greyendrows[i]).fill = lightblueFill\n",
    "                except:\n",
    "                    pass\n",
    "\n",
    "\n",
    "        \n",
    "    for i in range(1, sheet.max_row + 1):\n",
    "        if sheet.cell(row=i, column=bluesectionrightborder).value == \"Total Hours\":\n",
    "            for j in range(bluesectionrightborder,last_col-1):\n",
    "                sheet.cell(column=j, row=i).font = Font(bold=True)\n",
    "                sheet.cell(column=j, row=i).border = Border(bottom=Side(style=\"double\")) \n",
    "    sheet.sheet_view.zoomScale = 100\n",
    "    sheet.freeze_panes = \"A3\"\n",
    "#    sheet.sheet_state = 'hidden'\n",
    "\n",
    "    book.save(file)\n"
   ]
  },
  {
   "cell_type": "code",
   "execution_count": 635,
   "id": "e5e2b836",
   "metadata": {},
   "outputs": [],
   "source": [
    "def MakeProjectTime(Group, link):\n",
    "    step1 = CreateProjectTimeSet(Group)\n",
    "    step2 = CreateProjectTimePivot(step1)\n",
    "    step3 = add_subtotal_ProjectPivot(step2)\n",
    "    to_excel_ProjectTime(step3, link)\n",
    "    Format_ProjectTime(link)\n"
   ]
  },
  {
   "cell_type": "markdown",
   "id": "34ca8731",
   "metadata": {},
   "source": [
    "# Create PTO Bank Pivot"
   ]
  },
  {
   "cell_type": "code",
   "execution_count": 636,
   "id": "4eb15e0b",
   "metadata": {},
   "outputs": [
    {
     "data": {
      "text/plain": [
       "Index(['Worker', 'Employee ID', 'Project Plan Task', 'Project Plan Task ID',\n",
       "       'SalaryCosted', 'BenefitsCosted', 'SharedCosted', 'BonusCosted',\n",
       "       'Initiative', 'Cost Center', 'ConsultingFeesCosted', 'Type',\n",
       "       'Project Hours Percentage', 'Admin Hours Percentage', 'Lobbying',\n",
       "       'Lobbying Location', 'Project or Admin', 'Project',\n",
       "       'Worker Cost Center', 'PTO more than Admin', 'Location',\n",
       "       'Total Project Hours', 'Needed Project Hours', 'Adjusted Hours',\n",
       "       'Actual Utilization Rate', 'Cost per Project Hour',\n",
       "       'Utilization Target', 'Talent Pools', 'Total Cost', 'File',\n",
       "       'Project PTO or Admin', 'Standard Monthly Cost',\n",
       "       'Amount Banked per Hour', 'Amount Banked', 'Cost per PTO Hour',\n",
       "       'Project & PTO Hours', 'Bank Month', 'Project Task', 'Project ID',\n",
       "       'Funding Source Rule', 'Project/Project Hierarchy',\n",
       "       'Company/Company Hierarchy', 'Evaluation Date Option',\n",
       "       'Default Funding Source', 'Inactive', 'Funding Source Condition Rule',\n",
       "       'Funding Source Priority', 'Funding Source', 'Funding Source Count',\n",
       "       'Funding Source Greater than 1', 'Detail 1', 'Detail 2', 'Detail 3',\n",
       "       'Detail 4', '% - Detail 1', '% - Detail 2', '% - Detail 3',\n",
       "       '% - Detail 4'],\n",
       "      dtype='object')"
      ]
     },
     "execution_count": 636,
     "metadata": {},
     "output_type": "execute_result"
    }
   ],
   "source": [
    "PTOBankFINAL.columns"
   ]
  },
  {
   "cell_type": "code",
   "execution_count": 637,
   "id": "0af65f5a",
   "metadata": {},
   "outputs": [],
   "source": [
    "\n",
    "def CreatePTOBankFile(program):\n",
    "    firstdf = PTOBankFINAL[PTOBankFINAL['Worker Cost Center']==program]  \n",
    "    return firstdf"
   ]
  },
  {
   "cell_type": "code",
   "execution_count": 638,
   "id": "bce43337",
   "metadata": {},
   "outputs": [],
   "source": [
    "def CreateCreatePTOBankFilePivot(Group):\n",
    "#    Month_order = ['Jul 2022', 'Aug 2022', 'Sep 2022', 'Oct 2022', 'Nov 2022', 'Dec 2022', 'Jan 2023', 'Feb 2023', 'Mar 2023', 'Apr 2023', 'May 2023', 'Jun 2023', 'Jul 2023', 'Aug 2023', 'Sep 2023', 'Oct 2023', 'Nov 2023', 'Dec 2023', 'Jan 2024', 'Feb 2024', 'Mar 2024', 'Apr 2024', 'May 2024', 'Jun 2024']\n",
    "    table = pd.pivot_table(Group, index = ['Worker', 'Funding Source', 'Project', 'Project Plan Task', 'Project Plan Task ID', 'Standard Monthly Cost', 'Cost per Project Hour', 'Amount Banked per Hour', 'Hours'], values = 'Amount Banked', aggfunc=\"sum\")\n",
    "#    table2 = table.reindex(Month_order, axis=1)\n",
    "    return table"
   ]
  },
  {
   "cell_type": "code",
   "execution_count": 639,
   "id": "b7df6be0",
   "metadata": {},
   "outputs": [],
   "source": [
    "def add_subtotal_PTOBankFile(PivotedGroup):\n",
    "    out = pd.concat([d.append(d.sum().rename(('','','','','','','','','Total Amount'))) for k, d in PivotedGroup.groupby('Worker')])\n",
    "    out.index = pd.MultiIndex.from_tuples(out.index)\n",
    "    return out"
   ]
  },
  {
   "cell_type": "code",
   "execution_count": 640,
   "id": "feb41322",
   "metadata": {},
   "outputs": [],
   "source": [
    "def to_excel_PTOBankFile(df, file):\n",
    "    writer = pd.ExcelWriter(file, engine='openpyxl')\n",
    "    if os.path.exists(file):\n",
    "        book = openpyxl.load_workbook(file)\n",
    "        writer.book = book\n",
    "\n",
    "    df.to_excel(writer, sheet_name=\"PTOBank by Worker\", startrow = 1)\n",
    "    writer.save()\n",
    "    writer.close()"
   ]
  },
  {
   "cell_type": "code",
   "execution_count": 641,
   "id": "b88f676a",
   "metadata": {},
   "outputs": [],
   "source": [
    "def Format_PTOBankFile(file):\n",
    "    book = load_workbook(file)\n",
    "    sheet = book[\"PTOBank by Worker\"] #active means last opened sheet\n",
    "    rd = sheet.row_dimensions[1]\n",
    "    rd.height = 25\n",
    "    sheet['A2']= \"Employee\"\n",
    "    sheet['B2']= 'Funding Source'\n",
    "    sheet['C2']= 'Project'\n",
    "    sheet['D2']= 'Project Plan Task'\n",
    "    sheet['E2']= 'Project Plan Task ID'\n",
    "    sheet['F2']= 'Standard Monthly Cost'\n",
    "    sheet['G2']= 'Cost per Project Hour'\n",
    "    sheet['H2']= 'Amount Banked per Hour'\n",
    "    sheet['I2']= 'Hours'\n",
    "    sheet['A2'].font = Font(bold=True)\n",
    "    sheet['B2'].font = Font(bold=True)\n",
    "#    fontStyle = Font(size = \"20\")\n",
    "    sheet.merge_cells('A1:J1')\n",
    "    top_left_cell = sheet['A1']\n",
    "    top_right_cell = sheet['J1']\n",
    "    top_left_cell.value = timestampreport + \" PTO Bank Summary\"\n",
    "    thin = Side(border_style=\"thin\", color=\"000000\")\n",
    "    double = Side(border_style=\"double\", color=\"000000\")\n",
    "    top_left_cell.border = Border(top=thin, left=thin, right=thin, bottom=thin)\n",
    "    top_left_cell.fill = PatternFill(\"solid\", fgColor=\"003366\")\n",
    "#    top_left_cell.fill = fill = GradientFill(stop=(\"000080\", \"FFFFFF\"))\n",
    "    top_left_cell.font  = Font(color=\"FFFFFF\", size = \"26\")\n",
    "#    top_left_cell.font = fontStyle\n",
    "    top_left_cell.alignment = Alignment(horizontal=\"center\", vertical=\"center\")\n",
    "    top_right_cell.border = Border(top=thin, left=thin, right=thin, bottom=thin)\n",
    "    sheet.column_dimensions['A'].width = 20\n",
    "    sheet.column_dimensions['B'].width = 26\n",
    "    sheet.column_dimensions['C'].width = 26\n",
    "    sheet.column_dimensions['D'].width = 26\n",
    "    sheet.column_dimensions['E'].width = 26\n",
    "    sheet.column_dimensions['G'].width = 16\n",
    "    sheet.column_dimensions['H'].width = 16\n",
    "    sheet.column_dimensions['I'].width = 16\n",
    "    sheet.column_dimensions['J'].width = 16\n",
    "    num_rows = sheet.max_row\n",
    "    curr_row = 2\n",
    "    last_col = 12\n",
    "    bluesectionrightborder = 9\n",
    "    for col in range(6, 9):\n",
    "        for row in range(2, num_rows+1):\n",
    "            sheet.cell(column=col, row=row).number_format = '\"$\"#,##0;[Red](\"$\"#,##0)'\n",
    "    for col in range(10, 11):\n",
    "        for row in range(2, num_rows+1):\n",
    "            sheet.cell(column=col, row=row).number_format = '\"$\"#,##0;[Red](\"$\"#,##0)'\n",
    "\n",
    "    for col in range(1, bluesectionrightborder):\n",
    "        for row in range(3, num_rows+1):\n",
    "            sheet.cell(column=col, row=row).alignment = Alignment(horizontal = 'left', vertical='top')\n",
    "            sheet.cell(column=col, row=row).fill = blueFill\n",
    "    for i in range(1, sheet.max_row + 1):\n",
    "        if sheet.cell(row=i, column=1).value == \"Employee\":\n",
    "            for j in range(1,last_col-1):\n",
    "                sheet.cell(column=j, row=i).font = Font(bold=True)\n",
    "                sheet.cell(column=j, row=i).border = Border(top = thin, bottom = thin)  \n",
    "                sheet.cell(column=j, row=i).fill = greyFill\n",
    " \n",
    "    for col in range(1, bluesectionrightborder):\n",
    "        for row in range(3, num_rows+1):\n",
    "            sheet.cell(column=col, row=row).alignment = Alignment(horizontal='left', vertical='center')\n",
    "            sheet.cell(column=col, row=row).font = Font(bold=True, size = \"12\")   \n",
    "    for col in range(1, 2):\n",
    "        greystartrows = []\n",
    "        greyendrows = []\n",
    "        for i in range(3,num_rows+1):\n",
    "            if sheet.cell(row=i, column=col).value:\n",
    "                greystartrows.append(i)\n",
    "        del  greystartrows[1::2]\n",
    "        for i in range(3,num_rows+1):\n",
    "            if sheet.cell(row=i, column=col).value:\n",
    "                greyendrows.append(i-1)\n",
    "        del  greyendrows[0::2]\n",
    "\n",
    "        \n",
    "    if len(greystartrows) != len(greyendrows):\n",
    "        print('mismatch')\n",
    "        print(len(greystartrows))\n",
    "        print(len(greyendrows))\n",
    "        greystartrows.pop()\n",
    "    for col in range(1, bluesectionrightborder):\n",
    "        for row in range(3, num_rows):\n",
    "            for i in range(len(greystartrows)):\n",
    "                if row == greystartrows[i]:\n",
    "                    for row in range(greystartrows[i],greyendrows[i]):\n",
    "                        sheet.cell(column=col, row=row).fill = lightblueFill \n",
    "                try:\n",
    "                    if sheet.cell(row=greyendrows[i], column=bluesectionrightborder).value == \"Total Amount\":\n",
    "                        sheet.cell(column=bluesectionrightborder-1, row=greyendrows[i]).fill = lightblueFill\n",
    "                except:\n",
    "                    pass\n",
    "\n",
    "\n",
    "        \n",
    "    for i in range(1, sheet.max_row + 1):\n",
    "        if sheet.cell(row=i, column=bluesectionrightborder).value == \"Total Amount\":\n",
    "            for j in range(bluesectionrightborder,last_col-1):\n",
    "                sheet.cell(column=j, row=i).font = Font(bold=True)\n",
    "                sheet.cell(column=j, row=i).border = Border(bottom=Side(style=\"double\")) \n",
    "    sheet.sheet_view.zoomScale = 100\n",
    "    sheet.freeze_panes = \"A3\"\n",
    "#    sheet.sheet_state = 'hidden'\n",
    "\n",
    "    book.save(file)"
   ]
  },
  {
   "cell_type": "code",
   "execution_count": 642,
   "id": "f97e959f",
   "metadata": {},
   "outputs": [],
   "source": [
    "def MakePTOBankFile(Group, link):\n",
    "    step1 = CreatePTOBankFile(Group)\n",
    "    step2 = CreateCreatePTOBankFilePivot(step1)\n",
    "    step3 = add_subtotal_PTOBankFile(step2)\n",
    "    to_excel_PTOBankFile(step3, link)\n",
    "    Format_PTOBankFile(link)\n"
   ]
  },
  {
   "cell_type": "code",
   "execution_count": 643,
   "id": "09fe945d",
   "metadata": {},
   "outputs": [],
   "source": [
    "#MakePTOBankFile('Carbon-Free Buildings', str(Timepath+'/' + 'Carbon-Free Buildings' + ' - ' +timestampreport + filename))"
   ]
  },
  {
   "cell_type": "markdown",
   "id": "ac0ab9ff",
   "metadata": {},
   "source": [
    "# Create Whitney's Final Output Files"
   ]
  },
  {
   "cell_type": "markdown",
   "id": "357b2457",
   "metadata": {},
   "source": [
    "## Create Salary Output File"
   ]
  },
  {
   "cell_type": "code",
   "execution_count": 644,
   "id": "17320e96",
   "metadata": {},
   "outputs": [],
   "source": [
    "SalaryLoadTemplate = './Source_Files/Workday_Accounting_Journal_Salary Allocation_Template.xlsx'\n"
   ]
  },
  {
   "cell_type": "markdown",
   "id": "733f1028",
   "metadata": {},
   "source": [
    "Create Holding Calculations"
   ]
  },
  {
   "cell_type": "code",
   "execution_count": 645,
   "id": "10771e96",
   "metadata": {},
   "outputs": [
    {
     "data": {
      "text/plain": [
       "705027.84"
      ]
     },
     "execution_count": 645,
     "metadata": {},
     "output_type": "execute_result"
    }
   ],
   "source": [
    "SalaryHoldingDF = TransDetailBeijingDF[TransDetailBeijingDF['Spend Category']==\"Salary Holding\"]\n",
    "\n",
    "HoldingGenInst = SalaryHoldingDF[SalaryHoldingDF['Initiative']==\"GEN - General Admin\"]\n",
    "HoldingNotGenInst = SalaryHoldingDF[SalaryHoldingDF['Initiative']!=\"GEN - General Admin\"]\n",
    "\n",
    "HoldingGentotal = HoldingGenInst['Net Amount'].sum()\n",
    "\n",
    "HoldingGentotal"
   ]
  },
  {
   "cell_type": "code",
   "execution_count": 646,
   "id": "2f4de9b2",
   "metadata": {},
   "outputs": [
    {
     "data": {
      "text/plain": [
       "5789336.26"
      ]
     },
     "execution_count": 646,
     "metadata": {},
     "output_type": "execute_result"
    }
   ],
   "source": [
    "HoldingNotGenInsttotal = HoldingNotGenInst['Net Amount'].sum()\n",
    "HoldingNotGenInsttotal"
   ]
  },
  {
   "cell_type": "markdown",
   "id": "0ab3eb6d",
   "metadata": {},
   "source": [
    "Create China Calculations"
   ]
  },
  {
   "cell_type": "code",
   "execution_count": 647,
   "id": "fe2266dd",
   "metadata": {},
   "outputs": [],
   "source": [
    "ChinaHoldingDF = TransDetailBeijingDF[TransDetailBeijingDF['Spend Category']==\"Salaries & Wages\"]\n",
    "ChinaHoldingDF1 = ChinaHoldingDF[ChinaHoldingDF['Initiative']==\"CH - Admin\"]\n",
    "ChinaHoldingDF2 = ChinaHoldingDF1[ChinaHoldingDF1['Cost Center']==\"China\"]"
   ]
  },
  {
   "cell_type": "code",
   "execution_count": 648,
   "id": "84f42556",
   "metadata": {},
   "outputs": [
    {
     "data": {
      "text/plain": [
       "Index(['Journal', 'Journal Number', 'CF LRV Ad Hoc Bank Number',\n",
       "       'Operational Transaction', 'Company', 'Status', 'Accounting Date',\n",
       "       'Source', 'Ledger', 'Currency', 'Ledger Account', 'Ledger Debit Amount',\n",
       "       'Ledger Credit Amount', 'Net Amount', 'Line Memo',\n",
       "       'Intercompany Affiliate', 'Bank Account', 'Revenue Category',\n",
       "       'Spend Category', 'Cost Center', 'Initiative', 'Project', 'Project ID',\n",
       "       'Project Plan Task', 'Project Plan Task ID', 'Gift', 'Fund',\n",
       "       'Funding Source', 'Customer', 'Supplier', 'Employee', 'Employee ID',\n",
       "       'Location', 'Worktags'],\n",
       "      dtype='object')"
      ]
     },
     "execution_count": 648,
     "metadata": {},
     "output_type": "execute_result"
    }
   ],
   "source": [
    "ChinaHoldingDF2.columns"
   ]
  },
  {
   "cell_type": "code",
   "execution_count": 649,
   "id": "5a2eea0d",
   "metadata": {},
   "outputs": [],
   "source": [
    "ChinaHoldingDatatoCopy = ChinaHoldingDF2[['Net Amount', 'Cost Center', 'Initiative','Project Plan Task ID', 'Employee', 'Employee ID']]"
   ]
  },
  {
   "cell_type": "code",
   "execution_count": 650,
   "id": "910b53d7",
   "metadata": {},
   "outputs": [
    {
     "data": {
      "text/plain": [
       "37"
      ]
     },
     "execution_count": 650,
     "metadata": {},
     "output_type": "execute_result"
    }
   ],
   "source": [
    "len(ChinaHoldingDatatoCopy)"
   ]
  },
  {
   "cell_type": "code",
   "execution_count": 651,
   "id": "33c9c0b7",
   "metadata": {},
   "outputs": [],
   "source": [
    "ChinaHoldingDatatoFinal = ChinaHoldingDatatoCopy.groupby('Employee ID')['Net Amount'].sum().reset_index(name='Net Amount')"
   ]
  },
  {
   "cell_type": "code",
   "execution_count": 652,
   "id": "63733999",
   "metadata": {},
   "outputs": [],
   "source": [
    "ChinaHoldingDatatoFinal['Employee ID'] = ChinaHoldingDatatoFinal['Employee ID'].astype(int)\n",
    "ChinaHoldingDatatoFinal['Employee ID'] = ChinaHoldingDatatoFinal['Employee ID'].apply(str)\n",
    "ChinaHoldingDatatoFinal['Employee ID'] = ChinaHoldingDatatoFinal['Employee ID'].apply(add_zeros)"
   ]
  },
  {
   "cell_type": "code",
   "execution_count": 653,
   "id": "8c56957b",
   "metadata": {},
   "outputs": [
    {
     "data": {
      "text/plain": [
       "290929.37000000005"
      ]
     },
     "execution_count": 653,
     "metadata": {},
     "output_type": "execute_result"
    }
   ],
   "source": [
    "ChinaHoldingDatatoFinal['Net Amount'].sum()"
   ]
  },
  {
   "cell_type": "code",
   "execution_count": 654,
   "id": "8d80760d",
   "metadata": {},
   "outputs": [
    {
     "data": {
      "text/plain": [
       "33"
      ]
     },
     "execution_count": 654,
     "metadata": {},
     "output_type": "execute_result"
    }
   ],
   "source": [
    "len(ChinaHoldingDatatoFinal)"
   ]
  },
  {
   "cell_type": "code",
   "execution_count": 655,
   "id": "0c5ae3cd",
   "metadata": {},
   "outputs": [
    {
     "data": {
      "text/html": [
       "<div>\n",
       "<style scoped>\n",
       "    .dataframe tbody tr th:only-of-type {\n",
       "        vertical-align: middle;\n",
       "    }\n",
       "\n",
       "    .dataframe tbody tr th {\n",
       "        vertical-align: top;\n",
       "    }\n",
       "\n",
       "    .dataframe thead th {\n",
       "        text-align: right;\n",
       "    }\n",
       "</style>\n",
       "<table border=\"1\" class=\"dataframe\">\n",
       "  <thead>\n",
       "    <tr style=\"text-align: right;\">\n",
       "      <th></th>\n",
       "      <th>Employee ID</th>\n",
       "      <th>Net Amount</th>\n",
       "    </tr>\n",
       "  </thead>\n",
       "  <tbody>\n",
       "    <tr>\n",
       "      <th>0</th>\n",
       "      <td>000001</td>\n",
       "      <td>25996.58</td>\n",
       "    </tr>\n",
       "    <tr>\n",
       "      <th>1</th>\n",
       "      <td>000004</td>\n",
       "      <td>9426.47</td>\n",
       "    </tr>\n",
       "    <tr>\n",
       "      <th>2</th>\n",
       "      <td>000005</td>\n",
       "      <td>12632.50</td>\n",
       "    </tr>\n",
       "    <tr>\n",
       "      <th>3</th>\n",
       "      <td>000006</td>\n",
       "      <td>10129.61</td>\n",
       "    </tr>\n",
       "    <tr>\n",
       "      <th>4</th>\n",
       "      <td>000007</td>\n",
       "      <td>9229.44</td>\n",
       "    </tr>\n",
       "  </tbody>\n",
       "</table>\n",
       "</div>"
      ],
      "text/plain": [
       "  Employee ID  Net Amount\n",
       "0      000001    25996.58\n",
       "1      000004     9426.47\n",
       "2      000005    12632.50\n",
       "3      000006    10129.61\n",
       "4      000007     9229.44"
      ]
     },
     "execution_count": 655,
     "metadata": {},
     "output_type": "execute_result"
    }
   ],
   "source": [
    "ChinaHoldingDatatoFinal.head()"
   ]
  },
  {
   "cell_type": "code",
   "execution_count": 656,
   "id": "5364d35e",
   "metadata": {},
   "outputs": [
    {
     "data": {
      "text/plain": [
       "5829"
      ]
     },
     "execution_count": 656,
     "metadata": {},
     "output_type": "execute_result"
    }
   ],
   "source": [
    "len(AllCostsAllocatedPTOAccruals)"
   ]
  },
  {
   "cell_type": "code",
   "execution_count": 657,
   "id": "666af10e",
   "metadata": {},
   "outputs": [
    {
     "data": {
      "text/plain": [
       "6785293.360239153"
      ]
     },
     "execution_count": 657,
     "metadata": {},
     "output_type": "execute_result"
    }
   ],
   "source": [
    "AllCostsAllocatedPTOAccruals['SalaryCosted'].sum()"
   ]
  },
  {
   "cell_type": "code",
   "execution_count": 658,
   "id": "14a62bb9",
   "metadata": {},
   "outputs": [],
   "source": [
    "SalaryDatatoCopy = AllCostsAllocatedPTOAccruals.loc[(AllCostsAllocatedPTOAccruals[[\"SalaryCosted\"]]!=0).any(axis=1)]"
   ]
  },
  {
   "cell_type": "code",
   "execution_count": 659,
   "id": "c6a03d35",
   "metadata": {},
   "outputs": [],
   "source": [
    "SalaryDatatoCopy = SalaryDatatoCopy.groupby(['Worker', 'Worker Cost Center','Employee ID', 'Project', 'Project Plan Task', 'Project Plan Task ID', 'Cost Center', 'Initiative', 'Lobbying', 'Lobbying Location', 'Location'], as_index=False).sum()"
   ]
  },
  {
   "cell_type": "code",
   "execution_count": 660,
   "id": "78445122",
   "metadata": {},
   "outputs": [
    {
     "data": {
      "text/plain": [
       "Index(['Worker', 'Worker Cost Center', 'Employee ID', 'Project',\n",
       "       'Project Plan Task', 'Project Plan Task ID', 'Cost Center',\n",
       "       'Initiative', 'Lobbying', 'Lobbying Location', 'Location', 'Total Cost',\n",
       "       'ConsultingFeesCosted', 'Admin Hours Percentage', 'Total Project Hours',\n",
       "       'Needed Project Hours', 'Adjusted Hours', 'Actual Utilization Rate',\n",
       "       'Standard Monthly Cost', 'Amount Banked per Hour', 'Amount Banked',\n",
       "       'Cost per Project Hour', 'Utilization Target', 'Cost per PTO Hour',\n",
       "       'Project & PTO Hours', 'SalaryPercentage', 'BenefitsPercentage',\n",
       "       'SharedPercentage', 'BonusPercentage', 'SalaryCosted', 'BenefitsCosted',\n",
       "       'SharedCosted', 'BonusCosted', 'TaskDrawdowns'],\n",
       "      dtype='object')"
      ]
     },
     "execution_count": 660,
     "metadata": {},
     "output_type": "execute_result"
    }
   ],
   "source": [
    "SalaryDatatoCopy.columns"
   ]
  },
  {
   "cell_type": "code",
   "execution_count": 661,
   "id": "a4903db7",
   "metadata": {},
   "outputs": [
    {
     "data": {
      "text/plain": [
       "4059"
      ]
     },
     "execution_count": 661,
     "metadata": {},
     "output_type": "execute_result"
    }
   ],
   "source": [
    "len(SalaryDatatoCopy)\n"
   ]
  },
  {
   "cell_type": "code",
   "execution_count": 662,
   "id": "0646f501",
   "metadata": {},
   "outputs": [
    {
     "data": {
      "text/plain": [
       "6785293.360239154"
      ]
     },
     "execution_count": 662,
     "metadata": {},
     "output_type": "execute_result"
    }
   ],
   "source": [
    "SalaryDatatoCopy['SalaryCosted'].sum()"
   ]
  },
  {
   "cell_type": "code",
   "execution_count": 663,
   "id": "a1f36576",
   "metadata": {},
   "outputs": [
    {
     "data": {
      "text/plain": [
       "Index(['Worker', 'Worker Cost Center', 'Employee ID', 'Project',\n",
       "       'Project Plan Task', 'Project Plan Task ID', 'Cost Center',\n",
       "       'Initiative', 'Lobbying', 'Lobbying Location', 'Location', 'Total Cost',\n",
       "       'ConsultingFeesCosted', 'Admin Hours Percentage', 'Total Project Hours',\n",
       "       'Needed Project Hours', 'Adjusted Hours', 'Actual Utilization Rate',\n",
       "       'Standard Monthly Cost', 'Amount Banked per Hour', 'Amount Banked',\n",
       "       'Cost per Project Hour', 'Utilization Target', 'Cost per PTO Hour',\n",
       "       'Project & PTO Hours', 'SalaryPercentage', 'BenefitsPercentage',\n",
       "       'SharedPercentage', 'BonusPercentage', 'SalaryCosted', 'BenefitsCosted',\n",
       "       'SharedCosted', 'BonusCosted', 'TaskDrawdowns'],\n",
       "      dtype='object')"
      ]
     },
     "execution_count": 663,
     "metadata": {},
     "output_type": "execute_result"
    }
   ],
   "source": [
    "SalaryDatatoCopy.columns"
   ]
  },
  {
   "cell_type": "code",
   "execution_count": 664,
   "id": "ada67d5d",
   "metadata": {},
   "outputs": [],
   "source": [
    "def createImportAccountingJournalSalary(file):\n",
    "    book = load_workbook(file)\n",
    "    sheet = book[\"Import Accounting Journal\"] #active means last opened sheet\n",
    "    sheet['N6'] = TemplateDate1\n",
    "    #ws.cell(row=2, column=2).value = 2\n",
    "    sheet['T6'] = MonthTemplateName + \" \" + str(yeartemplate) + \" Salary Allocation\"\n",
    "    sheet2 = book[\"Journal Entry Line Replacement\"]\n",
    "#    for i in range(1,len(AllCostsAllocated[[\"SalaryCosted\"]])):\n",
    "    rowstart = 6\n",
    "\n",
    "    for i in range(0,len(SalaryDatatoCopy)+len(ChinaHoldingDatatoFinal)+2):\n",
    "        for j in range(2,3):\n",
    "            sheet2.cell(row=i+rowstart, column=j).value =  1\n",
    "    for i in range(0,len(SalaryDatatoCopy)+len(ChinaHoldingDatatoFinal)+2):\n",
    "        for j in range(3,4):\n",
    "            sheet2.cell(row=i+rowstart, column=j).value =  i+1\n",
    "    for i in range(0,len(SalaryDatatoCopy)+len(ChinaHoldingDatatoFinal)+2):\n",
    "        for j in range(6,7):\n",
    "            sheet2.cell(row=i+rowstart, column=j).value =  5000\n",
    "    for i in range(0,len(SalaryDatatoCopy)+len(ChinaHoldingDatatoFinal)+2):\n",
    "        for j in range(7,8):\n",
    "            sheet2.cell(row=i+rowstart, column=j).value =  \"AS_Standard_Child\"\n",
    "    for i in range(0,len(SalaryDatatoCopy)):\n",
    "        for j in range(8,9):\n",
    "            sheet2.cell(row=i+rowstart, column=j).value =  SalaryDatatoCopy.iloc[i][\"SalaryCosted\"]\n",
    "    for i in range(0,len(SalaryDatatoCopy)+len(ChinaHoldingDatatoFinal)+2):\n",
    "        for j in range(18,19):\n",
    "            sheet2.cell(row=i+rowstart, column=j).value =  MonthTemplateName + \" \" + str(yeartemplate) + \" Salary Allocation\"\n",
    "    for i in range(0,len(SalaryDatatoCopy)):\n",
    "        for j in range(21,22):\n",
    "            sheet2.cell(row=i+rowstart, column=j).value =  \"Salaries & Wages\"\n",
    "    for i in range(0,len(SalaryDatatoCopy)):\n",
    "        for j in range(25,26):\n",
    "            sheet2.cell(row=i+rowstart, column=j).value =  SalaryDatatoCopy.iloc[i][\"Project Plan Task ID\"]\n",
    "    for i in range(0,len(SalaryDatatoCopy)):\n",
    "        for j in range(29,30):\n",
    "            sheet2.cell(row=i+rowstart, column=j).value =  SalaryDatatoCopy.iloc[i][\"Initiative\"]\n",
    "    for i in range(0,len(SalaryDatatoCopy)):\n",
    "        for j in range(31,32):\n",
    "            sheet2.cell(row=i+rowstart, column=j).value =  SalaryDatatoCopy.iloc[i][\"Cost Center\"]\n",
    "    for i in range(0,len(SalaryDatatoCopy)+len(ChinaHoldingDatatoFinal)+2):\n",
    "        for j in range(33,34):\n",
    "            sheet2.cell(row=i+rowstart, column=j).value =  \"Unrestricted\"\n",
    "    for i in range(0,len(SalaryDatatoCopy)):\n",
    "        for j in range(41,42):\n",
    "            if SalaryDatatoCopy.iloc[i][\"Location\"] != \"Beijing\":\n",
    "                pass\n",
    "            else:\n",
    "                sheet2.cell(row=i+rowstart, column=j).value =  SalaryDatatoCopy.iloc[i][\"Location\"]\n",
    "    for i in range(0,len(SalaryDatatoCopy)):\n",
    "        for j in range(43,44):\n",
    "            sheet2.cell(row=i+rowstart, column=j).value =  SalaryDatatoCopy.iloc[i][\"Employee ID\"]\n",
    "    for i in range(0,len(SalaryDatatoCopy)):\n",
    "        for j in range(47,48):\n",
    "            if SalaryDatatoCopy.iloc[i][\"Lobbying\"] == \"None\":\n",
    "                pass\n",
    "            else:\n",
    "                sheet2.cell(row=i+rowstart, column=j).value =  SalaryDatatoCopy.iloc[i][\"Lobbying\"]            \n",
    "\n",
    "    for i in range(0,len(SalaryDatatoCopy)):\n",
    "        for j in range(49,50):\n",
    "            if SalaryDatatoCopy.iloc[i][\"Lobbying Location\"] == \"None\":\n",
    "                pass\n",
    "            else:\n",
    "                sheet2.cell(row=i+rowstart, column=j).value =  SalaryDatatoCopy.iloc[i][\"Lobbying Location\"]\n",
    "# Copy Salary Holding Accounts below here:\n",
    "    sheet2.cell(row=len(SalaryDatatoCopy)+rowstart, column=9).value = HoldingGentotal\n",
    "    sheet2.cell(row=len(SalaryDatatoCopy)+rowstart+1, column=9).value = HoldingNotGenInsttotal                     \n",
    "    sheet2.cell(row=len(SalaryDatatoCopy)+rowstart, column=21).value = \"Salary Holding\"\n",
    "    sheet2.cell(row=len(SalaryDatatoCopy)+rowstart+1, column=21).value = \"Salary Holding\"\n",
    "    sheet2.cell(row=len(SalaryDatatoCopy)+rowstart, column=25).value = \"PROJECT_PLAN_TASK-3-5853\"\n",
    "    sheet2.cell(row=len(SalaryDatatoCopy)+rowstart+1, column=25).value = \"\"\n",
    "    sheet2.cell(row=len(SalaryDatatoCopy)+rowstart, column=29).value = \"GEN - General Admin\"\n",
    "    sheet2.cell(row=len(SalaryDatatoCopy)+rowstart+1, column=29).value = \"\"\n",
    "    sheet2.cell(row=len(SalaryDatatoCopy)+rowstart, column=31).value = \"Institute General\"\n",
    "    sheet2.cell(row=len(SalaryDatatoCopy)+rowstart+1, column=31).value = \"\"\n",
    "    \n",
    "# Copy China Holding Accounts below here:\n",
    "    for i in range(0,len(ChinaHoldingDatatoFinal)):\n",
    "        for j in range(9,10):\n",
    "            sheet2.cell(row=len(SalaryDatatoCopy)+rowstart+2+i, column=j).value =  ChinaHoldingDatatoFinal.iloc[i][\"Net Amount\"]\n",
    "    for i in range(0,len(ChinaHoldingDatatoFinal)):\n",
    "        for j in range(43,44):\n",
    "            sheet2.cell(row=len(SalaryDatatoCopy)+rowstart+2+i, column=j).value =  ChinaHoldingDatatoFinal.iloc[i][\"Employee ID\"]           \n",
    "    for i in range(0,len(ChinaHoldingDatatoFinal)):\n",
    "        for j in range(21,22):\n",
    "            sheet2.cell(row=len(SalaryDatatoCopy)+rowstart+2+i, column=j).value =  \"Salaries & Wages\"          \n",
    "    for i in range(0,len(ChinaHoldingDatatoFinal)):\n",
    "        for j in range(25,26):\n",
    "            sheet2.cell(row=len(SalaryDatatoCopy)+rowstart+2+i, column=j).value =  \"PROJECT_PLAN_TASK-3-4027\"   \n",
    "    for i in range(0,len(ChinaHoldingDatatoFinal)):\n",
    "        for j in range(29,30):\n",
    "            sheet2.cell(row=len(SalaryDatatoCopy)+rowstart+2+i, column=j).value =  \"CH - Admin\"  \n",
    "    for i in range(0,len(ChinaHoldingDatatoFinal)):\n",
    "        for j in range(31,32):\n",
    "            sheet2.cell(row=len(SalaryDatatoCopy)+rowstart+2+i, column=j).value =  \"China\"  \n",
    "    for i in range(0,len(ChinaHoldingDatatoFinal)):\n",
    "        for j in range(41,42):\n",
    "            sheet2.cell(row=len(SalaryDatatoCopy)+rowstart+2+i, column=j).value =  \"Beijing\" \n",
    "    book.save('./Outputs/Workday_Accounting_Journal_Salary Allocation'+Type+timestampreport+'.xlsx')\n",
    "\n"
   ]
  },
  {
   "cell_type": "code",
   "execution_count": 665,
   "id": "d4e8dc2a",
   "metadata": {},
   "outputs": [],
   "source": [
    "createImportAccountingJournalSalary(SalaryLoadTemplate)\n",
    "\n",
    "\n"
   ]
  },
  {
   "cell_type": "code",
   "execution_count": 666,
   "id": "bff8b691",
   "metadata": {},
   "outputs": [
    {
     "data": {
      "text/html": [
       "<div>\n",
       "<style scoped>\n",
       "    .dataframe tbody tr th:only-of-type {\n",
       "        vertical-align: middle;\n",
       "    }\n",
       "\n",
       "    .dataframe tbody tr th {\n",
       "        vertical-align: top;\n",
       "    }\n",
       "\n",
       "    .dataframe thead th {\n",
       "        text-align: right;\n",
       "    }\n",
       "</style>\n",
       "<table border=\"1\" class=\"dataframe\">\n",
       "  <thead>\n",
       "    <tr style=\"text-align: right;\">\n",
       "      <th></th>\n",
       "      <th>Employee ID</th>\n",
       "      <th>Total Cost</th>\n",
       "      <th>Worker</th>\n",
       "      <th>Project Plan Task</th>\n",
       "      <th>Project Plan Task ID</th>\n",
       "      <th>Initiative</th>\n",
       "      <th>Cost Center</th>\n",
       "      <th>ConsultingFeesCosted</th>\n",
       "      <th>Type</th>\n",
       "      <th>Project Hours Percentage</th>\n",
       "      <th>...</th>\n",
       "      <th>SalaryPercentage</th>\n",
       "      <th>BenefitsPercentage</th>\n",
       "      <th>SharedPercentage</th>\n",
       "      <th>BonusPercentage</th>\n",
       "      <th>SalaryCosted</th>\n",
       "      <th>BenefitsCosted</th>\n",
       "      <th>SharedCosted</th>\n",
       "      <th>BonusCosted</th>\n",
       "      <th>TaskDrawdowns</th>\n",
       "      <th>PTO more than Admint</th>\n",
       "    </tr>\n",
       "  </thead>\n",
       "  <tbody>\n",
       "    <tr>\n",
       "      <th>0</th>\n",
       "      <td>000004</td>\n",
       "      <td>2.273737e-13</td>\n",
       "      <td>Li Ma | Cynthia Ma</td>\n",
       "      <td>China &gt; PTO</td>\n",
       "      <td>PROJECT_PLAN_TASK-3-5724</td>\n",
       "      <td>CH - Admin</td>\n",
       "      <td>China</td>\n",
       "      <td>0.0</td>\n",
       "      <td>PTO Time for UnderUtilized</td>\n",
       "      <td>0.90301</td>\n",
       "      <td>...</td>\n",
       "      <td>0.638506</td>\n",
       "      <td>0.180707</td>\n",
       "      <td>0.117896</td>\n",
       "      <td>0.062891</td>\n",
       "      <td>1.451795e-13</td>\n",
       "      <td>4.108808e-14</td>\n",
       "      <td>2.680639e-14</td>\n",
       "      <td>1.429973e-14</td>\n",
       "      <td>NaN</td>\n",
       "      <td>NaN</td>\n",
       "    </tr>\n",
       "    <tr>\n",
       "      <th>1</th>\n",
       "      <td>000007</td>\n",
       "      <td>-5.684342e-14</td>\n",
       "      <td>Dan Li | Danielle Li</td>\n",
       "      <td>China &gt; PTO</td>\n",
       "      <td>PROJECT_PLAN_TASK-3-5724</td>\n",
       "      <td>CH - Admin</td>\n",
       "      <td>China</td>\n",
       "      <td>0.0</td>\n",
       "      <td>PTO Time for UnderUtilized</td>\n",
       "      <td>0.9699</td>\n",
       "      <td>...</td>\n",
       "      <td>0.634475</td>\n",
       "      <td>0.183400</td>\n",
       "      <td>0.119652</td>\n",
       "      <td>0.062472</td>\n",
       "      <td>-3.606575e-14</td>\n",
       "      <td>-1.042508e-14</td>\n",
       "      <td>-6.801455e-15</td>\n",
       "      <td>-3.551137e-15</td>\n",
       "      <td>NaN</td>\n",
       "      <td>NaN</td>\n",
       "    </tr>\n",
       "    <tr>\n",
       "      <th>2</th>\n",
       "      <td>000008</td>\n",
       "      <td>0.000000e+00</td>\n",
       "      <td>Yihan Hao</td>\n",
       "      <td>China &gt; PTO</td>\n",
       "      <td>PROJECT_PLAN_TASK-3-5724</td>\n",
       "      <td>CH - Admin</td>\n",
       "      <td>China</td>\n",
       "      <td>0.0</td>\n",
       "      <td>PTO Time for UnderUtilized</td>\n",
       "      <td>0.860507</td>\n",
       "      <td>...</td>\n",
       "      <td>0.659526</td>\n",
       "      <td>0.127015</td>\n",
       "      <td>0.082866</td>\n",
       "      <td>0.130594</td>\n",
       "      <td>0.000000e+00</td>\n",
       "      <td>0.000000e+00</td>\n",
       "      <td>0.000000e+00</td>\n",
       "      <td>0.000000e+00</td>\n",
       "      <td>NaN</td>\n",
       "      <td>NaN</td>\n",
       "    </tr>\n",
       "    <tr>\n",
       "      <th>3</th>\n",
       "      <td>000016</td>\n",
       "      <td>1.085440e+03</td>\n",
       "      <td>Qian Sun</td>\n",
       "      <td>China &gt; PTO</td>\n",
       "      <td>PROJECT_PLAN_TASK-3-5724</td>\n",
       "      <td>CH - Admin</td>\n",
       "      <td>China</td>\n",
       "      <td>0.0</td>\n",
       "      <td>PTO Time for UnderUtilized</td>\n",
       "      <td>0.900621</td>\n",
       "      <td>...</td>\n",
       "      <td>0.568618</td>\n",
       "      <td>0.244257</td>\n",
       "      <td>0.159356</td>\n",
       "      <td>0.027769</td>\n",
       "      <td>6.172005e+02</td>\n",
       "      <td>2.651261e+02</td>\n",
       "      <td>1.729717e+02</td>\n",
       "      <td>3.014166e+01</td>\n",
       "      <td>NaN</td>\n",
       "      <td>NaN</td>\n",
       "    </tr>\n",
       "    <tr>\n",
       "      <th>4</th>\n",
       "      <td>000127</td>\n",
       "      <td>6.425470e+03</td>\n",
       "      <td>Jeannene Cruise Woolley | Frances Woolley</td>\n",
       "      <td>Accounting &gt; PTO</td>\n",
       "      <td>PROJECT_PLAN_TASK-3-5772</td>\n",
       "      <td>ACT - Accounting</td>\n",
       "      <td>Org Finance</td>\n",
       "      <td>0.0</td>\n",
       "      <td>PTO Time for UnderUtilized</td>\n",
       "      <td>0</td>\n",
       "      <td>...</td>\n",
       "      <td>0.676511</td>\n",
       "      <td>0.169802</td>\n",
       "      <td>0.086035</td>\n",
       "      <td>0.067651</td>\n",
       "      <td>4.346903e+03</td>\n",
       "      <td>1.091059e+03</td>\n",
       "      <td>5.528184e+02</td>\n",
       "      <td>4.346900e+02</td>\n",
       "      <td>NaN</td>\n",
       "      <td>NaN</td>\n",
       "    </tr>\n",
       "  </tbody>\n",
       "</table>\n",
       "<p>5 rows × 43 columns</p>\n",
       "</div>"
      ],
      "text/plain": [
       "  Employee ID    Total Cost                                     Worker  \\\n",
       "0      000004  2.273737e-13                         Li Ma | Cynthia Ma   \n",
       "1      000007 -5.684342e-14                       Dan Li | Danielle Li   \n",
       "2      000008  0.000000e+00                                  Yihan Hao   \n",
       "3      000016  1.085440e+03                                   Qian Sun   \n",
       "4      000127  6.425470e+03  Jeannene Cruise Woolley | Frances Woolley   \n",
       "\n",
       "  Project Plan Task      Project Plan Task ID        Initiative  Cost Center  \\\n",
       "0       China > PTO  PROJECT_PLAN_TASK-3-5724        CH - Admin        China   \n",
       "1       China > PTO  PROJECT_PLAN_TASK-3-5724        CH - Admin        China   \n",
       "2       China > PTO  PROJECT_PLAN_TASK-3-5724        CH - Admin        China   \n",
       "3       China > PTO  PROJECT_PLAN_TASK-3-5724        CH - Admin        China   \n",
       "4  Accounting > PTO  PROJECT_PLAN_TASK-3-5772  ACT - Accounting  Org Finance   \n",
       "\n",
       "   ConsultingFeesCosted                        Type Project Hours Percentage  \\\n",
       "0                   0.0  PTO Time for UnderUtilized                  0.90301   \n",
       "1                   0.0  PTO Time for UnderUtilized                   0.9699   \n",
       "2                   0.0  PTO Time for UnderUtilized                 0.860507   \n",
       "3                   0.0  PTO Time for UnderUtilized                 0.900621   \n",
       "4                   0.0  PTO Time for UnderUtilized                        0   \n",
       "\n",
       "   ...  SalaryPercentage BenefitsPercentage SharedPercentage BonusPercentage  \\\n",
       "0  ...          0.638506           0.180707         0.117896        0.062891   \n",
       "1  ...          0.634475           0.183400         0.119652        0.062472   \n",
       "2  ...          0.659526           0.127015         0.082866        0.130594   \n",
       "3  ...          0.568618           0.244257         0.159356        0.027769   \n",
       "4  ...          0.676511           0.169802         0.086035        0.067651   \n",
       "\n",
       "   SalaryCosted BenefitsCosted  SharedCosted   BonusCosted  TaskDrawdowns  \\\n",
       "0  1.451795e-13   4.108808e-14  2.680639e-14  1.429973e-14            NaN   \n",
       "1 -3.606575e-14  -1.042508e-14 -6.801455e-15 -3.551137e-15            NaN   \n",
       "2  0.000000e+00   0.000000e+00  0.000000e+00  0.000000e+00            NaN   \n",
       "3  6.172005e+02   2.651261e+02  1.729717e+02  3.014166e+01            NaN   \n",
       "4  4.346903e+03   1.091059e+03  5.528184e+02  4.346900e+02            NaN   \n",
       "\n",
       "   PTO more than Admint  \n",
       "0                   NaN  \n",
       "1                   NaN  \n",
       "2                   NaN  \n",
       "3                   NaN  \n",
       "4                   NaN  \n",
       "\n",
       "[5 rows x 43 columns]"
      ]
     },
     "execution_count": 666,
     "metadata": {},
     "output_type": "execute_result"
    }
   ],
   "source": [
    "AllCostsAllocatedPTOAccruals.head()"
   ]
  },
  {
   "cell_type": "markdown",
   "id": "6c0347ee",
   "metadata": {},
   "source": [
    "## Create Benefits Output File"
   ]
  },
  {
   "cell_type": "code",
   "execution_count": 667,
   "id": "48f4d5db",
   "metadata": {},
   "outputs": [],
   "source": [
    "BenefitsLoadTemplate = './Source_Files/Workday_Accounting_Journal_Benefits Allocation_Template.xlsx'"
   ]
  },
  {
   "cell_type": "code",
   "execution_count": 668,
   "id": "1d5ee73f",
   "metadata": {},
   "outputs": [
    {
     "name": "stderr",
     "output_type": "stream",
     "text": [
      "C:\\Users\\Jwendt\\AppData\\Local\\anaconda3\\envs\\new_env_name\\lib\\site-packages\\pandas\\core\\series.py:4530: SettingWithCopyWarning: \n",
      "A value is trying to be set on a copy of a slice from a DataFrame\n",
      "\n",
      "See the caveats in the documentation: https://pandas.pydata.org/pandas-docs/stable/user_guide/indexing.html#returning-a-view-versus-a-copy\n",
      "  return super().fillna(\n"
     ]
    }
   ],
   "source": [
    "BenefitsHoldingDF = TransDetailBeijingDF[TransDetailBeijingDF['Ledger Account']==\"5100:Employee Benefits\"]\n",
    "BenefitsHoldingDF1 = BenefitsHoldingDF[(BenefitsHoldingDF['Cost Center']=='China') | (BenefitsHoldingDF['Cost Center']=='Institute General') | (BenefitsHoldingDF['Cost Center']=='People Team')]\n",
    "BenefitsHoldingDF1['Location'].fillna('NONE', inplace=True)"
   ]
  },
  {
   "cell_type": "code",
   "execution_count": 669,
   "id": "231c54f8",
   "metadata": {},
   "outputs": [],
   "source": [
    "BenefitsHoldingDFFINAL = BenefitsHoldingDF1.groupby(['Cost Center', 'Initiative', 'Location', 'Project Plan Task ID'])['Net Amount'].sum().reset_index(name='Net Amount')"
   ]
  },
  {
   "cell_type": "code",
   "execution_count": 670,
   "id": "f4e9d3c6",
   "metadata": {},
   "outputs": [
    {
     "data": {
      "text/html": [
       "<div>\n",
       "<style scoped>\n",
       "    .dataframe tbody tr th:only-of-type {\n",
       "        vertical-align: middle;\n",
       "    }\n",
       "\n",
       "    .dataframe tbody tr th {\n",
       "        vertical-align: top;\n",
       "    }\n",
       "\n",
       "    .dataframe thead th {\n",
       "        text-align: right;\n",
       "    }\n",
       "</style>\n",
       "<table border=\"1\" class=\"dataframe\">\n",
       "  <thead>\n",
       "    <tr style=\"text-align: right;\">\n",
       "      <th></th>\n",
       "      <th>Cost Center</th>\n",
       "      <th>Initiative</th>\n",
       "      <th>Location</th>\n",
       "      <th>Project Plan Task ID</th>\n",
       "      <th>Net Amount</th>\n",
       "    </tr>\n",
       "  </thead>\n",
       "  <tbody>\n",
       "    <tr>\n",
       "      <th>0</th>\n",
       "      <td>China</td>\n",
       "      <td>CH - Admin</td>\n",
       "      <td>Beijing</td>\n",
       "      <td>PROJECT_PLAN_TASK-3-2325</td>\n",
       "      <td>17096.52</td>\n",
       "    </tr>\n",
       "    <tr>\n",
       "      <th>1</th>\n",
       "      <td>China</td>\n",
       "      <td>CH - Admin</td>\n",
       "      <td>Beijing</td>\n",
       "      <td>PROJECT_PLAN_TASK-3-2332</td>\n",
       "      <td>4230.21</td>\n",
       "    </tr>\n",
       "    <tr>\n",
       "      <th>2</th>\n",
       "      <td>China</td>\n",
       "      <td>CH - Admin</td>\n",
       "      <td>Beijing</td>\n",
       "      <td>PROJECT_PLAN_TASK-3-4027</td>\n",
       "      <td>64322.52</td>\n",
       "    </tr>\n",
       "    <tr>\n",
       "      <th>3</th>\n",
       "      <td>Institute General</td>\n",
       "      <td>GEN - General Admin</td>\n",
       "      <td>NONE</td>\n",
       "      <td>PROJECT_PLAN_TASK-3-5189</td>\n",
       "      <td>19735.89</td>\n",
       "    </tr>\n",
       "    <tr>\n",
       "      <th>4</th>\n",
       "      <td>Institute General</td>\n",
       "      <td>GEN - General Admin</td>\n",
       "      <td>NONE</td>\n",
       "      <td>PROJECT_PLAN_TASK-3-5845</td>\n",
       "      <td>1523.79</td>\n",
       "    </tr>\n",
       "    <tr>\n",
       "      <th>5</th>\n",
       "      <td>Institute General</td>\n",
       "      <td>GEN - General Admin</td>\n",
       "      <td>NONE</td>\n",
       "      <td>PROJECT_PLAN_TASK-3-5847</td>\n",
       "      <td>7282.30</td>\n",
       "    </tr>\n",
       "    <tr>\n",
       "      <th>6</th>\n",
       "      <td>Institute General</td>\n",
       "      <td>GEN - General Admin</td>\n",
       "      <td>NONE</td>\n",
       "      <td>PROJECT_PLAN_TASK-3-5848</td>\n",
       "      <td>2520.20</td>\n",
       "    </tr>\n",
       "    <tr>\n",
       "      <th>7</th>\n",
       "      <td>Institute General</td>\n",
       "      <td>GEN - General Admin</td>\n",
       "      <td>NONE</td>\n",
       "      <td>PROJECT_PLAN_TASK-3-5849</td>\n",
       "      <td>1780.99</td>\n",
       "    </tr>\n",
       "    <tr>\n",
       "      <th>8</th>\n",
       "      <td>Institute General</td>\n",
       "      <td>GEN - General Admin</td>\n",
       "      <td>NONE</td>\n",
       "      <td>PROJECT_PLAN_TASK-3-5850</td>\n",
       "      <td>1258.88</td>\n",
       "    </tr>\n",
       "    <tr>\n",
       "      <th>9</th>\n",
       "      <td>Institute General</td>\n",
       "      <td>GEN - General Admin</td>\n",
       "      <td>NONE</td>\n",
       "      <td>PROJECT_PLAN_TASK-3-5852</td>\n",
       "      <td>177.19</td>\n",
       "    </tr>\n",
       "    <tr>\n",
       "      <th>10</th>\n",
       "      <td>Institute General</td>\n",
       "      <td>GEN - General Admin</td>\n",
       "      <td>NONE</td>\n",
       "      <td>PROJECT_PLAN_TASK-3-5853</td>\n",
       "      <td>829516.22</td>\n",
       "    </tr>\n",
       "    <tr>\n",
       "      <th>11</th>\n",
       "      <td>Institute General</td>\n",
       "      <td>GEN - General Admin</td>\n",
       "      <td>NONE</td>\n",
       "      <td>PROJECT_PLAN_TASK-3-5855</td>\n",
       "      <td>277272.45</td>\n",
       "    </tr>\n",
       "    <tr>\n",
       "      <th>12</th>\n",
       "      <td>Institute General</td>\n",
       "      <td>HRS - People Team</td>\n",
       "      <td>NONE</td>\n",
       "      <td>PROJECT_PLAN_TASK-3-3262</td>\n",
       "      <td>0.00</td>\n",
       "    </tr>\n",
       "    <tr>\n",
       "      <th>13</th>\n",
       "      <td>Institute General</td>\n",
       "      <td>HRS - People Team</td>\n",
       "      <td>NONE</td>\n",
       "      <td>PROJECT_PLAN_TASK-3-5393</td>\n",
       "      <td>0.00</td>\n",
       "    </tr>\n",
       "    <tr>\n",
       "      <th>14</th>\n",
       "      <td>People Team</td>\n",
       "      <td>HRS - People Team</td>\n",
       "      <td>Beijing</td>\n",
       "      <td>PROJECT_PLAN_TASK-3-7280</td>\n",
       "      <td>2389.47</td>\n",
       "    </tr>\n",
       "    <tr>\n",
       "      <th>15</th>\n",
       "      <td>People Team</td>\n",
       "      <td>HRS - People Team</td>\n",
       "      <td>NONE</td>\n",
       "      <td>PROJECT_PLAN_TASK-3-3262</td>\n",
       "      <td>33008.33</td>\n",
       "    </tr>\n",
       "    <tr>\n",
       "      <th>16</th>\n",
       "      <td>People Team</td>\n",
       "      <td>HRS - People Team</td>\n",
       "      <td>NONE</td>\n",
       "      <td>PROJECT_PLAN_TASK-3-3280</td>\n",
       "      <td>4170.84</td>\n",
       "    </tr>\n",
       "    <tr>\n",
       "      <th>17</th>\n",
       "      <td>People Team</td>\n",
       "      <td>HRS - People Team</td>\n",
       "      <td>NONE</td>\n",
       "      <td>PROJECT_PLAN_TASK-3-3282</td>\n",
       "      <td>76.81</td>\n",
       "    </tr>\n",
       "    <tr>\n",
       "      <th>18</th>\n",
       "      <td>People Team</td>\n",
       "      <td>HRS - People Team</td>\n",
       "      <td>NONE</td>\n",
       "      <td>PROJECT_PLAN_TASK-3-4554</td>\n",
       "      <td>1731.49</td>\n",
       "    </tr>\n",
       "    <tr>\n",
       "      <th>19</th>\n",
       "      <td>People Team</td>\n",
       "      <td>HRS - People Team</td>\n",
       "      <td>NONE</td>\n",
       "      <td>PROJECT_PLAN_TASK-3-5374</td>\n",
       "      <td>1035.00</td>\n",
       "    </tr>\n",
       "    <tr>\n",
       "      <th>20</th>\n",
       "      <td>People Team</td>\n",
       "      <td>HRS - People Team</td>\n",
       "      <td>NONE</td>\n",
       "      <td>PROJECT_PLAN_TASK-3-5393</td>\n",
       "      <td>14026.90</td>\n",
       "    </tr>\n",
       "    <tr>\n",
       "      <th>21</th>\n",
       "      <td>People Team</td>\n",
       "      <td>HRS - People Team</td>\n",
       "      <td>NONE</td>\n",
       "      <td>PROJECT_PLAN_TASK-3-6212</td>\n",
       "      <td>1260.00</td>\n",
       "    </tr>\n",
       "    <tr>\n",
       "      <th>22</th>\n",
       "      <td>People Team</td>\n",
       "      <td>HRS - People Team</td>\n",
       "      <td>NONE</td>\n",
       "      <td>PROJECT_PLAN_TASK-3-7280</td>\n",
       "      <td>16384.38</td>\n",
       "    </tr>\n",
       "    <tr>\n",
       "      <th>23</th>\n",
       "      <td>People Team</td>\n",
       "      <td>HRS - People Team</td>\n",
       "      <td>NONE</td>\n",
       "      <td>PROJECT_PLAN_TASK-3-7947</td>\n",
       "      <td>1895.08</td>\n",
       "    </tr>\n",
       "  </tbody>\n",
       "</table>\n",
       "</div>"
      ],
      "text/plain": [
       "          Cost Center           Initiative Location      Project Plan Task ID  \\\n",
       "0               China           CH - Admin  Beijing  PROJECT_PLAN_TASK-3-2325   \n",
       "1               China           CH - Admin  Beijing  PROJECT_PLAN_TASK-3-2332   \n",
       "2               China           CH - Admin  Beijing  PROJECT_PLAN_TASK-3-4027   \n",
       "3   Institute General  GEN - General Admin     NONE  PROJECT_PLAN_TASK-3-5189   \n",
       "4   Institute General  GEN - General Admin     NONE  PROJECT_PLAN_TASK-3-5845   \n",
       "5   Institute General  GEN - General Admin     NONE  PROJECT_PLAN_TASK-3-5847   \n",
       "6   Institute General  GEN - General Admin     NONE  PROJECT_PLAN_TASK-3-5848   \n",
       "7   Institute General  GEN - General Admin     NONE  PROJECT_PLAN_TASK-3-5849   \n",
       "8   Institute General  GEN - General Admin     NONE  PROJECT_PLAN_TASK-3-5850   \n",
       "9   Institute General  GEN - General Admin     NONE  PROJECT_PLAN_TASK-3-5852   \n",
       "10  Institute General  GEN - General Admin     NONE  PROJECT_PLAN_TASK-3-5853   \n",
       "11  Institute General  GEN - General Admin     NONE  PROJECT_PLAN_TASK-3-5855   \n",
       "12  Institute General    HRS - People Team     NONE  PROJECT_PLAN_TASK-3-3262   \n",
       "13  Institute General    HRS - People Team     NONE  PROJECT_PLAN_TASK-3-5393   \n",
       "14        People Team    HRS - People Team  Beijing  PROJECT_PLAN_TASK-3-7280   \n",
       "15        People Team    HRS - People Team     NONE  PROJECT_PLAN_TASK-3-3262   \n",
       "16        People Team    HRS - People Team     NONE  PROJECT_PLAN_TASK-3-3280   \n",
       "17        People Team    HRS - People Team     NONE  PROJECT_PLAN_TASK-3-3282   \n",
       "18        People Team    HRS - People Team     NONE  PROJECT_PLAN_TASK-3-4554   \n",
       "19        People Team    HRS - People Team     NONE  PROJECT_PLAN_TASK-3-5374   \n",
       "20        People Team    HRS - People Team     NONE  PROJECT_PLAN_TASK-3-5393   \n",
       "21        People Team    HRS - People Team     NONE  PROJECT_PLAN_TASK-3-6212   \n",
       "22        People Team    HRS - People Team     NONE  PROJECT_PLAN_TASK-3-7280   \n",
       "23        People Team    HRS - People Team     NONE  PROJECT_PLAN_TASK-3-7947   \n",
       "\n",
       "    Net Amount  \n",
       "0     17096.52  \n",
       "1      4230.21  \n",
       "2     64322.52  \n",
       "3     19735.89  \n",
       "4      1523.79  \n",
       "5      7282.30  \n",
       "6      2520.20  \n",
       "7      1780.99  \n",
       "8      1258.88  \n",
       "9       177.19  \n",
       "10   829516.22  \n",
       "11   277272.45  \n",
       "12        0.00  \n",
       "13        0.00  \n",
       "14     2389.47  \n",
       "15    33008.33  \n",
       "16     4170.84  \n",
       "17       76.81  \n",
       "18     1731.49  \n",
       "19     1035.00  \n",
       "20    14026.90  \n",
       "21     1260.00  \n",
       "22    16384.38  \n",
       "23     1895.08  "
      ]
     },
     "execution_count": 670,
     "metadata": {},
     "output_type": "execute_result"
    }
   ],
   "source": [
    "BenefitsHoldingDFFINAL"
   ]
  },
  {
   "cell_type": "code",
   "execution_count": 671,
   "id": "527114cd",
   "metadata": {},
   "outputs": [
    {
     "data": {
      "text/plain": [
       "1302695.4600000002"
      ]
     },
     "execution_count": 671,
     "metadata": {},
     "output_type": "execute_result"
    }
   ],
   "source": [
    "BenefitsHoldingDF1['Net Amount'].sum()"
   ]
  },
  {
   "cell_type": "code",
   "execution_count": 672,
   "id": "bd73bd03",
   "metadata": {},
   "outputs": [],
   "source": [
    "BenefitsCreditsDF = TransDetailBeijingDF[TransDetailBeijingDF['Ledger Account']==\"5100:Employee Benefits\"]\n",
    "BenefitsCreditsDF1 = BenefitsCreditsDF[BenefitsCreditsDF['Cost Center']=='']\n"
   ]
  },
  {
   "cell_type": "code",
   "execution_count": 673,
   "id": "f8f958e0",
   "metadata": {},
   "outputs": [
    {
     "name": "stderr",
     "output_type": "stream",
     "text": [
      "C:\\Users\\Jwendt\\AppData\\Local\\Temp\\ipykernel_1740\\1006232518.py:1: SettingWithCopyWarning: \n",
      "A value is trying to be set on a copy of a slice from a DataFrame.\n",
      "Try using .loc[row_indexer,col_indexer] = value instead\n",
      "\n",
      "See the caveats in the documentation: https://pandas.pydata.org/pandas-docs/stable/user_guide/indexing.html#returning-a-view-versus-a-copy\n",
      "  BenefitsHoldingDF[\"Cost Center Null\"] = BenefitsHoldingDF['Cost Center'].isnull()\n"
     ]
    }
   ],
   "source": [
    "BenefitsHoldingDF[\"Cost Center Null\"] = BenefitsHoldingDF['Cost Center'].isnull()\n",
    "BenefitsHoldingDFblank = BenefitsHoldingDF[BenefitsHoldingDF[\"Cost Center Null\"]==True]\n",
    "BenefitsBlankTotal = BenefitsHoldingDFblank['Net Amount'].sum()"
   ]
  },
  {
   "cell_type": "code",
   "execution_count": 674,
   "id": "672b1adc",
   "metadata": {},
   "outputs": [],
   "source": [
    "def createImportAccountingJournalBenefits(file):\n",
    "    book = load_workbook(file)\n",
    "    sheet = book[\"Import Accounting Journal\"] #active means last opened sheet\n",
    "    sheet['N6'] = TemplateDate1\n",
    "    #ws.cell(row=2, column=2).value = 2\n",
    "    sheet['T6'] = MonthTemplateName + \" \" + str(yeartemplate) + \" Benefits Allocation\"\n",
    "    sheet2 = book[\"Journal Entry Line Replacement\"]\n",
    "#    for i in range(1,len(AllCostsAllocated[[\"SalaryCosted\"]])):\n",
    "    rowstart = 6\n",
    "\n",
    "    for i in range(0,len(SalaryDatatoCopy)+len(BenefitsHoldingDFFINAL)+1):\n",
    "        for j in range(2,3):\n",
    "            sheet2.cell(row=i+rowstart, column=j).value =  1\n",
    "    for i in range(0,len(SalaryDatatoCopy)+len(BenefitsHoldingDFFINAL)+1):\n",
    "        for j in range(3,4):\n",
    "            sheet2.cell(row=i+rowstart, column=j).value =  i+1\n",
    "    for i in range(0,len(SalaryDatatoCopy)+len(BenefitsHoldingDFFINAL)+1):\n",
    "        for j in range(6,7):\n",
    "            sheet2.cell(row=i+rowstart, column=j).value =  5100\n",
    "    for i in range(0,len(SalaryDatatoCopy)+len(BenefitsHoldingDFFINAL)+1):\n",
    "        for j in range(7,8):\n",
    "            sheet2.cell(row=i+rowstart, column=j).value =  \"AS_Standard_Child\"\n",
    "    for i in range(0,len(SalaryDatatoCopy)):\n",
    "        for j in range(8,9):\n",
    "            sheet2.cell(row=i+rowstart, column=j).value =  SalaryDatatoCopy.iloc[i][\"BenefitsCosted\"]\n",
    "    for i in range(0,len(SalaryDatatoCopy)+len(BenefitsHoldingDFFINAL)+1):\n",
    "        for j in range(18,19):\n",
    "            sheet2.cell(row=i+rowstart, column=j).value =  MonthTemplateName + \" \" + str(yeartemplate) + \" Benefits Allocation\"\n",
    "    for i in range(0,len(SalaryDatatoCopy)+len(BenefitsHoldingDFFINAL)+1):\n",
    "        for j in range(21,22):\n",
    "            sheet2.cell(row=i+rowstart, column=j).value =  \"Benefit Clearing Account\"\n",
    "    for i in range(0,len(SalaryDatatoCopy)):\n",
    "        for j in range(25,26):\n",
    "            sheet2.cell(row=i+rowstart, column=j).value =  SalaryDatatoCopy.iloc[i][\"Project Plan Task ID\"]\n",
    "    for i in range(0,len(SalaryDatatoCopy)):\n",
    "        for j in range(29,30):\n",
    "            sheet2.cell(row=i+rowstart, column=j).value =  SalaryDatatoCopy.iloc[i][\"Initiative\"]\n",
    "    for i in range(0,len(SalaryDatatoCopy)):\n",
    "        for j in range(31,32):\n",
    "            sheet2.cell(row=i+rowstart, column=j).value =  SalaryDatatoCopy.iloc[i][\"Cost Center\"]\n",
    "    for i in range(0,len(SalaryDatatoCopy)+len(BenefitsHoldingDFFINAL)+1):\n",
    "        for j in range(33,34):\n",
    "            sheet2.cell(row=i+rowstart, column=j).value =  \"Unrestricted\"\n",
    "    for i in range(0,len(SalaryDatatoCopy)):\n",
    "        for j in range(41,42):\n",
    "            if SalaryDatatoCopy.iloc[i][\"Location\"] != \"Beijing\":\n",
    "                pass\n",
    "            else:\n",
    "                sheet2.cell(row=i+rowstart, column=j).value =  SalaryDatatoCopy.iloc[i][\"Location\"]\n",
    "    for i in range(0,len(SalaryDatatoCopy)):\n",
    "        for j in range(43,44):\n",
    "            sheet2.cell(row=i+rowstart, column=j).value =  SalaryDatatoCopy.iloc[i][\"Employee ID\"]\n",
    "    for i in range(0,len(SalaryDatatoCopy)):\n",
    "        for j in range(47,48):\n",
    "            if SalaryDatatoCopy.iloc[i][\"Lobbying\"] == \"None\":\n",
    "                pass\n",
    "            else:\n",
    "                sheet2.cell(row=i+rowstart, column=j).value =  SalaryDatatoCopy.iloc[i][\"Lobbying\"]            \n",
    "\n",
    "    for i in range(0,len(SalaryDatatoCopy)):\n",
    "        for j in range(49,50):\n",
    "            if SalaryDatatoCopy.iloc[i][\"Lobbying Location\"] == \"None\":\n",
    "                pass\n",
    "            else:\n",
    "                sheet2.cell(row=i+rowstart, column=j).value =  SalaryDatatoCopy.iloc[i][\"Lobbying Location\"]\n",
    "# Copy Benefits Holding Accounts below here:\n",
    "    sheet2.cell(row=len(SalaryDatatoCopy)+rowstart, column=9).value = BenefitsBlankTotal                \n",
    "\n",
    "    \n",
    "# Copy Other Holding Accounts below here:\n",
    "    for i in range(0,len(BenefitsHoldingDFFINAL)):\n",
    "        for j in range(9,10):\n",
    "            sheet2.cell(row=len(SalaryDatatoCopy)+rowstart+1+i, column=j).value =  BenefitsHoldingDFFINAL.iloc[i][\"Net Amount\"]             \n",
    "    for i in range(0,len(BenefitsHoldingDFFINAL)):\n",
    "        for j in range(25,26):\n",
    "            sheet2.cell(row=len(SalaryDatatoCopy)+rowstart+1+i, column=j).value =  BenefitsHoldingDFFINAL.iloc[i][\"Project Plan Task ID\"]  \n",
    "    for i in range(0,len(BenefitsHoldingDFFINAL)):\n",
    "        for j in range(29,30):\n",
    "            sheet2.cell(row=len(SalaryDatatoCopy)+rowstart+1+i, column=j).value =  BenefitsHoldingDFFINAL.iloc[i][\"Initiative\"]  \n",
    "    for i in range(0,len(BenefitsHoldingDFFINAL)):\n",
    "        for j in range(31,32):\n",
    "            sheet2.cell(row=len(SalaryDatatoCopy)+rowstart+1+i, column=j).value =  BenefitsHoldingDFFINAL.iloc[i][\"Cost Center\"]  \n",
    "    for i in range(0,len(BenefitsHoldingDFFINAL)):\n",
    "        for j in range(41,42):\n",
    "            if BenefitsHoldingDFFINAL.iloc[i][\"Location\"] == \"NONE\":\n",
    "                pass\n",
    "            else:\n",
    "                sheet2.cell(row=len(SalaryDatatoCopy)+rowstart+1+i, column=j).value = BenefitsHoldingDFFINAL.iloc[i][\"Location\"]  \n",
    "            \n",
    "\n",
    "    book.save('./Outputs/Workday_Accounting_Journal_Benefits Allocation'+Type+timestampreport+'.xlsx')"
   ]
  },
  {
   "cell_type": "code",
   "execution_count": 675,
   "id": "64f31d1a",
   "metadata": {},
   "outputs": [],
   "source": [
    "createImportAccountingJournalBenefits(BenefitsLoadTemplate)"
   ]
  },
  {
   "cell_type": "markdown",
   "id": "74e3373f",
   "metadata": {},
   "source": [
    "# Create Shared Output file"
   ]
  },
  {
   "cell_type": "code",
   "execution_count": 676,
   "id": "fc16de22",
   "metadata": {},
   "outputs": [],
   "source": [
    "SharedLoadTemplate = './Source_Files/Workday_Accounting_Journal_Shared Costs Allocation_Template.xlsx'"
   ]
  },
  {
   "cell_type": "code",
   "execution_count": 677,
   "id": "f2c8a719",
   "metadata": {},
   "outputs": [
    {
     "name": "stderr",
     "output_type": "stream",
     "text": [
      "C:\\Users\\Jwendt\\AppData\\Local\\anaconda3\\envs\\new_env_name\\lib\\site-packages\\pandas\\core\\series.py:4530: SettingWithCopyWarning: \n",
      "A value is trying to be set on a copy of a slice from a DataFrame\n",
      "\n",
      "See the caveats in the documentation: https://pandas.pydata.org/pandas-docs/stable/user_guide/indexing.html#returning-a-view-versus-a-copy\n",
      "  return super().fillna(\n",
      "C:\\Users\\Jwendt\\AppData\\Local\\Temp\\ipykernel_1740\\582940983.py:8: SettingWithCopyWarning: \n",
      "A value is trying to be set on a copy of a slice from a DataFrame.\n",
      "Try using .loc[row_indexer,col_indexer] = value instead\n",
      "\n",
      "See the caveats in the documentation: https://pandas.pydata.org/pandas-docs/stable/user_guide/indexing.html#returning-a-view-versus-a-copy\n",
      "  SharedHoldingDF1['Location'] = SharedHoldingDF1['Location'].map(replacements).fillna(SharedHoldingDF1['Location'])\n"
     ]
    }
   ],
   "source": [
    "SharedHoldingDF = TransDetailBeijingDF[(TransDetailBeijingDF['Ledger Account']==\"7100:Depreciation Expenses\") | (TransDetailBeijingDF['Ledger Account']==\"8100:Shared Costs\")]\n",
    "SharedHoldingDF1 = SharedHoldingDF[(SharedHoldingDF['Initiative']=='CH - Admin') | (SharedHoldingDF['Initiative']=='GEN - General Admin')]\n",
    "SharedHoldingDF1['Location'].fillna('NONE', inplace=True)\n",
    "\n",
    "replacements = {'Boulder': 'NONE', 'Washington DC': 'NONE', 'New York': 'NONE', 'Oakland': 'NONE'}\n",
    "\n",
    "\n",
    "SharedHoldingDF1['Location'] = SharedHoldingDF1['Location'].map(replacements).fillna(SharedHoldingDF1['Location'])"
   ]
  },
  {
   "cell_type": "code",
   "execution_count": 678,
   "id": "54f4a50b",
   "metadata": {},
   "outputs": [],
   "source": [
    "SharedHoldingDFFINAL = SharedHoldingDF1.groupby(['Cost Center', 'Initiative', 'Location', 'Project Plan Task ID'])['Net Amount'].sum().reset_index(name='Net Amount')"
   ]
  },
  {
   "cell_type": "code",
   "execution_count": 679,
   "id": "d75178c2",
   "metadata": {},
   "outputs": [],
   "source": [
    "SharedHoldingDFFINAL = SharedHoldingDFFINAL.drop(SharedHoldingDFFINAL[SharedHoldingDFFINAL['Net Amount'] < 0.1].index)"
   ]
  },
  {
   "cell_type": "code",
   "execution_count": 680,
   "id": "0018d2dc",
   "metadata": {},
   "outputs": [
    {
     "data": {
      "text/plain": [
       "874208.03"
      ]
     },
     "execution_count": 680,
     "metadata": {},
     "output_type": "execute_result"
    }
   ],
   "source": [
    "SharedHoldingDF['Net Amount'].sum()"
   ]
  },
  {
   "cell_type": "code",
   "execution_count": 681,
   "id": "f71a3f2a",
   "metadata": {},
   "outputs": [],
   "source": [
    "def createImportAccountingJournalShared(file):\n",
    "    book = load_workbook(file)\n",
    "    sheet = book[\"Import Accounting Journal\"] #active means last opened sheet\n",
    "    sheet['N6'] = TemplateDate1\n",
    "    #ws.cell(row=2, column=2).value = 2\n",
    "    sheet['T6'] = MonthTemplateName + \" \" + str(yeartemplate) + \" Shared Costs Allocation\"\n",
    "    sheet2 = book[\"Journal Entry Line Replacement\"]\n",
    "#    for i in range(1,len(AllCostsAllocated[[\"SalaryCosted\"]])):\n",
    "    rowstart = 6\n",
    "\n",
    "    for i in range(0,len(SalaryDatatoCopy)+len(SharedHoldingDFFINAL)):\n",
    "        for j in range(2,3):\n",
    "            sheet2.cell(row=i+rowstart, column=j).value =  1\n",
    "    for i in range(0,len(SalaryDatatoCopy)+len(SharedHoldingDFFINAL)):\n",
    "        for j in range(3,4):\n",
    "            sheet2.cell(row=i+rowstart, column=j).value =  i+1\n",
    "    for i in range(0,len(SalaryDatatoCopy)+len(SharedHoldingDFFINAL)):\n",
    "        for j in range(6,7):\n",
    "            sheet2.cell(row=i+rowstart, column=j).value =  8100\n",
    "    for i in range(0,len(SalaryDatatoCopy)+len(SharedHoldingDFFINAL)):\n",
    "        for j in range(7,8):\n",
    "            sheet2.cell(row=i+rowstart, column=j).value =  \"AS_Standard_Child\"\n",
    "    for i in range(0,len(SalaryDatatoCopy)):\n",
    "        for j in range(8,9):\n",
    "            sheet2.cell(row=i+rowstart, column=j).value =  SalaryDatatoCopy.iloc[i][\"SharedCosted\"]\n",
    "    for i in range(0,len(SalaryDatatoCopy)+len(SharedHoldingDFFINAL)):\n",
    "        for j in range(18,19):\n",
    "            sheet2.cell(row=i+rowstart, column=j).value =  MonthTemplateName + \" \" + str(yeartemplate) + \" Shared Costs Allocation\"\n",
    "    for i in range(0,len(SalaryDatatoCopy)+len(SharedHoldingDFFINAL)):\n",
    "        for j in range(21,22):\n",
    "            sheet2.cell(row=i+rowstart, column=j).value =  \"Shared Costs Clearing Account\"\n",
    "    for i in range(0,len(SalaryDatatoCopy)):\n",
    "        for j in range(25,26):\n",
    "            sheet2.cell(row=i+rowstart, column=j).value =  SalaryDatatoCopy.iloc[i][\"Project Plan Task ID\"]\n",
    "    for i in range(0,len(SalaryDatatoCopy)):\n",
    "        for j in range(29,30):\n",
    "            sheet2.cell(row=i+rowstart, column=j).value =  SalaryDatatoCopy.iloc[i][\"Initiative\"]\n",
    "    for i in range(0,len(SalaryDatatoCopy)):\n",
    "        for j in range(31,32):\n",
    "            sheet2.cell(row=i+rowstart, column=j).value =  SalaryDatatoCopy.iloc[i][\"Cost Center\"]\n",
    "    for i in range(0,len(SalaryDatatoCopy)+len(SharedHoldingDFFINAL)):\n",
    "        for j in range(33,34):\n",
    "            sheet2.cell(row=i+rowstart, column=j).value =  \"Unrestricted\"\n",
    "    for i in range(0,len(SalaryDatatoCopy)):\n",
    "        for j in range(41,42):\n",
    "            if SalaryDatatoCopy.iloc[i][\"Location\"] != \"Beijing\":\n",
    "                pass\n",
    "            else:\n",
    "                sheet2.cell(row=i+rowstart, column=j).value =  SalaryDatatoCopy.iloc[i][\"Location\"]\n",
    "    for i in range(0,len(SalaryDatatoCopy)):\n",
    "        for j in range(43,44):\n",
    "            sheet2.cell(row=i+rowstart, column=j).value =  SalaryDatatoCopy.iloc[i][\"Employee ID\"]\n",
    "    for i in range(0,len(SalaryDatatoCopy)):\n",
    "        for j in range(47,48):\n",
    "            if SalaryDatatoCopy.iloc[i][\"Lobbying\"] == \"None\":\n",
    "                pass\n",
    "            else:\n",
    "                sheet2.cell(row=i+rowstart, column=j).value =  SalaryDatatoCopy.iloc[i][\"Lobbying\"]            \n",
    "\n",
    "    for i in range(0,len(SalaryDatatoCopy)):\n",
    "        for j in range(49,50):\n",
    "            if SalaryDatatoCopy.iloc[i][\"Lobbying Location\"] == \"None\":\n",
    "                pass\n",
    "            else:\n",
    "                sheet2.cell(row=i+rowstart, column=j).value =  SalaryDatatoCopy.iloc[i][\"Lobbying Location\"]\n",
    "\n",
    "# Copy Other Holding Accounts below here:\n",
    "    for i in range(0,len(SharedHoldingDFFINAL)):\n",
    "        for j in range(9,10):\n",
    "            sheet2.cell(row=len(SalaryDatatoCopy)+rowstart+i, column=j).value =  SharedHoldingDFFINAL.iloc[i][\"Net Amount\"]             \n",
    "    for i in range(0,len(SharedHoldingDFFINAL)):\n",
    "        for j in range(25,26):\n",
    "            sheet2.cell(row=len(SalaryDatatoCopy)+rowstart+i, column=j).value =  SharedHoldingDFFINAL.iloc[i][\"Project Plan Task ID\"]  \n",
    "    for i in range(0,len(SharedHoldingDFFINAL)):\n",
    "        for j in range(29,30):\n",
    "            sheet2.cell(row=len(SalaryDatatoCopy)+rowstart+i, column=j).value =  SharedHoldingDFFINAL.iloc[i][\"Initiative\"]  \n",
    "    for i in range(0,len(SharedHoldingDFFINAL)):\n",
    "        for j in range(31,32):\n",
    "            sheet2.cell(row=len(SalaryDatatoCopy)+rowstart+i, column=j).value =  SharedHoldingDFFINAL.iloc[i][\"Cost Center\"]  \n",
    "    for i in range(0,len(SharedHoldingDFFINAL)):\n",
    "        for j in range(41,42):\n",
    "            if SharedHoldingDFFINAL.iloc[i][\"Location\"] == \"NONE\":\n",
    "                pass\n",
    "            if SharedHoldingDFFINAL.iloc[i][\"Location\"] != \"Beijing\":\n",
    "                pass\n",
    "            else:\n",
    "                sheet2.cell(row=len(SalaryDatatoCopy)+rowstart+i, column=j).value = SharedHoldingDFFINAL.iloc[i][\"Location\"]  \n",
    "            \n",
    "\n",
    "    book.save('./Outputs/Workday_Accounting_Journal_Shared Costs Allocation'+Type+timestampreport+'.xlsx')"
   ]
  },
  {
   "cell_type": "code",
   "execution_count": 682,
   "id": "c80cd364",
   "metadata": {},
   "outputs": [],
   "source": [
    "createImportAccountingJournalShared(SharedLoadTemplate)"
   ]
  },
  {
   "cell_type": "markdown",
   "id": "ac6c1574",
   "metadata": {},
   "source": [
    "# Create Bonus Output file"
   ]
  },
  {
   "cell_type": "code",
   "execution_count": 683,
   "id": "5cb68d6e",
   "metadata": {},
   "outputs": [],
   "source": [
    "BonusLoadTemplate = './Source_Files/Workday_Accounting_Journal_Bonus Allocation_Template.xlsx'"
   ]
  },
  {
   "cell_type": "code",
   "execution_count": 684,
   "id": "50b427fd",
   "metadata": {},
   "outputs": [],
   "source": [
    "SalaryDatatoCopy = AllCostsAllocatedPTOAccruals.loc[(AllCostsAllocatedPTOAccruals[[\"BonusCosted\"]]!=0).any(axis=1)]"
   ]
  },
  {
   "cell_type": "code",
   "execution_count": 685,
   "id": "0472534b",
   "metadata": {},
   "outputs": [],
   "source": [
    "def createImportAccountingJournalBonus(file):\n",
    "    book = load_workbook(file)\n",
    "    sheet = book[\"Import Accounting Journal\"] #active means last opened sheet\n",
    "    sheet['N6'] = TemplateDate1\n",
    "    #ws.cell(row=2, column=2).value = 2\n",
    "    sheet['T6'] = MonthTemplateName + \" \" + str(yeartemplate) + \" Bonus Allocation\"\n",
    "    sheet2 = book[\"Journal Entry Line Replacement\"]\n",
    "#    for i in range(1,len(AllCostsAllocated[[\"SalaryCosted\"]])):\n",
    "    rowstart = 6\n",
    "\n",
    "    for i in range(0,len(SalaryDatatoCopy)+len(SharedHoldingDFFINAL)):\n",
    "        for j in range(2,3):\n",
    "            sheet2.cell(row=i+rowstart, column=j).value =  1\n",
    "    for i in range(0,len(SalaryDatatoCopy)+len(SharedHoldingDFFINAL)):\n",
    "        for j in range(3,4):\n",
    "            sheet2.cell(row=i+rowstart, column=j).value =  i+1\n",
    "    for i in range(0,len(SalaryDatatoCopy)+len(SharedHoldingDFFINAL)):\n",
    "        for j in range(6,7):\n",
    "            sheet2.cell(row=i+rowstart, column=j).value =  5000\n",
    "    for i in range(0,len(SalaryDatatoCopy)+len(SharedHoldingDFFINAL)):\n",
    "        for j in range(7,8):\n",
    "            sheet2.cell(row=i+rowstart, column=j).value =  \"AS_Standard_Child\"\n",
    "    for i in range(0,len(SalaryDatatoCopy)):\n",
    "        for j in range(8,9):\n",
    "            sheet2.cell(row=i+rowstart, column=j).value =  SalaryDatatoCopy.iloc[i][\"BonusCosted\"]\n",
    "    for i in range(0,len(SalaryDatatoCopy)+len(SharedHoldingDFFINAL)):\n",
    "        for j in range(18,19):\n",
    "            sheet2.cell(row=i+rowstart, column=j).value =  MonthTemplateName + \" \" + str(yeartemplate) + \" Bonus Allocation\"\n",
    "    for i in range(0,len(SalaryDatatoCopy)+len(SharedHoldingDFFINAL)):\n",
    "        for j in range(21,22):\n",
    "            sheet2.cell(row=i+rowstart, column=j).value =  \"Bonus Accrual\"\n",
    "    for i in range(0,len(SalaryDatatoCopy)):\n",
    "        for j in range(25,26):\n",
    "            sheet2.cell(row=i+rowstart, column=j).value =  SalaryDatatoCopy.iloc[i][\"Project Plan Task ID\"]\n",
    "    for i in range(0,len(SalaryDatatoCopy)):\n",
    "        for j in range(29,30):\n",
    "            sheet2.cell(row=i+rowstart, column=j).value =  SalaryDatatoCopy.iloc[i][\"Initiative\"]\n",
    "    for i in range(0,len(SalaryDatatoCopy)):\n",
    "        for j in range(31,32):\n",
    "            sheet2.cell(row=i+rowstart, column=j).value =  SalaryDatatoCopy.iloc[i][\"Cost Center\"]\n",
    "    for i in range(0,len(SalaryDatatoCopy)+len(SharedHoldingDFFINAL)):\n",
    "        for j in range(33,34):\n",
    "            sheet2.cell(row=i+rowstart, column=j).value =  \"Unrestricted\"\n",
    "    for i in range(0,len(SalaryDatatoCopy)):\n",
    "        for j in range(41,42):\n",
    "            if SalaryDatatoCopy.iloc[i][\"Location\"] != \"Beijing\":\n",
    "                pass\n",
    "            else:\n",
    "                sheet2.cell(row=i+rowstart, column=j).value =  SalaryDatatoCopy.iloc[i][\"Location\"]\n",
    "    for i in range(0,len(SalaryDatatoCopy)):\n",
    "        for j in range(43,44):\n",
    "            sheet2.cell(row=i+rowstart, column=j).value =  SalaryDatatoCopy.iloc[i][\"Employee ID\"]\n",
    "    for i in range(0,len(SalaryDatatoCopy)):\n",
    "        for j in range(47,48):\n",
    "            if SalaryDatatoCopy.iloc[i][\"Lobbying\"] == \"None\":\n",
    "                pass\n",
    "            else:\n",
    "                sheet2.cell(row=i+rowstart, column=j).value =  SalaryDatatoCopy.iloc[i][\"Lobbying\"]            \n",
    "\n",
    "    for i in range(0,len(SalaryDatatoCopy)):\n",
    "        for j in range(49,50):\n",
    "            if SalaryDatatoCopy.iloc[i][\"Lobbying Location\"] == \"None\":\n",
    "                pass\n",
    "            else:\n",
    "                sheet2.cell(row=i+rowstart, column=j).value =  SalaryDatatoCopy.iloc[i][\"Lobbying Location\"]  \n",
    "            \n",
    "\n",
    "    book.save('./Outputs/Workday_Accounting_Journal_Bonus Allocation'+Type+timestampreport+'.xlsx')"
   ]
  },
  {
   "cell_type": "code",
   "execution_count": 686,
   "id": "cfa5d7bb",
   "metadata": {},
   "outputs": [],
   "source": [
    "createImportAccountingJournalBonus(BonusLoadTemplate)"
   ]
  },
  {
   "cell_type": "code",
   "execution_count": null,
   "id": "07ccfc88",
   "metadata": {},
   "outputs": [],
   "source": []
  },
  {
   "cell_type": "code",
   "execution_count": null,
   "id": "8d00a250",
   "metadata": {},
   "outputs": [],
   "source": []
  },
  {
   "cell_type": "code",
   "execution_count": null,
   "id": "333355f1",
   "metadata": {},
   "outputs": [],
   "source": []
  },
  {
   "cell_type": "code",
   "execution_count": null,
   "id": "2dceb8a7",
   "metadata": {},
   "outputs": [],
   "source": []
  },
  {
   "cell_type": "code",
   "execution_count": null,
   "id": "d2ce1359",
   "metadata": {},
   "outputs": [],
   "source": []
  },
  {
   "cell_type": "code",
   "execution_count": null,
   "id": "e713539b",
   "metadata": {},
   "outputs": [],
   "source": []
  },
  {
   "cell_type": "markdown",
   "id": "0f7a0f8f",
   "metadata": {},
   "source": [
    "# Create Table showing Dollars Admin and Project"
   ]
  },
  {
   "cell_type": "code",
   "execution_count": 687,
   "id": "148873c1",
   "metadata": {},
   "outputs": [
    {
     "data": {
      "text/plain": [
       "Index(['Employee ID', 'Total Cost', 'Worker', 'Project Plan Task',\n",
       "       'Project Plan Task ID', 'Initiative', 'Cost Center',\n",
       "       'ConsultingFeesCosted', 'Type', 'Project Hours Percentage',\n",
       "       'Admin Hours Percentage', 'Lobbying', 'Lobbying Location',\n",
       "       'Project or Admin', 'Project', 'Worker Cost Center',\n",
       "       'PTO more than Admin', 'Location', 'Total Project Hours',\n",
       "       'Needed Project Hours', 'Adjusted Hours', 'Actual Utilization Rate',\n",
       "       'Standard Monthly Cost', 'Amount Banked per Hour', 'Amount Banked',\n",
       "       'Cost per Project Hour', 'Utilization Target', 'Talent Pools', 'File',\n",
       "       'Project PTO or Admin', 'Cost per PTO Hour', 'Project & PTO Hours',\n",
       "       'Bank Month', 'SalaryPercentage', 'BenefitsPercentage',\n",
       "       'SharedPercentage', 'BonusPercentage', 'SalaryCosted', 'BenefitsCosted',\n",
       "       'SharedCosted', 'BonusCosted', 'TaskDrawdowns', 'PTO more than Admint'],\n",
       "      dtype='object')"
      ]
     },
     "execution_count": 687,
     "metadata": {},
     "output_type": "execute_result"
    }
   ],
   "source": [
    "AllCostsAllocatedPTOAccruals.columns"
   ]
  },
  {
   "cell_type": "code",
   "execution_count": 688,
   "id": "c32bfb58",
   "metadata": {},
   "outputs": [],
   "source": [
    "def CreateProjectvsAdminTable(program):\n",
    "    firstdf = AllCostsAllocatedPTOAccruals[AllCostsAllocatedPTOAccruals['Cost Center']==program]  \n",
    "    table = pd.pivot_table(firstdf, index = ['Cost Center','Worker', 'Talent Pools', 'Cost per Project Hour'], columns = ['Project PTO or Admin'], values = 'Total Cost', aggfunc=\"sum\")\n",
    "    return table"
   ]
  },
  {
   "cell_type": "code",
   "execution_count": 689,
   "id": "55da104f",
   "metadata": {},
   "outputs": [],
   "source": [
    "def add_subtotal_ProjectvsAdminTable(PivotedGroup):\n",
    "    out = pd.concat([d.append(d.sum().rename(('Total Cost', '', '', '', ''))) for k, d in PivotedGroup.groupby('Cost Center')])\n",
    "    out.index = pd.MultiIndex.from_tuples(out.index)\n",
    "    return out"
   ]
  },
  {
   "cell_type": "code",
   "execution_count": 690,
   "id": "ce6280f6",
   "metadata": {},
   "outputs": [],
   "source": [
    "def to_excel_ProjectvsAdminTable(df, file):\n",
    "    writer = pd.ExcelWriter(file, engine='openpyxl')\n",
    "    if os.path.exists(file):\n",
    "        book = openpyxl.load_workbook(file)\n",
    "        writer.book = book\n",
    "\n",
    "    df.to_excel(writer, sheet_name=\"Expenses by Program\", startrow = 1)\n",
    "    writer.save()\n",
    "    writer.close()"
   ]
  },
  {
   "cell_type": "code",
   "execution_count": 691,
   "id": "f240a9c4",
   "metadata": {},
   "outputs": [],
   "source": [
    "def Format_ProjectvsAdminTable(file):\n",
    "    book = load_workbook(file)\n",
    "    sheet = book[\"Expenses by Program\"] #active means last opened sheet\n",
    "    rd = sheet.row_dimensions[1]\n",
    "    rd.height = 25\n",
    "    sheet['A2']= \"Program\"\n",
    "    sheet['B2']= \"Employee\"\n",
    "    sheet['C2']= \"Talent Pool\"\n",
    "    sheet['D2']= \"Cost per Project Hour\"\n",
    "    sheet['A2'].font = Font(bold=True)\n",
    "    sheet['B2'].font = Font(bold=True)\n",
    "    sheet['C2'].font = Font(bold=True)\n",
    "    sheet['D2'].font = Font(bold=True)\n",
    "#    fontStyle = Font(size = \"20\")\n",
    "    sheet.merge_cells('A1:G1')\n",
    "    top_left_cell = sheet['A1']\n",
    "    top_right_cell = sheet['G1']\n",
    "    top_left_cell.value = timestampreport + \" Expense Summary\"\n",
    "    thin = Side(border_style=\"thin\", color=\"000000\")\n",
    "    double = Side(border_style=\"double\", color=\"000000\")\n",
    "    top_left_cell.border = Border(top=thin, left=thin, right=thin, bottom=thin)\n",
    "    top_left_cell.fill = PatternFill(\"solid\", fgColor=\"003366\")\n",
    "#    top_left_cell.fill = fill = GradientFill(stop=(\"000080\", \"FFFFFF\"))\n",
    "    top_left_cell.font  = Font(color=\"FFFFFF\", size = \"26\")\n",
    "#    top_left_cell.font = fontStyle\n",
    "    top_left_cell.alignment = Alignment(horizontal=\"center\", vertical=\"center\")\n",
    "    top_right_cell.border = Border(top=thin, left=thin, right=thin, bottom=thin)\n",
    "    sheet.column_dimensions['A'].width = 24\n",
    "    sheet.column_dimensions['B'].width = 24\n",
    "    sheet.column_dimensions['C'].width = 24\n",
    "    sheet.column_dimensions['D'].width = 13\n",
    "    sheet.column_dimensions['E'].width = 16\n",
    "    sheet.column_dimensions['F'].width = 16\n",
    "    sheet.column_dimensions['G'].width = 16\n",
    "    num_rows = sheet.max_row\n",
    "    curr_row = 2\n",
    "    last_col = 8\n",
    "    bluesectionrightborder = 5\n",
    "    for col in range(4,  last_col):\n",
    "        for row in range(2, num_rows+1):\n",
    "            sheet.cell(column=col, row=row).number_format = '\"$\"#,##0;[Red](\"$\"#,##0)'\n",
    "\n",
    "    for col in range(1, bluesectionrightborder):\n",
    "        for row in range(3, num_rows+1):\n",
    "            sheet.cell(column=col, row=row).alignment = Alignment(horizontal = 'left', vertical='top')\n",
    "            sheet.cell(column=col, row=row).fill = blueFill\n",
    "    for i in range(1, sheet.max_row + 1):\n",
    "        if sheet.cell(row=i, column=1).value == \"Program\":\n",
    "            for j in range(1,last_col):\n",
    "                sheet.cell(column=j, row=i).font = Font(bold=True)\n",
    "                sheet.cell(column=j, row=i).border = Border(top = thin, bottom = thin)  \n",
    "                sheet.cell(column=j, row=i).fill = greyFill\n",
    "    for i in range(1, sheet.max_row + 1):\n",
    "        if sheet.cell(row=i, column=1).value == \"Total Cost\":\n",
    "            for j in range(1,last_col):\n",
    "                sheet.cell(column=j, row=i).font = Font(bold=True)\n",
    "                sheet.cell(column=j, row=i).border = Border(bottom=Side(style=\"double\"))  \n",
    "      \n",
    "    sheet.sheet_view.zoomScale = 100\n",
    "    sheet.freeze_panes = \"A3\"\n",
    "#    sheet.sheet_state = 'hidden'\n",
    "    book.save(file)"
   ]
  },
  {
   "cell_type": "code",
   "execution_count": 692,
   "id": "e7b6647e",
   "metadata": {},
   "outputs": [],
   "source": [
    "def MakeProjectvsAdminTable(Group, link):\n",
    "    step1 = CreateProjectvsAdminTable(Group)\n",
    "    step2 = add_subtotal_ProjectvsAdminTable(step1)\n",
    "    to_excel_ProjectvsAdminTable(step2, link)\n",
    "    Format_ProjectvsAdminTable(link)"
   ]
  },
  {
   "cell_type": "markdown",
   "id": "58f64b4f",
   "metadata": {},
   "source": [
    "\n"
   ]
  },
  {
   "cell_type": "markdown",
   "id": "c00913bc",
   "metadata": {},
   "source": [
    "# CREATE PTO Bank Table"
   ]
  },
  {
   "cell_type": "code",
   "execution_count": 693,
   "id": "3f308a1e",
   "metadata": {},
   "outputs": [],
   "source": [
    "def CreatePTOTable(program):\n",
    "    firstdf = AllCostsAllocatedPTOAccruals[AllCostsAllocatedPTOAccruals['Worker Cost Center']==program]  \n",
    "    seconddf = firstdf[firstdf['Type']=='PTO Task Accrual']      \n",
    "    table = pd.pivot_table(seconddf, index = ['Worker', 'Project', 'Project Plan Task'], values = 'Total Cost', aggfunc=\"sum\")\n",
    "    return table"
   ]
  },
  {
   "cell_type": "code",
   "execution_count": 694,
   "id": "07eb30e0",
   "metadata": {},
   "outputs": [],
   "source": [
    "def add_subtotal_PTOTable(PivotedGroup):\n",
    "    out = pd.concat([d.append(d.sum().rename(('PTO Bank Usage', '', '', ''))) for k, d in PivotedGroup.groupby('Worker')]).append((PivotedGroup.sum()).rename(('Grand Total','','','')))\n",
    "    out.index = pd.MultiIndex.from_tuples(out.index)\n",
    "    return out"
   ]
  },
  {
   "cell_type": "code",
   "execution_count": 695,
   "id": "c2e6ad41",
   "metadata": {},
   "outputs": [],
   "source": [
    "def to_excel_PTOTable(df, file):\n",
    "    writer = pd.ExcelWriter(file, engine='openpyxl')\n",
    "    if os.path.exists(file):\n",
    "        book = openpyxl.load_workbook(file)\n",
    "        writer.book = book\n",
    "\n",
    "    df.to_excel(writer, sheet_name=\"PTO Bank Usage by Program\", startrow = 1)\n",
    "    writer.save()\n",
    "    writer.close()"
   ]
  },
  {
   "cell_type": "code",
   "execution_count": 696,
   "id": "30369ba8",
   "metadata": {},
   "outputs": [],
   "source": [
    "def Format_PTOTable(file):\n",
    "    book = load_workbook(file)\n",
    "    sheet = book[\"PTO Bank Usage by Program\"] #active means last opened sheet\n",
    "    rd = sheet.row_dimensions[1]\n",
    "    rd.height = 25\n",
    "    sheet['A2']= \"Employee\"\n",
    "    sheet['B2']= \"Project\"\n",
    "    sheet['C2']= \"Task\"\n",
    "    sheet['A2'].font = Font(bold=True)\n",
    "    sheet['B2'].font = Font(bold=True)\n",
    "    sheet['C2'].font = Font(bold=True)\n",
    "    sheet['D2'].font = Font(bold=True)\n",
    "#    fontStyle = Font(size = \"20\")\n",
    "    sheet.merge_cells('A1:D1')\n",
    "    top_left_cell = sheet['A1']\n",
    "    top_right_cell = sheet['D1']\n",
    "    top_left_cell.value = timestampreport + \" Expense Summary\"\n",
    "    thin = Side(border_style=\"thin\", color=\"000000\")\n",
    "    double = Side(border_style=\"double\", color=\"000000\")\n",
    "    top_left_cell.border = Border(top=thin, left=thin, right=thin, bottom=thin)\n",
    "    top_left_cell.fill = PatternFill(\"solid\", fgColor=\"003366\")\n",
    "#    top_left_cell.fill = fill = GradientFill(stop=(\"000080\", \"FFFFFF\"))\n",
    "    top_left_cell.font  = Font(color=\"FFFFFF\", size = \"26\")\n",
    "#    top_left_cell.font = fontStyle\n",
    "    top_left_cell.alignment = Alignment(horizontal=\"center\", vertical=\"center\")\n",
    "    top_right_cell.border = Border(top=thin, left=thin, right=thin, bottom=thin)\n",
    "    sheet.column_dimensions['A'].width = 16\n",
    "    sheet.column_dimensions['B'].width = 30\n",
    "    sheet.column_dimensions['C'].width = 30\n",
    "    sheet.column_dimensions['D'].width = 16\n",
    "    num_rows = sheet.max_row\n",
    "    curr_row = 2\n",
    "    last_col = 5\n",
    "    bluesectionrightborder = 4\n",
    "    for col in range(4,  last_col):\n",
    "        for row in range(2, num_rows+1):\n",
    "            sheet.cell(column=col, row=row).number_format = '\"$\"#,##0;[Red](\"$\"#,##0)'\n",
    "\n",
    "    for col in range(1, bluesectionrightborder):\n",
    "        for row in range(3, num_rows+1):\n",
    "            sheet.cell(column=col, row=row).alignment = Alignment(horizontal = 'left', vertical='top')\n",
    "            sheet.cell(column=col, row=row).fill = blueFill\n",
    "    for i in range(1, sheet.max_row + 1):\n",
    "        if sheet.cell(row=i, column=1).value == \"Employee\":\n",
    "            for j in range(1,last_col):\n",
    "                sheet.cell(column=j, row=i).font = Font(bold=True)\n",
    "                sheet.cell(column=j, row=i).border = Border(top = thin, bottom = thin)  \n",
    "                sheet.cell(column=j, row=i).fill = greyFill\n",
    "    for i in range(1, sheet.max_row + 1):\n",
    "        if sheet.cell(row=i, column=1).value == \"PTO Bank Usage\":\n",
    "            for j in range(1,last_col):\n",
    "                sheet.cell(column=j, row=i).font = Font(bold=True)\n",
    "                sheet.cell(column=j, row=i).border = Border(bottom=Side(style=\"double\"))  \n",
    "    for i in range(1, sheet.max_row + 1):\n",
    "        if sheet.cell(row=i, column=1).value == \"Grand Total\":\n",
    "            for j in range(1,last_col):\n",
    "                sheet.cell(column=j, row=i).font = Font(bold=True)\n",
    "                sheet.cell(column=j, row=i).border = Border(bottom=Side(style=\"double\"))  \n",
    "      \n",
    "    sheet.sheet_view.zoomScale = 100\n",
    "    sheet.freeze_panes = \"A3\"\n",
    "#    sheet.sheet_state = 'hidden'\n",
    "    book.save(file)"
   ]
  },
  {
   "cell_type": "code",
   "execution_count": 697,
   "id": "13a48775",
   "metadata": {},
   "outputs": [],
   "source": [
    "def MakePTOTable(Group, link):\n",
    "    step1 = CreatePTOTable(Group)\n",
    "    step2 = add_subtotal_PTOTable(step1)\n",
    "    to_excel_PTOTable(step2, link)\n",
    "    Format_PTOTable(link)"
   ]
  },
  {
   "cell_type": "code",
   "execution_count": 698,
   "id": "3ad1a12b",
   "metadata": {},
   "outputs": [],
   "source": [
    "#MakePTOTable(\"Carbon-Free Buildings\", str(Timepath+'/' + \"Carbon-Free Buildings\" + ' - ' +timestampreport + filename))"
   ]
  },
  {
   "cell_type": "code",
   "execution_count": 699,
   "id": "62ddd8ac-5aca-4e8c-8fff-57df4e359fd2",
   "metadata": {},
   "outputs": [],
   "source": [
    "#TimeDataALL = './Source_Files/RMI_WorkerTimeBlocksforFinancialAllocationsDetailedforFinanceMASTER.xlsx'\n",
    "\n",
    "Q1BankData = './Source_Files/PTOReclassQ1.xlsx'\n",
    "\n",
    "Q1BankDataDF = pd.read_excel(Q1BankData, engine='openpyxl')"
   ]
  },
  {
   "cell_type": "code",
   "execution_count": 700,
   "id": "72993f1d-9813-4155-9002-776bbcb5e0f5",
   "metadata": {},
   "outputs": [],
   "source": [
    "def CreatePTOQ1Table(program):\n",
    "    firstdf = Q1BankDataDF[Q1BankDataDF['Cost Center']==program]      \n",
    "    table = pd.pivot_table(firstdf, index = ['Employee Name', 'Project', 'Project Plan Task'], values = 'Total', aggfunc=\"sum\")\n",
    "    return table"
   ]
  },
  {
   "cell_type": "code",
   "execution_count": 701,
   "id": "919fa901-24ba-47d4-ad9f-76b8700eb09d",
   "metadata": {},
   "outputs": [],
   "source": [
    "def add_subtotal_PTOQ1Table(PivotedGroup):\n",
    "    out = pd.concat([d.append(d.sum().rename(('Q1 PTO Bank Usage', '', '', ''))) for k, d in PivotedGroup.groupby('Employee Name')]).append((PivotedGroup.sum()).rename(('Grand Total','','','')))\n",
    "    out.index = pd.MultiIndex.from_tuples(out.index)\n",
    "    return out"
   ]
  },
  {
   "cell_type": "code",
   "execution_count": 702,
   "id": "910cecae-a034-4cdb-9f7e-e9ab7db8e9bb",
   "metadata": {},
   "outputs": [],
   "source": [
    "def to_excel_PTOQ1Table(df, file):\n",
    "    writer = pd.ExcelWriter(file, engine='openpyxl')\n",
    "    if os.path.exists(file):\n",
    "        book = openpyxl.load_workbook(file)\n",
    "        writer.book = book\n",
    "\n",
    "    df.to_excel(writer, sheet_name=\"Q1 PTO Bank Reclass by Program\", startrow = 1)\n",
    "    writer.save()\n",
    "    writer.close()"
   ]
  },
  {
   "cell_type": "code",
   "execution_count": 703,
   "id": "fe747cfe-e15d-481e-86be-1a84caeeadf9",
   "metadata": {},
   "outputs": [],
   "source": [
    "def Format_PTOQ1Table(file):\n",
    "    book = load_workbook(file)\n",
    "    sheet = book[\"Q1 PTO Bank Reclass by Program\"] #active means last opened sheet\n",
    "    rd = sheet.row_dimensions[1]\n",
    "    rd.height = 25\n",
    "    sheet['A2']= \"Employee\"\n",
    "    sheet['B2']= \"Project\"\n",
    "    sheet['C2']= \"Task\"\n",
    "    sheet['A2'].font = Font(bold=True)\n",
    "    sheet['B2'].font = Font(bold=True)\n",
    "    sheet['C2'].font = Font(bold=True)\n",
    "    sheet['D2'].font = Font(bold=True)\n",
    "#    fontStyle = Font(size = \"20\")\n",
    "    sheet.merge_cells('A1:D1')\n",
    "    top_left_cell = sheet['A1']\n",
    "    top_right_cell = sheet['D1']\n",
    "    top_left_cell.value = timestampreport + \" Expense Summary\"\n",
    "    thin = Side(border_style=\"thin\", color=\"000000\")\n",
    "    double = Side(border_style=\"double\", color=\"000000\")\n",
    "    top_left_cell.border = Border(top=thin, left=thin, right=thin, bottom=thin)\n",
    "    top_left_cell.fill = PatternFill(\"solid\", fgColor=\"003366\")\n",
    "#    top_left_cell.fill = fill = GradientFill(stop=(\"000080\", \"FFFFFF\"))\n",
    "    top_left_cell.font  = Font(color=\"FFFFFF\", size = \"26\")\n",
    "#    top_left_cell.font = fontStyle\n",
    "    top_left_cell.alignment = Alignment(horizontal=\"center\", vertical=\"center\")\n",
    "    top_right_cell.border = Border(top=thin, left=thin, right=thin, bottom=thin)\n",
    "    sheet.column_dimensions['A'].width = 16\n",
    "    sheet.column_dimensions['B'].width = 30\n",
    "    sheet.column_dimensions['C'].width = 30\n",
    "    sheet.column_dimensions['D'].width = 16\n",
    "    num_rows = sheet.max_row\n",
    "    curr_row = 2\n",
    "    last_col = 5\n",
    "    bluesectionrightborder = 4\n",
    "    for col in range(4,  last_col):\n",
    "        for row in range(2, num_rows+1):\n",
    "            sheet.cell(column=col, row=row).number_format = '\"$\"#,##0;[Red](\"$\"#,##0)'\n",
    "\n",
    "    for col in range(1, bluesectionrightborder):\n",
    "        for row in range(3, num_rows+1):\n",
    "            sheet.cell(column=col, row=row).alignment = Alignment(horizontal = 'left', vertical='top')\n",
    "            sheet.cell(column=col, row=row).fill = blueFill\n",
    "    for i in range(1, sheet.max_row + 1):\n",
    "        if sheet.cell(row=i, column=1).value == \"Employee\":\n",
    "            for j in range(1,last_col):\n",
    "                sheet.cell(column=j, row=i).font = Font(bold=True)\n",
    "                sheet.cell(column=j, row=i).border = Border(top = thin, bottom = thin)  \n",
    "                sheet.cell(column=j, row=i).fill = greyFill\n",
    "    for i in range(1, sheet.max_row + 1):\n",
    "        if sheet.cell(row=i, column=1).value == \"Q1 PTO Bank Usage\":\n",
    "            for j in range(1,last_col):\n",
    "                sheet.cell(column=j, row=i).font = Font(bold=True)\n",
    "                sheet.cell(column=j, row=i).border = Border(bottom=Side(style=\"double\"))  \n",
    "    for i in range(1, sheet.max_row + 1):\n",
    "        if sheet.cell(row=i, column=1).value == \"Grand Total\":\n",
    "            for j in range(1,last_col):\n",
    "                sheet.cell(column=j, row=i).font = Font(bold=True)\n",
    "                sheet.cell(column=j, row=i).border = Border(bottom=Side(style=\"double\"))  \n",
    "      \n",
    "    sheet.sheet_view.zoomScale = 100\n",
    "    sheet.freeze_panes = \"A3\"\n",
    "#    sheet.sheet_state = 'hidden'\n",
    "    book.save(file)"
   ]
  },
  {
   "cell_type": "code",
   "execution_count": 704,
   "id": "0fcf0f86-b151-4986-b8c7-feb096f83e9e",
   "metadata": {},
   "outputs": [],
   "source": [
    "def MakePTOQ1Table(Group, link):\n",
    "    step1 = CreatePTOQ1Table(Group)\n",
    "    step2 = add_subtotal_PTOQ1Table(step1)\n",
    "    to_excel_PTOQ1Table(step2, link)\n",
    "    Format_PTOQ1Table(link)"
   ]
  },
  {
   "cell_type": "markdown",
   "id": "08441be0",
   "metadata": {},
   "source": [
    "# Create Total Expenses by Project and Task"
   ]
  },
  {
   "cell_type": "code",
   "execution_count": 705,
   "id": "859596b5",
   "metadata": {},
   "outputs": [],
   "source": [
    "def CreateTCTable(program):\n",
    "    firstdf = AllCostsAllocatedPTOAccruals[AllCostsAllocatedPTOAccruals['Cost Center']==program]      \n",
    "    table = pd.pivot_table(firstdf, index = ['Worker', 'Project', 'Project Plan Task'], values = 'Total Cost', aggfunc=\"sum\")\n",
    "    return table"
   ]
  },
  {
   "cell_type": "code",
   "execution_count": 706,
   "id": "667185fb",
   "metadata": {},
   "outputs": [],
   "source": [
    "def add_subtotal_TCTable(PivotedGroup):\n",
    "    out = pd.concat([d.append(d.sum().rename(('Total Cost', '', '', ''))) for k, d in PivotedGroup.groupby('Worker')])\n",
    "    out.index = pd.MultiIndex.from_tuples(out.index)\n",
    "    return out"
   ]
  },
  {
   "cell_type": "code",
   "execution_count": 707,
   "id": "99232467",
   "metadata": {},
   "outputs": [],
   "source": [
    "def to_excel_TCTable(df, file):\n",
    "    writer = pd.ExcelWriter(file, engine='openpyxl')\n",
    "    if os.path.exists(file):\n",
    "        book = openpyxl.load_workbook(file)\n",
    "        writer.book = book\n",
    "\n",
    "    df.to_excel(writer, sheet_name=\"Employee Cost Breakdown\", startrow = 1)\n",
    "    writer.save()\n",
    "    writer.close()"
   ]
  },
  {
   "cell_type": "code",
   "execution_count": 708,
   "id": "d26010e9",
   "metadata": {},
   "outputs": [],
   "source": [
    "def Format_TCTable(file):\n",
    "    book = load_workbook(file)\n",
    "    sheet = book[\"Employee Cost Breakdown\"] #active means last opened sheet\n",
    "    rd = sheet.row_dimensions[1]\n",
    "    rd.height = 25\n",
    "    sheet['A2']= \"Employee\"\n",
    "    sheet['B2']= \"Project\"\n",
    "    sheet['C2']= \"Task\"\n",
    "    sheet['A2'].font = Font(bold=True)\n",
    "    sheet['B2'].font = Font(bold=True)\n",
    "    sheet['C2'].font = Font(bold=True)\n",
    "    sheet['D2'].font = Font(bold=True)\n",
    "#    fontStyle = Font(size = \"20\")\n",
    "    sheet.merge_cells('A1:D1')\n",
    "    top_left_cell = sheet['A1']\n",
    "    top_right_cell = sheet['D1']\n",
    "    top_left_cell.value = timestampreport + \" Expense Summary\"\n",
    "    thin = Side(border_style=\"thin\", color=\"000000\")\n",
    "    double = Side(border_style=\"double\", color=\"000000\")\n",
    "    top_left_cell.border = Border(top=thin, left=thin, right=thin, bottom=thin)\n",
    "    top_left_cell.fill = PatternFill(\"solid\", fgColor=\"003366\")\n",
    "#    top_left_cell.fill = fill = GradientFill(stop=(\"000080\", \"FFFFFF\"))\n",
    "    top_left_cell.font  = Font(color=\"FFFFFF\", size = \"26\")\n",
    "#    top_left_cell.font = fontStyle\n",
    "    top_left_cell.alignment = Alignment(horizontal=\"center\", vertical=\"center\")\n",
    "    top_right_cell.border = Border(top=thin, left=thin, right=thin, bottom=thin)\n",
    "    sheet.column_dimensions['A'].width = 16\n",
    "    sheet.column_dimensions['B'].width = 30\n",
    "    sheet.column_dimensions['C'].width = 30\n",
    "    sheet.column_dimensions['D'].width = 16\n",
    "    num_rows = sheet.max_row\n",
    "    curr_row = 2\n",
    "    last_col = 5\n",
    "    bluesectionrightborder = 4\n",
    "    for col in range(4,  last_col):\n",
    "        for row in range(2, num_rows+1):\n",
    "            sheet.cell(column=col, row=row).number_format = '\"$\"#,##0;[Red](\"$\"#,##0)'\n",
    "\n",
    "    for col in range(1, bluesectionrightborder):\n",
    "        for row in range(3, num_rows+1):\n",
    "            sheet.cell(column=col, row=row).alignment = Alignment(horizontal = 'left', vertical='top')\n",
    "            sheet.cell(column=col, row=row).fill = blueFill\n",
    "    for i in range(1, sheet.max_row + 1):\n",
    "        if sheet.cell(row=i, column=1).value == \"Employee\":\n",
    "            for j in range(1,last_col):\n",
    "                sheet.cell(column=j, row=i).font = Font(bold=True)\n",
    "                sheet.cell(column=j, row=i).border = Border(top = thin, bottom = thin)  \n",
    "                sheet.cell(column=j, row=i).fill = greyFill\n",
    "    for i in range(1, sheet.max_row + 1):\n",
    "        if sheet.cell(row=i, column=1).value == \"Total Cost\":\n",
    "            for j in range(1,last_col):\n",
    "                sheet.cell(column=j, row=i).font = Font(bold=True)\n",
    "                sheet.cell(column=j, row=i).border = Border(bottom=Side(style=\"double\"))  \n",
    "\n",
    "    sheet.sheet_view.zoomScale = 100\n",
    "    sheet.freeze_panes = \"A3\"\n",
    "#    sheet.sheet_state = 'hidden'\n",
    "    book.save(file)"
   ]
  },
  {
   "cell_type": "code",
   "execution_count": 709,
   "id": "6766b3f4",
   "metadata": {},
   "outputs": [],
   "source": [
    "def MakeTCTable(Group, link):\n",
    "    step1 = CreateTCTable(Group)\n",
    "    step2 = add_subtotal_TCTable(step1)\n",
    "    to_excel_TCTable(step2, link)\n",
    "    Format_TCTable(link)"
   ]
  },
  {
   "cell_type": "code",
   "execution_count": null,
   "id": "faec0f0c",
   "metadata": {},
   "outputs": [],
   "source": []
  },
  {
   "cell_type": "code",
   "execution_count": null,
   "id": "b50f6451",
   "metadata": {},
   "outputs": [],
   "source": []
  },
  {
   "cell_type": "code",
   "execution_count": null,
   "id": "14ccd436",
   "metadata": {},
   "outputs": [],
   "source": []
  },
  {
   "cell_type": "markdown",
   "id": "79f56b01",
   "metadata": {},
   "source": [
    "# Create ALL ADMIN TABLE"
   ]
  },
  {
   "cell_type": "code",
   "execution_count": 710,
   "id": "72e19d5d",
   "metadata": {},
   "outputs": [],
   "source": [
    "MonthAdminTable['Total PTO Cost'].fillna(0, inplace=True)\n",
    "MonthAdminTable['Total Admin Cost'].fillna(0, inplace=True)"
   ]
  },
  {
   "cell_type": "code",
   "execution_count": 711,
   "id": "45e8ed12",
   "metadata": {},
   "outputs": [
    {
     "data": {
      "text/html": [
       "<div>\n",
       "<style scoped>\n",
       "    .dataframe tbody tr th:only-of-type {\n",
       "        vertical-align: middle;\n",
       "    }\n",
       "\n",
       "    .dataframe tbody tr th {\n",
       "        vertical-align: top;\n",
       "    }\n",
       "\n",
       "    .dataframe thead th {\n",
       "        text-align: right;\n",
       "    }\n",
       "</style>\n",
       "<table border=\"1\" class=\"dataframe\">\n",
       "  <thead>\n",
       "    <tr style=\"text-align: right;\">\n",
       "      <th></th>\n",
       "      <th>Worker</th>\n",
       "      <th>Employee ID</th>\n",
       "      <th>Worker Cost Center</th>\n",
       "      <th>Talent Pool</th>\n",
       "      <th>Project Group</th>\n",
       "      <th>Utilization Target</th>\n",
       "      <th>Hire Date</th>\n",
       "      <th>Termination Date</th>\n",
       "      <th>Title</th>\n",
       "      <th>Reported Date</th>\n",
       "      <th>...</th>\n",
       "      <th>Week</th>\n",
       "      <th>Time Cost Center</th>\n",
       "      <th>Time Initiative</th>\n",
       "      <th>MonthYear</th>\n",
       "      <th>Project or Admin</th>\n",
       "      <th>Employee Hours</th>\n",
       "      <th>Percent of Total Monthly Hours</th>\n",
       "      <th>Total Admin Cost</th>\n",
       "      <th>Total PTO Cost</th>\n",
       "      <th>Home Cost Center</th>\n",
       "    </tr>\n",
       "  </thead>\n",
       "  <tbody>\n",
       "    <tr>\n",
       "      <th>0</th>\n",
       "      <td>Aaron Brickman</td>\n",
       "      <td>1436</td>\n",
       "      <td>US</td>\n",
       "      <td>Talent Pool: Sr. Principal</td>\n",
       "      <td>Admin</td>\n",
       "      <td>0.6</td>\n",
       "      <td>2022-02-28</td>\n",
       "      <td>NaT</td>\n",
       "      <td>Senior Principal</td>\n",
       "      <td>2024-10-01</td>\n",
       "      <td>...</td>\n",
       "      <td>09/30/2024 - 10/06/2024</td>\n",
       "      <td>US</td>\n",
       "      <td>US - Admin</td>\n",
       "      <td>10/2024</td>\n",
       "      <td>Admin</td>\n",
       "      <td>192.0</td>\n",
       "      <td>0.005208</td>\n",
       "      <td>0.0</td>\n",
       "      <td>0.00</td>\n",
       "      <td>US</td>\n",
       "    </tr>\n",
       "    <tr>\n",
       "      <th>1</th>\n",
       "      <td>Aaron Brickman</td>\n",
       "      <td>1436</td>\n",
       "      <td>US</td>\n",
       "      <td>Talent Pool: Sr. Principal</td>\n",
       "      <td>Admin</td>\n",
       "      <td>0.6</td>\n",
       "      <td>2022-02-28</td>\n",
       "      <td>NaT</td>\n",
       "      <td>Senior Principal</td>\n",
       "      <td>2024-10-02</td>\n",
       "      <td>...</td>\n",
       "      <td>09/30/2024 - 10/06/2024</td>\n",
       "      <td>US</td>\n",
       "      <td>US - Admin</td>\n",
       "      <td>10/2024</td>\n",
       "      <td>Admin</td>\n",
       "      <td>192.0</td>\n",
       "      <td>0.010417</td>\n",
       "      <td>0.0</td>\n",
       "      <td>0.00</td>\n",
       "      <td>US</td>\n",
       "    </tr>\n",
       "    <tr>\n",
       "      <th>2</th>\n",
       "      <td>Aaron Brickman</td>\n",
       "      <td>1436</td>\n",
       "      <td>US</td>\n",
       "      <td>Talent Pool: Sr. Principal</td>\n",
       "      <td>Admin</td>\n",
       "      <td>0.6</td>\n",
       "      <td>2022-02-28</td>\n",
       "      <td>NaT</td>\n",
       "      <td>Senior Principal</td>\n",
       "      <td>2024-10-01</td>\n",
       "      <td>...</td>\n",
       "      <td>09/30/2024 - 10/06/2024</td>\n",
       "      <td>US</td>\n",
       "      <td>US - Admin</td>\n",
       "      <td>10/2024</td>\n",
       "      <td>Admin</td>\n",
       "      <td>192.0</td>\n",
       "      <td>0.010417</td>\n",
       "      <td>0.0</td>\n",
       "      <td>0.00</td>\n",
       "      <td>US</td>\n",
       "    </tr>\n",
       "    <tr>\n",
       "      <th>3</th>\n",
       "      <td>Aaron Brickman</td>\n",
       "      <td>1436</td>\n",
       "      <td>US</td>\n",
       "      <td>Talent Pool: Sr. Principal</td>\n",
       "      <td>PTO</td>\n",
       "      <td>0.6</td>\n",
       "      <td>2022-02-28</td>\n",
       "      <td>NaT</td>\n",
       "      <td>Senior Principal</td>\n",
       "      <td>2024-10-03</td>\n",
       "      <td>...</td>\n",
       "      <td>09/30/2024 - 10/06/2024</td>\n",
       "      <td>NaN</td>\n",
       "      <td>NaN</td>\n",
       "      <td>10/2024</td>\n",
       "      <td>Admin</td>\n",
       "      <td>192.0</td>\n",
       "      <td>0.041667</td>\n",
       "      <td>0.0</td>\n",
       "      <td>0.00</td>\n",
       "      <td>US</td>\n",
       "    </tr>\n",
       "    <tr>\n",
       "      <th>4</th>\n",
       "      <td>Aaron Brickman</td>\n",
       "      <td>1436</td>\n",
       "      <td>US</td>\n",
       "      <td>Talent Pool: Sr. Principal</td>\n",
       "      <td>PTO</td>\n",
       "      <td>0.6</td>\n",
       "      <td>2022-02-28</td>\n",
       "      <td>NaT</td>\n",
       "      <td>Senior Principal</td>\n",
       "      <td>2024-10-04</td>\n",
       "      <td>...</td>\n",
       "      <td>09/30/2024 - 10/06/2024</td>\n",
       "      <td>NaN</td>\n",
       "      <td>NaN</td>\n",
       "      <td>10/2024</td>\n",
       "      <td>Admin</td>\n",
       "      <td>192.0</td>\n",
       "      <td>0.041667</td>\n",
       "      <td>0.0</td>\n",
       "      <td>0.00</td>\n",
       "      <td>US</td>\n",
       "    </tr>\n",
       "    <tr>\n",
       "      <th>...</th>\n",
       "      <td>...</td>\n",
       "      <td>...</td>\n",
       "      <td>...</td>\n",
       "      <td>...</td>\n",
       "      <td>...</td>\n",
       "      <td>...</td>\n",
       "      <td>...</td>\n",
       "      <td>...</td>\n",
       "      <td>...</td>\n",
       "      <td>...</td>\n",
       "      <td>...</td>\n",
       "      <td>...</td>\n",
       "      <td>...</td>\n",
       "      <td>...</td>\n",
       "      <td>...</td>\n",
       "      <td>...</td>\n",
       "      <td>...</td>\n",
       "      <td>...</td>\n",
       "      <td>...</td>\n",
       "      <td>...</td>\n",
       "      <td>...</td>\n",
       "    </tr>\n",
       "    <tr>\n",
       "      <th>9431</th>\n",
       "      <td>Zsaria Diaz</td>\n",
       "      <td>1327</td>\n",
       "      <td>Islands</td>\n",
       "      <td>Talent Pool: Sr. Associate</td>\n",
       "      <td>PTO</td>\n",
       "      <td>0.7</td>\n",
       "      <td>2021-09-13</td>\n",
       "      <td>NaT</td>\n",
       "      <td>Senior Associate</td>\n",
       "      <td>2024-10-22</td>\n",
       "      <td>...</td>\n",
       "      <td>10/21/2024 - 10/27/2024</td>\n",
       "      <td>NaN</td>\n",
       "      <td>NaN</td>\n",
       "      <td>10/2024</td>\n",
       "      <td>Admin</td>\n",
       "      <td>168.0</td>\n",
       "      <td>0.000000</td>\n",
       "      <td>0.0</td>\n",
       "      <td>988.51</td>\n",
       "      <td>Islands</td>\n",
       "    </tr>\n",
       "    <tr>\n",
       "      <th>9432</th>\n",
       "      <td>Zsaria Diaz</td>\n",
       "      <td>1327</td>\n",
       "      <td>Islands</td>\n",
       "      <td>Talent Pool: Sr. Associate</td>\n",
       "      <td>PTO</td>\n",
       "      <td>0.7</td>\n",
       "      <td>2021-09-13</td>\n",
       "      <td>NaT</td>\n",
       "      <td>Senior Associate</td>\n",
       "      <td>2024-10-24</td>\n",
       "      <td>...</td>\n",
       "      <td>10/21/2024 - 10/27/2024</td>\n",
       "      <td>NaN</td>\n",
       "      <td>NaN</td>\n",
       "      <td>10/2024</td>\n",
       "      <td>Admin</td>\n",
       "      <td>168.0</td>\n",
       "      <td>0.000000</td>\n",
       "      <td>0.0</td>\n",
       "      <td>988.51</td>\n",
       "      <td>Islands</td>\n",
       "    </tr>\n",
       "    <tr>\n",
       "      <th>9433</th>\n",
       "      <td>Zsaria Diaz</td>\n",
       "      <td>1327</td>\n",
       "      <td>Islands</td>\n",
       "      <td>Talent Pool: Sr. Associate</td>\n",
       "      <td>PTO</td>\n",
       "      <td>0.7</td>\n",
       "      <td>2021-09-13</td>\n",
       "      <td>NaT</td>\n",
       "      <td>Senior Associate</td>\n",
       "      <td>2024-10-23</td>\n",
       "      <td>...</td>\n",
       "      <td>10/21/2024 - 10/27/2024</td>\n",
       "      <td>NaN</td>\n",
       "      <td>NaN</td>\n",
       "      <td>10/2024</td>\n",
       "      <td>Admin</td>\n",
       "      <td>168.0</td>\n",
       "      <td>0.000000</td>\n",
       "      <td>0.0</td>\n",
       "      <td>988.51</td>\n",
       "      <td>Islands</td>\n",
       "    </tr>\n",
       "    <tr>\n",
       "      <th>9434</th>\n",
       "      <td>Zsaria Diaz</td>\n",
       "      <td>1327</td>\n",
       "      <td>Islands</td>\n",
       "      <td>Talent Pool: Sr. Associate</td>\n",
       "      <td>Holiday</td>\n",
       "      <td>0.7</td>\n",
       "      <td>2021-09-13</td>\n",
       "      <td>NaT</td>\n",
       "      <td>Senior Associate</td>\n",
       "      <td>2024-10-28</td>\n",
       "      <td>...</td>\n",
       "      <td>10/28/2024 - 11/03/2024</td>\n",
       "      <td>NaN</td>\n",
       "      <td>NaN</td>\n",
       "      <td>10/2024</td>\n",
       "      <td>Admin</td>\n",
       "      <td>168.0</td>\n",
       "      <td>0.047619</td>\n",
       "      <td>0.0</td>\n",
       "      <td>988.51</td>\n",
       "      <td>Islands</td>\n",
       "    </tr>\n",
       "    <tr>\n",
       "      <th>9435</th>\n",
       "      <td>Zsaria Diaz</td>\n",
       "      <td>1327</td>\n",
       "      <td>Islands</td>\n",
       "      <td>Talent Pool: Sr. Associate</td>\n",
       "      <td>Holiday</td>\n",
       "      <td>0.7</td>\n",
       "      <td>2021-09-13</td>\n",
       "      <td>NaT</td>\n",
       "      <td>Senior Associate</td>\n",
       "      <td>2024-10-31</td>\n",
       "      <td>...</td>\n",
       "      <td>10/28/2024 - 11/03/2024</td>\n",
       "      <td>NaN</td>\n",
       "      <td>NaN</td>\n",
       "      <td>10/2024</td>\n",
       "      <td>Admin</td>\n",
       "      <td>168.0</td>\n",
       "      <td>0.047619</td>\n",
       "      <td>0.0</td>\n",
       "      <td>988.51</td>\n",
       "      <td>Islands</td>\n",
       "    </tr>\n",
       "  </tbody>\n",
       "</table>\n",
       "<p>9436 rows × 28 columns</p>\n",
       "</div>"
      ],
      "text/plain": [
       "              Worker  Employee ID Worker Cost Center  \\\n",
       "0     Aaron Brickman         1436                 US   \n",
       "1     Aaron Brickman         1436                 US   \n",
       "2     Aaron Brickman         1436                 US   \n",
       "3     Aaron Brickman         1436                 US   \n",
       "4     Aaron Brickman         1436                 US   \n",
       "...              ...          ...                ...   \n",
       "9431     Zsaria Diaz         1327            Islands   \n",
       "9432     Zsaria Diaz         1327            Islands   \n",
       "9433     Zsaria Diaz         1327            Islands   \n",
       "9434     Zsaria Diaz         1327            Islands   \n",
       "9435     Zsaria Diaz         1327            Islands   \n",
       "\n",
       "                     Talent Pool Project Group  Utilization Target  Hire Date  \\\n",
       "0     Talent Pool: Sr. Principal         Admin                 0.6 2022-02-28   \n",
       "1     Talent Pool: Sr. Principal         Admin                 0.6 2022-02-28   \n",
       "2     Talent Pool: Sr. Principal         Admin                 0.6 2022-02-28   \n",
       "3     Talent Pool: Sr. Principal           PTO                 0.6 2022-02-28   \n",
       "4     Talent Pool: Sr. Principal           PTO                 0.6 2022-02-28   \n",
       "...                          ...           ...                 ...        ...   \n",
       "9431  Talent Pool: Sr. Associate           PTO                 0.7 2021-09-13   \n",
       "9432  Talent Pool: Sr. Associate           PTO                 0.7 2021-09-13   \n",
       "9433  Talent Pool: Sr. Associate           PTO                 0.7 2021-09-13   \n",
       "9434  Talent Pool: Sr. Associate       Holiday                 0.7 2021-09-13   \n",
       "9435  Talent Pool: Sr. Associate       Holiday                 0.7 2021-09-13   \n",
       "\n",
       "     Termination Date             Title Reported Date  ...  \\\n",
       "0                 NaT  Senior Principal    2024-10-01  ...   \n",
       "1                 NaT  Senior Principal    2024-10-02  ...   \n",
       "2                 NaT  Senior Principal    2024-10-01  ...   \n",
       "3                 NaT  Senior Principal    2024-10-03  ...   \n",
       "4                 NaT  Senior Principal    2024-10-04  ...   \n",
       "...               ...               ...           ...  ...   \n",
       "9431              NaT  Senior Associate    2024-10-22  ...   \n",
       "9432              NaT  Senior Associate    2024-10-24  ...   \n",
       "9433              NaT  Senior Associate    2024-10-23  ...   \n",
       "9434              NaT  Senior Associate    2024-10-28  ...   \n",
       "9435              NaT  Senior Associate    2024-10-31  ...   \n",
       "\n",
       "                         Week Time Cost Center Time Initiative MonthYear  \\\n",
       "0     09/30/2024 - 10/06/2024               US      US - Admin   10/2024   \n",
       "1     09/30/2024 - 10/06/2024               US      US - Admin   10/2024   \n",
       "2     09/30/2024 - 10/06/2024               US      US - Admin   10/2024   \n",
       "3     09/30/2024 - 10/06/2024              NaN             NaN   10/2024   \n",
       "4     09/30/2024 - 10/06/2024              NaN             NaN   10/2024   \n",
       "...                       ...              ...             ...       ...   \n",
       "9431  10/21/2024 - 10/27/2024              NaN             NaN   10/2024   \n",
       "9432  10/21/2024 - 10/27/2024              NaN             NaN   10/2024   \n",
       "9433  10/21/2024 - 10/27/2024              NaN             NaN   10/2024   \n",
       "9434  10/28/2024 - 11/03/2024              NaN             NaN   10/2024   \n",
       "9435  10/28/2024 - 11/03/2024              NaN             NaN   10/2024   \n",
       "\n",
       "     Project or Admin Employee Hours Percent of Total Monthly Hours  \\\n",
       "0               Admin          192.0                       0.005208   \n",
       "1               Admin          192.0                       0.010417   \n",
       "2               Admin          192.0                       0.010417   \n",
       "3               Admin          192.0                       0.041667   \n",
       "4               Admin          192.0                       0.041667   \n",
       "...               ...            ...                            ...   \n",
       "9431            Admin          168.0                       0.000000   \n",
       "9432            Admin          168.0                       0.000000   \n",
       "9433            Admin          168.0                       0.000000   \n",
       "9434            Admin          168.0                       0.047619   \n",
       "9435            Admin          168.0                       0.047619   \n",
       "\n",
       "      Total Admin Cost Total PTO Cost Home Cost Center  \n",
       "0                  0.0           0.00               US  \n",
       "1                  0.0           0.00               US  \n",
       "2                  0.0           0.00               US  \n",
       "3                  0.0           0.00               US  \n",
       "4                  0.0           0.00               US  \n",
       "...                ...            ...              ...  \n",
       "9431               0.0         988.51          Islands  \n",
       "9432               0.0         988.51          Islands  \n",
       "9433               0.0         988.51          Islands  \n",
       "9434               0.0         988.51          Islands  \n",
       "9435               0.0         988.51          Islands  \n",
       "\n",
       "[9436 rows x 28 columns]"
      ]
     },
     "execution_count": 711,
     "metadata": {},
     "output_type": "execute_result"
    }
   ],
   "source": [
    "MonthAdminTable"
   ]
  },
  {
   "cell_type": "code",
   "execution_count": 712,
   "id": "c10396bb",
   "metadata": {},
   "outputs": [],
   "source": [
    "def CreateAdminTable(program):\n",
    "    seconddf = MonthAdminTable[MonthAdminTable['Home Cost Center']==program]  \n",
    "    table = pd.pivot_table(seconddf, index = ['Worker','Total Admin Cost','Total PTO Cost','Project','Project Plan Task'], values = 'Reported Quantity', aggfunc=\"sum\")\n",
    "    out = pd.concat([d.append(d.sum().rename(('', '', '', '', 'Total Admin & PTO Hours'))) for k, d in table.groupby('Worker')])\n",
    "    out.index = pd.MultiIndex.from_tuples(out.index)\n",
    "    return out"
   ]
  },
  {
   "cell_type": "code",
   "execution_count": 713,
   "id": "701a01f2",
   "metadata": {},
   "outputs": [],
   "source": [
    "def to_excel_AdminTable(df, file):\n",
    "    writer = pd.ExcelWriter(file, engine='openpyxl')\n",
    "    if os.path.exists(file):\n",
    "        book = openpyxl.load_workbook(file)\n",
    "        writer.book = book\n",
    "\n",
    "    df.to_excel(writer, sheet_name=\"Admin by Program\", startrow = 1)\n",
    "    writer.save()\n",
    "    writer.close()"
   ]
  },
  {
   "cell_type": "code",
   "execution_count": 714,
   "id": "248e4629",
   "metadata": {},
   "outputs": [],
   "source": [
    "def Format_AdminTable(file):\n",
    "    book = load_workbook(file)\n",
    "    sheet = book[\"Admin by Program\"] #active means last opened sheet\n",
    "    rd = sheet.row_dimensions[1]\n",
    "    rd.height = 25\n",
    "    sheet['A2']= \"Worker\"\n",
    "    sheet['B2']= \"Total Admin Cost\"\n",
    "    sheet['C2']= \"Total PTO Cost\"\n",
    "    sheet['D2']= \"Project\"\n",
    "    sheet['E2']= \"Project Plan Task\"\n",
    "    sheet['F2']= \"Admin Hours\"\n",
    "    sheet['A2'].font = Font(bold=True)\n",
    "    sheet['B2'].font = Font(bold=True)\n",
    "    sheet['C2'].font = Font(bold=True)\n",
    "    sheet['D2'].font = Font(bold=True)\n",
    "#    fontStyle = Font(size = \"20\")\n",
    "    sheet.merge_cells('A1:F1')\n",
    "    top_left_cell = sheet['A1']\n",
    "    top_right_cell = sheet['F1']\n",
    "    top_left_cell.value = timestampreport + \" Admin & PTO Summary\"\n",
    "    thin = Side(border_style=\"thin\", color=\"000000\")\n",
    "    double = Side(border_style=\"double\", color=\"000000\")\n",
    "    top_left_cell.border = Border(top=thin, left=thin, right=thin, bottom=thin)\n",
    "    top_left_cell.fill = PatternFill(\"solid\", fgColor=\"003366\")\n",
    "#    top_left_cell.fill = fill = GradientFill(stop=(\"000080\", \"FFFFFF\"))\n",
    "    top_left_cell.font  = Font(color=\"FFFFFF\", size = \"26\")\n",
    "#    top_left_cell.font = fontStyle\n",
    "    top_left_cell.alignment = Alignment(horizontal=\"center\", vertical=\"center\")\n",
    "    top_right_cell.border = Border(top=thin, left=thin, right=thin, bottom=thin)\n",
    "    sheet.column_dimensions['A'].width = 24\n",
    "    sheet.column_dimensions['B'].width = 14\n",
    "    sheet.column_dimensions['C'].width = 24\n",
    "    sheet.column_dimensions['D'].width = 62\n",
    "    sheet.column_dimensions['E'].width = 32\n",
    "    num_rows = sheet.max_row\n",
    "    curr_row = 2\n",
    "    last_col = 7\n",
    "    bluesectionrightborder = 6\n",
    "    for col in range(2, 4):\n",
    "        for row in range(2, num_rows+1):\n",
    "            sheet.cell(column=col, row=row).number_format = '\"$\"#,##0;[Red](\"$\"#,##0)'\n",
    "\n",
    "    for col in range(1, bluesectionrightborder):\n",
    "        for row in range(3, num_rows+1):\n",
    "            sheet.cell(column=col, row=row).alignment = Alignment(horizontal = 'left', vertical='top')\n",
    "            sheet.cell(column=col, row=row).fill = blueFill\n",
    "    for i in range(1, sheet.max_row + 1):\n",
    "        if sheet.cell(row=i, column=1).value == \"Worker\":\n",
    "            for j in range(1,last_col):\n",
    "                sheet.cell(column=j, row=i).font = Font(bold=True)\n",
    "                sheet.cell(column=j, row=i).border = Border(top = thin, bottom = thin)  \n",
    "                sheet.cell(column=j, row=i).fill = greyFill\n",
    "    for col in range(1, bluesectionrightborder):\n",
    "        for row in range(3, num_rows+1):\n",
    "            sheet.cell(column=col, row=row).alignment = Alignment(horizontal='left', vertical='center')\n",
    "            sheet.cell(column=col, row=row).font = Font(bold=True, size = \"12\") \n",
    "    for col in range(1, 2):\n",
    "        greystartrows = []\n",
    "        greyendrows = []\n",
    "        for i in range(3,num_rows+1):\n",
    "            if sheet.cell(row=i, column=col).value:\n",
    "                greystartrows.append(i)\n",
    "        del  greystartrows[1::2]\n",
    "        for i in range(3,num_rows+1):\n",
    "            if sheet.cell(row=i, column=col).value:\n",
    "                greyendrows.append(i-1)\n",
    "        del  greyendrows[0::2]\n",
    "    if len(greystartrows) != len(greyendrows):\n",
    "        print('mismatch')\n",
    "        print(len(greystartrows))\n",
    "        print(len(greyendrows))\n",
    "        greystartrows.pop()       \n",
    "    for col in range(1, bluesectionrightborder):\n",
    "        for row in range(3, num_rows):\n",
    "            for i in range(len(greystartrows)):\n",
    "                if row == greystartrows[i]:\n",
    "                    for row in range(greystartrows[i],greyendrows[i]):\n",
    "                        sheet.cell(column=col, row=row).fill = lightblueFill \n",
    "                try:\n",
    "                    if sheet.cell(row=greyendrows[i], column=bluesectionrightborder-1).value == \"Total Admin & PTO Hours\":\n",
    "                        sheet.cell(column=bluesectionrightborder-1, row=greyendrows[i]).fill = lightblueFill\n",
    "                except:\n",
    "                    pass\n",
    "    for i in range(1, sheet.max_row + 1):\n",
    "        if sheet.cell(row=i, column=5).value == \"Total Admin & PTO Hours\":\n",
    "            for j in range(bluesectionrightborder-1,last_col):\n",
    "                sheet.cell(column=j, row=i).font = Font(bold=True)\n",
    "                sheet.cell(column=j, row=i).border = Border(bottom=Side(style=\"double\"))  \n",
    "      \n",
    "    sheet.sheet_view.zoomScale = 100\n",
    "    sheet.freeze_panes = \"A3\"\n",
    "#    sheet.sheet_state = 'hidden'\n",
    "    book.save(file)"
   ]
  },
  {
   "cell_type": "code",
   "execution_count": 715,
   "id": "6433b871",
   "metadata": {},
   "outputs": [],
   "source": [
    "def MakeAdminTable(Group, link):\n",
    "    step1 = CreateAdminTable(Group)\n",
    "    to_excel_AdminTable(step1, link)\n",
    "    Format_AdminTable(link)"
   ]
  },
  {
   "cell_type": "markdown",
   "id": "87ac2b50",
   "metadata": {},
   "source": [
    "# Create Project Time Master"
   ]
  },
  {
   "cell_type": "code",
   "execution_count": 716,
   "id": "c0c40bd9",
   "metadata": {},
   "outputs": [],
   "source": [
    "def CreateProjectTimePivotMASTER(Group):\n",
    "#    Month_order = ['Jul 2022', 'Aug 2022', 'Sep 2022', 'Oct 2022', 'Nov 2022', 'Dec 2022', 'Jan 2023', 'Feb 2023', 'Mar 2023', 'Apr 2023', 'May 2023', 'Jun 2023', 'Jul 2023', 'Aug 2023', 'Sep 2023', 'Oct 2023', 'Nov 2023', 'Dec 2023', 'Jan 2024', 'Feb 2024', 'Mar 2024', 'Apr 2024', 'May 2024', 'Jun 2024']\n",
    "    table = pd.pivot_table(Group, index = ['Worker Cost Center', 'Worker', 'Fully Utilized', 'Actual Utilization Rate', 'Utilization Target', 'Total Project Hours', 'Needed Project Hours', 'Talent Pool', 'Project'], values = 'Total Employee Project Hours', aggfunc=\"sum\")\n",
    "#    table2 = table.reindex(Month_order, axis=1)\n",
    "    return table"
   ]
  },
  {
   "cell_type": "code",
   "execution_count": 717,
   "id": "223a73a9",
   "metadata": {},
   "outputs": [],
   "source": [
    "def add_subtotal_ProjectPivotMASTER(PivotedGroup):\n",
    "    out = pd.concat([d.append(d.sum().rename(('','','','','','','','','Total Hours'))) for k, d in PivotedGroup.groupby(level=[0,1], sort = False)])\n",
    "    out.index = pd.MultiIndex.from_tuples(out.index)\n",
    "    return out"
   ]
  },
  {
   "cell_type": "code",
   "execution_count": 718,
   "id": "b0b19dfa",
   "metadata": {},
   "outputs": [],
   "source": [
    "def to_excel_ProjectTimeMASTER(df, file):\n",
    "    writer = pd.ExcelWriter(file, engine='openpyxl')\n",
    "    if os.path.exists(file):\n",
    "        book = openpyxl.load_workbook(file)\n",
    "        writer.book = book\n",
    "\n",
    "    df.to_excel(writer, sheet_name=\"Utilization by Worker\", startrow = 1)\n",
    "    writer.save()\n",
    "    writer.close()"
   ]
  },
  {
   "cell_type": "code",
   "execution_count": 719,
   "id": "acceee38",
   "metadata": {},
   "outputs": [],
   "source": [
    "def Format_ProjectTimeMASTER(file):\n",
    "    book = load_workbook(file)\n",
    "    sheet = book[\"Utilization by Worker\"] #active means last opened sheet\n",
    "    rd = sheet.row_dimensions[1]\n",
    "    rd.height = 25\n",
    "    sheet['A2']= \"Program\"\n",
    "    sheet['B2']= \"Employee\"\n",
    "    sheet['C2']= 'Utilization Status'\n",
    "    sheet['D2']= 'Actual Utilization'\n",
    "    sheet['E2']= 'Utilization Target'\n",
    "    sheet['F2']= 'Total Project Hours'\n",
    "    sheet['G2']= 'Total Needed Hours'\n",
    "    sheet['H2']= 'Talent Pool'\n",
    "    sheet['I2']= 'Project'\n",
    "    sheet['A2'].font = Font(bold=True)\n",
    "    sheet['B2'].font = Font(bold=True)\n",
    "#    fontStyle = Font(size = \"20\")\n",
    "    sheet.merge_cells('A1:J1')\n",
    "    top_left_cell = sheet['A1']\n",
    "    top_right_cell = sheet['J1']\n",
    "    top_left_cell.value = timestampreport + \" Utilization Summary\"\n",
    "    thin = Side(border_style=\"thin\", color=\"000000\")\n",
    "    double = Side(border_style=\"double\", color=\"000000\")\n",
    "    top_left_cell.border = Border(top=thin, left=thin, right=thin, bottom=thin)\n",
    "    top_left_cell.fill = PatternFill(\"solid\", fgColor=\"003366\")\n",
    "#    top_left_cell.fill = fill = GradientFill(stop=(\"000080\", \"FFFFFF\"))\n",
    "    top_left_cell.font  = Font(color=\"FFFFFF\", size = \"26\")\n",
    "#    top_left_cell.font = fontStyle\n",
    "    top_left_cell.alignment = Alignment(horizontal=\"center\", vertical=\"center\")\n",
    "    top_right_cell.border = Border(top=thin, left=thin, right=thin, bottom=thin)\n",
    "    sheet.column_dimensions['A'].width = 12\n",
    "    sheet.column_dimensions['B'].width = 20\n",
    "    sheet.column_dimensions['C'].width = 16\n",
    "    sheet.column_dimensions['D'].width = 16\n",
    "    sheet.column_dimensions['E'].width = 16\n",
    "    sheet.column_dimensions['F'].width = 16\n",
    "    sheet.column_dimensions['G'].width = 16\n",
    "    sheet.column_dimensions['I'].width = 55\n",
    "    sheet.column_dimensions['H'].width = 16\n",
    "    num_rows = sheet.max_row\n",
    "    curr_row = 2\n",
    "    last_col = 12\n",
    "    bluesectionrightborder = 9\n",
    "    for col in range(4, 6):\n",
    "        for row in range(2, num_rows+1):\n",
    "            sheet.cell(column=col, row=row).number_format = '0.00%'\n",
    "    for col in range(1, bluesectionrightborder):\n",
    "        for row in range(3, num_rows+1):\n",
    "            sheet.cell(column=col, row=row).alignment = Alignment(horizontal='left', vertical='center')\n",
    "            sheet.cell(column=col, row=row).font = Font(bold=True, size = \"12\")\n",
    "\n",
    "    for col in range(1, bluesectionrightborder):\n",
    "        for row in range(3, num_rows+1):\n",
    "            sheet.cell(column=col, row=row).alignment = Alignment(horizontal = 'left', vertical='top')\n",
    "            sheet.cell(column=col, row=row).fill = blueFill\n",
    "    for i in range(1, sheet.max_row + 1):\n",
    "        if sheet.cell(row=i, column=1).value == \"Program\":\n",
    "            for j in range(1,last_col-1):\n",
    "                sheet.cell(column=j, row=i).font = Font(bold=True)\n",
    "                sheet.cell(column=j, row=i).border = Border(top = thin, bottom = thin)  \n",
    "                sheet.cell(column=j, row=i).fill = greyFill\n",
    "    for i in range(1, sheet.max_row + 1):\n",
    "        if sheet.cell(row=i, column=9).value == \"Total Hours\":\n",
    "            for j in range(1,last_col-1):\n",
    "                sheet.cell(column=j, row=i).font = Font(bold=True)\n",
    "                sheet.cell(column=j, row=i).border = Border(bottom=Side(style=\"double\"))  \n",
    "    for col in range(1, 2):\n",
    "        greystartrows = []\n",
    "        greyendrows = []\n",
    "        for i in range(3,num_rows+1):\n",
    "            if sheet.cell(row=i, column=col).value:\n",
    "                greystartrows.append(i)\n",
    "        del  greystartrows[1::2]\n",
    "        for i in range(3,num_rows+1):\n",
    "            if sheet.cell(row=i, column=col).value:\n",
    "                greyendrows.append(i-1)\n",
    "        del  greyendrows[0::2]\n",
    "\n",
    "        \n",
    "    if len(greystartrows) != len(greyendrows):\n",
    "        print('mismatch')\n",
    "        print(len(greystartrows))\n",
    "        print(len(greyendrows))\n",
    "        greystartrows.pop()\n",
    "    for col in range(1, bluesectionrightborder):\n",
    "        for row in range(3, num_rows):\n",
    "            for i in range(len(greystartrows)):\n",
    "                if row == greystartrows[i]:\n",
    "                    for row in range(greystartrows[i],greyendrows[i]):\n",
    "                        sheet.cell(column=col, row=row).fill = lightblueFill \n",
    "                try:\n",
    "                    if sheet.cell(row=greyendrows[i], column=bluesectionrightborder).value == \"Total Hours\":\n",
    "                        sheet.cell(column=bluesectionrightborder-1, row=greyendrows[i]).fill = lightblueFill\n",
    "                except:\n",
    "                    pass\n",
    "      \n",
    "    for col in range(1, bluesectionrightborder):\n",
    "        for row in range(3, num_rows+1):\n",
    "            sheet.cell(column=col, row=row).alignment = Alignment(horizontal='left', vertical='center')\n",
    "            sheet.cell(column=col, row=row).font = Font(bold=True, size = \"12\")    \n",
    "    sheet.sheet_view.zoomScale = 100\n",
    "    sheet.freeze_panes = \"H3\"\n",
    "#    sheet.sheet_state = 'hidden'\n",
    "    book.save(file)\n"
   ]
  },
  {
   "cell_type": "code",
   "execution_count": 720,
   "id": "caca4e7e",
   "metadata": {},
   "outputs": [],
   "source": [
    "def MakeProjectTimeMASTER(link):\n",
    "    step2 = CreateProjectTimePivotMASTER(EmployeeTimeProjectLookupTable)\n",
    "    step3 = add_subtotal_ProjectPivotMASTER(step2)\n",
    "    to_excel_ProjectTimeMASTER(step3, link)\n",
    "    Format_ProjectTimeMASTER(link)\n"
   ]
  },
  {
   "cell_type": "code",
   "execution_count": null,
   "id": "08c00c0c",
   "metadata": {},
   "outputs": [],
   "source": []
  },
  {
   "cell_type": "markdown",
   "id": "d41b5f82",
   "metadata": {},
   "source": [
    "# Add ALL COSTS ADMIN AND PROJECT FOR RMI"
   ]
  },
  {
   "cell_type": "code",
   "execution_count": 721,
   "id": "eaaf5a76",
   "metadata": {},
   "outputs": [],
   "source": [
    "\n",
    "\n",
    "AdminCostsTable = pd.pivot_table(AllCostsAllocatedPTOAccruals, index = ['Cost Center','Worker'], columns = ['Project PTO or Admin'], values = 'Total Cost', aggfunc=\"sum\")\n"
   ]
  },
  {
   "cell_type": "code",
   "execution_count": 722,
   "id": "0a21ede6",
   "metadata": {},
   "outputs": [],
   "source": [
    "def add_subtotal_Expenses(PivotedGroup):\n",
    "    out = pd.concat([d.append(d.sum().rename(('Total Cost', ''))) for k, d in PivotedGroup.groupby('Cost Center')])\n",
    "    out.index = pd.MultiIndex.from_tuples(out.index)\n",
    "    return out"
   ]
  },
  {
   "cell_type": "code",
   "execution_count": 723,
   "id": "baf7bc66",
   "metadata": {},
   "outputs": [],
   "source": [
    "def to_excel_ProjectExpenses(df, file):\n",
    "    writer = pd.ExcelWriter(file, engine='openpyxl')\n",
    "    if os.path.exists(file):\n",
    "        book = openpyxl.load_workbook(file)\n",
    "        writer.book = book\n",
    "\n",
    "    df.to_excel(writer, sheet_name=\"Expenses by Program\", startrow = 1)\n",
    "    writer.save()\n",
    "    writer.close()"
   ]
  },
  {
   "cell_type": "code",
   "execution_count": 724,
   "id": "11943f19",
   "metadata": {},
   "outputs": [],
   "source": [
    "def Format_ProjectExpenses(file):\n",
    "    book = load_workbook(file)\n",
    "    sheet = book[\"Expenses by Program\"] #active means last opened sheet\n",
    "    rd = sheet.row_dimensions[1]\n",
    "    rd.height = 25\n",
    "    sheet['A2']= \"Program\"\n",
    "    sheet['B2']= \"Employee\"\n",
    "    sheet['A2'].font = Font(bold=True)\n",
    "    sheet['B2'].font = Font(bold=True)\n",
    "#    fontStyle = Font(size = \"20\")\n",
    "    sheet.merge_cells('A1:E1')\n",
    "    top_left_cell = sheet['A1']\n",
    "    top_right_cell = sheet['E1']\n",
    "    top_left_cell.value = timestampreport + \" Expense Summary\"\n",
    "    thin = Side(border_style=\"thin\", color=\"000000\")\n",
    "    double = Side(border_style=\"double\", color=\"000000\")\n",
    "    top_left_cell.border = Border(top=thin, left=thin, right=thin, bottom=thin)\n",
    "    top_left_cell.fill = PatternFill(\"solid\", fgColor=\"003366\")\n",
    "#    top_left_cell.fill = fill = GradientFill(stop=(\"000080\", \"FFFFFF\"))\n",
    "    top_left_cell.font  = Font(color=\"FFFFFF\", size = \"26\")\n",
    "#    top_left_cell.font = fontStyle\n",
    "    top_left_cell.alignment = Alignment(horizontal=\"center\", vertical=\"center\")\n",
    "    top_right_cell.border = Border(top=thin, left=thin, right=thin, bottom=thin)\n",
    "    sheet.column_dimensions['A'].width = 24\n",
    "    sheet.column_dimensions['B'].width = 24\n",
    "    sheet.column_dimensions['C'].width = 13\n",
    "    sheet.column_dimensions['D'].width = 16\n",
    "    sheet.column_dimensions['E'].width = 16\n",
    "    sheet.column_dimensions['F'].width = 16\n",
    "    num_rows = sheet.max_row\n",
    "    curr_row = 2\n",
    "    last_col = 6\n",
    "    bluesectionrightborder = 3\n",
    "    for col in range(2, last_col):\n",
    "        for row in range(2, num_rows+1):\n",
    "            sheet.cell(column=col, row=row).number_format = '\"$\"#,##0;[Red](\"$\"#,##0)'\n",
    "\n",
    "    for col in range(1, bluesectionrightborder):\n",
    "        for row in range(3, num_rows+1):\n",
    "            sheet.cell(column=col, row=row).alignment = Alignment(horizontal = 'left', vertical='top')\n",
    "            sheet.cell(column=col, row=row).fill = blueFill\n",
    "    for i in range(1, sheet.max_row + 1):\n",
    "        if sheet.cell(row=i, column=1).value == \"Program\":\n",
    "            for j in range(1,last_col):\n",
    "                sheet.cell(column=j, row=i).font = Font(bold=True)\n",
    "                sheet.cell(column=j, row=i).border = Border(top = thin, bottom = thin)  \n",
    "                sheet.cell(column=j, row=i).fill = greyFill\n",
    "    for i in range(1, sheet.max_row + 1):\n",
    "        if sheet.cell(row=i, column=1).value == \"Total Cost\":\n",
    "            for j in range(1,last_col):\n",
    "                sheet.cell(column=j, row=i).font = Font(bold=True)\n",
    "                sheet.cell(column=j, row=i).border = Border(bottom=Side(style=\"double\"))  \n",
    "      \n",
    "    sheet.sheet_view.zoomScale = 100\n",
    "    sheet.freeze_panes = \"B3\"\n",
    "#    sheet.sheet_state = 'hidden'\n",
    "    book.save(file)"
   ]
  },
  {
   "cell_type": "code",
   "execution_count": 725,
   "id": "ce1acb79",
   "metadata": {},
   "outputs": [],
   "source": [
    "def MakeProjectExpensesMASTER(link):\n",
    "    step3 = add_subtotal_Expenses(AdminCostsTable)\n",
    "    to_excel_ProjectExpenses(step3, link)\n",
    "    Format_ProjectExpenses(link)"
   ]
  },
  {
   "cell_type": "code",
   "execution_count": 726,
   "id": "908cdf48",
   "metadata": {},
   "outputs": [
    {
     "data": {
      "text/plain": [
       "'Oct-2024'"
      ]
     },
     "execution_count": 726,
     "metadata": {},
     "output_type": "execute_result"
    }
   ],
   "source": [
    "timestampreport"
   ]
  },
  {
   "cell_type": "markdown",
   "id": "f4beea01",
   "metadata": {},
   "source": [
    "# Make ALL PROGRAM REPORTS"
   ]
  },
  {
   "cell_type": "code",
   "execution_count": 727,
   "id": "fe4ebe33",
   "metadata": {},
   "outputs": [
    {
     "name": "stdout",
     "output_type": "stream",
     "text": [
      "{41, 26, 29, 30}\n",
      "{43, 12, 47, 51, 52}\n",
      "{11}\n",
      "{32, 4, 7, 40, 12, 76, 15, 87, 24, 94}\n",
      "{10, 21, 5, 30}\n",
      "set()\n",
      "{13}\n",
      "{10, 14}\n",
      "{21}\n",
      "{36, 15}\n",
      "{34, 5, 6, 8, 9, 19, 22, 29}\n",
      "set()\n",
      "set()\n",
      "{51, 26, 35}\n",
      "set()\n",
      "set()\n",
      "{12}\n",
      "set()\n",
      "set()\n",
      "{8, 4}\n",
      "set()\n",
      "{15}\n",
      "{6, 14, 17, 21, 24, 26}\n",
      "{10, 4}\n",
      "set()\n",
      "mismatch\n",
      "36\n",
      "35\n",
      "mismatch\n",
      "24\n",
      "23\n",
      "mismatch\n",
      "14\n",
      "13\n",
      "mismatch\n",
      "17\n",
      "16\n",
      "mismatch\n",
      "17\n",
      "16\n",
      "mismatch\n",
      "7\n",
      "6\n",
      "mismatch\n",
      "5\n",
      "4\n",
      "mismatch\n",
      "17\n",
      "16\n",
      "mismatch\n",
      "12\n",
      "11\n",
      "mismatch\n",
      "21\n",
      "20\n",
      "mismatch\n",
      "35\n",
      "34\n",
      "mismatch\n",
      "19\n",
      "18\n",
      "mismatch\n",
      "24\n",
      "23\n",
      "mismatch\n",
      "14\n",
      "13\n",
      "mismatch\n",
      "7\n",
      "6\n",
      "mismatch\n",
      "29\n",
      "28\n",
      "mismatch\n",
      "12\n",
      "11\n",
      "mismatch\n",
      "4\n",
      "3\n",
      "mismatch\n",
      "17\n",
      "16\n",
      "mismatch\n",
      "12\n",
      "11\n",
      "mismatch\n",
      "5\n",
      "4\n",
      "mismatch\n",
      "1\n",
      "0\n"
     ]
    }
   ],
   "source": [
    "\n",
    "for i in Programs:\n",
    "    try:\n",
    "        MakeMISSINGTIME(i, str(Timepath+'/' + i  + ' - ' +timestampreport + filename))\n",
    "    except:\n",
    "        pass\n",
    "\n",
    "for i in Programs:\n",
    "    try:\n",
    "        MakeTIMEREPORT(i, str(Timepath+'/' + i + ' - ' +timestampreport + filename))\n",
    "    except:\n",
    "        pass\n",
    "\n",
    "for i in Programs:\n",
    "    try:\n",
    "        MakeProjectTime(i, str(Timepath+'/' + i + ' - ' +timestampreport + filename))\n",
    "    except:\n",
    "        pass\n",
    "\n",
    "\n",
    "for i in Programs:\n",
    "    try:\n",
    "        MakeProjectvsAdminTable(i, str(Timepath+'/' + i + ' - ' +timestampreport + filename))\n",
    "    except:\n",
    "        pass\n",
    "\n",
    "for i in Programs:\n",
    "    try:\n",
    "        MakeAdminTable(i, str(Timepath+'/' + i + ' - ' +timestampreport + filename))\n",
    "    except:\n",
    "        pass\n",
    "\n",
    "for i in Programs:\n",
    "    try:\n",
    "        MakeFundingSourceRules(i, str(Timepath+'/' + i + ' - ' +timestampreport + filename))\n",
    "    except:\n",
    "        pass\n",
    "    \n",
    "for i in Programs:\n",
    "    try:\n",
    "        MakePTOTable(i, str(Timepath+'/' + i + ' - ' +timestampreport + filename))\n",
    "    except:\n",
    "        pass\n",
    "\n",
    "\n",
    "\n",
    "for i in Programs:\n",
    "    try:\n",
    "        MakeTCTable(i, str(Timepath+'/' + i + ' - ' +timestampreport + filename))\n",
    "    except:\n",
    "        pass\n"
   ]
  },
  {
   "cell_type": "code",
   "execution_count": 728,
   "id": "ec92f0d0-3f93-4cc6-ad87-b8625f4d8342",
   "metadata": {},
   "outputs": [],
   "source": [
    "#for i in Programs:\n",
    "#    try:\n",
    "#        MakePTOQ1Table(i, str(Timepath+'/' + i + ' - ' +timestampreport + filename))\n",
    "#    except:\n",
    "#        pass"
   ]
  },
  {
   "cell_type": "markdown",
   "id": "5e90f7f9",
   "metadata": {},
   "source": [
    "# MAKE RMI REPORT"
   ]
  },
  {
   "cell_type": "code",
   "execution_count": null,
   "id": "294af2c5",
   "metadata": {},
   "outputs": [],
   "source": []
  },
  {
   "cell_type": "code",
   "execution_count": 729,
   "id": "a2296991",
   "metadata": {},
   "outputs": [],
   "source": [
    "#MakeTIMEREPORTMASTER(RockyMtnDF,str(Timepath+'/' + 'Rocky Mountain Institute'+' - ' + timestampreport + filename))\n",
    "#MakeProjectTimeMASTER(str(Timepath+'/' + 'Rocky Mountain Institute'+' - ' + timestampreport + filename))\n",
    "#MakeProjectExpensesMASTER(str(Timepath+'/' + 'Rocky Mountain Institute'+' - ' + timestampreport + filename))"
   ]
  },
  {
   "cell_type": "markdown",
   "id": "55c51b07",
   "metadata": {},
   "source": [
    "# TIE OUT TOTALS"
   ]
  },
  {
   "cell_type": "code",
   "execution_count": 730,
   "id": "623aa000",
   "metadata": {},
   "outputs": [
    {
     "data": {
      "text/plain": [
       "8526"
      ]
     },
     "execution_count": 730,
     "metadata": {},
     "output_type": "execute_result"
    }
   ],
   "source": [
    "len(UnderUtilizedProgramTime)"
   ]
  },
  {
   "cell_type": "code",
   "execution_count": 731,
   "id": "1d6d9a7d",
   "metadata": {},
   "outputs": [
    {
     "data": {
      "text/plain": [
       "2285"
      ]
     },
     "execution_count": 731,
     "metadata": {},
     "output_type": "execute_result"
    }
   ],
   "source": [
    "len(FullyUtilizedProgramTime)"
   ]
  },
  {
   "cell_type": "markdown",
   "id": "29f908a3",
   "metadata": {},
   "source": [
    "Review Totals"
   ]
  },
  {
   "cell_type": "code",
   "execution_count": 732,
   "id": "3f83c345",
   "metadata": {},
   "outputs": [
    {
     "data": {
      "text/plain": [
       "6785293.47"
      ]
     },
     "execution_count": 732,
     "metadata": {},
     "output_type": "execute_result"
    }
   ],
   "source": [
    "ALLSALARIES = RMISalariesDF['Net Amount'].sum() + GPSalariesDF['Net Amount'].sum() + BeijingSalariesTotal\n",
    "ALLSALARIES"
   ]
  },
  {
   "cell_type": "code",
   "execution_count": 733,
   "id": "df52c0d5",
   "metadata": {},
   "outputs": [
    {
     "data": {
      "text/plain": [
       "6494364.1"
      ]
     },
     "execution_count": 733,
     "metadata": {},
     "output_type": "execute_result"
    }
   ],
   "source": [
    "RMISalariesDF['Net Amount'].sum() + GPSalariesDF['Net Amount'].sum()"
   ]
  },
  {
   "cell_type": "code",
   "execution_count": 734,
   "id": "66be2b2f",
   "metadata": {},
   "outputs": [
    {
     "data": {
      "text/plain": [
       "5789336.26"
      ]
     },
     "execution_count": 734,
     "metadata": {},
     "output_type": "execute_result"
    }
   ],
   "source": [
    "RMISalariesDF['Net Amount'].sum()"
   ]
  },
  {
   "cell_type": "code",
   "execution_count": 735,
   "id": "fa0b5fcb",
   "metadata": {},
   "outputs": [
    {
     "data": {
      "text/plain": [
       "705027.84"
      ]
     },
     "execution_count": 735,
     "metadata": {},
     "output_type": "execute_result"
    }
   ],
   "source": [
    "GPSalariesDF['Net Amount'].sum()"
   ]
  },
  {
   "cell_type": "code",
   "execution_count": 736,
   "id": "6756153c",
   "metadata": {},
   "outputs": [
    {
     "data": {
      "text/plain": [
       "290929.37000000005"
      ]
     },
     "execution_count": 736,
     "metadata": {},
     "output_type": "execute_result"
    }
   ],
   "source": [
    "BeijingSalariesTotal"
   ]
  },
  {
   "cell_type": "code",
   "execution_count": 737,
   "id": "d95e3f38",
   "metadata": {},
   "outputs": [
    {
     "data": {
      "text/plain": [
       "6785293.47"
      ]
     },
     "execution_count": 737,
     "metadata": {},
     "output_type": "execute_result"
    }
   ],
   "source": [
    "ALLSALARIES"
   ]
  },
  {
   "cell_type": "code",
   "execution_count": 738,
   "id": "f575420f",
   "metadata": {},
   "outputs": [],
   "source": [
    "ALLBENEFITS = GP_RMI_BenefitsTotal + BeijingBenefitsTotal"
   ]
  },
  {
   "cell_type": "code",
   "execution_count": 739,
   "id": "b0accc71",
   "metadata": {},
   "outputs": [
    {
     "data": {
      "text/plain": [
       "1582198.5400000003"
      ]
     },
     "execution_count": 739,
     "metadata": {},
     "output_type": "execute_result"
    }
   ],
   "source": [
    "GP_RMI_BenefitsTotal"
   ]
  },
  {
   "cell_type": "code",
   "execution_count": 740,
   "id": "28f943e5",
   "metadata": {},
   "outputs": [
    {
     "data": {
      "text/plain": [
       "88038.72"
      ]
     },
     "execution_count": 740,
     "metadata": {},
     "output_type": "execute_result"
    }
   ],
   "source": [
    "BeijingBenefitsTotal"
   ]
  },
  {
   "cell_type": "code",
   "execution_count": 741,
   "id": "287a24c7",
   "metadata": {},
   "outputs": [
    {
     "data": {
      "text/plain": [
       "1670237.2600000002"
      ]
     },
     "execution_count": 741,
     "metadata": {},
     "output_type": "execute_result"
    }
   ],
   "source": [
    "ALLBENEFITS"
   ]
  },
  {
   "cell_type": "code",
   "execution_count": 742,
   "id": "9b7ce6c5",
   "metadata": {},
   "outputs": [],
   "source": [
    "ALLSHARED = GP_RMI_SharedTotal + BeijingSharedTotal"
   ]
  },
  {
   "cell_type": "code",
   "execution_count": null,
   "id": "d3f7c281-9e3a-4c4e-a4be-aaa85ada8eb8",
   "metadata": {},
   "outputs": [],
   "source": []
  },
  {
   "cell_type": "code",
   "execution_count": 743,
   "id": "63151fb6",
   "metadata": {},
   "outputs": [
    {
     "data": {
      "text/plain": [
       "801669.45"
      ]
     },
     "execution_count": 743,
     "metadata": {},
     "output_type": "execute_result"
    }
   ],
   "source": [
    "GP_RMI_SharedTotal"
   ]
  },
  {
   "cell_type": "code",
   "execution_count": 744,
   "id": "c2fac541",
   "metadata": {},
   "outputs": [
    {
     "data": {
      "text/plain": [
       "57437.59000000001"
      ]
     },
     "execution_count": 744,
     "metadata": {},
     "output_type": "execute_result"
    }
   ],
   "source": [
    "BeijingSharedTotal"
   ]
  },
  {
   "cell_type": "code",
   "execution_count": 745,
   "id": "fb60e85f",
   "metadata": {},
   "outputs": [
    {
     "data": {
      "text/plain": [
       "859107.0399999999"
      ]
     },
     "execution_count": 745,
     "metadata": {},
     "output_type": "execute_result"
    }
   ],
   "source": [
    "ALLSHARED"
   ]
  },
  {
   "cell_type": "code",
   "execution_count": 746,
   "id": "05c14a7f",
   "metadata": {},
   "outputs": [
    {
     "data": {
      "text/plain": [
       "781159.4615469724"
      ]
     },
     "execution_count": 746,
     "metadata": {},
     "output_type": "execute_result"
    }
   ],
   "source": [
    "AllSalariesFinal['Bonus Final'].sum()\n",
    "\n"
   ]
  },
  {
   "cell_type": "code",
   "execution_count": 747,
   "id": "7d8f496b",
   "metadata": {},
   "outputs": [
    {
     "data": {
      "text/plain": [
       "10095797.231546972"
      ]
     },
     "execution_count": 747,
     "metadata": {},
     "output_type": "execute_result"
    }
   ],
   "source": [
    "Allcosts = AllSalariesFinal['Bonus Final'].sum() + ALLSHARED.sum() + ALLBENEFITS.sum() + ALLSALARIES.sum()\n",
    "Allcosts"
   ]
  },
  {
   "cell_type": "code",
   "execution_count": null,
   "id": "9f020195",
   "metadata": {},
   "outputs": [],
   "source": []
  },
  {
   "cell_type": "code",
   "execution_count": 748,
   "id": "4b156874",
   "metadata": {},
   "outputs": [
    {
     "data": {
      "text/plain": [
       "200754.75"
      ]
     },
     "execution_count": 748,
     "metadata": {},
     "output_type": "execute_result"
    }
   ],
   "source": [
    "AllSalariesFinal['Consulting Per Employee'].sum()"
   ]
  },
  {
   "cell_type": "markdown",
   "id": "8e52384b",
   "metadata": {},
   "source": [
    "Review Headcounts"
   ]
  },
  {
   "cell_type": "code",
   "execution_count": 749,
   "id": "6652d87f",
   "metadata": {},
   "outputs": [
    {
     "data": {
      "text/plain": [
       "606"
      ]
     },
     "execution_count": 749,
     "metadata": {},
     "output_type": "execute_result"
    }
   ],
   "source": [
    "len(RMISalariesDF)"
   ]
  },
  {
   "cell_type": "code",
   "execution_count": 750,
   "id": "b7a8b3b0",
   "metadata": {},
   "outputs": [
    {
     "data": {
      "text/plain": [
       "73"
      ]
     },
     "execution_count": 750,
     "metadata": {},
     "output_type": "execute_result"
    }
   ],
   "source": [
    "GPHeadcount"
   ]
  },
  {
   "cell_type": "code",
   "execution_count": 751,
   "id": "27392037",
   "metadata": {},
   "outputs": [
    {
     "data": {
      "text/plain": [
       "33"
      ]
     },
     "execution_count": 751,
     "metadata": {},
     "output_type": "execute_result"
    }
   ],
   "source": [
    "BeijingEmployeeCount"
   ]
  },
  {
   "cell_type": "code",
   "execution_count": 752,
   "id": "e375d0f1",
   "metadata": {},
   "outputs": [
    {
     "data": {
      "text/plain": [
       "33"
      ]
     },
     "execution_count": 752,
     "metadata": {},
     "output_type": "execute_result"
    }
   ],
   "source": [
    "BeijingEmployeeCount"
   ]
  },
  {
   "cell_type": "code",
   "execution_count": null,
   "id": "2551830d",
   "metadata": {},
   "outputs": [],
   "source": []
  },
  {
   "cell_type": "code",
   "execution_count": null,
   "id": "66680f40",
   "metadata": {},
   "outputs": [],
   "source": []
  },
  {
   "cell_type": "code",
   "execution_count": null,
   "id": "7b376136",
   "metadata": {},
   "outputs": [],
   "source": []
  },
  {
   "cell_type": "code",
   "execution_count": null,
   "id": "6e5e3bea",
   "metadata": {},
   "outputs": [],
   "source": []
  },
  {
   "cell_type": "code",
   "execution_count": null,
   "id": "9cb5dffe-8824-4ba8-a010-559f93d1455c",
   "metadata": {},
   "outputs": [],
   "source": []
  },
  {
   "cell_type": "code",
   "execution_count": null,
   "id": "aeef588f-f668-41f3-a2ea-2b790b5089a7",
   "metadata": {},
   "outputs": [],
   "source": []
  },
  {
   "cell_type": "code",
   "execution_count": null,
   "id": "a5373472-d42e-4106-817f-53119bdaea2f",
   "metadata": {},
   "outputs": [],
   "source": []
  },
  {
   "cell_type": "code",
   "execution_count": null,
   "id": "af726c98-6da5-4ecb-9c9c-084810f727ea",
   "metadata": {},
   "outputs": [],
   "source": []
  }
 ],
 "metadata": {
  "kernelspec": {
   "display_name": "Python 3 (ipykernel)",
   "language": "python",
   "name": "python3"
  },
  "language_info": {
   "codemirror_mode": {
    "name": "ipython",
    "version": 3
   },
   "file_extension": ".py",
   "mimetype": "text/x-python",
   "name": "python",
   "nbconvert_exporter": "python",
   "pygments_lexer": "ipython3",
   "version": "3.9.19"
  }
 },
 "nbformat": 4,
 "nbformat_minor": 5
}
