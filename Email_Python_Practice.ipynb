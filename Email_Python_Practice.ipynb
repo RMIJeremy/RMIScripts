{
 "cells": [
  {
   "cell_type": "code",
   "execution_count": 1,
   "metadata": {},
   "outputs": [
    {
     "name": "stdout",
     "output_type": "stream",
     "text": [
      "Requirement already satisfied: pywin32 in c:\\users\\jerem\\anaconda3\\lib\\site-packages (227)\n",
      "Note: you may need to restart the kernel to use updated packages.\n"
     ]
    }
   ],
   "source": [
    "pip install pywin32"
   ]
  },
  {
   "cell_type": "markdown",
   "metadata": {},
   "source": [
    "# Instructions!!"
   ]
  },
  {
   "cell_type": "code",
   "execution_count": 2,
   "metadata": {},
   "outputs": [],
   "source": [
    "# Change name of \"DocName\" and \"Month\" and change between close and preclose email language depending on which file you are sending\n",
    "#Then run!"
   ]
  },
  {
   "cell_type": "code",
   "execution_count": 3,
   "metadata": {},
   "outputs": [],
   "source": [
    "import win32com.client"
   ]
  },
  {
   "cell_type": "code",
   "execution_count": 4,
   "metadata": {},
   "outputs": [],
   "source": [
    "outlook = win32com.client.Dispatch('outlook.application')"
   ]
  },
  {
   "cell_type": "code",
   "execution_count": 5,
   "metadata": {},
   "outputs": [],
   "source": [
    "#Select the first DocName during Preclass.  Select the 2nd after Close.  \n",
    "\n",
    "#DocName = \" (PRECLOSE-FOR RECLASS)\" \n",
    "\n",
    "DocName = \" - Aug_\" "
   ]
  },
  {
   "cell_type": "code",
   "execution_count": 6,
   "metadata": {},
   "outputs": [],
   "source": [
    "Month = \"2024\""
   ]
  },
  {
   "cell_type": "code",
   "execution_count": 7,
   "metadata": {},
   "outputs": [
    {
     "data": {
      "text/plain": [
       "'def email_attachment(addresses, attachment):\\n    mail = outlook.CreateItem(0)\\n    mail.To = addresses\\n    mail.Subject = \\'Detail Trans \\'+ Month\\n    mail.HTMLBody = \\'<h3>Good Afternoon, \\r\\n\\nAttached are your Detail Transactions which include all FY2023 financial activity through the June pre-close.  This is being sent for a 2nd time to include our \"Pro-Forma\" journal lines which show the grant drawdowns through today for the June close.  Please replace the previous file with this one. The deadline for FY23 reclasses is 7/27/23.  \\r\\nThank you for your attention. \\r\\n\\n -Jeremy</h3>\\'\\n    mail.Body = \\'Good Afternoon, \\r\\n\\nAttached are your Detail Transactions which include all FY2023 financial activity through the June pre-close.  This is being sent for a 2nd time to include our \"Pro-Forma\" journal lines which show the grant drawdowns through today for the June close.  Please replace the previous file with this one. The deadline for FY23 reclasses is 7/27/23.  \\r\\nThank you for your attention. \\r\\n\\n -Jeremy\\'\\n    mail.Attachments.Add(\\'C:\\\\Users\\\\jerem\\\\anaconda3\\\\envs\\\\Code\\\\RMICODING\\\\Outputs\\\\Detail_Trans\\\\\\'+attachment+\\'.xlsx\\')\\n    mail.CC = \\'junruh@rmi.org; ehuffines@rmi.org; tlutz@rmi.org\\'\\n    mail.Send()\\n'"
      ]
     },
     "execution_count": 7,
     "metadata": {},
     "output_type": "execute_result"
    }
   ],
   "source": [
    "#USE THIS VERSION FOR PRECLOSE\n",
    "\n",
    "'''def email_attachment(addresses, attachment):\n",
    "    mail = outlook.CreateItem(0)\n",
    "    mail.To = addresses\n",
    "    mail.Subject = 'Detail Trans '+ Month\n",
    "    mail.HTMLBody = '<h3>Good Afternoon, \\r\\n\\nAttached are your Detail Transactions which include all FY2023 financial activity through the June pre-close.  This is being sent for a 2nd time to include our \"Pro-Forma\" journal lines which show the grant drawdowns through today for the June close.  Please replace the previous file with this one. The deadline for FY23 reclasses is 7/27/23.  \\r\\nThank you for your attention. \\r\\n\\n -Jeremy</h3>'\n",
    "    mail.Body = 'Good Afternoon, \\r\\n\\nAttached are your Detail Transactions which include all FY2023 financial activity through the June pre-close.  This is being sent for a 2nd time to include our \"Pro-Forma\" journal lines which show the grant drawdowns through today for the June close.  Please replace the previous file with this one. The deadline for FY23 reclasses is 7/27/23.  \\r\\nThank you for your attention. \\r\\n\\n -Jeremy'\n",
    "    mail.Attachments.Add('C:\\\\Users\\\\jerem\\\\anaconda3\\\\envs\\\\Code\\\\RMICODING\\\\Outputs\\\\Detail_Trans\\\\'+attachment+'.xlsx')\n",
    "    mail.CC = 'junruh@rmi.org; ehuffines@rmi.org; tlutz@rmi.org'\n",
    "    mail.Send()\n",
    "'''"
   ]
  },
  {
   "cell_type": "code",
   "execution_count": 8,
   "metadata": {},
   "outputs": [],
   "source": [
    "#USE THIS VERSION FOR CLOSE\n",
    "\n",
    "\n",
    "def email_attachment(addresses, attachment):\n",
    "    mail = outlook.CreateItem(0)\n",
    "    mail.To = addresses\n",
    "    mail.Subject = 'Detail Trans '+ Month\n",
    "    mail.HTMLBody = '<h3>Good Morning, \\r\\n\\nAttached are your FY25 Detail Transactions through the August FINAL close. \\r\\nThank you, \\r\\n\\n -Jeremy</h3>'\n",
    "    mail.Body = 'Good Morning, \\r\\n\\nAttached are your FY25 Detail Transactions through the August FINAL close. \\r\\nThank you, \\r\\n\\n -Jeremy'\n",
    "    mail.Attachments.Add('C:\\\\Users\\\\jerem\\\\anaconda3\\\\envs\\\\Code\\\\RMICODING\\\\Outputs\\\\Detail_Trans\\\\'+attachment+'.xlsx')\n",
    "    mail.CC = 'junruh@rmi.org; ehuffines@rmi.org; tlutz@rmi.org; molly.brown@rmi.org'\n",
    "    mail.Send()\n"
   ]
  },
  {
   "cell_type": "code",
   "execution_count": 9,
   "metadata": {},
   "outputs": [],
   "source": [
    "test_group = ['jeremy.h.wendt@gmail.com']\n",
    "D3_group = ['relkins@rmi.org', 'crosen@third-derivative.org', 'christi.widmar@rmi.org']\n",
    "CFB_group = ['mrichard@rmi.org', 'kraley@rmi.org', 'jessica.ciemniecki@rmi.org', 'mhenchen@rmi.org', 'daniel.scullin@rmi.org']\n",
    "CFM_group = ['ekmccook@rmi.org', 'ian.peters@rmi.org']\n",
    "China_group = ['qsun@rmi.org', 'yhao@RMI.org', 'andrea.peng@RMI.org']\n",
    "CAI_group = ['goneill@rmi.org', 'ecarvell@rmi.org', 'megan.dearden@rmi.org']\n",
    "CI_group = ['agensterblum@RMI.org', 'zlittle@rmi.org']\n",
    "Dev_group = ['gyang@rmi.org']\n",
    "GS_group = ['sbackstrom@RMI.org', 'aschwartze@rmi.org', 'kbunker@rmi.org', 'lriegler@rmi.org',  'msteege@rmi.org','esantana@rmi.org', 'sandy.sechang@rmi.org', 'tsmith@rmi.org', 'shubha.rao@rmi.org']\n",
    "Finance_group = ['jmitchell@rmi.org', 'bohanlon@rmi.org', 'kcrouch-hess@rmi.org', 'gabrielle.couderc@rmi.org']\n",
    "India_group = ['mabramczyk@rmi.org', 'aghate@rmi.org', 'ariana.gould@rmi.org', 'ian.peters@rmi.org']\n",
    "SAE_group = ['emilywhite@rmi.org']\n",
    "UT_group = ['sabbott@rmi.org', 'capria.jaussen@rmi.org']\n",
    "US_group = ['lguccione@rmi.org', 'capria.jaussen@rmi.org', 'jcorvidae@rmi.org']\n",
    "CFE_group = ['mdyson@rmi.org', 'clingham@rmi.org', 'sandy.sechang@rmi.org', 'clare.mengebier@rmi.org']\n",
    "Canary_group = ['relkins@rmi.org']\n",
    "Comms_Group = ['cpede@rmi.org', 'kfrank@rmi.org']\n",
    "HR_Group = ['krogers@rmi.org', 'martha.delmore@rmi.org']\n",
    "Tech_Group = ['bleach@rmi.org']\n",
    "Voyager_Group = ['mmooney@RMI.org', 'mrichard@rmi.org']\n",
    "StratOps_Group = ['shopkins@rmi.org', 'ofuentes@rmi.org']\n",
    "Accounting_Group = ['lmeurs@rmi.org']\n"
   ]
  },
  {
   "cell_type": "code",
   "execution_count": 10,
   "metadata": {},
   "outputs": [
    {
     "data": {
      "text/plain": [
       "' - Aug_2024'"
      ]
     },
     "execution_count": 10,
     "metadata": {},
     "output_type": "execute_result"
    }
   ],
   "source": [
    "DocName+Month"
   ]
  },
  {
   "cell_type": "code",
   "execution_count": 11,
   "metadata": {},
   "outputs": [],
   "source": [
    "#for i in test_group:\n",
    "#        email_attachment(i, 'Carbon-Free Transportation Detail Transactions'+DocName+Month)"
   ]
  },
  {
   "cell_type": "code",
   "execution_count": 12,
   "metadata": {},
   "outputs": [],
   "source": [
    "'''\n",
    "for i in China_group:\n",
    "        email_attachment(i, 'China Detail Transactions'+DocName+Month)\n",
    "\n",
    "for i in Accounting_Group:\n",
    "        email_attachment(i, 'Accounting Detail Transactions'+DocName+Month)\n",
    "\n",
    "for i in D3_group:\n",
    "        email_attachment(i, 'Third Derivative Detail Transactions'+DocName+Month)\n",
    "\n",
    "for i in CFB_group:\n",
    "        email_attachment(i, 'Carbon-Free Buildings Detail Transactions'+DocName+Month)\n",
    "\n",
    "for i in CFM_group:\n",
    "        email_attachment(i, 'Carbon-Free Transportation Detail Transactions'+DocName+Month)\n",
    "\n",
    "\n",
    "        \n",
    "for i in Comms_Group:\n",
    "        email_attachment(i, 'Influence Team Detail Transactions'+DocName+Month)\n",
    "\n",
    "\n",
    "for i in CAI_group:\n",
    "        email_attachment(i, 'Climate Aligned Industries Detail Transactions'+DocName+Month)\n",
    "        \n",
    "for i in CI_group:\n",
    "        email_attachment(i, 'Climate Intelligence Detail Transactions'+DocName+Month)\n",
    "        \n",
    "for i in GS_group:\n",
    "        email_attachment(i, 'Global South Detail Transactions'+DocName+Month)\n",
    "        \n",
    "for i in Finance_group:\n",
    "        email_attachment(i, 'Finance Detail Transactions'+DocName+Month)\n",
    "        \n",
    "for i in India_group:\n",
    "        email_attachment(i, 'India Detail Transactions'+DocName+Month)\n",
    "        \n",
    "for i in SAE_group:\n",
    "        email_attachment(i, 'Strategy Team Detail Transactions'+DocName+Month)\n",
    "\n",
    "for i in UT_group:\n",
    "        email_attachment(i, 'Urban Transformation Detail Transactions'+DocName+Month)\n",
    "        \n",
    "for i in US_group:\n",
    "        email_attachment(i, 'US Detail Transactions'+DocName+Month)\n",
    "        \n",
    "for i in CFE_group:\n",
    "        email_attachment(i, 'Carbon-Free Electricity Detail Transactions'+DocName+Month)\n",
    "        \n",
    "'''\n",
    "        \n",
    "for i in HR_Group:\n",
    "        email_attachment(i, 'People Team Detail Transactions'+DocName+Month)\n",
    "        \n",
    "for i in Tech_Group:\n",
    "        email_attachment(i, 'Tech Team Detail Transactions'+DocName+Month)\n",
    "\n",
    "for i in Dev_group:\n",
    "        email_attachment(i, 'Development Detail Transactions'+DocName+Month)\n",
    "\n",
    "for i in StratOps_Group:\n",
    "        email_attachment(i, 'Strategic Operations Detail Transactions'+DocName+Month)        \n"
   ]
  }
 ],
 "metadata": {
  "kernelspec": {
   "display_name": "Python 3",
   "language": "python",
   "name": "python3"
  },
  "language_info": {
   "codemirror_mode": {
    "name": "ipython",
    "version": 3
   },
   "file_extension": ".py",
   "mimetype": "text/x-python",
   "name": "python",
   "nbconvert_exporter": "python",
   "pygments_lexer": "ipython3",
   "version": "3.8.5"
  }
 },
 "nbformat": 4,
 "nbformat_minor": 5
}
